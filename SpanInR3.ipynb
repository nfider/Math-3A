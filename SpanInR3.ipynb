{
 "cells": [
  {
   "cell_type": "code",
   "execution_count": 1,
   "metadata": {
    "collapsed": true
   },
   "outputs": [
    {
     "data": {
      "text/html": [
       "    <script type=\"text/javascript\">\n",
       "        requirejs([\"https://cdn.plot.ly/plotly-latest.min.js\"], function(p) {\n",
       "            window.Plotly = p\n",
       "        });\n",
       "    </script>\n"
      ]
     },
     "metadata": {},
     "output_type": "display_data"
    },
    {
     "data": {
      "application/vnd.plotly.v1+json": {
       "data": [
        {
         "colorbar": {
          "title": ""
         },
         "hoverinfo": "text",
         "legendgroup": "p",
         "line": {
          "color": "rgba(255, 0, 0, 1.000)",
          "dash": "solid",
          "shape": "linear",
          "width": 4
         },
         "mode": "lines",
         "name": "p",
         "showlegend": true,
         "text": [
          null,
          null
         ],
         "type": "scatter3d",
         "x": [
          0,
          1
         ],
         "xaxis": "x1",
         "y": [
          0,
          -2
         ],
         "yaxis": "y1",
         "z": [
          0,
          -1
         ],
         "zmax": 0.1,
         "zmin": -0.1
        },
        {
         "colorbar": {
          "title": ""
         },
         "hoverinfo": "text",
         "legendgroup": "p endpoint",
         "marker": {
          "color": "rgba(255, 0, 0, 1.000)",
          "line": {
           "color": "rgba(0, 0, 0, 1.000)",
           "width": 1
          },
          "size": 4,
          "symbol": "circle"
         },
         "mode": "markers",
         "name": "p endpoint",
         "showlegend": true,
         "text": [
          null,
          null
         ],
         "type": "scatter3d",
         "x": [
          1,
          1
         ],
         "xaxis": "x1",
         "y": [
          -2,
          -2
         ],
         "yaxis": "y1",
         "z": [
          -1,
          -1
         ],
         "zmax": 0.1,
         "zmin": -0.1
        },
        {
         "colorbar": {
          "title": ""
         },
         "hoverinfo": "text",
         "legendgroup": "q",
         "line": {
          "color": "rgba(128, 0, 128, 1.000)",
          "dash": "solid",
          "shape": "linear",
          "width": 4
         },
         "mode": "lines",
         "name": "q",
         "showlegend": true,
         "text": [
          null,
          null
         ],
         "type": "scatter3d",
         "x": [
          0,
          3
         ],
         "xaxis": "x1",
         "y": [
          0,
          0
         ],
         "yaxis": "y1",
         "z": [
          0,
          1
         ],
         "zmax": 0.1,
         "zmin": -0.1
        },
        {
         "colorbar": {
          "title": ""
         },
         "hoverinfo": "text",
         "legendgroup": "q endpoint",
         "marker": {
          "color": "rgba(128, 0, 128, 1.000)",
          "line": {
           "color": "rgba(0, 0, 0, 1.000)",
           "width": 1
          },
          "size": 4,
          "symbol": "circle"
         },
         "mode": "markers",
         "name": "q endpoint",
         "showlegend": true,
         "text": [
          null,
          null
         ],
         "type": "scatter3d",
         "x": [
          3,
          3
         ],
         "xaxis": "x1",
         "y": [
          0,
          0
         ],
         "yaxis": "y1",
         "z": [
          1,
          1
         ],
         "zmax": 0.1,
         "zmin": -0.1
        },
        {
         "colorbar": {
          "title": ""
         },
         "hoverinfo": "text",
         "legendgroup": "r",
         "line": {
          "color": "rgba(0, 0, 255, 1.000)",
          "dash": "solid",
          "shape": "linear",
          "width": 4
         },
         "mode": "lines",
         "name": "r",
         "showlegend": true,
         "text": [
          null,
          null
         ],
         "type": "scatter3d",
         "x": [
          0,
          -2
         ],
         "xaxis": "x1",
         "y": [
          0,
          1
         ],
         "yaxis": "y1",
         "z": [
          0,
          0
         ],
         "zmax": 0.1,
         "zmin": -0.1
        },
        {
         "colorbar": {
          "title": ""
         },
         "hoverinfo": "text",
         "legendgroup": "r endpoint",
         "marker": {
          "color": "rgba(0, 0, 255, 1.000)",
          "line": {
           "color": "rgba(0, 0, 0, 1.000)",
           "width": 1
          },
          "size": 4,
          "symbol": "circle"
         },
         "mode": "markers",
         "name": "r endpoint",
         "showlegend": true,
         "text": [
          null,
          null
         ],
         "type": "scatter3d",
         "x": [
          -2,
          -2
         ],
         "xaxis": "x1",
         "y": [
          1,
          1
         ],
         "yaxis": "y1",
         "z": [
          0,
          0
         ],
         "zmax": 0.1,
         "zmin": -0.1
        },
        {
         "colorbar": {
          "title": ""
         },
         "hoverinfo": "text",
         "legendgroup": "+z",
         "line": {
          "color": "rgba(0, 0, 0, 1.000)",
          "dash": "solid",
          "shape": "linear",
          "width": 2
         },
         "mode": "lines",
         "name": "+z",
         "showlegend": true,
         "text": [
          null,
          null
         ],
         "type": "scatter3d",
         "x": [
          0,
          0
         ],
         "xaxis": "x1",
         "y": [
          0,
          0
         ],
         "yaxis": "y1",
         "z": [
          0,
          10
         ],
         "zmax": 0.1,
         "zmin": -0.1
        },
        {
         "colorbar": {
          "title": ""
         },
         "hoverinfo": "text",
         "legendgroup": "-z",
         "line": {
          "color": "rgba(128, 128, 128, 1.000)",
          "dash": "solid",
          "shape": "linear",
          "width": 1
         },
         "mode": "lines",
         "name": "-z",
         "showlegend": true,
         "text": [
          null,
          null
         ],
         "type": "scatter3d",
         "x": [
          0,
          0
         ],
         "xaxis": "x1",
         "y": [
          0,
          0
         ],
         "yaxis": "y1",
         "z": [
          0,
          -10
         ],
         "zmax": 0.1,
         "zmin": -0.1
        },
        {
         "colorbar": {
          "title": ""
         },
         "hoverinfo": "text",
         "legendgroup": "+y",
         "line": {
          "color": "rgba(0, 0, 0, 1.000)",
          "dash": "solid",
          "shape": "linear",
          "width": 3
         },
         "mode": "lines",
         "name": "+y",
         "showlegend": true,
         "text": [
          null,
          null
         ],
         "type": "scatter3d",
         "x": [
          0,
          0
         ],
         "xaxis": "x1",
         "y": [
          0,
          10
         ],
         "yaxis": "y1",
         "z": [
          0,
          0
         ],
         "zmax": 0.1,
         "zmin": -0.1
        },
        {
         "colorbar": {
          "title": ""
         },
         "hoverinfo": "text",
         "legendgroup": "-y",
         "line": {
          "color": "rgba(128, 128, 128, 1.000)",
          "dash": "solid",
          "shape": "linear",
          "width": 2
         },
         "mode": "lines",
         "name": "-y",
         "showlegend": true,
         "text": [
          null,
          null
         ],
         "type": "scatter3d",
         "x": [
          0,
          0
         ],
         "xaxis": "x1",
         "y": [
          0,
          -10
         ],
         "yaxis": "y1",
         "z": [
          0,
          0
         ],
         "zmax": 0.1,
         "zmin": -0.1
        },
        {
         "colorbar": {
          "title": ""
         },
         "hoverinfo": "text",
         "legendgroup": "+x",
         "line": {
          "color": "rgba(0, 0, 0, 1.000)",
          "dash": "solid",
          "shape": "linear",
          "width": 3
         },
         "mode": "lines",
         "name": "+x",
         "showlegend": true,
         "text": [
          null,
          null
         ],
         "type": "scatter3d",
         "x": [
          0,
          10
         ],
         "xaxis": "x1",
         "y": [
          0,
          0
         ],
         "yaxis": "y1",
         "z": [
          0,
          0
         ],
         "zmax": 0.1,
         "zmin": -0.1
        },
        {
         "colorbar": {
          "title": ""
         },
         "hoverinfo": "text",
         "legendgroup": "-x",
         "line": {
          "color": "rgba(128, 128, 128, 1.000)",
          "dash": "solid",
          "shape": "linear",
          "width": 2
         },
         "mode": "lines",
         "name": "-x",
         "showlegend": true,
         "text": [
          null,
          null
         ],
         "type": "scatter3d",
         "x": [
          0,
          -10
         ],
         "xaxis": "x1",
         "y": [
          0,
          0
         ],
         "yaxis": "y1",
         "z": [
          0,
          0
         ],
         "zmax": 0.1,
         "zmin": -0.1
        }
       ],
       "layout": {
        "annotations": [
         {
          "font": {
           "color": "rgba(0, 0, 0, 1.000)",
           "family": "sans-serif",
           "size": 20
          },
          "rotation": 0,
          "showarrow": false,
          "text": "Example 2: u,v,w",
          "x": 0.5148148148148148,
          "xanchor": "center",
          "xref": "paper",
          "y": 1,
          "yanchor": "top",
          "yref": "paper"
         }
        ],
        "height": 400,
        "legend": {
         "bgcolor": "rgba(255, 255, 255, 1.000)",
         "bordercolor": "rgba(0, 0, 0, 1.000)",
         "font": {
          "color": "rgba(0, 0, 0, 1.000)",
          "family": "sans-serif",
          "size": 11
         },
         "tracegroupgap": 0,
         "x": 1,
         "y": 1
        },
        "margin": {
         "b": 20,
         "l": 0,
         "r": 0,
         "t": 20
        },
        "paper_bgcolor": "rgba(255, 255, 255, 1.000)",
        "plot_bgcolor": "rgba(255, 255, 255, 1.000)",
        "scene": {
         "camera": {
          "eye": {
           "x": 1.12583302491977,
           "y": -1.9499999999999997,
           "z": 1.3
          }
         },
         "xaxis": {
          "anchor": "y1",
          "domain": [
           0.03619130941965587,
           0.9934383202099738
          ],
          "gridcolor": "rgba(0, 0, 0, 0.100)",
          "gridwidth": 0.5,
          "linecolor": "rgba(0, 0, 0, 1.000)",
          "mirror": false,
          "range": [
           -5.3,
           5.3
          ],
          "showgrid": true,
          "showline": true,
          "showticklabels": true,
          "tickangle": 0,
          "tickcolor": "rgb(0, 0, 0)",
          "tickfont": {
           "color": "rgba(0, 0, 0, 1.000)",
           "family": "sans-serif",
           "size": 11
          },
          "tickmode": "array",
          "ticks": "inside",
          "ticktext": [
           "-4",
           "-2",
           "0",
           "2",
           "4"
          ],
          "tickvals": [
           -4,
           -2,
           0,
           2,
           4
          ],
          "title": "",
          "titlefont": {
           "color": "rgba(0, 0, 0, 1.000)",
           "family": "sans-serif",
           "size": 15
          },
          "type": "-",
          "visible": true,
          "zeroline": false,
          "zerolinecolor": "rgba(0, 0, 0, 1.000)"
         },
         "yaxis": {
          "anchor": "x1",
          "domain": [
           0.03762029746281716,
           0.9415463692038496
          ],
          "gridcolor": "rgba(0, 0, 0, 0.100)",
          "gridwidth": 0.5,
          "linecolor": "rgba(0, 0, 0, 1.000)",
          "mirror": false,
          "range": [
           -5.3,
           5.3
          ],
          "showgrid": true,
          "showline": true,
          "showticklabels": true,
          "tickangle": 0,
          "tickcolor": "rgb(0, 0, 0)",
          "tickfont": {
           "color": "rgba(0, 0, 0, 1.000)",
           "family": "sans-serif",
           "size": 11
          },
          "tickmode": "array",
          "ticks": "inside",
          "ticktext": [
           "-4",
           "-2",
           "0",
           "2",
           "4"
          ],
          "tickvals": [
           -4,
           -2,
           0,
           2,
           4
          ],
          "title": "",
          "titlefont": {
           "color": "rgba(0, 0, 0, 1.000)",
           "family": "sans-serif",
           "size": 15
          },
          "type": "-",
          "visible": true,
          "zeroline": false,
          "zerolinecolor": "rgba(0, 0, 0, 1.000)"
         },
         "zaxis": {
          "gridcolor": "rgba(0, 0, 0, 0.100)",
          "gridwidth": 0.5,
          "linecolor": "rgba(0, 0, 0, 1.000)",
          "mirror": false,
          "range": [
           -5.3,
           5.3
          ],
          "showgrid": true,
          "showline": true,
          "showticklabels": true,
          "tickangle": 0,
          "tickcolor": "rgb(0, 0, 0)",
          "tickfont": {
           "color": "rgba(0, 0, 0, 1.000)",
           "family": "sans-serif",
           "size": 11
          },
          "tickmode": "array",
          "ticks": "inside",
          "ticktext": [
           "-4",
           "-2",
           "0",
           "2",
           "4"
          ],
          "tickvals": [
           -4,
           -2,
           0,
           2,
           4
          ],
          "title": "",
          "titlefont": {
           "color": "rgba(0, 0, 0, 1.000)",
           "family": "sans-serif",
           "size": 15
          },
          "type": "-",
          "visible": true,
          "zeroline": false,
          "zerolinecolor": "rgba(0, 0, 0, 1.000)"
         }
        },
        "showlegend": true,
        "width": 600
       }
      },
      "text/html": [
       "    <div id=\"9de62546-d351-4ed5-b10d-a848bca131fa\" style=\"width:600px;height:400px;\"></div>\n",
       "    <script>\n",
       "    PLOT = document.getElementById('9de62546-d351-4ed5-b10d-a848bca131fa');\n",
       "    Plotly.plot(PLOT, [{\"xaxis\":\"x1\",\"colorbar\":{\"title\":\"\"},\"yaxis\":\"y1\",\"text\":[null,null],\"x\":[0,1],\"showlegend\":true,\"mode\":\"lines\",\"name\":\"p\",\"zmin\":-0.1,\"legendgroup\":\"p\",\"z\":[0,-1],\"zmax\":0.1,\"line\":{\"color\":\"rgba(255, 0, 0, 1.000)\",\"shape\":\"linear\",\"dash\":\"solid\",\"width\":4},\"y\":[0,-2],\"type\":\"scatter3d\",\"hoverinfo\":\"text\"},{\"xaxis\":\"x1\",\"colorbar\":{\"title\":\"\"},\"yaxis\":\"y1\",\"text\":[null,null],\"x\":[1,1],\"showlegend\":true,\"mode\":\"markers\",\"name\":\"p endpoint\",\"zmin\":-0.1,\"legendgroup\":\"p endpoint\",\"z\":[-1,-1],\"marker\":{\"symbol\":\"circle\",\"color\":\"rgba(255, 0, 0, 1.000)\",\"line\":{\"color\":\"rgba(0, 0, 0, 1.000)\",\"width\":1},\"size\":4},\"zmax\":0.1,\"y\":[-2,-2],\"type\":\"scatter3d\",\"hoverinfo\":\"text\"},{\"xaxis\":\"x1\",\"colorbar\":{\"title\":\"\"},\"yaxis\":\"y1\",\"text\":[null,null],\"x\":[0,3],\"showlegend\":true,\"mode\":\"lines\",\"name\":\"q\",\"zmin\":-0.1,\"legendgroup\":\"q\",\"z\":[0,1],\"zmax\":0.1,\"line\":{\"color\":\"rgba(128, 0, 128, 1.000)\",\"shape\":\"linear\",\"dash\":\"solid\",\"width\":4},\"y\":[0,0],\"type\":\"scatter3d\",\"hoverinfo\":\"text\"},{\"xaxis\":\"x1\",\"colorbar\":{\"title\":\"\"},\"yaxis\":\"y1\",\"text\":[null,null],\"x\":[3,3],\"showlegend\":true,\"mode\":\"markers\",\"name\":\"q endpoint\",\"zmin\":-0.1,\"legendgroup\":\"q endpoint\",\"z\":[1,1],\"marker\":{\"symbol\":\"circle\",\"color\":\"rgba(128, 0, 128, 1.000)\",\"line\":{\"color\":\"rgba(0, 0, 0, 1.000)\",\"width\":1},\"size\":4},\"zmax\":0.1,\"y\":[0,0],\"type\":\"scatter3d\",\"hoverinfo\":\"text\"},{\"xaxis\":\"x1\",\"colorbar\":{\"title\":\"\"},\"yaxis\":\"y1\",\"text\":[null,null],\"x\":[0,-2],\"showlegend\":true,\"mode\":\"lines\",\"name\":\"r\",\"zmin\":-0.1,\"legendgroup\":\"r\",\"z\":[0,0],\"zmax\":0.1,\"line\":{\"color\":\"rgba(0, 0, 255, 1.000)\",\"shape\":\"linear\",\"dash\":\"solid\",\"width\":4},\"y\":[0,1],\"type\":\"scatter3d\",\"hoverinfo\":\"text\"},{\"xaxis\":\"x1\",\"colorbar\":{\"title\":\"\"},\"yaxis\":\"y1\",\"text\":[null,null],\"x\":[-2,-2],\"showlegend\":true,\"mode\":\"markers\",\"name\":\"r endpoint\",\"zmin\":-0.1,\"legendgroup\":\"r endpoint\",\"z\":[0,0],\"marker\":{\"symbol\":\"circle\",\"color\":\"rgba(0, 0, 255, 1.000)\",\"line\":{\"color\":\"rgba(0, 0, 0, 1.000)\",\"width\":1},\"size\":4},\"zmax\":0.1,\"y\":[1,1],\"type\":\"scatter3d\",\"hoverinfo\":\"text\"},{\"xaxis\":\"x1\",\"colorbar\":{\"title\":\"\"},\"yaxis\":\"y1\",\"text\":[null,null],\"x\":[0,0],\"showlegend\":true,\"mode\":\"lines\",\"name\":\"+z\",\"zmin\":-0.1,\"legendgroup\":\"+z\",\"z\":[0,10],\"zmax\":0.1,\"line\":{\"color\":\"rgba(0, 0, 0, 1.000)\",\"shape\":\"linear\",\"dash\":\"solid\",\"width\":2},\"y\":[0,0],\"type\":\"scatter3d\",\"hoverinfo\":\"text\"},{\"xaxis\":\"x1\",\"colorbar\":{\"title\":\"\"},\"yaxis\":\"y1\",\"text\":[null,null],\"x\":[0,0],\"showlegend\":true,\"mode\":\"lines\",\"name\":\"-z\",\"zmin\":-0.1,\"legendgroup\":\"-z\",\"z\":[0,-10],\"zmax\":0.1,\"line\":{\"color\":\"rgba(128, 128, 128, 1.000)\",\"shape\":\"linear\",\"dash\":\"solid\",\"width\":1},\"y\":[0,0],\"type\":\"scatter3d\",\"hoverinfo\":\"text\"},{\"xaxis\":\"x1\",\"colorbar\":{\"title\":\"\"},\"yaxis\":\"y1\",\"text\":[null,null],\"x\":[0,0],\"showlegend\":true,\"mode\":\"lines\",\"name\":\"+y\",\"zmin\":-0.1,\"legendgroup\":\"+y\",\"z\":[0,0],\"zmax\":0.1,\"line\":{\"color\":\"rgba(0, 0, 0, 1.000)\",\"shape\":\"linear\",\"dash\":\"solid\",\"width\":3},\"y\":[0,10],\"type\":\"scatter3d\",\"hoverinfo\":\"text\"},{\"xaxis\":\"x1\",\"colorbar\":{\"title\":\"\"},\"yaxis\":\"y1\",\"text\":[null,null],\"x\":[0,0],\"showlegend\":true,\"mode\":\"lines\",\"name\":\"-y\",\"zmin\":-0.1,\"legendgroup\":\"-y\",\"z\":[0,0],\"zmax\":0.1,\"line\":{\"color\":\"rgba(128, 128, 128, 1.000)\",\"shape\":\"linear\",\"dash\":\"solid\",\"width\":2},\"y\":[0,-10],\"type\":\"scatter3d\",\"hoverinfo\":\"text\"},{\"xaxis\":\"x1\",\"colorbar\":{\"title\":\"\"},\"yaxis\":\"y1\",\"text\":[null,null],\"x\":[0,10],\"showlegend\":true,\"mode\":\"lines\",\"name\":\"+x\",\"zmin\":-0.1,\"legendgroup\":\"+x\",\"z\":[0,0],\"zmax\":0.1,\"line\":{\"color\":\"rgba(0, 0, 0, 1.000)\",\"shape\":\"linear\",\"dash\":\"solid\",\"width\":3},\"y\":[0,0],\"type\":\"scatter3d\",\"hoverinfo\":\"text\"},{\"xaxis\":\"x1\",\"colorbar\":{\"title\":\"\"},\"yaxis\":\"y1\",\"text\":[null,null],\"x\":[0,-10],\"showlegend\":true,\"mode\":\"lines\",\"name\":\"-x\",\"zmin\":-0.1,\"legendgroup\":\"-x\",\"z\":[0,0],\"zmax\":0.1,\"line\":{\"color\":\"rgba(128, 128, 128, 1.000)\",\"shape\":\"linear\",\"dash\":\"solid\",\"width\":2},\"y\":[0,0],\"type\":\"scatter3d\",\"hoverinfo\":\"text\"}], {\"showlegend\":true,\"paper_bgcolor\":\"rgba(255, 255, 255, 1.000)\",\"annotations\":[{\"yanchor\":\"top\",\"xanchor\":\"center\",\"rotation\":-0.0,\"y\":1.0,\"font\":{\"color\":\"rgba(0, 0, 0, 1.000)\",\"family\":\"sans-serif\",\"size\":20},\"yref\":\"paper\",\"showarrow\":false,\"text\":\"Example 2: u,v,w\",\"xref\":\"paper\",\"x\":0.5148148148148148}],\"height\":400,\"margin\":{\"l\":0,\"b\":20,\"r\":0,\"t\":20},\"plot_bgcolor\":\"rgba(255, 255, 255, 1.000)\",\"scene\":{\"camera\":{\"eye\":{\"y\":-1.9499999999999997,\"z\":1.3,\"x\":1.12583302491977}},\"xaxis\":{\"showticklabels\":true,\"gridwidth\":0.5,\"tickvals\":[-4.0,-2.0,0.0,2.0,4.0],\"visible\":true,\"ticks\":\"inside\",\"range\":[-5.3,5.3],\"domain\":[0.03619130941965587,0.9934383202099738],\"tickmode\":\"array\",\"linecolor\":\"rgba(0, 0, 0, 1.000)\",\"showgrid\":true,\"title\":\"\",\"mirror\":false,\"tickangle\":0,\"showline\":true,\"gridcolor\":\"rgba(0, 0, 0, 0.100)\",\"titlefont\":{\"color\":\"rgba(0, 0, 0, 1.000)\",\"family\":\"sans-serif\",\"size\":15},\"tickcolor\":\"rgb(0, 0, 0)\",\"ticktext\":[\"-4\",\"-2\",\"0\",\"2\",\"4\"],\"zeroline\":false,\"type\":\"-\",\"tickfont\":{\"color\":\"rgba(0, 0, 0, 1.000)\",\"family\":\"sans-serif\",\"size\":11},\"zerolinecolor\":\"rgba(0, 0, 0, 1.000)\",\"anchor\":\"y1\"},\"yaxis\":{\"showticklabels\":true,\"gridwidth\":0.5,\"tickvals\":[-4.0,-2.0,0.0,2.0,4.0],\"visible\":true,\"ticks\":\"inside\",\"range\":[-5.3,5.3],\"domain\":[0.03762029746281716,0.9415463692038496],\"tickmode\":\"array\",\"linecolor\":\"rgba(0, 0, 0, 1.000)\",\"showgrid\":true,\"title\":\"\",\"mirror\":false,\"tickangle\":0,\"showline\":true,\"gridcolor\":\"rgba(0, 0, 0, 0.100)\",\"titlefont\":{\"color\":\"rgba(0, 0, 0, 1.000)\",\"family\":\"sans-serif\",\"size\":15},\"tickcolor\":\"rgb(0, 0, 0)\",\"ticktext\":[\"-4\",\"-2\",\"0\",\"2\",\"4\"],\"zeroline\":false,\"type\":\"-\",\"tickfont\":{\"color\":\"rgba(0, 0, 0, 1.000)\",\"family\":\"sans-serif\",\"size\":11},\"zerolinecolor\":\"rgba(0, 0, 0, 1.000)\",\"anchor\":\"x1\"},\"zaxis\":{\"showticklabels\":true,\"gridwidth\":0.5,\"tickvals\":[-4.0,-2.0,0.0,2.0,4.0],\"visible\":true,\"ticks\":\"inside\",\"range\":[-5.3,5.3],\"tickmode\":\"array\",\"linecolor\":\"rgba(0, 0, 0, 1.000)\",\"showgrid\":true,\"title\":\"\",\"mirror\":false,\"tickangle\":0,\"showline\":true,\"gridcolor\":\"rgba(0, 0, 0, 0.100)\",\"titlefont\":{\"color\":\"rgba(0, 0, 0, 1.000)\",\"family\":\"sans-serif\",\"size\":15},\"tickcolor\":\"rgb(0, 0, 0)\",\"ticktext\":[\"-4\",\"-2\",\"0\",\"2\",\"4\"],\"zeroline\":false,\"type\":\"-\",\"tickfont\":{\"color\":\"rgba(0, 0, 0, 1.000)\",\"family\":\"sans-serif\",\"size\":11},\"zerolinecolor\":\"rgba(0, 0, 0, 1.000)\"}},\"legend\":{\"tracegroupgap\":0,\"bordercolor\":\"rgba(0, 0, 0, 1.000)\",\"bgcolor\":\"rgba(255, 255, 255, 1.000)\",\"font\":{\"color\":\"rgba(0, 0, 0, 1.000)\",\"family\":\"sans-serif\",\"size\":11},\"y\":1.0,\"x\":1.0},\"width\":600});\n",
       "    </script>\n"
      ]
     },
     "execution_count": 1,
     "metadata": {},
     "output_type": "execute_result"
    }
   ],
   "source": []
  },
  {
   "cell_type": "code",
   "execution_count": 10,
   "metadata": {
    "collapsed": true
   },
   "outputs": [
    {
     "data": {
      "application/vnd.plotly.v1+json": {
       "data": [
        {
         "colorbar": {
          "title": ""
         },
         "hoverinfo": "text",
         "legendgroup": "-2 p",
         "line": {
          "color": "rgba(255, 0, 0, 1.000)",
          "dash": "solid",
          "shape": "linear",
          "width": 4
         },
         "mode": "lines",
         "name": "-2 p",
         "showlegend": true,
         "text": [
          null,
          null
         ],
         "type": "scatter3d",
         "x": [
          0,
          -2
         ],
         "xaxis": "x1",
         "y": [
          0,
          4
         ],
         "yaxis": "y1",
         "z": [
          0,
          2
         ],
         "zmax": 0.1,
         "zmin": -0.1
        },
        {
         "colorbar": {
          "title": ""
         },
         "hoverinfo": "text",
         "legendgroup": "-1 q",
         "line": {
          "color": "rgba(128, 0, 128, 1.000)",
          "dash": "solid",
          "shape": "linear",
          "width": 4
         },
         "mode": "lines",
         "name": "-1 q",
         "showlegend": true,
         "text": [
          null,
          null
         ],
         "type": "scatter3d",
         "x": [
          -2,
          -5
         ],
         "xaxis": "x1",
         "y": [
          4,
          4
         ],
         "yaxis": "y1",
         "z": [
          2,
          1
         ],
         "zmax": 0.1,
         "zmin": -0.1
        },
        {
         "colorbar": {
          "title": ""
         },
         "hoverinfo": "text",
         "legendgroup": "0 r",
         "line": {
          "color": "rgba(0, 0, 255, 1.000)",
          "dash": "solid",
          "shape": "linear",
          "width": 4
         },
         "mode": "lines",
         "name": "0 r",
         "showlegend": true,
         "text": [
          null,
          null
         ],
         "type": "scatter3d",
         "x": [
          -5,
          -5
         ],
         "xaxis": "x1",
         "y": [
          4,
          4
         ],
         "yaxis": "y1",
         "z": [
          1,
          1
         ],
         "zmax": 0.1,
         "zmin": -0.1
        },
        {
         "colorbar": {
          "title": ""
         },
         "hoverinfo": "text",
         "legendgroup": "r endpoint",
         "marker": {
          "color": "rgba(0, 0, 0, 1.000)",
          "line": {
           "color": "rgba(0, 0, 0, 1.000)",
           "width": 1
          },
          "size": 2,
          "symbol": "circle"
         },
         "mode": "markers",
         "name": "r endpoint",
         "showlegend": true,
         "text": [
          null,
          null
         ],
         "type": "scatter3d",
         "x": [
          -5,
          -5
         ],
         "xaxis": "x1",
         "y": [
          4,
          4
         ],
         "yaxis": "y1",
         "z": [
          1,
          1
         ],
         "zmax": 0.1,
         "zmin": -0.1
        },
        {
         "colorbar": {
          "title": ""
         },
         "hoverinfo": "text",
         "legendgroup": "+z",
         "line": {
          "color": "rgba(0, 0, 0, 1.000)",
          "dash": "solid",
          "shape": "linear",
          "width": 2
         },
         "mode": "lines",
         "name": "+z",
         "showlegend": true,
         "text": [
          null,
          null
         ],
         "type": "scatter3d",
         "x": [
          0,
          0
         ],
         "xaxis": "x1",
         "y": [
          0,
          0
         ],
         "yaxis": "y1",
         "z": [
          0,
          20
         ],
         "zmax": 0.1,
         "zmin": -0.1
        },
        {
         "colorbar": {
          "title": ""
         },
         "hoverinfo": "text",
         "legendgroup": "-z",
         "line": {
          "color": "rgba(128, 128, 128, 1.000)",
          "dash": "solid",
          "shape": "linear",
          "width": 1
         },
         "mode": "lines",
         "name": "-z",
         "showlegend": true,
         "text": [
          null,
          null
         ],
         "type": "scatter3d",
         "x": [
          0,
          0
         ],
         "xaxis": "x1",
         "y": [
          0,
          0
         ],
         "yaxis": "y1",
         "z": [
          0,
          -20
         ],
         "zmax": 0.1,
         "zmin": -0.1
        },
        {
         "colorbar": {
          "title": ""
         },
         "hoverinfo": "text",
         "legendgroup": "+y",
         "line": {
          "color": "rgba(0, 0, 0, 1.000)",
          "dash": "solid",
          "shape": "linear",
          "width": 3
         },
         "mode": "lines",
         "name": "+y",
         "showlegend": true,
         "text": [
          null,
          null
         ],
         "type": "scatter3d",
         "x": [
          0,
          0
         ],
         "xaxis": "x1",
         "y": [
          0,
          20
         ],
         "yaxis": "y1",
         "z": [
          0,
          0
         ],
         "zmax": 0.1,
         "zmin": -0.1
        },
        {
         "colorbar": {
          "title": ""
         },
         "hoverinfo": "text",
         "legendgroup": "-y",
         "line": {
          "color": "rgba(128, 128, 128, 1.000)",
          "dash": "solid",
          "shape": "linear",
          "width": 2
         },
         "mode": "lines",
         "name": "-y",
         "showlegend": true,
         "text": [
          null,
          null
         ],
         "type": "scatter3d",
         "x": [
          0,
          0
         ],
         "xaxis": "x1",
         "y": [
          0,
          -20
         ],
         "yaxis": "y1",
         "z": [
          0,
          0
         ],
         "zmax": 0.1,
         "zmin": -0.1
        },
        {
         "colorbar": {
          "title": ""
         },
         "hoverinfo": "text",
         "legendgroup": "+x",
         "line": {
          "color": "rgba(0, 0, 0, 1.000)",
          "dash": "solid",
          "shape": "linear",
          "width": 3
         },
         "mode": "lines",
         "name": "+x",
         "showlegend": true,
         "text": [
          null,
          null
         ],
         "type": "scatter3d",
         "x": [
          0,
          20
         ],
         "xaxis": "x1",
         "y": [
          0,
          0
         ],
         "yaxis": "y1",
         "z": [
          0,
          0
         ],
         "zmax": 0.1,
         "zmin": -0.1
        },
        {
         "colorbar": {
          "title": ""
         },
         "hoverinfo": "text",
         "legendgroup": "-x",
         "line": {
          "color": "rgba(128, 128, 128, 1.000)",
          "dash": "solid",
          "shape": "linear",
          "width": 2
         },
         "mode": "lines",
         "name": "-x",
         "showlegend": true,
         "text": [
          null,
          null
         ],
         "type": "scatter3d",
         "x": [
          0,
          -20
         ],
         "xaxis": "x1",
         "y": [
          0,
          0
         ],
         "yaxis": "y1",
         "z": [
          0,
          0
         ],
         "zmax": 0.1,
         "zmin": -0.1
        }
       ],
       "layout": {
        "annotations": [
         {
          "font": {
           "color": "rgba(0, 0, 0, 1.000)",
           "family": "sans-serif",
           "size": 20
          },
          "rotation": 0,
          "showarrow": false,
          "text": "Example 3: p,q,r",
          "x": 0.5222222222222223,
          "xanchor": "center",
          "xref": "paper",
          "y": 1,
          "yanchor": "top",
          "yref": "paper"
         }
        ],
        "height": 400,
        "legend": {
         "bgcolor": "rgba(255, 255, 255, 1.000)",
         "bordercolor": "rgba(0, 0, 0, 1.000)",
         "font": {
          "color": "rgba(0, 0, 0, 1.000)",
          "family": "sans-serif",
          "size": 11
         },
         "tracegroupgap": 0,
         "x": 1,
         "y": 1
        },
        "margin": {
         "b": 20,
         "l": 0,
         "r": 0,
         "t": 20
        },
        "paper_bgcolor": "rgba(255, 255, 255, 1.000)",
        "plot_bgcolor": "rgba(255, 255, 255, 1.000)",
        "scene": {
         "camera": {
          "eye": {
           "x": 1.12583302491977,
           "y": -1.9499999999999997,
           "z": 1.3
          }
         },
         "xaxis": {
          "anchor": "y1",
          "domain": [
           0.05100612423447069,
           0.9934383202099737
          ],
          "gridcolor": "rgba(0, 0, 0, 0.100)",
          "gridwidth": 0.5,
          "linecolor": "rgba(0, 0, 0, 1.000)",
          "mirror": false,
          "range": [
           -15.9,
           15.9
          ],
          "showgrid": true,
          "showline": true,
          "showticklabels": true,
          "tickangle": 0,
          "tickcolor": "rgb(0, 0, 0)",
          "tickfont": {
           "color": "rgba(0, 0, 0, 1.000)",
           "family": "sans-serif",
           "size": 11
          },
          "tickmode": "array",
          "ticks": "inside",
          "ticktext": [
           "-15",
           "-10",
           "-5",
           "0",
           "5",
           "10",
           "15"
          ],
          "tickvals": [
           -15,
           -10,
           -5,
           0,
           5,
           10,
           15
          ],
          "title": "",
          "titlefont": {
           "color": "rgba(0, 0, 0, 1.000)",
           "family": "sans-serif",
           "size": 15
          },
          "type": "-",
          "visible": true,
          "zeroline": false,
          "zerolinecolor": "rgba(0, 0, 0, 1.000)"
         },
         "yaxis": {
          "anchor": "x1",
          "domain": [
           0.03762029746281716,
           0.9415463692038496
          ],
          "gridcolor": "rgba(0, 0, 0, 0.100)",
          "gridwidth": 0.5,
          "linecolor": "rgba(0, 0, 0, 1.000)",
          "mirror": false,
          "range": [
           -15.9,
           15.9
          ],
          "showgrid": true,
          "showline": true,
          "showticklabels": true,
          "tickangle": 0,
          "tickcolor": "rgb(0, 0, 0)",
          "tickfont": {
           "color": "rgba(0, 0, 0, 1.000)",
           "family": "sans-serif",
           "size": 11
          },
          "tickmode": "array",
          "ticks": "inside",
          "ticktext": [
           "-15",
           "-10",
           "-5",
           "0",
           "5",
           "10",
           "15"
          ],
          "tickvals": [
           -15,
           -10,
           -5,
           0,
           5,
           10,
           15
          ],
          "title": "",
          "titlefont": {
           "color": "rgba(0, 0, 0, 1.000)",
           "family": "sans-serif",
           "size": 15
          },
          "type": "-",
          "visible": true,
          "zeroline": false,
          "zerolinecolor": "rgba(0, 0, 0, 1.000)"
         },
         "zaxis": {
          "gridcolor": "rgba(0, 0, 0, 0.100)",
          "gridwidth": 0.5,
          "linecolor": "rgba(0, 0, 0, 1.000)",
          "mirror": false,
          "range": [
           -15.9,
           15.9
          ],
          "showgrid": true,
          "showline": true,
          "showticklabels": true,
          "tickangle": 0,
          "tickcolor": "rgb(0, 0, 0)",
          "tickfont": {
           "color": "rgba(0, 0, 0, 1.000)",
           "family": "sans-serif",
           "size": 11
          },
          "tickmode": "array",
          "ticks": "inside",
          "ticktext": [
           "-15",
           "-10",
           "-5",
           "0",
           "5",
           "10",
           "15"
          ],
          "tickvals": [
           -15,
           -10,
           -5,
           0,
           5,
           10,
           15
          ],
          "title": "",
          "titlefont": {
           "color": "rgba(0, 0, 0, 1.000)",
           "family": "sans-serif",
           "size": 15
          },
          "type": "-",
          "visible": true,
          "zeroline": false,
          "zerolinecolor": "rgba(0, 0, 0, 1.000)"
         }
        },
        "showlegend": true,
        "width": 600
       }
      },
      "text/html": [
       "    <div id=\"2160f890-9020-4412-9b76-972958269673\" style=\"width:600px;height:400px;\"></div>\n",
       "    <script>\n",
       "    PLOT = document.getElementById('2160f890-9020-4412-9b76-972958269673');\n",
       "    Plotly.plot(PLOT, [{\"xaxis\":\"x1\",\"colorbar\":{\"title\":\"\"},\"yaxis\":\"y1\",\"text\":[null,null],\"x\":[0,-2],\"showlegend\":true,\"mode\":\"lines\",\"name\":\"-2 p\",\"zmin\":-0.1,\"legendgroup\":\"-2 p\",\"z\":[0,2],\"zmax\":0.1,\"line\":{\"color\":\"rgba(255, 0, 0, 1.000)\",\"shape\":\"linear\",\"dash\":\"solid\",\"width\":4},\"y\":[0,4],\"type\":\"scatter3d\",\"hoverinfo\":\"text\"},{\"xaxis\":\"x1\",\"colorbar\":{\"title\":\"\"},\"yaxis\":\"y1\",\"text\":[null,null],\"x\":[-2,-5],\"showlegend\":true,\"mode\":\"lines\",\"name\":\"-1 q\",\"zmin\":-0.1,\"legendgroup\":\"-1 q\",\"z\":[2,1],\"zmax\":0.1,\"line\":{\"color\":\"rgba(128, 0, 128, 1.000)\",\"shape\":\"linear\",\"dash\":\"solid\",\"width\":4},\"y\":[4,4],\"type\":\"scatter3d\",\"hoverinfo\":\"text\"},{\"xaxis\":\"x1\",\"colorbar\":{\"title\":\"\"},\"yaxis\":\"y1\",\"text\":[null,null],\"x\":[-5,-5],\"showlegend\":true,\"mode\":\"lines\",\"name\":\"0 r\",\"zmin\":-0.1,\"legendgroup\":\"0 r\",\"z\":[1,1],\"zmax\":0.1,\"line\":{\"color\":\"rgba(0, 0, 255, 1.000)\",\"shape\":\"linear\",\"dash\":\"solid\",\"width\":4},\"y\":[4,4],\"type\":\"scatter3d\",\"hoverinfo\":\"text\"},{\"xaxis\":\"x1\",\"colorbar\":{\"title\":\"\"},\"yaxis\":\"y1\",\"text\":[null,null],\"x\":[-5,-5],\"showlegend\":true,\"mode\":\"markers\",\"name\":\"r endpoint\",\"zmin\":-0.1,\"legendgroup\":\"r endpoint\",\"z\":[1,1],\"marker\":{\"symbol\":\"circle\",\"color\":\"rgba(0, 0, 0, 1.000)\",\"line\":{\"color\":\"rgba(0, 0, 0, 1.000)\",\"width\":1},\"size\":2},\"zmax\":0.1,\"y\":[4,4],\"type\":\"scatter3d\",\"hoverinfo\":\"text\"},{\"xaxis\":\"x1\",\"colorbar\":{\"title\":\"\"},\"yaxis\":\"y1\",\"text\":[null,null],\"x\":[0,0],\"showlegend\":true,\"mode\":\"lines\",\"name\":\"+z\",\"zmin\":-0.1,\"legendgroup\":\"+z\",\"z\":[0,20],\"zmax\":0.1,\"line\":{\"color\":\"rgba(0, 0, 0, 1.000)\",\"shape\":\"linear\",\"dash\":\"solid\",\"width\":2},\"y\":[0,0],\"type\":\"scatter3d\",\"hoverinfo\":\"text\"},{\"xaxis\":\"x1\",\"colorbar\":{\"title\":\"\"},\"yaxis\":\"y1\",\"text\":[null,null],\"x\":[0,0],\"showlegend\":true,\"mode\":\"lines\",\"name\":\"-z\",\"zmin\":-0.1,\"legendgroup\":\"-z\",\"z\":[0,-20],\"zmax\":0.1,\"line\":{\"color\":\"rgba(128, 128, 128, 1.000)\",\"shape\":\"linear\",\"dash\":\"solid\",\"width\":1},\"y\":[0,0],\"type\":\"scatter3d\",\"hoverinfo\":\"text\"},{\"xaxis\":\"x1\",\"colorbar\":{\"title\":\"\"},\"yaxis\":\"y1\",\"text\":[null,null],\"x\":[0,0],\"showlegend\":true,\"mode\":\"lines\",\"name\":\"+y\",\"zmin\":-0.1,\"legendgroup\":\"+y\",\"z\":[0,0],\"zmax\":0.1,\"line\":{\"color\":\"rgba(0, 0, 0, 1.000)\",\"shape\":\"linear\",\"dash\":\"solid\",\"width\":3},\"y\":[0,20],\"type\":\"scatter3d\",\"hoverinfo\":\"text\"},{\"xaxis\":\"x1\",\"colorbar\":{\"title\":\"\"},\"yaxis\":\"y1\",\"text\":[null,null],\"x\":[0,0],\"showlegend\":true,\"mode\":\"lines\",\"name\":\"-y\",\"zmin\":-0.1,\"legendgroup\":\"-y\",\"z\":[0,0],\"zmax\":0.1,\"line\":{\"color\":\"rgba(128, 128, 128, 1.000)\",\"shape\":\"linear\",\"dash\":\"solid\",\"width\":2},\"y\":[0,-20],\"type\":\"scatter3d\",\"hoverinfo\":\"text\"},{\"xaxis\":\"x1\",\"colorbar\":{\"title\":\"\"},\"yaxis\":\"y1\",\"text\":[null,null],\"x\":[0,20],\"showlegend\":true,\"mode\":\"lines\",\"name\":\"+x\",\"zmin\":-0.1,\"legendgroup\":\"+x\",\"z\":[0,0],\"zmax\":0.1,\"line\":{\"color\":\"rgba(0, 0, 0, 1.000)\",\"shape\":\"linear\",\"dash\":\"solid\",\"width\":3},\"y\":[0,0],\"type\":\"scatter3d\",\"hoverinfo\":\"text\"},{\"xaxis\":\"x1\",\"colorbar\":{\"title\":\"\"},\"yaxis\":\"y1\",\"text\":[null,null],\"x\":[0,-20],\"showlegend\":true,\"mode\":\"lines\",\"name\":\"-x\",\"zmin\":-0.1,\"legendgroup\":\"-x\",\"z\":[0,0],\"zmax\":0.1,\"line\":{\"color\":\"rgba(128, 128, 128, 1.000)\",\"shape\":\"linear\",\"dash\":\"solid\",\"width\":2},\"y\":[0,0],\"type\":\"scatter3d\",\"hoverinfo\":\"text\"}], {\"showlegend\":true,\"paper_bgcolor\":\"rgba(255, 255, 255, 1.000)\",\"annotations\":[{\"yanchor\":\"top\",\"xanchor\":\"center\",\"rotation\":-0.0,\"y\":1.0,\"font\":{\"color\":\"rgba(0, 0, 0, 1.000)\",\"family\":\"sans-serif\",\"size\":20},\"yref\":\"paper\",\"showarrow\":false,\"text\":\"Example 3: p,q,r\",\"xref\":\"paper\",\"x\":0.5222222222222223}],\"height\":400,\"margin\":{\"l\":0,\"b\":20,\"r\":0,\"t\":20},\"plot_bgcolor\":\"rgba(255, 255, 255, 1.000)\",\"scene\":{\"camera\":{\"eye\":{\"y\":-1.9499999999999997,\"z\":1.3,\"x\":1.12583302491977}},\"xaxis\":{\"showticklabels\":true,\"gridwidth\":0.5,\"tickvals\":[-15.0,-10.0,-5.0,0.0,5.0,10.0,15.0],\"visible\":true,\"ticks\":\"inside\",\"range\":[-15.9,15.9],\"domain\":[0.05100612423447069,0.9934383202099737],\"tickmode\":\"array\",\"linecolor\":\"rgba(0, 0, 0, 1.000)\",\"showgrid\":true,\"title\":\"\",\"mirror\":false,\"tickangle\":0,\"showline\":true,\"gridcolor\":\"rgba(0, 0, 0, 0.100)\",\"titlefont\":{\"color\":\"rgba(0, 0, 0, 1.000)\",\"family\":\"sans-serif\",\"size\":15},\"tickcolor\":\"rgb(0, 0, 0)\",\"ticktext\":[\"-15\",\"-10\",\"-5\",\"0\",\"5\",\"10\",\"15\"],\"zeroline\":false,\"type\":\"-\",\"tickfont\":{\"color\":\"rgba(0, 0, 0, 1.000)\",\"family\":\"sans-serif\",\"size\":11},\"zerolinecolor\":\"rgba(0, 0, 0, 1.000)\",\"anchor\":\"y1\"},\"yaxis\":{\"showticklabels\":true,\"gridwidth\":0.5,\"tickvals\":[-15.0,-10.0,-5.0,0.0,5.0,10.0,15.0],\"visible\":true,\"ticks\":\"inside\",\"range\":[-15.9,15.9],\"domain\":[0.03762029746281716,0.9415463692038496],\"tickmode\":\"array\",\"linecolor\":\"rgba(0, 0, 0, 1.000)\",\"showgrid\":true,\"title\":\"\",\"mirror\":false,\"tickangle\":0,\"showline\":true,\"gridcolor\":\"rgba(0, 0, 0, 0.100)\",\"titlefont\":{\"color\":\"rgba(0, 0, 0, 1.000)\",\"family\":\"sans-serif\",\"size\":15},\"tickcolor\":\"rgb(0, 0, 0)\",\"ticktext\":[\"-15\",\"-10\",\"-5\",\"0\",\"5\",\"10\",\"15\"],\"zeroline\":false,\"type\":\"-\",\"tickfont\":{\"color\":\"rgba(0, 0, 0, 1.000)\",\"family\":\"sans-serif\",\"size\":11},\"zerolinecolor\":\"rgba(0, 0, 0, 1.000)\",\"anchor\":\"x1\"},\"zaxis\":{\"showticklabels\":true,\"gridwidth\":0.5,\"tickvals\":[-15.0,-10.0,-5.0,0.0,5.0,10.0,15.0],\"visible\":true,\"ticks\":\"inside\",\"range\":[-15.9,15.9],\"tickmode\":\"array\",\"linecolor\":\"rgba(0, 0, 0, 1.000)\",\"showgrid\":true,\"title\":\"\",\"mirror\":false,\"tickangle\":0,\"showline\":true,\"gridcolor\":\"rgba(0, 0, 0, 0.100)\",\"titlefont\":{\"color\":\"rgba(0, 0, 0, 1.000)\",\"family\":\"sans-serif\",\"size\":15},\"tickcolor\":\"rgb(0, 0, 0)\",\"ticktext\":[\"-15\",\"-10\",\"-5\",\"0\",\"5\",\"10\",\"15\"],\"zeroline\":false,\"type\":\"-\",\"tickfont\":{\"color\":\"rgba(0, 0, 0, 1.000)\",\"family\":\"sans-serif\",\"size\":11},\"zerolinecolor\":\"rgba(0, 0, 0, 1.000)\"}},\"legend\":{\"tracegroupgap\":0,\"bordercolor\":\"rgba(0, 0, 0, 1.000)\",\"bgcolor\":\"rgba(255, 255, 255, 1.000)\",\"font\":{\"color\":\"rgba(0, 0, 0, 1.000)\",\"family\":\"sans-serif\",\"size\":11},\"y\":1.0,\"x\":1.0},\"width\":600});\n",
       "    </script>\n"
      ]
     },
     "execution_count": 10,
     "metadata": {},
     "output_type": "execute_result"
    }
   ],
   "source": []
  },
  {
   "cell_type": "code",
   "execution_count": 12,
   "metadata": {},
   "outputs": [
    {
     "data": {
      "application/vnd.plotly.v1+json": {
       "data": [
        {
         "colorbar": {
          "title": ""
         },
         "hoverinfo": "text",
         "legendgroup": "y1",
         "marker": {
          "color": "rgba(0, 0, 0, 1.000)",
          "line": {
           "color": "rgba(0, 0, 0, 1.000)",
           "width": 1
          },
          "size": 2,
          "symbol": "circle"
         },
         "mode": "markers",
         "name": "y1",
         "showlegend": true,
         "text": [
          null,
          null
         ],
         "type": "scatter3d",
         "x": [
          6,
          6
         ],
         "xaxis": "x1",
         "y": [
          -6,
          -6
         ],
         "yaxis": "y1",
         "z": [
          -8,
          -8
         ],
         "zmax": 0.1,
         "zmin": -0.1
        },
        {
         "colorbar": {
          "title": ""
         },
         "hoverinfo": "text",
         "legendgroup": "y2",
         "marker": {
          "color": "rgba(0, 0, 0, 1.000)",
          "line": {
           "color": "rgba(0, 0, 0, 1.000)",
           "width": 1
          },
          "size": 2,
          "symbol": "circle"
         },
         "mode": "markers",
         "name": "y2",
         "showlegend": true,
         "text": [
          null,
          null
         ],
         "type": "scatter3d",
         "x": [
          -12,
          -12
         ],
         "xaxis": "x1",
         "y": [
          0,
          0
         ],
         "yaxis": "y1",
         "z": [
          0,
          0
         ],
         "zmax": 0.1,
         "zmin": -0.1
        },
        {
         "colorbar": {
          "title": ""
         },
         "hoverinfo": "text",
         "legendgroup": "y3",
         "marker": {
          "color": "rgba(0, 0, 0, 1.000)",
          "line": {
           "color": "rgba(0, 0, 0, 1.000)",
           "width": 1
          },
          "size": 2,
          "symbol": "circle"
         },
         "mode": "markers",
         "name": "y3",
         "showlegend": true,
         "text": [
          null,
          null
         ],
         "type": "scatter3d",
         "x": [
          -1,
          -1
         ],
         "xaxis": "x1",
         "y": [
          11,
          11
         ],
         "yaxis": "y1",
         "z": [
          6,
          6
         ],
         "zmax": 0.1,
         "zmin": -0.1
        },
        {
         "colorbar": {
          "title": ""
         },
         "hoverinfo": "text",
         "legendgroup": "y4",
         "marker": {
          "color": "rgba(0, 0, 0, 1.000)",
          "line": {
           "color": "rgba(0, 0, 0, 1.000)",
           "width": 1
          },
          "size": 2,
          "symbol": "circle"
         },
         "mode": "markers",
         "name": "y4",
         "showlegend": true,
         "text": [
          null,
          null
         ],
         "type": "scatter3d",
         "x": [
          -7,
          -7
         ],
         "xaxis": "x1",
         "y": [
          8,
          8
         ],
         "yaxis": "y1",
         "z": [
          5,
          5
         ],
         "zmax": 0.1,
         "zmin": -0.1
        },
        {
         "colorbar": {
          "title": ""
         },
         "hoverinfo": "text",
         "legendgroup": "y5",
         "marker": {
          "color": "rgba(0, 0, 0, 1.000)",
          "line": {
           "color": "rgba(0, 0, 0, 1.000)",
           "width": 1
          },
          "size": 2,
          "symbol": "circle"
         },
         "mode": "markers",
         "name": "y5",
         "showlegend": true,
         "text": [
          null,
          null
         ],
         "type": "scatter3d",
         "x": [
          -8,
          -8
         ],
         "xaxis": "x1",
         "y": [
          1,
          1
         ],
         "yaxis": "y1",
         "z": [
          -1,
          -1
         ],
         "zmax": 0.1,
         "zmin": -0.1
        },
        {
         "colorbar": {
          "title": ""
         },
         "hoverinfo": "text",
         "legendgroup": "y6",
         "marker": {
          "color": "rgba(0, 0, 0, 1.000)",
          "line": {
           "color": "rgba(0, 0, 0, 1.000)",
           "width": 1
          },
          "size": 2,
          "symbol": "circle"
         },
         "mode": "markers",
         "name": "y6",
         "showlegend": true,
         "text": [
          null,
          null
         ],
         "type": "scatter3d",
         "x": [
          -1,
          -1
         ],
         "xaxis": "x1",
         "y": [
          -4,
          -4
         ],
         "yaxis": "y1",
         "z": [
          -9,
          -9
         ],
         "zmax": 0.1,
         "zmin": -0.1
        },
        {
         "colorbar": {
          "title": ""
         },
         "hoverinfo": "text",
         "legendgroup": "y7",
         "marker": {
          "color": "rgba(0, 0, 0, 1.000)",
          "line": {
           "color": "rgba(0, 0, 0, 1.000)",
           "width": 1
          },
          "size": 2,
          "symbol": "circle"
         },
         "mode": "markers",
         "name": "y7",
         "showlegend": true,
         "text": [
          null,
          null
         ],
         "type": "scatter3d",
         "x": [
          9,
          9
         ],
         "xaxis": "x1",
         "y": [
          -6,
          -6
         ],
         "yaxis": "y1",
         "z": [
          3,
          3
         ],
         "zmax": 0.1,
         "zmin": -0.1
        },
        {
         "colorbar": {
          "title": ""
         },
         "hoverinfo": "text",
         "legendgroup": "y8",
         "marker": {
          "color": "rgba(0, 0, 0, 1.000)",
          "line": {
           "color": "rgba(0, 0, 0, 1.000)",
           "width": 1
          },
          "size": 2,
          "symbol": "circle"
         },
         "mode": "markers",
         "name": "y8",
         "showlegend": true,
         "text": [
          null,
          null
         ],
         "type": "scatter3d",
         "x": [
          -1,
          -1
         ],
         "xaxis": "x1",
         "y": [
          -4,
          -4
         ],
         "yaxis": "y1",
         "z": [
          -1,
          -1
         ],
         "zmax": 0.1,
         "zmin": -0.1
        },
        {
         "colorbar": {
          "title": ""
         },
         "hoverinfo": "text",
         "legendgroup": "y9",
         "marker": {
          "color": "rgba(0, 0, 0, 1.000)",
          "line": {
           "color": "rgba(0, 0, 0, 1.000)",
           "width": 1
          },
          "size": 2,
          "symbol": "circle"
         },
         "mode": "markers",
         "name": "y9",
         "showlegend": true,
         "text": [
          null,
          null
         ],
         "type": "scatter3d",
         "x": [
          1,
          1
         ],
         "xaxis": "x1",
         "y": [
          -8,
          -8
         ],
         "yaxis": "y1",
         "z": [
          -7,
          -7
         ],
         "zmax": 0.1,
         "zmin": -0.1
        },
        {
         "colorbar": {
          "title": ""
         },
         "hoverinfo": "text",
         "legendgroup": "y10",
         "marker": {
          "color": "rgba(0, 0, 0, 1.000)",
          "line": {
           "color": "rgba(0, 0, 0, 1.000)",
           "width": 1
          },
          "size": 2,
          "symbol": "circle"
         },
         "mode": "markers",
         "name": "y10",
         "showlegend": true,
         "text": [
          null,
          null
         ],
         "type": "scatter3d",
         "x": [
          -10,
          -10
         ],
         "xaxis": "x1",
         "y": [
          5,
          5
         ],
         "yaxis": "y1",
         "z": [
          1,
          1
         ],
         "zmax": 0.1,
         "zmin": -0.1
        },
        {
         "colorbar": {
          "title": ""
         },
         "hoverinfo": "text",
         "legendgroup": "y11",
         "marker": {
          "color": "rgba(0, 0, 0, 1.000)",
          "line": {
           "color": "rgba(0, 0, 0, 1.000)",
           "width": 1
          },
          "size": 2,
          "symbol": "circle"
         },
         "mode": "markers",
         "name": "y11",
         "showlegend": true,
         "text": [
          null,
          null
         ],
         "type": "scatter3d",
         "x": [
          2,
          2
         ],
         "xaxis": "x1",
         "y": [
          11,
          11
         ],
         "yaxis": "y1",
         "z": [
          11,
          11
         ],
         "zmax": 0.1,
         "zmin": -0.1
        },
        {
         "colorbar": {
          "title": ""
         },
         "hoverinfo": "text",
         "legendgroup": "y12",
         "marker": {
          "color": "rgba(0, 0, 0, 1.000)",
          "line": {
           "color": "rgba(0, 0, 0, 1.000)",
           "width": 1
          },
          "size": 2,
          "symbol": "circle"
         },
         "mode": "markers",
         "name": "y12",
         "showlegend": true,
         "text": [
          null,
          null
         ],
         "type": "scatter3d",
         "x": [
          4,
          4
         ],
         "xaxis": "x1",
         "y": [
          4,
          4
         ],
         "yaxis": "y1",
         "z": [
          -2,
          -2
         ],
         "zmax": 0.1,
         "zmin": -0.1
        },
        {
         "colorbar": {
          "title": ""
         },
         "hoverinfo": "text",
         "legendgroup": "y13",
         "marker": {
          "color": "rgba(0, 0, 0, 1.000)",
          "line": {
           "color": "rgba(0, 0, 0, 1.000)",
           "width": 1
          },
          "size": 2,
          "symbol": "circle"
         },
         "mode": "markers",
         "name": "y13",
         "showlegend": true,
         "text": [
          null,
          null
         ],
         "type": "scatter3d",
         "x": [
          10,
          10
         ],
         "xaxis": "x1",
         "y": [
          4,
          4
         ],
         "yaxis": "y1",
         "z": [
          0,
          0
         ],
         "zmax": 0.1,
         "zmin": -0.1
        },
        {
         "colorbar": {
          "title": ""
         },
         "hoverinfo": "text",
         "legendgroup": "y14",
         "marker": {
          "color": "rgba(0, 0, 0, 1.000)",
          "line": {
           "color": "rgba(0, 0, 0, 1.000)",
           "width": 1
          },
          "size": 2,
          "symbol": "circle"
         },
         "mode": "markers",
         "name": "y14",
         "showlegend": true,
         "text": [
          null,
          null
         ],
         "type": "scatter3d",
         "x": [
          -5,
          -5
         ],
         "xaxis": "x1",
         "y": [
          -8,
          -8
         ],
         "yaxis": "y1",
         "z": [
          -9,
          -9
         ],
         "zmax": 0.1,
         "zmin": -0.1
        },
        {
         "colorbar": {
          "title": ""
         },
         "hoverinfo": "text",
         "legendgroup": "y15",
         "marker": {
          "color": "rgba(0, 0, 0, 1.000)",
          "line": {
           "color": "rgba(0, 0, 0, 1.000)",
           "width": 1
          },
          "size": 2,
          "symbol": "circle"
         },
         "mode": "markers",
         "name": "y15",
         "showlegend": true,
         "text": [
          null,
          null
         ],
         "type": "scatter3d",
         "x": [
          -9,
          -9
         ],
         "xaxis": "x1",
         "y": [
          0,
          0
         ],
         "yaxis": "y1",
         "z": [
          -3,
          -3
         ],
         "zmax": 0.1,
         "zmin": -0.1
        },
        {
         "colorbar": {
          "title": ""
         },
         "hoverinfo": "text",
         "legendgroup": "y16",
         "marker": {
          "color": "rgba(0, 0, 0, 1.000)",
          "line": {
           "color": "rgba(0, 0, 0, 1.000)",
           "width": 1
          },
          "size": 2,
          "symbol": "circle"
         },
         "mode": "markers",
         "name": "y16",
         "showlegend": true,
         "text": [
          null,
          null
         ],
         "type": "scatter3d",
         "x": [
          -6,
          -6
         ],
         "xaxis": "x1",
         "y": [
          -6,
          -6
         ],
         "yaxis": "y1",
         "z": [
          -4,
          -4
         ],
         "zmax": 0.1,
         "zmin": -0.1
        },
        {
         "colorbar": {
          "title": ""
         },
         "hoverinfo": "text",
         "legendgroup": "y17",
         "marker": {
          "color": "rgba(0, 0, 0, 1.000)",
          "line": {
           "color": "rgba(0, 0, 0, 1.000)",
           "width": 1
          },
          "size": 2,
          "symbol": "circle"
         },
         "mode": "markers",
         "name": "y17",
         "showlegend": true,
         "text": [
          null,
          null
         ],
         "type": "scatter3d",
         "x": [
          1,
          1
         ],
         "xaxis": "x1",
         "y": [
          -5,
          -5
         ],
         "yaxis": "y1",
         "z": [
          -4,
          -4
         ],
         "zmax": 0.1,
         "zmin": -0.1
        },
        {
         "colorbar": {
          "title": ""
         },
         "hoverinfo": "text",
         "legendgroup": "y18",
         "marker": {
          "color": "rgba(0, 0, 0, 1.000)",
          "line": {
           "color": "rgba(0, 0, 0, 1.000)",
           "width": 1
          },
          "size": 2,
          "symbol": "circle"
         },
         "mode": "markers",
         "name": "y18",
         "showlegend": true,
         "text": [
          null,
          null
         ],
         "type": "scatter3d",
         "x": [
          1,
          1
         ],
         "xaxis": "x1",
         "y": [
          4,
          4
         ],
         "yaxis": "y1",
         "z": [
          -3,
          -3
         ],
         "zmax": 0.1,
         "zmin": -0.1
        },
        {
         "colorbar": {
          "title": ""
         },
         "hoverinfo": "text",
         "legendgroup": "y19",
         "marker": {
          "color": "rgba(0, 0, 0, 1.000)",
          "line": {
           "color": "rgba(0, 0, 0, 1.000)",
           "width": 1
          },
          "size": 2,
          "symbol": "circle"
         },
         "mode": "markers",
         "name": "y19",
         "showlegend": true,
         "text": [
          null,
          null
         ],
         "type": "scatter3d",
         "x": [
          -3,
          -3
         ],
         "xaxis": "x1",
         "y": [
          -9,
          -9
         ],
         "yaxis": "y1",
         "z": [
          -10,
          -10
         ],
         "zmax": 0.1,
         "zmin": -0.1
        },
        {
         "colorbar": {
          "title": ""
         },
         "hoverinfo": "text",
         "legendgroup": "y20",
         "marker": {
          "color": "rgba(0, 0, 0, 1.000)",
          "line": {
           "color": "rgba(0, 0, 0, 1.000)",
           "width": 1
          },
          "size": 2,
          "symbol": "circle"
         },
         "mode": "markers",
         "name": "y20",
         "showlegend": true,
         "text": [
          null,
          null
         ],
         "type": "scatter3d",
         "x": [
          2,
          2
         ],
         "xaxis": "x1",
         "y": [
          -4,
          -4
         ],
         "yaxis": "y1",
         "z": [
          -2,
          -2
         ],
         "zmax": 0.1,
         "zmin": -0.1
        },
        {
         "colorbar": {
          "title": ""
         },
         "hoverinfo": "text",
         "legendgroup": "y21",
         "marker": {
          "color": "rgba(0, 0, 0, 1.000)",
          "line": {
           "color": "rgba(0, 0, 0, 1.000)",
           "width": 1
          },
          "size": 2,
          "symbol": "circle"
         },
         "mode": "markers",
         "name": "y21",
         "showlegend": true,
         "text": [
          null,
          null
         ],
         "type": "scatter3d",
         "x": [
          -7,
          -7
         ],
         "xaxis": "x1",
         "y": [
          2,
          2
         ],
         "yaxis": "y1",
         "z": [
          -3,
          -3
         ],
         "zmax": 0.1,
         "zmin": -0.1
        },
        {
         "colorbar": {
          "title": ""
         },
         "hoverinfo": "text",
         "legendgroup": "y22",
         "marker": {
          "color": "rgba(0, 0, 0, 1.000)",
          "line": {
           "color": "rgba(0, 0, 0, 1.000)",
           "width": 1
          },
          "size": 2,
          "symbol": "circle"
         },
         "mode": "markers",
         "name": "y22",
         "showlegend": true,
         "text": [
          null,
          null
         ],
         "type": "scatter3d",
         "x": [
          -8,
          -8
         ],
         "xaxis": "x1",
         "y": [
          4,
          4
         ],
         "yaxis": "y1",
         "z": [
          0,
          0
         ],
         "zmax": 0.1,
         "zmin": -0.1
        },
        {
         "colorbar": {
          "title": ""
         },
         "hoverinfo": "text",
         "legendgroup": "y23",
         "marker": {
          "color": "rgba(0, 0, 0, 1.000)",
          "line": {
           "color": "rgba(0, 0, 0, 1.000)",
           "width": 1
          },
          "size": 2,
          "symbol": "circle"
         },
         "mode": "markers",
         "name": "y23",
         "showlegend": true,
         "text": [
          null,
          null
         ],
         "type": "scatter3d",
         "x": [
          -5,
          -5
         ],
         "xaxis": "x1",
         "y": [
          -5,
          -5
         ],
         "yaxis": "y1",
         "z": [
          -8,
          -8
         ],
         "zmax": 0.1,
         "zmin": -0.1
        },
        {
         "colorbar": {
          "title": ""
         },
         "hoverinfo": "text",
         "legendgroup": "y24",
         "marker": {
          "color": "rgba(0, 0, 0, 1.000)",
          "line": {
           "color": "rgba(0, 0, 0, 1.000)",
           "width": 1
          },
          "size": 2,
          "symbol": "circle"
         },
         "mode": "markers",
         "name": "y24",
         "showlegend": true,
         "text": [
          null,
          null
         ],
         "type": "scatter3d",
         "x": [
          1,
          1
         ],
         "xaxis": "x1",
         "y": [
          -2,
          -2
         ],
         "yaxis": "y1",
         "z": [
          -3,
          -3
         ],
         "zmax": 0.1,
         "zmin": -0.1
        },
        {
         "colorbar": {
          "title": ""
         },
         "hoverinfo": "text",
         "legendgroup": "y25",
         "marker": {
          "color": "rgba(0, 0, 0, 1.000)",
          "line": {
           "color": "rgba(0, 0, 0, 1.000)",
           "width": 1
          },
          "size": 2,
          "symbol": "circle"
         },
         "mode": "markers",
         "name": "y25",
         "showlegend": true,
         "text": [
          null,
          null
         ],
         "type": "scatter3d",
         "x": [
          -10,
          -10
         ],
         "xaxis": "x1",
         "y": [
          2,
          2
         ],
         "yaxis": "y1",
         "z": [
          -2,
          -2
         ],
         "zmax": 0.1,
         "zmin": -0.1
        },
        {
         "colorbar": {
          "title": ""
         },
         "hoverinfo": "text",
         "legendgroup": "y26",
         "marker": {
          "color": "rgba(0, 0, 0, 1.000)",
          "line": {
           "color": "rgba(0, 0, 0, 1.000)",
           "width": 1
          },
          "size": 2,
          "symbol": "circle"
         },
         "mode": "markers",
         "name": "y26",
         "showlegend": true,
         "text": [
          null,
          null
         ],
         "type": "scatter3d",
         "x": [
          5,
          5
         ],
         "xaxis": "x1",
         "y": [
          -1,
          -1
         ],
         "yaxis": "y1",
         "z": [
          -4,
          -4
         ],
         "zmax": 0.1,
         "zmin": -0.1
        },
        {
         "colorbar": {
          "title": ""
         },
         "hoverinfo": "text",
         "legendgroup": "y27",
         "marker": {
          "color": "rgba(0, 0, 0, 1.000)",
          "line": {
           "color": "rgba(0, 0, 0, 1.000)",
           "width": 1
          },
          "size": 2,
          "symbol": "circle"
         },
         "mode": "markers",
         "name": "y27",
         "showlegend": true,
         "text": [
          null,
          null
         ],
         "type": "scatter3d",
         "x": [
          2,
          2
         ],
         "xaxis": "x1",
         "y": [
          5,
          5
         ],
         "yaxis": "y1",
         "z": [
          9,
          9
         ],
         "zmax": 0.1,
         "zmin": -0.1
        },
        {
         "colorbar": {
          "title": ""
         },
         "hoverinfo": "text",
         "legendgroup": "y28",
         "marker": {
          "color": "rgba(0, 0, 0, 1.000)",
          "line": {
           "color": "rgba(0, 0, 0, 1.000)",
           "width": 1
          },
          "size": 2,
          "symbol": "circle"
         },
         "mode": "markers",
         "name": "y28",
         "showlegend": true,
         "text": [
          null,
          null
         ],
         "type": "scatter3d",
         "x": [
          -5,
          -5
         ],
         "xaxis": "x1",
         "y": [
          4,
          4
         ],
         "yaxis": "y1",
         "z": [
          -3,
          -3
         ],
         "zmax": 0.1,
         "zmin": -0.1
        },
        {
         "colorbar": {
          "title": ""
         },
         "hoverinfo": "text",
         "legendgroup": "y29",
         "marker": {
          "color": "rgba(0, 0, 0, 1.000)",
          "line": {
           "color": "rgba(0, 0, 0, 1.000)",
           "width": 1
          },
          "size": 2,
          "symbol": "circle"
         },
         "mode": "markers",
         "name": "y29",
         "showlegend": true,
         "text": [
          null,
          null
         ],
         "type": "scatter3d",
         "x": [
          2,
          2
         ],
         "xaxis": "x1",
         "y": [
          -10,
          -10
         ],
         "yaxis": "y1",
         "z": [
          -10,
          -10
         ],
         "zmax": 0.1,
         "zmin": -0.1
        },
        {
         "colorbar": {
          "title": ""
         },
         "hoverinfo": "text",
         "legendgroup": "y30",
         "marker": {
          "color": "rgba(0, 0, 0, 1.000)",
          "line": {
           "color": "rgba(0, 0, 0, 1.000)",
           "width": 1
          },
          "size": 2,
          "symbol": "circle"
         },
         "mode": "markers",
         "name": "y30",
         "showlegend": true,
         "text": [
          null,
          null
         ],
         "type": "scatter3d",
         "x": [
          8,
          8
         ],
         "xaxis": "x1",
         "y": [
          -1,
          -1
         ],
         "yaxis": "y1",
         "z": [
          3,
          3
         ],
         "zmax": 0.1,
         "zmin": -0.1
        },
        {
         "colorbar": {
          "title": ""
         },
         "hoverinfo": "text",
         "legendgroup": "y31",
         "marker": {
          "color": "rgba(0, 0, 0, 1.000)",
          "line": {
           "color": "rgba(0, 0, 0, 1.000)",
           "width": 1
          },
          "size": 2,
          "symbol": "circle"
         },
         "mode": "markers",
         "name": "y31",
         "showlegend": true,
         "text": [
          null,
          null
         ],
         "type": "scatter3d",
         "x": [
          -9,
          -9
         ],
         "xaxis": "x1",
         "y": [
          12,
          12
         ],
         "yaxis": "y1",
         "z": [
          9,
          9
         ],
         "zmax": 0.1,
         "zmin": -0.1
        },
        {
         "colorbar": {
          "title": ""
         },
         "hoverinfo": "text",
         "legendgroup": "y32",
         "marker": {
          "color": "rgba(0, 0, 0, 1.000)",
          "line": {
           "color": "rgba(0, 0, 0, 1.000)",
           "width": 1
          },
          "size": 2,
          "symbol": "circle"
         },
         "mode": "markers",
         "name": "y32",
         "showlegend": true,
         "text": [
          null,
          null
         ],
         "type": "scatter3d",
         "x": [
          -6,
          -6
         ],
         "xaxis": "x1",
         "y": [
          0,
          0
         ],
         "yaxis": "y1",
         "z": [
          2,
          2
         ],
         "zmax": 0.1,
         "zmin": -0.1
        },
        {
         "colorbar": {
          "title": ""
         },
         "hoverinfo": "text",
         "legendgroup": "y33",
         "marker": {
          "color": "rgba(0, 0, 0, 1.000)",
          "line": {
           "color": "rgba(0, 0, 0, 1.000)",
           "width": 1
          },
          "size": 2,
          "symbol": "circle"
         },
         "mode": "markers",
         "name": "y33",
         "showlegend": true,
         "text": [
          null,
          null
         ],
         "type": "scatter3d",
         "x": [
          -11,
          -11
         ],
         "xaxis": "x1",
         "y": [
          10,
          10
         ],
         "yaxis": "y1",
         "z": [
          9,
          9
         ],
         "zmax": 0.1,
         "zmin": -0.1
        },
        {
         "colorbar": {
          "title": ""
         },
         "hoverinfo": "text",
         "legendgroup": "y34",
         "marker": {
          "color": "rgba(0, 0, 0, 1.000)",
          "line": {
           "color": "rgba(0, 0, 0, 1.000)",
           "width": 1
          },
          "size": 2,
          "symbol": "circle"
         },
         "mode": "markers",
         "name": "y34",
         "showlegend": true,
         "text": [
          null,
          null
         ],
         "type": "scatter3d",
         "x": [
          -2,
          -2
         ],
         "xaxis": "x1",
         "y": [
          -5,
          -5
         ],
         "yaxis": "y1",
         "z": [
          -7,
          -7
         ],
         "zmax": 0.1,
         "zmin": -0.1
        },
        {
         "colorbar": {
          "title": ""
         },
         "hoverinfo": "text",
         "legendgroup": "y35",
         "marker": {
          "color": "rgba(0, 0, 0, 1.000)",
          "line": {
           "color": "rgba(0, 0, 0, 1.000)",
           "width": 1
          },
          "size": 2,
          "symbol": "circle"
         },
         "mode": "markers",
         "name": "y35",
         "showlegend": true,
         "text": [
          null,
          null
         ],
         "type": "scatter3d",
         "x": [
          1,
          1
         ],
         "xaxis": "x1",
         "y": [
          10,
          10
         ],
         "yaxis": "y1",
         "z": [
          5,
          5
         ],
         "zmax": 0.1,
         "zmin": -0.1
        },
        {
         "colorbar": {
          "title": ""
         },
         "hoverinfo": "text",
         "legendgroup": "y36",
         "marker": {
          "color": "rgba(0, 0, 0, 1.000)",
          "line": {
           "color": "rgba(0, 0, 0, 1.000)",
           "width": 1
          },
          "size": 2,
          "symbol": "circle"
         },
         "mode": "markers",
         "name": "y36",
         "showlegend": true,
         "text": [
          null,
          null
         ],
         "type": "scatter3d",
         "x": [
          8,
          8
         ],
         "xaxis": "x1",
         "y": [
          -4,
          -4
         ],
         "yaxis": "y1",
         "z": [
          -2,
          -2
         ],
         "zmax": 0.1,
         "zmin": -0.1
        },
        {
         "colorbar": {
          "title": ""
         },
         "hoverinfo": "text",
         "legendgroup": "y37",
         "marker": {
          "color": "rgba(0, 0, 0, 1.000)",
          "line": {
           "color": "rgba(0, 0, 0, 1.000)",
           "width": 1
          },
          "size": 2,
          "symbol": "circle"
         },
         "mode": "markers",
         "name": "y37",
         "showlegend": true,
         "text": [
          null,
          null
         ],
         "type": "scatter3d",
         "x": [
          -2,
          -2
         ],
         "xaxis": "x1",
         "y": [
          -8,
          -8
         ],
         "yaxis": "y1",
         "z": [
          -2,
          -2
         ],
         "zmax": 0.1,
         "zmin": -0.1
        },
        {
         "colorbar": {
          "title": ""
         },
         "hoverinfo": "text",
         "legendgroup": "y38",
         "marker": {
          "color": "rgba(0, 0, 0, 1.000)",
          "line": {
           "color": "rgba(0, 0, 0, 1.000)",
           "width": 1
          },
          "size": 2,
          "symbol": "circle"
         },
         "mode": "markers",
         "name": "y38",
         "showlegend": true,
         "text": [
          null,
          null
         ],
         "type": "scatter3d",
         "x": [
          11,
          11
         ],
         "xaxis": "x1",
         "y": [
          2,
          2
         ],
         "yaxis": "y1",
         "z": [
          5,
          5
         ],
         "zmax": 0.1,
         "zmin": -0.1
        },
        {
         "colorbar": {
          "title": ""
         },
         "hoverinfo": "text",
         "legendgroup": "y39",
         "marker": {
          "color": "rgba(0, 0, 0, 1.000)",
          "line": {
           "color": "rgba(0, 0, 0, 1.000)",
           "width": 1
          },
          "size": 2,
          "symbol": "circle"
         },
         "mode": "markers",
         "name": "y39",
         "showlegend": true,
         "text": [
          null,
          null
         ],
         "type": "scatter3d",
         "x": [
          -6,
          -6
         ],
         "xaxis": "x1",
         "y": [
          -12,
          -12
         ],
         "yaxis": "y1",
         "z": [
          -10,
          -10
         ],
         "zmax": 0.1,
         "zmin": -0.1
        },
        {
         "colorbar": {
          "title": ""
         },
         "hoverinfo": "text",
         "legendgroup": "y40",
         "marker": {
          "color": "rgba(0, 0, 0, 1.000)",
          "line": {
           "color": "rgba(0, 0, 0, 1.000)",
           "width": 1
          },
          "size": 2,
          "symbol": "circle"
         },
         "mode": "markers",
         "name": "y40",
         "showlegend": true,
         "text": [
          null,
          null
         ],
         "type": "scatter3d",
         "x": [
          -5,
          -5
         ],
         "xaxis": "x1",
         "y": [
          -2,
          -2
         ],
         "yaxis": "y1",
         "z": [
          -5,
          -5
         ],
         "zmax": 0.1,
         "zmin": -0.1
        },
        {
         "colorbar": {
          "title": ""
         },
         "hoverinfo": "text",
         "legendgroup": "y41",
         "marker": {
          "color": "rgba(0, 0, 0, 1.000)",
          "line": {
           "color": "rgba(0, 0, 0, 1.000)",
           "width": 1
          },
          "size": 2,
          "symbol": "circle"
         },
         "mode": "markers",
         "name": "y41",
         "showlegend": true,
         "text": [
          null,
          null
         ],
         "type": "scatter3d",
         "x": [
          -5,
          -5
         ],
         "xaxis": "x1",
         "y": [
          -2,
          -2
         ],
         "yaxis": "y1",
         "z": [
          -1,
          -1
         ],
         "zmax": 0.1,
         "zmin": -0.1
        },
        {
         "colorbar": {
          "title": ""
         },
         "hoverinfo": "text",
         "legendgroup": "y42",
         "marker": {
          "color": "rgba(0, 0, 0, 1.000)",
          "line": {
           "color": "rgba(0, 0, 0, 1.000)",
           "width": 1
          },
          "size": 2,
          "symbol": "circle"
         },
         "mode": "markers",
         "name": "y42",
         "showlegend": true,
         "text": [
          null,
          null
         ],
         "type": "scatter3d",
         "x": [
          -14,
          -14
         ],
         "xaxis": "x1",
         "y": [
          -5,
          -5
         ],
         "yaxis": "y1",
         "z": [
          -3,
          -3
         ],
         "zmax": 0.1,
         "zmin": -0.1
        },
        {
         "colorbar": {
          "title": ""
         },
         "hoverinfo": "text",
         "legendgroup": "y43",
         "marker": {
          "color": "rgba(0, 0, 0, 1.000)",
          "line": {
           "color": "rgba(0, 0, 0, 1.000)",
           "width": 1
          },
          "size": 2,
          "symbol": "circle"
         },
         "mode": "markers",
         "name": "y43",
         "showlegend": true,
         "text": [
          null,
          null
         ],
         "type": "scatter3d",
         "x": [
          2,
          2
         ],
         "xaxis": "x1",
         "y": [
          14,
          14
         ],
         "yaxis": "y1",
         "z": [
          12,
          12
         ],
         "zmax": 0.1,
         "zmin": -0.1
        },
        {
         "colorbar": {
          "title": ""
         },
         "hoverinfo": "text",
         "legendgroup": "y44",
         "marker": {
          "color": "rgba(0, 0, 0, 1.000)",
          "line": {
           "color": "rgba(0, 0, 0, 1.000)",
           "width": 1
          },
          "size": 2,
          "symbol": "circle"
         },
         "mode": "markers",
         "name": "y44",
         "showlegend": true,
         "text": [
          null,
          null
         ],
         "type": "scatter3d",
         "x": [
          -2,
          -2
         ],
         "xaxis": "x1",
         "y": [
          -5,
          -5
         ],
         "yaxis": "y1",
         "z": [
          -9,
          -9
         ],
         "zmax": 0.1,
         "zmin": -0.1
        },
        {
         "colorbar": {
          "title": ""
         },
         "hoverinfo": "text",
         "legendgroup": "y45",
         "marker": {
          "color": "rgba(0, 0, 0, 1.000)",
          "line": {
           "color": "rgba(0, 0, 0, 1.000)",
           "width": 1
          },
          "size": 2,
          "symbol": "circle"
         },
         "mode": "markers",
         "name": "y45",
         "showlegend": true,
         "text": [
          null,
          null
         ],
         "type": "scatter3d",
         "x": [
          5,
          5
         ],
         "xaxis": "x1",
         "y": [
          -4,
          -4
         ],
         "yaxis": "y1",
         "z": [
          -5,
          -5
         ],
         "zmax": 0.1,
         "zmin": -0.1
        },
        {
         "colorbar": {
          "title": ""
         },
         "hoverinfo": "text",
         "legendgroup": "y46",
         "marker": {
          "color": "rgba(0, 0, 0, 1.000)",
          "line": {
           "color": "rgba(0, 0, 0, 1.000)",
           "width": 1
          },
          "size": 2,
          "symbol": "circle"
         },
         "mode": "markers",
         "name": "y46",
         "showlegend": true,
         "text": [
          null,
          null
         ],
         "type": "scatter3d",
         "x": [
          -6,
          -6
         ],
         "xaxis": "x1",
         "y": [
          -3,
          -3
         ],
         "yaxis": "y1",
         "z": [
          -3,
          -3
         ],
         "zmax": 0.1,
         "zmin": -0.1
        },
        {
         "colorbar": {
          "title": ""
         },
         "hoverinfo": "text",
         "legendgroup": "y47",
         "marker": {
          "color": "rgba(0, 0, 0, 1.000)",
          "line": {
           "color": "rgba(0, 0, 0, 1.000)",
           "width": 1
          },
          "size": 2,
          "symbol": "circle"
         },
         "mode": "markers",
         "name": "y47",
         "showlegend": true,
         "text": [
          null,
          null
         ],
         "type": "scatter3d",
         "x": [
          9,
          9
         ],
         "xaxis": "x1",
         "y": [
          -9,
          -9
         ],
         "yaxis": "y1",
         "z": [
          -6,
          -6
         ],
         "zmax": 0.1,
         "zmin": -0.1
        },
        {
         "colorbar": {
          "title": ""
         },
         "hoverinfo": "text",
         "legendgroup": "y48",
         "marker": {
          "color": "rgba(0, 0, 0, 1.000)",
          "line": {
           "color": "rgba(0, 0, 0, 1.000)",
           "width": 1
          },
          "size": 2,
          "symbol": "circle"
         },
         "mode": "markers",
         "name": "y48",
         "showlegend": true,
         "text": [
          null,
          null
         ],
         "type": "scatter3d",
         "x": [
          -11,
          -11
         ],
         "xaxis": "x1",
         "y": [
          10,
          10
         ],
         "yaxis": "y1",
         "z": [
          7,
          7
         ],
         "zmax": 0.1,
         "zmin": -0.1
        },
        {
         "colorbar": {
          "title": ""
         },
         "hoverinfo": "text",
         "legendgroup": "y49",
         "marker": {
          "color": "rgba(0, 0, 0, 1.000)",
          "line": {
           "color": "rgba(0, 0, 0, 1.000)",
           "width": 1
          },
          "size": 2,
          "symbol": "circle"
         },
         "mode": "markers",
         "name": "y49",
         "showlegend": true,
         "text": [
          null,
          null
         ],
         "type": "scatter3d",
         "x": [
          5,
          5
         ],
         "xaxis": "x1",
         "y": [
          11,
          11
         ],
         "yaxis": "y1",
         "z": [
          8,
          8
         ],
         "zmax": 0.1,
         "zmin": -0.1
        },
        {
         "colorbar": {
          "title": ""
         },
         "hoverinfo": "text",
         "legendgroup": "y50",
         "marker": {
          "color": "rgba(0, 0, 0, 1.000)",
          "line": {
           "color": "rgba(0, 0, 0, 1.000)",
           "width": 1
          },
          "size": 2,
          "symbol": "circle"
         },
         "mode": "markers",
         "name": "y50",
         "showlegend": true,
         "text": [
          null,
          null
         ],
         "type": "scatter3d",
         "x": [
          9,
          9
         ],
         "xaxis": "x1",
         "y": [
          -6,
          -6
         ],
         "yaxis": "y1",
         "z": [
          1,
          1
         ],
         "zmax": 0.1,
         "zmin": -0.1
        },
        {
         "colorbar": {
          "title": ""
         },
         "hoverinfo": "text",
         "legendgroup": "y51",
         "marker": {
          "color": "rgba(0, 0, 0, 1.000)",
          "line": {
           "color": "rgba(0, 0, 0, 1.000)",
           "width": 1
          },
          "size": 2,
          "symbol": "circle"
         },
         "mode": "markers",
         "name": "y51",
         "showlegend": true,
         "text": [
          null,
          null
         ],
         "type": "scatter3d",
         "x": [
          -3,
          -3
         ],
         "xaxis": "x1",
         "y": [
          3,
          3
         ],
         "yaxis": "y1",
         "z": [
          0,
          0
         ],
         "zmax": 0.1,
         "zmin": -0.1
        },
        {
         "colorbar": {
          "title": ""
         },
         "hoverinfo": "text",
         "legendgroup": "y52",
         "marker": {
          "color": "rgba(0, 0, 0, 1.000)",
          "line": {
           "color": "rgba(0, 0, 0, 1.000)",
           "width": 1
          },
          "size": 2,
          "symbol": "circle"
         },
         "mode": "markers",
         "name": "y52",
         "showlegend": true,
         "text": [
          null,
          null
         ],
         "type": "scatter3d",
         "x": [
          -13,
          -13
         ],
         "xaxis": "x1",
         "y": [
          -4,
          -4
         ],
         "yaxis": "y1",
         "z": [
          -5,
          -5
         ],
         "zmax": 0.1,
         "zmin": -0.1
        },
        {
         "colorbar": {
          "title": ""
         },
         "hoverinfo": "text",
         "legendgroup": "y53",
         "marker": {
          "color": "rgba(0, 0, 0, 1.000)",
          "line": {
           "color": "rgba(0, 0, 0, 1.000)",
           "width": 1
          },
          "size": 2,
          "symbol": "circle"
         },
         "mode": "markers",
         "name": "y53",
         "showlegend": true,
         "text": [
          null,
          null
         ],
         "type": "scatter3d",
         "x": [
          12,
          12
         ],
         "xaxis": "x1",
         "y": [
          0,
          0
         ],
         "yaxis": "y1",
         "z": [
          2,
          2
         ],
         "zmax": 0.1,
         "zmin": -0.1
        },
        {
         "colorbar": {
          "title": ""
         },
         "hoverinfo": "text",
         "legendgroup": "y54",
         "marker": {
          "color": "rgba(0, 0, 0, 1.000)",
          "line": {
           "color": "rgba(0, 0, 0, 1.000)",
           "width": 1
          },
          "size": 2,
          "symbol": "circle"
         },
         "mode": "markers",
         "name": "y54",
         "showlegend": true,
         "text": [
          null,
          null
         ],
         "type": "scatter3d",
         "x": [
          -2,
          -2
         ],
         "xaxis": "x1",
         "y": [
          10,
          10
         ],
         "yaxis": "y1",
         "z": [
          8,
          8
         ],
         "zmax": 0.1,
         "zmin": -0.1
        },
        {
         "colorbar": {
          "title": ""
         },
         "hoverinfo": "text",
         "legendgroup": "y55",
         "marker": {
          "color": "rgba(0, 0, 0, 1.000)",
          "line": {
           "color": "rgba(0, 0, 0, 1.000)",
           "width": 1
          },
          "size": 2,
          "symbol": "circle"
         },
         "mode": "markers",
         "name": "y55",
         "showlegend": true,
         "text": [
          null,
          null
         ],
         "type": "scatter3d",
         "x": [
          -3,
          -3
         ],
         "xaxis": "x1",
         "y": [
          6,
          6
         ],
         "yaxis": "y1",
         "z": [
          -1,
          -1
         ],
         "zmax": 0.1,
         "zmin": -0.1
        },
        {
         "colorbar": {
          "title": ""
         },
         "hoverinfo": "text",
         "legendgroup": "y56",
         "marker": {
          "color": "rgba(0, 0, 0, 1.000)",
          "line": {
           "color": "rgba(0, 0, 0, 1.000)",
           "width": 1
          },
          "size": 2,
          "symbol": "circle"
         },
         "mode": "markers",
         "name": "y56",
         "showlegend": true,
         "text": [
          null,
          null
         ],
         "type": "scatter3d",
         "x": [
          -14,
          -14
         ],
         "xaxis": "x1",
         "y": [
          1,
          1
         ],
         "yaxis": "y1",
         "z": [
          -3,
          -3
         ],
         "zmax": 0.1,
         "zmin": -0.1
        },
        {
         "colorbar": {
          "title": ""
         },
         "hoverinfo": "text",
         "legendgroup": "y57",
         "marker": {
          "color": "rgba(0, 0, 0, 1.000)",
          "line": {
           "color": "rgba(0, 0, 0, 1.000)",
           "width": 1
          },
          "size": 2,
          "symbol": "circle"
         },
         "mode": "markers",
         "name": "y57",
         "showlegend": true,
         "text": [
          null,
          null
         ],
         "type": "scatter3d",
         "x": [
          7,
          7
         ],
         "xaxis": "x1",
         "y": [
          -8,
          -8
         ],
         "yaxis": "y1",
         "z": [
          1,
          1
         ],
         "zmax": 0.1,
         "zmin": -0.1
        },
        {
         "colorbar": {
          "title": ""
         },
         "hoverinfo": "text",
         "legendgroup": "y58",
         "marker": {
          "color": "rgba(0, 0, 0, 1.000)",
          "line": {
           "color": "rgba(0, 0, 0, 1.000)",
           "width": 1
          },
          "size": 2,
          "symbol": "circle"
         },
         "mode": "markers",
         "name": "y58",
         "showlegend": true,
         "text": [
          null,
          null
         ],
         "type": "scatter3d",
         "x": [
          -6,
          -6
         ],
         "xaxis": "x1",
         "y": [
          -3,
          -3
         ],
         "yaxis": "y1",
         "z": [
          -5,
          -5
         ],
         "zmax": 0.1,
         "zmin": -0.1
        },
        {
         "colorbar": {
          "title": ""
         },
         "hoverinfo": "text",
         "legendgroup": "y59",
         "marker": {
          "color": "rgba(0, 0, 0, 1.000)",
          "line": {
           "color": "rgba(0, 0, 0, 1.000)",
           "width": 1
          },
          "size": 2,
          "symbol": "circle"
         },
         "mode": "markers",
         "name": "y59",
         "showlegend": true,
         "text": [
          null,
          null
         ],
         "type": "scatter3d",
         "x": [
          6,
          6
         ],
         "xaxis": "x1",
         "y": [
          -3,
          -3
         ],
         "yaxis": "y1",
         "z": [
          5,
          5
         ],
         "zmax": 0.1,
         "zmin": -0.1
        },
        {
         "colorbar": {
          "title": ""
         },
         "hoverinfo": "text",
         "legendgroup": "y60",
         "marker": {
          "color": "rgba(0, 0, 0, 1.000)",
          "line": {
           "color": "rgba(0, 0, 0, 1.000)",
           "width": 1
          },
          "size": 2,
          "symbol": "circle"
         },
         "mode": "markers",
         "name": "y60",
         "showlegend": true,
         "text": [
          null,
          null
         ],
         "type": "scatter3d",
         "x": [
          -8,
          -8
         ],
         "xaxis": "x1",
         "y": [
          7,
          7
         ],
         "yaxis": "y1",
         "z": [
          -1,
          -1
         ],
         "zmax": 0.1,
         "zmin": -0.1
        },
        {
         "colorbar": {
          "title": ""
         },
         "hoverinfo": "text",
         "legendgroup": "y61",
         "marker": {
          "color": "rgba(0, 0, 0, 1.000)",
          "line": {
           "color": "rgba(0, 0, 0, 1.000)",
           "width": 1
          },
          "size": 2,
          "symbol": "circle"
         },
         "mode": "markers",
         "name": "y61",
         "showlegend": true,
         "text": [
          null,
          null
         ],
         "type": "scatter3d",
         "x": [
          -15,
          -15
         ],
         "xaxis": "x1",
         "y": [
          6,
          6
         ],
         "yaxis": "y1",
         "z": [
          3,
          3
         ],
         "zmax": 0.1,
         "zmin": -0.1
        },
        {
         "colorbar": {
          "title": ""
         },
         "hoverinfo": "text",
         "legendgroup": "y62",
         "marker": {
          "color": "rgba(0, 0, 0, 1.000)",
          "line": {
           "color": "rgba(0, 0, 0, 1.000)",
           "width": 1
          },
          "size": 2,
          "symbol": "circle"
         },
         "mode": "markers",
         "name": "y62",
         "showlegend": true,
         "text": [
          null,
          null
         ],
         "type": "scatter3d",
         "x": [
          9,
          9
         ],
         "xaxis": "x1",
         "y": [
          -9,
          -9
         ],
         "yaxis": "y1",
         "z": [
          -8,
          -8
         ],
         "zmax": 0.1,
         "zmin": -0.1
        },
        {
         "colorbar": {
          "title": ""
         },
         "hoverinfo": "text",
         "legendgroup": "y63",
         "marker": {
          "color": "rgba(0, 0, 0, 1.000)",
          "line": {
           "color": "rgba(0, 0, 0, 1.000)",
           "width": 1
          },
          "size": 2,
          "symbol": "circle"
         },
         "mode": "markers",
         "name": "y63",
         "showlegend": true,
         "text": [
          null,
          null
         ],
         "type": "scatter3d",
         "x": [
          -2,
          -2
         ],
         "xaxis": "x1",
         "y": [
          1,
          1
         ],
         "yaxis": "y1",
         "z": [
          -5,
          -5
         ],
         "zmax": 0.1,
         "zmin": -0.1
        },
        {
         "colorbar": {
          "title": ""
         },
         "hoverinfo": "text",
         "legendgroup": "y64",
         "marker": {
          "color": "rgba(0, 0, 0, 1.000)",
          "line": {
           "color": "rgba(0, 0, 0, 1.000)",
           "width": 1
          },
          "size": 2,
          "symbol": "circle"
         },
         "mode": "markers",
         "name": "y64",
         "showlegend": true,
         "text": [
          null,
          null
         ],
         "type": "scatter3d",
         "x": [
          -12,
          -12
         ],
         "xaxis": "x1",
         "y": [
          3,
          3
         ],
         "yaxis": "y1",
         "z": [
          3,
          3
         ],
         "zmax": 0.1,
         "zmin": -0.1
        },
        {
         "colorbar": {
          "title": ""
         },
         "hoverinfo": "text",
         "legendgroup": "y65",
         "marker": {
          "color": "rgba(0, 0, 0, 1.000)",
          "line": {
           "color": "rgba(0, 0, 0, 1.000)",
           "width": 1
          },
          "size": 2,
          "symbol": "circle"
         },
         "mode": "markers",
         "name": "y65",
         "showlegend": true,
         "text": [
          null,
          null
         ],
         "type": "scatter3d",
         "x": [
          1,
          1
         ],
         "xaxis": "x1",
         "y": [
          1,
          1
         ],
         "yaxis": "y1",
         "z": [
          0,
          0
         ],
         "zmax": 0.1,
         "zmin": -0.1
        },
        {
         "colorbar": {
          "title": ""
         },
         "hoverinfo": "text",
         "legendgroup": "y66",
         "marker": {
          "color": "rgba(0, 0, 0, 1.000)",
          "line": {
           "color": "rgba(0, 0, 0, 1.000)",
           "width": 1
          },
          "size": 2,
          "symbol": "circle"
         },
         "mode": "markers",
         "name": "y66",
         "showlegend": true,
         "text": [
          null,
          null
         ],
         "type": "scatter3d",
         "x": [
          -10,
          -10
         ],
         "xaxis": "x1",
         "y": [
          5,
          5
         ],
         "yaxis": "y1",
         "z": [
          5,
          5
         ],
         "zmax": 0.1,
         "zmin": -0.1
        },
        {
         "colorbar": {
          "title": ""
         },
         "hoverinfo": "text",
         "legendgroup": "y67",
         "marker": {
          "color": "rgba(0, 0, 0, 1.000)",
          "line": {
           "color": "rgba(0, 0, 0, 1.000)",
           "width": 1
          },
          "size": 2,
          "symbol": "circle"
         },
         "mode": "markers",
         "name": "y67",
         "showlegend": true,
         "text": [
          null,
          null
         ],
         "type": "scatter3d",
         "x": [
          14,
          14
         ],
         "xaxis": "x1",
         "y": [
          8,
          8
         ],
         "yaxis": "y1",
         "z": [
          6,
          6
         ],
         "zmax": 0.1,
         "zmin": -0.1
        },
        {
         "colorbar": {
          "title": ""
         },
         "hoverinfo": "text",
         "legendgroup": "y68",
         "marker": {
          "color": "rgba(0, 0, 0, 1.000)",
          "line": {
           "color": "rgba(0, 0, 0, 1.000)",
           "width": 1
          },
          "size": 2,
          "symbol": "circle"
         },
         "mode": "markers",
         "name": "y68",
         "showlegend": true,
         "text": [
          null,
          null
         ],
         "type": "scatter3d",
         "x": [
          7,
          7
         ],
         "xaxis": "x1",
         "y": [
          -5,
          -5
         ],
         "yaxis": "y1",
         "z": [
          0,
          0
         ],
         "zmax": 0.1,
         "zmin": -0.1
        },
        {
         "colorbar": {
          "title": ""
         },
         "hoverinfo": "text",
         "legendgroup": "y69",
         "marker": {
          "color": "rgba(0, 0, 0, 1.000)",
          "line": {
           "color": "rgba(0, 0, 0, 1.000)",
           "width": 1
          },
          "size": 2,
          "symbol": "circle"
         },
         "mode": "markers",
         "name": "y69",
         "showlegend": true,
         "text": [
          null,
          null
         ],
         "type": "scatter3d",
         "x": [
          2,
          2
         ],
         "xaxis": "x1",
         "y": [
          -7,
          -7
         ],
         "yaxis": "y1",
         "z": [
          -5,
          -5
         ],
         "zmax": 0.1,
         "zmin": -0.1
        },
        {
         "colorbar": {
          "title": ""
         },
         "hoverinfo": "text",
         "legendgroup": "y70",
         "marker": {
          "color": "rgba(0, 0, 0, 1.000)",
          "line": {
           "color": "rgba(0, 0, 0, 1.000)",
           "width": 1
          },
          "size": 2,
          "symbol": "circle"
         },
         "mode": "markers",
         "name": "y70",
         "showlegend": true,
         "text": [
          null,
          null
         ],
         "type": "scatter3d",
         "x": [
          0,
          0
         ],
         "xaxis": "x1",
         "y": [
          0,
          0
         ],
         "yaxis": "y1",
         "z": [
          -4,
          -4
         ],
         "zmax": 0.1,
         "zmin": -0.1
        },
        {
         "colorbar": {
          "title": ""
         },
         "hoverinfo": "text",
         "legendgroup": "y71",
         "marker": {
          "color": "rgba(0, 0, 0, 1.000)",
          "line": {
           "color": "rgba(0, 0, 0, 1.000)",
           "width": 1
          },
          "size": 2,
          "symbol": "circle"
         },
         "mode": "markers",
         "name": "y71",
         "showlegend": true,
         "text": [
          null,
          null
         ],
         "type": "scatter3d",
         "x": [
          -7,
          -7
         ],
         "xaxis": "x1",
         "y": [
          -4,
          -4
         ],
         "yaxis": "y1",
         "z": [
          -3,
          -3
         ],
         "zmax": 0.1,
         "zmin": -0.1
        },
        {
         "colorbar": {
          "title": ""
         },
         "hoverinfo": "text",
         "legendgroup": "y72",
         "marker": {
          "color": "rgba(0, 0, 0, 1.000)",
          "line": {
           "color": "rgba(0, 0, 0, 1.000)",
           "width": 1
          },
          "size": 2,
          "symbol": "circle"
         },
         "mode": "markers",
         "name": "y72",
         "showlegend": true,
         "text": [
          null,
          null
         ],
         "type": "scatter3d",
         "x": [
          5,
          5
         ],
         "xaxis": "x1",
         "y": [
          -1,
          -1
         ],
         "yaxis": "y1",
         "z": [
          2,
          2
         ],
         "zmax": 0.1,
         "zmin": -0.1
        },
        {
         "colorbar": {
          "title": ""
         },
         "hoverinfo": "text",
         "legendgroup": "y73",
         "marker": {
          "color": "rgba(0, 0, 0, 1.000)",
          "line": {
           "color": "rgba(0, 0, 0, 1.000)",
           "width": 1
          },
          "size": 2,
          "symbol": "circle"
         },
         "mode": "markers",
         "name": "y73",
         "showlegend": true,
         "text": [
          null,
          null
         ],
         "type": "scatter3d",
         "x": [
          0,
          0
         ],
         "xaxis": "x1",
         "y": [
          3,
          3
         ],
         "yaxis": "y1",
         "z": [
          5,
          5
         ],
         "zmax": 0.1,
         "zmin": -0.1
        },
        {
         "colorbar": {
          "title": ""
         },
         "hoverinfo": "text",
         "legendgroup": "y74",
         "marker": {
          "color": "rgba(0, 0, 0, 1.000)",
          "line": {
           "color": "rgba(0, 0, 0, 1.000)",
           "width": 1
          },
          "size": 2,
          "symbol": "circle"
         },
         "mode": "markers",
         "name": "y74",
         "showlegend": true,
         "text": [
          null,
          null
         ],
         "type": "scatter3d",
         "x": [
          8,
          8
         ],
         "xaxis": "x1",
         "y": [
          5,
          5
         ],
         "yaxis": "y1",
         "z": [
          5,
          5
         ],
         "zmax": 0.1,
         "zmin": -0.1
        },
        {
         "colorbar": {
          "title": ""
         },
         "hoverinfo": "text",
         "legendgroup": "y75",
         "marker": {
          "color": "rgba(0, 0, 0, 1.000)",
          "line": {
           "color": "rgba(0, 0, 0, 1.000)",
           "width": 1
          },
          "size": 2,
          "symbol": "circle"
         },
         "mode": "markers",
         "name": "y75",
         "showlegend": true,
         "text": [
          null,
          null
         ],
         "type": "scatter3d",
         "x": [
          -12,
          -12
         ],
         "xaxis": "x1",
         "y": [
          9,
          9
         ],
         "yaxis": "y1",
         "z": [
          1,
          1
         ],
         "zmax": 0.1,
         "zmin": -0.1
        },
        {
         "colorbar": {
          "title": ""
         },
         "hoverinfo": "text",
         "legendgroup": "y76",
         "marker": {
          "color": "rgba(0, 0, 0, 1.000)",
          "line": {
           "color": "rgba(0, 0, 0, 1.000)",
           "width": 1
          },
          "size": 2,
          "symbol": "circle"
         },
         "mode": "markers",
         "name": "y76",
         "showlegend": true,
         "text": [
          null,
          null
         ],
         "type": "scatter3d",
         "x": [
          -12,
          -12
         ],
         "xaxis": "x1",
         "y": [
          3,
          3
         ],
         "yaxis": "y1",
         "z": [
          3,
          3
         ],
         "zmax": 0.1,
         "zmin": -0.1
        },
        {
         "colorbar": {
          "title": ""
         },
         "hoverinfo": "text",
         "legendgroup": "y77",
         "marker": {
          "color": "rgba(0, 0, 0, 1.000)",
          "line": {
           "color": "rgba(0, 0, 0, 1.000)",
           "width": 1
          },
          "size": 2,
          "symbol": "circle"
         },
         "mode": "markers",
         "name": "y77",
         "showlegend": true,
         "text": [
          null,
          null
         ],
         "type": "scatter3d",
         "x": [
          15,
          15
         ],
         "xaxis": "x1",
         "y": [
          -12,
          -12
         ],
         "yaxis": "y1",
         "z": [
          -5,
          -5
         ],
         "zmax": 0.1,
         "zmin": -0.1
        },
        {
         "colorbar": {
          "title": ""
         },
         "hoverinfo": "text",
         "legendgroup": "y78",
         "marker": {
          "color": "rgba(0, 0, 0, 1.000)",
          "line": {
           "color": "rgba(0, 0, 0, 1.000)",
           "width": 1
          },
          "size": 2,
          "symbol": "circle"
         },
         "mode": "markers",
         "name": "y78",
         "showlegend": true,
         "text": [
          null,
          null
         ],
         "type": "scatter3d",
         "x": [
          2,
          2
         ],
         "xaxis": "x1",
         "y": [
          2,
          2
         ],
         "yaxis": "y1",
         "z": [
          4,
          4
         ],
         "zmax": 0.1,
         "zmin": -0.1
        },
        {
         "colorbar": {
          "title": ""
         },
         "hoverinfo": "text",
         "legendgroup": "y79",
         "marker": {
          "color": "rgba(0, 0, 0, 1.000)",
          "line": {
           "color": "rgba(0, 0, 0, 1.000)",
           "width": 1
          },
          "size": 2,
          "symbol": "circle"
         },
         "mode": "markers",
         "name": "y79",
         "showlegend": true,
         "text": [
          null,
          null
         ],
         "type": "scatter3d",
         "x": [
          -8,
          -8
         ],
         "xaxis": "x1",
         "y": [
          4,
          4
         ],
         "yaxis": "y1",
         "z": [
          -4,
          -4
         ],
         "zmax": 0.1,
         "zmin": -0.1
        },
        {
         "colorbar": {
          "title": ""
         },
         "hoverinfo": "text",
         "legendgroup": "y80",
         "marker": {
          "color": "rgba(0, 0, 0, 1.000)",
          "line": {
           "color": "rgba(0, 0, 0, 1.000)",
           "width": 1
          },
          "size": 2,
          "symbol": "circle"
         },
         "mode": "markers",
         "name": "y80",
         "showlegend": true,
         "text": [
          null,
          null
         ],
         "type": "scatter3d",
         "x": [
          5,
          5
         ],
         "xaxis": "x1",
         "y": [
          -1,
          -1
         ],
         "yaxis": "y1",
         "z": [
          4,
          4
         ],
         "zmax": 0.1,
         "zmin": -0.1
        },
        {
         "colorbar": {
          "title": ""
         },
         "hoverinfo": "text",
         "legendgroup": "y81",
         "marker": {
          "color": "rgba(0, 0, 0, 1.000)",
          "line": {
           "color": "rgba(0, 0, 0, 1.000)",
           "width": 1
          },
          "size": 2,
          "symbol": "circle"
         },
         "mode": "markers",
         "name": "y81",
         "showlegend": true,
         "text": [
          null,
          null
         ],
         "type": "scatter3d",
         "x": [
          6,
          6
         ],
         "xaxis": "x1",
         "y": [
          -12,
          -12
         ],
         "yaxis": "y1",
         "z": [
          -12,
          -12
         ],
         "zmax": 0.1,
         "zmin": -0.1
        },
        {
         "colorbar": {
          "title": ""
         },
         "hoverinfo": "text",
         "legendgroup": "y82",
         "marker": {
          "color": "rgba(0, 0, 0, 1.000)",
          "line": {
           "color": "rgba(0, 0, 0, 1.000)",
           "width": 1
          },
          "size": 2,
          "symbol": "circle"
         },
         "mode": "markers",
         "name": "y82",
         "showlegend": true,
         "text": [
          null,
          null
         ],
         "type": "scatter3d",
         "x": [
          -2,
          -2
         ],
         "xaxis": "x1",
         "y": [
          -5,
          -5
         ],
         "yaxis": "y1",
         "z": [
          -7,
          -7
         ],
         "zmax": 0.1,
         "zmin": -0.1
        },
        {
         "colorbar": {
          "title": ""
         },
         "hoverinfo": "text",
         "legendgroup": "y83",
         "marker": {
          "color": "rgba(0, 0, 0, 1.000)",
          "line": {
           "color": "rgba(0, 0, 0, 1.000)",
           "width": 1
          },
          "size": 2,
          "symbol": "circle"
         },
         "mode": "markers",
         "name": "y83",
         "showlegend": true,
         "text": [
          null,
          null
         ],
         "type": "scatter3d",
         "x": [
          -9,
          -9
         ],
         "xaxis": "x1",
         "y": [
          0,
          0
         ],
         "yaxis": "y1",
         "z": [
          1,
          1
         ],
         "zmax": 0.1,
         "zmin": -0.1
        },
        {
         "colorbar": {
          "title": ""
         },
         "hoverinfo": "text",
         "legendgroup": "y84",
         "marker": {
          "color": "rgba(0, 0, 0, 1.000)",
          "line": {
           "color": "rgba(0, 0, 0, 1.000)",
           "width": 1
          },
          "size": 2,
          "symbol": "circle"
         },
         "mode": "markers",
         "name": "y84",
         "showlegend": true,
         "text": [
          null,
          null
         ],
         "type": "scatter3d",
         "x": [
          4,
          4
         ],
         "xaxis": "x1",
         "y": [
          1,
          1
         ],
         "yaxis": "y1",
         "z": [
          -1,
          -1
         ],
         "zmax": 0.1,
         "zmin": -0.1
        },
        {
         "colorbar": {
          "title": ""
         },
         "hoverinfo": "text",
         "legendgroup": "y85",
         "marker": {
          "color": "rgba(0, 0, 0, 1.000)",
          "line": {
           "color": "rgba(0, 0, 0, 1.000)",
           "width": 1
          },
          "size": 2,
          "symbol": "circle"
         },
         "mode": "markers",
         "name": "y85",
         "showlegend": true,
         "text": [
          null,
          null
         ],
         "type": "scatter3d",
         "x": [
          -5,
          -5
         ],
         "xaxis": "x1",
         "y": [
          7,
          7
         ],
         "yaxis": "y1",
         "z": [
          8,
          8
         ],
         "zmax": 0.1,
         "zmin": -0.1
        },
        {
         "colorbar": {
          "title": ""
         },
         "hoverinfo": "text",
         "legendgroup": "y86",
         "marker": {
          "color": "rgba(0, 0, 0, 1.000)",
          "line": {
           "color": "rgba(0, 0, 0, 1.000)",
           "width": 1
          },
          "size": 2,
          "symbol": "circle"
         },
         "mode": "markers",
         "name": "y86",
         "showlegend": true,
         "text": [
          null,
          null
         ],
         "type": "scatter3d",
         "x": [
          5,
          5
         ],
         "xaxis": "x1",
         "y": [
          2,
          2
         ],
         "yaxis": "y1",
         "z": [
          3,
          3
         ],
         "zmax": 0.1,
         "zmin": -0.1
        },
        {
         "colorbar": {
          "title": ""
         },
         "hoverinfo": "text",
         "legendgroup": "y87",
         "marker": {
          "color": "rgba(0, 0, 0, 1.000)",
          "line": {
           "color": "rgba(0, 0, 0, 1.000)",
           "width": 1
          },
          "size": 2,
          "symbol": "circle"
         },
         "mode": "markers",
         "name": "y87",
         "showlegend": true,
         "text": [
          null,
          null
         ],
         "type": "scatter3d",
         "x": [
          6,
          6
         ],
         "xaxis": "x1",
         "y": [
          -12,
          -12
         ],
         "yaxis": "y1",
         "z": [
          -6,
          -6
         ],
         "zmax": 0.1,
         "zmin": -0.1
        },
        {
         "colorbar": {
          "title": ""
         },
         "hoverinfo": "text",
         "legendgroup": "y88",
         "marker": {
          "color": "rgba(0, 0, 0, 1.000)",
          "line": {
           "color": "rgba(0, 0, 0, 1.000)",
           "width": 1
          },
          "size": 2,
          "symbol": "circle"
         },
         "mode": "markers",
         "name": "y88",
         "showlegend": true,
         "text": [
          null,
          null
         ],
         "type": "scatter3d",
         "x": [
          6,
          6
         ],
         "xaxis": "x1",
         "y": [
          3,
          3
         ],
         "yaxis": "y1",
         "z": [
          1,
          1
         ],
         "zmax": 0.1,
         "zmin": -0.1
        },
        {
         "colorbar": {
          "title": ""
         },
         "hoverinfo": "text",
         "legendgroup": "y89",
         "marker": {
          "color": "rgba(0, 0, 0, 1.000)",
          "line": {
           "color": "rgba(0, 0, 0, 1.000)",
           "width": 1
          },
          "size": 2,
          "symbol": "circle"
         },
         "mode": "markers",
         "name": "y89",
         "showlegend": true,
         "text": [
          null,
          null
         ],
         "type": "scatter3d",
         "x": [
          -1,
          -1
         ],
         "xaxis": "x1",
         "y": [
          5,
          5
         ],
         "yaxis": "y1",
         "z": [
          0,
          0
         ],
         "zmax": 0.1,
         "zmin": -0.1
        },
        {
         "colorbar": {
          "title": ""
         },
         "hoverinfo": "text",
         "legendgroup": "y90",
         "marker": {
          "color": "rgba(0, 0, 0, 1.000)",
          "line": {
           "color": "rgba(0, 0, 0, 1.000)",
           "width": 1
          },
          "size": 2,
          "symbol": "circle"
         },
         "mode": "markers",
         "name": "y90",
         "showlegend": true,
         "text": [
          null,
          null
         ],
         "type": "scatter3d",
         "x": [
          6,
          6
         ],
         "xaxis": "x1",
         "y": [
          -12,
          -12
         ],
         "yaxis": "y1",
         "z": [
          -12,
          -12
         ],
         "zmax": 0.1,
         "zmin": -0.1
        },
        {
         "colorbar": {
          "title": ""
         },
         "hoverinfo": "text",
         "legendgroup": "y91",
         "marker": {
          "color": "rgba(0, 0, 0, 1.000)",
          "line": {
           "color": "rgba(0, 0, 0, 1.000)",
           "width": 1
          },
          "size": 2,
          "symbol": "circle"
         },
         "mode": "markers",
         "name": "y91",
         "showlegend": true,
         "text": [
          null,
          null
         ],
         "type": "scatter3d",
         "x": [
          3,
          3
         ],
         "xaxis": "x1",
         "y": [
          -3,
          -3
         ],
         "yaxis": "y1",
         "z": [
          0,
          0
         ],
         "zmax": 0.1,
         "zmin": -0.1
        },
        {
         "colorbar": {
          "title": ""
         },
         "hoverinfo": "text",
         "legendgroup": "y92",
         "marker": {
          "color": "rgba(0, 0, 0, 1.000)",
          "line": {
           "color": "rgba(0, 0, 0, 1.000)",
           "width": 1
          },
          "size": 2,
          "symbol": "circle"
         },
         "mode": "markers",
         "name": "y92",
         "showlegend": true,
         "text": [
          null,
          null
         ],
         "type": "scatter3d",
         "x": [
          -3,
          -3
         ],
         "xaxis": "x1",
         "y": [
          0,
          0
         ],
         "yaxis": "y1",
         "z": [
          5,
          5
         ],
         "zmax": 0.1,
         "zmin": -0.1
        },
        {
         "colorbar": {
          "title": ""
         },
         "hoverinfo": "text",
         "legendgroup": "y93",
         "marker": {
          "color": "rgba(0, 0, 0, 1.000)",
          "line": {
           "color": "rgba(0, 0, 0, 1.000)",
           "width": 1
          },
          "size": 2,
          "symbol": "circle"
         },
         "mode": "markers",
         "name": "y93",
         "showlegend": true,
         "text": [
          null,
          null
         ],
         "type": "scatter3d",
         "x": [
          12,
          12
         ],
         "xaxis": "x1",
         "y": [
          -12,
          -12
         ],
         "yaxis": "y1",
         "z": [
          -4,
          -4
         ],
         "zmax": 0.1,
         "zmin": -0.1
        },
        {
         "colorbar": {
          "title": ""
         },
         "hoverinfo": "text",
         "legendgroup": "y94",
         "marker": {
          "color": "rgba(0, 0, 0, 1.000)",
          "line": {
           "color": "rgba(0, 0, 0, 1.000)",
           "width": 1
          },
          "size": 2,
          "symbol": "circle"
         },
         "mode": "markers",
         "name": "y94",
         "showlegend": true,
         "text": [
          null,
          null
         ],
         "type": "scatter3d",
         "x": [
          4,
          4
         ],
         "xaxis": "x1",
         "y": [
          -2,
          -2
         ],
         "yaxis": "y1",
         "z": [
          6,
          6
         ],
         "zmax": 0.1,
         "zmin": -0.1
        },
        {
         "colorbar": {
          "title": ""
         },
         "hoverinfo": "text",
         "legendgroup": "y95",
         "marker": {
          "color": "rgba(0, 0, 0, 1.000)",
          "line": {
           "color": "rgba(0, 0, 0, 1.000)",
           "width": 1
          },
          "size": 2,
          "symbol": "circle"
         },
         "mode": "markers",
         "name": "y95",
         "showlegend": true,
         "text": [
          null,
          null
         ],
         "type": "scatter3d",
         "x": [
          -1,
          -1
         ],
         "xaxis": "x1",
         "y": [
          -10,
          -10
         ],
         "yaxis": "y1",
         "z": [
          -7,
          -7
         ],
         "zmax": 0.1,
         "zmin": -0.1
        },
        {
         "colorbar": {
          "title": ""
         },
         "hoverinfo": "text",
         "legendgroup": "y96",
         "marker": {
          "color": "rgba(0, 0, 0, 1.000)",
          "line": {
           "color": "rgba(0, 0, 0, 1.000)",
           "width": 1
          },
          "size": 2,
          "symbol": "circle"
         },
         "mode": "markers",
         "name": "y96",
         "showlegend": true,
         "text": [
          null,
          null
         ],
         "type": "scatter3d",
         "x": [
          9,
          9
         ],
         "xaxis": "x1",
         "y": [
          -15,
          -15
         ],
         "yaxis": "y1",
         "z": [
          -10,
          -10
         ],
         "zmax": 0.1,
         "zmin": -0.1
        },
        {
         "colorbar": {
          "title": ""
         },
         "hoverinfo": "text",
         "legendgroup": "y97",
         "marker": {
          "color": "rgba(0, 0, 0, 1.000)",
          "line": {
           "color": "rgba(0, 0, 0, 1.000)",
           "width": 1
          },
          "size": 2,
          "symbol": "circle"
         },
         "mode": "markers",
         "name": "y97",
         "showlegend": true,
         "text": [
          null,
          null
         ],
         "type": "scatter3d",
         "x": [
          -8,
          -8
         ],
         "xaxis": "x1",
         "y": [
          4,
          4
         ],
         "yaxis": "y1",
         "z": [
          4,
          4
         ],
         "zmax": 0.1,
         "zmin": -0.1
        },
        {
         "colorbar": {
          "title": ""
         },
         "hoverinfo": "text",
         "legendgroup": "y98",
         "marker": {
          "color": "rgba(0, 0, 0, 1.000)",
          "line": {
           "color": "rgba(0, 0, 0, 1.000)",
           "width": 1
          },
          "size": 2,
          "symbol": "circle"
         },
         "mode": "markers",
         "name": "y98",
         "showlegend": true,
         "text": [
          null,
          null
         ],
         "type": "scatter3d",
         "x": [
          -7,
          -7
         ],
         "xaxis": "x1",
         "y": [
          5,
          5
         ],
         "yaxis": "y1",
         "z": [
          0,
          0
         ],
         "zmax": 0.1,
         "zmin": -0.1
        },
        {
         "colorbar": {
          "title": ""
         },
         "hoverinfo": "text",
         "legendgroup": "y99",
         "marker": {
          "color": "rgba(0, 0, 0, 1.000)",
          "line": {
           "color": "rgba(0, 0, 0, 1.000)",
           "width": 1
          },
          "size": 2,
          "symbol": "circle"
         },
         "mode": "markers",
         "name": "y99",
         "showlegend": true,
         "text": [
          null,
          null
         ],
         "type": "scatter3d",
         "x": [
          4,
          4
         ],
         "xaxis": "x1",
         "y": [
          4,
          4
         ],
         "yaxis": "y1",
         "z": [
          2,
          2
         ],
         "zmax": 0.1,
         "zmin": -0.1
        },
        {
         "colorbar": {
          "title": ""
         },
         "hoverinfo": "text",
         "legendgroup": "y100",
         "marker": {
          "color": "rgba(0, 0, 0, 1.000)",
          "line": {
           "color": "rgba(0, 0, 0, 1.000)",
           "width": 1
          },
          "size": 2,
          "symbol": "circle"
         },
         "mode": "markers",
         "name": "y100",
         "showlegend": true,
         "text": [
          null,
          null
         ],
         "type": "scatter3d",
         "x": [
          -12,
          -12
         ],
         "xaxis": "x1",
         "y": [
          12,
          12
         ],
         "yaxis": "y1",
         "z": [
          10,
          10
         ],
         "zmax": 0.1,
         "zmin": -0.1
        },
        {
         "colorbar": {
          "title": ""
         },
         "hoverinfo": "text",
         "legendgroup": "y101",
         "marker": {
          "color": "rgba(0, 0, 0, 1.000)",
          "line": {
           "color": "rgba(0, 0, 0, 1.000)",
           "width": 1
          },
          "size": 2,
          "symbol": "circle"
         },
         "mode": "markers",
         "name": "y101",
         "showlegend": true,
         "text": [
          null,
          null
         ],
         "type": "scatter3d",
         "x": [
          -1,
          -1
         ],
         "xaxis": "x1",
         "y": [
          5,
          5
         ],
         "yaxis": "y1",
         "z": [
          8,
          8
         ],
         "zmax": 0.1,
         "zmin": -0.1
        },
        {
         "colorbar": {
          "title": ""
         },
         "hoverinfo": "text",
         "legendgroup": "y102",
         "marker": {
          "color": "rgba(0, 0, 0, 1.000)",
          "line": {
           "color": "rgba(0, 0, 0, 1.000)",
           "width": 1
          },
          "size": 2,
          "symbol": "circle"
         },
         "mode": "markers",
         "name": "y102",
         "showlegend": true,
         "text": [
          null,
          null
         ],
         "type": "scatter3d",
         "x": [
          -2,
          -2
         ],
         "xaxis": "x1",
         "y": [
          -2,
          -2
         ],
         "yaxis": "y1",
         "z": [
          0,
          0
         ],
         "zmax": 0.1,
         "zmin": -0.1
        },
        {
         "colorbar": {
          "title": ""
         },
         "hoverinfo": "text",
         "legendgroup": "y103",
         "marker": {
          "color": "rgba(0, 0, 0, 1.000)",
          "line": {
           "color": "rgba(0, 0, 0, 1.000)",
           "width": 1
          },
          "size": 2,
          "symbol": "circle"
         },
         "mode": "markers",
         "name": "y103",
         "showlegend": true,
         "text": [
          null,
          null
         ],
         "type": "scatter3d",
         "x": [
          -4,
          -4
         ],
         "xaxis": "x1",
         "y": [
          2,
          2
         ],
         "yaxis": "y1",
         "z": [
          4,
          4
         ],
         "zmax": 0.1,
         "zmin": -0.1
        },
        {
         "colorbar": {
          "title": ""
         },
         "hoverinfo": "text",
         "legendgroup": "y104",
         "marker": {
          "color": "rgba(0, 0, 0, 1.000)",
          "line": {
           "color": "rgba(0, 0, 0, 1.000)",
           "width": 1
          },
          "size": 2,
          "symbol": "circle"
         },
         "mode": "markers",
         "name": "y104",
         "showlegend": true,
         "text": [
          null,
          null
         ],
         "type": "scatter3d",
         "x": [
          5,
          5
         ],
         "xaxis": "x1",
         "y": [
          11,
          11
         ],
         "yaxis": "y1",
         "z": [
          10,
          10
         ],
         "zmax": 0.1,
         "zmin": -0.1
        },
        {
         "colorbar": {
          "title": ""
         },
         "hoverinfo": "text",
         "legendgroup": "y105",
         "marker": {
          "color": "rgba(0, 0, 0, 1.000)",
          "line": {
           "color": "rgba(0, 0, 0, 1.000)",
           "width": 1
          },
          "size": 2,
          "symbol": "circle"
         },
         "mode": "markers",
         "name": "y105",
         "showlegend": true,
         "text": [
          null,
          null
         ],
         "type": "scatter3d",
         "x": [
          -10,
          -10
         ],
         "xaxis": "x1",
         "y": [
          14,
          14
         ],
         "yaxis": "y1",
         "z": [
          12,
          12
         ],
         "zmax": 0.1,
         "zmin": -0.1
        },
        {
         "colorbar": {
          "title": ""
         },
         "hoverinfo": "text",
         "legendgroup": "y106",
         "marker": {
          "color": "rgba(0, 0, 0, 1.000)",
          "line": {
           "color": "rgba(0, 0, 0, 1.000)",
           "width": 1
          },
          "size": 2,
          "symbol": "circle"
         },
         "mode": "markers",
         "name": "y106",
         "showlegend": true,
         "text": [
          null,
          null
         ],
         "type": "scatter3d",
         "x": [
          -3,
          -3
         ],
         "xaxis": "x1",
         "y": [
          -12,
          -12
         ],
         "yaxis": "y1",
         "z": [
          -11,
          -11
         ],
         "zmax": 0.1,
         "zmin": -0.1
        },
        {
         "colorbar": {
          "title": ""
         },
         "hoverinfo": "text",
         "legendgroup": "y107",
         "marker": {
          "color": "rgba(0, 0, 0, 1.000)",
          "line": {
           "color": "rgba(0, 0, 0, 1.000)",
           "width": 1
          },
          "size": 2,
          "symbol": "circle"
         },
         "mode": "markers",
         "name": "y107",
         "showlegend": true,
         "text": [
          null,
          null
         ],
         "type": "scatter3d",
         "x": [
          -1,
          -1
         ],
         "xaxis": "x1",
         "y": [
          -4,
          -4
         ],
         "yaxis": "y1",
         "z": [
          -9,
          -9
         ],
         "zmax": 0.1,
         "zmin": -0.1
        },
        {
         "colorbar": {
          "title": ""
         },
         "hoverinfo": "text",
         "legendgroup": "y108",
         "marker": {
          "color": "rgba(0, 0, 0, 1.000)",
          "line": {
           "color": "rgba(0, 0, 0, 1.000)",
           "width": 1
          },
          "size": 2,
          "symbol": "circle"
         },
         "mode": "markers",
         "name": "y108",
         "showlegend": true,
         "text": [
          null,
          null
         ],
         "type": "scatter3d",
         "x": [
          4,
          4
         ],
         "xaxis": "x1",
         "y": [
          1,
          1
         ],
         "yaxis": "y1",
         "z": [
          1,
          1
         ],
         "zmax": 0.1,
         "zmin": -0.1
        },
        {
         "colorbar": {
          "title": ""
         },
         "hoverinfo": "text",
         "legendgroup": "y109",
         "marker": {
          "color": "rgba(0, 0, 0, 1.000)",
          "line": {
           "color": "rgba(0, 0, 0, 1.000)",
           "width": 1
          },
          "size": 2,
          "symbol": "circle"
         },
         "mode": "markers",
         "name": "y109",
         "showlegend": true,
         "text": [
          null,
          null
         ],
         "type": "scatter3d",
         "x": [
          -5,
          -5
         ],
         "xaxis": "x1",
         "y": [
          -5,
          -5
         ],
         "yaxis": "y1",
         "z": [
          -4,
          -4
         ],
         "zmax": 0.1,
         "zmin": -0.1
        },
        {
         "colorbar": {
          "title": ""
         },
         "hoverinfo": "text",
         "legendgroup": "y110",
         "marker": {
          "color": "rgba(0, 0, 0, 1.000)",
          "line": {
           "color": "rgba(0, 0, 0, 1.000)",
           "width": 1
          },
          "size": 2,
          "symbol": "circle"
         },
         "mode": "markers",
         "name": "y110",
         "showlegend": true,
         "text": [
          null,
          null
         ],
         "type": "scatter3d",
         "x": [
          10,
          10
         ],
         "xaxis": "x1",
         "y": [
          -5,
          -5
         ],
         "yaxis": "y1",
         "z": [
          -3,
          -3
         ],
         "zmax": 0.1,
         "zmin": -0.1
        },
        {
         "colorbar": {
          "title": ""
         },
         "hoverinfo": "text",
         "legendgroup": "y111",
         "marker": {
          "color": "rgba(0, 0, 0, 1.000)",
          "line": {
           "color": "rgba(0, 0, 0, 1.000)",
           "width": 1
          },
          "size": 2,
          "symbol": "circle"
         },
         "mode": "markers",
         "name": "y111",
         "showlegend": true,
         "text": [
          null,
          null
         ],
         "type": "scatter3d",
         "x": [
          -11,
          -11
         ],
         "xaxis": "x1",
         "y": [
          -2,
          -2
         ],
         "yaxis": "y1",
         "z": [
          1,
          1
         ],
         "zmax": 0.1,
         "zmin": -0.1
        },
        {
         "colorbar": {
          "title": ""
         },
         "hoverinfo": "text",
         "legendgroup": "y112",
         "marker": {
          "color": "rgba(0, 0, 0, 1.000)",
          "line": {
           "color": "rgba(0, 0, 0, 1.000)",
           "width": 1
          },
          "size": 2,
          "symbol": "circle"
         },
         "mode": "markers",
         "name": "y112",
         "showlegend": true,
         "text": [
          null,
          null
         ],
         "type": "scatter3d",
         "x": [
          -14,
          -14
         ],
         "xaxis": "x1",
         "y": [
          -2,
          -2
         ],
         "yaxis": "y1",
         "z": [
          -2,
          -2
         ],
         "zmax": 0.1,
         "zmin": -0.1
        },
        {
         "colorbar": {
          "title": ""
         },
         "hoverinfo": "text",
         "legendgroup": "y113",
         "marker": {
          "color": "rgba(0, 0, 0, 1.000)",
          "line": {
           "color": "rgba(0, 0, 0, 1.000)",
           "width": 1
          },
          "size": 2,
          "symbol": "circle"
         },
         "mode": "markers",
         "name": "y113",
         "showlegend": true,
         "text": [
          null,
          null
         ],
         "type": "scatter3d",
         "x": [
          0,
          0
         ],
         "xaxis": "x1",
         "y": [
          3,
          3
         ],
         "yaxis": "y1",
         "z": [
          3,
          3
         ],
         "zmax": 0.1,
         "zmin": -0.1
        },
        {
         "colorbar": {
          "title": ""
         },
         "hoverinfo": "text",
         "legendgroup": "y114",
         "marker": {
          "color": "rgba(0, 0, 0, 1.000)",
          "line": {
           "color": "rgba(0, 0, 0, 1.000)",
           "width": 1
          },
          "size": 2,
          "symbol": "circle"
         },
         "mode": "markers",
         "name": "y114",
         "showlegend": true,
         "text": [
          null,
          null
         ],
         "type": "scatter3d",
         "x": [
          -13,
          -13
         ],
         "xaxis": "x1",
         "y": [
          8,
          8
         ],
         "yaxis": "y1",
         "z": [
          7,
          7
         ],
         "zmax": 0.1,
         "zmin": -0.1
        },
        {
         "colorbar": {
          "title": ""
         },
         "hoverinfo": "text",
         "legendgroup": "y115",
         "marker": {
          "color": "rgba(0, 0, 0, 1.000)",
          "line": {
           "color": "rgba(0, 0, 0, 1.000)",
           "width": 1
          },
          "size": 2,
          "symbol": "circle"
         },
         "mode": "markers",
         "name": "y115",
         "showlegend": true,
         "text": [
          null,
          null
         ],
         "type": "scatter3d",
         "x": [
          7,
          7
         ],
         "xaxis": "x1",
         "y": [
          1,
          1
         ],
         "yaxis": "y1",
         "z": [
          2,
          2
         ],
         "zmax": 0.1,
         "zmin": -0.1
        },
        {
         "colorbar": {
          "title": ""
         },
         "hoverinfo": "text",
         "legendgroup": "y116",
         "marker": {
          "color": "rgba(0, 0, 0, 1.000)",
          "line": {
           "color": "rgba(0, 0, 0, 1.000)",
           "width": 1
          },
          "size": 2,
          "symbol": "circle"
         },
         "mode": "markers",
         "name": "y116",
         "showlegend": true,
         "text": [
          null,
          null
         ],
         "type": "scatter3d",
         "x": [
          6,
          6
         ],
         "xaxis": "x1",
         "y": [
          -6,
          -6
         ],
         "yaxis": "y1",
         "z": [
          -2,
          -2
         ],
         "zmax": 0.1,
         "zmin": -0.1
        },
        {
         "colorbar": {
          "title": ""
         },
         "hoverinfo": "text",
         "legendgroup": "y117",
         "marker": {
          "color": "rgba(0, 0, 0, 1.000)",
          "line": {
           "color": "rgba(0, 0, 0, 1.000)",
           "width": 1
          },
          "size": 2,
          "symbol": "circle"
         },
         "mode": "markers",
         "name": "y117",
         "showlegend": true,
         "text": [
          null,
          null
         ],
         "type": "scatter3d",
         "x": [
          -14,
          -14
         ],
         "xaxis": "x1",
         "y": [
          1,
          1
         ],
         "yaxis": "y1",
         "z": [
          -3,
          -3
         ],
         "zmax": 0.1,
         "zmin": -0.1
        },
        {
         "colorbar": {
          "title": ""
         },
         "hoverinfo": "text",
         "legendgroup": "y118",
         "marker": {
          "color": "rgba(0, 0, 0, 1.000)",
          "line": {
           "color": "rgba(0, 0, 0, 1.000)",
           "width": 1
          },
          "size": 2,
          "symbol": "circle"
         },
         "mode": "markers",
         "name": "y118",
         "showlegend": true,
         "text": [
          null,
          null
         ],
         "type": "scatter3d",
         "x": [
          2,
          2
         ],
         "xaxis": "x1",
         "y": [
          -7,
          -7
         ],
         "yaxis": "y1",
         "z": [
          -9,
          -9
         ],
         "zmax": 0.1,
         "zmin": -0.1
        },
        {
         "colorbar": {
          "title": ""
         },
         "hoverinfo": "text",
         "legendgroup": "y119",
         "marker": {
          "color": "rgba(0, 0, 0, 1.000)",
          "line": {
           "color": "rgba(0, 0, 0, 1.000)",
           "width": 1
          },
          "size": 2,
          "symbol": "circle"
         },
         "mode": "markers",
         "name": "y119",
         "showlegend": true,
         "text": [
          null,
          null
         ],
         "type": "scatter3d",
         "x": [
          13,
          13
         ],
         "xaxis": "x1",
         "y": [
          -11,
          -11
         ],
         "yaxis": "y1",
         "z": [
          -8,
          -8
         ],
         "zmax": 0.1,
         "zmin": -0.1
        },
        {
         "colorbar": {
          "title": ""
         },
         "hoverinfo": "text",
         "legendgroup": "y120",
         "marker": {
          "color": "rgba(0, 0, 0, 1.000)",
          "line": {
           "color": "rgba(0, 0, 0, 1.000)",
           "width": 1
          },
          "size": 2,
          "symbol": "circle"
         },
         "mode": "markers",
         "name": "y120",
         "showlegend": true,
         "text": [
          null,
          null
         ],
         "type": "scatter3d",
         "x": [
          11,
          11
         ],
         "xaxis": "x1",
         "y": [
          -7,
          -7
         ],
         "yaxis": "y1",
         "z": [
          -6,
          -6
         ],
         "zmax": 0.1,
         "zmin": -0.1
        },
        {
         "colorbar": {
          "title": ""
         },
         "hoverinfo": "text",
         "legendgroup": "y121",
         "marker": {
          "color": "rgba(0, 0, 0, 1.000)",
          "line": {
           "color": "rgba(0, 0, 0, 1.000)",
           "width": 1
          },
          "size": 2,
          "symbol": "circle"
         },
         "mode": "markers",
         "name": "y121",
         "showlegend": true,
         "text": [
          null,
          null
         ],
         "type": "scatter3d",
         "x": [
          3,
          3
         ],
         "xaxis": "x1",
         "y": [
          0,
          0
         ],
         "yaxis": "y1",
         "z": [
          -1,
          -1
         ],
         "zmax": 0.1,
         "zmin": -0.1
        },
        {
         "colorbar": {
          "title": ""
         },
         "hoverinfo": "text",
         "legendgroup": "y122",
         "marker": {
          "color": "rgba(0, 0, 0, 1.000)",
          "line": {
           "color": "rgba(0, 0, 0, 1.000)",
           "width": 1
          },
          "size": 2,
          "symbol": "circle"
         },
         "mode": "markers",
         "name": "y122",
         "showlegend": true,
         "text": [
          null,
          null
         ],
         "type": "scatter3d",
         "x": [
          -5,
          -5
         ],
         "xaxis": "x1",
         "y": [
          -8,
          -8
         ],
         "yaxis": "y1",
         "z": [
          -5,
          -5
         ],
         "zmax": 0.1,
         "zmin": -0.1
        },
        {
         "colorbar": {
          "title": ""
         },
         "hoverinfo": "text",
         "legendgroup": "y123",
         "marker": {
          "color": "rgba(0, 0, 0, 1.000)",
          "line": {
           "color": "rgba(0, 0, 0, 1.000)",
           "width": 1
          },
          "size": 2,
          "symbol": "circle"
         },
         "mode": "markers",
         "name": "y123",
         "showlegend": true,
         "text": [
          null,
          null
         ],
         "type": "scatter3d",
         "x": [
          1,
          1
         ],
         "xaxis": "x1",
         "y": [
          13,
          13
         ],
         "yaxis": "y1",
         "z": [
          12,
          12
         ],
         "zmax": 0.1,
         "zmin": -0.1
        },
        {
         "colorbar": {
          "title": ""
         },
         "hoverinfo": "text",
         "legendgroup": "y124",
         "marker": {
          "color": "rgba(0, 0, 0, 1.000)",
          "line": {
           "color": "rgba(0, 0, 0, 1.000)",
           "width": 1
          },
          "size": 2,
          "symbol": "circle"
         },
         "mode": "markers",
         "name": "y124",
         "showlegend": true,
         "text": [
          null,
          null
         ],
         "type": "scatter3d",
         "x": [
          9,
          9
         ],
         "xaxis": "x1",
         "y": [
          -9,
          -9
         ],
         "yaxis": "y1",
         "z": [
          -2,
          -2
         ],
         "zmax": 0.1,
         "zmin": -0.1
        },
        {
         "colorbar": {
          "title": ""
         },
         "hoverinfo": "text",
         "legendgroup": "y125",
         "marker": {
          "color": "rgba(0, 0, 0, 1.000)",
          "line": {
           "color": "rgba(0, 0, 0, 1.000)",
           "width": 1
          },
          "size": 2,
          "symbol": "circle"
         },
         "mode": "markers",
         "name": "y125",
         "showlegend": true,
         "text": [
          null,
          null
         ],
         "type": "scatter3d",
         "x": [
          -13,
          -13
         ],
         "xaxis": "x1",
         "y": [
          8,
          8
         ],
         "yaxis": "y1",
         "z": [
          5,
          5
         ],
         "zmax": 0.1,
         "zmin": -0.1
        },
        {
         "colorbar": {
          "title": ""
         },
         "hoverinfo": "text",
         "legendgroup": "y126",
         "marker": {
          "color": "rgba(0, 0, 0, 1.000)",
          "line": {
           "color": "rgba(0, 0, 0, 1.000)",
           "width": 1
          },
          "size": 2,
          "symbol": "circle"
         },
         "mode": "markers",
         "name": "y126",
         "showlegend": true,
         "text": [
          null,
          null
         ],
         "type": "scatter3d",
         "x": [
          9,
          9
         ],
         "xaxis": "x1",
         "y": [
          3,
          3
         ],
         "yaxis": "y1",
         "z": [
          0,
          0
         ],
         "zmax": 0.1,
         "zmin": -0.1
        },
        {
         "colorbar": {
          "title": ""
         },
         "hoverinfo": "text",
         "legendgroup": "y127",
         "marker": {
          "color": "rgba(0, 0, 0, 1.000)",
          "line": {
           "color": "rgba(0, 0, 0, 1.000)",
           "width": 1
          },
          "size": 2,
          "symbol": "circle"
         },
         "mode": "markers",
         "name": "y127",
         "showlegend": true,
         "text": [
          null,
          null
         ],
         "type": "scatter3d",
         "x": [
          10,
          10
         ],
         "xaxis": "x1",
         "y": [
          1,
          1
         ],
         "yaxis": "y1",
         "z": [
          -1,
          -1
         ],
         "zmax": 0.1,
         "zmin": -0.1
        },
        {
         "colorbar": {
          "title": ""
         },
         "hoverinfo": "text",
         "legendgroup": "y128",
         "marker": {
          "color": "rgba(0, 0, 0, 1.000)",
          "line": {
           "color": "rgba(0, 0, 0, 1.000)",
           "width": 1
          },
          "size": 2,
          "symbol": "circle"
         },
         "mode": "markers",
         "name": "y128",
         "showlegend": true,
         "text": [
          null,
          null
         ],
         "type": "scatter3d",
         "x": [
          -8,
          -8
         ],
         "xaxis": "x1",
         "y": [
          -2,
          -2
         ],
         "yaxis": "y1",
         "z": [
          0,
          0
         ],
         "zmax": 0.1,
         "zmin": -0.1
        },
        {
         "colorbar": {
          "title": ""
         },
         "hoverinfo": "text",
         "legendgroup": "y129",
         "marker": {
          "color": "rgba(0, 0, 0, 1.000)",
          "line": {
           "color": "rgba(0, 0, 0, 1.000)",
           "width": 1
          },
          "size": 2,
          "symbol": "circle"
         },
         "mode": "markers",
         "name": "y129",
         "showlegend": true,
         "text": [
          null,
          null
         ],
         "type": "scatter3d",
         "x": [
          -13,
          -13
         ],
         "xaxis": "x1",
         "y": [
          14,
          14
         ],
         "yaxis": "y1",
         "z": [
          9,
          9
         ],
         "zmax": 0.1,
         "zmin": -0.1
        },
        {
         "colorbar": {
          "title": ""
         },
         "hoverinfo": "text",
         "legendgroup": "y130",
         "marker": {
          "color": "rgba(0, 0, 0, 1.000)",
          "line": {
           "color": "rgba(0, 0, 0, 1.000)",
           "width": 1
          },
          "size": 2,
          "symbol": "circle"
         },
         "mode": "markers",
         "name": "y130",
         "showlegend": true,
         "text": [
          null,
          null
         ],
         "type": "scatter3d",
         "x": [
          -1,
          -1
         ],
         "xaxis": "x1",
         "y": [
          -10,
          -10
         ],
         "yaxis": "y1",
         "z": [
          -7,
          -7
         ],
         "zmax": 0.1,
         "zmin": -0.1
        },
        {
         "colorbar": {
          "title": ""
         },
         "hoverinfo": "text",
         "legendgroup": "y131",
         "marker": {
          "color": "rgba(0, 0, 0, 1.000)",
          "line": {
           "color": "rgba(0, 0, 0, 1.000)",
           "width": 1
          },
          "size": 2,
          "symbol": "circle"
         },
         "mode": "markers",
         "name": "y131",
         "showlegend": true,
         "text": [
          null,
          null
         ],
         "type": "scatter3d",
         "x": [
          -2,
          -2
         ],
         "xaxis": "x1",
         "y": [
          7,
          7
         ],
         "yaxis": "y1",
         "z": [
          1,
          1
         ],
         "zmax": 0.1,
         "zmin": -0.1
        },
        {
         "colorbar": {
          "title": ""
         },
         "hoverinfo": "text",
         "legendgroup": "y132",
         "marker": {
          "color": "rgba(0, 0, 0, 1.000)",
          "line": {
           "color": "rgba(0, 0, 0, 1.000)",
           "width": 1
          },
          "size": 2,
          "symbol": "circle"
         },
         "mode": "markers",
         "name": "y132",
         "showlegend": true,
         "text": [
          null,
          null
         ],
         "type": "scatter3d",
         "x": [
          4,
          4
         ],
         "xaxis": "x1",
         "y": [
          -11,
          -11
         ],
         "yaxis": "y1",
         "z": [
          -9,
          -9
         ],
         "zmax": 0.1,
         "zmin": -0.1
        },
        {
         "colorbar": {
          "title": ""
         },
         "hoverinfo": "text",
         "legendgroup": "y133",
         "marker": {
          "color": "rgba(0, 0, 0, 1.000)",
          "line": {
           "color": "rgba(0, 0, 0, 1.000)",
           "width": 1
          },
          "size": 2,
          "symbol": "circle"
         },
         "mode": "markers",
         "name": "y133",
         "showlegend": true,
         "text": [
          null,
          null
         ],
         "type": "scatter3d",
         "x": [
          -9,
          -9
         ],
         "xaxis": "x1",
         "y": [
          0,
          0
         ],
         "yaxis": "y1",
         "z": [
          -1,
          -1
         ],
         "zmax": 0.1,
         "zmin": -0.1
        },
        {
         "colorbar": {
          "title": ""
         },
         "hoverinfo": "text",
         "legendgroup": "y134",
         "marker": {
          "color": "rgba(0, 0, 0, 1.000)",
          "line": {
           "color": "rgba(0, 0, 0, 1.000)",
           "width": 1
          },
          "size": 2,
          "symbol": "circle"
         },
         "mode": "markers",
         "name": "y134",
         "showlegend": true,
         "text": [
          null,
          null
         ],
         "type": "scatter3d",
         "x": [
          15,
          15
         ],
         "xaxis": "x1",
         "y": [
          -3,
          -3
         ],
         "yaxis": "y1",
         "z": [
          0,
          0
         ],
         "zmax": 0.1,
         "zmin": -0.1
        },
        {
         "colorbar": {
          "title": ""
         },
         "hoverinfo": "text",
         "legendgroup": "y135",
         "marker": {
          "color": "rgba(0, 0, 0, 1.000)",
          "line": {
           "color": "rgba(0, 0, 0, 1.000)",
           "width": 1
          },
          "size": 2,
          "symbol": "circle"
         },
         "mode": "markers",
         "name": "y135",
         "showlegend": true,
         "text": [
          null,
          null
         ],
         "type": "scatter3d",
         "x": [
          6,
          6
         ],
         "xaxis": "x1",
         "y": [
          12,
          12
         ],
         "yaxis": "y1",
         "z": [
          10,
          10
         ],
         "zmax": 0.1,
         "zmin": -0.1
        },
        {
         "colorbar": {
          "title": ""
         },
         "hoverinfo": "text",
         "legendgroup": "y136",
         "marker": {
          "color": "rgba(0, 0, 0, 1.000)",
          "line": {
           "color": "rgba(0, 0, 0, 1.000)",
           "width": 1
          },
          "size": 2,
          "symbol": "circle"
         },
         "mode": "markers",
         "name": "y136",
         "showlegend": true,
         "text": [
          null,
          null
         ],
         "type": "scatter3d",
         "x": [
          2,
          2
         ],
         "xaxis": "x1",
         "y": [
          -4,
          -4
         ],
         "yaxis": "y1",
         "z": [
          -6,
          -6
         ],
         "zmax": 0.1,
         "zmin": -0.1
        },
        {
         "colorbar": {
          "title": ""
         },
         "hoverinfo": "text",
         "legendgroup": "y137",
         "marker": {
          "color": "rgba(0, 0, 0, 1.000)",
          "line": {
           "color": "rgba(0, 0, 0, 1.000)",
           "width": 1
          },
          "size": 2,
          "symbol": "circle"
         },
         "mode": "markers",
         "name": "y137",
         "showlegend": true,
         "text": [
          null,
          null
         ],
         "type": "scatter3d",
         "x": [
          2,
          2
         ],
         "xaxis": "x1",
         "y": [
          -4,
          -4
         ],
         "yaxis": "y1",
         "z": [
          4,
          4
         ],
         "zmax": 0.1,
         "zmin": -0.1
        },
        {
         "colorbar": {
          "title": ""
         },
         "hoverinfo": "text",
         "legendgroup": "y138",
         "marker": {
          "color": "rgba(0, 0, 0, 1.000)",
          "line": {
           "color": "rgba(0, 0, 0, 1.000)",
           "width": 1
          },
          "size": 2,
          "symbol": "circle"
         },
         "mode": "markers",
         "name": "y138",
         "showlegend": true,
         "text": [
          null,
          null
         ],
         "type": "scatter3d",
         "x": [
          8,
          8
         ],
         "xaxis": "x1",
         "y": [
          -4,
          -4
         ],
         "yaxis": "y1",
         "z": [
          4,
          4
         ],
         "zmax": 0.1,
         "zmin": -0.1
        },
        {
         "colorbar": {
          "title": ""
         },
         "hoverinfo": "text",
         "legendgroup": "y139",
         "marker": {
          "color": "rgba(0, 0, 0, 1.000)",
          "line": {
           "color": "rgba(0, 0, 0, 1.000)",
           "width": 1
          },
          "size": 2,
          "symbol": "circle"
         },
         "mode": "markers",
         "name": "y139",
         "showlegend": true,
         "text": [
          null,
          null
         ],
         "type": "scatter3d",
         "x": [
          1,
          1
         ],
         "xaxis": "x1",
         "y": [
          -8,
          -8
         ],
         "yaxis": "y1",
         "z": [
          -1,
          -1
         ],
         "zmax": 0.1,
         "zmin": -0.1
        },
        {
         "colorbar": {
          "title": ""
         },
         "hoverinfo": "text",
         "legendgroup": "y140",
         "marker": {
          "color": "rgba(0, 0, 0, 1.000)",
          "line": {
           "color": "rgba(0, 0, 0, 1.000)",
           "width": 1
          },
          "size": 2,
          "symbol": "circle"
         },
         "mode": "markers",
         "name": "y140",
         "showlegend": true,
         "text": [
          null,
          null
         ],
         "type": "scatter3d",
         "x": [
          2,
          2
         ],
         "xaxis": "x1",
         "y": [
          -7,
          -7
         ],
         "yaxis": "y1",
         "z": [
          -1,
          -1
         ],
         "zmax": 0.1,
         "zmin": -0.1
        },
        {
         "colorbar": {
          "title": ""
         },
         "hoverinfo": "text",
         "legendgroup": "y141",
         "marker": {
          "color": "rgba(0, 0, 0, 1.000)",
          "line": {
           "color": "rgba(0, 0, 0, 1.000)",
           "width": 1
          },
          "size": 2,
          "symbol": "circle"
         },
         "mode": "markers",
         "name": "y141",
         "showlegend": true,
         "text": [
          null,
          null
         ],
         "type": "scatter3d",
         "x": [
          -1,
          -1
         ],
         "xaxis": "x1",
         "y": [
          -10,
          -10
         ],
         "yaxis": "y1",
         "z": [
          -5,
          -5
         ],
         "zmax": 0.1,
         "zmin": -0.1
        },
        {
         "colorbar": {
          "title": ""
         },
         "hoverinfo": "text",
         "legendgroup": "y142",
         "marker": {
          "color": "rgba(0, 0, 0, 1.000)",
          "line": {
           "color": "rgba(0, 0, 0, 1.000)",
           "width": 1
          },
          "size": 2,
          "symbol": "circle"
         },
         "mode": "markers",
         "name": "y142",
         "showlegend": true,
         "text": [
          null,
          null
         ],
         "type": "scatter3d",
         "x": [
          0,
          0
         ],
         "xaxis": "x1",
         "y": [
          6,
          6
         ],
         "yaxis": "y1",
         "z": [
          10,
          10
         ],
         "zmax": 0.1,
         "zmin": -0.1
        },
        {
         "colorbar": {
          "title": ""
         },
         "hoverinfo": "text",
         "legendgroup": "y143",
         "marker": {
          "color": "rgba(0, 0, 0, 1.000)",
          "line": {
           "color": "rgba(0, 0, 0, 1.000)",
           "width": 1
          },
          "size": 2,
          "symbol": "circle"
         },
         "mode": "markers",
         "name": "y143",
         "showlegend": true,
         "text": [
          null,
          null
         ],
         "type": "scatter3d",
         "x": [
          -10,
          -10
         ],
         "xaxis": "x1",
         "y": [
          14,
          14
         ],
         "yaxis": "y1",
         "z": [
          10,
          10
         ],
         "zmax": 0.1,
         "zmin": -0.1
        },
        {
         "colorbar": {
          "title": ""
         },
         "hoverinfo": "text",
         "legendgroup": "y144",
         "marker": {
          "color": "rgba(0, 0, 0, 1.000)",
          "line": {
           "color": "rgba(0, 0, 0, 1.000)",
           "width": 1
          },
          "size": 2,
          "symbol": "circle"
         },
         "mode": "markers",
         "name": "y144",
         "showlegend": true,
         "text": [
          null,
          null
         ],
         "type": "scatter3d",
         "x": [
          -15,
          -15
         ],
         "xaxis": "x1",
         "y": [
          6,
          6
         ],
         "yaxis": "y1",
         "z": [
          5,
          5
         ],
         "zmax": 0.1,
         "zmin": -0.1
        },
        {
         "colorbar": {
          "title": ""
         },
         "hoverinfo": "text",
         "legendgroup": "y145",
         "marker": {
          "color": "rgba(0, 0, 0, 1.000)",
          "line": {
           "color": "rgba(0, 0, 0, 1.000)",
           "width": 1
          },
          "size": 2,
          "symbol": "circle"
         },
         "mode": "markers",
         "name": "y145",
         "showlegend": true,
         "text": [
          null,
          null
         ],
         "type": "scatter3d",
         "x": [
          -2,
          -2
         ],
         "xaxis": "x1",
         "y": [
          7,
          7
         ],
         "yaxis": "y1",
         "z": [
          9,
          9
         ],
         "zmax": 0.1,
         "zmin": -0.1
        },
        {
         "colorbar": {
          "title": ""
         },
         "hoverinfo": "text",
         "legendgroup": "y146",
         "marker": {
          "color": "rgba(0, 0, 0, 1.000)",
          "line": {
           "color": "rgba(0, 0, 0, 1.000)",
           "width": 1
          },
          "size": 2,
          "symbol": "circle"
         },
         "mode": "markers",
         "name": "y146",
         "showlegend": true,
         "text": [
          null,
          null
         ],
         "type": "scatter3d",
         "x": [
          -2,
          -2
         ],
         "xaxis": "x1",
         "y": [
          -2,
          -2
         ],
         "yaxis": "y1",
         "z": [
          -4,
          -4
         ],
         "zmax": 0.1,
         "zmin": -0.1
        },
        {
         "colorbar": {
          "title": ""
         },
         "hoverinfo": "text",
         "legendgroup": "y147",
         "marker": {
          "color": "rgba(0, 0, 0, 1.000)",
          "line": {
           "color": "rgba(0, 0, 0, 1.000)",
           "width": 1
          },
          "size": 2,
          "symbol": "circle"
         },
         "mode": "markers",
         "name": "y147",
         "showlegend": true,
         "text": [
          null,
          null
         ],
         "type": "scatter3d",
         "x": [
          -2,
          -2
         ],
         "xaxis": "x1",
         "y": [
          13,
          13
         ],
         "yaxis": "y1",
         "z": [
          9,
          9
         ],
         "zmax": 0.1,
         "zmin": -0.1
        },
        {
         "colorbar": {
          "title": ""
         },
         "hoverinfo": "text",
         "legendgroup": "y148",
         "marker": {
          "color": "rgba(0, 0, 0, 1.000)",
          "line": {
           "color": "rgba(0, 0, 0, 1.000)",
           "width": 1
          },
          "size": 2,
          "symbol": "circle"
         },
         "mode": "markers",
         "name": "y148",
         "showlegend": true,
         "text": [
          null,
          null
         ],
         "type": "scatter3d",
         "x": [
          12,
          12
         ],
         "xaxis": "x1",
         "y": [
          -9,
          -9
         ],
         "yaxis": "y1",
         "z": [
          -7,
          -7
         ],
         "zmax": 0.1,
         "zmin": -0.1
        },
        {
         "colorbar": {
          "title": ""
         },
         "hoverinfo": "text",
         "legendgroup": "y149",
         "marker": {
          "color": "rgba(0, 0, 0, 1.000)",
          "line": {
           "color": "rgba(0, 0, 0, 1.000)",
           "width": 1
          },
          "size": 2,
          "symbol": "circle"
         },
         "mode": "markers",
         "name": "y149",
         "showlegend": true,
         "text": [
          null,
          null
         ],
         "type": "scatter3d",
         "x": [
          1,
          1
         ],
         "xaxis": "x1",
         "y": [
          -5,
          -5
         ],
         "yaxis": "y1",
         "z": [
          2,
          2
         ],
         "zmax": 0.1,
         "zmin": -0.1
        },
        {
         "colorbar": {
          "title": ""
         },
         "hoverinfo": "text",
         "legendgroup": "y150",
         "marker": {
          "color": "rgba(0, 0, 0, 1.000)",
          "line": {
           "color": "rgba(0, 0, 0, 1.000)",
           "width": 1
          },
          "size": 2,
          "symbol": "circle"
         },
         "mode": "markers",
         "name": "y150",
         "showlegend": true,
         "text": [
          null,
          null
         ],
         "type": "scatter3d",
         "x": [
          1,
          1
         ],
         "xaxis": "x1",
         "y": [
          -5,
          -5
         ],
         "yaxis": "y1",
         "z": [
          2,
          2
         ],
         "zmax": 0.1,
         "zmin": -0.1
        },
        {
         "colorbar": {
          "title": ""
         },
         "hoverinfo": "text",
         "legendgroup": "y151",
         "marker": {
          "color": "rgba(0, 0, 0, 1.000)",
          "line": {
           "color": "rgba(0, 0, 0, 1.000)",
           "width": 1
          },
          "size": 2,
          "symbol": "circle"
         },
         "mode": "markers",
         "name": "y151",
         "showlegend": true,
         "text": [
          null,
          null
         ],
         "type": "scatter3d",
         "x": [
          6,
          6
         ],
         "xaxis": "x1",
         "y": [
          0,
          0
         ],
         "yaxis": "y1",
         "z": [
          2,
          2
         ],
         "zmax": 0.1,
         "zmin": -0.1
        },
        {
         "colorbar": {
          "title": ""
         },
         "hoverinfo": "text",
         "legendgroup": "y152",
         "marker": {
          "color": "rgba(0, 0, 0, 1.000)",
          "line": {
           "color": "rgba(0, 0, 0, 1.000)",
           "width": 1
          },
          "size": 2,
          "symbol": "circle"
         },
         "mode": "markers",
         "name": "y152",
         "showlegend": true,
         "text": [
          null,
          null
         ],
         "type": "scatter3d",
         "x": [
          8,
          8
         ],
         "xaxis": "x1",
         "y": [
          2,
          2
         ],
         "yaxis": "y1",
         "z": [
          2,
          2
         ],
         "zmax": 0.1,
         "zmin": -0.1
        },
        {
         "colorbar": {
          "title": ""
         },
         "hoverinfo": "text",
         "legendgroup": "y153",
         "marker": {
          "color": "rgba(0, 0, 0, 1.000)",
          "line": {
           "color": "rgba(0, 0, 0, 1.000)",
           "width": 1
          },
          "size": 2,
          "symbol": "circle"
         },
         "mode": "markers",
         "name": "y153",
         "showlegend": true,
         "text": [
          null,
          null
         ],
         "type": "scatter3d",
         "x": [
          -3,
          -3
         ],
         "xaxis": "x1",
         "y": [
          0,
          0
         ],
         "yaxis": "y1",
         "z": [
          -3,
          -3
         ],
         "zmax": 0.1,
         "zmin": -0.1
        },
        {
         "colorbar": {
          "title": ""
         },
         "hoverinfo": "text",
         "legendgroup": "y154",
         "marker": {
          "color": "rgba(0, 0, 0, 1.000)",
          "line": {
           "color": "rgba(0, 0, 0, 1.000)",
           "width": 1
          },
          "size": 2,
          "symbol": "circle"
         },
         "mode": "markers",
         "name": "y154",
         "showlegend": true,
         "text": [
          null,
          null
         ],
         "type": "scatter3d",
         "x": [
          8,
          8
         ],
         "xaxis": "x1",
         "y": [
          5,
          5
         ],
         "yaxis": "y1",
         "z": [
          3,
          3
         ],
         "zmax": 0.1,
         "zmin": -0.1
        },
        {
         "colorbar": {
          "title": ""
         },
         "hoverinfo": "text",
         "legendgroup": "y155",
         "marker": {
          "color": "rgba(0, 0, 0, 1.000)",
          "line": {
           "color": "rgba(0, 0, 0, 1.000)",
           "width": 1
          },
          "size": 2,
          "symbol": "circle"
         },
         "mode": "markers",
         "name": "y155",
         "showlegend": true,
         "text": [
          null,
          null
         ],
         "type": "scatter3d",
         "x": [
          1,
          1
         ],
         "xaxis": "x1",
         "y": [
          -11,
          -11
         ],
         "yaxis": "y1",
         "z": [
          -8,
          -8
         ],
         "zmax": 0.1,
         "zmin": -0.1
        },
        {
         "colorbar": {
          "title": ""
         },
         "hoverinfo": "text",
         "legendgroup": "y156",
         "marker": {
          "color": "rgba(0, 0, 0, 1.000)",
          "line": {
           "color": "rgba(0, 0, 0, 1.000)",
           "width": 1
          },
          "size": 2,
          "symbol": "circle"
         },
         "mode": "markers",
         "name": "y156",
         "showlegend": true,
         "text": [
          null,
          null
         ],
         "type": "scatter3d",
         "x": [
          4,
          4
         ],
         "xaxis": "x1",
         "y": [
          -8,
          -8
         ],
         "yaxis": "y1",
         "z": [
          0,
          0
         ],
         "zmax": 0.1,
         "zmin": -0.1
        },
        {
         "colorbar": {
          "title": ""
         },
         "hoverinfo": "text",
         "legendgroup": "y157",
         "marker": {
          "color": "rgba(0, 0, 0, 1.000)",
          "line": {
           "color": "rgba(0, 0, 0, 1.000)",
           "width": 1
          },
          "size": 2,
          "symbol": "circle"
         },
         "mode": "markers",
         "name": "y157",
         "showlegend": true,
         "text": [
          null,
          null
         ],
         "type": "scatter3d",
         "x": [
          -5,
          -5
         ],
         "xaxis": "x1",
         "y": [
          7,
          7
         ],
         "yaxis": "y1",
         "z": [
          -2,
          -2
         ],
         "zmax": 0.1,
         "zmin": -0.1
        },
        {
         "colorbar": {
          "title": ""
         },
         "hoverinfo": "text",
         "legendgroup": "y158",
         "marker": {
          "color": "rgba(0, 0, 0, 1.000)",
          "line": {
           "color": "rgba(0, 0, 0, 1.000)",
           "width": 1
          },
          "size": 2,
          "symbol": "circle"
         },
         "mode": "markers",
         "name": "y158",
         "showlegend": true,
         "text": [
          null,
          null
         ],
         "type": "scatter3d",
         "x": [
          -11,
          -11
         ],
         "xaxis": "x1",
         "y": [
          1,
          1
         ],
         "yaxis": "y1",
         "z": [
          -2,
          -2
         ],
         "zmax": 0.1,
         "zmin": -0.1
        },
        {
         "colorbar": {
          "title": ""
         },
         "hoverinfo": "text",
         "legendgroup": "y159",
         "marker": {
          "color": "rgba(0, 0, 0, 1.000)",
          "line": {
           "color": "rgba(0, 0, 0, 1.000)",
           "width": 1
          },
          "size": 2,
          "symbol": "circle"
         },
         "mode": "markers",
         "name": "y159",
         "showlegend": true,
         "text": [
          null,
          null
         ],
         "type": "scatter3d",
         "x": [
          6,
          6
         ],
         "xaxis": "x1",
         "y": [
          -6,
          -6
         ],
         "yaxis": "y1",
         "z": [
          -2,
          -2
         ],
         "zmax": 0.1,
         "zmin": -0.1
        },
        {
         "colorbar": {
          "title": ""
         },
         "hoverinfo": "text",
         "legendgroup": "y160",
         "marker": {
          "color": "rgba(0, 0, 0, 1.000)",
          "line": {
           "color": "rgba(0, 0, 0, 1.000)",
           "width": 1
          },
          "size": 2,
          "symbol": "circle"
         },
         "mode": "markers",
         "name": "y160",
         "showlegend": true,
         "text": [
          null,
          null
         ],
         "type": "scatter3d",
         "x": [
          -6,
          -6
         ],
         "xaxis": "x1",
         "y": [
          -3,
          -3
         ],
         "yaxis": "y1",
         "z": [
          -7,
          -7
         ],
         "zmax": 0.1,
         "zmin": -0.1
        },
        {
         "colorbar": {
          "title": ""
         },
         "hoverinfo": "text",
         "legendgroup": "y161",
         "marker": {
          "color": "rgba(0, 0, 0, 1.000)",
          "line": {
           "color": "rgba(0, 0, 0, 1.000)",
           "width": 1
          },
          "size": 2,
          "symbol": "circle"
         },
         "mode": "markers",
         "name": "y161",
         "showlegend": true,
         "text": [
          null,
          null
         ],
         "type": "scatter3d",
         "x": [
          1,
          1
         ],
         "xaxis": "x1",
         "y": [
          -5,
          -5
         ],
         "yaxis": "y1",
         "z": [
          -6,
          -6
         ],
         "zmax": 0.1,
         "zmin": -0.1
        },
        {
         "colorbar": {
          "title": ""
         },
         "hoverinfo": "text",
         "legendgroup": "y162",
         "marker": {
          "color": "rgba(0, 0, 0, 1.000)",
          "line": {
           "color": "rgba(0, 0, 0, 1.000)",
           "width": 1
          },
          "size": 2,
          "symbol": "circle"
         },
         "mode": "markers",
         "name": "y162",
         "showlegend": true,
         "text": [
          null,
          null
         ],
         "type": "scatter3d",
         "x": [
          8,
          8
         ],
         "xaxis": "x1",
         "y": [
          -4,
          -4
         ],
         "yaxis": "y1",
         "z": [
          -4,
          -4
         ],
         "zmax": 0.1,
         "zmin": -0.1
        },
        {
         "colorbar": {
          "title": ""
         },
         "hoverinfo": "text",
         "legendgroup": "y163",
         "marker": {
          "color": "rgba(0, 0, 0, 1.000)",
          "line": {
           "color": "rgba(0, 0, 0, 1.000)",
           "width": 1
          },
          "size": 2,
          "symbol": "circle"
         },
         "mode": "markers",
         "name": "y163",
         "showlegend": true,
         "text": [
          null,
          null
         ],
         "type": "scatter3d",
         "x": [
          10,
          10
         ],
         "xaxis": "x1",
         "y": [
          -8,
          -8
         ],
         "yaxis": "y1",
         "z": [
          -6,
          -6
         ],
         "zmax": 0.1,
         "zmin": -0.1
        },
        {
         "colorbar": {
          "title": ""
         },
         "hoverinfo": "text",
         "legendgroup": "y164",
         "marker": {
          "color": "rgba(0, 0, 0, 1.000)",
          "line": {
           "color": "rgba(0, 0, 0, 1.000)",
           "width": 1
          },
          "size": 2,
          "symbol": "circle"
         },
         "mode": "markers",
         "name": "y164",
         "showlegend": true,
         "text": [
          null,
          null
         ],
         "type": "scatter3d",
         "x": [
          -12,
          -12
         ],
         "xaxis": "x1",
         "y": [
          12,
          12
         ],
         "yaxis": "y1",
         "z": [
          8,
          8
         ],
         "zmax": 0.1,
         "zmin": -0.1
        },
        {
         "colorbar": {
          "title": ""
         },
         "hoverinfo": "text",
         "legendgroup": "y165",
         "marker": {
          "color": "rgba(0, 0, 0, 1.000)",
          "line": {
           "color": "rgba(0, 0, 0, 1.000)",
           "width": 1
          },
          "size": 2,
          "symbol": "circle"
         },
         "mode": "markers",
         "name": "y165",
         "showlegend": true,
         "text": [
          null,
          null
         ],
         "type": "scatter3d",
         "x": [
          -7,
          -7
         ],
         "xaxis": "x1",
         "y": [
          -10,
          -10
         ],
         "yaxis": "y1",
         "z": [
          -7,
          -7
         ],
         "zmax": 0.1,
         "zmin": -0.1
        },
        {
         "colorbar": {
          "title": ""
         },
         "hoverinfo": "text",
         "legendgroup": "y166",
         "marker": {
          "color": "rgba(0, 0, 0, 1.000)",
          "line": {
           "color": "rgba(0, 0, 0, 1.000)",
           "width": 1
          },
          "size": 2,
          "symbol": "circle"
         },
         "mode": "markers",
         "name": "y166",
         "showlegend": true,
         "text": [
          null,
          null
         ],
         "type": "scatter3d",
         "x": [
          8,
          8
         ],
         "xaxis": "x1",
         "y": [
          2,
          2
         ],
         "yaxis": "y1",
         "z": [
          -2,
          -2
         ],
         "zmax": 0.1,
         "zmin": -0.1
        },
        {
         "colorbar": {
          "title": ""
         },
         "hoverinfo": "text",
         "legendgroup": "y167",
         "marker": {
          "color": "rgba(0, 0, 0, 1.000)",
          "line": {
           "color": "rgba(0, 0, 0, 1.000)",
           "width": 1
          },
          "size": 2,
          "symbol": "circle"
         },
         "mode": "markers",
         "name": "y167",
         "showlegend": true,
         "text": [
          null,
          null
         ],
         "type": "scatter3d",
         "x": [
          1,
          1
         ],
         "xaxis": "x1",
         "y": [
          10,
          10
         ],
         "yaxis": "y1",
         "z": [
          11,
          11
         ],
         "zmax": 0.1,
         "zmin": -0.1
        },
        {
         "colorbar": {
          "title": ""
         },
         "hoverinfo": "text",
         "legendgroup": "y168",
         "marker": {
          "color": "rgba(0, 0, 0, 1.000)",
          "line": {
           "color": "rgba(0, 0, 0, 1.000)",
           "width": 1
          },
          "size": 2,
          "symbol": "circle"
         },
         "mode": "markers",
         "name": "y168",
         "showlegend": true,
         "text": [
          null,
          null
         ],
         "type": "scatter3d",
         "x": [
          6,
          6
         ],
         "xaxis": "x1",
         "y": [
          -12,
          -12
         ],
         "yaxis": "y1",
         "z": [
          -8,
          -8
         ],
         "zmax": 0.1,
         "zmin": -0.1
        },
        {
         "colorbar": {
          "title": ""
         },
         "hoverinfo": "text",
         "legendgroup": "y169",
         "marker": {
          "color": "rgba(0, 0, 0, 1.000)",
          "line": {
           "color": "rgba(0, 0, 0, 1.000)",
           "width": 1
          },
          "size": 2,
          "symbol": "circle"
         },
         "mode": "markers",
         "name": "y169",
         "showlegend": true,
         "text": [
          null,
          null
         ],
         "type": "scatter3d",
         "x": [
          -6,
          -6
         ],
         "xaxis": "x1",
         "y": [
          -3,
          -3
         ],
         "yaxis": "y1",
         "z": [
          -7,
          -7
         ],
         "zmax": 0.1,
         "zmin": -0.1
        },
        {
         "colorbar": {
          "title": ""
         },
         "hoverinfo": "text",
         "legendgroup": "y170",
         "marker": {
          "color": "rgba(0, 0, 0, 1.000)",
          "line": {
           "color": "rgba(0, 0, 0, 1.000)",
           "width": 1
          },
          "size": 2,
          "symbol": "circle"
         },
         "mode": "markers",
         "name": "y170",
         "showlegend": true,
         "text": [
          null,
          null
         ],
         "type": "scatter3d",
         "x": [
          -5,
          -5
         ],
         "xaxis": "x1",
         "y": [
          -5,
          -5
         ],
         "yaxis": "y1",
         "z": [
          -4,
          -4
         ],
         "zmax": 0.1,
         "zmin": -0.1
        },
        {
         "colorbar": {
          "title": ""
         },
         "hoverinfo": "text",
         "legendgroup": "y171",
         "marker": {
          "color": "rgba(0, 0, 0, 1.000)",
          "line": {
           "color": "rgba(0, 0, 0, 1.000)",
           "width": 1
          },
          "size": 2,
          "symbol": "circle"
         },
         "mode": "markers",
         "name": "y171",
         "showlegend": true,
         "text": [
          null,
          null
         ],
         "type": "scatter3d",
         "x": [
          -8,
          -8
         ],
         "xaxis": "x1",
         "y": [
          -5,
          -5
         ],
         "yaxis": "y1",
         "z": [
          -5,
          -5
         ],
         "zmax": 0.1,
         "zmin": -0.1
        },
        {
         "colorbar": {
          "title": ""
         },
         "hoverinfo": "text",
         "legendgroup": "y172",
         "marker": {
          "color": "rgba(0, 0, 0, 1.000)",
          "line": {
           "color": "rgba(0, 0, 0, 1.000)",
           "width": 1
          },
          "size": 2,
          "symbol": "circle"
         },
         "mode": "markers",
         "name": "y172",
         "showlegend": true,
         "text": [
          null,
          null
         ],
         "type": "scatter3d",
         "x": [
          2,
          2
         ],
         "xaxis": "x1",
         "y": [
          -1,
          -1
         ],
         "yaxis": "y1",
         "z": [
          -5,
          -5
         ],
         "zmax": 0.1,
         "zmin": -0.1
        },
        {
         "colorbar": {
          "title": ""
         },
         "hoverinfo": "text",
         "legendgroup": "y173",
         "marker": {
          "color": "rgba(0, 0, 0, 1.000)",
          "line": {
           "color": "rgba(0, 0, 0, 1.000)",
           "width": 1
          },
          "size": 2,
          "symbol": "circle"
         },
         "mode": "markers",
         "name": "y173",
         "showlegend": true,
         "text": [
          null,
          null
         ],
         "type": "scatter3d",
         "x": [
          0,
          0
         ],
         "xaxis": "x1",
         "y": [
          -3,
          -3
         ],
         "yaxis": "y1",
         "z": [
          -5,
          -5
         ],
         "zmax": 0.1,
         "zmin": -0.1
        },
        {
         "colorbar": {
          "title": ""
         },
         "hoverinfo": "text",
         "legendgroup": "y174",
         "marker": {
          "color": "rgba(0, 0, 0, 1.000)",
          "line": {
           "color": "rgba(0, 0, 0, 1.000)",
           "width": 1
          },
          "size": 2,
          "symbol": "circle"
         },
         "mode": "markers",
         "name": "y174",
         "showlegend": true,
         "text": [
          null,
          null
         ],
         "type": "scatter3d",
         "x": [
          12,
          12
         ],
         "xaxis": "x1",
         "y": [
          6,
          6
         ],
         "yaxis": "y1",
         "z": [
          4,
          4
         ],
         "zmax": 0.1,
         "zmin": -0.1
        },
        {
         "colorbar": {
          "title": ""
         },
         "hoverinfo": "text",
         "legendgroup": "y175",
         "marker": {
          "color": "rgba(0, 0, 0, 1.000)",
          "line": {
           "color": "rgba(0, 0, 0, 1.000)",
           "width": 1
          },
          "size": 2,
          "symbol": "circle"
         },
         "mode": "markers",
         "name": "y175",
         "showlegend": true,
         "text": [
          null,
          null
         ],
         "type": "scatter3d",
         "x": [
          10,
          10
         ],
         "xaxis": "x1",
         "y": [
          -5,
          -5
         ],
         "yaxis": "y1",
         "z": [
          1,
          1
         ],
         "zmax": 0.1,
         "zmin": -0.1
        },
        {
         "colorbar": {
          "title": ""
         },
         "hoverinfo": "text",
         "legendgroup": "y176",
         "marker": {
          "color": "rgba(0, 0, 0, 1.000)",
          "line": {
           "color": "rgba(0, 0, 0, 1.000)",
           "width": 1
          },
          "size": 2,
          "symbol": "circle"
         },
         "mode": "markers",
         "name": "y176",
         "showlegend": true,
         "text": [
          null,
          null
         ],
         "type": "scatter3d",
         "x": [
          -11,
          -11
         ],
         "xaxis": "x1",
         "y": [
          -8,
          -8
         ],
         "yaxis": "y1",
         "z": [
          -5,
          -5
         ],
         "zmax": 0.1,
         "zmin": -0.1
        },
        {
         "colorbar": {
          "title": ""
         },
         "hoverinfo": "text",
         "legendgroup": "y177",
         "marker": {
          "color": "rgba(0, 0, 0, 1.000)",
          "line": {
           "color": "rgba(0, 0, 0, 1.000)",
           "width": 1
          },
          "size": 2,
          "symbol": "circle"
         },
         "mode": "markers",
         "name": "y177",
         "showlegend": true,
         "text": [
          null,
          null
         ],
         "type": "scatter3d",
         "x": [
          1,
          1
         ],
         "xaxis": "x1",
         "y": [
          7,
          7
         ],
         "yaxis": "y1",
         "z": [
          4,
          4
         ],
         "zmax": 0.1,
         "zmin": -0.1
        },
        {
         "colorbar": {
          "title": ""
         },
         "hoverinfo": "text",
         "legendgroup": "y178",
         "marker": {
          "color": "rgba(0, 0, 0, 1.000)",
          "line": {
           "color": "rgba(0, 0, 0, 1.000)",
           "width": 1
          },
          "size": 2,
          "symbol": "circle"
         },
         "mode": "markers",
         "name": "y178",
         "showlegend": true,
         "text": [
          null,
          null
         ],
         "type": "scatter3d",
         "x": [
          -9,
          -9
         ],
         "xaxis": "x1",
         "y": [
          15,
          15
         ],
         "yaxis": "y1",
         "z": [
          10,
          10
         ],
         "zmax": 0.1,
         "zmin": -0.1
        },
        {
         "colorbar": {
          "title": ""
         },
         "hoverinfo": "text",
         "legendgroup": "y179",
         "marker": {
          "color": "rgba(0, 0, 0, 1.000)",
          "line": {
           "color": "rgba(0, 0, 0, 1.000)",
           "width": 1
          },
          "size": 2,
          "symbol": "circle"
         },
         "mode": "markers",
         "name": "y179",
         "showlegend": true,
         "text": [
          null,
          null
         ],
         "type": "scatter3d",
         "x": [
          -14,
          -14
         ],
         "xaxis": "x1",
         "y": [
          1,
          1
         ],
         "yaxis": "y1",
         "z": [
          -1,
          -1
         ],
         "zmax": 0.1,
         "zmin": -0.1
        },
        {
         "colorbar": {
          "title": ""
         },
         "hoverinfo": "text",
         "legendgroup": "y180",
         "marker": {
          "color": "rgba(0, 0, 0, 1.000)",
          "line": {
           "color": "rgba(0, 0, 0, 1.000)",
           "width": 1
          },
          "size": 2,
          "symbol": "circle"
         },
         "mode": "markers",
         "name": "y180",
         "showlegend": true,
         "text": [
          null,
          null
         ],
         "type": "scatter3d",
         "x": [
          -15,
          -15
         ],
         "xaxis": "x1",
         "y": [
          0,
          0
         ],
         "yaxis": "y1",
         "z": [
          1,
          1
         ],
         "zmax": 0.1,
         "zmin": -0.1
        },
        {
         "colorbar": {
          "title": ""
         },
         "hoverinfo": "text",
         "legendgroup": "y181",
         "marker": {
          "color": "rgba(0, 0, 0, 1.000)",
          "line": {
           "color": "rgba(0, 0, 0, 1.000)",
           "width": 1
          },
          "size": 2,
          "symbol": "circle"
         },
         "mode": "markers",
         "name": "y181",
         "showlegend": true,
         "text": [
          null,
          null
         ],
         "type": "scatter3d",
         "x": [
          -13,
          -13
         ],
         "xaxis": "x1",
         "y": [
          11,
          11
         ],
         "yaxis": "y1",
         "z": [
          4,
          4
         ],
         "zmax": 0.1,
         "zmin": -0.1
        },
        {
         "colorbar": {
          "title": ""
         },
         "hoverinfo": "text",
         "legendgroup": "y182",
         "marker": {
          "color": "rgba(0, 0, 0, 1.000)",
          "line": {
           "color": "rgba(0, 0, 0, 1.000)",
           "width": 1
          },
          "size": 2,
          "symbol": "circle"
         },
         "mode": "markers",
         "name": "y182",
         "showlegend": true,
         "text": [
          null,
          null
         ],
         "type": "scatter3d",
         "x": [
          -1,
          -1
         ],
         "xaxis": "x1",
         "y": [
          -7,
          -7
         ],
         "yaxis": "y1",
         "z": [
          -4,
          -4
         ],
         "zmax": 0.1,
         "zmin": -0.1
        },
        {
         "colorbar": {
          "title": ""
         },
         "hoverinfo": "text",
         "legendgroup": "y183",
         "marker": {
          "color": "rgba(0, 0, 0, 1.000)",
          "line": {
           "color": "rgba(0, 0, 0, 1.000)",
           "width": 1
          },
          "size": 2,
          "symbol": "circle"
         },
         "mode": "markers",
         "name": "y183",
         "showlegend": true,
         "text": [
          null,
          null
         ],
         "type": "scatter3d",
         "x": [
          3,
          3
         ],
         "xaxis": "x1",
         "y": [
          0,
          0
         ],
         "yaxis": "y1",
         "z": [
          3,
          3
         ],
         "zmax": 0.1,
         "zmin": -0.1
        },
        {
         "colorbar": {
          "title": ""
         },
         "hoverinfo": "text",
         "legendgroup": "y184",
         "marker": {
          "color": "rgba(0, 0, 0, 1.000)",
          "line": {
           "color": "rgba(0, 0, 0, 1.000)",
           "width": 1
          },
          "size": 2,
          "symbol": "circle"
         },
         "mode": "markers",
         "name": "y184",
         "showlegend": true,
         "text": [
          null,
          null
         ],
         "type": "scatter3d",
         "x": [
          -6,
          -6
         ],
         "xaxis": "x1",
         "y": [
          -6,
          -6
         ],
         "yaxis": "y1",
         "z": [
          -6,
          -6
         ],
         "zmax": 0.1,
         "zmin": -0.1
        },
        {
         "colorbar": {
          "title": ""
         },
         "hoverinfo": "text",
         "legendgroup": "y185",
         "marker": {
          "color": "rgba(0, 0, 0, 1.000)",
          "line": {
           "color": "rgba(0, 0, 0, 1.000)",
           "width": 1
          },
          "size": 2,
          "symbol": "circle"
         },
         "mode": "markers",
         "name": "y185",
         "showlegend": true,
         "text": [
          null,
          null
         ],
         "type": "scatter3d",
         "x": [
          15,
          15
         ],
         "xaxis": "x1",
         "y": [
          -3,
          -3
         ],
         "yaxis": "y1",
         "z": [
          -2,
          -2
         ],
         "zmax": 0.1,
         "zmin": -0.1
        },
        {
         "colorbar": {
          "title": ""
         },
         "hoverinfo": "text",
         "legendgroup": "y186",
         "marker": {
          "color": "rgba(0, 0, 0, 1.000)",
          "line": {
           "color": "rgba(0, 0, 0, 1.000)",
           "width": 1
          },
          "size": 2,
          "symbol": "circle"
         },
         "mode": "markers",
         "name": "y186",
         "showlegend": true,
         "text": [
          null,
          null
         ],
         "type": "scatter3d",
         "x": [
          -9,
          -9
         ],
         "xaxis": "x1",
         "y": [
          -3,
          -3
         ],
         "yaxis": "y1",
         "z": [
          -2,
          -2
         ],
         "zmax": 0.1,
         "zmin": -0.1
        },
        {
         "colorbar": {
          "title": ""
         },
         "hoverinfo": "text",
         "legendgroup": "y187",
         "marker": {
          "color": "rgba(0, 0, 0, 1.000)",
          "line": {
           "color": "rgba(0, 0, 0, 1.000)",
           "width": 1
          },
          "size": 2,
          "symbol": "circle"
         },
         "mode": "markers",
         "name": "y187",
         "showlegend": true,
         "text": [
          null,
          null
         ],
         "type": "scatter3d",
         "x": [
          -9,
          -9
         ],
         "xaxis": "x1",
         "y": [
          -3,
          -3
         ],
         "yaxis": "y1",
         "z": [
          0,
          0
         ],
         "zmax": 0.1,
         "zmin": -0.1
        },
        {
         "colorbar": {
          "title": ""
         },
         "hoverinfo": "text",
         "legendgroup": "y188",
         "marker": {
          "color": "rgba(0, 0, 0, 1.000)",
          "line": {
           "color": "rgba(0, 0, 0, 1.000)",
           "width": 1
          },
          "size": 2,
          "symbol": "circle"
         },
         "mode": "markers",
         "name": "y188",
         "showlegend": true,
         "text": [
          null,
          null
         ],
         "type": "scatter3d",
         "x": [
          5,
          5
         ],
         "xaxis": "x1",
         "y": [
          2,
          2
         ],
         "yaxis": "y1",
         "z": [
          5,
          5
         ],
         "zmax": 0.1,
         "zmin": -0.1
        },
        {
         "colorbar": {
          "title": ""
         },
         "hoverinfo": "text",
         "legendgroup": "y189",
         "marker": {
          "color": "rgba(0, 0, 0, 1.000)",
          "line": {
           "color": "rgba(0, 0, 0, 1.000)",
           "width": 1
          },
          "size": 2,
          "symbol": "circle"
         },
         "mode": "markers",
         "name": "y189",
         "showlegend": true,
         "text": [
          null,
          null
         ],
         "type": "scatter3d",
         "x": [
          6,
          6
         ],
         "xaxis": "x1",
         "y": [
          -15,
          -15
         ],
         "yaxis": "y1",
         "z": [
          -11,
          -11
         ],
         "zmax": 0.1,
         "zmin": -0.1
        },
        {
         "colorbar": {
          "title": ""
         },
         "hoverinfo": "text",
         "legendgroup": "y190",
         "marker": {
          "color": "rgba(0, 0, 0, 1.000)",
          "line": {
           "color": "rgba(0, 0, 0, 1.000)",
           "width": 1
          },
          "size": 2,
          "symbol": "circle"
         },
         "mode": "markers",
         "name": "y190",
         "showlegend": true,
         "text": [
          null,
          null
         ],
         "type": "scatter3d",
         "x": [
          1,
          1
         ],
         "xaxis": "x1",
         "y": [
          -2,
          -2
         ],
         "yaxis": "y1",
         "z": [
          -5,
          -5
         ],
         "zmax": 0.1,
         "zmin": -0.1
        },
        {
         "colorbar": {
          "title": ""
         },
         "hoverinfo": "text",
         "legendgroup": "y191",
         "marker": {
          "color": "rgba(0, 0, 0, 1.000)",
          "line": {
           "color": "rgba(0, 0, 0, 1.000)",
           "width": 1
          },
          "size": 2,
          "symbol": "circle"
         },
         "mode": "markers",
         "name": "y191",
         "showlegend": true,
         "text": [
          null,
          null
         ],
         "type": "scatter3d",
         "x": [
          -14,
          -14
         ],
         "xaxis": "x1",
         "y": [
          13,
          13
         ],
         "yaxis": "y1",
         "z": [
          9,
          9
         ],
         "zmax": 0.1,
         "zmin": -0.1
        },
        {
         "colorbar": {
          "title": ""
         },
         "hoverinfo": "text",
         "legendgroup": "y192",
         "marker": {
          "color": "rgba(0, 0, 0, 1.000)",
          "line": {
           "color": "rgba(0, 0, 0, 1.000)",
           "width": 1
          },
          "size": 2,
          "symbol": "circle"
         },
         "mode": "markers",
         "name": "y192",
         "showlegend": true,
         "text": [
          null,
          null
         ],
         "type": "scatter3d",
         "x": [
          3,
          3
         ],
         "xaxis": "x1",
         "y": [
          0,
          0
         ],
         "yaxis": "y1",
         "z": [
          5,
          5
         ],
         "zmax": 0.1,
         "zmin": -0.1
        },
        {
         "colorbar": {
          "title": ""
         },
         "hoverinfo": "text",
         "legendgroup": "y193",
         "marker": {
          "color": "rgba(0, 0, 0, 1.000)",
          "line": {
           "color": "rgba(0, 0, 0, 1.000)",
           "width": 1
          },
          "size": 2,
          "symbol": "circle"
         },
         "mode": "markers",
         "name": "y193",
         "showlegend": true,
         "text": [
          null,
          null
         ],
         "type": "scatter3d",
         "x": [
          -1,
          -1
         ],
         "xaxis": "x1",
         "y": [
          -4,
          -4
         ],
         "yaxis": "y1",
         "z": [
          -7,
          -7
         ],
         "zmax": 0.1,
         "zmin": -0.1
        },
        {
         "colorbar": {
          "title": ""
         },
         "hoverinfo": "text",
         "legendgroup": "y194",
         "marker": {
          "color": "rgba(0, 0, 0, 1.000)",
          "line": {
           "color": "rgba(0, 0, 0, 1.000)",
           "width": 1
          },
          "size": 2,
          "symbol": "circle"
         },
         "mode": "markers",
         "name": "y194",
         "showlegend": true,
         "text": [
          null,
          null
         ],
         "type": "scatter3d",
         "x": [
          4,
          4
         ],
         "xaxis": "x1",
         "y": [
          7,
          7
         ],
         "yaxis": "y1",
         "z": [
          5,
          5
         ],
         "zmax": 0.1,
         "zmin": -0.1
        },
        {
         "colorbar": {
          "title": ""
         },
         "hoverinfo": "text",
         "legendgroup": "y195",
         "marker": {
          "color": "rgba(0, 0, 0, 1.000)",
          "line": {
           "color": "rgba(0, 0, 0, 1.000)",
           "width": 1
          },
          "size": 2,
          "symbol": "circle"
         },
         "mode": "markers",
         "name": "y195",
         "showlegend": true,
         "text": [
          null,
          null
         ],
         "type": "scatter3d",
         "x": [
          5,
          5
         ],
         "xaxis": "x1",
         "y": [
          -1,
          -1
         ],
         "yaxis": "y1",
         "z": [
          2,
          2
         ],
         "zmax": 0.1,
         "zmin": -0.1
        },
        {
         "colorbar": {
          "title": ""
         },
         "hoverinfo": "text",
         "legendgroup": "y196",
         "marker": {
          "color": "rgba(0, 0, 0, 1.000)",
          "line": {
           "color": "rgba(0, 0, 0, 1.000)",
           "width": 1
          },
          "size": 2,
          "symbol": "circle"
         },
         "mode": "markers",
         "name": "y196",
         "showlegend": true,
         "text": [
          null,
          null
         ],
         "type": "scatter3d",
         "x": [
          9,
          9
         ],
         "xaxis": "x1",
         "y": [
          6,
          6
         ],
         "yaxis": "y1",
         "z": [
          1,
          1
         ],
         "zmax": 0.1,
         "zmin": -0.1
        },
        {
         "colorbar": {
          "title": ""
         },
         "hoverinfo": "text",
         "legendgroup": "y197",
         "marker": {
          "color": "rgba(0, 0, 0, 1.000)",
          "line": {
           "color": "rgba(0, 0, 0, 1.000)",
           "width": 1
          },
          "size": 2,
          "symbol": "circle"
         },
         "mode": "markers",
         "name": "y197",
         "showlegend": true,
         "text": [
          null,
          null
         ],
         "type": "scatter3d",
         "x": [
          -12,
          -12
         ],
         "xaxis": "x1",
         "y": [
          15,
          15
         ],
         "yaxis": "y1",
         "z": [
          11,
          11
         ],
         "zmax": 0.1,
         "zmin": -0.1
        },
        {
         "colorbar": {
          "title": ""
         },
         "hoverinfo": "text",
         "legendgroup": "y198",
         "marker": {
          "color": "rgba(0, 0, 0, 1.000)",
          "line": {
           "color": "rgba(0, 0, 0, 1.000)",
           "width": 1
          },
          "size": 2,
          "symbol": "circle"
         },
         "mode": "markers",
         "name": "y198",
         "showlegend": true,
         "text": [
          null,
          null
         ],
         "type": "scatter3d",
         "x": [
          14,
          14
         ],
         "xaxis": "x1",
         "y": [
          -1,
          -1
         ],
         "yaxis": "y1",
         "z": [
          1,
          1
         ],
         "zmax": 0.1,
         "zmin": -0.1
        },
        {
         "colorbar": {
          "title": ""
         },
         "hoverinfo": "text",
         "legendgroup": "y199",
         "marker": {
          "color": "rgba(0, 0, 0, 1.000)",
          "line": {
           "color": "rgba(0, 0, 0, 1.000)",
           "width": 1
          },
          "size": 2,
          "symbol": "circle"
         },
         "mode": "markers",
         "name": "y199",
         "showlegend": true,
         "text": [
          null,
          null
         ],
         "type": "scatter3d",
         "x": [
          -12,
          -12
         ],
         "xaxis": "x1",
         "y": [
          3,
          3
         ],
         "yaxis": "y1",
         "z": [
          1,
          1
         ],
         "zmax": 0.1,
         "zmin": -0.1
        },
        {
         "colorbar": {
          "title": ""
         },
         "hoverinfo": "text",
         "legendgroup": "y200",
         "marker": {
          "color": "rgba(0, 0, 0, 1.000)",
          "line": {
           "color": "rgba(0, 0, 0, 1.000)",
           "width": 1
          },
          "size": 2,
          "symbol": "circle"
         },
         "mode": "markers",
         "name": "y200",
         "showlegend": true,
         "text": [
          null,
          null
         ],
         "type": "scatter3d",
         "x": [
          6,
          6
         ],
         "xaxis": "x1",
         "y": [
          -9,
          -9
         ],
         "yaxis": "y1",
         "z": [
          -3,
          -3
         ],
         "zmax": 0.1,
         "zmin": -0.1
        },
        {
         "colorbar": {
          "title": ""
         },
         "hoverinfo": "text",
         "legendgroup": "+z",
         "line": {
          "color": "rgba(0, 0, 0, 1.000)",
          "dash": "solid",
          "shape": "linear",
          "width": 2
         },
         "mode": "lines",
         "name": "+z",
         "showlegend": true,
         "text": [
          null,
          null
         ],
         "type": "scatter3d",
         "x": [
          0,
          0
         ],
         "xaxis": "x1",
         "y": [
          0,
          0
         ],
         "yaxis": "y1",
         "z": [
          0,
          20
         ],
         "zmax": 0.1,
         "zmin": -0.1
        },
        {
         "colorbar": {
          "title": ""
         },
         "hoverinfo": "text",
         "legendgroup": "-z",
         "line": {
          "color": "rgba(128, 128, 128, 1.000)",
          "dash": "solid",
          "shape": "linear",
          "width": 1
         },
         "mode": "lines",
         "name": "-z",
         "showlegend": true,
         "text": [
          null,
          null
         ],
         "type": "scatter3d",
         "x": [
          0,
          0
         ],
         "xaxis": "x1",
         "y": [
          0,
          0
         ],
         "yaxis": "y1",
         "z": [
          0,
          -20
         ],
         "zmax": 0.1,
         "zmin": -0.1
        },
        {
         "colorbar": {
          "title": ""
         },
         "hoverinfo": "text",
         "legendgroup": "+y",
         "line": {
          "color": "rgba(0, 0, 0, 1.000)",
          "dash": "solid",
          "shape": "linear",
          "width": 3
         },
         "mode": "lines",
         "name": "+y",
         "showlegend": true,
         "text": [
          null,
          null
         ],
         "type": "scatter3d",
         "x": [
          0,
          0
         ],
         "xaxis": "x1",
         "y": [
          0,
          20
         ],
         "yaxis": "y1",
         "z": [
          0,
          0
         ],
         "zmax": 0.1,
         "zmin": -0.1
        },
        {
         "colorbar": {
          "title": ""
         },
         "hoverinfo": "text",
         "legendgroup": "-y",
         "line": {
          "color": "rgba(128, 128, 128, 1.000)",
          "dash": "solid",
          "shape": "linear",
          "width": 2
         },
         "mode": "lines",
         "name": "-y",
         "showlegend": true,
         "text": [
          null,
          null
         ],
         "type": "scatter3d",
         "x": [
          0,
          0
         ],
         "xaxis": "x1",
         "y": [
          0,
          -20
         ],
         "yaxis": "y1",
         "z": [
          0,
          0
         ],
         "zmax": 0.1,
         "zmin": -0.1
        },
        {
         "colorbar": {
          "title": ""
         },
         "hoverinfo": "text",
         "legendgroup": "+x",
         "line": {
          "color": "rgba(0, 0, 0, 1.000)",
          "dash": "solid",
          "shape": "linear",
          "width": 3
         },
         "mode": "lines",
         "name": "+x",
         "showlegend": true,
         "text": [
          null,
          null
         ],
         "type": "scatter3d",
         "x": [
          0,
          20
         ],
         "xaxis": "x1",
         "y": [
          0,
          0
         ],
         "yaxis": "y1",
         "z": [
          0,
          0
         ],
         "zmax": 0.1,
         "zmin": -0.1
        },
        {
         "colorbar": {
          "title": ""
         },
         "hoverinfo": "text",
         "legendgroup": "-x",
         "line": {
          "color": "rgba(128, 128, 128, 1.000)",
          "dash": "solid",
          "shape": "linear",
          "width": 2
         },
         "mode": "lines",
         "name": "-x",
         "showlegend": true,
         "text": [
          null,
          null
         ],
         "type": "scatter3d",
         "x": [
          0,
          -20
         ],
         "xaxis": "x1",
         "y": [
          0,
          0
         ],
         "yaxis": "y1",
         "z": [
          0,
          0
         ],
         "zmax": 0.1,
         "zmin": -0.1
        }
       ],
       "layout": {
        "annotations": [
         {
          "font": {
           "color": "rgba(0, 0, 0, 1.000)",
           "family": "sans-serif",
           "size": 20
          },
          "rotation": 0,
          "showarrow": false,
          "text": "Example 3: p,q,r",
          "x": 0.5222222222222223,
          "xanchor": "center",
          "xref": "paper",
          "y": 1,
          "yanchor": "top",
          "yref": "paper"
         }
        ],
        "height": 400,
        "margin": {
         "b": 20,
         "l": 0,
         "r": 0,
         "t": 20
        },
        "paper_bgcolor": "rgba(255, 255, 255, 1.000)",
        "plot_bgcolor": "rgba(255, 255, 255, 1.000)",
        "scene": {
         "camera": {
          "eye": {
           "x": 1.12583302491977,
           "y": -1.9499999999999997,
           "z": 1.3
          }
         },
         "xaxis": {
          "anchor": "y1",
          "domain": [
           0.05100612423447069,
           0.9934383202099737
          ],
          "gridcolor": "rgba(0, 0, 0, 0.100)",
          "gridwidth": 0.5,
          "linecolor": "rgba(0, 0, 0, 1.000)",
          "mirror": false,
          "range": [
           -15.9,
           15.9
          ],
          "showgrid": true,
          "showline": true,
          "showticklabels": true,
          "tickangle": 0,
          "tickcolor": "rgb(0, 0, 0)",
          "tickfont": {
           "color": "rgba(0, 0, 0, 1.000)",
           "family": "sans-serif",
           "size": 11
          },
          "tickmode": "array",
          "ticks": "inside",
          "ticktext": [
           "-15",
           "-10",
           "-5",
           "0",
           "5",
           "10",
           "15"
          ],
          "tickvals": [
           -15,
           -10,
           -5,
           0,
           5,
           10,
           15
          ],
          "title": "",
          "titlefont": {
           "color": "rgba(0, 0, 0, 1.000)",
           "family": "sans-serif",
           "size": 15
          },
          "type": "-",
          "visible": true,
          "zeroline": false,
          "zerolinecolor": "rgba(0, 0, 0, 1.000)"
         },
         "yaxis": {
          "anchor": "x1",
          "domain": [
           0.03762029746281716,
           0.9415463692038496
          ],
          "gridcolor": "rgba(0, 0, 0, 0.100)",
          "gridwidth": 0.5,
          "linecolor": "rgba(0, 0, 0, 1.000)",
          "mirror": false,
          "range": [
           -15.9,
           15.9
          ],
          "showgrid": true,
          "showline": true,
          "showticklabels": true,
          "tickangle": 0,
          "tickcolor": "rgb(0, 0, 0)",
          "tickfont": {
           "color": "rgba(0, 0, 0, 1.000)",
           "family": "sans-serif",
           "size": 11
          },
          "tickmode": "array",
          "ticks": "inside",
          "ticktext": [
           "-15",
           "-10",
           "-5",
           "0",
           "5",
           "10",
           "15"
          ],
          "tickvals": [
           -15,
           -10,
           -5,
           0,
           5,
           10,
           15
          ],
          "title": "",
          "titlefont": {
           "color": "rgba(0, 0, 0, 1.000)",
           "family": "sans-serif",
           "size": 15
          },
          "type": "-",
          "visible": true,
          "zeroline": false,
          "zerolinecolor": "rgba(0, 0, 0, 1.000)"
         },
         "zaxis": {
          "gridcolor": "rgba(0, 0, 0, 0.100)",
          "gridwidth": 0.5,
          "linecolor": "rgba(0, 0, 0, 1.000)",
          "mirror": false,
          "range": [
           -15.9,
           15.9
          ],
          "showgrid": true,
          "showline": true,
          "showticklabels": true,
          "tickangle": 0,
          "tickcolor": "rgb(0, 0, 0)",
          "tickfont": {
           "color": "rgba(0, 0, 0, 1.000)",
           "family": "sans-serif",
           "size": 11
          },
          "tickmode": "array",
          "ticks": "inside",
          "ticktext": [
           "-15",
           "-10",
           "-5",
           "0",
           "5",
           "10",
           "15"
          ],
          "tickvals": [
           -15,
           -10,
           -5,
           0,
           5,
           10,
           15
          ],
          "title": "",
          "titlefont": {
           "color": "rgba(0, 0, 0, 1.000)",
           "family": "sans-serif",
           "size": 15
          },
          "type": "-",
          "visible": true,
          "zeroline": false,
          "zerolinecolor": "rgba(0, 0, 0, 1.000)"
         }
        },
        "showlegend": false,
        "width": 600
       }
      },
      "text/html": [
       "    <div id=\"1d4bbb35-bb14-4d56-87c8-ede86fefb4fe\" style=\"width:600px;height:400px;\"></div>\n",
       "    <script>\n",
       "    PLOT = document.getElementById('1d4bbb35-bb14-4d56-87c8-ede86fefb4fe');\n",
       "    Plotly.plot(PLOT, [{\"xaxis\":\"x1\",\"colorbar\":{\"title\":\"\"},\"yaxis\":\"y1\",\"text\":[null,null],\"x\":[6,6],\"showlegend\":true,\"mode\":\"markers\",\"name\":\"y1\",\"zmin\":-0.1,\"legendgroup\":\"y1\",\"z\":[-8,-8],\"marker\":{\"symbol\":\"circle\",\"color\":\"rgba(0, 0, 0, 1.000)\",\"line\":{\"color\":\"rgba(0, 0, 0, 1.000)\",\"width\":1},\"size\":2},\"zmax\":0.1,\"y\":[-6,-6],\"type\":\"scatter3d\",\"hoverinfo\":\"text\"},{\"xaxis\":\"x1\",\"colorbar\":{\"title\":\"\"},\"yaxis\":\"y1\",\"text\":[null,null],\"x\":[-12,-12],\"showlegend\":true,\"mode\":\"markers\",\"name\":\"y2\",\"zmin\":-0.1,\"legendgroup\":\"y2\",\"z\":[0,0],\"marker\":{\"symbol\":\"circle\",\"color\":\"rgba(0, 0, 0, 1.000)\",\"line\":{\"color\":\"rgba(0, 0, 0, 1.000)\",\"width\":1},\"size\":2},\"zmax\":0.1,\"y\":[0,0],\"type\":\"scatter3d\",\"hoverinfo\":\"text\"},{\"xaxis\":\"x1\",\"colorbar\":{\"title\":\"\"},\"yaxis\":\"y1\",\"text\":[null,null],\"x\":[-1,-1],\"showlegend\":true,\"mode\":\"markers\",\"name\":\"y3\",\"zmin\":-0.1,\"legendgroup\":\"y3\",\"z\":[6,6],\"marker\":{\"symbol\":\"circle\",\"color\":\"rgba(0, 0, 0, 1.000)\",\"line\":{\"color\":\"rgba(0, 0, 0, 1.000)\",\"width\":1},\"size\":2},\"zmax\":0.1,\"y\":[11,11],\"type\":\"scatter3d\",\"hoverinfo\":\"text\"},{\"xaxis\":\"x1\",\"colorbar\":{\"title\":\"\"},\"yaxis\":\"y1\",\"text\":[null,null],\"x\":[-7,-7],\"showlegend\":true,\"mode\":\"markers\",\"name\":\"y4\",\"zmin\":-0.1,\"legendgroup\":\"y4\",\"z\":[5,5],\"marker\":{\"symbol\":\"circle\",\"color\":\"rgba(0, 0, 0, 1.000)\",\"line\":{\"color\":\"rgba(0, 0, 0, 1.000)\",\"width\":1},\"size\":2},\"zmax\":0.1,\"y\":[8,8],\"type\":\"scatter3d\",\"hoverinfo\":\"text\"},{\"xaxis\":\"x1\",\"colorbar\":{\"title\":\"\"},\"yaxis\":\"y1\",\"text\":[null,null],\"x\":[-8,-8],\"showlegend\":true,\"mode\":\"markers\",\"name\":\"y5\",\"zmin\":-0.1,\"legendgroup\":\"y5\",\"z\":[-1,-1],\"marker\":{\"symbol\":\"circle\",\"color\":\"rgba(0, 0, 0, 1.000)\",\"line\":{\"color\":\"rgba(0, 0, 0, 1.000)\",\"width\":1},\"size\":2},\"zmax\":0.1,\"y\":[1,1],\"type\":\"scatter3d\",\"hoverinfo\":\"text\"},{\"xaxis\":\"x1\",\"colorbar\":{\"title\":\"\"},\"yaxis\":\"y1\",\"text\":[null,null],\"x\":[-1,-1],\"showlegend\":true,\"mode\":\"markers\",\"name\":\"y6\",\"zmin\":-0.1,\"legendgroup\":\"y6\",\"z\":[-9,-9],\"marker\":{\"symbol\":\"circle\",\"color\":\"rgba(0, 0, 0, 1.000)\",\"line\":{\"color\":\"rgba(0, 0, 0, 1.000)\",\"width\":1},\"size\":2},\"zmax\":0.1,\"y\":[-4,-4],\"type\":\"scatter3d\",\"hoverinfo\":\"text\"},{\"xaxis\":\"x1\",\"colorbar\":{\"title\":\"\"},\"yaxis\":\"y1\",\"text\":[null,null],\"x\":[9,9],\"showlegend\":true,\"mode\":\"markers\",\"name\":\"y7\",\"zmin\":-0.1,\"legendgroup\":\"y7\",\"z\":[3,3],\"marker\":{\"symbol\":\"circle\",\"color\":\"rgba(0, 0, 0, 1.000)\",\"line\":{\"color\":\"rgba(0, 0, 0, 1.000)\",\"width\":1},\"size\":2},\"zmax\":0.1,\"y\":[-6,-6],\"type\":\"scatter3d\",\"hoverinfo\":\"text\"},{\"xaxis\":\"x1\",\"colorbar\":{\"title\":\"\"},\"yaxis\":\"y1\",\"text\":[null,null],\"x\":[-1,-1],\"showlegend\":true,\"mode\":\"markers\",\"name\":\"y8\",\"zmin\":-0.1,\"legendgroup\":\"y8\",\"z\":[-1,-1],\"marker\":{\"symbol\":\"circle\",\"color\":\"rgba(0, 0, 0, 1.000)\",\"line\":{\"color\":\"rgba(0, 0, 0, 1.000)\",\"width\":1},\"size\":2},\"zmax\":0.1,\"y\":[-4,-4],\"type\":\"scatter3d\",\"hoverinfo\":\"text\"},{\"xaxis\":\"x1\",\"colorbar\":{\"title\":\"\"},\"yaxis\":\"y1\",\"text\":[null,null],\"x\":[1,1],\"showlegend\":true,\"mode\":\"markers\",\"name\":\"y9\",\"zmin\":-0.1,\"legendgroup\":\"y9\",\"z\":[-7,-7],\"marker\":{\"symbol\":\"circle\",\"color\":\"rgba(0, 0, 0, 1.000)\",\"line\":{\"color\":\"rgba(0, 0, 0, 1.000)\",\"width\":1},\"size\":2},\"zmax\":0.1,\"y\":[-8,-8],\"type\":\"scatter3d\",\"hoverinfo\":\"text\"},{\"xaxis\":\"x1\",\"colorbar\":{\"title\":\"\"},\"yaxis\":\"y1\",\"text\":[null,null],\"x\":[-10,-10],\"showlegend\":true,\"mode\":\"markers\",\"name\":\"y10\",\"zmin\":-0.1,\"legendgroup\":\"y10\",\"z\":[1,1],\"marker\":{\"symbol\":\"circle\",\"color\":\"rgba(0, 0, 0, 1.000)\",\"line\":{\"color\":\"rgba(0, 0, 0, 1.000)\",\"width\":1},\"size\":2},\"zmax\":0.1,\"y\":[5,5],\"type\":\"scatter3d\",\"hoverinfo\":\"text\"},{\"xaxis\":\"x1\",\"colorbar\":{\"title\":\"\"},\"yaxis\":\"y1\",\"text\":[null,null],\"x\":[2,2],\"showlegend\":true,\"mode\":\"markers\",\"name\":\"y11\",\"zmin\":-0.1,\"legendgroup\":\"y11\",\"z\":[11,11],\"marker\":{\"symbol\":\"circle\",\"color\":\"rgba(0, 0, 0, 1.000)\",\"line\":{\"color\":\"rgba(0, 0, 0, 1.000)\",\"width\":1},\"size\":2},\"zmax\":0.1,\"y\":[11,11],\"type\":\"scatter3d\",\"hoverinfo\":\"text\"},{\"xaxis\":\"x1\",\"colorbar\":{\"title\":\"\"},\"yaxis\":\"y1\",\"text\":[null,null],\"x\":[4,4],\"showlegend\":true,\"mode\":\"markers\",\"name\":\"y12\",\"zmin\":-0.1,\"legendgroup\":\"y12\",\"z\":[-2,-2],\"marker\":{\"symbol\":\"circle\",\"color\":\"rgba(0, 0, 0, 1.000)\",\"line\":{\"color\":\"rgba(0, 0, 0, 1.000)\",\"width\":1},\"size\":2},\"zmax\":0.1,\"y\":[4,4],\"type\":\"scatter3d\",\"hoverinfo\":\"text\"},{\"xaxis\":\"x1\",\"colorbar\":{\"title\":\"\"},\"yaxis\":\"y1\",\"text\":[null,null],\"x\":[10,10],\"showlegend\":true,\"mode\":\"markers\",\"name\":\"y13\",\"zmin\":-0.1,\"legendgroup\":\"y13\",\"z\":[0,0],\"marker\":{\"symbol\":\"circle\",\"color\":\"rgba(0, 0, 0, 1.000)\",\"line\":{\"color\":\"rgba(0, 0, 0, 1.000)\",\"width\":1},\"size\":2},\"zmax\":0.1,\"y\":[4,4],\"type\":\"scatter3d\",\"hoverinfo\":\"text\"},{\"xaxis\":\"x1\",\"colorbar\":{\"title\":\"\"},\"yaxis\":\"y1\",\"text\":[null,null],\"x\":[-5,-5],\"showlegend\":true,\"mode\":\"markers\",\"name\":\"y14\",\"zmin\":-0.1,\"legendgroup\":\"y14\",\"z\":[-9,-9],\"marker\":{\"symbol\":\"circle\",\"color\":\"rgba(0, 0, 0, 1.000)\",\"line\":{\"color\":\"rgba(0, 0, 0, 1.000)\",\"width\":1},\"size\":2},\"zmax\":0.1,\"y\":[-8,-8],\"type\":\"scatter3d\",\"hoverinfo\":\"text\"},{\"xaxis\":\"x1\",\"colorbar\":{\"title\":\"\"},\"yaxis\":\"y1\",\"text\":[null,null],\"x\":[-9,-9],\"showlegend\":true,\"mode\":\"markers\",\"name\":\"y15\",\"zmin\":-0.1,\"legendgroup\":\"y15\",\"z\":[-3,-3],\"marker\":{\"symbol\":\"circle\",\"color\":\"rgba(0, 0, 0, 1.000)\",\"line\":{\"color\":\"rgba(0, 0, 0, 1.000)\",\"width\":1},\"size\":2},\"zmax\":0.1,\"y\":[0,0],\"type\":\"scatter3d\",\"hoverinfo\":\"text\"},{\"xaxis\":\"x1\",\"colorbar\":{\"title\":\"\"},\"yaxis\":\"y1\",\"text\":[null,null],\"x\":[-6,-6],\"showlegend\":true,\"mode\":\"markers\",\"name\":\"y16\",\"zmin\":-0.1,\"legendgroup\":\"y16\",\"z\":[-4,-4],\"marker\":{\"symbol\":\"circle\",\"color\":\"rgba(0, 0, 0, 1.000)\",\"line\":{\"color\":\"rgba(0, 0, 0, 1.000)\",\"width\":1},\"size\":2},\"zmax\":0.1,\"y\":[-6,-6],\"type\":\"scatter3d\",\"hoverinfo\":\"text\"},{\"xaxis\":\"x1\",\"colorbar\":{\"title\":\"\"},\"yaxis\":\"y1\",\"text\":[null,null],\"x\":[1,1],\"showlegend\":true,\"mode\":\"markers\",\"name\":\"y17\",\"zmin\":-0.1,\"legendgroup\":\"y17\",\"z\":[-4,-4],\"marker\":{\"symbol\":\"circle\",\"color\":\"rgba(0, 0, 0, 1.000)\",\"line\":{\"color\":\"rgba(0, 0, 0, 1.000)\",\"width\":1},\"size\":2},\"zmax\":0.1,\"y\":[-5,-5],\"type\":\"scatter3d\",\"hoverinfo\":\"text\"},{\"xaxis\":\"x1\",\"colorbar\":{\"title\":\"\"},\"yaxis\":\"y1\",\"text\":[null,null],\"x\":[1,1],\"showlegend\":true,\"mode\":\"markers\",\"name\":\"y18\",\"zmin\":-0.1,\"legendgroup\":\"y18\",\"z\":[-3,-3],\"marker\":{\"symbol\":\"circle\",\"color\":\"rgba(0, 0, 0, 1.000)\",\"line\":{\"color\":\"rgba(0, 0, 0, 1.000)\",\"width\":1},\"size\":2},\"zmax\":0.1,\"y\":[4,4],\"type\":\"scatter3d\",\"hoverinfo\":\"text\"},{\"xaxis\":\"x1\",\"colorbar\":{\"title\":\"\"},\"yaxis\":\"y1\",\"text\":[null,null],\"x\":[-3,-3],\"showlegend\":true,\"mode\":\"markers\",\"name\":\"y19\",\"zmin\":-0.1,\"legendgroup\":\"y19\",\"z\":[-10,-10],\"marker\":{\"symbol\":\"circle\",\"color\":\"rgba(0, 0, 0, 1.000)\",\"line\":{\"color\":\"rgba(0, 0, 0, 1.000)\",\"width\":1},\"size\":2},\"zmax\":0.1,\"y\":[-9,-9],\"type\":\"scatter3d\",\"hoverinfo\":\"text\"},{\"xaxis\":\"x1\",\"colorbar\":{\"title\":\"\"},\"yaxis\":\"y1\",\"text\":[null,null],\"x\":[2,2],\"showlegend\":true,\"mode\":\"markers\",\"name\":\"y20\",\"zmin\":-0.1,\"legendgroup\":\"y20\",\"z\":[-2,-2],\"marker\":{\"symbol\":\"circle\",\"color\":\"rgba(0, 0, 0, 1.000)\",\"line\":{\"color\":\"rgba(0, 0, 0, 1.000)\",\"width\":1},\"size\":2},\"zmax\":0.1,\"y\":[-4,-4],\"type\":\"scatter3d\",\"hoverinfo\":\"text\"},{\"xaxis\":\"x1\",\"colorbar\":{\"title\":\"\"},\"yaxis\":\"y1\",\"text\":[null,null],\"x\":[-7,-7],\"showlegend\":true,\"mode\":\"markers\",\"name\":\"y21\",\"zmin\":-0.1,\"legendgroup\":\"y21\",\"z\":[-3,-3],\"marker\":{\"symbol\":\"circle\",\"color\":\"rgba(0, 0, 0, 1.000)\",\"line\":{\"color\":\"rgba(0, 0, 0, 1.000)\",\"width\":1},\"size\":2},\"zmax\":0.1,\"y\":[2,2],\"type\":\"scatter3d\",\"hoverinfo\":\"text\"},{\"xaxis\":\"x1\",\"colorbar\":{\"title\":\"\"},\"yaxis\":\"y1\",\"text\":[null,null],\"x\":[-8,-8],\"showlegend\":true,\"mode\":\"markers\",\"name\":\"y22\",\"zmin\":-0.1,\"legendgroup\":\"y22\",\"z\":[0,0],\"marker\":{\"symbol\":\"circle\",\"color\":\"rgba(0, 0, 0, 1.000)\",\"line\":{\"color\":\"rgba(0, 0, 0, 1.000)\",\"width\":1},\"size\":2},\"zmax\":0.1,\"y\":[4,4],\"type\":\"scatter3d\",\"hoverinfo\":\"text\"},{\"xaxis\":\"x1\",\"colorbar\":{\"title\":\"\"},\"yaxis\":\"y1\",\"text\":[null,null],\"x\":[-5,-5],\"showlegend\":true,\"mode\":\"markers\",\"name\":\"y23\",\"zmin\":-0.1,\"legendgroup\":\"y23\",\"z\":[-8,-8],\"marker\":{\"symbol\":\"circle\",\"color\":\"rgba(0, 0, 0, 1.000)\",\"line\":{\"color\":\"rgba(0, 0, 0, 1.000)\",\"width\":1},\"size\":2},\"zmax\":0.1,\"y\":[-5,-5],\"type\":\"scatter3d\",\"hoverinfo\":\"text\"},{\"xaxis\":\"x1\",\"colorbar\":{\"title\":\"\"},\"yaxis\":\"y1\",\"text\":[null,null],\"x\":[1,1],\"showlegend\":true,\"mode\":\"markers\",\"name\":\"y24\",\"zmin\":-0.1,\"legendgroup\":\"y24\",\"z\":[-3,-3],\"marker\":{\"symbol\":\"circle\",\"color\":\"rgba(0, 0, 0, 1.000)\",\"line\":{\"color\":\"rgba(0, 0, 0, 1.000)\",\"width\":1},\"size\":2},\"zmax\":0.1,\"y\":[-2,-2],\"type\":\"scatter3d\",\"hoverinfo\":\"text\"},{\"xaxis\":\"x1\",\"colorbar\":{\"title\":\"\"},\"yaxis\":\"y1\",\"text\":[null,null],\"x\":[-10,-10],\"showlegend\":true,\"mode\":\"markers\",\"name\":\"y25\",\"zmin\":-0.1,\"legendgroup\":\"y25\",\"z\":[-2,-2],\"marker\":{\"symbol\":\"circle\",\"color\":\"rgba(0, 0, 0, 1.000)\",\"line\":{\"color\":\"rgba(0, 0, 0, 1.000)\",\"width\":1},\"size\":2},\"zmax\":0.1,\"y\":[2,2],\"type\":\"scatter3d\",\"hoverinfo\":\"text\"},{\"xaxis\":\"x1\",\"colorbar\":{\"title\":\"\"},\"yaxis\":\"y1\",\"text\":[null,null],\"x\":[5,5],\"showlegend\":true,\"mode\":\"markers\",\"name\":\"y26\",\"zmin\":-0.1,\"legendgroup\":\"y26\",\"z\":[-4,-4],\"marker\":{\"symbol\":\"circle\",\"color\":\"rgba(0, 0, 0, 1.000)\",\"line\":{\"color\":\"rgba(0, 0, 0, 1.000)\",\"width\":1},\"size\":2},\"zmax\":0.1,\"y\":[-1,-1],\"type\":\"scatter3d\",\"hoverinfo\":\"text\"},{\"xaxis\":\"x1\",\"colorbar\":{\"title\":\"\"},\"yaxis\":\"y1\",\"text\":[null,null],\"x\":[2,2],\"showlegend\":true,\"mode\":\"markers\",\"name\":\"y27\",\"zmin\":-0.1,\"legendgroup\":\"y27\",\"z\":[9,9],\"marker\":{\"symbol\":\"circle\",\"color\":\"rgba(0, 0, 0, 1.000)\",\"line\":{\"color\":\"rgba(0, 0, 0, 1.000)\",\"width\":1},\"size\":2},\"zmax\":0.1,\"y\":[5,5],\"type\":\"scatter3d\",\"hoverinfo\":\"text\"},{\"xaxis\":\"x1\",\"colorbar\":{\"title\":\"\"},\"yaxis\":\"y1\",\"text\":[null,null],\"x\":[-5,-5],\"showlegend\":true,\"mode\":\"markers\",\"name\":\"y28\",\"zmin\":-0.1,\"legendgroup\":\"y28\",\"z\":[-3,-3],\"marker\":{\"symbol\":\"circle\",\"color\":\"rgba(0, 0, 0, 1.000)\",\"line\":{\"color\":\"rgba(0, 0, 0, 1.000)\",\"width\":1},\"size\":2},\"zmax\":0.1,\"y\":[4,4],\"type\":\"scatter3d\",\"hoverinfo\":\"text\"},{\"xaxis\":\"x1\",\"colorbar\":{\"title\":\"\"},\"yaxis\":\"y1\",\"text\":[null,null],\"x\":[2,2],\"showlegend\":true,\"mode\":\"markers\",\"name\":\"y29\",\"zmin\":-0.1,\"legendgroup\":\"y29\",\"z\":[-10,-10],\"marker\":{\"symbol\":\"circle\",\"color\":\"rgba(0, 0, 0, 1.000)\",\"line\":{\"color\":\"rgba(0, 0, 0, 1.000)\",\"width\":1},\"size\":2},\"zmax\":0.1,\"y\":[-10,-10],\"type\":\"scatter3d\",\"hoverinfo\":\"text\"},{\"xaxis\":\"x1\",\"colorbar\":{\"title\":\"\"},\"yaxis\":\"y1\",\"text\":[null,null],\"x\":[8,8],\"showlegend\":true,\"mode\":\"markers\",\"name\":\"y30\",\"zmin\":-0.1,\"legendgroup\":\"y30\",\"z\":[3,3],\"marker\":{\"symbol\":\"circle\",\"color\":\"rgba(0, 0, 0, 1.000)\",\"line\":{\"color\":\"rgba(0, 0, 0, 1.000)\",\"width\":1},\"size\":2},\"zmax\":0.1,\"y\":[-1,-1],\"type\":\"scatter3d\",\"hoverinfo\":\"text\"},{\"xaxis\":\"x1\",\"colorbar\":{\"title\":\"\"},\"yaxis\":\"y1\",\"text\":[null,null],\"x\":[-9,-9],\"showlegend\":true,\"mode\":\"markers\",\"name\":\"y31\",\"zmin\":-0.1,\"legendgroup\":\"y31\",\"z\":[9,9],\"marker\":{\"symbol\":\"circle\",\"color\":\"rgba(0, 0, 0, 1.000)\",\"line\":{\"color\":\"rgba(0, 0, 0, 1.000)\",\"width\":1},\"size\":2},\"zmax\":0.1,\"y\":[12,12],\"type\":\"scatter3d\",\"hoverinfo\":\"text\"},{\"xaxis\":\"x1\",\"colorbar\":{\"title\":\"\"},\"yaxis\":\"y1\",\"text\":[null,null],\"x\":[-6,-6],\"showlegend\":true,\"mode\":\"markers\",\"name\":\"y32\",\"zmin\":-0.1,\"legendgroup\":\"y32\",\"z\":[2,2],\"marker\":{\"symbol\":\"circle\",\"color\":\"rgba(0, 0, 0, 1.000)\",\"line\":{\"color\":\"rgba(0, 0, 0, 1.000)\",\"width\":1},\"size\":2},\"zmax\":0.1,\"y\":[0,0],\"type\":\"scatter3d\",\"hoverinfo\":\"text\"},{\"xaxis\":\"x1\",\"colorbar\":{\"title\":\"\"},\"yaxis\":\"y1\",\"text\":[null,null],\"x\":[-11,-11],\"showlegend\":true,\"mode\":\"markers\",\"name\":\"y33\",\"zmin\":-0.1,\"legendgroup\":\"y33\",\"z\":[9,9],\"marker\":{\"symbol\":\"circle\",\"color\":\"rgba(0, 0, 0, 1.000)\",\"line\":{\"color\":\"rgba(0, 0, 0, 1.000)\",\"width\":1},\"size\":2},\"zmax\":0.1,\"y\":[10,10],\"type\":\"scatter3d\",\"hoverinfo\":\"text\"},{\"xaxis\":\"x1\",\"colorbar\":{\"title\":\"\"},\"yaxis\":\"y1\",\"text\":[null,null],\"x\":[-2,-2],\"showlegend\":true,\"mode\":\"markers\",\"name\":\"y34\",\"zmin\":-0.1,\"legendgroup\":\"y34\",\"z\":[-7,-7],\"marker\":{\"symbol\":\"circle\",\"color\":\"rgba(0, 0, 0, 1.000)\",\"line\":{\"color\":\"rgba(0, 0, 0, 1.000)\",\"width\":1},\"size\":2},\"zmax\":0.1,\"y\":[-5,-5],\"type\":\"scatter3d\",\"hoverinfo\":\"text\"},{\"xaxis\":\"x1\",\"colorbar\":{\"title\":\"\"},\"yaxis\":\"y1\",\"text\":[null,null],\"x\":[1,1],\"showlegend\":true,\"mode\":\"markers\",\"name\":\"y35\",\"zmin\":-0.1,\"legendgroup\":\"y35\",\"z\":[5,5],\"marker\":{\"symbol\":\"circle\",\"color\":\"rgba(0, 0, 0, 1.000)\",\"line\":{\"color\":\"rgba(0, 0, 0, 1.000)\",\"width\":1},\"size\":2},\"zmax\":0.1,\"y\":[10,10],\"type\":\"scatter3d\",\"hoverinfo\":\"text\"},{\"xaxis\":\"x1\",\"colorbar\":{\"title\":\"\"},\"yaxis\":\"y1\",\"text\":[null,null],\"x\":[8,8],\"showlegend\":true,\"mode\":\"markers\",\"name\":\"y36\",\"zmin\":-0.1,\"legendgroup\":\"y36\",\"z\":[-2,-2],\"marker\":{\"symbol\":\"circle\",\"color\":\"rgba(0, 0, 0, 1.000)\",\"line\":{\"color\":\"rgba(0, 0, 0, 1.000)\",\"width\":1},\"size\":2},\"zmax\":0.1,\"y\":[-4,-4],\"type\":\"scatter3d\",\"hoverinfo\":\"text\"},{\"xaxis\":\"x1\",\"colorbar\":{\"title\":\"\"},\"yaxis\":\"y1\",\"text\":[null,null],\"x\":[-2,-2],\"showlegend\":true,\"mode\":\"markers\",\"name\":\"y37\",\"zmin\":-0.1,\"legendgroup\":\"y37\",\"z\":[-2,-2],\"marker\":{\"symbol\":\"circle\",\"color\":\"rgba(0, 0, 0, 1.000)\",\"line\":{\"color\":\"rgba(0, 0, 0, 1.000)\",\"width\":1},\"size\":2},\"zmax\":0.1,\"y\":[-8,-8],\"type\":\"scatter3d\",\"hoverinfo\":\"text\"},{\"xaxis\":\"x1\",\"colorbar\":{\"title\":\"\"},\"yaxis\":\"y1\",\"text\":[null,null],\"x\":[11,11],\"showlegend\":true,\"mode\":\"markers\",\"name\":\"y38\",\"zmin\":-0.1,\"legendgroup\":\"y38\",\"z\":[5,5],\"marker\":{\"symbol\":\"circle\",\"color\":\"rgba(0, 0, 0, 1.000)\",\"line\":{\"color\":\"rgba(0, 0, 0, 1.000)\",\"width\":1},\"size\":2},\"zmax\":0.1,\"y\":[2,2],\"type\":\"scatter3d\",\"hoverinfo\":\"text\"},{\"xaxis\":\"x1\",\"colorbar\":{\"title\":\"\"},\"yaxis\":\"y1\",\"text\":[null,null],\"x\":[-6,-6],\"showlegend\":true,\"mode\":\"markers\",\"name\":\"y39\",\"zmin\":-0.1,\"legendgroup\":\"y39\",\"z\":[-10,-10],\"marker\":{\"symbol\":\"circle\",\"color\":\"rgba(0, 0, 0, 1.000)\",\"line\":{\"color\":\"rgba(0, 0, 0, 1.000)\",\"width\":1},\"size\":2},\"zmax\":0.1,\"y\":[-12,-12],\"type\":\"scatter3d\",\"hoverinfo\":\"text\"},{\"xaxis\":\"x1\",\"colorbar\":{\"title\":\"\"},\"yaxis\":\"y1\",\"text\":[null,null],\"x\":[-5,-5],\"showlegend\":true,\"mode\":\"markers\",\"name\":\"y40\",\"zmin\":-0.1,\"legendgroup\":\"y40\",\"z\":[-5,-5],\"marker\":{\"symbol\":\"circle\",\"color\":\"rgba(0, 0, 0, 1.000)\",\"line\":{\"color\":\"rgba(0, 0, 0, 1.000)\",\"width\":1},\"size\":2},\"zmax\":0.1,\"y\":[-2,-2],\"type\":\"scatter3d\",\"hoverinfo\":\"text\"},{\"xaxis\":\"x1\",\"colorbar\":{\"title\":\"\"},\"yaxis\":\"y1\",\"text\":[null,null],\"x\":[-5,-5],\"showlegend\":true,\"mode\":\"markers\",\"name\":\"y41\",\"zmin\":-0.1,\"legendgroup\":\"y41\",\"z\":[-1,-1],\"marker\":{\"symbol\":\"circle\",\"color\":\"rgba(0, 0, 0, 1.000)\",\"line\":{\"color\":\"rgba(0, 0, 0, 1.000)\",\"width\":1},\"size\":2},\"zmax\":0.1,\"y\":[-2,-2],\"type\":\"scatter3d\",\"hoverinfo\":\"text\"},{\"xaxis\":\"x1\",\"colorbar\":{\"title\":\"\"},\"yaxis\":\"y1\",\"text\":[null,null],\"x\":[-14,-14],\"showlegend\":true,\"mode\":\"markers\",\"name\":\"y42\",\"zmin\":-0.1,\"legendgroup\":\"y42\",\"z\":[-3,-3],\"marker\":{\"symbol\":\"circle\",\"color\":\"rgba(0, 0, 0, 1.000)\",\"line\":{\"color\":\"rgba(0, 0, 0, 1.000)\",\"width\":1},\"size\":2},\"zmax\":0.1,\"y\":[-5,-5],\"type\":\"scatter3d\",\"hoverinfo\":\"text\"},{\"xaxis\":\"x1\",\"colorbar\":{\"title\":\"\"},\"yaxis\":\"y1\",\"text\":[null,null],\"x\":[2,2],\"showlegend\":true,\"mode\":\"markers\",\"name\":\"y43\",\"zmin\":-0.1,\"legendgroup\":\"y43\",\"z\":[12,12],\"marker\":{\"symbol\":\"circle\",\"color\":\"rgba(0, 0, 0, 1.000)\",\"line\":{\"color\":\"rgba(0, 0, 0, 1.000)\",\"width\":1},\"size\":2},\"zmax\":0.1,\"y\":[14,14],\"type\":\"scatter3d\",\"hoverinfo\":\"text\"},{\"xaxis\":\"x1\",\"colorbar\":{\"title\":\"\"},\"yaxis\":\"y1\",\"text\":[null,null],\"x\":[-2,-2],\"showlegend\":true,\"mode\":\"markers\",\"name\":\"y44\",\"zmin\":-0.1,\"legendgroup\":\"y44\",\"z\":[-9,-9],\"marker\":{\"symbol\":\"circle\",\"color\":\"rgba(0, 0, 0, 1.000)\",\"line\":{\"color\":\"rgba(0, 0, 0, 1.000)\",\"width\":1},\"size\":2},\"zmax\":0.1,\"y\":[-5,-5],\"type\":\"scatter3d\",\"hoverinfo\":\"text\"},{\"xaxis\":\"x1\",\"colorbar\":{\"title\":\"\"},\"yaxis\":\"y1\",\"text\":[null,null],\"x\":[5,5],\"showlegend\":true,\"mode\":\"markers\",\"name\":\"y45\",\"zmin\":-0.1,\"legendgroup\":\"y45\",\"z\":[-5,-5],\"marker\":{\"symbol\":\"circle\",\"color\":\"rgba(0, 0, 0, 1.000)\",\"line\":{\"color\":\"rgba(0, 0, 0, 1.000)\",\"width\":1},\"size\":2},\"zmax\":0.1,\"y\":[-4,-4],\"type\":\"scatter3d\",\"hoverinfo\":\"text\"},{\"xaxis\":\"x1\",\"colorbar\":{\"title\":\"\"},\"yaxis\":\"y1\",\"text\":[null,null],\"x\":[-6,-6],\"showlegend\":true,\"mode\":\"markers\",\"name\":\"y46\",\"zmin\":-0.1,\"legendgroup\":\"y46\",\"z\":[-3,-3],\"marker\":{\"symbol\":\"circle\",\"color\":\"rgba(0, 0, 0, 1.000)\",\"line\":{\"color\":\"rgba(0, 0, 0, 1.000)\",\"width\":1},\"size\":2},\"zmax\":0.1,\"y\":[-3,-3],\"type\":\"scatter3d\",\"hoverinfo\":\"text\"},{\"xaxis\":\"x1\",\"colorbar\":{\"title\":\"\"},\"yaxis\":\"y1\",\"text\":[null,null],\"x\":[9,9],\"showlegend\":true,\"mode\":\"markers\",\"name\":\"y47\",\"zmin\":-0.1,\"legendgroup\":\"y47\",\"z\":[-6,-6],\"marker\":{\"symbol\":\"circle\",\"color\":\"rgba(0, 0, 0, 1.000)\",\"line\":{\"color\":\"rgba(0, 0, 0, 1.000)\",\"width\":1},\"size\":2},\"zmax\":0.1,\"y\":[-9,-9],\"type\":\"scatter3d\",\"hoverinfo\":\"text\"},{\"xaxis\":\"x1\",\"colorbar\":{\"title\":\"\"},\"yaxis\":\"y1\",\"text\":[null,null],\"x\":[-11,-11],\"showlegend\":true,\"mode\":\"markers\",\"name\":\"y48\",\"zmin\":-0.1,\"legendgroup\":\"y48\",\"z\":[7,7],\"marker\":{\"symbol\":\"circle\",\"color\":\"rgba(0, 0, 0, 1.000)\",\"line\":{\"color\":\"rgba(0, 0, 0, 1.000)\",\"width\":1},\"size\":2},\"zmax\":0.1,\"y\":[10,10],\"type\":\"scatter3d\",\"hoverinfo\":\"text\"},{\"xaxis\":\"x1\",\"colorbar\":{\"title\":\"\"},\"yaxis\":\"y1\",\"text\":[null,null],\"x\":[5,5],\"showlegend\":true,\"mode\":\"markers\",\"name\":\"y49\",\"zmin\":-0.1,\"legendgroup\":\"y49\",\"z\":[8,8],\"marker\":{\"symbol\":\"circle\",\"color\":\"rgba(0, 0, 0, 1.000)\",\"line\":{\"color\":\"rgba(0, 0, 0, 1.000)\",\"width\":1},\"size\":2},\"zmax\":0.1,\"y\":[11,11],\"type\":\"scatter3d\",\"hoverinfo\":\"text\"},{\"xaxis\":\"x1\",\"colorbar\":{\"title\":\"\"},\"yaxis\":\"y1\",\"text\":[null,null],\"x\":[9,9],\"showlegend\":true,\"mode\":\"markers\",\"name\":\"y50\",\"zmin\":-0.1,\"legendgroup\":\"y50\",\"z\":[1,1],\"marker\":{\"symbol\":\"circle\",\"color\":\"rgba(0, 0, 0, 1.000)\",\"line\":{\"color\":\"rgba(0, 0, 0, 1.000)\",\"width\":1},\"size\":2},\"zmax\":0.1,\"y\":[-6,-6],\"type\":\"scatter3d\",\"hoverinfo\":\"text\"},{\"xaxis\":\"x1\",\"colorbar\":{\"title\":\"\"},\"yaxis\":\"y1\",\"text\":[null,null],\"x\":[-3,-3],\"showlegend\":true,\"mode\":\"markers\",\"name\":\"y51\",\"zmin\":-0.1,\"legendgroup\":\"y51\",\"z\":[0,0],\"marker\":{\"symbol\":\"circle\",\"color\":\"rgba(0, 0, 0, 1.000)\",\"line\":{\"color\":\"rgba(0, 0, 0, 1.000)\",\"width\":1},\"size\":2},\"zmax\":0.1,\"y\":[3,3],\"type\":\"scatter3d\",\"hoverinfo\":\"text\"},{\"xaxis\":\"x1\",\"colorbar\":{\"title\":\"\"},\"yaxis\":\"y1\",\"text\":[null,null],\"x\":[-13,-13],\"showlegend\":true,\"mode\":\"markers\",\"name\":\"y52\",\"zmin\":-0.1,\"legendgroup\":\"y52\",\"z\":[-5,-5],\"marker\":{\"symbol\":\"circle\",\"color\":\"rgba(0, 0, 0, 1.000)\",\"line\":{\"color\":\"rgba(0, 0, 0, 1.000)\",\"width\":1},\"size\":2},\"zmax\":0.1,\"y\":[-4,-4],\"type\":\"scatter3d\",\"hoverinfo\":\"text\"},{\"xaxis\":\"x1\",\"colorbar\":{\"title\":\"\"},\"yaxis\":\"y1\",\"text\":[null,null],\"x\":[12,12],\"showlegend\":true,\"mode\":\"markers\",\"name\":\"y53\",\"zmin\":-0.1,\"legendgroup\":\"y53\",\"z\":[2,2],\"marker\":{\"symbol\":\"circle\",\"color\":\"rgba(0, 0, 0, 1.000)\",\"line\":{\"color\":\"rgba(0, 0, 0, 1.000)\",\"width\":1},\"size\":2},\"zmax\":0.1,\"y\":[0,0],\"type\":\"scatter3d\",\"hoverinfo\":\"text\"},{\"xaxis\":\"x1\",\"colorbar\":{\"title\":\"\"},\"yaxis\":\"y1\",\"text\":[null,null],\"x\":[-2,-2],\"showlegend\":true,\"mode\":\"markers\",\"name\":\"y54\",\"zmin\":-0.1,\"legendgroup\":\"y54\",\"z\":[8,8],\"marker\":{\"symbol\":\"circle\",\"color\":\"rgba(0, 0, 0, 1.000)\",\"line\":{\"color\":\"rgba(0, 0, 0, 1.000)\",\"width\":1},\"size\":2},\"zmax\":0.1,\"y\":[10,10],\"type\":\"scatter3d\",\"hoverinfo\":\"text\"},{\"xaxis\":\"x1\",\"colorbar\":{\"title\":\"\"},\"yaxis\":\"y1\",\"text\":[null,null],\"x\":[-3,-3],\"showlegend\":true,\"mode\":\"markers\",\"name\":\"y55\",\"zmin\":-0.1,\"legendgroup\":\"y55\",\"z\":[-1,-1],\"marker\":{\"symbol\":\"circle\",\"color\":\"rgba(0, 0, 0, 1.000)\",\"line\":{\"color\":\"rgba(0, 0, 0, 1.000)\",\"width\":1},\"size\":2},\"zmax\":0.1,\"y\":[6,6],\"type\":\"scatter3d\",\"hoverinfo\":\"text\"},{\"xaxis\":\"x1\",\"colorbar\":{\"title\":\"\"},\"yaxis\":\"y1\",\"text\":[null,null],\"x\":[-14,-14],\"showlegend\":true,\"mode\":\"markers\",\"name\":\"y56\",\"zmin\":-0.1,\"legendgroup\":\"y56\",\"z\":[-3,-3],\"marker\":{\"symbol\":\"circle\",\"color\":\"rgba(0, 0, 0, 1.000)\",\"line\":{\"color\":\"rgba(0, 0, 0, 1.000)\",\"width\":1},\"size\":2},\"zmax\":0.1,\"y\":[1,1],\"type\":\"scatter3d\",\"hoverinfo\":\"text\"},{\"xaxis\":\"x1\",\"colorbar\":{\"title\":\"\"},\"yaxis\":\"y1\",\"text\":[null,null],\"x\":[7,7],\"showlegend\":true,\"mode\":\"markers\",\"name\":\"y57\",\"zmin\":-0.1,\"legendgroup\":\"y57\",\"z\":[1,1],\"marker\":{\"symbol\":\"circle\",\"color\":\"rgba(0, 0, 0, 1.000)\",\"line\":{\"color\":\"rgba(0, 0, 0, 1.000)\",\"width\":1},\"size\":2},\"zmax\":0.1,\"y\":[-8,-8],\"type\":\"scatter3d\",\"hoverinfo\":\"text\"},{\"xaxis\":\"x1\",\"colorbar\":{\"title\":\"\"},\"yaxis\":\"y1\",\"text\":[null,null],\"x\":[-6,-6],\"showlegend\":true,\"mode\":\"markers\",\"name\":\"y58\",\"zmin\":-0.1,\"legendgroup\":\"y58\",\"z\":[-5,-5],\"marker\":{\"symbol\":\"circle\",\"color\":\"rgba(0, 0, 0, 1.000)\",\"line\":{\"color\":\"rgba(0, 0, 0, 1.000)\",\"width\":1},\"size\":2},\"zmax\":0.1,\"y\":[-3,-3],\"type\":\"scatter3d\",\"hoverinfo\":\"text\"},{\"xaxis\":\"x1\",\"colorbar\":{\"title\":\"\"},\"yaxis\":\"y1\",\"text\":[null,null],\"x\":[6,6],\"showlegend\":true,\"mode\":\"markers\",\"name\":\"y59\",\"zmin\":-0.1,\"legendgroup\":\"y59\",\"z\":[5,5],\"marker\":{\"symbol\":\"circle\",\"color\":\"rgba(0, 0, 0, 1.000)\",\"line\":{\"color\":\"rgba(0, 0, 0, 1.000)\",\"width\":1},\"size\":2},\"zmax\":0.1,\"y\":[-3,-3],\"type\":\"scatter3d\",\"hoverinfo\":\"text\"},{\"xaxis\":\"x1\",\"colorbar\":{\"title\":\"\"},\"yaxis\":\"y1\",\"text\":[null,null],\"x\":[-8,-8],\"showlegend\":true,\"mode\":\"markers\",\"name\":\"y60\",\"zmin\":-0.1,\"legendgroup\":\"y60\",\"z\":[-1,-1],\"marker\":{\"symbol\":\"circle\",\"color\":\"rgba(0, 0, 0, 1.000)\",\"line\":{\"color\":\"rgba(0, 0, 0, 1.000)\",\"width\":1},\"size\":2},\"zmax\":0.1,\"y\":[7,7],\"type\":\"scatter3d\",\"hoverinfo\":\"text\"},{\"xaxis\":\"x1\",\"colorbar\":{\"title\":\"\"},\"yaxis\":\"y1\",\"text\":[null,null],\"x\":[-15,-15],\"showlegend\":true,\"mode\":\"markers\",\"name\":\"y61\",\"zmin\":-0.1,\"legendgroup\":\"y61\",\"z\":[3,3],\"marker\":{\"symbol\":\"circle\",\"color\":\"rgba(0, 0, 0, 1.000)\",\"line\":{\"color\":\"rgba(0, 0, 0, 1.000)\",\"width\":1},\"size\":2},\"zmax\":0.1,\"y\":[6,6],\"type\":\"scatter3d\",\"hoverinfo\":\"text\"},{\"xaxis\":\"x1\",\"colorbar\":{\"title\":\"\"},\"yaxis\":\"y1\",\"text\":[null,null],\"x\":[9,9],\"showlegend\":true,\"mode\":\"markers\",\"name\":\"y62\",\"zmin\":-0.1,\"legendgroup\":\"y62\",\"z\":[-8,-8],\"marker\":{\"symbol\":\"circle\",\"color\":\"rgba(0, 0, 0, 1.000)\",\"line\":{\"color\":\"rgba(0, 0, 0, 1.000)\",\"width\":1},\"size\":2},\"zmax\":0.1,\"y\":[-9,-9],\"type\":\"scatter3d\",\"hoverinfo\":\"text\"},{\"xaxis\":\"x1\",\"colorbar\":{\"title\":\"\"},\"yaxis\":\"y1\",\"text\":[null,null],\"x\":[-2,-2],\"showlegend\":true,\"mode\":\"markers\",\"name\":\"y63\",\"zmin\":-0.1,\"legendgroup\":\"y63\",\"z\":[-5,-5],\"marker\":{\"symbol\":\"circle\",\"color\":\"rgba(0, 0, 0, 1.000)\",\"line\":{\"color\":\"rgba(0, 0, 0, 1.000)\",\"width\":1},\"size\":2},\"zmax\":0.1,\"y\":[1,1],\"type\":\"scatter3d\",\"hoverinfo\":\"text\"},{\"xaxis\":\"x1\",\"colorbar\":{\"title\":\"\"},\"yaxis\":\"y1\",\"text\":[null,null],\"x\":[-12,-12],\"showlegend\":true,\"mode\":\"markers\",\"name\":\"y64\",\"zmin\":-0.1,\"legendgroup\":\"y64\",\"z\":[3,3],\"marker\":{\"symbol\":\"circle\",\"color\":\"rgba(0, 0, 0, 1.000)\",\"line\":{\"color\":\"rgba(0, 0, 0, 1.000)\",\"width\":1},\"size\":2},\"zmax\":0.1,\"y\":[3,3],\"type\":\"scatter3d\",\"hoverinfo\":\"text\"},{\"xaxis\":\"x1\",\"colorbar\":{\"title\":\"\"},\"yaxis\":\"y1\",\"text\":[null,null],\"x\":[1,1],\"showlegend\":true,\"mode\":\"markers\",\"name\":\"y65\",\"zmin\":-0.1,\"legendgroup\":\"y65\",\"z\":[0,0],\"marker\":{\"symbol\":\"circle\",\"color\":\"rgba(0, 0, 0, 1.000)\",\"line\":{\"color\":\"rgba(0, 0, 0, 1.000)\",\"width\":1},\"size\":2},\"zmax\":0.1,\"y\":[1,1],\"type\":\"scatter3d\",\"hoverinfo\":\"text\"},{\"xaxis\":\"x1\",\"colorbar\":{\"title\":\"\"},\"yaxis\":\"y1\",\"text\":[null,null],\"x\":[-10,-10],\"showlegend\":true,\"mode\":\"markers\",\"name\":\"y66\",\"zmin\":-0.1,\"legendgroup\":\"y66\",\"z\":[5,5],\"marker\":{\"symbol\":\"circle\",\"color\":\"rgba(0, 0, 0, 1.000)\",\"line\":{\"color\":\"rgba(0, 0, 0, 1.000)\",\"width\":1},\"size\":2},\"zmax\":0.1,\"y\":[5,5],\"type\":\"scatter3d\",\"hoverinfo\":\"text\"},{\"xaxis\":\"x1\",\"colorbar\":{\"title\":\"\"},\"yaxis\":\"y1\",\"text\":[null,null],\"x\":[14,14],\"showlegend\":true,\"mode\":\"markers\",\"name\":\"y67\",\"zmin\":-0.1,\"legendgroup\":\"y67\",\"z\":[6,6],\"marker\":{\"symbol\":\"circle\",\"color\":\"rgba(0, 0, 0, 1.000)\",\"line\":{\"color\":\"rgba(0, 0, 0, 1.000)\",\"width\":1},\"size\":2},\"zmax\":0.1,\"y\":[8,8],\"type\":\"scatter3d\",\"hoverinfo\":\"text\"},{\"xaxis\":\"x1\",\"colorbar\":{\"title\":\"\"},\"yaxis\":\"y1\",\"text\":[null,null],\"x\":[7,7],\"showlegend\":true,\"mode\":\"markers\",\"name\":\"y68\",\"zmin\":-0.1,\"legendgroup\":\"y68\",\"z\":[0,0],\"marker\":{\"symbol\":\"circle\",\"color\":\"rgba(0, 0, 0, 1.000)\",\"line\":{\"color\":\"rgba(0, 0, 0, 1.000)\",\"width\":1},\"size\":2},\"zmax\":0.1,\"y\":[-5,-5],\"type\":\"scatter3d\",\"hoverinfo\":\"text\"},{\"xaxis\":\"x1\",\"colorbar\":{\"title\":\"\"},\"yaxis\":\"y1\",\"text\":[null,null],\"x\":[2,2],\"showlegend\":true,\"mode\":\"markers\",\"name\":\"y69\",\"zmin\":-0.1,\"legendgroup\":\"y69\",\"z\":[-5,-5],\"marker\":{\"symbol\":\"circle\",\"color\":\"rgba(0, 0, 0, 1.000)\",\"line\":{\"color\":\"rgba(0, 0, 0, 1.000)\",\"width\":1},\"size\":2},\"zmax\":0.1,\"y\":[-7,-7],\"type\":\"scatter3d\",\"hoverinfo\":\"text\"},{\"xaxis\":\"x1\",\"colorbar\":{\"title\":\"\"},\"yaxis\":\"y1\",\"text\":[null,null],\"x\":[0,0],\"showlegend\":true,\"mode\":\"markers\",\"name\":\"y70\",\"zmin\":-0.1,\"legendgroup\":\"y70\",\"z\":[-4,-4],\"marker\":{\"symbol\":\"circle\",\"color\":\"rgba(0, 0, 0, 1.000)\",\"line\":{\"color\":\"rgba(0, 0, 0, 1.000)\",\"width\":1},\"size\":2},\"zmax\":0.1,\"y\":[0,0],\"type\":\"scatter3d\",\"hoverinfo\":\"text\"},{\"xaxis\":\"x1\",\"colorbar\":{\"title\":\"\"},\"yaxis\":\"y1\",\"text\":[null,null],\"x\":[-7,-7],\"showlegend\":true,\"mode\":\"markers\",\"name\":\"y71\",\"zmin\":-0.1,\"legendgroup\":\"y71\",\"z\":[-3,-3],\"marker\":{\"symbol\":\"circle\",\"color\":\"rgba(0, 0, 0, 1.000)\",\"line\":{\"color\":\"rgba(0, 0, 0, 1.000)\",\"width\":1},\"size\":2},\"zmax\":0.1,\"y\":[-4,-4],\"type\":\"scatter3d\",\"hoverinfo\":\"text\"},{\"xaxis\":\"x1\",\"colorbar\":{\"title\":\"\"},\"yaxis\":\"y1\",\"text\":[null,null],\"x\":[5,5],\"showlegend\":true,\"mode\":\"markers\",\"name\":\"y72\",\"zmin\":-0.1,\"legendgroup\":\"y72\",\"z\":[2,2],\"marker\":{\"symbol\":\"circle\",\"color\":\"rgba(0, 0, 0, 1.000)\",\"line\":{\"color\":\"rgba(0, 0, 0, 1.000)\",\"width\":1},\"size\":2},\"zmax\":0.1,\"y\":[-1,-1],\"type\":\"scatter3d\",\"hoverinfo\":\"text\"},{\"xaxis\":\"x1\",\"colorbar\":{\"title\":\"\"},\"yaxis\":\"y1\",\"text\":[null,null],\"x\":[0,0],\"showlegend\":true,\"mode\":\"markers\",\"name\":\"y73\",\"zmin\":-0.1,\"legendgroup\":\"y73\",\"z\":[5,5],\"marker\":{\"symbol\":\"circle\",\"color\":\"rgba(0, 0, 0, 1.000)\",\"line\":{\"color\":\"rgba(0, 0, 0, 1.000)\",\"width\":1},\"size\":2},\"zmax\":0.1,\"y\":[3,3],\"type\":\"scatter3d\",\"hoverinfo\":\"text\"},{\"xaxis\":\"x1\",\"colorbar\":{\"title\":\"\"},\"yaxis\":\"y1\",\"text\":[null,null],\"x\":[8,8],\"showlegend\":true,\"mode\":\"markers\",\"name\":\"y74\",\"zmin\":-0.1,\"legendgroup\":\"y74\",\"z\":[5,5],\"marker\":{\"symbol\":\"circle\",\"color\":\"rgba(0, 0, 0, 1.000)\",\"line\":{\"color\":\"rgba(0, 0, 0, 1.000)\",\"width\":1},\"size\":2},\"zmax\":0.1,\"y\":[5,5],\"type\":\"scatter3d\",\"hoverinfo\":\"text\"},{\"xaxis\":\"x1\",\"colorbar\":{\"title\":\"\"},\"yaxis\":\"y1\",\"text\":[null,null],\"x\":[-12,-12],\"showlegend\":true,\"mode\":\"markers\",\"name\":\"y75\",\"zmin\":-0.1,\"legendgroup\":\"y75\",\"z\":[1,1],\"marker\":{\"symbol\":\"circle\",\"color\":\"rgba(0, 0, 0, 1.000)\",\"line\":{\"color\":\"rgba(0, 0, 0, 1.000)\",\"width\":1},\"size\":2},\"zmax\":0.1,\"y\":[9,9],\"type\":\"scatter3d\",\"hoverinfo\":\"text\"},{\"xaxis\":\"x1\",\"colorbar\":{\"title\":\"\"},\"yaxis\":\"y1\",\"text\":[null,null],\"x\":[-12,-12],\"showlegend\":true,\"mode\":\"markers\",\"name\":\"y76\",\"zmin\":-0.1,\"legendgroup\":\"y76\",\"z\":[3,3],\"marker\":{\"symbol\":\"circle\",\"color\":\"rgba(0, 0, 0, 1.000)\",\"line\":{\"color\":\"rgba(0, 0, 0, 1.000)\",\"width\":1},\"size\":2},\"zmax\":0.1,\"y\":[3,3],\"type\":\"scatter3d\",\"hoverinfo\":\"text\"},{\"xaxis\":\"x1\",\"colorbar\":{\"title\":\"\"},\"yaxis\":\"y1\",\"text\":[null,null],\"x\":[15,15],\"showlegend\":true,\"mode\":\"markers\",\"name\":\"y77\",\"zmin\":-0.1,\"legendgroup\":\"y77\",\"z\":[-5,-5],\"marker\":{\"symbol\":\"circle\",\"color\":\"rgba(0, 0, 0, 1.000)\",\"line\":{\"color\":\"rgba(0, 0, 0, 1.000)\",\"width\":1},\"size\":2},\"zmax\":0.1,\"y\":[-12,-12],\"type\":\"scatter3d\",\"hoverinfo\":\"text\"},{\"xaxis\":\"x1\",\"colorbar\":{\"title\":\"\"},\"yaxis\":\"y1\",\"text\":[null,null],\"x\":[2,2],\"showlegend\":true,\"mode\":\"markers\",\"name\":\"y78\",\"zmin\":-0.1,\"legendgroup\":\"y78\",\"z\":[4,4],\"marker\":{\"symbol\":\"circle\",\"color\":\"rgba(0, 0, 0, 1.000)\",\"line\":{\"color\":\"rgba(0, 0, 0, 1.000)\",\"width\":1},\"size\":2},\"zmax\":0.1,\"y\":[2,2],\"type\":\"scatter3d\",\"hoverinfo\":\"text\"},{\"xaxis\":\"x1\",\"colorbar\":{\"title\":\"\"},\"yaxis\":\"y1\",\"text\":[null,null],\"x\":[-8,-8],\"showlegend\":true,\"mode\":\"markers\",\"name\":\"y79\",\"zmin\":-0.1,\"legendgroup\":\"y79\",\"z\":[-4,-4],\"marker\":{\"symbol\":\"circle\",\"color\":\"rgba(0, 0, 0, 1.000)\",\"line\":{\"color\":\"rgba(0, 0, 0, 1.000)\",\"width\":1},\"size\":2},\"zmax\":0.1,\"y\":[4,4],\"type\":\"scatter3d\",\"hoverinfo\":\"text\"},{\"xaxis\":\"x1\",\"colorbar\":{\"title\":\"\"},\"yaxis\":\"y1\",\"text\":[null,null],\"x\":[5,5],\"showlegend\":true,\"mode\":\"markers\",\"name\":\"y80\",\"zmin\":-0.1,\"legendgroup\":\"y80\",\"z\":[4,4],\"marker\":{\"symbol\":\"circle\",\"color\":\"rgba(0, 0, 0, 1.000)\",\"line\":{\"color\":\"rgba(0, 0, 0, 1.000)\",\"width\":1},\"size\":2},\"zmax\":0.1,\"y\":[-1,-1],\"type\":\"scatter3d\",\"hoverinfo\":\"text\"},{\"xaxis\":\"x1\",\"colorbar\":{\"title\":\"\"},\"yaxis\":\"y1\",\"text\":[null,null],\"x\":[6,6],\"showlegend\":true,\"mode\":\"markers\",\"name\":\"y81\",\"zmin\":-0.1,\"legendgroup\":\"y81\",\"z\":[-12,-12],\"marker\":{\"symbol\":\"circle\",\"color\":\"rgba(0, 0, 0, 1.000)\",\"line\":{\"color\":\"rgba(0, 0, 0, 1.000)\",\"width\":1},\"size\":2},\"zmax\":0.1,\"y\":[-12,-12],\"type\":\"scatter3d\",\"hoverinfo\":\"text\"},{\"xaxis\":\"x1\",\"colorbar\":{\"title\":\"\"},\"yaxis\":\"y1\",\"text\":[null,null],\"x\":[-2,-2],\"showlegend\":true,\"mode\":\"markers\",\"name\":\"y82\",\"zmin\":-0.1,\"legendgroup\":\"y82\",\"z\":[-7,-7],\"marker\":{\"symbol\":\"circle\",\"color\":\"rgba(0, 0, 0, 1.000)\",\"line\":{\"color\":\"rgba(0, 0, 0, 1.000)\",\"width\":1},\"size\":2},\"zmax\":0.1,\"y\":[-5,-5],\"type\":\"scatter3d\",\"hoverinfo\":\"text\"},{\"xaxis\":\"x1\",\"colorbar\":{\"title\":\"\"},\"yaxis\":\"y1\",\"text\":[null,null],\"x\":[-9,-9],\"showlegend\":true,\"mode\":\"markers\",\"name\":\"y83\",\"zmin\":-0.1,\"legendgroup\":\"y83\",\"z\":[1,1],\"marker\":{\"symbol\":\"circle\",\"color\":\"rgba(0, 0, 0, 1.000)\",\"line\":{\"color\":\"rgba(0, 0, 0, 1.000)\",\"width\":1},\"size\":2},\"zmax\":0.1,\"y\":[0,0],\"type\":\"scatter3d\",\"hoverinfo\":\"text\"},{\"xaxis\":\"x1\",\"colorbar\":{\"title\":\"\"},\"yaxis\":\"y1\",\"text\":[null,null],\"x\":[4,4],\"showlegend\":true,\"mode\":\"markers\",\"name\":\"y84\",\"zmin\":-0.1,\"legendgroup\":\"y84\",\"z\":[-1,-1],\"marker\":{\"symbol\":\"circle\",\"color\":\"rgba(0, 0, 0, 1.000)\",\"line\":{\"color\":\"rgba(0, 0, 0, 1.000)\",\"width\":1},\"size\":2},\"zmax\":0.1,\"y\":[1,1],\"type\":\"scatter3d\",\"hoverinfo\":\"text\"},{\"xaxis\":\"x1\",\"colorbar\":{\"title\":\"\"},\"yaxis\":\"y1\",\"text\":[null,null],\"x\":[-5,-5],\"showlegend\":true,\"mode\":\"markers\",\"name\":\"y85\",\"zmin\":-0.1,\"legendgroup\":\"y85\",\"z\":[8,8],\"marker\":{\"symbol\":\"circle\",\"color\":\"rgba(0, 0, 0, 1.000)\",\"line\":{\"color\":\"rgba(0, 0, 0, 1.000)\",\"width\":1},\"size\":2},\"zmax\":0.1,\"y\":[7,7],\"type\":\"scatter3d\",\"hoverinfo\":\"text\"},{\"xaxis\":\"x1\",\"colorbar\":{\"title\":\"\"},\"yaxis\":\"y1\",\"text\":[null,null],\"x\":[5,5],\"showlegend\":true,\"mode\":\"markers\",\"name\":\"y86\",\"zmin\":-0.1,\"legendgroup\":\"y86\",\"z\":[3,3],\"marker\":{\"symbol\":\"circle\",\"color\":\"rgba(0, 0, 0, 1.000)\",\"line\":{\"color\":\"rgba(0, 0, 0, 1.000)\",\"width\":1},\"size\":2},\"zmax\":0.1,\"y\":[2,2],\"type\":\"scatter3d\",\"hoverinfo\":\"text\"},{\"xaxis\":\"x1\",\"colorbar\":{\"title\":\"\"},\"yaxis\":\"y1\",\"text\":[null,null],\"x\":[6,6],\"showlegend\":true,\"mode\":\"markers\",\"name\":\"y87\",\"zmin\":-0.1,\"legendgroup\":\"y87\",\"z\":[-6,-6],\"marker\":{\"symbol\":\"circle\",\"color\":\"rgba(0, 0, 0, 1.000)\",\"line\":{\"color\":\"rgba(0, 0, 0, 1.000)\",\"width\":1},\"size\":2},\"zmax\":0.1,\"y\":[-12,-12],\"type\":\"scatter3d\",\"hoverinfo\":\"text\"},{\"xaxis\":\"x1\",\"colorbar\":{\"title\":\"\"},\"yaxis\":\"y1\",\"text\":[null,null],\"x\":[6,6],\"showlegend\":true,\"mode\":\"markers\",\"name\":\"y88\",\"zmin\":-0.1,\"legendgroup\":\"y88\",\"z\":[1,1],\"marker\":{\"symbol\":\"circle\",\"color\":\"rgba(0, 0, 0, 1.000)\",\"line\":{\"color\":\"rgba(0, 0, 0, 1.000)\",\"width\":1},\"size\":2},\"zmax\":0.1,\"y\":[3,3],\"type\":\"scatter3d\",\"hoverinfo\":\"text\"},{\"xaxis\":\"x1\",\"colorbar\":{\"title\":\"\"},\"yaxis\":\"y1\",\"text\":[null,null],\"x\":[-1,-1],\"showlegend\":true,\"mode\":\"markers\",\"name\":\"y89\",\"zmin\":-0.1,\"legendgroup\":\"y89\",\"z\":[0,0],\"marker\":{\"symbol\":\"circle\",\"color\":\"rgba(0, 0, 0, 1.000)\",\"line\":{\"color\":\"rgba(0, 0, 0, 1.000)\",\"width\":1},\"size\":2},\"zmax\":0.1,\"y\":[5,5],\"type\":\"scatter3d\",\"hoverinfo\":\"text\"},{\"xaxis\":\"x1\",\"colorbar\":{\"title\":\"\"},\"yaxis\":\"y1\",\"text\":[null,null],\"x\":[6,6],\"showlegend\":true,\"mode\":\"markers\",\"name\":\"y90\",\"zmin\":-0.1,\"legendgroup\":\"y90\",\"z\":[-12,-12],\"marker\":{\"symbol\":\"circle\",\"color\":\"rgba(0, 0, 0, 1.000)\",\"line\":{\"color\":\"rgba(0, 0, 0, 1.000)\",\"width\":1},\"size\":2},\"zmax\":0.1,\"y\":[-12,-12],\"type\":\"scatter3d\",\"hoverinfo\":\"text\"},{\"xaxis\":\"x1\",\"colorbar\":{\"title\":\"\"},\"yaxis\":\"y1\",\"text\":[null,null],\"x\":[3,3],\"showlegend\":true,\"mode\":\"markers\",\"name\":\"y91\",\"zmin\":-0.1,\"legendgroup\":\"y91\",\"z\":[0,0],\"marker\":{\"symbol\":\"circle\",\"color\":\"rgba(0, 0, 0, 1.000)\",\"line\":{\"color\":\"rgba(0, 0, 0, 1.000)\",\"width\":1},\"size\":2},\"zmax\":0.1,\"y\":[-3,-3],\"type\":\"scatter3d\",\"hoverinfo\":\"text\"},{\"xaxis\":\"x1\",\"colorbar\":{\"title\":\"\"},\"yaxis\":\"y1\",\"text\":[null,null],\"x\":[-3,-3],\"showlegend\":true,\"mode\":\"markers\",\"name\":\"y92\",\"zmin\":-0.1,\"legendgroup\":\"y92\",\"z\":[5,5],\"marker\":{\"symbol\":\"circle\",\"color\":\"rgba(0, 0, 0, 1.000)\",\"line\":{\"color\":\"rgba(0, 0, 0, 1.000)\",\"width\":1},\"size\":2},\"zmax\":0.1,\"y\":[0,0],\"type\":\"scatter3d\",\"hoverinfo\":\"text\"},{\"xaxis\":\"x1\",\"colorbar\":{\"title\":\"\"},\"yaxis\":\"y1\",\"text\":[null,null],\"x\":[12,12],\"showlegend\":true,\"mode\":\"markers\",\"name\":\"y93\",\"zmin\":-0.1,\"legendgroup\":\"y93\",\"z\":[-4,-4],\"marker\":{\"symbol\":\"circle\",\"color\":\"rgba(0, 0, 0, 1.000)\",\"line\":{\"color\":\"rgba(0, 0, 0, 1.000)\",\"width\":1},\"size\":2},\"zmax\":0.1,\"y\":[-12,-12],\"type\":\"scatter3d\",\"hoverinfo\":\"text\"},{\"xaxis\":\"x1\",\"colorbar\":{\"title\":\"\"},\"yaxis\":\"y1\",\"text\":[null,null],\"x\":[4,4],\"showlegend\":true,\"mode\":\"markers\",\"name\":\"y94\",\"zmin\":-0.1,\"legendgroup\":\"y94\",\"z\":[6,6],\"marker\":{\"symbol\":\"circle\",\"color\":\"rgba(0, 0, 0, 1.000)\",\"line\":{\"color\":\"rgba(0, 0, 0, 1.000)\",\"width\":1},\"size\":2},\"zmax\":0.1,\"y\":[-2,-2],\"type\":\"scatter3d\",\"hoverinfo\":\"text\"},{\"xaxis\":\"x1\",\"colorbar\":{\"title\":\"\"},\"yaxis\":\"y1\",\"text\":[null,null],\"x\":[-1,-1],\"showlegend\":true,\"mode\":\"markers\",\"name\":\"y95\",\"zmin\":-0.1,\"legendgroup\":\"y95\",\"z\":[-7,-7],\"marker\":{\"symbol\":\"circle\",\"color\":\"rgba(0, 0, 0, 1.000)\",\"line\":{\"color\":\"rgba(0, 0, 0, 1.000)\",\"width\":1},\"size\":2},\"zmax\":0.1,\"y\":[-10,-10],\"type\":\"scatter3d\",\"hoverinfo\":\"text\"},{\"xaxis\":\"x1\",\"colorbar\":{\"title\":\"\"},\"yaxis\":\"y1\",\"text\":[null,null],\"x\":[9,9],\"showlegend\":true,\"mode\":\"markers\",\"name\":\"y96\",\"zmin\":-0.1,\"legendgroup\":\"y96\",\"z\":[-10,-10],\"marker\":{\"symbol\":\"circle\",\"color\":\"rgba(0, 0, 0, 1.000)\",\"line\":{\"color\":\"rgba(0, 0, 0, 1.000)\",\"width\":1},\"size\":2},\"zmax\":0.1,\"y\":[-15,-15],\"type\":\"scatter3d\",\"hoverinfo\":\"text\"},{\"xaxis\":\"x1\",\"colorbar\":{\"title\":\"\"},\"yaxis\":\"y1\",\"text\":[null,null],\"x\":[-8,-8],\"showlegend\":true,\"mode\":\"markers\",\"name\":\"y97\",\"zmin\":-0.1,\"legendgroup\":\"y97\",\"z\":[4,4],\"marker\":{\"symbol\":\"circle\",\"color\":\"rgba(0, 0, 0, 1.000)\",\"line\":{\"color\":\"rgba(0, 0, 0, 1.000)\",\"width\":1},\"size\":2},\"zmax\":0.1,\"y\":[4,4],\"type\":\"scatter3d\",\"hoverinfo\":\"text\"},{\"xaxis\":\"x1\",\"colorbar\":{\"title\":\"\"},\"yaxis\":\"y1\",\"text\":[null,null],\"x\":[-7,-7],\"showlegend\":true,\"mode\":\"markers\",\"name\":\"y98\",\"zmin\":-0.1,\"legendgroup\":\"y98\",\"z\":[0,0],\"marker\":{\"symbol\":\"circle\",\"color\":\"rgba(0, 0, 0, 1.000)\",\"line\":{\"color\":\"rgba(0, 0, 0, 1.000)\",\"width\":1},\"size\":2},\"zmax\":0.1,\"y\":[5,5],\"type\":\"scatter3d\",\"hoverinfo\":\"text\"},{\"xaxis\":\"x1\",\"colorbar\":{\"title\":\"\"},\"yaxis\":\"y1\",\"text\":[null,null],\"x\":[4,4],\"showlegend\":true,\"mode\":\"markers\",\"name\":\"y99\",\"zmin\":-0.1,\"legendgroup\":\"y99\",\"z\":[2,2],\"marker\":{\"symbol\":\"circle\",\"color\":\"rgba(0, 0, 0, 1.000)\",\"line\":{\"color\":\"rgba(0, 0, 0, 1.000)\",\"width\":1},\"size\":2},\"zmax\":0.1,\"y\":[4,4],\"type\":\"scatter3d\",\"hoverinfo\":\"text\"},{\"xaxis\":\"x1\",\"colorbar\":{\"title\":\"\"},\"yaxis\":\"y1\",\"text\":[null,null],\"x\":[-12,-12],\"showlegend\":true,\"mode\":\"markers\",\"name\":\"y100\",\"zmin\":-0.1,\"legendgroup\":\"y100\",\"z\":[10,10],\"marker\":{\"symbol\":\"circle\",\"color\":\"rgba(0, 0, 0, 1.000)\",\"line\":{\"color\":\"rgba(0, 0, 0, 1.000)\",\"width\":1},\"size\":2},\"zmax\":0.1,\"y\":[12,12],\"type\":\"scatter3d\",\"hoverinfo\":\"text\"},{\"xaxis\":\"x1\",\"colorbar\":{\"title\":\"\"},\"yaxis\":\"y1\",\"text\":[null,null],\"x\":[-1,-1],\"showlegend\":true,\"mode\":\"markers\",\"name\":\"y101\",\"zmin\":-0.1,\"legendgroup\":\"y101\",\"z\":[8,8],\"marker\":{\"symbol\":\"circle\",\"color\":\"rgba(0, 0, 0, 1.000)\",\"line\":{\"color\":\"rgba(0, 0, 0, 1.000)\",\"width\":1},\"size\":2},\"zmax\":0.1,\"y\":[5,5],\"type\":\"scatter3d\",\"hoverinfo\":\"text\"},{\"xaxis\":\"x1\",\"colorbar\":{\"title\":\"\"},\"yaxis\":\"y1\",\"text\":[null,null],\"x\":[-2,-2],\"showlegend\":true,\"mode\":\"markers\",\"name\":\"y102\",\"zmin\":-0.1,\"legendgroup\":\"y102\",\"z\":[0,0],\"marker\":{\"symbol\":\"circle\",\"color\":\"rgba(0, 0, 0, 1.000)\",\"line\":{\"color\":\"rgba(0, 0, 0, 1.000)\",\"width\":1},\"size\":2},\"zmax\":0.1,\"y\":[-2,-2],\"type\":\"scatter3d\",\"hoverinfo\":\"text\"},{\"xaxis\":\"x1\",\"colorbar\":{\"title\":\"\"},\"yaxis\":\"y1\",\"text\":[null,null],\"x\":[-4,-4],\"showlegend\":true,\"mode\":\"markers\",\"name\":\"y103\",\"zmin\":-0.1,\"legendgroup\":\"y103\",\"z\":[4,4],\"marker\":{\"symbol\":\"circle\",\"color\":\"rgba(0, 0, 0, 1.000)\",\"line\":{\"color\":\"rgba(0, 0, 0, 1.000)\",\"width\":1},\"size\":2},\"zmax\":0.1,\"y\":[2,2],\"type\":\"scatter3d\",\"hoverinfo\":\"text\"},{\"xaxis\":\"x1\",\"colorbar\":{\"title\":\"\"},\"yaxis\":\"y1\",\"text\":[null,null],\"x\":[5,5],\"showlegend\":true,\"mode\":\"markers\",\"name\":\"y104\",\"zmin\":-0.1,\"legendgroup\":\"y104\",\"z\":[10,10],\"marker\":{\"symbol\":\"circle\",\"color\":\"rgba(0, 0, 0, 1.000)\",\"line\":{\"color\":\"rgba(0, 0, 0, 1.000)\",\"width\":1},\"size\":2},\"zmax\":0.1,\"y\":[11,11],\"type\":\"scatter3d\",\"hoverinfo\":\"text\"},{\"xaxis\":\"x1\",\"colorbar\":{\"title\":\"\"},\"yaxis\":\"y1\",\"text\":[null,null],\"x\":[-10,-10],\"showlegend\":true,\"mode\":\"markers\",\"name\":\"y105\",\"zmin\":-0.1,\"legendgroup\":\"y105\",\"z\":[12,12],\"marker\":{\"symbol\":\"circle\",\"color\":\"rgba(0, 0, 0, 1.000)\",\"line\":{\"color\":\"rgba(0, 0, 0, 1.000)\",\"width\":1},\"size\":2},\"zmax\":0.1,\"y\":[14,14],\"type\":\"scatter3d\",\"hoverinfo\":\"text\"},{\"xaxis\":\"x1\",\"colorbar\":{\"title\":\"\"},\"yaxis\":\"y1\",\"text\":[null,null],\"x\":[-3,-3],\"showlegend\":true,\"mode\":\"markers\",\"name\":\"y106\",\"zmin\":-0.1,\"legendgroup\":\"y106\",\"z\":[-11,-11],\"marker\":{\"symbol\":\"circle\",\"color\":\"rgba(0, 0, 0, 1.000)\",\"line\":{\"color\":\"rgba(0, 0, 0, 1.000)\",\"width\":1},\"size\":2},\"zmax\":0.1,\"y\":[-12,-12],\"type\":\"scatter3d\",\"hoverinfo\":\"text\"},{\"xaxis\":\"x1\",\"colorbar\":{\"title\":\"\"},\"yaxis\":\"y1\",\"text\":[null,null],\"x\":[-1,-1],\"showlegend\":true,\"mode\":\"markers\",\"name\":\"y107\",\"zmin\":-0.1,\"legendgroup\":\"y107\",\"z\":[-9,-9],\"marker\":{\"symbol\":\"circle\",\"color\":\"rgba(0, 0, 0, 1.000)\",\"line\":{\"color\":\"rgba(0, 0, 0, 1.000)\",\"width\":1},\"size\":2},\"zmax\":0.1,\"y\":[-4,-4],\"type\":\"scatter3d\",\"hoverinfo\":\"text\"},{\"xaxis\":\"x1\",\"colorbar\":{\"title\":\"\"},\"yaxis\":\"y1\",\"text\":[null,null],\"x\":[4,4],\"showlegend\":true,\"mode\":\"markers\",\"name\":\"y108\",\"zmin\":-0.1,\"legendgroup\":\"y108\",\"z\":[1,1],\"marker\":{\"symbol\":\"circle\",\"color\":\"rgba(0, 0, 0, 1.000)\",\"line\":{\"color\":\"rgba(0, 0, 0, 1.000)\",\"width\":1},\"size\":2},\"zmax\":0.1,\"y\":[1,1],\"type\":\"scatter3d\",\"hoverinfo\":\"text\"},{\"xaxis\":\"x1\",\"colorbar\":{\"title\":\"\"},\"yaxis\":\"y1\",\"text\":[null,null],\"x\":[-5,-5],\"showlegend\":true,\"mode\":\"markers\",\"name\":\"y109\",\"zmin\":-0.1,\"legendgroup\":\"y109\",\"z\":[-4,-4],\"marker\":{\"symbol\":\"circle\",\"color\":\"rgba(0, 0, 0, 1.000)\",\"line\":{\"color\":\"rgba(0, 0, 0, 1.000)\",\"width\":1},\"size\":2},\"zmax\":0.1,\"y\":[-5,-5],\"type\":\"scatter3d\",\"hoverinfo\":\"text\"},{\"xaxis\":\"x1\",\"colorbar\":{\"title\":\"\"},\"yaxis\":\"y1\",\"text\":[null,null],\"x\":[10,10],\"showlegend\":true,\"mode\":\"markers\",\"name\":\"y110\",\"zmin\":-0.1,\"legendgroup\":\"y110\",\"z\":[-3,-3],\"marker\":{\"symbol\":\"circle\",\"color\":\"rgba(0, 0, 0, 1.000)\",\"line\":{\"color\":\"rgba(0, 0, 0, 1.000)\",\"width\":1},\"size\":2},\"zmax\":0.1,\"y\":[-5,-5],\"type\":\"scatter3d\",\"hoverinfo\":\"text\"},{\"xaxis\":\"x1\",\"colorbar\":{\"title\":\"\"},\"yaxis\":\"y1\",\"text\":[null,null],\"x\":[-11,-11],\"showlegend\":true,\"mode\":\"markers\",\"name\":\"y111\",\"zmin\":-0.1,\"legendgroup\":\"y111\",\"z\":[1,1],\"marker\":{\"symbol\":\"circle\",\"color\":\"rgba(0, 0, 0, 1.000)\",\"line\":{\"color\":\"rgba(0, 0, 0, 1.000)\",\"width\":1},\"size\":2},\"zmax\":0.1,\"y\":[-2,-2],\"type\":\"scatter3d\",\"hoverinfo\":\"text\"},{\"xaxis\":\"x1\",\"colorbar\":{\"title\":\"\"},\"yaxis\":\"y1\",\"text\":[null,null],\"x\":[-14,-14],\"showlegend\":true,\"mode\":\"markers\",\"name\":\"y112\",\"zmin\":-0.1,\"legendgroup\":\"y112\",\"z\":[-2,-2],\"marker\":{\"symbol\":\"circle\",\"color\":\"rgba(0, 0, 0, 1.000)\",\"line\":{\"color\":\"rgba(0, 0, 0, 1.000)\",\"width\":1},\"size\":2},\"zmax\":0.1,\"y\":[-2,-2],\"type\":\"scatter3d\",\"hoverinfo\":\"text\"},{\"xaxis\":\"x1\",\"colorbar\":{\"title\":\"\"},\"yaxis\":\"y1\",\"text\":[null,null],\"x\":[0,0],\"showlegend\":true,\"mode\":\"markers\",\"name\":\"y113\",\"zmin\":-0.1,\"legendgroup\":\"y113\",\"z\":[3,3],\"marker\":{\"symbol\":\"circle\",\"color\":\"rgba(0, 0, 0, 1.000)\",\"line\":{\"color\":\"rgba(0, 0, 0, 1.000)\",\"width\":1},\"size\":2},\"zmax\":0.1,\"y\":[3,3],\"type\":\"scatter3d\",\"hoverinfo\":\"text\"},{\"xaxis\":\"x1\",\"colorbar\":{\"title\":\"\"},\"yaxis\":\"y1\",\"text\":[null,null],\"x\":[-13,-13],\"showlegend\":true,\"mode\":\"markers\",\"name\":\"y114\",\"zmin\":-0.1,\"legendgroup\":\"y114\",\"z\":[7,7],\"marker\":{\"symbol\":\"circle\",\"color\":\"rgba(0, 0, 0, 1.000)\",\"line\":{\"color\":\"rgba(0, 0, 0, 1.000)\",\"width\":1},\"size\":2},\"zmax\":0.1,\"y\":[8,8],\"type\":\"scatter3d\",\"hoverinfo\":\"text\"},{\"xaxis\":\"x1\",\"colorbar\":{\"title\":\"\"},\"yaxis\":\"y1\",\"text\":[null,null],\"x\":[7,7],\"showlegend\":true,\"mode\":\"markers\",\"name\":\"y115\",\"zmin\":-0.1,\"legendgroup\":\"y115\",\"z\":[2,2],\"marker\":{\"symbol\":\"circle\",\"color\":\"rgba(0, 0, 0, 1.000)\",\"line\":{\"color\":\"rgba(0, 0, 0, 1.000)\",\"width\":1},\"size\":2},\"zmax\":0.1,\"y\":[1,1],\"type\":\"scatter3d\",\"hoverinfo\":\"text\"},{\"xaxis\":\"x1\",\"colorbar\":{\"title\":\"\"},\"yaxis\":\"y1\",\"text\":[null,null],\"x\":[6,6],\"showlegend\":true,\"mode\":\"markers\",\"name\":\"y116\",\"zmin\":-0.1,\"legendgroup\":\"y116\",\"z\":[-2,-2],\"marker\":{\"symbol\":\"circle\",\"color\":\"rgba(0, 0, 0, 1.000)\",\"line\":{\"color\":\"rgba(0, 0, 0, 1.000)\",\"width\":1},\"size\":2},\"zmax\":0.1,\"y\":[-6,-6],\"type\":\"scatter3d\",\"hoverinfo\":\"text\"},{\"xaxis\":\"x1\",\"colorbar\":{\"title\":\"\"},\"yaxis\":\"y1\",\"text\":[null,null],\"x\":[-14,-14],\"showlegend\":true,\"mode\":\"markers\",\"name\":\"y117\",\"zmin\":-0.1,\"legendgroup\":\"y117\",\"z\":[-3,-3],\"marker\":{\"symbol\":\"circle\",\"color\":\"rgba(0, 0, 0, 1.000)\",\"line\":{\"color\":\"rgba(0, 0, 0, 1.000)\",\"width\":1},\"size\":2},\"zmax\":0.1,\"y\":[1,1],\"type\":\"scatter3d\",\"hoverinfo\":\"text\"},{\"xaxis\":\"x1\",\"colorbar\":{\"title\":\"\"},\"yaxis\":\"y1\",\"text\":[null,null],\"x\":[2,2],\"showlegend\":true,\"mode\":\"markers\",\"name\":\"y118\",\"zmin\":-0.1,\"legendgroup\":\"y118\",\"z\":[-9,-9],\"marker\":{\"symbol\":\"circle\",\"color\":\"rgba(0, 0, 0, 1.000)\",\"line\":{\"color\":\"rgba(0, 0, 0, 1.000)\",\"width\":1},\"size\":2},\"zmax\":0.1,\"y\":[-7,-7],\"type\":\"scatter3d\",\"hoverinfo\":\"text\"},{\"xaxis\":\"x1\",\"colorbar\":{\"title\":\"\"},\"yaxis\":\"y1\",\"text\":[null,null],\"x\":[13,13],\"showlegend\":true,\"mode\":\"markers\",\"name\":\"y119\",\"zmin\":-0.1,\"legendgroup\":\"y119\",\"z\":[-8,-8],\"marker\":{\"symbol\":\"circle\",\"color\":\"rgba(0, 0, 0, 1.000)\",\"line\":{\"color\":\"rgba(0, 0, 0, 1.000)\",\"width\":1},\"size\":2},\"zmax\":0.1,\"y\":[-11,-11],\"type\":\"scatter3d\",\"hoverinfo\":\"text\"},{\"xaxis\":\"x1\",\"colorbar\":{\"title\":\"\"},\"yaxis\":\"y1\",\"text\":[null,null],\"x\":[11,11],\"showlegend\":true,\"mode\":\"markers\",\"name\":\"y120\",\"zmin\":-0.1,\"legendgroup\":\"y120\",\"z\":[-6,-6],\"marker\":{\"symbol\":\"circle\",\"color\":\"rgba(0, 0, 0, 1.000)\",\"line\":{\"color\":\"rgba(0, 0, 0, 1.000)\",\"width\":1},\"size\":2},\"zmax\":0.1,\"y\":[-7,-7],\"type\":\"scatter3d\",\"hoverinfo\":\"text\"},{\"xaxis\":\"x1\",\"colorbar\":{\"title\":\"\"},\"yaxis\":\"y1\",\"text\":[null,null],\"x\":[3,3],\"showlegend\":true,\"mode\":\"markers\",\"name\":\"y121\",\"zmin\":-0.1,\"legendgroup\":\"y121\",\"z\":[-1,-1],\"marker\":{\"symbol\":\"circle\",\"color\":\"rgba(0, 0, 0, 1.000)\",\"line\":{\"color\":\"rgba(0, 0, 0, 1.000)\",\"width\":1},\"size\":2},\"zmax\":0.1,\"y\":[0,0],\"type\":\"scatter3d\",\"hoverinfo\":\"text\"},{\"xaxis\":\"x1\",\"colorbar\":{\"title\":\"\"},\"yaxis\":\"y1\",\"text\":[null,null],\"x\":[-5,-5],\"showlegend\":true,\"mode\":\"markers\",\"name\":\"y122\",\"zmin\":-0.1,\"legendgroup\":\"y122\",\"z\":[-5,-5],\"marker\":{\"symbol\":\"circle\",\"color\":\"rgba(0, 0, 0, 1.000)\",\"line\":{\"color\":\"rgba(0, 0, 0, 1.000)\",\"width\":1},\"size\":2},\"zmax\":0.1,\"y\":[-8,-8],\"type\":\"scatter3d\",\"hoverinfo\":\"text\"},{\"xaxis\":\"x1\",\"colorbar\":{\"title\":\"\"},\"yaxis\":\"y1\",\"text\":[null,null],\"x\":[1,1],\"showlegend\":true,\"mode\":\"markers\",\"name\":\"y123\",\"zmin\":-0.1,\"legendgroup\":\"y123\",\"z\":[12,12],\"marker\":{\"symbol\":\"circle\",\"color\":\"rgba(0, 0, 0, 1.000)\",\"line\":{\"color\":\"rgba(0, 0, 0, 1.000)\",\"width\":1},\"size\":2},\"zmax\":0.1,\"y\":[13,13],\"type\":\"scatter3d\",\"hoverinfo\":\"text\"},{\"xaxis\":\"x1\",\"colorbar\":{\"title\":\"\"},\"yaxis\":\"y1\",\"text\":[null,null],\"x\":[9,9],\"showlegend\":true,\"mode\":\"markers\",\"name\":\"y124\",\"zmin\":-0.1,\"legendgroup\":\"y124\",\"z\":[-2,-2],\"marker\":{\"symbol\":\"circle\",\"color\":\"rgba(0, 0, 0, 1.000)\",\"line\":{\"color\":\"rgba(0, 0, 0, 1.000)\",\"width\":1},\"size\":2},\"zmax\":0.1,\"y\":[-9,-9],\"type\":\"scatter3d\",\"hoverinfo\":\"text\"},{\"xaxis\":\"x1\",\"colorbar\":{\"title\":\"\"},\"yaxis\":\"y1\",\"text\":[null,null],\"x\":[-13,-13],\"showlegend\":true,\"mode\":\"markers\",\"name\":\"y125\",\"zmin\":-0.1,\"legendgroup\":\"y125\",\"z\":[5,5],\"marker\":{\"symbol\":\"circle\",\"color\":\"rgba(0, 0, 0, 1.000)\",\"line\":{\"color\":\"rgba(0, 0, 0, 1.000)\",\"width\":1},\"size\":2},\"zmax\":0.1,\"y\":[8,8],\"type\":\"scatter3d\",\"hoverinfo\":\"text\"},{\"xaxis\":\"x1\",\"colorbar\":{\"title\":\"\"},\"yaxis\":\"y1\",\"text\":[null,null],\"x\":[9,9],\"showlegend\":true,\"mode\":\"markers\",\"name\":\"y126\",\"zmin\":-0.1,\"legendgroup\":\"y126\",\"z\":[0,0],\"marker\":{\"symbol\":\"circle\",\"color\":\"rgba(0, 0, 0, 1.000)\",\"line\":{\"color\":\"rgba(0, 0, 0, 1.000)\",\"width\":1},\"size\":2},\"zmax\":0.1,\"y\":[3,3],\"type\":\"scatter3d\",\"hoverinfo\":\"text\"},{\"xaxis\":\"x1\",\"colorbar\":{\"title\":\"\"},\"yaxis\":\"y1\",\"text\":[null,null],\"x\":[10,10],\"showlegend\":true,\"mode\":\"markers\",\"name\":\"y127\",\"zmin\":-0.1,\"legendgroup\":\"y127\",\"z\":[-1,-1],\"marker\":{\"symbol\":\"circle\",\"color\":\"rgba(0, 0, 0, 1.000)\",\"line\":{\"color\":\"rgba(0, 0, 0, 1.000)\",\"width\":1},\"size\":2},\"zmax\":0.1,\"y\":[1,1],\"type\":\"scatter3d\",\"hoverinfo\":\"text\"},{\"xaxis\":\"x1\",\"colorbar\":{\"title\":\"\"},\"yaxis\":\"y1\",\"text\":[null,null],\"x\":[-8,-8],\"showlegend\":true,\"mode\":\"markers\",\"name\":\"y128\",\"zmin\":-0.1,\"legendgroup\":\"y128\",\"z\":[0,0],\"marker\":{\"symbol\":\"circle\",\"color\":\"rgba(0, 0, 0, 1.000)\",\"line\":{\"color\":\"rgba(0, 0, 0, 1.000)\",\"width\":1},\"size\":2},\"zmax\":0.1,\"y\":[-2,-2],\"type\":\"scatter3d\",\"hoverinfo\":\"text\"},{\"xaxis\":\"x1\",\"colorbar\":{\"title\":\"\"},\"yaxis\":\"y1\",\"text\":[null,null],\"x\":[-13,-13],\"showlegend\":true,\"mode\":\"markers\",\"name\":\"y129\",\"zmin\":-0.1,\"legendgroup\":\"y129\",\"z\":[9,9],\"marker\":{\"symbol\":\"circle\",\"color\":\"rgba(0, 0, 0, 1.000)\",\"line\":{\"color\":\"rgba(0, 0, 0, 1.000)\",\"width\":1},\"size\":2},\"zmax\":0.1,\"y\":[14,14],\"type\":\"scatter3d\",\"hoverinfo\":\"text\"},{\"xaxis\":\"x1\",\"colorbar\":{\"title\":\"\"},\"yaxis\":\"y1\",\"text\":[null,null],\"x\":[-1,-1],\"showlegend\":true,\"mode\":\"markers\",\"name\":\"y130\",\"zmin\":-0.1,\"legendgroup\":\"y130\",\"z\":[-7,-7],\"marker\":{\"symbol\":\"circle\",\"color\":\"rgba(0, 0, 0, 1.000)\",\"line\":{\"color\":\"rgba(0, 0, 0, 1.000)\",\"width\":1},\"size\":2},\"zmax\":0.1,\"y\":[-10,-10],\"type\":\"scatter3d\",\"hoverinfo\":\"text\"},{\"xaxis\":\"x1\",\"colorbar\":{\"title\":\"\"},\"yaxis\":\"y1\",\"text\":[null,null],\"x\":[-2,-2],\"showlegend\":true,\"mode\":\"markers\",\"name\":\"y131\",\"zmin\":-0.1,\"legendgroup\":\"y131\",\"z\":[1,1],\"marker\":{\"symbol\":\"circle\",\"color\":\"rgba(0, 0, 0, 1.000)\",\"line\":{\"color\":\"rgba(0, 0, 0, 1.000)\",\"width\":1},\"size\":2},\"zmax\":0.1,\"y\":[7,7],\"type\":\"scatter3d\",\"hoverinfo\":\"text\"},{\"xaxis\":\"x1\",\"colorbar\":{\"title\":\"\"},\"yaxis\":\"y1\",\"text\":[null,null],\"x\":[4,4],\"showlegend\":true,\"mode\":\"markers\",\"name\":\"y132\",\"zmin\":-0.1,\"legendgroup\":\"y132\",\"z\":[-9,-9],\"marker\":{\"symbol\":\"circle\",\"color\":\"rgba(0, 0, 0, 1.000)\",\"line\":{\"color\":\"rgba(0, 0, 0, 1.000)\",\"width\":1},\"size\":2},\"zmax\":0.1,\"y\":[-11,-11],\"type\":\"scatter3d\",\"hoverinfo\":\"text\"},{\"xaxis\":\"x1\",\"colorbar\":{\"title\":\"\"},\"yaxis\":\"y1\",\"text\":[null,null],\"x\":[-9,-9],\"showlegend\":true,\"mode\":\"markers\",\"name\":\"y133\",\"zmin\":-0.1,\"legendgroup\":\"y133\",\"z\":[-1,-1],\"marker\":{\"symbol\":\"circle\",\"color\":\"rgba(0, 0, 0, 1.000)\",\"line\":{\"color\":\"rgba(0, 0, 0, 1.000)\",\"width\":1},\"size\":2},\"zmax\":0.1,\"y\":[0,0],\"type\":\"scatter3d\",\"hoverinfo\":\"text\"},{\"xaxis\":\"x1\",\"colorbar\":{\"title\":\"\"},\"yaxis\":\"y1\",\"text\":[null,null],\"x\":[15,15],\"showlegend\":true,\"mode\":\"markers\",\"name\":\"y134\",\"zmin\":-0.1,\"legendgroup\":\"y134\",\"z\":[0,0],\"marker\":{\"symbol\":\"circle\",\"color\":\"rgba(0, 0, 0, 1.000)\",\"line\":{\"color\":\"rgba(0, 0, 0, 1.000)\",\"width\":1},\"size\":2},\"zmax\":0.1,\"y\":[-3,-3],\"type\":\"scatter3d\",\"hoverinfo\":\"text\"},{\"xaxis\":\"x1\",\"colorbar\":{\"title\":\"\"},\"yaxis\":\"y1\",\"text\":[null,null],\"x\":[6,6],\"showlegend\":true,\"mode\":\"markers\",\"name\":\"y135\",\"zmin\":-0.1,\"legendgroup\":\"y135\",\"z\":[10,10],\"marker\":{\"symbol\":\"circle\",\"color\":\"rgba(0, 0, 0, 1.000)\",\"line\":{\"color\":\"rgba(0, 0, 0, 1.000)\",\"width\":1},\"size\":2},\"zmax\":0.1,\"y\":[12,12],\"type\":\"scatter3d\",\"hoverinfo\":\"text\"},{\"xaxis\":\"x1\",\"colorbar\":{\"title\":\"\"},\"yaxis\":\"y1\",\"text\":[null,null],\"x\":[2,2],\"showlegend\":true,\"mode\":\"markers\",\"name\":\"y136\",\"zmin\":-0.1,\"legendgroup\":\"y136\",\"z\":[-6,-6],\"marker\":{\"symbol\":\"circle\",\"color\":\"rgba(0, 0, 0, 1.000)\",\"line\":{\"color\":\"rgba(0, 0, 0, 1.000)\",\"width\":1},\"size\":2},\"zmax\":0.1,\"y\":[-4,-4],\"type\":\"scatter3d\",\"hoverinfo\":\"text\"},{\"xaxis\":\"x1\",\"colorbar\":{\"title\":\"\"},\"yaxis\":\"y1\",\"text\":[null,null],\"x\":[2,2],\"showlegend\":true,\"mode\":\"markers\",\"name\":\"y137\",\"zmin\":-0.1,\"legendgroup\":\"y137\",\"z\":[4,4],\"marker\":{\"symbol\":\"circle\",\"color\":\"rgba(0, 0, 0, 1.000)\",\"line\":{\"color\":\"rgba(0, 0, 0, 1.000)\",\"width\":1},\"size\":2},\"zmax\":0.1,\"y\":[-4,-4],\"type\":\"scatter3d\",\"hoverinfo\":\"text\"},{\"xaxis\":\"x1\",\"colorbar\":{\"title\":\"\"},\"yaxis\":\"y1\",\"text\":[null,null],\"x\":[8,8],\"showlegend\":true,\"mode\":\"markers\",\"name\":\"y138\",\"zmin\":-0.1,\"legendgroup\":\"y138\",\"z\":[4,4],\"marker\":{\"symbol\":\"circle\",\"color\":\"rgba(0, 0, 0, 1.000)\",\"line\":{\"color\":\"rgba(0, 0, 0, 1.000)\",\"width\":1},\"size\":2},\"zmax\":0.1,\"y\":[-4,-4],\"type\":\"scatter3d\",\"hoverinfo\":\"text\"},{\"xaxis\":\"x1\",\"colorbar\":{\"title\":\"\"},\"yaxis\":\"y1\",\"text\":[null,null],\"x\":[1,1],\"showlegend\":true,\"mode\":\"markers\",\"name\":\"y139\",\"zmin\":-0.1,\"legendgroup\":\"y139\",\"z\":[-1,-1],\"marker\":{\"symbol\":\"circle\",\"color\":\"rgba(0, 0, 0, 1.000)\",\"line\":{\"color\":\"rgba(0, 0, 0, 1.000)\",\"width\":1},\"size\":2},\"zmax\":0.1,\"y\":[-8,-8],\"type\":\"scatter3d\",\"hoverinfo\":\"text\"},{\"xaxis\":\"x1\",\"colorbar\":{\"title\":\"\"},\"yaxis\":\"y1\",\"text\":[null,null],\"x\":[2,2],\"showlegend\":true,\"mode\":\"markers\",\"name\":\"y140\",\"zmin\":-0.1,\"legendgroup\":\"y140\",\"z\":[-1,-1],\"marker\":{\"symbol\":\"circle\",\"color\":\"rgba(0, 0, 0, 1.000)\",\"line\":{\"color\":\"rgba(0, 0, 0, 1.000)\",\"width\":1},\"size\":2},\"zmax\":0.1,\"y\":[-7,-7],\"type\":\"scatter3d\",\"hoverinfo\":\"text\"},{\"xaxis\":\"x1\",\"colorbar\":{\"title\":\"\"},\"yaxis\":\"y1\",\"text\":[null,null],\"x\":[-1,-1],\"showlegend\":true,\"mode\":\"markers\",\"name\":\"y141\",\"zmin\":-0.1,\"legendgroup\":\"y141\",\"z\":[-5,-5],\"marker\":{\"symbol\":\"circle\",\"color\":\"rgba(0, 0, 0, 1.000)\",\"line\":{\"color\":\"rgba(0, 0, 0, 1.000)\",\"width\":1},\"size\":2},\"zmax\":0.1,\"y\":[-10,-10],\"type\":\"scatter3d\",\"hoverinfo\":\"text\"},{\"xaxis\":\"x1\",\"colorbar\":{\"title\":\"\"},\"yaxis\":\"y1\",\"text\":[null,null],\"x\":[0,0],\"showlegend\":true,\"mode\":\"markers\",\"name\":\"y142\",\"zmin\":-0.1,\"legendgroup\":\"y142\",\"z\":[10,10],\"marker\":{\"symbol\":\"circle\",\"color\":\"rgba(0, 0, 0, 1.000)\",\"line\":{\"color\":\"rgba(0, 0, 0, 1.000)\",\"width\":1},\"size\":2},\"zmax\":0.1,\"y\":[6,6],\"type\":\"scatter3d\",\"hoverinfo\":\"text\"},{\"xaxis\":\"x1\",\"colorbar\":{\"title\":\"\"},\"yaxis\":\"y1\",\"text\":[null,null],\"x\":[-10,-10],\"showlegend\":true,\"mode\":\"markers\",\"name\":\"y143\",\"zmin\":-0.1,\"legendgroup\":\"y143\",\"z\":[10,10],\"marker\":{\"symbol\":\"circle\",\"color\":\"rgba(0, 0, 0, 1.000)\",\"line\":{\"color\":\"rgba(0, 0, 0, 1.000)\",\"width\":1},\"size\":2},\"zmax\":0.1,\"y\":[14,14],\"type\":\"scatter3d\",\"hoverinfo\":\"text\"},{\"xaxis\":\"x1\",\"colorbar\":{\"title\":\"\"},\"yaxis\":\"y1\",\"text\":[null,null],\"x\":[-15,-15],\"showlegend\":true,\"mode\":\"markers\",\"name\":\"y144\",\"zmin\":-0.1,\"legendgroup\":\"y144\",\"z\":[5,5],\"marker\":{\"symbol\":\"circle\",\"color\":\"rgba(0, 0, 0, 1.000)\",\"line\":{\"color\":\"rgba(0, 0, 0, 1.000)\",\"width\":1},\"size\":2},\"zmax\":0.1,\"y\":[6,6],\"type\":\"scatter3d\",\"hoverinfo\":\"text\"},{\"xaxis\":\"x1\",\"colorbar\":{\"title\":\"\"},\"yaxis\":\"y1\",\"text\":[null,null],\"x\":[-2,-2],\"showlegend\":true,\"mode\":\"markers\",\"name\":\"y145\",\"zmin\":-0.1,\"legendgroup\":\"y145\",\"z\":[9,9],\"marker\":{\"symbol\":\"circle\",\"color\":\"rgba(0, 0, 0, 1.000)\",\"line\":{\"color\":\"rgba(0, 0, 0, 1.000)\",\"width\":1},\"size\":2},\"zmax\":0.1,\"y\":[7,7],\"type\":\"scatter3d\",\"hoverinfo\":\"text\"},{\"xaxis\":\"x1\",\"colorbar\":{\"title\":\"\"},\"yaxis\":\"y1\",\"text\":[null,null],\"x\":[-2,-2],\"showlegend\":true,\"mode\":\"markers\",\"name\":\"y146\",\"zmin\":-0.1,\"legendgroup\":\"y146\",\"z\":[-4,-4],\"marker\":{\"symbol\":\"circle\",\"color\":\"rgba(0, 0, 0, 1.000)\",\"line\":{\"color\":\"rgba(0, 0, 0, 1.000)\",\"width\":1},\"size\":2},\"zmax\":0.1,\"y\":[-2,-2],\"type\":\"scatter3d\",\"hoverinfo\":\"text\"},{\"xaxis\":\"x1\",\"colorbar\":{\"title\":\"\"},\"yaxis\":\"y1\",\"text\":[null,null],\"x\":[-2,-2],\"showlegend\":true,\"mode\":\"markers\",\"name\":\"y147\",\"zmin\":-0.1,\"legendgroup\":\"y147\",\"z\":[9,9],\"marker\":{\"symbol\":\"circle\",\"color\":\"rgba(0, 0, 0, 1.000)\",\"line\":{\"color\":\"rgba(0, 0, 0, 1.000)\",\"width\":1},\"size\":2},\"zmax\":0.1,\"y\":[13,13],\"type\":\"scatter3d\",\"hoverinfo\":\"text\"},{\"xaxis\":\"x1\",\"colorbar\":{\"title\":\"\"},\"yaxis\":\"y1\",\"text\":[null,null],\"x\":[12,12],\"showlegend\":true,\"mode\":\"markers\",\"name\":\"y148\",\"zmin\":-0.1,\"legendgroup\":\"y148\",\"z\":[-7,-7],\"marker\":{\"symbol\":\"circle\",\"color\":\"rgba(0, 0, 0, 1.000)\",\"line\":{\"color\":\"rgba(0, 0, 0, 1.000)\",\"width\":1},\"size\":2},\"zmax\":0.1,\"y\":[-9,-9],\"type\":\"scatter3d\",\"hoverinfo\":\"text\"},{\"xaxis\":\"x1\",\"colorbar\":{\"title\":\"\"},\"yaxis\":\"y1\",\"text\":[null,null],\"x\":[1,1],\"showlegend\":true,\"mode\":\"markers\",\"name\":\"y149\",\"zmin\":-0.1,\"legendgroup\":\"y149\",\"z\":[2,2],\"marker\":{\"symbol\":\"circle\",\"color\":\"rgba(0, 0, 0, 1.000)\",\"line\":{\"color\":\"rgba(0, 0, 0, 1.000)\",\"width\":1},\"size\":2},\"zmax\":0.1,\"y\":[-5,-5],\"type\":\"scatter3d\",\"hoverinfo\":\"text\"},{\"xaxis\":\"x1\",\"colorbar\":{\"title\":\"\"},\"yaxis\":\"y1\",\"text\":[null,null],\"x\":[1,1],\"showlegend\":true,\"mode\":\"markers\",\"name\":\"y150\",\"zmin\":-0.1,\"legendgroup\":\"y150\",\"z\":[2,2],\"marker\":{\"symbol\":\"circle\",\"color\":\"rgba(0, 0, 0, 1.000)\",\"line\":{\"color\":\"rgba(0, 0, 0, 1.000)\",\"width\":1},\"size\":2},\"zmax\":0.1,\"y\":[-5,-5],\"type\":\"scatter3d\",\"hoverinfo\":\"text\"},{\"xaxis\":\"x1\",\"colorbar\":{\"title\":\"\"},\"yaxis\":\"y1\",\"text\":[null,null],\"x\":[6,6],\"showlegend\":true,\"mode\":\"markers\",\"name\":\"y151\",\"zmin\":-0.1,\"legendgroup\":\"y151\",\"z\":[2,2],\"marker\":{\"symbol\":\"circle\",\"color\":\"rgba(0, 0, 0, 1.000)\",\"line\":{\"color\":\"rgba(0, 0, 0, 1.000)\",\"width\":1},\"size\":2},\"zmax\":0.1,\"y\":[0,0],\"type\":\"scatter3d\",\"hoverinfo\":\"text\"},{\"xaxis\":\"x1\",\"colorbar\":{\"title\":\"\"},\"yaxis\":\"y1\",\"text\":[null,null],\"x\":[8,8],\"showlegend\":true,\"mode\":\"markers\",\"name\":\"y152\",\"zmin\":-0.1,\"legendgroup\":\"y152\",\"z\":[2,2],\"marker\":{\"symbol\":\"circle\",\"color\":\"rgba(0, 0, 0, 1.000)\",\"line\":{\"color\":\"rgba(0, 0, 0, 1.000)\",\"width\":1},\"size\":2},\"zmax\":0.1,\"y\":[2,2],\"type\":\"scatter3d\",\"hoverinfo\":\"text\"},{\"xaxis\":\"x1\",\"colorbar\":{\"title\":\"\"},\"yaxis\":\"y1\",\"text\":[null,null],\"x\":[-3,-3],\"showlegend\":true,\"mode\":\"markers\",\"name\":\"y153\",\"zmin\":-0.1,\"legendgroup\":\"y153\",\"z\":[-3,-3],\"marker\":{\"symbol\":\"circle\",\"color\":\"rgba(0, 0, 0, 1.000)\",\"line\":{\"color\":\"rgba(0, 0, 0, 1.000)\",\"width\":1},\"size\":2},\"zmax\":0.1,\"y\":[0,0],\"type\":\"scatter3d\",\"hoverinfo\":\"text\"},{\"xaxis\":\"x1\",\"colorbar\":{\"title\":\"\"},\"yaxis\":\"y1\",\"text\":[null,null],\"x\":[8,8],\"showlegend\":true,\"mode\":\"markers\",\"name\":\"y154\",\"zmin\":-0.1,\"legendgroup\":\"y154\",\"z\":[3,3],\"marker\":{\"symbol\":\"circle\",\"color\":\"rgba(0, 0, 0, 1.000)\",\"line\":{\"color\":\"rgba(0, 0, 0, 1.000)\",\"width\":1},\"size\":2},\"zmax\":0.1,\"y\":[5,5],\"type\":\"scatter3d\",\"hoverinfo\":\"text\"},{\"xaxis\":\"x1\",\"colorbar\":{\"title\":\"\"},\"yaxis\":\"y1\",\"text\":[null,null],\"x\":[1,1],\"showlegend\":true,\"mode\":\"markers\",\"name\":\"y155\",\"zmin\":-0.1,\"legendgroup\":\"y155\",\"z\":[-8,-8],\"marker\":{\"symbol\":\"circle\",\"color\":\"rgba(0, 0, 0, 1.000)\",\"line\":{\"color\":\"rgba(0, 0, 0, 1.000)\",\"width\":1},\"size\":2},\"zmax\":0.1,\"y\":[-11,-11],\"type\":\"scatter3d\",\"hoverinfo\":\"text\"},{\"xaxis\":\"x1\",\"colorbar\":{\"title\":\"\"},\"yaxis\":\"y1\",\"text\":[null,null],\"x\":[4,4],\"showlegend\":true,\"mode\":\"markers\",\"name\":\"y156\",\"zmin\":-0.1,\"legendgroup\":\"y156\",\"z\":[0,0],\"marker\":{\"symbol\":\"circle\",\"color\":\"rgba(0, 0, 0, 1.000)\",\"line\":{\"color\":\"rgba(0, 0, 0, 1.000)\",\"width\":1},\"size\":2},\"zmax\":0.1,\"y\":[-8,-8],\"type\":\"scatter3d\",\"hoverinfo\":\"text\"},{\"xaxis\":\"x1\",\"colorbar\":{\"title\":\"\"},\"yaxis\":\"y1\",\"text\":[null,null],\"x\":[-5,-5],\"showlegend\":true,\"mode\":\"markers\",\"name\":\"y157\",\"zmin\":-0.1,\"legendgroup\":\"y157\",\"z\":[-2,-2],\"marker\":{\"symbol\":\"circle\",\"color\":\"rgba(0, 0, 0, 1.000)\",\"line\":{\"color\":\"rgba(0, 0, 0, 1.000)\",\"width\":1},\"size\":2},\"zmax\":0.1,\"y\":[7,7],\"type\":\"scatter3d\",\"hoverinfo\":\"text\"},{\"xaxis\":\"x1\",\"colorbar\":{\"title\":\"\"},\"yaxis\":\"y1\",\"text\":[null,null],\"x\":[-11,-11],\"showlegend\":true,\"mode\":\"markers\",\"name\":\"y158\",\"zmin\":-0.1,\"legendgroup\":\"y158\",\"z\":[-2,-2],\"marker\":{\"symbol\":\"circle\",\"color\":\"rgba(0, 0, 0, 1.000)\",\"line\":{\"color\":\"rgba(0, 0, 0, 1.000)\",\"width\":1},\"size\":2},\"zmax\":0.1,\"y\":[1,1],\"type\":\"scatter3d\",\"hoverinfo\":\"text\"},{\"xaxis\":\"x1\",\"colorbar\":{\"title\":\"\"},\"yaxis\":\"y1\",\"text\":[null,null],\"x\":[6,6],\"showlegend\":true,\"mode\":\"markers\",\"name\":\"y159\",\"zmin\":-0.1,\"legendgroup\":\"y159\",\"z\":[-2,-2],\"marker\":{\"symbol\":\"circle\",\"color\":\"rgba(0, 0, 0, 1.000)\",\"line\":{\"color\":\"rgba(0, 0, 0, 1.000)\",\"width\":1},\"size\":2},\"zmax\":0.1,\"y\":[-6,-6],\"type\":\"scatter3d\",\"hoverinfo\":\"text\"},{\"xaxis\":\"x1\",\"colorbar\":{\"title\":\"\"},\"yaxis\":\"y1\",\"text\":[null,null],\"x\":[-6,-6],\"showlegend\":true,\"mode\":\"markers\",\"name\":\"y160\",\"zmin\":-0.1,\"legendgroup\":\"y160\",\"z\":[-7,-7],\"marker\":{\"symbol\":\"circle\",\"color\":\"rgba(0, 0, 0, 1.000)\",\"line\":{\"color\":\"rgba(0, 0, 0, 1.000)\",\"width\":1},\"size\":2},\"zmax\":0.1,\"y\":[-3,-3],\"type\":\"scatter3d\",\"hoverinfo\":\"text\"},{\"xaxis\":\"x1\",\"colorbar\":{\"title\":\"\"},\"yaxis\":\"y1\",\"text\":[null,null],\"x\":[1,1],\"showlegend\":true,\"mode\":\"markers\",\"name\":\"y161\",\"zmin\":-0.1,\"legendgroup\":\"y161\",\"z\":[-6,-6],\"marker\":{\"symbol\":\"circle\",\"color\":\"rgba(0, 0, 0, 1.000)\",\"line\":{\"color\":\"rgba(0, 0, 0, 1.000)\",\"width\":1},\"size\":2},\"zmax\":0.1,\"y\":[-5,-5],\"type\":\"scatter3d\",\"hoverinfo\":\"text\"},{\"xaxis\":\"x1\",\"colorbar\":{\"title\":\"\"},\"yaxis\":\"y1\",\"text\":[null,null],\"x\":[8,8],\"showlegend\":true,\"mode\":\"markers\",\"name\":\"y162\",\"zmin\":-0.1,\"legendgroup\":\"y162\",\"z\":[-4,-4],\"marker\":{\"symbol\":\"circle\",\"color\":\"rgba(0, 0, 0, 1.000)\",\"line\":{\"color\":\"rgba(0, 0, 0, 1.000)\",\"width\":1},\"size\":2},\"zmax\":0.1,\"y\":[-4,-4],\"type\":\"scatter3d\",\"hoverinfo\":\"text\"},{\"xaxis\":\"x1\",\"colorbar\":{\"title\":\"\"},\"yaxis\":\"y1\",\"text\":[null,null],\"x\":[10,10],\"showlegend\":true,\"mode\":\"markers\",\"name\":\"y163\",\"zmin\":-0.1,\"legendgroup\":\"y163\",\"z\":[-6,-6],\"marker\":{\"symbol\":\"circle\",\"color\":\"rgba(0, 0, 0, 1.000)\",\"line\":{\"color\":\"rgba(0, 0, 0, 1.000)\",\"width\":1},\"size\":2},\"zmax\":0.1,\"y\":[-8,-8],\"type\":\"scatter3d\",\"hoverinfo\":\"text\"},{\"xaxis\":\"x1\",\"colorbar\":{\"title\":\"\"},\"yaxis\":\"y1\",\"text\":[null,null],\"x\":[-12,-12],\"showlegend\":true,\"mode\":\"markers\",\"name\":\"y164\",\"zmin\":-0.1,\"legendgroup\":\"y164\",\"z\":[8,8],\"marker\":{\"symbol\":\"circle\",\"color\":\"rgba(0, 0, 0, 1.000)\",\"line\":{\"color\":\"rgba(0, 0, 0, 1.000)\",\"width\":1},\"size\":2},\"zmax\":0.1,\"y\":[12,12],\"type\":\"scatter3d\",\"hoverinfo\":\"text\"},{\"xaxis\":\"x1\",\"colorbar\":{\"title\":\"\"},\"yaxis\":\"y1\",\"text\":[null,null],\"x\":[-7,-7],\"showlegend\":true,\"mode\":\"markers\",\"name\":\"y165\",\"zmin\":-0.1,\"legendgroup\":\"y165\",\"z\":[-7,-7],\"marker\":{\"symbol\":\"circle\",\"color\":\"rgba(0, 0, 0, 1.000)\",\"line\":{\"color\":\"rgba(0, 0, 0, 1.000)\",\"width\":1},\"size\":2},\"zmax\":0.1,\"y\":[-10,-10],\"type\":\"scatter3d\",\"hoverinfo\":\"text\"},{\"xaxis\":\"x1\",\"colorbar\":{\"title\":\"\"},\"yaxis\":\"y1\",\"text\":[null,null],\"x\":[8,8],\"showlegend\":true,\"mode\":\"markers\",\"name\":\"y166\",\"zmin\":-0.1,\"legendgroup\":\"y166\",\"z\":[-2,-2],\"marker\":{\"symbol\":\"circle\",\"color\":\"rgba(0, 0, 0, 1.000)\",\"line\":{\"color\":\"rgba(0, 0, 0, 1.000)\",\"width\":1},\"size\":2},\"zmax\":0.1,\"y\":[2,2],\"type\":\"scatter3d\",\"hoverinfo\":\"text\"},{\"xaxis\":\"x1\",\"colorbar\":{\"title\":\"\"},\"yaxis\":\"y1\",\"text\":[null,null],\"x\":[1,1],\"showlegend\":true,\"mode\":\"markers\",\"name\":\"y167\",\"zmin\":-0.1,\"legendgroup\":\"y167\",\"z\":[11,11],\"marker\":{\"symbol\":\"circle\",\"color\":\"rgba(0, 0, 0, 1.000)\",\"line\":{\"color\":\"rgba(0, 0, 0, 1.000)\",\"width\":1},\"size\":2},\"zmax\":0.1,\"y\":[10,10],\"type\":\"scatter3d\",\"hoverinfo\":\"text\"},{\"xaxis\":\"x1\",\"colorbar\":{\"title\":\"\"},\"yaxis\":\"y1\",\"text\":[null,null],\"x\":[6,6],\"showlegend\":true,\"mode\":\"markers\",\"name\":\"y168\",\"zmin\":-0.1,\"legendgroup\":\"y168\",\"z\":[-8,-8],\"marker\":{\"symbol\":\"circle\",\"color\":\"rgba(0, 0, 0, 1.000)\",\"line\":{\"color\":\"rgba(0, 0, 0, 1.000)\",\"width\":1},\"size\":2},\"zmax\":0.1,\"y\":[-12,-12],\"type\":\"scatter3d\",\"hoverinfo\":\"text\"},{\"xaxis\":\"x1\",\"colorbar\":{\"title\":\"\"},\"yaxis\":\"y1\",\"text\":[null,null],\"x\":[-6,-6],\"showlegend\":true,\"mode\":\"markers\",\"name\":\"y169\",\"zmin\":-0.1,\"legendgroup\":\"y169\",\"z\":[-7,-7],\"marker\":{\"symbol\":\"circle\",\"color\":\"rgba(0, 0, 0, 1.000)\",\"line\":{\"color\":\"rgba(0, 0, 0, 1.000)\",\"width\":1},\"size\":2},\"zmax\":0.1,\"y\":[-3,-3],\"type\":\"scatter3d\",\"hoverinfo\":\"text\"},{\"xaxis\":\"x1\",\"colorbar\":{\"title\":\"\"},\"yaxis\":\"y1\",\"text\":[null,null],\"x\":[-5,-5],\"showlegend\":true,\"mode\":\"markers\",\"name\":\"y170\",\"zmin\":-0.1,\"legendgroup\":\"y170\",\"z\":[-4,-4],\"marker\":{\"symbol\":\"circle\",\"color\":\"rgba(0, 0, 0, 1.000)\",\"line\":{\"color\":\"rgba(0, 0, 0, 1.000)\",\"width\":1},\"size\":2},\"zmax\":0.1,\"y\":[-5,-5],\"type\":\"scatter3d\",\"hoverinfo\":\"text\"},{\"xaxis\":\"x1\",\"colorbar\":{\"title\":\"\"},\"yaxis\":\"y1\",\"text\":[null,null],\"x\":[-8,-8],\"showlegend\":true,\"mode\":\"markers\",\"name\":\"y171\",\"zmin\":-0.1,\"legendgroup\":\"y171\",\"z\":[-5,-5],\"marker\":{\"symbol\":\"circle\",\"color\":\"rgba(0, 0, 0, 1.000)\",\"line\":{\"color\":\"rgba(0, 0, 0, 1.000)\",\"width\":1},\"size\":2},\"zmax\":0.1,\"y\":[-5,-5],\"type\":\"scatter3d\",\"hoverinfo\":\"text\"},{\"xaxis\":\"x1\",\"colorbar\":{\"title\":\"\"},\"yaxis\":\"y1\",\"text\":[null,null],\"x\":[2,2],\"showlegend\":true,\"mode\":\"markers\",\"name\":\"y172\",\"zmin\":-0.1,\"legendgroup\":\"y172\",\"z\":[-5,-5],\"marker\":{\"symbol\":\"circle\",\"color\":\"rgba(0, 0, 0, 1.000)\",\"line\":{\"color\":\"rgba(0, 0, 0, 1.000)\",\"width\":1},\"size\":2},\"zmax\":0.1,\"y\":[-1,-1],\"type\":\"scatter3d\",\"hoverinfo\":\"text\"},{\"xaxis\":\"x1\",\"colorbar\":{\"title\":\"\"},\"yaxis\":\"y1\",\"text\":[null,null],\"x\":[0,0],\"showlegend\":true,\"mode\":\"markers\",\"name\":\"y173\",\"zmin\":-0.1,\"legendgroup\":\"y173\",\"z\":[-5,-5],\"marker\":{\"symbol\":\"circle\",\"color\":\"rgba(0, 0, 0, 1.000)\",\"line\":{\"color\":\"rgba(0, 0, 0, 1.000)\",\"width\":1},\"size\":2},\"zmax\":0.1,\"y\":[-3,-3],\"type\":\"scatter3d\",\"hoverinfo\":\"text\"},{\"xaxis\":\"x1\",\"colorbar\":{\"title\":\"\"},\"yaxis\":\"y1\",\"text\":[null,null],\"x\":[12,12],\"showlegend\":true,\"mode\":\"markers\",\"name\":\"y174\",\"zmin\":-0.1,\"legendgroup\":\"y174\",\"z\":[4,4],\"marker\":{\"symbol\":\"circle\",\"color\":\"rgba(0, 0, 0, 1.000)\",\"line\":{\"color\":\"rgba(0, 0, 0, 1.000)\",\"width\":1},\"size\":2},\"zmax\":0.1,\"y\":[6,6],\"type\":\"scatter3d\",\"hoverinfo\":\"text\"},{\"xaxis\":\"x1\",\"colorbar\":{\"title\":\"\"},\"yaxis\":\"y1\",\"text\":[null,null],\"x\":[10,10],\"showlegend\":true,\"mode\":\"markers\",\"name\":\"y175\",\"zmin\":-0.1,\"legendgroup\":\"y175\",\"z\":[1,1],\"marker\":{\"symbol\":\"circle\",\"color\":\"rgba(0, 0, 0, 1.000)\",\"line\":{\"color\":\"rgba(0, 0, 0, 1.000)\",\"width\":1},\"size\":2},\"zmax\":0.1,\"y\":[-5,-5],\"type\":\"scatter3d\",\"hoverinfo\":\"text\"},{\"xaxis\":\"x1\",\"colorbar\":{\"title\":\"\"},\"yaxis\":\"y1\",\"text\":[null,null],\"x\":[-11,-11],\"showlegend\":true,\"mode\":\"markers\",\"name\":\"y176\",\"zmin\":-0.1,\"legendgroup\":\"y176\",\"z\":[-5,-5],\"marker\":{\"symbol\":\"circle\",\"color\":\"rgba(0, 0, 0, 1.000)\",\"line\":{\"color\":\"rgba(0, 0, 0, 1.000)\",\"width\":1},\"size\":2},\"zmax\":0.1,\"y\":[-8,-8],\"type\":\"scatter3d\",\"hoverinfo\":\"text\"},{\"xaxis\":\"x1\",\"colorbar\":{\"title\":\"\"},\"yaxis\":\"y1\",\"text\":[null,null],\"x\":[1,1],\"showlegend\":true,\"mode\":\"markers\",\"name\":\"y177\",\"zmin\":-0.1,\"legendgroup\":\"y177\",\"z\":[4,4],\"marker\":{\"symbol\":\"circle\",\"color\":\"rgba(0, 0, 0, 1.000)\",\"line\":{\"color\":\"rgba(0, 0, 0, 1.000)\",\"width\":1},\"size\":2},\"zmax\":0.1,\"y\":[7,7],\"type\":\"scatter3d\",\"hoverinfo\":\"text\"},{\"xaxis\":\"x1\",\"colorbar\":{\"title\":\"\"},\"yaxis\":\"y1\",\"text\":[null,null],\"x\":[-9,-9],\"showlegend\":true,\"mode\":\"markers\",\"name\":\"y178\",\"zmin\":-0.1,\"legendgroup\":\"y178\",\"z\":[10,10],\"marker\":{\"symbol\":\"circle\",\"color\":\"rgba(0, 0, 0, 1.000)\",\"line\":{\"color\":\"rgba(0, 0, 0, 1.000)\",\"width\":1},\"size\":2},\"zmax\":0.1,\"y\":[15,15],\"type\":\"scatter3d\",\"hoverinfo\":\"text\"},{\"xaxis\":\"x1\",\"colorbar\":{\"title\":\"\"},\"yaxis\":\"y1\",\"text\":[null,null],\"x\":[-14,-14],\"showlegend\":true,\"mode\":\"markers\",\"name\":\"y179\",\"zmin\":-0.1,\"legendgroup\":\"y179\",\"z\":[-1,-1],\"marker\":{\"symbol\":\"circle\",\"color\":\"rgba(0, 0, 0, 1.000)\",\"line\":{\"color\":\"rgba(0, 0, 0, 1.000)\",\"width\":1},\"size\":2},\"zmax\":0.1,\"y\":[1,1],\"type\":\"scatter3d\",\"hoverinfo\":\"text\"},{\"xaxis\":\"x1\",\"colorbar\":{\"title\":\"\"},\"yaxis\":\"y1\",\"text\":[null,null],\"x\":[-15,-15],\"showlegend\":true,\"mode\":\"markers\",\"name\":\"y180\",\"zmin\":-0.1,\"legendgroup\":\"y180\",\"z\":[1,1],\"marker\":{\"symbol\":\"circle\",\"color\":\"rgba(0, 0, 0, 1.000)\",\"line\":{\"color\":\"rgba(0, 0, 0, 1.000)\",\"width\":1},\"size\":2},\"zmax\":0.1,\"y\":[0,0],\"type\":\"scatter3d\",\"hoverinfo\":\"text\"},{\"xaxis\":\"x1\",\"colorbar\":{\"title\":\"\"},\"yaxis\":\"y1\",\"text\":[null,null],\"x\":[-13,-13],\"showlegend\":true,\"mode\":\"markers\",\"name\":\"y181\",\"zmin\":-0.1,\"legendgroup\":\"y181\",\"z\":[4,4],\"marker\":{\"symbol\":\"circle\",\"color\":\"rgba(0, 0, 0, 1.000)\",\"line\":{\"color\":\"rgba(0, 0, 0, 1.000)\",\"width\":1},\"size\":2},\"zmax\":0.1,\"y\":[11,11],\"type\":\"scatter3d\",\"hoverinfo\":\"text\"},{\"xaxis\":\"x1\",\"colorbar\":{\"title\":\"\"},\"yaxis\":\"y1\",\"text\":[null,null],\"x\":[-1,-1],\"showlegend\":true,\"mode\":\"markers\",\"name\":\"y182\",\"zmin\":-0.1,\"legendgroup\":\"y182\",\"z\":[-4,-4],\"marker\":{\"symbol\":\"circle\",\"color\":\"rgba(0, 0, 0, 1.000)\",\"line\":{\"color\":\"rgba(0, 0, 0, 1.000)\",\"width\":1},\"size\":2},\"zmax\":0.1,\"y\":[-7,-7],\"type\":\"scatter3d\",\"hoverinfo\":\"text\"},{\"xaxis\":\"x1\",\"colorbar\":{\"title\":\"\"},\"yaxis\":\"y1\",\"text\":[null,null],\"x\":[3,3],\"showlegend\":true,\"mode\":\"markers\",\"name\":\"y183\",\"zmin\":-0.1,\"legendgroup\":\"y183\",\"z\":[3,3],\"marker\":{\"symbol\":\"circle\",\"color\":\"rgba(0, 0, 0, 1.000)\",\"line\":{\"color\":\"rgba(0, 0, 0, 1.000)\",\"width\":1},\"size\":2},\"zmax\":0.1,\"y\":[0,0],\"type\":\"scatter3d\",\"hoverinfo\":\"text\"},{\"xaxis\":\"x1\",\"colorbar\":{\"title\":\"\"},\"yaxis\":\"y1\",\"text\":[null,null],\"x\":[-6,-6],\"showlegend\":true,\"mode\":\"markers\",\"name\":\"y184\",\"zmin\":-0.1,\"legendgroup\":\"y184\",\"z\":[-6,-6],\"marker\":{\"symbol\":\"circle\",\"color\":\"rgba(0, 0, 0, 1.000)\",\"line\":{\"color\":\"rgba(0, 0, 0, 1.000)\",\"width\":1},\"size\":2},\"zmax\":0.1,\"y\":[-6,-6],\"type\":\"scatter3d\",\"hoverinfo\":\"text\"},{\"xaxis\":\"x1\",\"colorbar\":{\"title\":\"\"},\"yaxis\":\"y1\",\"text\":[null,null],\"x\":[15,15],\"showlegend\":true,\"mode\":\"markers\",\"name\":\"y185\",\"zmin\":-0.1,\"legendgroup\":\"y185\",\"z\":[-2,-2],\"marker\":{\"symbol\":\"circle\",\"color\":\"rgba(0, 0, 0, 1.000)\",\"line\":{\"color\":\"rgba(0, 0, 0, 1.000)\",\"width\":1},\"size\":2},\"zmax\":0.1,\"y\":[-3,-3],\"type\":\"scatter3d\",\"hoverinfo\":\"text\"},{\"xaxis\":\"x1\",\"colorbar\":{\"title\":\"\"},\"yaxis\":\"y1\",\"text\":[null,null],\"x\":[-9,-9],\"showlegend\":true,\"mode\":\"markers\",\"name\":\"y186\",\"zmin\":-0.1,\"legendgroup\":\"y186\",\"z\":[-2,-2],\"marker\":{\"symbol\":\"circle\",\"color\":\"rgba(0, 0, 0, 1.000)\",\"line\":{\"color\":\"rgba(0, 0, 0, 1.000)\",\"width\":1},\"size\":2},\"zmax\":0.1,\"y\":[-3,-3],\"type\":\"scatter3d\",\"hoverinfo\":\"text\"},{\"xaxis\":\"x1\",\"colorbar\":{\"title\":\"\"},\"yaxis\":\"y1\",\"text\":[null,null],\"x\":[-9,-9],\"showlegend\":true,\"mode\":\"markers\",\"name\":\"y187\",\"zmin\":-0.1,\"legendgroup\":\"y187\",\"z\":[0,0],\"marker\":{\"symbol\":\"circle\",\"color\":\"rgba(0, 0, 0, 1.000)\",\"line\":{\"color\":\"rgba(0, 0, 0, 1.000)\",\"width\":1},\"size\":2},\"zmax\":0.1,\"y\":[-3,-3],\"type\":\"scatter3d\",\"hoverinfo\":\"text\"},{\"xaxis\":\"x1\",\"colorbar\":{\"title\":\"\"},\"yaxis\":\"y1\",\"text\":[null,null],\"x\":[5,5],\"showlegend\":true,\"mode\":\"markers\",\"name\":\"y188\",\"zmin\":-0.1,\"legendgroup\":\"y188\",\"z\":[5,5],\"marker\":{\"symbol\":\"circle\",\"color\":\"rgba(0, 0, 0, 1.000)\",\"line\":{\"color\":\"rgba(0, 0, 0, 1.000)\",\"width\":1},\"size\":2},\"zmax\":0.1,\"y\":[2,2],\"type\":\"scatter3d\",\"hoverinfo\":\"text\"},{\"xaxis\":\"x1\",\"colorbar\":{\"title\":\"\"},\"yaxis\":\"y1\",\"text\":[null,null],\"x\":[6,6],\"showlegend\":true,\"mode\":\"markers\",\"name\":\"y189\",\"zmin\":-0.1,\"legendgroup\":\"y189\",\"z\":[-11,-11],\"marker\":{\"symbol\":\"circle\",\"color\":\"rgba(0, 0, 0, 1.000)\",\"line\":{\"color\":\"rgba(0, 0, 0, 1.000)\",\"width\":1},\"size\":2},\"zmax\":0.1,\"y\":[-15,-15],\"type\":\"scatter3d\",\"hoverinfo\":\"text\"},{\"xaxis\":\"x1\",\"colorbar\":{\"title\":\"\"},\"yaxis\":\"y1\",\"text\":[null,null],\"x\":[1,1],\"showlegend\":true,\"mode\":\"markers\",\"name\":\"y190\",\"zmin\":-0.1,\"legendgroup\":\"y190\",\"z\":[-5,-5],\"marker\":{\"symbol\":\"circle\",\"color\":\"rgba(0, 0, 0, 1.000)\",\"line\":{\"color\":\"rgba(0, 0, 0, 1.000)\",\"width\":1},\"size\":2},\"zmax\":0.1,\"y\":[-2,-2],\"type\":\"scatter3d\",\"hoverinfo\":\"text\"},{\"xaxis\":\"x1\",\"colorbar\":{\"title\":\"\"},\"yaxis\":\"y1\",\"text\":[null,null],\"x\":[-14,-14],\"showlegend\":true,\"mode\":\"markers\",\"name\":\"y191\",\"zmin\":-0.1,\"legendgroup\":\"y191\",\"z\":[9,9],\"marker\":{\"symbol\":\"circle\",\"color\":\"rgba(0, 0, 0, 1.000)\",\"line\":{\"color\":\"rgba(0, 0, 0, 1.000)\",\"width\":1},\"size\":2},\"zmax\":0.1,\"y\":[13,13],\"type\":\"scatter3d\",\"hoverinfo\":\"text\"},{\"xaxis\":\"x1\",\"colorbar\":{\"title\":\"\"},\"yaxis\":\"y1\",\"text\":[null,null],\"x\":[3,3],\"showlegend\":true,\"mode\":\"markers\",\"name\":\"y192\",\"zmin\":-0.1,\"legendgroup\":\"y192\",\"z\":[5,5],\"marker\":{\"symbol\":\"circle\",\"color\":\"rgba(0, 0, 0, 1.000)\",\"line\":{\"color\":\"rgba(0, 0, 0, 1.000)\",\"width\":1},\"size\":2},\"zmax\":0.1,\"y\":[0,0],\"type\":\"scatter3d\",\"hoverinfo\":\"text\"},{\"xaxis\":\"x1\",\"colorbar\":{\"title\":\"\"},\"yaxis\":\"y1\",\"text\":[null,null],\"x\":[-1,-1],\"showlegend\":true,\"mode\":\"markers\",\"name\":\"y193\",\"zmin\":-0.1,\"legendgroup\":\"y193\",\"z\":[-7,-7],\"marker\":{\"symbol\":\"circle\",\"color\":\"rgba(0, 0, 0, 1.000)\",\"line\":{\"color\":\"rgba(0, 0, 0, 1.000)\",\"width\":1},\"size\":2},\"zmax\":0.1,\"y\":[-4,-4],\"type\":\"scatter3d\",\"hoverinfo\":\"text\"},{\"xaxis\":\"x1\",\"colorbar\":{\"title\":\"\"},\"yaxis\":\"y1\",\"text\":[null,null],\"x\":[4,4],\"showlegend\":true,\"mode\":\"markers\",\"name\":\"y194\",\"zmin\":-0.1,\"legendgroup\":\"y194\",\"z\":[5,5],\"marker\":{\"symbol\":\"circle\",\"color\":\"rgba(0, 0, 0, 1.000)\",\"line\":{\"color\":\"rgba(0, 0, 0, 1.000)\",\"width\":1},\"size\":2},\"zmax\":0.1,\"y\":[7,7],\"type\":\"scatter3d\",\"hoverinfo\":\"text\"},{\"xaxis\":\"x1\",\"colorbar\":{\"title\":\"\"},\"yaxis\":\"y1\",\"text\":[null,null],\"x\":[5,5],\"showlegend\":true,\"mode\":\"markers\",\"name\":\"y195\",\"zmin\":-0.1,\"legendgroup\":\"y195\",\"z\":[2,2],\"marker\":{\"symbol\":\"circle\",\"color\":\"rgba(0, 0, 0, 1.000)\",\"line\":{\"color\":\"rgba(0, 0, 0, 1.000)\",\"width\":1},\"size\":2},\"zmax\":0.1,\"y\":[-1,-1],\"type\":\"scatter3d\",\"hoverinfo\":\"text\"},{\"xaxis\":\"x1\",\"colorbar\":{\"title\":\"\"},\"yaxis\":\"y1\",\"text\":[null,null],\"x\":[9,9],\"showlegend\":true,\"mode\":\"markers\",\"name\":\"y196\",\"zmin\":-0.1,\"legendgroup\":\"y196\",\"z\":[1,1],\"marker\":{\"symbol\":\"circle\",\"color\":\"rgba(0, 0, 0, 1.000)\",\"line\":{\"color\":\"rgba(0, 0, 0, 1.000)\",\"width\":1},\"size\":2},\"zmax\":0.1,\"y\":[6,6],\"type\":\"scatter3d\",\"hoverinfo\":\"text\"},{\"xaxis\":\"x1\",\"colorbar\":{\"title\":\"\"},\"yaxis\":\"y1\",\"text\":[null,null],\"x\":[-12,-12],\"showlegend\":true,\"mode\":\"markers\",\"name\":\"y197\",\"zmin\":-0.1,\"legendgroup\":\"y197\",\"z\":[11,11],\"marker\":{\"symbol\":\"circle\",\"color\":\"rgba(0, 0, 0, 1.000)\",\"line\":{\"color\":\"rgba(0, 0, 0, 1.000)\",\"width\":1},\"size\":2},\"zmax\":0.1,\"y\":[15,15],\"type\":\"scatter3d\",\"hoverinfo\":\"text\"},{\"xaxis\":\"x1\",\"colorbar\":{\"title\":\"\"},\"yaxis\":\"y1\",\"text\":[null,null],\"x\":[14,14],\"showlegend\":true,\"mode\":\"markers\",\"name\":\"y198\",\"zmin\":-0.1,\"legendgroup\":\"y198\",\"z\":[1,1],\"marker\":{\"symbol\":\"circle\",\"color\":\"rgba(0, 0, 0, 1.000)\",\"line\":{\"color\":\"rgba(0, 0, 0, 1.000)\",\"width\":1},\"size\":2},\"zmax\":0.1,\"y\":[-1,-1],\"type\":\"scatter3d\",\"hoverinfo\":\"text\"},{\"xaxis\":\"x1\",\"colorbar\":{\"title\":\"\"},\"yaxis\":\"y1\",\"text\":[null,null],\"x\":[-12,-12],\"showlegend\":true,\"mode\":\"markers\",\"name\":\"y199\",\"zmin\":-0.1,\"legendgroup\":\"y199\",\"z\":[1,1],\"marker\":{\"symbol\":\"circle\",\"color\":\"rgba(0, 0, 0, 1.000)\",\"line\":{\"color\":\"rgba(0, 0, 0, 1.000)\",\"width\":1},\"size\":2},\"zmax\":0.1,\"y\":[3,3],\"type\":\"scatter3d\",\"hoverinfo\":\"text\"},{\"xaxis\":\"x1\",\"colorbar\":{\"title\":\"\"},\"yaxis\":\"y1\",\"text\":[null,null],\"x\":[6,6],\"showlegend\":true,\"mode\":\"markers\",\"name\":\"y200\",\"zmin\":-0.1,\"legendgroup\":\"y200\",\"z\":[-3,-3],\"marker\":{\"symbol\":\"circle\",\"color\":\"rgba(0, 0, 0, 1.000)\",\"line\":{\"color\":\"rgba(0, 0, 0, 1.000)\",\"width\":1},\"size\":2},\"zmax\":0.1,\"y\":[-9,-9],\"type\":\"scatter3d\",\"hoverinfo\":\"text\"},{\"xaxis\":\"x1\",\"colorbar\":{\"title\":\"\"},\"yaxis\":\"y1\",\"text\":[null,null],\"x\":[0,0],\"showlegend\":true,\"mode\":\"lines\",\"name\":\"+z\",\"zmin\":-0.1,\"legendgroup\":\"+z\",\"z\":[0,20],\"zmax\":0.1,\"line\":{\"color\":\"rgba(0, 0, 0, 1.000)\",\"shape\":\"linear\",\"dash\":\"solid\",\"width\":2},\"y\":[0,0],\"type\":\"scatter3d\",\"hoverinfo\":\"text\"},{\"xaxis\":\"x1\",\"colorbar\":{\"title\":\"\"},\"yaxis\":\"y1\",\"text\":[null,null],\"x\":[0,0],\"showlegend\":true,\"mode\":\"lines\",\"name\":\"-z\",\"zmin\":-0.1,\"legendgroup\":\"-z\",\"z\":[0,-20],\"zmax\":0.1,\"line\":{\"color\":\"rgba(128, 128, 128, 1.000)\",\"shape\":\"linear\",\"dash\":\"solid\",\"width\":1},\"y\":[0,0],\"type\":\"scatter3d\",\"hoverinfo\":\"text\"},{\"xaxis\":\"x1\",\"colorbar\":{\"title\":\"\"},\"yaxis\":\"y1\",\"text\":[null,null],\"x\":[0,0],\"showlegend\":true,\"mode\":\"lines\",\"name\":\"+y\",\"zmin\":-0.1,\"legendgroup\":\"+y\",\"z\":[0,0],\"zmax\":0.1,\"line\":{\"color\":\"rgba(0, 0, 0, 1.000)\",\"shape\":\"linear\",\"dash\":\"solid\",\"width\":3},\"y\":[0,20],\"type\":\"scatter3d\",\"hoverinfo\":\"text\"},{\"xaxis\":\"x1\",\"colorbar\":{\"title\":\"\"},\"yaxis\":\"y1\",\"text\":[null,null],\"x\":[0,0],\"showlegend\":true,\"mode\":\"lines\",\"name\":\"-y\",\"zmin\":-0.1,\"legendgroup\":\"-y\",\"z\":[0,0],\"zmax\":0.1,\"line\":{\"color\":\"rgba(128, 128, 128, 1.000)\",\"shape\":\"linear\",\"dash\":\"solid\",\"width\":2},\"y\":[0,-20],\"type\":\"scatter3d\",\"hoverinfo\":\"text\"},{\"xaxis\":\"x1\",\"colorbar\":{\"title\":\"\"},\"yaxis\":\"y1\",\"text\":[null,null],\"x\":[0,20],\"showlegend\":true,\"mode\":\"lines\",\"name\":\"+x\",\"zmin\":-0.1,\"legendgroup\":\"+x\",\"z\":[0,0],\"zmax\":0.1,\"line\":{\"color\":\"rgba(0, 0, 0, 1.000)\",\"shape\":\"linear\",\"dash\":\"solid\",\"width\":3},\"y\":[0,0],\"type\":\"scatter3d\",\"hoverinfo\":\"text\"},{\"xaxis\":\"x1\",\"colorbar\":{\"title\":\"\"},\"yaxis\":\"y1\",\"text\":[null,null],\"x\":[0,-20],\"showlegend\":true,\"mode\":\"lines\",\"name\":\"-x\",\"zmin\":-0.1,\"legendgroup\":\"-x\",\"z\":[0,0],\"zmax\":0.1,\"line\":{\"color\":\"rgba(128, 128, 128, 1.000)\",\"shape\":\"linear\",\"dash\":\"solid\",\"width\":2},\"y\":[0,0],\"type\":\"scatter3d\",\"hoverinfo\":\"text\"}], {\"showlegend\":false,\"paper_bgcolor\":\"rgba(255, 255, 255, 1.000)\",\"annotations\":[{\"yanchor\":\"top\",\"xanchor\":\"center\",\"rotation\":-0.0,\"y\":1.0,\"font\":{\"color\":\"rgba(0, 0, 0, 1.000)\",\"family\":\"sans-serif\",\"size\":20},\"yref\":\"paper\",\"showarrow\":false,\"text\":\"Example 3: p,q,r\",\"xref\":\"paper\",\"x\":0.5222222222222223}],\"height\":400,\"margin\":{\"l\":0,\"b\":20,\"r\":0,\"t\":20},\"plot_bgcolor\":\"rgba(255, 255, 255, 1.000)\",\"scene\":{\"camera\":{\"eye\":{\"y\":-1.9499999999999997,\"z\":1.3,\"x\":1.12583302491977}},\"xaxis\":{\"showticklabels\":true,\"gridwidth\":0.5,\"tickvals\":[-15.0,-10.0,-5.0,0.0,5.0,10.0,15.0],\"visible\":true,\"ticks\":\"inside\",\"range\":[-15.9,15.9],\"domain\":[0.05100612423447069,0.9934383202099737],\"tickmode\":\"array\",\"linecolor\":\"rgba(0, 0, 0, 1.000)\",\"showgrid\":true,\"title\":\"\",\"mirror\":false,\"tickangle\":0,\"showline\":true,\"gridcolor\":\"rgba(0, 0, 0, 0.100)\",\"titlefont\":{\"color\":\"rgba(0, 0, 0, 1.000)\",\"family\":\"sans-serif\",\"size\":15},\"tickcolor\":\"rgb(0, 0, 0)\",\"ticktext\":[\"-15\",\"-10\",\"-5\",\"0\",\"5\",\"10\",\"15\"],\"zeroline\":false,\"type\":\"-\",\"tickfont\":{\"color\":\"rgba(0, 0, 0, 1.000)\",\"family\":\"sans-serif\",\"size\":11},\"zerolinecolor\":\"rgba(0, 0, 0, 1.000)\",\"anchor\":\"y1\"},\"yaxis\":{\"showticklabels\":true,\"gridwidth\":0.5,\"tickvals\":[-15.0,-10.0,-5.0,0.0,5.0,10.0,15.0],\"visible\":true,\"ticks\":\"inside\",\"range\":[-15.9,15.9],\"domain\":[0.03762029746281716,0.9415463692038496],\"tickmode\":\"array\",\"linecolor\":\"rgba(0, 0, 0, 1.000)\",\"showgrid\":true,\"title\":\"\",\"mirror\":false,\"tickangle\":0,\"showline\":true,\"gridcolor\":\"rgba(0, 0, 0, 0.100)\",\"titlefont\":{\"color\":\"rgba(0, 0, 0, 1.000)\",\"family\":\"sans-serif\",\"size\":15},\"tickcolor\":\"rgb(0, 0, 0)\",\"ticktext\":[\"-15\",\"-10\",\"-5\",\"0\",\"5\",\"10\",\"15\"],\"zeroline\":false,\"type\":\"-\",\"tickfont\":{\"color\":\"rgba(0, 0, 0, 1.000)\",\"family\":\"sans-serif\",\"size\":11},\"zerolinecolor\":\"rgba(0, 0, 0, 1.000)\",\"anchor\":\"x1\"},\"zaxis\":{\"showticklabels\":true,\"gridwidth\":0.5,\"tickvals\":[-15.0,-10.0,-5.0,0.0,5.0,10.0,15.0],\"visible\":true,\"ticks\":\"inside\",\"range\":[-15.9,15.9],\"tickmode\":\"array\",\"linecolor\":\"rgba(0, 0, 0, 1.000)\",\"showgrid\":true,\"title\":\"\",\"mirror\":false,\"tickangle\":0,\"showline\":true,\"gridcolor\":\"rgba(0, 0, 0, 0.100)\",\"titlefont\":{\"color\":\"rgba(0, 0, 0, 1.000)\",\"family\":\"sans-serif\",\"size\":15},\"tickcolor\":\"rgb(0, 0, 0)\",\"ticktext\":[\"-15\",\"-10\",\"-5\",\"0\",\"5\",\"10\",\"15\"],\"zeroline\":false,\"type\":\"-\",\"tickfont\":{\"color\":\"rgba(0, 0, 0, 1.000)\",\"family\":\"sans-serif\",\"size\":11},\"zerolinecolor\":\"rgba(0, 0, 0, 1.000)\"}},\"width\":600});\n",
       "    </script>\n"
      ]
     },
     "metadata": {},
     "output_type": "display_data"
    }
   ],
   "source": [
    "# Example 3a: p,q,r,\n",
    "using Plots\n",
    "plotly()\n",
    "P=[1,-2,-1]; Q=[3,0,1]; R=[-2,1,1];\n",
    "NumberOfPoints=200;\n",
    "\n",
    "a1=rand(-6:6); a2=rand(-4:4); a3=rand(-6:6);\n",
    "p=P*a1; q=Q*a2; r=R*a3;\n",
    "\n",
    "while abs(p[1]+q[1]+r[1])>15 || abs(p[2]+q[2]+r[2])>15 || abs(p[3]+q[3]+r[3])>15\n",
    "    a1=rand(-6:6); a2=rand(-4:4); a3=rand(-6:6);\n",
    "    p=P*a1; q=Q*a2; r=R*a3;\n",
    "end\n",
    "\n",
    "d=plot3d(title=\"Example 3c: Span{p,q,r}\", legend=false, lims=[-15,15])\n",
    "scatter!([p[1]+q[1]+r[1], p[1]+q[1]+r[1]],[p[2]+q[2]+r[2],p[2]+q[2]+r[2]],[p[3]+q[3]+r[3],p[3]+q[3]+r[3]], markercolor=\"black\", markersize=1)\n",
    "\n",
    "if NumberOfPoints>1\n",
    "    for n = 2:NumberOfPoints\n",
    "        a1=rand(-6:6); a2=rand(-4:4); a3=rand(-6:6);\n",
    "        p=P*a1; q=Q*a2; r=R*a3;\n",
    "        while abs(p[1]+q[1]+r[1])>15 || abs(p[2]+q[2]+r[2])>15 || abs(p[3]+q[3]+r[3])>15\n",
    "            a1=rand(-6:6); a2=rand(-4:4); a3=rand(-6:6);\n",
    "            p=P*a1; q=Q*a2; r=R*a3; \n",
    "        end\n",
    "        scatter!([p[1]+q[1]+r[1], p[1]+q[1]+r[1]],[p[2]+q[2]+r[2],p[2]+q[2]+r[2]],[p[3]+q[3]+r[3],p[3]+q[3]+r[3]], markercolor=\"black\", markersize=1)\n",
    "    end\n",
    "end\n",
    "\n",
    "plot3d!([0,0],[0,0],[0,20], label=\"+z\", linecolor=\"black\", linewidth=2,lims=[-15,15])\n",
    "plot3d!([0,0],[0,0],[0,-20],  label=\"-z\", linecolor=\"gray\", linewidth=1,lims=[-15,15])\n",
    "plot3d!([0,0],[0,20],[0,0],  label=\"+y\", linecolor=\"black\", linewidth=3,lims=[-15,15])\n",
    "plot3d!([0,0],[0,-20],[0,0],  label=\"-y\", linecolor=\"gray\", linewidth=2,lims=[-15,15])\n",
    "plot3d!([0,20],[0,0],[0,0],  label=\"+x\", linecolor=\"black\", linewidth=3,lims=[-15,15])\n",
    "plot3d!([0,-20],[0,0],[0,0],  label=\"-x\", linecolor=\"gray\", linewidth=2,lims=[-15,15])\n",
    "\n",
    "display(d)"
   ]
  },
  {
   "cell_type": "code",
   "execution_count": 19,
   "metadata": {},
   "outputs": [
    {
     "data": {
      "application/vnd.plotly.v1+json": {
       "data": [
        {
         "colorbar": {
          "title": ""
         },
         "hoverinfo": "text",
         "legendgroup": "-1.4835180187517345 p",
         "line": {
          "color": "rgba(255, 0, 0, 1.000)",
          "dash": "solid",
          "shape": "linear",
          "width": 4
         },
         "mode": "lines",
         "name": "-1.4835180187517345 p",
         "showlegend": true,
         "text": [
          null,
          null
         ],
         "type": "scatter3d",
         "x": [
          0,
          -1.4835180187517345
         ],
         "xaxis": "x1",
         "y": [
          0,
          2.967036037503469
         ],
         "yaxis": "y1",
         "z": [
          0,
          1.4835180187517345
         ],
         "zmax": 0.1,
         "zmin": -0.1
        },
        {
         "colorbar": {
          "title": ""
         },
         "hoverinfo": "text",
         "legendgroup": "-1.07501111613053 q",
         "line": {
          "color": "rgba(128, 0, 128, 1.000)",
          "dash": "solid",
          "shape": "linear",
          "width": 4
         },
         "mode": "lines",
         "name": "-1.07501111613053 q",
         "showlegend": true,
         "text": [
          null,
          null
         ],
         "type": "scatter3d",
         "x": [
          -1.4835180187517345,
          -4.708551367143325
         ],
         "xaxis": "x1",
         "y": [
          2.967036037503469,
          2.967036037503469
         ],
         "yaxis": "y1",
         "z": [
          1.4835180187517345,
          0.4085069026212045
         ],
         "zmax": 0.1,
         "zmin": -0.1
        },
        {
         "colorbar": {
          "title": ""
         },
         "hoverinfo": "text",
         "legendgroup": "r endpoint",
         "marker": {
          "color": "rgba(0, 0, 0, 1.000)",
          "line": {
           "color": "rgba(0, 0, 0, 1.000)",
           "width": 1
          },
          "size": 2,
          "symbol": "circle"
         },
         "mode": "markers",
         "name": "r endpoint",
         "showlegend": true,
         "text": [
          null,
          null
         ],
         "type": "scatter3d",
         "x": [
          -4.708551367143325,
          -4.708551367143325
         ],
         "xaxis": "x1",
         "y": [
          2.967036037503469,
          2.967036037503469
         ],
         "yaxis": "y1",
         "z": [
          0.4085069026212045,
          0.4085069026212045
         ],
         "zmax": 0.1,
         "zmin": -0.1
        },
        {
         "colorbar": {
          "title": ""
         },
         "hoverinfo": "text",
         "legendgroup": "+z",
         "line": {
          "color": "rgba(0, 0, 0, 1.000)",
          "dash": "solid",
          "shape": "linear",
          "width": 2
         },
         "mode": "lines",
         "name": "+z",
         "showlegend": true,
         "text": [
          null,
          null
         ],
         "type": "scatter3d",
         "x": [
          0,
          0
         ],
         "xaxis": "x1",
         "y": [
          0,
          0
         ],
         "yaxis": "y1",
         "z": [
          0,
          20
         ],
         "zmax": 0.1,
         "zmin": -0.1
        },
        {
         "colorbar": {
          "title": ""
         },
         "hoverinfo": "text",
         "legendgroup": "-z",
         "line": {
          "color": "rgba(128, 128, 128, 1.000)",
          "dash": "solid",
          "shape": "linear",
          "width": 1
         },
         "mode": "lines",
         "name": "-z",
         "showlegend": true,
         "text": [
          null,
          null
         ],
         "type": "scatter3d",
         "x": [
          0,
          0
         ],
         "xaxis": "x1",
         "y": [
          0,
          0
         ],
         "yaxis": "y1",
         "z": [
          0,
          -20
         ],
         "zmax": 0.1,
         "zmin": -0.1
        },
        {
         "colorbar": {
          "title": ""
         },
         "hoverinfo": "text",
         "legendgroup": "+y",
         "line": {
          "color": "rgba(0, 0, 0, 1.000)",
          "dash": "solid",
          "shape": "linear",
          "width": 3
         },
         "mode": "lines",
         "name": "+y",
         "showlegend": true,
         "text": [
          null,
          null
         ],
         "type": "scatter3d",
         "x": [
          0,
          0
         ],
         "xaxis": "x1",
         "y": [
          0,
          20
         ],
         "yaxis": "y1",
         "z": [
          0,
          0
         ],
         "zmax": 0.1,
         "zmin": -0.1
        },
        {
         "colorbar": {
          "title": ""
         },
         "hoverinfo": "text",
         "legendgroup": "-y",
         "line": {
          "color": "rgba(128, 128, 128, 1.000)",
          "dash": "solid",
          "shape": "linear",
          "width": 2
         },
         "mode": "lines",
         "name": "-y",
         "showlegend": true,
         "text": [
          null,
          null
         ],
         "type": "scatter3d",
         "x": [
          0,
          0
         ],
         "xaxis": "x1",
         "y": [
          0,
          -20
         ],
         "yaxis": "y1",
         "z": [
          0,
          0
         ],
         "zmax": 0.1,
         "zmin": -0.1
        },
        {
         "colorbar": {
          "title": ""
         },
         "hoverinfo": "text",
         "legendgroup": "+x",
         "line": {
          "color": "rgba(0, 0, 0, 1.000)",
          "dash": "solid",
          "shape": "linear",
          "width": 3
         },
         "mode": "lines",
         "name": "+x",
         "showlegend": true,
         "text": [
          null,
          null
         ],
         "type": "scatter3d",
         "x": [
          0,
          20
         ],
         "xaxis": "x1",
         "y": [
          0,
          0
         ],
         "yaxis": "y1",
         "z": [
          0,
          0
         ],
         "zmax": 0.1,
         "zmin": -0.1
        },
        {
         "colorbar": {
          "title": ""
         },
         "hoverinfo": "text",
         "legendgroup": "-x",
         "line": {
          "color": "rgba(128, 128, 128, 1.000)",
          "dash": "solid",
          "shape": "linear",
          "width": 2
         },
         "mode": "lines",
         "name": "-x",
         "showlegend": true,
         "text": [
          null,
          null
         ],
         "type": "scatter3d",
         "x": [
          0,
          -20
         ],
         "xaxis": "x1",
         "y": [
          0,
          0
         ],
         "yaxis": "y1",
         "z": [
          0,
          0
         ],
         "zmax": 0.1,
         "zmin": -0.1
        }
       ],
       "layout": {
        "annotations": [
         {
          "font": {
           "color": "rgba(0, 0, 0, 1.000)",
           "family": "sans-serif",
           "size": 20
          },
          "rotation": 0,
          "showarrow": false,
          "text": "Example 3b: lin. combinations of p,q",
          "x": 0.5222222222222223,
          "xanchor": "center",
          "xref": "paper",
          "y": 1,
          "yanchor": "top",
          "yref": "paper"
         }
        ],
        "height": 400,
        "legend": {
         "bgcolor": "rgba(255, 255, 255, 1.000)",
         "bordercolor": "rgba(0, 0, 0, 1.000)",
         "font": {
          "color": "rgba(0, 0, 0, 1.000)",
          "family": "sans-serif",
          "size": 11
         },
         "tracegroupgap": 0,
         "x": 1,
         "y": 1
        },
        "margin": {
         "b": 20,
         "l": 0,
         "r": 0,
         "t": 20
        },
        "paper_bgcolor": "rgba(255, 255, 255, 1.000)",
        "plot_bgcolor": "rgba(255, 255, 255, 1.000)",
        "scene": {
         "camera": {
          "eye": {
           "x": 1.12583302491977,
           "y": -1.9499999999999997,
           "z": 1.3
          }
         },
         "xaxis": {
          "anchor": "y1",
          "domain": [
           0.05100612423447069,
           0.9934383202099737
          ],
          "gridcolor": "rgba(0, 0, 0, 0.100)",
          "gridwidth": 0.5,
          "linecolor": "rgba(0, 0, 0, 1.000)",
          "mirror": false,
          "range": [
           -15.9,
           15.9
          ],
          "showgrid": true,
          "showline": true,
          "showticklabels": true,
          "tickangle": 0,
          "tickcolor": "rgb(0, 0, 0)",
          "tickfont": {
           "color": "rgba(0, 0, 0, 1.000)",
           "family": "sans-serif",
           "size": 11
          },
          "tickmode": "array",
          "ticks": "inside",
          "ticktext": [
           "-15",
           "-10",
           "-5",
           "0",
           "5",
           "10",
           "15"
          ],
          "tickvals": [
           -15,
           -10,
           -5,
           0,
           5,
           10,
           15
          ],
          "title": "",
          "titlefont": {
           "color": "rgba(0, 0, 0, 1.000)",
           "family": "sans-serif",
           "size": 15
          },
          "type": "-",
          "visible": true,
          "zeroline": false,
          "zerolinecolor": "rgba(0, 0, 0, 1.000)"
         },
         "yaxis": {
          "anchor": "x1",
          "domain": [
           0.03762029746281716,
           0.9415463692038496
          ],
          "gridcolor": "rgba(0, 0, 0, 0.100)",
          "gridwidth": 0.5,
          "linecolor": "rgba(0, 0, 0, 1.000)",
          "mirror": false,
          "range": [
           -15.9,
           15.9
          ],
          "showgrid": true,
          "showline": true,
          "showticklabels": true,
          "tickangle": 0,
          "tickcolor": "rgb(0, 0, 0)",
          "tickfont": {
           "color": "rgba(0, 0, 0, 1.000)",
           "family": "sans-serif",
           "size": 11
          },
          "tickmode": "array",
          "ticks": "inside",
          "ticktext": [
           "-15",
           "-10",
           "-5",
           "0",
           "5",
           "10",
           "15"
          ],
          "tickvals": [
           -15,
           -10,
           -5,
           0,
           5,
           10,
           15
          ],
          "title": "",
          "titlefont": {
           "color": "rgba(0, 0, 0, 1.000)",
           "family": "sans-serif",
           "size": 15
          },
          "type": "-",
          "visible": true,
          "zeroline": false,
          "zerolinecolor": "rgba(0, 0, 0, 1.000)"
         },
         "zaxis": {
          "gridcolor": "rgba(0, 0, 0, 0.100)",
          "gridwidth": 0.5,
          "linecolor": "rgba(0, 0, 0, 1.000)",
          "mirror": false,
          "range": [
           -15.9,
           15.9
          ],
          "showgrid": true,
          "showline": true,
          "showticklabels": true,
          "tickangle": 0,
          "tickcolor": "rgb(0, 0, 0)",
          "tickfont": {
           "color": "rgba(0, 0, 0, 1.000)",
           "family": "sans-serif",
           "size": 11
          },
          "tickmode": "array",
          "ticks": "inside",
          "ticktext": [
           "-15",
           "-10",
           "-5",
           "0",
           "5",
           "10",
           "15"
          ],
          "tickvals": [
           -15,
           -10,
           -5,
           0,
           5,
           10,
           15
          ],
          "title": "",
          "titlefont": {
           "color": "rgba(0, 0, 0, 1.000)",
           "family": "sans-serif",
           "size": 15
          },
          "type": "-",
          "visible": true,
          "zeroline": false,
          "zerolinecolor": "rgba(0, 0, 0, 1.000)"
         }
        },
        "showlegend": true,
        "width": 600
       }
      },
      "text/html": [
       "    <div id=\"b103d134-7dba-4598-9035-f14e99939a29\" style=\"width:600px;height:400px;\"></div>\n",
       "    <script>\n",
       "    PLOT = document.getElementById('b103d134-7dba-4598-9035-f14e99939a29');\n",
       "    Plotly.plot(PLOT, [{\"xaxis\":\"x1\",\"colorbar\":{\"title\":\"\"},\"yaxis\":\"y1\",\"text\":[null,null],\"x\":[0.0,-1.4835180187517345],\"showlegend\":true,\"mode\":\"lines\",\"name\":\"-1.4835180187517345 p\",\"zmin\":-0.1,\"legendgroup\":\"-1.4835180187517345 p\",\"z\":[0.0,1.4835180187517345],\"zmax\":0.1,\"line\":{\"color\":\"rgba(255, 0, 0, 1.000)\",\"shape\":\"linear\",\"dash\":\"solid\",\"width\":4},\"y\":[0.0,2.967036037503469],\"type\":\"scatter3d\",\"hoverinfo\":\"text\"},{\"xaxis\":\"x1\",\"colorbar\":{\"title\":\"\"},\"yaxis\":\"y1\",\"text\":[null,null],\"x\":[-1.4835180187517345,-4.708551367143325],\"showlegend\":true,\"mode\":\"lines\",\"name\":\"-1.07501111613053 q\",\"zmin\":-0.1,\"legendgroup\":\"-1.07501111613053 q\",\"z\":[1.4835180187517345,0.4085069026212045],\"zmax\":0.1,\"line\":{\"color\":\"rgba(128, 0, 128, 1.000)\",\"shape\":\"linear\",\"dash\":\"solid\",\"width\":4},\"y\":[2.967036037503469,2.967036037503469],\"type\":\"scatter3d\",\"hoverinfo\":\"text\"},{\"xaxis\":\"x1\",\"colorbar\":{\"title\":\"\"},\"yaxis\":\"y1\",\"text\":[null,null],\"x\":[-4.708551367143325,-4.708551367143325],\"showlegend\":true,\"mode\":\"markers\",\"name\":\"r endpoint\",\"zmin\":-0.1,\"legendgroup\":\"r endpoint\",\"z\":[0.4085069026212045,0.4085069026212045],\"marker\":{\"symbol\":\"circle\",\"color\":\"rgba(0, 0, 0, 1.000)\",\"line\":{\"color\":\"rgba(0, 0, 0, 1.000)\",\"width\":1},\"size\":2},\"zmax\":0.1,\"y\":[2.967036037503469,2.967036037503469],\"type\":\"scatter3d\",\"hoverinfo\":\"text\"},{\"xaxis\":\"x1\",\"colorbar\":{\"title\":\"\"},\"yaxis\":\"y1\",\"text\":[null,null],\"x\":[0,0],\"showlegend\":true,\"mode\":\"lines\",\"name\":\"+z\",\"zmin\":-0.1,\"legendgroup\":\"+z\",\"z\":[0,20],\"zmax\":0.1,\"line\":{\"color\":\"rgba(0, 0, 0, 1.000)\",\"shape\":\"linear\",\"dash\":\"solid\",\"width\":2},\"y\":[0,0],\"type\":\"scatter3d\",\"hoverinfo\":\"text\"},{\"xaxis\":\"x1\",\"colorbar\":{\"title\":\"\"},\"yaxis\":\"y1\",\"text\":[null,null],\"x\":[0,0],\"showlegend\":true,\"mode\":\"lines\",\"name\":\"-z\",\"zmin\":-0.1,\"legendgroup\":\"-z\",\"z\":[0,-20],\"zmax\":0.1,\"line\":{\"color\":\"rgba(128, 128, 128, 1.000)\",\"shape\":\"linear\",\"dash\":\"solid\",\"width\":1},\"y\":[0,0],\"type\":\"scatter3d\",\"hoverinfo\":\"text\"},{\"xaxis\":\"x1\",\"colorbar\":{\"title\":\"\"},\"yaxis\":\"y1\",\"text\":[null,null],\"x\":[0,0],\"showlegend\":true,\"mode\":\"lines\",\"name\":\"+y\",\"zmin\":-0.1,\"legendgroup\":\"+y\",\"z\":[0,0],\"zmax\":0.1,\"line\":{\"color\":\"rgba(0, 0, 0, 1.000)\",\"shape\":\"linear\",\"dash\":\"solid\",\"width\":3},\"y\":[0,20],\"type\":\"scatter3d\",\"hoverinfo\":\"text\"},{\"xaxis\":\"x1\",\"colorbar\":{\"title\":\"\"},\"yaxis\":\"y1\",\"text\":[null,null],\"x\":[0,0],\"showlegend\":true,\"mode\":\"lines\",\"name\":\"-y\",\"zmin\":-0.1,\"legendgroup\":\"-y\",\"z\":[0,0],\"zmax\":0.1,\"line\":{\"color\":\"rgba(128, 128, 128, 1.000)\",\"shape\":\"linear\",\"dash\":\"solid\",\"width\":2},\"y\":[0,-20],\"type\":\"scatter3d\",\"hoverinfo\":\"text\"},{\"xaxis\":\"x1\",\"colorbar\":{\"title\":\"\"},\"yaxis\":\"y1\",\"text\":[null,null],\"x\":[0,20],\"showlegend\":true,\"mode\":\"lines\",\"name\":\"+x\",\"zmin\":-0.1,\"legendgroup\":\"+x\",\"z\":[0,0],\"zmax\":0.1,\"line\":{\"color\":\"rgba(0, 0, 0, 1.000)\",\"shape\":\"linear\",\"dash\":\"solid\",\"width\":3},\"y\":[0,0],\"type\":\"scatter3d\",\"hoverinfo\":\"text\"},{\"xaxis\":\"x1\",\"colorbar\":{\"title\":\"\"},\"yaxis\":\"y1\",\"text\":[null,null],\"x\":[0,-20],\"showlegend\":true,\"mode\":\"lines\",\"name\":\"-x\",\"zmin\":-0.1,\"legendgroup\":\"-x\",\"z\":[0,0],\"zmax\":0.1,\"line\":{\"color\":\"rgba(128, 128, 128, 1.000)\",\"shape\":\"linear\",\"dash\":\"solid\",\"width\":2},\"y\":[0,0],\"type\":\"scatter3d\",\"hoverinfo\":\"text\"}], {\"showlegend\":true,\"paper_bgcolor\":\"rgba(255, 255, 255, 1.000)\",\"annotations\":[{\"yanchor\":\"top\",\"xanchor\":\"center\",\"rotation\":-0.0,\"y\":1.0,\"font\":{\"color\":\"rgba(0, 0, 0, 1.000)\",\"family\":\"sans-serif\",\"size\":20},\"yref\":\"paper\",\"showarrow\":false,\"text\":\"Example 3b: lin. combinations of p,q\",\"xref\":\"paper\",\"x\":0.5222222222222223}],\"height\":400,\"margin\":{\"l\":0,\"b\":20,\"r\":0,\"t\":20},\"plot_bgcolor\":\"rgba(255, 255, 255, 1.000)\",\"scene\":{\"camera\":{\"eye\":{\"y\":-1.9499999999999997,\"z\":1.3,\"x\":1.12583302491977}},\"xaxis\":{\"showticklabels\":true,\"gridwidth\":0.5,\"tickvals\":[-15.0,-10.0,-5.0,0.0,5.0,10.0,15.0],\"visible\":true,\"ticks\":\"inside\",\"range\":[-15.9,15.9],\"domain\":[0.05100612423447069,0.9934383202099737],\"tickmode\":\"array\",\"linecolor\":\"rgba(0, 0, 0, 1.000)\",\"showgrid\":true,\"title\":\"\",\"mirror\":false,\"tickangle\":0,\"showline\":true,\"gridcolor\":\"rgba(0, 0, 0, 0.100)\",\"titlefont\":{\"color\":\"rgba(0, 0, 0, 1.000)\",\"family\":\"sans-serif\",\"size\":15},\"tickcolor\":\"rgb(0, 0, 0)\",\"ticktext\":[\"-15\",\"-10\",\"-5\",\"0\",\"5\",\"10\",\"15\"],\"zeroline\":false,\"type\":\"-\",\"tickfont\":{\"color\":\"rgba(0, 0, 0, 1.000)\",\"family\":\"sans-serif\",\"size\":11},\"zerolinecolor\":\"rgba(0, 0, 0, 1.000)\",\"anchor\":\"y1\"},\"yaxis\":{\"showticklabels\":true,\"gridwidth\":0.5,\"tickvals\":[-15.0,-10.0,-5.0,0.0,5.0,10.0,15.0],\"visible\":true,\"ticks\":\"inside\",\"range\":[-15.9,15.9],\"domain\":[0.03762029746281716,0.9415463692038496],\"tickmode\":\"array\",\"linecolor\":\"rgba(0, 0, 0, 1.000)\",\"showgrid\":true,\"title\":\"\",\"mirror\":false,\"tickangle\":0,\"showline\":true,\"gridcolor\":\"rgba(0, 0, 0, 0.100)\",\"titlefont\":{\"color\":\"rgba(0, 0, 0, 1.000)\",\"family\":\"sans-serif\",\"size\":15},\"tickcolor\":\"rgb(0, 0, 0)\",\"ticktext\":[\"-15\",\"-10\",\"-5\",\"0\",\"5\",\"10\",\"15\"],\"zeroline\":false,\"type\":\"-\",\"tickfont\":{\"color\":\"rgba(0, 0, 0, 1.000)\",\"family\":\"sans-serif\",\"size\":11},\"zerolinecolor\":\"rgba(0, 0, 0, 1.000)\",\"anchor\":\"x1\"},\"zaxis\":{\"showticklabels\":true,\"gridwidth\":0.5,\"tickvals\":[-15.0,-10.0,-5.0,0.0,5.0,10.0,15.0],\"visible\":true,\"ticks\":\"inside\",\"range\":[-15.9,15.9],\"tickmode\":\"array\",\"linecolor\":\"rgba(0, 0, 0, 1.000)\",\"showgrid\":true,\"title\":\"\",\"mirror\":false,\"tickangle\":0,\"showline\":true,\"gridcolor\":\"rgba(0, 0, 0, 0.100)\",\"titlefont\":{\"color\":\"rgba(0, 0, 0, 1.000)\",\"family\":\"sans-serif\",\"size\":15},\"tickcolor\":\"rgb(0, 0, 0)\",\"ticktext\":[\"-15\",\"-10\",\"-5\",\"0\",\"5\",\"10\",\"15\"],\"zeroline\":false,\"type\":\"-\",\"tickfont\":{\"color\":\"rgba(0, 0, 0, 1.000)\",\"family\":\"sans-serif\",\"size\":11},\"zerolinecolor\":\"rgba(0, 0, 0, 1.000)\"}},\"legend\":{\"tracegroupgap\":0,\"bordercolor\":\"rgba(0, 0, 0, 1.000)\",\"bgcolor\":\"rgba(255, 255, 255, 1.000)\",\"font\":{\"color\":\"rgba(0, 0, 0, 1.000)\",\"family\":\"sans-serif\",\"size\":11},\"y\":1.0,\"x\":1.0},\"width\":600});\n",
       "    </script>\n"
      ]
     },
     "execution_count": 19,
     "metadata": {},
     "output_type": "execute_result"
    }
   ],
   "source": [
    "# Example 3a: p,q,r,\n",
    "using Plots\n",
    "plotly()\n",
    "P=[1,-2,-1]; Q=[3,0,1]; R=[-2,1,1];\n",
    "\n",
    "a1=rand(-7:7); a2=rand(-7:7); a3=rand(-7:7);\n",
    "p=P*a1; q=Q*a2; r=R*a3;\n",
    "\n",
    "while abs(p[1]+q[1]+r[1])>15 || abs(p[2]+q[2]+r[2])>15 || abs(p[3]+q[3]+r[3])>15\n",
    "   a1=rand(-7:7)\n",
    "    a2=rand(-7:7)\n",
    "    a3=rand(-7:7)\n",
    "    p=P*a1 \n",
    "    q=Q*a2\n",
    "    r=R*a3 \n",
    "end\n",
    "\n",
    "xp=[0,p[1]];\n",
    "yp=[0,p[2]];\n",
    "zp=[0,p[3]];\n",
    "plot3d(xp,yp,zp, title=\"Example 3c: lin. combinations of p,q,r\", label=\"$a1 p\", linecolor=\"red\", linewidth=4, lims=[-15,15])\n",
    "xq=[p[1],q[1]+p[1]];\n",
    "yq=[p[2],q[2]+p[2]];\n",
    "zq=[p[3],q[3]+p[3]];\n",
    "plot3d!(xq,yq,zq, label=\"$a2 q\", linewidth=4, linecolor=\"purple\")\n",
    "xr=[q[1]+p[1],p[1]+q[1]+r[1]];\n",
    "yr=[q[2]+p[2],p[2]+q[2]+r[2]];\n",
    "zr=[q[3]+p[3],p[3]+q[3]+r[3]];\n",
    "plot3d!(xr,yr, zr,label=\"$a3 r\", linewidth=4, linecolor=\"blue\")\n",
    "scatter!([p[1]+q[1]+r[1], p[1]+q[1]+r[1]],[p[2]+q[2]+r[2],p[2]+q[2]+r[2]],[p[3]+q[3]+r[3],p[3]+q[3]+r[3]], markercolor=\"black\", markersize=1, label=\"r endpoint\")\n",
    "\n",
    "plot3d!([0,0],[0,0],[0,20],  label=\"+z\", linecolor=\"black\", linewidth=2,lims=[-15,15])\n",
    "plot3d!([0,0],[0,0],[0,-20],  label=\"-z\", linecolor=\"gray\", linewidth=1,lims=[-15,15])\n",
    "plot3d!([0,0],[0,20],[0,0],  label=\"+y\", linecolor=\"black\", linewidth=3,lims=[-15,15])\n",
    "plot3d!([0,0],[0,-20],[0,0],  label=\"-y\", linecolor=\"gray\", linewidth=2,lims=[-15,15])\n",
    "plot3d!([0,20],[0,0],[0,0],  label=\"+x\", linecolor=\"black\", linewidth=3,lims=[-15,15])\n",
    "plot3d!([0,-20],[0,0],[0,0],  label=\"-x\", linecolor=\"gray\", linewidth=2,lims=[-15,15])"
   ]
  },
  {
   "cell_type": "code",
   "execution_count": 20,
   "metadata": {},
   "outputs": [
    {
     "data": {
      "application/vnd.plotly.v1+json": {
       "data": [
        {
         "colorbar": {
          "title": ""
         },
         "hoverinfo": "text",
         "legendgroup": "y1",
         "marker": {
          "color": "rgba(0, 0, 0, 1.000)",
          "line": {
           "color": "rgba(0, 0, 0, 1.000)",
           "width": 1
          },
          "size": 2,
          "symbol": "circle"
         },
         "mode": "markers",
         "name": "y1",
         "showlegend": true,
         "text": [
          null,
          null
         ],
         "type": "scatter3d",
         "x": [
          10.081276706362072,
          10.081276706362072
         ],
         "xaxis": "x1",
         "y": [
          -3.165327909752329,
          -3.165327909752329
         ],
         "yaxis": "y1",
         "z": [
          1.2502069622858047,
          1.2502069622858047
         ],
         "zmax": 0.1,
         "zmin": -0.1
        },
        {
         "colorbar": {
          "title": ""
         },
         "hoverinfo": "text",
         "legendgroup": "y2",
         "marker": {
          "color": "rgba(0, 0, 0, 1.000)",
          "line": {
           "color": "rgba(0, 0, 0, 1.000)",
           "width": 1
          },
          "size": 2,
          "symbol": "circle"
         },
         "mode": "markers",
         "name": "y2",
         "showlegend": true,
         "text": [
          null,
          null
         ],
         "type": "scatter3d",
         "x": [
          1.073575898615887,
          1.073575898615887
         ],
         "xaxis": "x1",
         "y": [
          -3.492333516649026,
          -3.492333516649026
         ],
         "yaxis": "y1",
         "z": [
          -1.9703637115607218,
          -1.9703637115607218
         ],
         "zmax": 0.1,
         "zmin": -0.1
        },
        {
         "colorbar": {
          "title": ""
         },
         "hoverinfo": "text",
         "legendgroup": "y3",
         "marker": {
          "color": "rgba(0, 0, 0, 1.000)",
          "line": {
           "color": "rgba(0, 0, 0, 1.000)",
           "width": 1
          },
          "size": 2,
          "symbol": "circle"
         },
         "mode": "markers",
         "name": "y3",
         "showlegend": true,
         "text": [
          null,
          null
         ],
         "type": "scatter3d",
         "x": [
          10.591883844702352,
          10.591883844702352
         ],
         "xaxis": "x1",
         "y": [
          -1.5946418128365454,
          -1.5946418128365454
         ],
         "yaxis": "y1",
         "z": [
          2.4675334063430867,
          2.4675334063430867
         ],
         "zmax": 0.1,
         "zmin": -0.1
        },
        {
         "colorbar": {
          "title": ""
         },
         "hoverinfo": "text",
         "legendgroup": "y4",
         "marker": {
          "color": "rgba(0, 0, 0, 1.000)",
          "line": {
           "color": "rgba(0, 0, 0, 1.000)",
           "width": 1
          },
          "size": 2,
          "symbol": "circle"
         },
         "mode": "markers",
         "name": "y4",
         "showlegend": true,
         "text": [
          null,
          null
         ],
         "type": "scatter3d",
         "x": [
          5.946433749561621,
          5.946433749561621
         ],
         "xaxis": "x1",
         "y": [
          0.31695071384231976,
          0.31695071384231976
         ],
         "yaxis": "y1",
         "z": [
          2.193445059082087,
          2.193445059082087
         ],
         "zmax": 0.1,
         "zmin": -0.1
        },
        {
         "colorbar": {
          "title": ""
         },
         "hoverinfo": "text",
         "legendgroup": "y5",
         "marker": {
          "color": "rgba(0, 0, 0, 1.000)",
          "line": {
           "color": "rgba(0, 0, 0, 1.000)",
           "width": 1
          },
          "size": 2,
          "symbol": "circle"
         },
         "mode": "markers",
         "name": "y5",
         "showlegend": true,
         "text": [
          null,
          null
         ],
         "type": "scatter3d",
         "x": [
          1.627777251366132,
          1.627777251366132
         ],
         "xaxis": "x1",
         "y": [
          0,
          0
         ],
         "yaxis": "y1",
         "z": [
          0.542592417122044,
          0.542592417122044
         ],
         "zmax": 0.1,
         "zmin": -0.1
        },
        {
         "colorbar": {
          "title": ""
         },
         "hoverinfo": "text",
         "legendgroup": "y6",
         "marker": {
          "color": "rgba(0, 0, 0, 1.000)",
          "line": {
           "color": "rgba(0, 0, 0, 1.000)",
           "width": 1
          },
          "size": 2,
          "symbol": "circle"
         },
         "mode": "markers",
         "name": "y6",
         "showlegend": true,
         "text": [
          null,
          null
         ],
         "type": "scatter3d",
         "x": [
          -3.028299496525788,
          -3.028299496525788
         ],
         "xaxis": "x1",
         "y": [
          -2.018430992882242,
          -2.018430992882242
         ],
         "yaxis": "y1",
         "z": [
          -2.355053827430091,
          -2.355053827430091
         ],
         "zmax": 0.1,
         "zmin": -0.1
        },
        {
         "colorbar": {
          "title": ""
         },
         "hoverinfo": "text",
         "legendgroup": "y7",
         "marker": {
          "color": "rgba(0, 0, 0, 1.000)",
          "line": {
           "color": "rgba(0, 0, 0, 1.000)",
           "width": 1
          },
          "size": 2,
          "symbol": "circle"
         },
         "mode": "markers",
         "name": "y7",
         "showlegend": true,
         "text": [
          null,
          null
         ],
         "type": "scatter3d",
         "x": [
          3.839987854785422,
          3.839987854785422
         ],
         "xaxis": "x1",
         "y": [
          -1.0329632216466647,
          -1.0329632216466647
         ],
         "yaxis": "y1",
         "z": [
          0.5913538038306976,
          0.5913538038306976
         ],
         "zmax": 0.1,
         "zmin": -0.1
        },
        {
         "colorbar": {
          "title": ""
         },
         "hoverinfo": "text",
         "legendgroup": "y8",
         "marker": {
          "color": "rgba(0, 0, 0, 1.000)",
          "line": {
           "color": "rgba(0, 0, 0, 1.000)",
           "width": 1
          },
          "size": 2,
          "symbol": "circle"
         },
         "mode": "markers",
         "name": "y8",
         "showlegend": true,
         "text": [
          null,
          null
         ],
         "type": "scatter3d",
         "x": [
          -2.1121505247104735,
          -2.1121505247104735
         ],
         "xaxis": "x1",
         "y": [
          10.192935680759287,
          10.192935680759287
         ],
         "yaxis": "y1",
         "z": [
          6.091240278936034,
          6.091240278936034
         ],
         "zmax": 0.1,
         "zmin": -0.1
        },
        {
         "colorbar": {
          "title": ""
         },
         "hoverinfo": "text",
         "legendgroup": "y9",
         "marker": {
          "color": "rgba(0, 0, 0, 1.000)",
          "line": {
           "color": "rgba(0, 0, 0, 1.000)",
           "width": 1
          },
          "size": 2,
          "symbol": "circle"
         },
         "mode": "markers",
         "name": "y9",
         "showlegend": true,
         "text": [
          null,
          null
         ],
         "type": "scatter3d",
         "x": [
          -0.6089348250127218,
          -0.6089348250127218
         ],
         "xaxis": "x1",
         "y": [
          -1.381211845137031,
          -1.381211845137031
         ],
         "yaxis": "y1",
         "z": [
          -1.1237861717622613,
          -1.1237861717622613
         ],
         "zmax": 0.1,
         "zmin": -0.1
        },
        {
         "colorbar": {
          "title": ""
         },
         "hoverinfo": "text",
         "legendgroup": "y10",
         "marker": {
          "color": "rgba(0, 0, 0, 1.000)",
          "line": {
           "color": "rgba(0, 0, 0, 1.000)",
           "width": 1
          },
          "size": 2,
          "symbol": "circle"
         },
         "mode": "markers",
         "name": "y10",
         "showlegend": true,
         "text": [
          null,
          null
         ],
         "type": "scatter3d",
         "x": [
          -4.689378720521191,
          -4.689378720521191
         ],
         "xaxis": "x1",
         "y": [
          -0.10424524059502538,
          -0.10424524059502538
         ],
         "yaxis": "y1",
         "z": [
          -1.6326230672370805,
          -1.6326230672370805
         ],
         "zmax": 0.1,
         "zmin": -0.1
        },
        {
         "colorbar": {
          "title": ""
         },
         "hoverinfo": "text",
         "legendgroup": "y11",
         "marker": {
          "color": "rgba(0, 0, 0, 1.000)",
          "line": {
           "color": "rgba(0, 0, 0, 1.000)",
           "width": 1
          },
          "size": 2,
          "symbol": "circle"
         },
         "mode": "markers",
         "name": "y11",
         "showlegend": true,
         "text": [
          null,
          null
         ],
         "type": "scatter3d",
         "x": [
          3.1793258047540762,
          3.1793258047540762
         ],
         "xaxis": "x1",
         "y": [
          2.285859806216186,
          2.285859806216186
         ],
         "yaxis": "y1",
         "z": [
          2.5836818057288164,
          2.5836818057288164
         ],
         "zmax": 0.1,
         "zmin": -0.1
        },
        {
         "colorbar": {
          "title": ""
         },
         "hoverinfo": "text",
         "legendgroup": "y12",
         "marker": {
          "color": "rgba(0, 0, 0, 1.000)",
          "line": {
           "color": "rgba(0, 0, 0, 1.000)",
           "width": 1
          },
          "size": 2,
          "symbol": "circle"
         },
         "mode": "markers",
         "name": "y12",
         "showlegend": true,
         "text": [
          null,
          null
         ],
         "type": "scatter3d",
         "x": [
          14.54366918991547,
          14.54366918991547
         ],
         "xaxis": "x1",
         "y": [
          12.85486546713041,
          12.85486546713041
         ],
         "yaxis": "y1",
         "z": [
          13.417800041392097,
          13.417800041392097
         ],
         "zmax": 0.1,
         "zmin": -0.1
        },
        {
         "colorbar": {
          "title": ""
         },
         "hoverinfo": "text",
         "legendgroup": "y13",
         "marker": {
          "color": "rgba(0, 0, 0, 1.000)",
          "line": {
           "color": "rgba(0, 0, 0, 1.000)",
           "width": 1
          },
          "size": 2,
          "symbol": "circle"
         },
         "mode": "markers",
         "name": "y13",
         "showlegend": true,
         "text": [
          null,
          null
         ],
         "type": "scatter3d",
         "x": [
          -1.1440851455254721,
          -1.1440851455254721
         ],
         "xaxis": "x1",
         "y": [
          -0.48786803401885415,
          -0.48786803401885415
         ],
         "yaxis": "y1",
         "z": [
          -0.7066070711877268,
          -0.7066070711877268
         ],
         "zmax": 0.1,
         "zmin": -0.1
        },
        {
         "colorbar": {
          "title": ""
         },
         "hoverinfo": "text",
         "legendgroup": "y14",
         "marker": {
          "color": "rgba(0, 0, 0, 1.000)",
          "line": {
           "color": "rgba(0, 0, 0, 1.000)",
           "width": 1
          },
          "size": 2,
          "symbol": "circle"
         },
         "mode": "markers",
         "name": "y14",
         "showlegend": true,
         "text": [
          null,
          null
         ],
         "type": "scatter3d",
         "x": [
          -6.46695697972384,
          -6.46695697972384
         ],
         "xaxis": "x1",
         "y": [
          8.426373640699635,
          8.426373640699635
         ],
         "yaxis": "y1",
         "z": [
          3.461930100558477,
          3.461930100558477
         ],
         "zmax": 0.1,
         "zmin": -0.1
        },
        {
         "colorbar": {
          "title": ""
         },
         "hoverinfo": "text",
         "legendgroup": "y15",
         "marker": {
          "color": "rgba(0, 0, 0, 1.000)",
          "line": {
           "color": "rgba(0, 0, 0, 1.000)",
           "width": 1
          },
          "size": 2,
          "symbol": "circle"
         },
         "mode": "markers",
         "name": "y15",
         "showlegend": true,
         "text": [
          null,
          null
         ],
         "type": "scatter3d",
         "x": [
          12.260271189356676,
          12.260271189356676
         ],
         "xaxis": "x1",
         "y": [
          -14.4406955374109,
          -14.4406955374109
         ],
         "yaxis": "y1",
         "z": [
          -5.540373295155041,
          -5.540373295155041
         ],
         "zmax": 0.1,
         "zmin": -0.1
        },
        {
         "colorbar": {
          "title": ""
         },
         "hoverinfo": "text",
         "legendgroup": "y16",
         "marker": {
          "color": "rgba(0, 0, 0, 1.000)",
          "line": {
           "color": "rgba(0, 0, 0, 1.000)",
           "width": 1
          },
          "size": 2,
          "symbol": "circle"
         },
         "mode": "markers",
         "name": "y16",
         "showlegend": true,
         "text": [
          null,
          null
         ],
         "type": "scatter3d",
         "x": [
          1.9838376552941375,
          1.9838376552941375
         ],
         "xaxis": "x1",
         "y": [
          -5.4069540907586315,
          -5.4069540907586315
         ],
         "yaxis": "y1",
         "z": [
          -2.943356842074375,
          -2.943356842074375
         ],
         "zmax": 0.1,
         "zmin": -0.1
        },
        {
         "colorbar": {
          "title": ""
         },
         "hoverinfo": "text",
         "legendgroup": "y17",
         "marker": {
          "color": "rgba(0, 0, 0, 1.000)",
          "line": {
           "color": "rgba(0, 0, 0, 1.000)",
           "width": 1
          },
          "size": 2,
          "symbol": "circle"
         },
         "mode": "markers",
         "name": "y17",
         "showlegend": true,
         "text": [
          null,
          null
         ],
         "type": "scatter3d",
         "x": [
          -12.370499886490911,
          -12.370499886490911
         ],
         "xaxis": "x1",
         "y": [
          2.1166858118536416,
          2.1166858118536416
         ],
         "yaxis": "y1",
         "z": [
          -2.7123760875945426,
          -2.7123760875945426
         ],
         "zmax": 0.1,
         "zmin": -0.1
        },
        {
         "colorbar": {
          "title": ""
         },
         "hoverinfo": "text",
         "legendgroup": "y18",
         "marker": {
          "color": "rgba(0, 0, 0, 1.000)",
          "line": {
           "color": "rgba(0, 0, 0, 1.000)",
           "width": 1
          },
          "size": 2,
          "symbol": "circle"
         },
         "mode": "markers",
         "name": "y18",
         "showlegend": true,
         "text": [
          null,
          null
         ],
         "type": "scatter3d",
         "x": [
          1.6084481795855066,
          1.6084481795855066
         ],
         "xaxis": "x1",
         "y": [
          9.650915620748851,
          9.650915620748851
         ],
         "yaxis": "y1",
         "z": [
          6.970093140361069,
          6.970093140361069
         ],
         "zmax": 0.1,
         "zmin": -0.1
        },
        {
         "colorbar": {
          "title": ""
         },
         "hoverinfo": "text",
         "legendgroup": "y19",
         "marker": {
          "color": "rgba(0, 0, 0, 1.000)",
          "line": {
           "color": "rgba(0, 0, 0, 1.000)",
           "width": 1
          },
          "size": 2,
          "symbol": "circle"
         },
         "mode": "markers",
         "name": "y19",
         "showlegend": true,
         "text": [
          null,
          null
         ],
         "type": "scatter3d",
         "x": [
          -1.7711823651718737,
          -1.7711823651718737
         ],
         "xaxis": "x1",
         "y": [
          -9.07492940852896,
          -9.07492940852896
         ],
         "yaxis": "y1",
         "z": [
          -6.640347060743264,
          -6.640347060743264
         ],
         "zmax": 0.1,
         "zmin": -0.1
        },
        {
         "colorbar": {
          "title": ""
         },
         "hoverinfo": "text",
         "legendgroup": "y20",
         "marker": {
          "color": "rgba(0, 0, 0, 1.000)",
          "line": {
           "color": "rgba(0, 0, 0, 1.000)",
           "width": 1
          },
          "size": 2,
          "symbol": "circle"
         },
         "mode": "markers",
         "name": "y20",
         "showlegend": true,
         "text": [
          null,
          null
         ],
         "type": "scatter3d",
         "x": [
          -0.9484100230633468,
          -0.9484100230633468
         ],
         "xaxis": "x1",
         "y": [
          -14.94489818576489,
          -14.94489818576489
         ],
         "yaxis": "y1",
         "z": [
          -10.279402131531043,
          -10.279402131531043
         ],
         "zmax": 0.1,
         "zmin": -0.1
        },
        {
         "colorbar": {
          "title": ""
         },
         "hoverinfo": "text",
         "legendgroup": "y21",
         "marker": {
          "color": "rgba(0, 0, 0, 1.000)",
          "line": {
           "color": "rgba(0, 0, 0, 1.000)",
           "width": 1
          },
          "size": 2,
          "symbol": "circle"
         },
         "mode": "markers",
         "name": "y21",
         "showlegend": true,
         "text": [
          null,
          null
         ],
         "type": "scatter3d",
         "x": [
          -11.512957847608272,
          -11.512957847608272
         ],
         "xaxis": "x1",
         "y": [
          2.217226388156903,
          2.217226388156903
         ],
         "yaxis": "y1",
         "z": [
          -2.3595016904314887,
          -2.3595016904314887
         ],
         "zmax": 0.1,
         "zmin": -0.1
        },
        {
         "colorbar": {
          "title": ""
         },
         "hoverinfo": "text",
         "legendgroup": "y22",
         "marker": {
          "color": "rgba(0, 0, 0, 1.000)",
          "line": {
           "color": "rgba(0, 0, 0, 1.000)",
           "width": 1
          },
          "size": 2,
          "symbol": "circle"
         },
         "mode": "markers",
         "name": "y22",
         "showlegend": true,
         "text": [
          null,
          null
         ],
         "type": "scatter3d",
         "x": [
          -4.215666360021738,
          -4.215666360021738
         ],
         "xaxis": "x1",
         "y": [
          0,
          0
         ],
         "yaxis": "y1",
         "z": [
          -1.4052221200072461,
          -1.4052221200072461
         ],
         "zmax": 0.1,
         "zmin": -0.1
        },
        {
         "colorbar": {
          "title": ""
         },
         "hoverinfo": "text",
         "legendgroup": "y23",
         "marker": {
          "color": "rgba(0, 0, 0, 1.000)",
          "line": {
           "color": "rgba(0, 0, 0, 1.000)",
           "width": 1
          },
          "size": 2,
          "symbol": "circle"
         },
         "mode": "markers",
         "name": "y23",
         "showlegend": true,
         "text": [
          null,
          null
         ],
         "type": "scatter3d",
         "x": [
          -10.10716096559573,
          -10.10716096559573
         ],
         "xaxis": "x1",
         "y": [
          0.6679723169551721,
          0.6679723169551721
         ],
         "yaxis": "y1",
         "z": [
          -2.9237387772284618,
          -2.9237387772284618
         ],
         "zmax": 0.1,
         "zmin": -0.1
        },
        {
         "colorbar": {
          "title": ""
         },
         "hoverinfo": "text",
         "legendgroup": "y24",
         "marker": {
          "color": "rgba(0, 0, 0, 1.000)",
          "line": {
           "color": "rgba(0, 0, 0, 1.000)",
           "width": 1
          },
          "size": 2,
          "symbol": "circle"
         },
         "mode": "markers",
         "name": "y24",
         "showlegend": true,
         "text": [
          null,
          null
         ],
         "type": "scatter3d",
         "x": [
          -6.682969447765853,
          -6.682969447765853
         ],
         "xaxis": "x1",
         "y": [
          0,
          0
         ],
         "yaxis": "y1",
         "z": [
          -2.2276564825886176,
          -2.2276564825886176
         ],
         "zmax": 0.1,
         "zmin": -0.1
        },
        {
         "colorbar": {
          "title": ""
         },
         "hoverinfo": "text",
         "legendgroup": "y25",
         "marker": {
          "color": "rgba(0, 0, 0, 1.000)",
          "line": {
           "color": "rgba(0, 0, 0, 1.000)",
           "width": 1
          },
          "size": 2,
          "symbol": "circle"
         },
         "mode": "markers",
         "name": "y25",
         "showlegend": true,
         "text": [
          null,
          null
         ],
         "type": "scatter3d",
         "x": [
          -13.00716866720354,
          -13.00716866720354
         ],
         "xaxis": "x1",
         "y": [
          6.210025329212043,
          6.210025329212043
         ],
         "yaxis": "y1",
         "z": [
          -0.19570600292648477,
          -0.19570600292648477
         ],
         "zmax": 0.1,
         "zmin": -0.1
        },
        {
         "colorbar": {
          "title": ""
         },
         "hoverinfo": "text",
         "legendgroup": "y26",
         "marker": {
          "color": "rgba(0, 0, 0, 1.000)",
          "line": {
           "color": "rgba(0, 0, 0, 1.000)",
           "width": 1
          },
          "size": 2,
          "symbol": "circle"
         },
         "mode": "markers",
         "name": "y26",
         "showlegend": true,
         "text": [
          null,
          null
         ],
         "type": "scatter3d",
         "x": [
          7.074727913763837,
          7.074727913763837
         ],
         "xaxis": "x1",
         "y": [
          4.111782174251303,
          4.111782174251303
         ],
         "yaxis": "y1",
         "z": [
          5.099430754088814,
          5.099430754088814
         ],
         "zmax": 0.1,
         "zmin": -0.1
        },
        {
         "colorbar": {
          "title": ""
         },
         "hoverinfo": "text",
         "legendgroup": "y27",
         "marker": {
          "color": "rgba(0, 0, 0, 1.000)",
          "line": {
           "color": "rgba(0, 0, 0, 1.000)",
           "width": 1
          },
          "size": 2,
          "symbol": "circle"
         },
         "mode": "markers",
         "name": "y27",
         "showlegend": true,
         "text": [
          null,
          null
         ],
         "type": "scatter3d",
         "x": [
          7.570785826455304,
          7.570785826455304
         ],
         "xaxis": "x1",
         "y": [
          -0.6849148508649723,
          -0.6849148508649723
         ],
         "yaxis": "y1",
         "z": [
          2.066985374908453,
          2.066985374908453
         ],
         "zmax": 0.1,
         "zmin": -0.1
        },
        {
         "colorbar": {
          "title": ""
         },
         "hoverinfo": "text",
         "legendgroup": "y28",
         "marker": {
          "color": "rgba(0, 0, 0, 1.000)",
          "line": {
           "color": "rgba(0, 0, 0, 1.000)",
           "width": 1
          },
          "size": 2,
          "symbol": "circle"
         },
         "mode": "markers",
         "name": "y28",
         "showlegend": true,
         "text": [
          null,
          null
         ],
         "type": "scatter3d",
         "x": [
          4.51578005797646,
          4.51578005797646
         ],
         "xaxis": "x1",
         "y": [
          -9.03156011595292,
          -9.03156011595292
         ],
         "yaxis": "y1",
         "z": [
          -4.51578005797646,
          -4.51578005797646
         ],
         "zmax": 0.1,
         "zmin": -0.1
        },
        {
         "colorbar": {
          "title": ""
         },
         "hoverinfo": "text",
         "legendgroup": "y29",
         "marker": {
          "color": "rgba(0, 0, 0, 1.000)",
          "line": {
           "color": "rgba(0, 0, 0, 1.000)",
           "width": 1
          },
          "size": 2,
          "symbol": "circle"
         },
         "mode": "markers",
         "name": "y29",
         "showlegend": true,
         "text": [
          null,
          null
         ],
         "type": "scatter3d",
         "x": [
          -9.147433327261094,
          -9.147433327261094
         ],
         "xaxis": "x1",
         "y": [
          -3.28070710588372,
          -3.28070710588372
         ],
         "yaxis": "y1",
         "z": [
          -5.236282513009511,
          -5.236282513009511
         ],
         "zmax": 0.1,
         "zmin": -0.1
        },
        {
         "colorbar": {
          "title": ""
         },
         "hoverinfo": "text",
         "legendgroup": "y30",
         "marker": {
          "color": "rgba(0, 0, 0, 1.000)",
          "line": {
           "color": "rgba(0, 0, 0, 1.000)",
           "width": 1
          },
          "size": 2,
          "symbol": "circle"
         },
         "mode": "markers",
         "name": "y30",
         "showlegend": true,
         "text": [
          null,
          null
         ],
         "type": "scatter3d",
         "x": [
          -5.167391534165748,
          -5.167391534165748
         ],
         "xaxis": "x1",
         "y": [
          5.375045327653855,
          5.375045327653855
         ],
         "yaxis": "y1",
         "z": [
          1.8608997070473208,
          1.8608997070473208
         ],
         "zmax": 0.1,
         "zmin": -0.1
        },
        {
         "colorbar": {
          "title": ""
         },
         "hoverinfo": "text",
         "legendgroup": "y31",
         "marker": {
          "color": "rgba(0, 0, 0, 1.000)",
          "line": {
           "color": "rgba(0, 0, 0, 1.000)",
           "width": 1
          },
          "size": 2,
          "symbol": "circle"
         },
         "mode": "markers",
         "name": "y31",
         "showlegend": true,
         "text": [
          null,
          null
         ],
         "type": "scatter3d",
         "x": [
          -0.4526772201065725,
          -0.4526772201065725
         ],
         "xaxis": "x1",
         "y": [
          -1.1358696950316007,
          -1.1358696950316007
         ],
         "yaxis": "y1",
         "z": [
          -0.9081388700565913,
          -0.9081388700565913
         ],
         "zmax": 0.1,
         "zmin": -0.1
        },
        {
         "colorbar": {
          "title": ""
         },
         "hoverinfo": "text",
         "legendgroup": "y32",
         "marker": {
          "color": "rgba(0, 0, 0, 1.000)",
          "line": {
           "color": "rgba(0, 0, 0, 1.000)",
           "width": 1
          },
          "size": 2,
          "symbol": "circle"
         },
         "mode": "markers",
         "name": "y32",
         "showlegend": true,
         "text": [
          null,
          null
         ],
         "type": "scatter3d",
         "x": [
          -9.228898545494886,
          -9.228898545494886
         ],
         "xaxis": "x1",
         "y": [
          -1.9496937460289154,
          -1.9496937460289154
         ],
         "yaxis": "y1",
         "z": [
          -4.3760953458509055,
          -4.3760953458509055
         ],
         "zmax": 0.1,
         "zmin": -0.1
        },
        {
         "colorbar": {
          "title": ""
         },
         "hoverinfo": "text",
         "legendgroup": "y33",
         "marker": {
          "color": "rgba(0, 0, 0, 1.000)",
          "line": {
           "color": "rgba(0, 0, 0, 1.000)",
           "width": 1
          },
          "size": 2,
          "symbol": "circle"
         },
         "mode": "markers",
         "name": "y33",
         "showlegend": true,
         "text": [
          null,
          null
         ],
         "type": "scatter3d",
         "x": [
          -5.71205925518903,
          -5.71205925518903
         ],
         "xaxis": "x1",
         "y": [
          11.42411851037806,
          11.42411851037806
         ],
         "yaxis": "y1",
         "z": [
          5.71205925518903,
          5.71205925518903
         ],
         "zmax": 0.1,
         "zmin": -0.1
        },
        {
         "colorbar": {
          "title": ""
         },
         "hoverinfo": "text",
         "legendgroup": "y34",
         "marker": {
          "color": "rgba(0, 0, 0, 1.000)",
          "line": {
           "color": "rgba(0, 0, 0, 1.000)",
           "width": 1
          },
          "size": 2,
          "symbol": "circle"
         },
         "mode": "markers",
         "name": "y34",
         "showlegend": true,
         "text": [
          null,
          null
         ],
         "type": "scatter3d",
         "x": [
          -4.713201591964259,
          -4.713201591964259
         ],
         "xaxis": "x1",
         "y": [
          5.475968773388897,
          5.475968773388897
         ],
         "yaxis": "y1",
         "z": [
          2.079578651604512,
          2.079578651604512
         ],
         "zmax": 0.1,
         "zmin": -0.1
        },
        {
         "colorbar": {
          "title": ""
         },
         "hoverinfo": "text",
         "legendgroup": "y35",
         "marker": {
          "color": "rgba(0, 0, 0, 1.000)",
          "line": {
           "color": "rgba(0, 0, 0, 1.000)",
           "width": 1
          },
          "size": 2,
          "symbol": "circle"
         },
         "mode": "markers",
         "name": "y35",
         "showlegend": true,
         "text": [
          null,
          null
         ],
         "type": "scatter3d",
         "x": [
          3.5327593731785916,
          3.5327593731785916
         ],
         "xaxis": "x1",
         "y": [
          -4.648171429545924,
          -4.648171429545924
         ],
         "yaxis": "y1",
         "z": [
          -1.9211944953044187,
          -1.9211944953044187
         ],
         "zmax": 0.1,
         "zmin": -0.1
        },
        {
         "colorbar": {
          "title": ""
         },
         "hoverinfo": "text",
         "legendgroup": "y36",
         "marker": {
          "color": "rgba(0, 0, 0, 1.000)",
          "line": {
           "color": "rgba(0, 0, 0, 1.000)",
           "width": 1
          },
          "size": 2,
          "symbol": "circle"
         },
         "mode": "markers",
         "name": "y36",
         "showlegend": true,
         "text": [
          null,
          null
         ],
         "type": "scatter3d",
         "x": [
          7.566379066611173,
          7.566379066611173
         ],
         "xaxis": "x1",
         "y": [
          9.330770215854283,
          9.330770215854283
         ],
         "yaxis": "y1",
         "z": [
          8.742639832773246,
          8.742639832773246
         ],
         "zmax": 0.1,
         "zmin": -0.1
        },
        {
         "colorbar": {
          "title": ""
         },
         "hoverinfo": "text",
         "legendgroup": "y37",
         "marker": {
          "color": "rgba(0, 0, 0, 1.000)",
          "line": {
           "color": "rgba(0, 0, 0, 1.000)",
           "width": 1
          },
          "size": 2,
          "symbol": "circle"
         },
         "mode": "markers",
         "name": "y37",
         "showlegend": true,
         "text": [
          null,
          null
         ],
         "type": "scatter3d",
         "x": [
          -8.316926001696409,
          -8.316926001696409
         ],
         "xaxis": "x1",
         "y": [
          0.25559226086908104,
          0.25559226086908104
         ],
         "yaxis": "y1",
         "z": [
          -2.6019138266527495,
          -2.6019138266527495
         ],
         "zmax": 0.1,
         "zmin": -0.1
        },
        {
         "colorbar": {
          "title": ""
         },
         "hoverinfo": "text",
         "legendgroup": "y38",
         "marker": {
          "color": "rgba(0, 0, 0, 1.000)",
          "line": {
           "color": "rgba(0, 0, 0, 1.000)",
           "width": 1
          },
          "size": 2,
          "symbol": "circle"
         },
         "mode": "markers",
         "name": "y38",
         "showlegend": true,
         "text": [
          null,
          null
         ],
         "type": "scatter3d",
         "x": [
          2.424399619969971,
          2.424399619969971
         ],
         "xaxis": "x1",
         "y": [
          -0.09915964889741335,
          -0.09915964889741335
         ],
         "yaxis": "y1",
         "z": [
          0.7420267740583815,
          0.7420267740583815
         ],
         "zmax": 0.1,
         "zmin": -0.1
        },
        {
         "colorbar": {
          "title": ""
         },
         "hoverinfo": "text",
         "legendgroup": "y39",
         "marker": {
          "color": "rgba(0, 0, 0, 1.000)",
          "line": {
           "color": "rgba(0, 0, 0, 1.000)",
           "width": 1
          },
          "size": 2,
          "symbol": "circle"
         },
         "mode": "markers",
         "name": "y39",
         "showlegend": true,
         "text": [
          null,
          null
         ],
         "type": "scatter3d",
         "x": [
          -3.894490975569322,
          -3.894490975569322
         ],
         "xaxis": "x1",
         "y": [
          5.255257404063952,
          5.255257404063952
         ],
         "yaxis": "y1",
         "z": [
          2.2053412775195276,
          2.2053412775195276
         ],
         "zmax": 0.1,
         "zmin": -0.1
        },
        {
         "colorbar": {
          "title": ""
         },
         "hoverinfo": "text",
         "legendgroup": "y40",
         "marker": {
          "color": "rgba(0, 0, 0, 1.000)",
          "line": {
           "color": "rgba(0, 0, 0, 1.000)",
           "width": 1
          },
          "size": 2,
          "symbol": "circle"
         },
         "mode": "markers",
         "name": "y40",
         "showlegend": true,
         "text": [
          null,
          null
         ],
         "type": "scatter3d",
         "x": [
          -11.889398275493217,
          -11.889398275493217
         ],
         "xaxis": "x1",
         "y": [
          -4.39555669435193,
          -4.39555669435193
         ],
         "yaxis": "y1",
         "z": [
          -6.893503888065692,
          -6.893503888065692
         ],
         "zmax": 0.1,
         "zmin": -0.1
        },
        {
         "colorbar": {
          "title": ""
         },
         "hoverinfo": "text",
         "legendgroup": "y41",
         "marker": {
          "color": "rgba(0, 0, 0, 1.000)",
          "line": {
           "color": "rgba(0, 0, 0, 1.000)",
           "width": 1
          },
          "size": 2,
          "symbol": "circle"
         },
         "mode": "markers",
         "name": "y41",
         "showlegend": true,
         "text": [
          null,
          null
         ],
         "type": "scatter3d",
         "x": [
          0.8329314469190305,
          0.8329314469190305
         ],
         "xaxis": "x1",
         "y": [
          -1.665862893838061,
          -1.665862893838061
         ],
         "yaxis": "y1",
         "z": [
          -0.8329314469190305,
          -0.8329314469190305
         ],
         "zmax": 0.1,
         "zmin": -0.1
        },
        {
         "colorbar": {
          "title": ""
         },
         "hoverinfo": "text",
         "legendgroup": "y42",
         "marker": {
          "color": "rgba(0, 0, 0, 1.000)",
          "line": {
           "color": "rgba(0, 0, 0, 1.000)",
           "width": 1
          },
          "size": 2,
          "symbol": "circle"
         },
         "mode": "markers",
         "name": "y42",
         "showlegend": true,
         "text": [
          null,
          null
         ],
         "type": "scatter3d",
         "x": [
          2.1870648457334303,
          2.1870648457334303
         ],
         "xaxis": "x1",
         "y": [
          -1.665997421786166,
          -1.665997421786166
         ],
         "yaxis": "y1",
         "z": [
          -0.3816433326129671,
          -0.3816433326129671
         ],
         "zmax": 0.1,
         "zmin": -0.1
        },
        {
         "colorbar": {
          "title": ""
         },
         "hoverinfo": "text",
         "legendgroup": "y43",
         "marker": {
          "color": "rgba(0, 0, 0, 1.000)",
          "line": {
           "color": "rgba(0, 0, 0, 1.000)",
           "width": 1
          },
          "size": 2,
          "symbol": "circle"
         },
         "mode": "markers",
         "name": "y43",
         "showlegend": true,
         "text": [
          null,
          null
         ],
         "type": "scatter3d",
         "x": [
          -10.495350375739354,
          -10.495350375739354
         ],
         "xaxis": "x1",
         "y": [
          -1.5572283180121542,
          -1.5572283180121542
         ],
         "yaxis": "y1",
         "z": [
          -4.536602337254554,
          -4.536602337254554
         ],
         "zmax": 0.1,
         "zmin": -0.1
        },
        {
         "colorbar": {
          "title": ""
         },
         "hoverinfo": "text",
         "legendgroup": "y44",
         "marker": {
          "color": "rgba(0, 0, 0, 1.000)",
          "line": {
           "color": "rgba(0, 0, 0, 1.000)",
           "width": 1
          },
          "size": 2,
          "symbol": "circle"
         },
         "mode": "markers",
         "name": "y44",
         "showlegend": true,
         "text": [
          null,
          null
         ],
         "type": "scatter3d",
         "x": [
          3.3965648809694757,
          3.3965648809694757
         ],
         "xaxis": "x1",
         "y": [
          12.98874678004927,
          12.98874678004927
         ],
         "yaxis": "y1",
         "z": [
          9.79135281368934,
          9.79135281368934
         ],
         "zmax": 0.1,
         "zmin": -0.1
        },
        {
         "colorbar": {
          "title": ""
         },
         "hoverinfo": "text",
         "legendgroup": "y45",
         "marker": {
          "color": "rgba(0, 0, 0, 1.000)",
          "line": {
           "color": "rgba(0, 0, 0, 1.000)",
           "width": 1
          },
          "size": 2,
          "symbol": "circle"
         },
         "mode": "markers",
         "name": "y45",
         "showlegend": true,
         "text": [
          null,
          null
         ],
         "type": "scatter3d",
         "x": [
          -1.2154309398179086,
          -1.2154309398179086
         ],
         "xaxis": "x1",
         "y": [
          -1.20016449721602,
          -1.20016449721602
         ],
         "yaxis": "y1",
         "z": [
          -1.2052533114166495,
          -1.2052533114166495
         ],
         "zmax": 0.1,
         "zmin": -0.1
        },
        {
         "colorbar": {
          "title": ""
         },
         "hoverinfo": "text",
         "legendgroup": "y46",
         "marker": {
          "color": "rgba(0, 0, 0, 1.000)",
          "line": {
           "color": "rgba(0, 0, 0, 1.000)",
           "width": 1
          },
          "size": 2,
          "symbol": "circle"
         },
         "mode": "markers",
         "name": "y46",
         "showlegend": true,
         "text": [
          null,
          null
         ],
         "type": "scatter3d",
         "x": [
          -4.640762555609408,
          -4.640762555609408
         ],
         "xaxis": "x1",
         "y": [
          -2.058416553079385,
          -2.058416553079385
         ],
         "yaxis": "y1",
         "z": [
          -2.919198553922726,
          -2.919198553922726
         ],
         "zmax": 0.1,
         "zmin": -0.1
        },
        {
         "colorbar": {
          "title": ""
         },
         "hoverinfo": "text",
         "legendgroup": "y47",
         "marker": {
          "color": "rgba(0, 0, 0, 1.000)",
          "line": {
           "color": "rgba(0, 0, 0, 1.000)",
           "width": 1
          },
          "size": 2,
          "symbol": "circle"
         },
         "mode": "markers",
         "name": "y47",
         "showlegend": true,
         "text": [
          null,
          null
         ],
         "type": "scatter3d",
         "x": [
          -0.689609131259397,
          -0.689609131259397
         ],
         "xaxis": "x1",
         "y": [
          7.493942271144942,
          7.493942271144942
         ],
         "yaxis": "y1",
         "z": [
          4.7660918036768285,
          4.7660918036768285
         ],
         "zmax": 0.1,
         "zmin": -0.1
        },
        {
         "colorbar": {
          "title": ""
         },
         "hoverinfo": "text",
         "legendgroup": "y48",
         "marker": {
          "color": "rgba(0, 0, 0, 1.000)",
          "line": {
           "color": "rgba(0, 0, 0, 1.000)",
           "width": 1
          },
          "size": 2,
          "symbol": "circle"
         },
         "mode": "markers",
         "name": "y48",
         "showlegend": true,
         "text": [
          null,
          null
         ],
         "type": "scatter3d",
         "x": [
          -7.781282937709562,
          -7.781282937709562
         ],
         "xaxis": "x1",
         "y": [
          1.3013552899195506,
          1.3013552899195506
         ],
         "yaxis": "y1",
         "z": [
          -1.72619078595682,
          -1.72619078595682
         ],
         "zmax": 0.1,
         "zmin": -0.1
        },
        {
         "colorbar": {
          "title": ""
         },
         "hoverinfo": "text",
         "legendgroup": "y49",
         "marker": {
          "color": "rgba(0, 0, 0, 1.000)",
          "line": {
           "color": "rgba(0, 0, 0, 1.000)",
           "width": 1
          },
          "size": 2,
          "symbol": "circle"
         },
         "mode": "markers",
         "name": "y49",
         "showlegend": true,
         "text": [
          null,
          null
         ],
         "type": "scatter3d",
         "x": [
          6.204245023571003,
          6.204245023571003
         ],
         "xaxis": "x1",
         "y": [
          -3.4076535912624273,
          -3.4076535912624273
         ],
         "yaxis": "y1",
         "z": [
          -0.20368738631795047,
          -0.20368738631795047
         ],
         "zmax": 0.1,
         "zmin": -0.1
        },
        {
         "colorbar": {
          "title": ""
         },
         "hoverinfo": "text",
         "legendgroup": "y50",
         "marker": {
          "color": "rgba(0, 0, 0, 1.000)",
          "line": {
           "color": "rgba(0, 0, 0, 1.000)",
           "width": 1
          },
          "size": 2,
          "symbol": "circle"
         },
         "mode": "markers",
         "name": "y50",
         "showlegend": true,
         "text": [
          null,
          null
         ],
         "type": "scatter3d",
         "x": [
          5.196626405942892,
          5.196626405942892
         ],
         "xaxis": "x1",
         "y": [
          11.268455207651119,
          11.268455207651119
         ],
         "yaxis": "y1",
         "z": [
          9.244512273748377,
          9.244512273748377
         ],
         "zmax": 0.1,
         "zmin": -0.1
        },
        {
         "colorbar": {
          "title": ""
         },
         "hoverinfo": "text",
         "legendgroup": "y51",
         "marker": {
          "color": "rgba(0, 0, 0, 1.000)",
          "line": {
           "color": "rgba(0, 0, 0, 1.000)",
           "width": 1
          },
          "size": 2,
          "symbol": "circle"
         },
         "mode": "markers",
         "name": "y51",
         "showlegend": true,
         "text": [
          null,
          null
         ],
         "type": "scatter3d",
         "x": [
          -8.282673792044749,
          -8.282673792044749
         ],
         "xaxis": "x1",
         "y": [
          -4.693681114257282,
          -4.693681114257282
         ],
         "yaxis": "y1",
         "z": [
          -5.890012006853103,
          -5.890012006853103
         ],
         "zmax": 0.1,
         "zmin": -0.1
        },
        {
         "colorbar": {
          "title": ""
         },
         "hoverinfo": "text",
         "legendgroup": "y52",
         "marker": {
          "color": "rgba(0, 0, 0, 1.000)",
          "line": {
           "color": "rgba(0, 0, 0, 1.000)",
           "width": 1
          },
          "size": 2,
          "symbol": "circle"
         },
         "mode": "markers",
         "name": "y52",
         "showlegend": true,
         "text": [
          null,
          null
         ],
         "type": "scatter3d",
         "x": [
          5.608689689751342,
          5.608689689751342
         ],
         "xaxis": "x1",
         "y": [
          -9.991334181356999,
          -9.991334181356999
         ],
         "yaxis": "y1",
         "z": [
          -4.791326224320885,
          -4.791326224320885
         ],
         "zmax": 0.1,
         "zmin": -0.1
        },
        {
         "colorbar": {
          "title": ""
         },
         "hoverinfo": "text",
         "legendgroup": "y53",
         "marker": {
          "color": "rgba(0, 0, 0, 1.000)",
          "line": {
           "color": "rgba(0, 0, 0, 1.000)",
           "width": 1
          },
          "size": 2,
          "symbol": "circle"
         },
         "mode": "markers",
         "name": "y53",
         "showlegend": true,
         "text": [
          null,
          null
         ],
         "type": "scatter3d",
         "x": [
          -12.513515935562669,
          -12.513515935562669
         ],
         "xaxis": "x1",
         "y": [
          1.04105638159343,
          1.04105638159343
         ],
         "yaxis": "y1",
         "z": [
          -3.477134390791936,
          -3.477134390791936
         ],
         "zmax": 0.1,
         "zmin": -0.1
        },
        {
         "colorbar": {
          "title": ""
         },
         "hoverinfo": "text",
         "legendgroup": "y54",
         "marker": {
          "color": "rgba(0, 0, 0, 1.000)",
          "line": {
           "color": "rgba(0, 0, 0, 1.000)",
           "width": 1
          },
          "size": 2,
          "symbol": "circle"
         },
         "mode": "markers",
         "name": "y54",
         "showlegend": true,
         "text": [
          null,
          null
         ],
         "type": "scatter3d",
         "x": [
          -12.253494857641499,
          -12.253494857641499
         ],
         "xaxis": "x1",
         "y": [
          9.449039753241896,
          9.449039753241896
         ],
         "yaxis": "y1",
         "z": [
          2.2148615496140978,
          2.2148615496140978
         ],
         "zmax": 0.1,
         "zmin": -0.1
        },
        {
         "colorbar": {
          "title": ""
         },
         "hoverinfo": "text",
         "legendgroup": "y55",
         "marker": {
          "color": "rgba(0, 0, 0, 1.000)",
          "line": {
           "color": "rgba(0, 0, 0, 1.000)",
           "width": 1
          },
          "size": 2,
          "symbol": "circle"
         },
         "mode": "markers",
         "name": "y55",
         "showlegend": true,
         "text": [
          null,
          null
         ],
         "type": "scatter3d",
         "x": [
          4.381515353737897,
          4.381515353737897
         ],
         "xaxis": "x1",
         "y": [
          -13.010189623716034,
          -13.010189623716034
         ],
         "yaxis": "y1",
         "z": [
          -7.212954631231391,
          -7.212954631231391
         ],
         "zmax": 0.1,
         "zmin": -0.1
        },
        {
         "colorbar": {
          "title": ""
         },
         "hoverinfo": "text",
         "legendgroup": "y56",
         "marker": {
          "color": "rgba(0, 0, 0, 1.000)",
          "line": {
           "color": "rgba(0, 0, 0, 1.000)",
           "width": 1
          },
          "size": 2,
          "symbol": "circle"
         },
         "mode": "markers",
         "name": "y56",
         "showlegend": true,
         "text": [
          null,
          null
         ],
         "type": "scatter3d",
         "x": [
          -1.6066397757151547,
          -1.6066397757151547
         ],
         "xaxis": "x1",
         "y": [
          -1.4764609184667759,
          -1.4764609184667759
         ],
         "yaxis": "y1",
         "z": [
          -1.5198538708829021,
          -1.5198538708829021
         ],
         "zmax": 0.1,
         "zmin": -0.1
        },
        {
         "colorbar": {
          "title": ""
         },
         "hoverinfo": "text",
         "legendgroup": "y57",
         "marker": {
          "color": "rgba(0, 0, 0, 1.000)",
          "line": {
           "color": "rgba(0, 0, 0, 1.000)",
           "width": 1
          },
          "size": 2,
          "symbol": "circle"
         },
         "mode": "markers",
         "name": "y57",
         "showlegend": true,
         "text": [
          null,
          null
         ],
         "type": "scatter3d",
         "x": [
          13.939366141956352,
          13.939366141956352
         ],
         "xaxis": "x1",
         "y": [
          13.429696773032008,
          13.429696773032008
         ],
         "yaxis": "y1",
         "z": [
          13.599586562673455,
          13.599586562673455
         ],
         "zmax": 0.1,
         "zmin": -0.1
        },
        {
         "colorbar": {
          "title": ""
         },
         "hoverinfo": "text",
         "legendgroup": "y58",
         "marker": {
          "color": "rgba(0, 0, 0, 1.000)",
          "line": {
           "color": "rgba(0, 0, 0, 1.000)",
           "width": 1
          },
          "size": 2,
          "symbol": "circle"
         },
         "mode": "markers",
         "name": "y58",
         "showlegend": true,
         "text": [
          null,
          null
         ],
         "type": "scatter3d",
         "x": [
          0.876563604011122,
          0.876563604011122
         ],
         "xaxis": "x1",
         "y": [
          -8.233248579085023,
          -8.233248579085023
         ],
         "yaxis": "y1",
         "z": [
          -5.196644518052975,
          -5.196644518052975
         ],
         "zmax": 0.1,
         "zmin": -0.1
        },
        {
         "colorbar": {
          "title": ""
         },
         "hoverinfo": "text",
         "legendgroup": "y59",
         "marker": {
          "color": "rgba(0, 0, 0, 1.000)",
          "line": {
           "color": "rgba(0, 0, 0, 1.000)",
           "width": 1
          },
          "size": 2,
          "symbol": "circle"
         },
         "mode": "markers",
         "name": "y59",
         "showlegend": true,
         "text": [
          null,
          null
         ],
         "type": "scatter3d",
         "x": [
          12.117158320178994,
          12.117158320178994
         ],
         "xaxis": "x1",
         "y": [
          1.92100365910074,
          1.92100365910074
         ],
         "yaxis": "y1",
         "z": [
          5.3197218794601575,
          5.3197218794601575
         ],
         "zmax": 0.1,
         "zmin": -0.1
        },
        {
         "colorbar": {
          "title": ""
         },
         "hoverinfo": "text",
         "legendgroup": "y60",
         "marker": {
          "color": "rgba(0, 0, 0, 1.000)",
          "line": {
           "color": "rgba(0, 0, 0, 1.000)",
           "width": 1
          },
          "size": 2,
          "symbol": "circle"
         },
         "mode": "markers",
         "name": "y60",
         "showlegend": true,
         "text": [
          null,
          null
         ],
         "type": "scatter3d",
         "x": [
          -5.670911527183522,
          -5.670911527183522
         ],
         "xaxis": "x1",
         "y": [
          7.50244090909357,
          7.50244090909357
         ],
         "yaxis": "y1",
         "z": [
          3.111323430334539,
          3.111323430334539
         ],
         "zmax": 0.1,
         "zmin": -0.1
        },
        {
         "colorbar": {
          "title": ""
         },
         "hoverinfo": "text",
         "legendgroup": "y61",
         "marker": {
          "color": "rgba(0, 0, 0, 1.000)",
          "line": {
           "color": "rgba(0, 0, 0, 1.000)",
           "width": 1
          },
          "size": 2,
          "symbol": "circle"
         },
         "mode": "markers",
         "name": "y61",
         "showlegend": true,
         "text": [
          null,
          null
         ],
         "type": "scatter3d",
         "x": [
          -7.304445644025174,
          -7.304445644025174
         ],
         "xaxis": "x1",
         "y": [
          -3.3548028137936257,
          -3.3548028137936257
         ],
         "yaxis": "y1",
         "z": [
          -4.671350423870809,
          -4.671350423870809
         ],
         "zmax": 0.1,
         "zmin": -0.1
        },
        {
         "colorbar": {
          "title": ""
         },
         "hoverinfo": "text",
         "legendgroup": "y62",
         "marker": {
          "color": "rgba(0, 0, 0, 1.000)",
          "line": {
           "color": "rgba(0, 0, 0, 1.000)",
           "width": 1
          },
          "size": 2,
          "symbol": "circle"
         },
         "mode": "markers",
         "name": "y62",
         "showlegend": true,
         "text": [
          null,
          null
         ],
         "type": "scatter3d",
         "x": [
          1.2382179142905279,
          1.2382179142905279
         ],
         "xaxis": "x1",
         "y": [
          -4.483676276132151,
          -4.483676276132151
         ],
         "yaxis": "y1",
         "z": [
          -2.5763782126579247,
          -2.5763782126579247
         ],
         "zmax": 0.1,
         "zmin": -0.1
        },
        {
         "colorbar": {
          "title": ""
         },
         "hoverinfo": "text",
         "legendgroup": "y63",
         "marker": {
          "color": "rgba(0, 0, 0, 1.000)",
          "line": {
           "color": "rgba(0, 0, 0, 1.000)",
           "width": 1
          },
          "size": 2,
          "symbol": "circle"
         },
         "mode": "markers",
         "name": "y63",
         "showlegend": true,
         "text": [
          null,
          null
         ],
         "type": "scatter3d",
         "x": [
          -8.219967309468986,
          -8.219967309468986
         ],
         "xaxis": "x1",
         "y": [
          12.289840378783605,
          12.289840378783605
         ],
         "yaxis": "y1",
         "z": [
          5.4532378160327415,
          5.4532378160327415
         ],
         "zmax": 0.1,
         "zmin": -0.1
        },
        {
         "colorbar": {
          "title": ""
         },
         "hoverinfo": "text",
         "legendgroup": "y64",
         "marker": {
          "color": "rgba(0, 0, 0, 1.000)",
          "line": {
           "color": "rgba(0, 0, 0, 1.000)",
           "width": 1
          },
          "size": 2,
          "symbol": "circle"
         },
         "mode": "markers",
         "name": "y64",
         "showlegend": true,
         "text": [
          null,
          null
         ],
         "type": "scatter3d",
         "x": [
          8.188377314660539,
          8.188377314660539
         ],
         "xaxis": "x1",
         "y": [
          -7.923414787466156,
          -7.923414787466156
         ],
         "yaxis": "y1",
         "z": [
          -2.5528174200905913,
          -2.5528174200905913
         ],
         "zmax": 0.1,
         "zmin": -0.1
        },
        {
         "colorbar": {
          "title": ""
         },
         "hoverinfo": "text",
         "legendgroup": "y65",
         "marker": {
          "color": "rgba(0, 0, 0, 1.000)",
          "line": {
           "color": "rgba(0, 0, 0, 1.000)",
           "width": 1
          },
          "size": 2,
          "symbol": "circle"
         },
         "mode": "markers",
         "name": "y65",
         "showlegend": true,
         "text": [
          null,
          null
         ],
         "type": "scatter3d",
         "x": [
          6.03756244710919,
          6.03756244710919
         ],
         "xaxis": "x1",
         "y": [
          -8.033883826319746,
          -8.033883826319746
         ],
         "yaxis": "y1",
         "z": [
          -3.3434017351767675,
          -3.3434017351767675
         ],
         "zmax": 0.1,
         "zmin": -0.1
        },
        {
         "colorbar": {
          "title": ""
         },
         "hoverinfo": "text",
         "legendgroup": "y66",
         "marker": {
          "color": "rgba(0, 0, 0, 1.000)",
          "line": {
           "color": "rgba(0, 0, 0, 1.000)",
           "width": 1
          },
          "size": 2,
          "symbol": "circle"
         },
         "mode": "markers",
         "name": "y66",
         "showlegend": true,
         "text": [
          null,
          null
         ],
         "type": "scatter3d",
         "x": [
          10.320949314978979,
          10.320949314978979
         ],
         "xaxis": "x1",
         "y": [
          0,
          0
         ],
         "yaxis": "y1",
         "z": [
          3.4403164383263265,
          3.4403164383263265
         ],
         "zmax": 0.1,
         "zmin": -0.1
        },
        {
         "colorbar": {
          "title": ""
         },
         "hoverinfo": "text",
         "legendgroup": "y67",
         "marker": {
          "color": "rgba(0, 0, 0, 1.000)",
          "line": {
           "color": "rgba(0, 0, 0, 1.000)",
           "width": 1
          },
          "size": 2,
          "symbol": "circle"
         },
         "mode": "markers",
         "name": "y67",
         "showlegend": true,
         "text": [
          null,
          null
         ],
         "type": "scatter3d",
         "x": [
          -8.248558622193379,
          -8.248558622193379
         ],
         "xaxis": "x1",
         "y": [
          4.657268308650792,
          4.657268308650792
         ],
         "yaxis": "y1",
         "z": [
          0.3553259983694017,
          0.3553259983694017
         ],
         "zmax": 0.1,
         "zmin": -0.1
        },
        {
         "colorbar": {
          "title": ""
         },
         "hoverinfo": "text",
         "legendgroup": "y68",
         "marker": {
          "color": "rgba(0, 0, 0, 1.000)",
          "line": {
           "color": "rgba(0, 0, 0, 1.000)",
           "width": 1
          },
          "size": 2,
          "symbol": "circle"
         },
         "mode": "markers",
         "name": "y68",
         "showlegend": true,
         "text": [
          null,
          null
         ],
         "type": "scatter3d",
         "x": [
          1.4331111841563775,
          1.4331111841563775
         ],
         "xaxis": "x1",
         "y": [
          1.8483889473751347,
          1.8483889473751347
         ],
         "yaxis": "y1",
         "z": [
          1.7099630263022156,
          1.7099630263022156
         ],
         "zmax": 0.1,
         "zmin": -0.1
        },
        {
         "colorbar": {
          "title": ""
         },
         "hoverinfo": "text",
         "legendgroup": "y69",
         "marker": {
          "color": "rgba(0, 0, 0, 1.000)",
          "line": {
           "color": "rgba(0, 0, 0, 1.000)",
           "width": 1
          },
          "size": 2,
          "symbol": "circle"
         },
         "mode": "markers",
         "name": "y69",
         "showlegend": true,
         "text": [
          null,
          null
         ],
         "type": "scatter3d",
         "x": [
          -8.285613570181953,
          -8.285613570181953
         ],
         "xaxis": "x1",
         "y": [
          -1.874789349996079,
          -1.874789349996079
         ],
         "yaxis": "y1",
         "z": [
          -4.011730756724703,
          -4.011730756724703
         ],
         "zmax": 0.1,
         "zmin": -0.1
        },
        {
         "colorbar": {
          "title": ""
         },
         "hoverinfo": "text",
         "legendgroup": "y70",
         "marker": {
          "color": "rgba(0, 0, 0, 1.000)",
          "line": {
           "color": "rgba(0, 0, 0, 1.000)",
           "width": 1
          },
          "size": 2,
          "symbol": "circle"
         },
         "mode": "markers",
         "name": "y70",
         "showlegend": true,
         "text": [
          null,
          null
         ],
         "type": "scatter3d",
         "x": [
          -12.649113393364557,
          -12.649113393364557
         ],
         "xaxis": "x1",
         "y": [
          -11.513656556794206,
          -11.513656556794206
         ],
         "yaxis": "y1",
         "z": [
          -11.892142168984323,
          -11.892142168984323
         ],
         "zmax": 0.1,
         "zmin": -0.1
        },
        {
         "colorbar": {
          "title": ""
         },
         "hoverinfo": "text",
         "legendgroup": "y71",
         "marker": {
          "color": "rgba(0, 0, 0, 1.000)",
          "line": {
           "color": "rgba(0, 0, 0, 1.000)",
           "width": 1
          },
          "size": 2,
          "symbol": "circle"
         },
         "mode": "markers",
         "name": "y71",
         "showlegend": true,
         "text": [
          null,
          null
         ],
         "type": "scatter3d",
         "x": [
          -5.38347308083668,
          -5.38347308083668
         ],
         "xaxis": "x1",
         "y": [
          9.301566743554558,
          9.301566743554558
         ],
         "yaxis": "y1",
         "z": [
          4.406553468757479,
          4.406553468757479
         ],
         "zmax": 0.1,
         "zmin": -0.1
        },
        {
         "colorbar": {
          "title": ""
         },
         "hoverinfo": "text",
         "legendgroup": "y72",
         "marker": {
          "color": "rgba(0, 0, 0, 1.000)",
          "line": {
           "color": "rgba(0, 0, 0, 1.000)",
           "width": 1
          },
          "size": 2,
          "symbol": "circle"
         },
         "mode": "markers",
         "name": "y72",
         "showlegend": true,
         "text": [
          null,
          null
         ],
         "type": "scatter3d",
         "x": [
          -0.9734173172607936,
          -0.9734173172607936
         ],
         "xaxis": "x1",
         "y": [
          5.190121322083529,
          5.190121322083529
         ],
         "yaxis": "y1",
         "z": [
          3.1356084423020882,
          3.1356084423020882
         ],
         "zmax": 0.1,
         "zmin": -0.1
        },
        {
         "colorbar": {
          "title": ""
         },
         "hoverinfo": "text",
         "legendgroup": "y73",
         "marker": {
          "color": "rgba(0, 0, 0, 1.000)",
          "line": {
           "color": "rgba(0, 0, 0, 1.000)",
           "width": 1
          },
          "size": 2,
          "symbol": "circle"
         },
         "mode": "markers",
         "name": "y73",
         "showlegend": true,
         "text": [
          null,
          null
         ],
         "type": "scatter3d",
         "x": [
          3.8404209787912165,
          3.8404209787912165
         ],
         "xaxis": "x1",
         "y": [
          -2.575553023761498,
          -2.575553023761498
         ],
         "yaxis": "y1",
         "z": [
          -0.436895022910593,
          -0.436895022910593
         ],
         "zmax": 0.1,
         "zmin": -0.1
        },
        {
         "colorbar": {
          "title": ""
         },
         "hoverinfo": "text",
         "legendgroup": "y74",
         "marker": {
          "color": "rgba(0, 0, 0, 1.000)",
          "line": {
           "color": "rgba(0, 0, 0, 1.000)",
           "width": 1
          },
          "size": 2,
          "symbol": "circle"
         },
         "mode": "markers",
         "name": "y74",
         "showlegend": true,
         "text": [
          null,
          null
         ],
         "type": "scatter3d",
         "x": [
          -11.552132409790634,
          -11.552132409790634
         ],
         "xaxis": "x1",
         "y": [
          13.330480774171164,
          13.330480774171164
         ],
         "yaxis": "y1",
         "z": [
          5.036276379517232,
          5.036276379517232
         ],
         "zmax": 0.1,
         "zmin": -0.1
        },
        {
         "colorbar": {
          "title": ""
         },
         "hoverinfo": "text",
         "legendgroup": "y75",
         "marker": {
          "color": "rgba(0, 0, 0, 1.000)",
          "line": {
           "color": "rgba(0, 0, 0, 1.000)",
           "width": 1
          },
          "size": 2,
          "symbol": "circle"
         },
         "mode": "markers",
         "name": "y75",
         "showlegend": true,
         "text": [
          null,
          null
         ],
         "type": "scatter3d",
         "x": [
          -8.563341743168714,
          -8.563341743168714
         ],
         "xaxis": "x1",
         "y": [
          6.017664564369861,
          6.017664564369861
         ],
         "yaxis": "y1",
         "z": [
          1.1573291285236698,
          1.1573291285236698
         ],
         "zmax": 0.1,
         "zmin": -0.1
        },
        {
         "colorbar": {
          "title": ""
         },
         "hoverinfo": "text",
         "legendgroup": "y76",
         "marker": {
          "color": "rgba(0, 0, 0, 1.000)",
          "line": {
           "color": "rgba(0, 0, 0, 1.000)",
           "width": 1
          },
          "size": 2,
          "symbol": "circle"
         },
         "mode": "markers",
         "name": "y76",
         "showlegend": true,
         "text": [
          null,
          null
         ],
         "type": "scatter3d",
         "x": [
          -3.07500630570751,
          -3.07500630570751
         ],
         "xaxis": "x1",
         "y": [
          -3.2242861386782242,
          -3.2242861386782242
         ],
         "yaxis": "y1",
         "z": [
          -3.1745261943546526,
          -3.1745261943546526
         ],
         "zmax": 0.1,
         "zmin": -0.1
        },
        {
         "colorbar": {
          "title": ""
         },
         "hoverinfo": "text",
         "legendgroup": "y77",
         "marker": {
          "color": "rgba(0, 0, 0, 1.000)",
          "line": {
           "color": "rgba(0, 0, 0, 1.000)",
           "width": 1
          },
          "size": 2,
          "symbol": "circle"
         },
         "mode": "markers",
         "name": "y77",
         "showlegend": true,
         "text": [
          null,
          null
         ],
         "type": "scatter3d",
         "x": [
          -3.3958937270234837,
          -3.3958937270234837
         ],
         "xaxis": "x1",
         "y": [
          9.656488349834309,
          9.656488349834309
         ],
         "yaxis": "y1",
         "z": [
          5.305694324215045,
          5.305694324215045
         ],
         "zmax": 0.1,
         "zmin": -0.1
        },
        {
         "colorbar": {
          "title": ""
         },
         "hoverinfo": "text",
         "legendgroup": "y78",
         "marker": {
          "color": "rgba(0, 0, 0, 1.000)",
          "line": {
           "color": "rgba(0, 0, 0, 1.000)",
           "width": 1
          },
          "size": 2,
          "symbol": "circle"
         },
         "mode": "markers",
         "name": "y78",
         "showlegend": true,
         "text": [
          null,
          null
         ],
         "type": "scatter3d",
         "x": [
          8.105277170720537,
          8.105277170720537
         ],
         "xaxis": "x1",
         "y": [
          2.0464363325721315,
          2.0464363325721315
         ],
         "yaxis": "y1",
         "z": [
          4.066049945288267,
          4.066049945288267
         ],
         "zmax": 0.1,
         "zmin": -0.1
        },
        {
         "colorbar": {
          "title": ""
         },
         "hoverinfo": "text",
         "legendgroup": "y79",
         "marker": {
          "color": "rgba(0, 0, 0, 1.000)",
          "line": {
           "color": "rgba(0, 0, 0, 1.000)",
           "width": 1
          },
          "size": 2,
          "symbol": "circle"
         },
         "mode": "markers",
         "name": "y79",
         "showlegend": true,
         "text": [
          null,
          null
         ],
         "type": "scatter3d",
         "x": [
          -2.28606471098748,
          -2.28606471098748
         ],
         "xaxis": "x1",
         "y": [
          5.994884958701898,
          5.994884958701898
         ],
         "yaxis": "y1",
         "z": [
          3.2345684021387724,
          3.2345684021387724
         ],
         "zmax": 0.1,
         "zmin": -0.1
        },
        {
         "colorbar": {
          "title": ""
         },
         "hoverinfo": "text",
         "legendgroup": "y80",
         "marker": {
          "color": "rgba(0, 0, 0, 1.000)",
          "line": {
           "color": "rgba(0, 0, 0, 1.000)",
           "width": 1
          },
          "size": 2,
          "symbol": "circle"
         },
         "mode": "markers",
         "name": "y80",
         "showlegend": true,
         "text": [
          null,
          null
         ],
         "type": "scatter3d",
         "x": [
          2.04758171861085,
          2.04758171861085
         ],
         "xaxis": "x1",
         "y": [
          -5.232285730365586,
          -5.232285730365586
         ],
         "yaxis": "y1",
         "z": [
          -2.805663247373441,
          -2.805663247373441
         ],
         "zmax": 0.1,
         "zmin": -0.1
        },
        {
         "colorbar": {
          "title": ""
         },
         "hoverinfo": "text",
         "legendgroup": "y81",
         "marker": {
          "color": "rgba(0, 0, 0, 1.000)",
          "line": {
           "color": "rgba(0, 0, 0, 1.000)",
           "width": 1
          },
          "size": 2,
          "symbol": "circle"
         },
         "mode": "markers",
         "name": "y81",
         "showlegend": true,
         "text": [
          null,
          null
         ],
         "type": "scatter3d",
         "x": [
          8.50058566329238,
          8.50058566329238
         ],
         "xaxis": "x1",
         "y": [
          -12.579977162690007,
          -12.579977162690007
         ],
         "yaxis": "y1",
         "z": [
          -5.5531228873625444,
          -5.5531228873625444
         ],
         "zmax": 0.1,
         "zmin": -0.1
        },
        {
         "colorbar": {
          "title": ""
         },
         "hoverinfo": "text",
         "legendgroup": "y82",
         "marker": {
          "color": "rgba(0, 0, 0, 1.000)",
          "line": {
           "color": "rgba(0, 0, 0, 1.000)",
           "width": 1
          },
          "size": 2,
          "symbol": "circle"
         },
         "mode": "markers",
         "name": "y82",
         "showlegend": true,
         "text": [
          null,
          null
         ],
         "type": "scatter3d",
         "x": [
          0.5723654406304686,
          0.5723654406304686
         ],
         "xaxis": "x1",
         "y": [
          9.589341958297318,
          9.589341958297318
         ],
         "yaxis": "y1",
         "z": [
          6.583683119075035,
          6.583683119075035
         ],
         "zmax": 0.1,
         "zmin": -0.1
        },
        {
         "colorbar": {
          "title": ""
         },
         "hoverinfo": "text",
         "legendgroup": "y83",
         "marker": {
          "color": "rgba(0, 0, 0, 1.000)",
          "line": {
           "color": "rgba(0, 0, 0, 1.000)",
           "width": 1
          },
          "size": 2,
          "symbol": "circle"
         },
         "mode": "markers",
         "name": "y83",
         "showlegend": true,
         "text": [
          null,
          null
         ],
         "type": "scatter3d",
         "x": [
          -2.179897532231343,
          -2.179897532231343
         ],
         "xaxis": "x1",
         "y": [
          9.560770222973012,
          9.560770222973012
         ],
         "yaxis": "y1",
         "z": [
          5.647214304571561,
          5.647214304571561
         ],
         "zmax": 0.1,
         "zmin": -0.1
        },
        {
         "colorbar": {
          "title": ""
         },
         "hoverinfo": "text",
         "legendgroup": "y84",
         "marker": {
          "color": "rgba(0, 0, 0, 1.000)",
          "line": {
           "color": "rgba(0, 0, 0, 1.000)",
           "width": 1
          },
          "size": 2,
          "symbol": "circle"
         },
         "mode": "markers",
         "name": "y84",
         "showlegend": true,
         "text": [
          null,
          null
         ],
         "type": "scatter3d",
         "x": [
          -4.058103905602024,
          -4.058103905602024
         ],
         "xaxis": "x1",
         "y": [
          0.25589738133234974,
          0.25589738133234974
         ],
         "yaxis": "y1",
         "z": [
          -1.1821030476457748,
          -1.1821030476457748
         ],
         "zmax": 0.1,
         "zmin": -0.1
        },
        {
         "colorbar": {
          "title": ""
         },
         "hoverinfo": "text",
         "legendgroup": "y85",
         "marker": {
          "color": "rgba(0, 0, 0, 1.000)",
          "line": {
           "color": "rgba(0, 0, 0, 1.000)",
           "width": 1
          },
          "size": 2,
          "symbol": "circle"
         },
         "mode": "markers",
         "name": "y85",
         "showlegend": true,
         "text": [
          null,
          null
         ],
         "type": "scatter3d",
         "x": [
          -1.5527669931750763,
          -1.5527669931750763
         ],
         "xaxis": "x1",
         "y": [
          0,
          0
         ],
         "yaxis": "y1",
         "z": [
          -0.5175889977250254,
          -0.5175889977250254
         ],
         "zmax": 0.1,
         "zmin": -0.1
        },
        {
         "colorbar": {
          "title": ""
         },
         "hoverinfo": "text",
         "legendgroup": "y86",
         "marker": {
          "color": "rgba(0, 0, 0, 1.000)",
          "line": {
           "color": "rgba(0, 0, 0, 1.000)",
           "width": 1
          },
          "size": 2,
          "symbol": "circle"
         },
         "mode": "markers",
         "name": "y86",
         "showlegend": true,
         "text": [
          null,
          null
         ],
         "type": "scatter3d",
         "x": [
          -4.113442887368228,
          -4.113442887368228
         ],
         "xaxis": "x1",
         "y": [
          13.634844911686834,
          13.634844911686834
         ],
         "yaxis": "y1",
         "z": [
          7.718748978668479,
          7.718748978668479
         ],
         "zmax": 0.1,
         "zmin": -0.1
        },
        {
         "colorbar": {
          "title": ""
         },
         "hoverinfo": "text",
         "legendgroup": "y87",
         "marker": {
          "color": "rgba(0, 0, 0, 1.000)",
          "line": {
           "color": "rgba(0, 0, 0, 1.000)",
           "width": 1
          },
          "size": 2,
          "symbol": "circle"
         },
         "mode": "markers",
         "name": "y87",
         "showlegend": true,
         "text": [
          null,
          null
         ],
         "type": "scatter3d",
         "x": [
          5.745636443600074,
          5.745636443600074
         ],
         "xaxis": "x1",
         "y": [
          -10.7165810466309,
          -10.7165810466309
         ],
         "yaxis": "y1",
         "z": [
          -5.229175216553909,
          -5.229175216553909
         ],
         "zmax": 0.1,
         "zmin": -0.1
        },
        {
         "colorbar": {
          "title": ""
         },
         "hoverinfo": "text",
         "legendgroup": "y88",
         "marker": {
          "color": "rgba(0, 0, 0, 1.000)",
          "line": {
           "color": "rgba(0, 0, 0, 1.000)",
           "width": 1
          },
          "size": 2,
          "symbol": "circle"
         },
         "mode": "markers",
         "name": "y88",
         "showlegend": true,
         "text": [
          null,
          null
         ],
         "type": "scatter3d",
         "x": [
          -1.590816696560387,
          -1.590816696560387
         ],
         "xaxis": "x1",
         "y": [
          -2.1640603184450695,
          -2.1640603184450695
         ],
         "yaxis": "y1",
         "z": [
          -1.9729791111501753,
          -1.9729791111501753
         ],
         "zmax": 0.1,
         "zmin": -0.1
        },
        {
         "colorbar": {
          "title": ""
         },
         "hoverinfo": "text",
         "legendgroup": "y89",
         "marker": {
          "color": "rgba(0, 0, 0, 1.000)",
          "line": {
           "color": "rgba(0, 0, 0, 1.000)",
           "width": 1
          },
          "size": 2,
          "symbol": "circle"
         },
         "mode": "markers",
         "name": "y89",
         "showlegend": true,
         "text": [
          null,
          null
         ],
         "type": "scatter3d",
         "x": [
          13.168358932905583,
          13.168358932905583
         ],
         "xaxis": "x1",
         "y": [
          -10.360676739836869,
          -10.360676739836869
         ],
         "yaxis": "y1",
         "z": [
          -2.517664848922718,
          -2.517664848922718
         ],
         "zmax": 0.1,
         "zmin": -0.1
        },
        {
         "colorbar": {
          "title": ""
         },
         "hoverinfo": "text",
         "legendgroup": "y90",
         "marker": {
          "color": "rgba(0, 0, 0, 1.000)",
          "line": {
           "color": "rgba(0, 0, 0, 1.000)",
           "width": 1
          },
          "size": 2,
          "symbol": "circle"
         },
         "mode": "markers",
         "name": "y90",
         "showlegend": true,
         "text": [
          null,
          null
         ],
         "type": "scatter3d",
         "x": [
          -6.022376240053175,
          -6.022376240053175
         ],
         "xaxis": "x1",
         "y": [
          4.894873585152568,
          4.894873585152568
         ],
         "yaxis": "y1",
         "z": [
          1.2557903100839867,
          1.2557903100839867
         ],
         "zmax": 0.1,
         "zmin": -0.1
        },
        {
         "colorbar": {
          "title": ""
         },
         "hoverinfo": "text",
         "legendgroup": "y91",
         "marker": {
          "color": "rgba(0, 0, 0, 1.000)",
          "line": {
           "color": "rgba(0, 0, 0, 1.000)",
           "width": 1
          },
          "size": 2,
          "symbol": "circle"
         },
         "mode": "markers",
         "name": "y91",
         "showlegend": true,
         "text": [
          null,
          null
         ],
         "type": "scatter3d",
         "x": [
          7.3426101261642565,
          7.3426101261642565
         ],
         "xaxis": "x1",
         "y": [
          -14.685220252328513,
          -14.685220252328513
         ],
         "yaxis": "y1",
         "z": [
          -7.3426101261642565,
          -7.3426101261642565
         ],
         "zmax": 0.1,
         "zmin": -0.1
        },
        {
         "colorbar": {
          "title": ""
         },
         "hoverinfo": "text",
         "legendgroup": "y92",
         "marker": {
          "color": "rgba(0, 0, 0, 1.000)",
          "line": {
           "color": "rgba(0, 0, 0, 1.000)",
           "width": 1
          },
          "size": 2,
          "symbol": "circle"
         },
         "mode": "markers",
         "name": "y92",
         "showlegend": true,
         "text": [
          null,
          null
         ],
         "type": "scatter3d",
         "x": [
          -2.0743146957815863,
          -2.0743146957815863
         ],
         "xaxis": "x1",
         "y": [
          1.5016677733528256,
          1.5016677733528256
         ],
         "yaxis": "y1",
         "z": [
          0.3096736169746883,
          0.3096736169746883
         ],
         "zmax": 0.1,
         "zmin": -0.1
        },
        {
         "colorbar": {
          "title": ""
         },
         "hoverinfo": "text",
         "legendgroup": "y93",
         "marker": {
          "color": "rgba(0, 0, 0, 1.000)",
          "line": {
           "color": "rgba(0, 0, 0, 1.000)",
           "width": 1
          },
          "size": 2,
          "symbol": "circle"
         },
         "mode": "markers",
         "name": "y93",
         "showlegend": true,
         "text": [
          null,
          null
         ],
         "type": "scatter3d",
         "x": [
          11.425609523634314,
          11.425609523634314
         ],
         "xaxis": "x1",
         "y": [
          -0.3236427421986807,
          -0.3236427421986807
         ],
         "yaxis": "y1",
         "z": [
          3.5927746797456512,
          3.5927746797456512
         ],
         "zmax": 0.1,
         "zmin": -0.1
        },
        {
         "colorbar": {
          "title": ""
         },
         "hoverinfo": "text",
         "legendgroup": "y94",
         "marker": {
          "color": "rgba(0, 0, 0, 1.000)",
          "line": {
           "color": "rgba(0, 0, 0, 1.000)",
           "width": 1
          },
          "size": 2,
          "symbol": "circle"
         },
         "mode": "markers",
         "name": "y94",
         "showlegend": true,
         "text": [
          null,
          null
         ],
         "type": "scatter3d",
         "x": [
          5.045796962320041,
          5.045796962320041
         ],
         "xaxis": "x1",
         "y": [
          -0.027257193553111847,
          -0.027257193553111847
         ],
         "yaxis": "y1",
         "z": [
          1.6637608584046057,
          1.6637608584046057
         ],
         "zmax": 0.1,
         "zmin": -0.1
        },
        {
         "colorbar": {
          "title": ""
         },
         "hoverinfo": "text",
         "legendgroup": "y95",
         "marker": {
          "color": "rgba(0, 0, 0, 1.000)",
          "line": {
           "color": "rgba(0, 0, 0, 1.000)",
           "width": 1
          },
          "size": 2,
          "symbol": "circle"
         },
         "mode": "markers",
         "name": "y95",
         "showlegend": true,
         "text": [
          null,
          null
         ],
         "type": "scatter3d",
         "x": [
          2.5674442820315253,
          2.5674442820315253
         ],
         "xaxis": "x1",
         "y": [
          -2.08244546818456,
          -2.08244546818456
         ],
         "yaxis": "y1",
         "z": [
          -0.5324822181125315,
          -0.5324822181125315
         ],
         "zmax": 0.1,
         "zmin": -0.1
        },
        {
         "colorbar": {
          "title": ""
         },
         "hoverinfo": "text",
         "legendgroup": "y96",
         "marker": {
          "color": "rgba(0, 0, 0, 1.000)",
          "line": {
           "color": "rgba(0, 0, 0, 1.000)",
           "width": 1
          },
          "size": 2,
          "symbol": "circle"
         },
         "mode": "markers",
         "name": "y96",
         "showlegend": true,
         "text": [
          null,
          null
         ],
         "type": "scatter3d",
         "x": [
          -13.857019493626646,
          -13.857019493626646
         ],
         "xaxis": "x1",
         "y": [
          4.745005940318965,
          4.745005940318965
         ],
         "yaxis": "y1",
         "z": [
          -1.4556692043295723,
          -1.4556692043295723
         ],
         "zmax": 0.1,
         "zmin": -0.1
        },
        {
         "colorbar": {
          "title": ""
         },
         "hoverinfo": "text",
         "legendgroup": "y97",
         "marker": {
          "color": "rgba(0, 0, 0, 1.000)",
          "line": {
           "color": "rgba(0, 0, 0, 1.000)",
           "width": 1
          },
          "size": 2,
          "symbol": "circle"
         },
         "mode": "markers",
         "name": "y97",
         "showlegend": true,
         "text": [
          null,
          null
         ],
         "type": "scatter3d",
         "x": [
          11.020601766706465,
          11.020601766706465
         ],
         "xaxis": "x1",
         "y": [
          -2.5584771035099685,
          -2.5584771035099685
         ],
         "yaxis": "y1",
         "z": [
          1.9678825198955092,
          1.9678825198955092
         ],
         "zmax": 0.1,
         "zmin": -0.1
        },
        {
         "colorbar": {
          "title": ""
         },
         "hoverinfo": "text",
         "legendgroup": "y98",
         "marker": {
          "color": "rgba(0, 0, 0, 1.000)",
          "line": {
           "color": "rgba(0, 0, 0, 1.000)",
           "width": 1
          },
          "size": 2,
          "symbol": "circle"
         },
         "mode": "markers",
         "name": "y98",
         "showlegend": true,
         "text": [
          null,
          null
         ],
         "type": "scatter3d",
         "x": [
          -10.18981358271659,
          -10.18981358271659
         ],
         "xaxis": "x1",
         "y": [
          1.07191846611823,
          1.07191846611823
         ],
         "yaxis": "y1",
         "z": [
          -2.6819922168267105,
          -2.6819922168267105
         ],
         "zmax": 0.1,
         "zmin": -0.1
        },
        {
         "colorbar": {
          "title": ""
         },
         "hoverinfo": "text",
         "legendgroup": "y99",
         "marker": {
          "color": "rgba(0, 0, 0, 1.000)",
          "line": {
           "color": "rgba(0, 0, 0, 1.000)",
           "width": 1
          },
          "size": 2,
          "symbol": "circle"
         },
         "mode": "markers",
         "name": "y99",
         "showlegend": true,
         "text": [
          null,
          null
         ],
         "type": "scatter3d",
         "x": [
          12.46385962214979,
          12.46385962214979
         ],
         "xaxis": "x1",
         "y": [
          7.525935471815792,
          7.525935471815792
         ],
         "yaxis": "y1",
         "z": [
          9.171910188593792,
          9.171910188593792
         ],
         "zmax": 0.1,
         "zmin": -0.1
        },
        {
         "colorbar": {
          "title": ""
         },
         "hoverinfo": "text",
         "legendgroup": "y100",
         "marker": {
          "color": "rgba(0, 0, 0, 1.000)",
          "line": {
           "color": "rgba(0, 0, 0, 1.000)",
           "width": 1
          },
          "size": 2,
          "symbol": "circle"
         },
         "mode": "markers",
         "name": "y100",
         "showlegend": true,
         "text": [
          null,
          null
         ],
         "type": "scatter3d",
         "x": [
          7.54503888525203,
          7.54503888525203
         ],
         "xaxis": "x1",
         "y": [
          -1.6540360285313058,
          -1.6540360285313058
         ],
         "yaxis": "y1",
         "z": [
          1.4123222760631395,
          1.4123222760631395
         ],
         "zmax": 0.1,
         "zmin": -0.1
        },
        {
         "colorbar": {
          "title": ""
         },
         "hoverinfo": "text",
         "legendgroup": "y101",
         "marker": {
          "color": "rgba(0, 0, 0, 1.000)",
          "line": {
           "color": "rgba(0, 0, 0, 1.000)",
           "width": 1
          },
          "size": 2,
          "symbol": "circle"
         },
         "mode": "markers",
         "name": "y101",
         "showlegend": true,
         "text": [
          null,
          null
         ],
         "type": "scatter3d",
         "x": [
          -4.69680756644372,
          -4.69680756644372
         ],
         "xaxis": "x1",
         "y": [
          6.776657798206302,
          6.776657798206302
         ],
         "yaxis": "y1",
         "z": [
          2.952169343322961,
          2.952169343322961
         ],
         "zmax": 0.1,
         "zmin": -0.1
        },
        {
         "colorbar": {
          "title": ""
         },
         "hoverinfo": "text",
         "legendgroup": "y102",
         "marker": {
          "color": "rgba(0, 0, 0, 1.000)",
          "line": {
           "color": "rgba(0, 0, 0, 1.000)",
           "width": 1
          },
          "size": 2,
          "symbol": "circle"
         },
         "mode": "markers",
         "name": "y102",
         "showlegend": true,
         "text": [
          null,
          null
         ],
         "type": "scatter3d",
         "x": [
          -5.191986662968777,
          -5.191986662968777
         ],
         "xaxis": "x1",
         "y": [
          3.273814217109991,
          3.273814217109991
         ],
         "yaxis": "y1",
         "z": [
          0.45188059041706863,
          0.45188059041706863
         ],
         "zmax": 0.1,
         "zmin": -0.1
        },
        {
         "colorbar": {
          "title": ""
         },
         "hoverinfo": "text",
         "legendgroup": "y103",
         "marker": {
          "color": "rgba(0, 0, 0, 1.000)",
          "line": {
           "color": "rgba(0, 0, 0, 1.000)",
           "width": 1
          },
          "size": 2,
          "symbol": "circle"
         },
         "mode": "markers",
         "name": "y103",
         "showlegend": true,
         "text": [
          null,
          null
         ],
         "type": "scatter3d",
         "x": [
          -4.521399095957999,
          -4.521399095957999
         ],
         "xaxis": "x1",
         "y": [
          5.810282381196192,
          5.810282381196192
         ],
         "yaxis": "y1",
         "z": [
          2.366388555478128,
          2.366388555478128
         ],
         "zmax": 0.1,
         "zmin": -0.1
        },
        {
         "colorbar": {
          "title": ""
         },
         "hoverinfo": "text",
         "legendgroup": "y104",
         "marker": {
          "color": "rgba(0, 0, 0, 1.000)",
          "line": {
           "color": "rgba(0, 0, 0, 1.000)",
           "width": 1
          },
          "size": 2,
          "symbol": "circle"
         },
         "mode": "markers",
         "name": "y104",
         "showlegend": true,
         "text": [
          null,
          null
         ],
         "type": "scatter3d",
         "x": [
          -1.7592681644667119,
          -1.7592681644667119
         ],
         "xaxis": "x1",
         "y": [
          14.204944470231844,
          14.204944470231844
         ],
         "yaxis": "y1",
         "z": [
          8.883540258665658,
          8.883540258665658
         ],
         "zmax": 0.1,
         "zmin": -0.1
        },
        {
         "colorbar": {
          "title": ""
         },
         "hoverinfo": "text",
         "legendgroup": "y105",
         "marker": {
          "color": "rgba(0, 0, 0, 1.000)",
          "line": {
           "color": "rgba(0, 0, 0, 1.000)",
           "width": 1
          },
          "size": 2,
          "symbol": "circle"
         },
         "mode": "markers",
         "name": "y105",
         "showlegend": true,
         "text": [
          null,
          null
         ],
         "type": "scatter3d",
         "x": [
          10.559894936918436,
          10.559894936918436
         ],
         "xaxis": "x1",
         "y": [
          0.21872750680963193,
          0.21872750680963193
         ],
         "yaxis": "y1",
         "z": [
          3.6657833168459,
          3.6657833168459
         ],
         "zmax": 0.1,
         "zmin": -0.1
        },
        {
         "colorbar": {
          "title": ""
         },
         "hoverinfo": "text",
         "legendgroup": "y106",
         "marker": {
          "color": "rgba(0, 0, 0, 1.000)",
          "line": {
           "color": "rgba(0, 0, 0, 1.000)",
           "width": 1
          },
          "size": 2,
          "symbol": "circle"
         },
         "mode": "markers",
         "name": "y106",
         "showlegend": true,
         "text": [
          null,
          null
         ],
         "type": "scatter3d",
         "x": [
          14.036683864572762,
          14.036683864572762
         ],
         "xaxis": "x1",
         "y": [
          3.9823098263540464,
          3.9823098263540464
         ],
         "yaxis": "y1",
         "z": [
          7.333767839093619,
          7.333767839093619
         ],
         "zmax": 0.1,
         "zmin": -0.1
        },
        {
         "colorbar": {
          "title": ""
         },
         "hoverinfo": "text",
         "legendgroup": "y107",
         "marker": {
          "color": "rgba(0, 0, 0, 1.000)",
          "line": {
           "color": "rgba(0, 0, 0, 1.000)",
           "width": 1
          },
          "size": 2,
          "symbol": "circle"
         },
         "mode": "markers",
         "name": "y107",
         "showlegend": true,
         "text": [
          null,
          null
         ],
         "type": "scatter3d",
         "x": [
          -0.13752579098360052,
          -0.13752579098360052
         ],
         "xaxis": "x1",
         "y": [
          -5.26087329872632,
          -5.26087329872632
         ],
         "yaxis": "y1",
         "z": [
          -3.5530907961454137,
          -3.5530907961454137
         ],
         "zmax": 0.1,
         "zmin": -0.1
        },
        {
         "colorbar": {
          "title": ""
         },
         "hoverinfo": "text",
         "legendgroup": "y108",
         "marker": {
          "color": "rgba(0, 0, 0, 1.000)",
          "line": {
           "color": "rgba(0, 0, 0, 1.000)",
           "width": 1
          },
          "size": 2,
          "symbol": "circle"
         },
         "mode": "markers",
         "name": "y108",
         "showlegend": true,
         "text": [
          null,
          null
         ],
         "type": "scatter3d",
         "x": [
          -4.951423019880108,
          -4.951423019880108
         ],
         "xaxis": "x1",
         "y": [
          10.298174121363566,
          10.298174121363566
         ],
         "yaxis": "y1",
         "z": [
          5.214975074282341,
          5.214975074282341
         ],
         "zmax": 0.1,
         "zmin": -0.1
        },
        {
         "colorbar": {
          "title": ""
         },
         "hoverinfo": "text",
         "legendgroup": "y109",
         "marker": {
          "color": "rgba(0, 0, 0, 1.000)",
          "line": {
           "color": "rgba(0, 0, 0, 1.000)",
           "width": 1
          },
          "size": 2,
          "symbol": "circle"
         },
         "mode": "markers",
         "name": "y109",
         "showlegend": true,
         "text": [
          null,
          null
         ],
         "type": "scatter3d",
         "x": [
          13.203491713244748,
          13.203491713244748
         ],
         "xaxis": "x1",
         "y": [
          0.2956734738187432,
          0.2956734738187432
         ],
         "yaxis": "y1",
         "z": [
          4.598279553627411,
          4.598279553627411
         ],
         "zmax": 0.1,
         "zmin": -0.1
        },
        {
         "colorbar": {
          "title": ""
         },
         "hoverinfo": "text",
         "legendgroup": "y110",
         "marker": {
          "color": "rgba(0, 0, 0, 1.000)",
          "line": {
           "color": "rgba(0, 0, 0, 1.000)",
           "width": 1
          },
          "size": 2,
          "symbol": "circle"
         },
         "mode": "markers",
         "name": "y110",
         "showlegend": true,
         "text": [
          null,
          null
         ],
         "type": "scatter3d",
         "x": [
          12.278136043421572,
          12.278136043421572
         ],
         "xaxis": "x1",
         "y": [
          -3.7706825882558306,
          -3.7706825882558306
         ],
         "yaxis": "y1",
         "z": [
          1.5789236223033036,
          1.5789236223033036
         ],
         "zmax": 0.1,
         "zmin": -0.1
        },
        {
         "colorbar": {
          "title": ""
         },
         "hoverinfo": "text",
         "legendgroup": "y111",
         "marker": {
          "color": "rgba(0, 0, 0, 1.000)",
          "line": {
           "color": "rgba(0, 0, 0, 1.000)",
           "width": 1
          },
          "size": 2,
          "symbol": "circle"
         },
         "mode": "markers",
         "name": "y111",
         "showlegend": true,
         "text": [
          null,
          null
         ],
         "type": "scatter3d",
         "x": [
          -6.897000423087772,
          -6.897000423087772
         ],
         "xaxis": "x1",
         "y": [
          -5.466197862102794,
          -5.466197862102794
         ],
         "yaxis": "y1",
         "z": [
          -5.943132049097787,
          -5.943132049097787
         ],
         "zmax": 0.1,
         "zmin": -0.1
        },
        {
         "colorbar": {
          "title": ""
         },
         "hoverinfo": "text",
         "legendgroup": "y112",
         "marker": {
          "color": "rgba(0, 0, 0, 1.000)",
          "line": {
           "color": "rgba(0, 0, 0, 1.000)",
           "width": 1
          },
          "size": 2,
          "symbol": "circle"
         },
         "mode": "markers",
         "name": "y112",
         "showlegend": true,
         "text": [
          null,
          null
         ],
         "type": "scatter3d",
         "x": [
          -1.5566387384285467,
          -1.5566387384285467
         ],
         "xaxis": "x1",
         "y": [
          5.93646051697065,
          5.93646051697065
         ],
         "yaxis": "y1",
         "z": [
          3.4387607651709176,
          3.4387607651709176
         ],
         "zmax": 0.1,
         "zmin": -0.1
        },
        {
         "colorbar": {
          "title": ""
         },
         "hoverinfo": "text",
         "legendgroup": "y113",
         "marker": {
          "color": "rgba(0, 0, 0, 1.000)",
          "line": {
           "color": "rgba(0, 0, 0, 1.000)",
           "width": 1
          },
          "size": 2,
          "symbol": "circle"
         },
         "mode": "markers",
         "name": "y113",
         "showlegend": true,
         "text": [
          null,
          null
         ],
         "type": "scatter3d",
         "x": [
          1.7135798155010082,
          1.7135798155010082
         ],
         "xaxis": "x1",
         "y": [
          -3.602840119757711,
          -3.602840119757711
         ],
         "yaxis": "y1",
         "z": [
          -1.8307001413381379,
          -1.8307001413381379
         ],
         "zmax": 0.1,
         "zmin": -0.1
        },
        {
         "colorbar": {
          "title": ""
         },
         "hoverinfo": "text",
         "legendgroup": "y114",
         "marker": {
          "color": "rgba(0, 0, 0, 1.000)",
          "line": {
           "color": "rgba(0, 0, 0, 1.000)",
           "width": 1
          },
          "size": 2,
          "symbol": "circle"
         },
         "mode": "markers",
         "name": "y114",
         "showlegend": true,
         "text": [
          null,
          null
         ],
         "type": "scatter3d",
         "x": [
          4.320839766668993,
          4.320839766668993
         ],
         "xaxis": "x1",
         "y": [
          2.7061643212056463,
          2.7061643212056463
         ],
         "yaxis": "y1",
         "z": [
          3.244389469693428,
          3.244389469693428
         ],
         "zmax": 0.1,
         "zmin": -0.1
        },
        {
         "colorbar": {
          "title": ""
         },
         "hoverinfo": "text",
         "legendgroup": "y115",
         "marker": {
          "color": "rgba(0, 0, 0, 1.000)",
          "line": {
           "color": "rgba(0, 0, 0, 1.000)",
           "width": 1
          },
          "size": 2,
          "symbol": "circle"
         },
         "mode": "markers",
         "name": "y115",
         "showlegend": true,
         "text": [
          null,
          null
         ],
         "type": "scatter3d",
         "x": [
          0.5606782651511271,
          0.5606782651511271
         ],
         "xaxis": "x1",
         "y": [
          -14.460458049353143,
          -14.460458049353143
         ],
         "yaxis": "y1",
         "z": [
          -9.453412611185053,
          -9.453412611185053
         ],
         "zmax": 0.1,
         "zmin": -0.1
        },
        {
         "colorbar": {
          "title": ""
         },
         "hoverinfo": "text",
         "legendgroup": "y116",
         "marker": {
          "color": "rgba(0, 0, 0, 1.000)",
          "line": {
           "color": "rgba(0, 0, 0, 1.000)",
           "width": 1
          },
          "size": 2,
          "symbol": "circle"
         },
         "mode": "markers",
         "name": "y116",
         "showlegend": true,
         "text": [
          null,
          null
         ],
         "type": "scatter3d",
         "x": [
          -6.202779285280468,
          -6.202779285280468
         ],
         "xaxis": "x1",
         "y": [
          3.547990214259318,
          3.547990214259318
         ],
         "yaxis": "y1",
         "z": [
          0.29773371441272256,
          0.29773371441272256
         ],
         "zmax": 0.1,
         "zmin": -0.1
        },
        {
         "colorbar": {
          "title": ""
         },
         "hoverinfo": "text",
         "legendgroup": "y117",
         "marker": {
          "color": "rgba(0, 0, 0, 1.000)",
          "line": {
           "color": "rgba(0, 0, 0, 1.000)",
           "width": 1
          },
          "size": 2,
          "symbol": "circle"
         },
         "mode": "markers",
         "name": "y117",
         "showlegend": true,
         "text": [
          null,
          null
         ],
         "type": "scatter3d",
         "x": [
          5.813068798370967,
          5.813068798370967
         ],
         "xaxis": "x1",
         "y": [
          -8.63478399206273,
          -8.63478399206273
         ],
         "yaxis": "y1",
         "z": [
          -3.8188330619181636,
          -3.8188330619181636
         ],
         "zmax": 0.1,
         "zmin": -0.1
        },
        {
         "colorbar": {
          "title": ""
         },
         "hoverinfo": "text",
         "legendgroup": "y118",
         "marker": {
          "color": "rgba(0, 0, 0, 1.000)",
          "line": {
           "color": "rgba(0, 0, 0, 1.000)",
           "width": 1
          },
          "size": 2,
          "symbol": "circle"
         },
         "mode": "markers",
         "name": "y118",
         "showlegend": true,
         "text": [
          null,
          null
         ],
         "type": "scatter3d",
         "x": [
          0.5725535126359116,
          0.5725535126359116
         ],
         "xaxis": "x1",
         "y": [
          6.045213587904749,
          6.045213587904749
         ],
         "yaxis": "y1",
         "z": [
          4.220993562815137,
          4.220993562815137
         ],
         "zmax": 0.1,
         "zmin": -0.1
        },
        {
         "colorbar": {
          "title": ""
         },
         "hoverinfo": "text",
         "legendgroup": "y119",
         "marker": {
          "color": "rgba(0, 0, 0, 1.000)",
          "line": {
           "color": "rgba(0, 0, 0, 1.000)",
           "width": 1
          },
          "size": 2,
          "symbol": "circle"
         },
         "mode": "markers",
         "name": "y119",
         "showlegend": true,
         "text": [
          null,
          null
         ],
         "type": "scatter3d",
         "x": [
          -5.586856602680184,
          -5.586856602680184
         ],
         "xaxis": "x1",
         "y": [
          -2.3110243841121942,
          -2.3110243841121942
         ],
         "yaxis": "y1",
         "z": [
          -3.402968456968191,
          -3.402968456968191
         ],
         "zmax": 0.1,
         "zmin": -0.1
        },
        {
         "colorbar": {
          "title": ""
         },
         "hoverinfo": "text",
         "legendgroup": "y120",
         "marker": {
          "color": "rgba(0, 0, 0, 1.000)",
          "line": {
           "color": "rgba(0, 0, 0, 1.000)",
           "width": 1
          },
          "size": 2,
          "symbol": "circle"
         },
         "mode": "markers",
         "name": "y120",
         "showlegend": true,
         "text": [
          null,
          null
         ],
         "type": "scatter3d",
         "x": [
          13.256168707299468,
          13.256168707299468
         ],
         "xaxis": "x1",
         "y": [
          9.366139211547871,
          9.366139211547871
         ],
         "yaxis": "y1",
         "z": [
          10.662815710131737,
          10.662815710131737
         ],
         "zmax": 0.1,
         "zmin": -0.1
        },
        {
         "colorbar": {
          "title": ""
         },
         "hoverinfo": "text",
         "legendgroup": "y121",
         "marker": {
          "color": "rgba(0, 0, 0, 1.000)",
          "line": {
           "color": "rgba(0, 0, 0, 1.000)",
           "width": 1
          },
          "size": 2,
          "symbol": "circle"
         },
         "mode": "markers",
         "name": "y121",
         "showlegend": true,
         "text": [
          null,
          null
         ],
         "type": "scatter3d",
         "x": [
          -4.178526351766937,
          -4.178526351766937
         ],
         "xaxis": "x1",
         "y": [
          -2.564429499896002,
          -2.564429499896002
         ],
         "yaxis": "y1",
         "z": [
          -3.1024617838529807,
          -3.1024617838529807
         ],
         "zmax": 0.1,
         "zmin": -0.1
        },
        {
         "colorbar": {
          "title": ""
         },
         "hoverinfo": "text",
         "legendgroup": "y122",
         "marker": {
          "color": "rgba(0, 0, 0, 1.000)",
          "line": {
           "color": "rgba(0, 0, 0, 1.000)",
           "width": 1
          },
          "size": 2,
          "symbol": "circle"
         },
         "mode": "markers",
         "name": "y122",
         "showlegend": true,
         "text": [
          null,
          null
         ],
         "type": "scatter3d",
         "x": [
          3.8687902758305004,
          3.8687902758305004
         ],
         "xaxis": "x1",
         "y": [
          -7.737580551661001,
          -7.737580551661001
         ],
         "yaxis": "y1",
         "z": [
          -3.8687902758305004,
          -3.8687902758305004
         ],
         "zmax": 0.1,
         "zmin": -0.1
        },
        {
         "colorbar": {
          "title": ""
         },
         "hoverinfo": "text",
         "legendgroup": "y123",
         "marker": {
          "color": "rgba(0, 0, 0, 1.000)",
          "line": {
           "color": "rgba(0, 0, 0, 1.000)",
           "width": 1
          },
          "size": 2,
          "symbol": "circle"
         },
         "mode": "markers",
         "name": "y123",
         "showlegend": true,
         "text": [
          null,
          null
         ],
         "type": "scatter3d",
         "x": [
          -14.329795017162962,
          -14.329795017162962
         ],
         "xaxis": "x1",
         "y": [
          -1.6872281630161345,
          -1.6872281630161345
         ],
         "yaxis": "y1",
         "z": [
          -5.90141711439841,
          -5.90141711439841
         ],
         "zmax": 0.1,
         "zmin": -0.1
        },
        {
         "colorbar": {
          "title": ""
         },
         "hoverinfo": "text",
         "legendgroup": "y124",
         "marker": {
          "color": "rgba(0, 0, 0, 1.000)",
          "line": {
           "color": "rgba(0, 0, 0, 1.000)",
           "width": 1
          },
          "size": 2,
          "symbol": "circle"
         },
         "mode": "markers",
         "name": "y124",
         "showlegend": true,
         "text": [
          null,
          null
         ],
         "type": "scatter3d",
         "x": [
          7.050740326206756,
          7.050740326206756
         ],
         "xaxis": "x1",
         "y": [
          -13.159866475450253,
          -13.159866475450253
         ],
         "yaxis": "y1",
         "z": [
          -6.422997541564583,
          -6.422997541564583
         ],
         "zmax": 0.1,
         "zmin": -0.1
        },
        {
         "colorbar": {
          "title": ""
         },
         "hoverinfo": "text",
         "legendgroup": "y125",
         "marker": {
          "color": "rgba(0, 0, 0, 1.000)",
          "line": {
           "color": "rgba(0, 0, 0, 1.000)",
           "width": 1
          },
          "size": 2,
          "symbol": "circle"
         },
         "mode": "markers",
         "name": "y125",
         "showlegend": true,
         "text": [
          null,
          null
         ],
         "type": "scatter3d",
         "x": [
          8.12116264325236,
          8.12116264325236
         ],
         "xaxis": "x1",
         "y": [
          0.9630209241925831,
          0.9630209241925831
         ],
         "yaxis": "y1",
         "z": [
          3.3490681638791755,
          3.3490681638791755
         ],
         "zmax": 0.1,
         "zmin": -0.1
        },
        {
         "colorbar": {
          "title": ""
         },
         "hoverinfo": "text",
         "legendgroup": "y126",
         "marker": {
          "color": "rgba(0, 0, 0, 1.000)",
          "line": {
           "color": "rgba(0, 0, 0, 1.000)",
           "width": 1
          },
          "size": 2,
          "symbol": "circle"
         },
         "mode": "markers",
         "name": "y126",
         "showlegend": true,
         "text": [
          null,
          null
         ],
         "type": "scatter3d",
         "x": [
          5.3719804337163914,
          5.3719804337163914
         ],
         "xaxis": "x1",
         "y": [
          0.44197117628277693,
          0.44197117628277693
         ],
         "yaxis": "y1",
         "z": [
          2.0853075954273153,
          2.0853075954273153
         ],
         "zmax": 0.1,
         "zmin": -0.1
        },
        {
         "colorbar": {
          "title": ""
         },
         "hoverinfo": "text",
         "legendgroup": "y127",
         "marker": {
          "color": "rgba(0, 0, 0, 1.000)",
          "line": {
           "color": "rgba(0, 0, 0, 1.000)",
           "width": 1
          },
          "size": 2,
          "symbol": "circle"
         },
         "mode": "markers",
         "name": "y127",
         "showlegend": true,
         "text": [
          null,
          null
         ],
         "type": "scatter3d",
         "x": [
          1.4887251251721678,
          1.4887251251721678
         ],
         "xaxis": "x1",
         "y": [
          3.1942375709128346,
          3.1942375709128346
         ],
         "yaxis": "y1",
         "z": [
          2.6257334223326123,
          2.6257334223326123
         ],
         "zmax": 0.1,
         "zmin": -0.1
        },
        {
         "colorbar": {
          "title": ""
         },
         "hoverinfo": "text",
         "legendgroup": "y128",
         "marker": {
          "color": "rgba(0, 0, 0, 1.000)",
          "line": {
           "color": "rgba(0, 0, 0, 1.000)",
           "width": 1
          },
          "size": 2,
          "symbol": "circle"
         },
         "mode": "markers",
         "name": "y128",
         "showlegend": true,
         "text": [
          null,
          null
         ],
         "type": "scatter3d",
         "x": [
          0.429000051414973,
          0.429000051414973
         ],
         "xaxis": "x1",
         "y": [
          -1.3399836192409484,
          -1.3399836192409484
         ],
         "yaxis": "y1",
         "z": [
          -0.7503223956889746,
          -0.7503223956889746
         ],
         "zmax": 0.1,
         "zmin": -0.1
        },
        {
         "colorbar": {
          "title": ""
         },
         "hoverinfo": "text",
         "legendgroup": "y129",
         "marker": {
          "color": "rgba(0, 0, 0, 1.000)",
          "line": {
           "color": "rgba(0, 0, 0, 1.000)",
           "width": 1
          },
          "size": 2,
          "symbol": "circle"
         },
         "mode": "markers",
         "name": "y129",
         "showlegend": true,
         "text": [
          null,
          null
         ],
         "type": "scatter3d",
         "x": [
          2.776235640256572,
          2.776235640256572
         ],
         "xaxis": "x1",
         "y": [
          -5.552471280513144,
          -5.552471280513144
         ],
         "yaxis": "y1",
         "z": [
          -2.776235640256572,
          -2.776235640256572
         ],
         "zmax": 0.1,
         "zmin": -0.1
        },
        {
         "colorbar": {
          "title": ""
         },
         "hoverinfo": "text",
         "legendgroup": "y130",
         "marker": {
          "color": "rgba(0, 0, 0, 1.000)",
          "line": {
           "color": "rgba(0, 0, 0, 1.000)",
           "width": 1
          },
          "size": 2,
          "symbol": "circle"
         },
         "mode": "markers",
         "name": "y130",
         "showlegend": true,
         "text": [
          null,
          null
         ],
         "type": "scatter3d",
         "x": [
          -8.229040403894581,
          -8.229040403894581
         ],
         "xaxis": "x1",
         "y": [
          0.1484667438952636,
          0.1484667438952636
         ],
         "yaxis": "y1",
         "z": [
          -2.6440356387013515,
          -2.6440356387013515
         ],
         "zmax": 0.1,
         "zmin": -0.1
        },
        {
         "colorbar": {
          "title": ""
         },
         "hoverinfo": "text",
         "legendgroup": "y131",
         "marker": {
          "color": "rgba(0, 0, 0, 1.000)",
          "line": {
           "color": "rgba(0, 0, 0, 1.000)",
           "width": 1
          },
          "size": 2,
          "symbol": "circle"
         },
         "mode": "markers",
         "name": "y131",
         "showlegend": true,
         "text": [
          null,
          null
         ],
         "type": "scatter3d",
         "x": [
          1.2141486090234879,
          1.2141486090234879
         ],
         "xaxis": "x1",
         "y": [
          -5.060222986355519,
          -5.060222986355519
         ],
         "yaxis": "y1",
         "z": [
          -2.9687657878958498,
          -2.9687657878958498
         ],
         "zmax": 0.1,
         "zmin": -0.1
        },
        {
         "colorbar": {
          "title": ""
         },
         "hoverinfo": "text",
         "legendgroup": "y132",
         "marker": {
          "color": "rgba(0, 0, 0, 1.000)",
          "line": {
           "color": "rgba(0, 0, 0, 1.000)",
           "width": 1
          },
          "size": 2,
          "symbol": "circle"
         },
         "mode": "markers",
         "name": "y132",
         "showlegend": true,
         "text": [
          null,
          null
         ],
         "type": "scatter3d",
         "x": [
          14.161583906818375,
          14.161583906818375
         ],
         "xaxis": "x1",
         "y": [
          -10.382786565376009,
          -10.382786565376009
         ],
         "yaxis": "y1",
         "z": [
          -2.2013297413112136,
          -2.2013297413112136
         ],
         "zmax": 0.1,
         "zmin": -0.1
        },
        {
         "colorbar": {
          "title": ""
         },
         "hoverinfo": "text",
         "legendgroup": "y133",
         "marker": {
          "color": "rgba(0, 0, 0, 1.000)",
          "line": {
           "color": "rgba(0, 0, 0, 1.000)",
           "width": 1
          },
          "size": 2,
          "symbol": "circle"
         },
         "mode": "markers",
         "name": "y133",
         "showlegend": true,
         "text": [
          null,
          null
         ],
         "type": "scatter3d",
         "x": [
          -13.998399512976155,
          -13.998399512976155
         ],
         "xaxis": "x1",
         "y": [
          1.433906397539495,
          1.433906397539495
         ],
         "yaxis": "y1",
         "z": [
          -3.7101955726323883,
          -3.7101955726323883
         ],
         "zmax": 0.1,
         "zmin": -0.1
        },
        {
         "colorbar": {
          "title": ""
         },
         "hoverinfo": "text",
         "legendgroup": "y134",
         "marker": {
          "color": "rgba(0, 0, 0, 1.000)",
          "line": {
           "color": "rgba(0, 0, 0, 1.000)",
           "width": 1
          },
          "size": 2,
          "symbol": "circle"
         },
         "mode": "markers",
         "name": "y134",
         "showlegend": true,
         "text": [
          null,
          null
         ],
         "type": "scatter3d",
         "x": [
          6.363948285192395,
          6.363948285192395
         ],
         "xaxis": "x1",
         "y": [
          -2.159807415743933,
          -2.159807415743933
         ],
         "yaxis": "y1",
         "z": [
          0.6814444845681764,
          0.6814444845681764
         ],
         "zmax": 0.1,
         "zmin": -0.1
        },
        {
         "colorbar": {
          "title": ""
         },
         "hoverinfo": "text",
         "legendgroup": "y135",
         "marker": {
          "color": "rgba(0, 0, 0, 1.000)",
          "line": {
           "color": "rgba(0, 0, 0, 1.000)",
           "width": 1
          },
          "size": 2,
          "symbol": "circle"
         },
         "mode": "markers",
         "name": "y135",
         "showlegend": true,
         "text": [
          null,
          null
         ],
         "type": "scatter3d",
         "x": [
          -8.537983965892577,
          -8.537983965892577
         ],
         "xaxis": "x1",
         "y": [
          13.677697774028202,
          13.677697774028202
         ],
         "yaxis": "y1",
         "z": [
          6.2724705273879415,
          6.2724705273879415
         ],
         "zmax": 0.1,
         "zmin": -0.1
        },
        {
         "colorbar": {
          "title": ""
         },
         "hoverinfo": "text",
         "legendgroup": "y136",
         "marker": {
          "color": "rgba(0, 0, 0, 1.000)",
          "line": {
           "color": "rgba(0, 0, 0, 1.000)",
           "width": 1
          },
          "size": 2,
          "symbol": "circle"
         },
         "mode": "markers",
         "name": "y136",
         "showlegend": true,
         "text": [
          null,
          null
         ],
         "type": "scatter3d",
         "x": [
          -0.29228853750461425,
          -0.29228853750461425
         ],
         "xaxis": "x1",
         "y": [
          5.43984216797327,
          5.43984216797327
         ],
         "yaxis": "y1",
         "z": [
          3.529131932813975,
          3.529131932813975
         ],
         "zmax": 0.1,
         "zmin": -0.1
        },
        {
         "colorbar": {
          "title": ""
         },
         "hoverinfo": "text",
         "legendgroup": "y137",
         "marker": {
          "color": "rgba(0, 0, 0, 1.000)",
          "line": {
           "color": "rgba(0, 0, 0, 1.000)",
           "width": 1
          },
          "size": 2,
          "symbol": "circle"
         },
         "mode": "markers",
         "name": "y137",
         "showlegend": true,
         "text": [
          null,
          null
         ],
         "type": "scatter3d",
         "x": [
          0.7450052533738774,
          0.7450052533738774
         ],
         "xaxis": "x1",
         "y": [
          9.957842382737901,
          9.957842382737901
         ],
         "yaxis": "y1",
         "z": [
          6.886896672949893,
          6.886896672949893
         ],
         "zmax": 0.1,
         "zmin": -0.1
        },
        {
         "colorbar": {
          "title": ""
         },
         "hoverinfo": "text",
         "legendgroup": "y138",
         "marker": {
          "color": "rgba(0, 0, 0, 1.000)",
          "line": {
           "color": "rgba(0, 0, 0, 1.000)",
           "width": 1
          },
          "size": 2,
          "symbol": "circle"
         },
         "mode": "markers",
         "name": "y138",
         "showlegend": true,
         "text": [
          null,
          null
         ],
         "type": "scatter3d",
         "x": [
          3.651617533013939,
          3.651617533013939
         ],
         "xaxis": "x1",
         "y": [
          1.1683015171573912,
          1.1683015171573912
         ],
         "yaxis": "y1",
         "z": [
          1.9960735224429071,
          1.9960735224429071
         ],
         "zmax": 0.1,
         "zmin": -0.1
        },
        {
         "colorbar": {
          "title": ""
         },
         "hoverinfo": "text",
         "legendgroup": "y139",
         "marker": {
          "color": "rgba(0, 0, 0, 1.000)",
          "line": {
           "color": "rgba(0, 0, 0, 1.000)",
           "width": 1
          },
          "size": 2,
          "symbol": "circle"
         },
         "mode": "markers",
         "name": "y139",
         "showlegend": true,
         "text": [
          null,
          null
         ],
         "type": "scatter3d",
         "x": [
          -2.018347238536542,
          -2.018347238536542
         ],
         "xaxis": "x1",
         "y": [
          4.036694477073084,
          4.036694477073084
         ],
         "yaxis": "y1",
         "z": [
          2.018347238536542,
          2.018347238536542
         ],
         "zmax": 0.1,
         "zmin": -0.1
        },
        {
         "colorbar": {
          "title": ""
         },
         "hoverinfo": "text",
         "legendgroup": "y140",
         "marker": {
          "color": "rgba(0, 0, 0, 1.000)",
          "line": {
           "color": "rgba(0, 0, 0, 1.000)",
           "width": 1
          },
          "size": 2,
          "symbol": "circle"
         },
         "mode": "markers",
         "name": "y140",
         "showlegend": true,
         "text": [
          null,
          null
         ],
         "type": "scatter3d",
         "x": [
          -5.685231068036399,
          -5.685231068036399
         ],
         "xaxis": "x1",
         "y": [
          2.5723704384623614,
          2.5723704384623614
         ],
         "yaxis": "y1",
         "z": [
          -0.1801633970372254,
          -0.1801633970372254
         ],
         "zmax": 0.1,
         "zmin": -0.1
        },
        {
         "colorbar": {
          "title": ""
         },
         "hoverinfo": "text",
         "legendgroup": "y141",
         "marker": {
          "color": "rgba(0, 0, 0, 1.000)",
          "line": {
           "color": "rgba(0, 0, 0, 1.000)",
           "width": 1
          },
          "size": 2,
          "symbol": "circle"
         },
         "mode": "markers",
         "name": "y141",
         "showlegend": true,
         "text": [
          null,
          null
         ],
         "type": "scatter3d",
         "x": [
          -6.920668317125629,
          -6.920668317125629
         ],
         "xaxis": "x1",
         "y": [
          -9.850539613202935,
          -9.850539613202935
         ],
         "yaxis": "y1",
         "z": [
          -8.873915847843833,
          -8.873915847843833
         ],
         "zmax": 0.1,
         "zmin": -0.1
        },
        {
         "colorbar": {
          "title": ""
         },
         "hoverinfo": "text",
         "legendgroup": "y142",
         "marker": {
          "color": "rgba(0, 0, 0, 1.000)",
          "line": {
           "color": "rgba(0, 0, 0, 1.000)",
           "width": 1
          },
          "size": 2,
          "symbol": "circle"
         },
         "mode": "markers",
         "name": "y142",
         "showlegend": true,
         "text": [
          null,
          null
         ],
         "type": "scatter3d",
         "x": [
          0.5246589355781093,
          0.5246589355781093
         ],
         "xaxis": "x1",
         "y": [
          -1.0493178711562186,
          -1.0493178711562186
         ],
         "yaxis": "y1",
         "z": [
          -0.5246589355781093,
          -0.5246589355781093
         ],
         "zmax": 0.1,
         "zmin": -0.1
        },
        {
         "colorbar": {
          "title": ""
         },
         "hoverinfo": "text",
         "legendgroup": "y143",
         "marker": {
          "color": "rgba(0, 0, 0, 1.000)",
          "line": {
           "color": "rgba(0, 0, 0, 1.000)",
           "width": 1
          },
          "size": 2,
          "symbol": "circle"
         },
         "mode": "markers",
         "name": "y143",
         "showlegend": true,
         "text": [
          null,
          null
         ],
         "type": "scatter3d",
         "x": [
          -0.849311803522391,
          -0.849311803522391
         ],
         "xaxis": "x1",
         "y": [
          4.372897861426431,
          4.372897861426431
         ],
         "yaxis": "y1",
         "z": [
          2.63216130644349,
          2.63216130644349
         ],
         "zmax": 0.1,
         "zmin": -0.1
        },
        {
         "colorbar": {
          "title": ""
         },
         "hoverinfo": "text",
         "legendgroup": "y144",
         "marker": {
          "color": "rgba(0, 0, 0, 1.000)",
          "line": {
           "color": "rgba(0, 0, 0, 1.000)",
           "width": 1
          },
          "size": 2,
          "symbol": "circle"
         },
         "mode": "markers",
         "name": "y144",
         "showlegend": true,
         "text": [
          null,
          null
         ],
         "type": "scatter3d",
         "x": [
          -5.700875305660368,
          -5.700875305660368
         ],
         "xaxis": "x1",
         "y": [
          -7.7225142432384635,
          -7.7225142432384635
         ],
         "yaxis": "y1",
         "z": [
          -7.048634597379099,
          -7.048634597379099
         ],
         "zmax": 0.1,
         "zmin": -0.1
        },
        {
         "colorbar": {
          "title": ""
         },
         "hoverinfo": "text",
         "legendgroup": "y145",
         "marker": {
          "color": "rgba(0, 0, 0, 1.000)",
          "line": {
           "color": "rgba(0, 0, 0, 1.000)",
           "width": 1
          },
          "size": 2,
          "symbol": "circle"
         },
         "mode": "markers",
         "name": "y145",
         "showlegend": true,
         "text": [
          null,
          null
         ],
         "type": "scatter3d",
         "x": [
          4.127747866546005,
          4.127747866546005
         ],
         "xaxis": "x1",
         "y": [
          -13.197819489652801,
          -13.197819489652801
         ],
         "yaxis": "y1",
         "z": [
          -7.422630370919865,
          -7.422630370919865
         ],
         "zmax": 0.1,
         "zmin": -0.1
        },
        {
         "colorbar": {
          "title": ""
         },
         "hoverinfo": "text",
         "legendgroup": "y146",
         "marker": {
          "color": "rgba(0, 0, 0, 1.000)",
          "line": {
           "color": "rgba(0, 0, 0, 1.000)",
           "width": 1
          },
          "size": 2,
          "symbol": "circle"
         },
         "mode": "markers",
         "name": "y146",
         "showlegend": true,
         "text": [
          null,
          null
         ],
         "type": "scatter3d",
         "x": [
          1.4438329006765775,
          1.4438329006765775
         ],
         "xaxis": "x1",
         "y": [
          -6.134796965445963,
          -6.134796965445963
         ],
         "yaxis": "y1",
         "z": [
          -3.6085870100717825,
          -3.6085870100717825
         ],
         "zmax": 0.1,
         "zmin": -0.1
        },
        {
         "colorbar": {
          "title": ""
         },
         "hoverinfo": "text",
         "legendgroup": "y147",
         "marker": {
          "color": "rgba(0, 0, 0, 1.000)",
          "line": {
           "color": "rgba(0, 0, 0, 1.000)",
           "width": 1
          },
          "size": 2,
          "symbol": "circle"
         },
         "mode": "markers",
         "name": "y147",
         "showlegend": true,
         "text": [
          null,
          null
         ],
         "type": "scatter3d",
         "x": [
          -0.18905564672095743,
          -0.18905564672095743
         ],
         "xaxis": "x1",
         "y": [
          -14.066006125580193,
          -14.066006125580193
         ],
         "yaxis": "y1",
         "z": [
          -9.440355965960448,
          -9.440355965960448
         ],
         "zmax": 0.1,
         "zmin": -0.1
        },
        {
         "colorbar": {
          "title": ""
         },
         "hoverinfo": "text",
         "legendgroup": "y148",
         "marker": {
          "color": "rgba(0, 0, 0, 1.000)",
          "line": {
           "color": "rgba(0, 0, 0, 1.000)",
           "width": 1
          },
          "size": 2,
          "symbol": "circle"
         },
         "mode": "markers",
         "name": "y148",
         "showlegend": true,
         "text": [
          null,
          null
         ],
         "type": "scatter3d",
         "x": [
          -4.873735888974093,
          -4.873735888974093
         ],
         "xaxis": "x1",
         "y": [
          4.762517799227861,
          4.762517799227861
         ],
         "yaxis": "y1",
         "z": [
          1.550433236493876,
          1.550433236493876
         ],
         "zmax": 0.1,
         "zmin": -0.1
        },
        {
         "colorbar": {
          "title": ""
         },
         "hoverinfo": "text",
         "legendgroup": "y149",
         "marker": {
          "color": "rgba(0, 0, 0, 1.000)",
          "line": {
           "color": "rgba(0, 0, 0, 1.000)",
           "width": 1
          },
          "size": 2,
          "symbol": "circle"
         },
         "mode": "markers",
         "name": "y149",
         "showlegend": true,
         "text": [
          null,
          null
         ],
         "type": "scatter3d",
         "x": [
          -3.3153579745846837,
          -3.3153579745846837
         ],
         "xaxis": "x1",
         "y": [
          -2.374751307691826,
          -2.374751307691826
         ],
         "yaxis": "y1",
         "z": [
          -2.6882868633227783,
          -2.6882868633227783
         ],
         "zmax": 0.1,
         "zmin": -0.1
        },
        {
         "colorbar": {
          "title": ""
         },
         "hoverinfo": "text",
         "legendgroup": "y150",
         "marker": {
          "color": "rgba(0, 0, 0, 1.000)",
          "line": {
           "color": "rgba(0, 0, 0, 1.000)",
           "width": 1
          },
          "size": 2,
          "symbol": "circle"
         },
         "mode": "markers",
         "name": "y150",
         "showlegend": true,
         "text": [
          null,
          null
         ],
         "type": "scatter3d",
         "x": [
          -2.636289833047966,
          -2.636289833047966
         ],
         "xaxis": "x1",
         "y": [
          -2.115440031701424,
          -2.115440031701424
         ],
         "yaxis": "y1",
         "z": [
          -2.289056632150271,
          -2.289056632150271
         ],
         "zmax": 0.1,
         "zmin": -0.1
        },
        {
         "colorbar": {
          "title": ""
         },
         "hoverinfo": "text",
         "legendgroup": "y151",
         "marker": {
          "color": "rgba(0, 0, 0, 1.000)",
          "line": {
           "color": "rgba(0, 0, 0, 1.000)",
           "width": 1
          },
          "size": 2,
          "symbol": "circle"
         },
         "mode": "markers",
         "name": "y151",
         "showlegend": true,
         "text": [
          null,
          null
         ],
         "type": "scatter3d",
         "x": [
          -2.817370074124292,
          -2.817370074124292
         ],
         "xaxis": "x1",
         "y": [
          14.041338037340045,
          14.041338037340045
         ],
         "yaxis": "y1",
         "z": [
          8.421768666851932,
          8.421768666851932
         ],
         "zmax": 0.1,
         "zmin": -0.1
        },
        {
         "colorbar": {
          "title": ""
         },
         "hoverinfo": "text",
         "legendgroup": "y152",
         "marker": {
          "color": "rgba(0, 0, 0, 1.000)",
          "line": {
           "color": "rgba(0, 0, 0, 1.000)",
           "width": 1
          },
          "size": 2,
          "symbol": "circle"
         },
         "mode": "markers",
         "name": "y152",
         "showlegend": true,
         "text": [
          null,
          null
         ],
         "type": "scatter3d",
         "x": [
          -9.695604156051385,
          -9.695604156051385
         ],
         "xaxis": "x1",
         "y": [
          5.845339193033698,
          5.845339193033698
         ],
         "yaxis": "y1",
         "z": [
          0.6650247433386705,
          0.6650247433386705
         ],
         "zmax": 0.1,
         "zmin": -0.1
        },
        {
         "colorbar": {
          "title": ""
         },
         "hoverinfo": "text",
         "legendgroup": "y153",
         "marker": {
          "color": "rgba(0, 0, 0, 1.000)",
          "line": {
           "color": "rgba(0, 0, 0, 1.000)",
           "width": 1
          },
          "size": 2,
          "symbol": "circle"
         },
         "mode": "markers",
         "name": "y153",
         "showlegend": true,
         "text": [
          null,
          null
         ],
         "type": "scatter3d",
         "x": [
          4.922079776050718,
          4.922079776050718
         ],
         "xaxis": "x1",
         "y": [
          -9.91850348683955,
          -9.91850348683955
         ],
         "yaxis": "y1",
         "z": [
          -4.97164239920946,
          -4.97164239920946
         ],
         "zmax": 0.1,
         "zmin": -0.1
        },
        {
         "colorbar": {
          "title": ""
         },
         "hoverinfo": "text",
         "legendgroup": "y154",
         "marker": {
          "color": "rgba(0, 0, 0, 1.000)",
          "line": {
           "color": "rgba(0, 0, 0, 1.000)",
           "width": 1
          },
          "size": 2,
          "symbol": "circle"
         },
         "mode": "markers",
         "name": "y154",
         "showlegend": true,
         "text": [
          null,
          null
         ],
         "type": "scatter3d",
         "x": [
          -11.209009999845954,
          -11.209009999845954
         ],
         "xaxis": "x1",
         "y": [
          12.716903424374122,
          12.716903424374122
         ],
         "yaxis": "y1",
         "z": [
          4.741598949634097,
          4.741598949634097
         ],
         "zmax": 0.1,
         "zmin": -0.1
        },
        {
         "colorbar": {
          "title": ""
         },
         "hoverinfo": "text",
         "legendgroup": "y155",
         "marker": {
          "color": "rgba(0, 0, 0, 1.000)",
          "line": {
           "color": "rgba(0, 0, 0, 1.000)",
           "width": 1
          },
          "size": 2,
          "symbol": "circle"
         },
         "mode": "markers",
         "name": "y155",
         "showlegend": true,
         "text": [
          null,
          null
         ],
         "type": "scatter3d",
         "x": [
          13.06080346445346,
          13.06080346445346
         ],
         "xaxis": "x1",
         "y": [
          -1.559143541708691,
          -1.559143541708691
         ],
         "yaxis": "y1",
         "z": [
          3.314172127012026,
          3.314172127012026
         ],
         "zmax": 0.1,
         "zmin": -0.1
        },
        {
         "colorbar": {
          "title": ""
         },
         "hoverinfo": "text",
         "legendgroup": "y156",
         "marker": {
          "color": "rgba(0, 0, 0, 1.000)",
          "line": {
           "color": "rgba(0, 0, 0, 1.000)",
           "width": 1
          },
          "size": 2,
          "symbol": "circle"
         },
         "mode": "markers",
         "name": "y156",
         "showlegend": true,
         "text": [
          null,
          null
         ],
         "type": "scatter3d",
         "x": [
          5.039849030066221,
          5.039849030066221
         ],
         "xaxis": "x1",
         "y": [
          -1.0756847785181392,
          -1.0756847785181392
         ],
         "yaxis": "y1",
         "z": [
          0.9628264910099806,
          0.9628264910099806
         ],
         "zmax": 0.1,
         "zmin": -0.1
        },
        {
         "colorbar": {
          "title": ""
         },
         "hoverinfo": "text",
         "legendgroup": "y157",
         "marker": {
          "color": "rgba(0, 0, 0, 1.000)",
          "line": {
           "color": "rgba(0, 0, 0, 1.000)",
           "width": 1
          },
          "size": 2,
          "symbol": "circle"
         },
         "mode": "markers",
         "name": "y157",
         "showlegend": true,
         "text": [
          null,
          null
         ],
         "type": "scatter3d",
         "x": [
          -4.227434491203539,
          -4.227434491203539
         ],
         "xaxis": "x1",
         "y": [
          -10.657548583442512,
          -10.657548583442512
         ],
         "yaxis": "y1",
         "z": [
          -8.514177219362853,
          -8.514177219362853
         ],
         "zmax": 0.1,
         "zmin": -0.1
        },
        {
         "colorbar": {
          "title": ""
         },
         "hoverinfo": "text",
         "legendgroup": "y158",
         "marker": {
          "color": "rgba(0, 0, 0, 1.000)",
          "line": {
           "color": "rgba(0, 0, 0, 1.000)",
           "width": 1
          },
          "size": 2,
          "symbol": "circle"
         },
         "mode": "markers",
         "name": "y158",
         "showlegend": true,
         "text": [
          null,
          null
         ],
         "type": "scatter3d",
         "x": [
          -5.146219225940956,
          -5.146219225940956
         ],
         "xaxis": "x1",
         "y": [
          2.9868978261433163,
          2.9868978261433163
         ],
         "yaxis": "y1",
         "z": [
          0.2758588087818923,
          0.2758588087818923
         ],
         "zmax": 0.1,
         "zmin": -0.1
        },
        {
         "colorbar": {
          "title": ""
         },
         "hoverinfo": "text",
         "legendgroup": "y159",
         "marker": {
          "color": "rgba(0, 0, 0, 1.000)",
          "line": {
           "color": "rgba(0, 0, 0, 1.000)",
           "width": 1
          },
          "size": 2,
          "symbol": "circle"
         },
         "mode": "markers",
         "name": "y159",
         "showlegend": true,
         "text": [
          null,
          null
         ],
         "type": "scatter3d",
         "x": [
          10.292362719895584,
          10.292362719895584
         ],
         "xaxis": "x1",
         "y": [
          -0.5514930079804712,
          -0.5514930079804712
         ],
         "yaxis": "y1",
         "z": [
          3.0631255679782137,
          3.0631255679782137
         ],
         "zmax": 0.1,
         "zmin": -0.1
        },
        {
         "colorbar": {
          "title": ""
         },
         "hoverinfo": "text",
         "legendgroup": "y160",
         "marker": {
          "color": "rgba(0, 0, 0, 1.000)",
          "line": {
           "color": "rgba(0, 0, 0, 1.000)",
           "width": 1
          },
          "size": 2,
          "symbol": "circle"
         },
         "mode": "markers",
         "name": "y160",
         "showlegend": true,
         "text": [
          null,
          null
         ],
         "type": "scatter3d",
         "x": [
          2.3171510361816727,
          2.3171510361816727
         ],
         "xaxis": "x1",
         "y": [
          -0.08975170335513027,
          -0.08975170335513027
         ],
         "yaxis": "y1",
         "z": [
          0.712549209823804,
          0.712549209823804
         ],
         "zmax": 0.1,
         "zmin": -0.1
        },
        {
         "colorbar": {
          "title": ""
         },
         "hoverinfo": "text",
         "legendgroup": "y161",
         "marker": {
          "color": "rgba(0, 0, 0, 1.000)",
          "line": {
           "color": "rgba(0, 0, 0, 1.000)",
           "width": 1
          },
          "size": 2,
          "symbol": "circle"
         },
         "mode": "markers",
         "name": "y161",
         "showlegend": true,
         "text": [
          null,
          null
         ],
         "type": "scatter3d",
         "x": [
          -4.405948896056342,
          -4.405948896056342
         ],
         "xaxis": "x1",
         "y": [
          10.98459441376147,
          10.98459441376147
         ],
         "yaxis": "y1",
         "z": [
          5.854413310488866,
          5.854413310488866
         ],
         "zmax": 0.1,
         "zmin": -0.1
        },
        {
         "colorbar": {
          "title": ""
         },
         "hoverinfo": "text",
         "legendgroup": "y162",
         "marker": {
          "color": "rgba(0, 0, 0, 1.000)",
          "line": {
           "color": "rgba(0, 0, 0, 1.000)",
           "width": 1
          },
          "size": 2,
          "symbol": "circle"
         },
         "mode": "markers",
         "name": "y162",
         "showlegend": true,
         "text": [
          null,
          null
         ],
         "type": "scatter3d",
         "x": [
          -1.1202752234183588,
          -1.1202752234183588
         ],
         "xaxis": "x1",
         "y": [
          -8.363891086938896,
          -8.363891086938896
         ],
         "yaxis": "y1",
         "z": [
          -5.949352465765383,
          -5.949352465765383
         ],
         "zmax": 0.1,
         "zmin": -0.1
        },
        {
         "colorbar": {
          "title": ""
         },
         "hoverinfo": "text",
         "legendgroup": "y163",
         "marker": {
          "color": "rgba(0, 0, 0, 1.000)",
          "line": {
           "color": "rgba(0, 0, 0, 1.000)",
           "width": 1
          },
          "size": 2,
          "symbol": "circle"
         },
         "mode": "markers",
         "name": "y163",
         "showlegend": true,
         "text": [
          null,
          null
         ],
         "type": "scatter3d",
         "x": [
          10.954462895819464,
          10.954462895819464
         ],
         "xaxis": "x1",
         "y": [
          0.6555180506159899,
          0.6555180506159899
         ],
         "yaxis": "y1",
         "z": [
          4.088499665683814,
          4.088499665683814
         ],
         "zmax": 0.1,
         "zmin": -0.1
        },
        {
         "colorbar": {
          "title": ""
         },
         "hoverinfo": "text",
         "legendgroup": "y164",
         "marker": {
          "color": "rgba(0, 0, 0, 1.000)",
          "line": {
           "color": "rgba(0, 0, 0, 1.000)",
           "width": 1
          },
          "size": 2,
          "symbol": "circle"
         },
         "mode": "markers",
         "name": "y164",
         "showlegend": true,
         "text": [
          null,
          null
         ],
         "type": "scatter3d",
         "x": [
          0.23023431172054876,
          0.23023431172054876
         ],
         "xaxis": "x1",
         "y": [
          -0.4604686234410975,
          -0.4604686234410975
         ],
         "yaxis": "y1",
         "z": [
          -0.23023431172054876,
          -0.23023431172054876
         ],
         "zmax": 0.1,
         "zmin": -0.1
        },
        {
         "colorbar": {
          "title": ""
         },
         "hoverinfo": "text",
         "legendgroup": "y165",
         "marker": {
          "color": "rgba(0, 0, 0, 1.000)",
          "line": {
           "color": "rgba(0, 0, 0, 1.000)",
           "width": 1
          },
          "size": 2,
          "symbol": "circle"
         },
         "mode": "markers",
         "name": "y165",
         "showlegend": true,
         "text": [
          null,
          null
         ],
         "type": "scatter3d",
         "x": [
          -11.719683889678928,
          -11.719683889678928
         ],
         "xaxis": "x1",
         "y": [
          -0.9802794614277941,
          -0.9802794614277941
         ],
         "yaxis": "y1",
         "z": [
          -4.560080937511506,
          -4.560080937511506
         ],
         "zmax": 0.1,
         "zmin": -0.1
        },
        {
         "colorbar": {
          "title": ""
         },
         "hoverinfo": "text",
         "legendgroup": "y166",
         "marker": {
          "color": "rgba(0, 0, 0, 1.000)",
          "line": {
           "color": "rgba(0, 0, 0, 1.000)",
           "width": 1
          },
          "size": 2,
          "symbol": "circle"
         },
         "mode": "markers",
         "name": "y166",
         "showlegend": true,
         "text": [
          null,
          null
         ],
         "type": "scatter3d",
         "x": [
          -9.377164944702342,
          -9.377164944702342
         ],
         "xaxis": "x1",
         "y": [
          -10.52985685659424,
          -10.52985685659424
         ],
         "yaxis": "y1",
         "z": [
          -10.14562621929694,
          -10.14562621929694
         ],
         "zmax": 0.1,
         "zmin": -0.1
        },
        {
         "colorbar": {
          "title": ""
         },
         "hoverinfo": "text",
         "legendgroup": "y167",
         "marker": {
          "color": "rgba(0, 0, 0, 1.000)",
          "line": {
           "color": "rgba(0, 0, 0, 1.000)",
           "width": 1
          },
          "size": 2,
          "symbol": "circle"
         },
         "mode": "markers",
         "name": "y167",
         "showlegend": true,
         "text": [
          null,
          null
         ],
         "type": "scatter3d",
         "x": [
          9.752191057632647,
          9.752191057632647
         ],
         "xaxis": "x1",
         "y": [
          -2.9623123598385392,
          -2.9623123598385392
         ],
         "yaxis": "y1",
         "z": [
          1.2758554459851896,
          1.2758554459851896
         ],
         "zmax": 0.1,
         "zmin": -0.1
        },
        {
         "colorbar": {
          "title": ""
         },
         "hoverinfo": "text",
         "legendgroup": "y168",
         "marker": {
          "color": "rgba(0, 0, 0, 1.000)",
          "line": {
           "color": "rgba(0, 0, 0, 1.000)",
           "width": 1
          },
          "size": 2,
          "symbol": "circle"
         },
         "mode": "markers",
         "name": "y168",
         "showlegend": true,
         "text": [
          null,
          null
         ],
         "type": "scatter3d",
         "x": [
          0,
          0
         ],
         "xaxis": "x1",
         "y": [
          0,
          0
         ],
         "yaxis": "y1",
         "z": [
          0,
          0
         ],
         "zmax": 0.1,
         "zmin": -0.1
        },
        {
         "colorbar": {
          "title": ""
         },
         "hoverinfo": "text",
         "legendgroup": "y169",
         "marker": {
          "color": "rgba(0, 0, 0, 1.000)",
          "line": {
           "color": "rgba(0, 0, 0, 1.000)",
           "width": 1
          },
          "size": 2,
          "symbol": "circle"
         },
         "mode": "markers",
         "name": "y169",
         "showlegend": true,
         "text": [
          null,
          null
         ],
         "type": "scatter3d",
         "x": [
          8.874821457758436,
          8.874821457758436
         ],
         "xaxis": "x1",
         "y": [
          -12.607641395204192,
          -12.607641395204192
         ],
         "yaxis": "y1",
         "z": [
          -5.446820444216649,
          -5.446820444216649
         ],
         "zmax": 0.1,
         "zmin": -0.1
        },
        {
         "colorbar": {
          "title": ""
         },
         "hoverinfo": "text",
         "legendgroup": "y170",
         "marker": {
          "color": "rgba(0, 0, 0, 1.000)",
          "line": {
           "color": "rgba(0, 0, 0, 1.000)",
           "width": 1
          },
          "size": 2,
          "symbol": "circle"
         },
         "mode": "markers",
         "name": "y170",
         "showlegend": true,
         "text": [
          null,
          null
         ],
         "type": "scatter3d",
         "x": [
          -1.3244742745179214,
          -1.3244742745179214
         ],
         "xaxis": "x1",
         "y": [
          -3.6041439814853438,
          -3.6041439814853438
         ],
         "yaxis": "y1",
         "z": [
          -2.8442540791628694,
          -2.8442540791628694
         ],
         "zmax": 0.1,
         "zmin": -0.1
        },
        {
         "colorbar": {
          "title": ""
         },
         "hoverinfo": "text",
         "legendgroup": "y171",
         "marker": {
          "color": "rgba(0, 0, 0, 1.000)",
          "line": {
           "color": "rgba(0, 0, 0, 1.000)",
           "width": 1
          },
          "size": 2,
          "symbol": "circle"
         },
         "mode": "markers",
         "name": "y171",
         "showlegend": true,
         "text": [
          null,
          null
         ],
         "type": "scatter3d",
         "x": [
          -8.331496173661,
          -8.331496173661
         ],
         "xaxis": "x1",
         "y": [
          -0.3646198699204062,
          -0.3646198699204062
         ],
         "yaxis": "y1",
         "z": [
          -3.0202453045006044,
          -3.0202453045006044
         ],
         "zmax": 0.1,
         "zmin": -0.1
        },
        {
         "colorbar": {
          "title": ""
         },
         "hoverinfo": "text",
         "legendgroup": "y172",
         "marker": {
          "color": "rgba(0, 0, 0, 1.000)",
          "line": {
           "color": "rgba(0, 0, 0, 1.000)",
           "width": 1
          },
          "size": 2,
          "symbol": "circle"
         },
         "mode": "markers",
         "name": "y172",
         "showlegend": true,
         "text": [
          null,
          null
         ],
         "type": "scatter3d",
         "x": [
          10.041470067315906,
          10.041470067315906
         ],
         "xaxis": "x1",
         "y": [
          -7.804607079718631,
          -7.804607079718631
         ],
         "yaxis": "y1",
         "z": [
          -1.8559146973737848,
          -1.8559146973737848
         ],
         "zmax": 0.1,
         "zmin": -0.1
        },
        {
         "colorbar": {
          "title": ""
         },
         "hoverinfo": "text",
         "legendgroup": "y173",
         "marker": {
          "color": "rgba(0, 0, 0, 1.000)",
          "line": {
           "color": "rgba(0, 0, 0, 1.000)",
           "width": 1
          },
          "size": 2,
          "symbol": "circle"
         },
         "mode": "markers",
         "name": "y173",
         "showlegend": true,
         "text": [
          null,
          null
         ],
         "type": "scatter3d",
         "x": [
          13.392582044101495,
          13.392582044101495
         ],
         "xaxis": "x1",
         "y": [
          -2.9034717513909998,
          -2.9034717513909998
         ],
         "yaxis": "y1",
         "z": [
          2.528546180439832,
          2.528546180439832
         ],
         "zmax": 0.1,
         "zmin": -0.1
        },
        {
         "colorbar": {
          "title": ""
         },
         "hoverinfo": "text",
         "legendgroup": "y174",
         "marker": {
          "color": "rgba(0, 0, 0, 1.000)",
          "line": {
           "color": "rgba(0, 0, 0, 1.000)",
           "width": 1
          },
          "size": 2,
          "symbol": "circle"
         },
         "mode": "markers",
         "name": "y174",
         "showlegend": true,
         "text": [
          null,
          null
         ],
         "type": "scatter3d",
         "x": [
          -11.991996036859213,
          -11.991996036859213
         ],
         "xaxis": "x1",
         "y": [
          0.18754413250073787,
          0.18754413250073787
         ],
         "yaxis": "y1",
         "z": [
          -3.8723025906192463,
          -3.8723025906192463
         ],
         "zmax": 0.1,
         "zmin": -0.1
        },
        {
         "colorbar": {
          "title": ""
         },
         "hoverinfo": "text",
         "legendgroup": "y175",
         "marker": {
          "color": "rgba(0, 0, 0, 1.000)",
          "line": {
           "color": "rgba(0, 0, 0, 1.000)",
           "width": 1
          },
          "size": 2,
          "symbol": "circle"
         },
         "mode": "markers",
         "name": "y175",
         "showlegend": true,
         "text": [
          null,
          null
         ],
         "type": "scatter3d",
         "x": [
          0.3782792206136296,
          0.3782792206136296
         ],
         "xaxis": "x1",
         "y": [
          -0.2054429313056989,
          -0.2054429313056989
         ],
         "yaxis": "y1",
         "z": [
          -0.010868880665922731,
          -0.010868880665922731
         ],
         "zmax": 0.1,
         "zmin": -0.1
        },
        {
         "colorbar": {
          "title": ""
         },
         "hoverinfo": "text",
         "legendgroup": "y176",
         "marker": {
          "color": "rgba(0, 0, 0, 1.000)",
          "line": {
           "color": "rgba(0, 0, 0, 1.000)",
           "width": 1
          },
          "size": 2,
          "symbol": "circle"
         },
         "mode": "markers",
         "name": "y176",
         "showlegend": true,
         "text": [
          null,
          null
         ],
         "type": "scatter3d",
         "x": [
          14.456591720203257,
          14.456591720203257
         ],
         "xaxis": "x1",
         "y": [
          -1.4898807696281882,
          -1.4898807696281882
         ],
         "yaxis": "y1",
         "z": [
          3.8256100603156264,
          3.8256100603156264
         ],
         "zmax": 0.1,
         "zmin": -0.1
        },
        {
         "colorbar": {
          "title": ""
         },
         "hoverinfo": "text",
         "legendgroup": "y177",
         "marker": {
          "color": "rgba(0, 0, 0, 1.000)",
          "line": {
           "color": "rgba(0, 0, 0, 1.000)",
           "width": 1
          },
          "size": 2,
          "symbol": "circle"
         },
         "mode": "markers",
         "name": "y177",
         "showlegend": true,
         "text": [
          null,
          null
         ],
         "type": "scatter3d",
         "x": [
          -1.0115778404896092,
          -1.0115778404896092
         ],
         "xaxis": "x1",
         "y": [
          -0.8069715139433296,
          -0.8069715139433296
         ],
         "yaxis": "y1",
         "z": [
          -0.8751736227920894,
          -0.8751736227920894
         ],
         "zmax": 0.1,
         "zmin": -0.1
        },
        {
         "colorbar": {
          "title": ""
         },
         "hoverinfo": "text",
         "legendgroup": "y178",
         "marker": {
          "color": "rgba(0, 0, 0, 1.000)",
          "line": {
           "color": "rgba(0, 0, 0, 1.000)",
           "width": 1
          },
          "size": 2,
          "symbol": "circle"
         },
         "mode": "markers",
         "name": "y178",
         "showlegend": true,
         "text": [
          null,
          null
         ],
         "type": "scatter3d",
         "x": [
          -0.8275281742427243,
          -0.8275281742427243
         ],
         "xaxis": "x1",
         "y": [
          -3.3281851296771015,
          -3.3281851296771015
         ],
         "yaxis": "y1",
         "z": [
          -2.4946328111989757,
          -2.4946328111989757
         ],
         "zmax": 0.1,
         "zmin": -0.1
        },
        {
         "colorbar": {
          "title": ""
         },
         "hoverinfo": "text",
         "legendgroup": "y179",
         "marker": {
          "color": "rgba(0, 0, 0, 1.000)",
          "line": {
           "color": "rgba(0, 0, 0, 1.000)",
           "width": 1
          },
          "size": 2,
          "symbol": "circle"
         },
         "mode": "markers",
         "name": "y179",
         "showlegend": true,
         "text": [
          null,
          null
         ],
         "type": "scatter3d",
         "x": [
          5.9173984613118975,
          5.9173984613118975
         ],
         "xaxis": "x1",
         "y": [
          -1.150326986976614,
          -1.150326986976614
         ],
         "yaxis": "y1",
         "z": [
          1.2055814957862232,
          1.2055814957862232
         ],
         "zmax": 0.1,
         "zmin": -0.1
        },
        {
         "colorbar": {
          "title": ""
         },
         "hoverinfo": "text",
         "legendgroup": "y180",
         "marker": {
          "color": "rgba(0, 0, 0, 1.000)",
          "line": {
           "color": "rgba(0, 0, 0, 1.000)",
           "width": 1
          },
          "size": 2,
          "symbol": "circle"
         },
         "mode": "markers",
         "name": "y180",
         "showlegend": true,
         "text": [
          null,
          null
         ],
         "type": "scatter3d",
         "x": [
          -9.395707005681764,
          -9.395707005681764
         ],
         "xaxis": "x1",
         "y": [
          0,
          0
         ],
         "yaxis": "y1",
         "z": [
          -3.1319023352272546,
          -3.1319023352272546
         ],
         "zmax": 0.1,
         "zmin": -0.1
        },
        {
         "colorbar": {
          "title": ""
         },
         "hoverinfo": "text",
         "legendgroup": "y181",
         "marker": {
          "color": "rgba(0, 0, 0, 1.000)",
          "line": {
           "color": "rgba(0, 0, 0, 1.000)",
           "width": 1
          },
          "size": 2,
          "symbol": "circle"
         },
         "mode": "markers",
         "name": "y181",
         "showlegend": true,
         "text": [
          null,
          null
         ],
         "type": "scatter3d",
         "x": [
          -9.782320825761792,
          -9.782320825761792
         ],
         "xaxis": "x1",
         "y": [
          5.357719604662252,
          5.357719604662252
         ],
         "yaxis": "y1",
         "z": [
          0.31103946118757086,
          0.31103946118757086
         ],
         "zmax": 0.1,
         "zmin": -0.1
        },
        {
         "colorbar": {
          "title": ""
         },
         "hoverinfo": "text",
         "legendgroup": "y182",
         "marker": {
          "color": "rgba(0, 0, 0, 1.000)",
          "line": {
           "color": "rgba(0, 0, 0, 1.000)",
           "width": 1
          },
          "size": 2,
          "symbol": "circle"
         },
         "mode": "markers",
         "name": "y182",
         "showlegend": true,
         "text": [
          null,
          null
         ],
         "type": "scatter3d",
         "x": [
          1.5072506209054142,
          1.5072506209054142
         ],
         "xaxis": "x1",
         "y": [
          -8.668646248131513,
          -8.668646248131513
         ],
         "yaxis": "y1",
         "z": [
          -5.276680625119203,
          -5.276680625119203
         ],
         "zmax": 0.1,
         "zmin": -0.1
        },
        {
         "colorbar": {
          "title": ""
         },
         "hoverinfo": "text",
         "legendgroup": "y183",
         "marker": {
          "color": "rgba(0, 0, 0, 1.000)",
          "line": {
           "color": "rgba(0, 0, 0, 1.000)",
           "width": 1
          },
          "size": 2,
          "symbol": "circle"
         },
         "mode": "markers",
         "name": "y183",
         "showlegend": true,
         "text": [
          null,
          null
         ],
         "type": "scatter3d",
         "x": [
          -9.548550269538506,
          -9.548550269538506
         ],
         "xaxis": "x1",
         "y": [
          -0.36070408617443217,
          -0.36070408617443217
         ],
         "yaxis": "y1",
         "z": [
          -3.4233194806291234,
          -3.4233194806291234
         ],
         "zmax": 0.1,
         "zmin": -0.1
        },
        {
         "colorbar": {
          "title": ""
         },
         "hoverinfo": "text",
         "legendgroup": "y184",
         "marker": {
          "color": "rgba(0, 0, 0, 1.000)",
          "line": {
           "color": "rgba(0, 0, 0, 1.000)",
           "width": 1
          },
          "size": 2,
          "symbol": "circle"
         },
         "mode": "markers",
         "name": "y184",
         "showlegend": true,
         "text": [
          null,
          null
         ],
         "type": "scatter3d",
         "x": [
          -2.905568112463266,
          -2.905568112463266
         ],
         "xaxis": "x1",
         "y": [
          6.034151475055127,
          6.034151475055127
         ],
         "yaxis": "y1",
         "z": [
          3.0542449458823295,
          3.0542449458823295
         ],
         "zmax": 0.1,
         "zmin": -0.1
        },
        {
         "colorbar": {
          "title": ""
         },
         "hoverinfo": "text",
         "legendgroup": "y185",
         "marker": {
          "color": "rgba(0, 0, 0, 1.000)",
          "line": {
           "color": "rgba(0, 0, 0, 1.000)",
           "width": 1
          },
          "size": 2,
          "symbol": "circle"
         },
         "mode": "markers",
         "name": "y185",
         "showlegend": true,
         "text": [
          null,
          null
         ],
         "type": "scatter3d",
         "x": [
          -0.1782424587336111,
          -0.1782424587336111
         ],
         "xaxis": "x1",
         "y": [
          -4.892078022619044,
          -4.892078022619044
         ],
         "yaxis": "y1",
         "z": [
          -3.3207995013239,
          -3.3207995013239
         ],
         "zmax": 0.1,
         "zmin": -0.1
        },
        {
         "colorbar": {
          "title": ""
         },
         "hoverinfo": "text",
         "legendgroup": "y186",
         "marker": {
          "color": "rgba(0, 0, 0, 1.000)",
          "line": {
           "color": "rgba(0, 0, 0, 1.000)",
           "width": 1
          },
          "size": 2,
          "symbol": "circle"
         },
         "mode": "markers",
         "name": "y186",
         "showlegend": true,
         "text": [
          null,
          null
         ],
         "type": "scatter3d",
         "x": [
          -5.061028672627363,
          -5.061028672627363
         ],
         "xaxis": "x1",
         "y": [
          -3.745715257355606,
          -3.745715257355606
         ],
         "yaxis": "y1",
         "z": [
          -4.184153062446192,
          -4.184153062446192
         ],
         "zmax": 0.1,
         "zmin": -0.1
        },
        {
         "colorbar": {
          "title": ""
         },
         "hoverinfo": "text",
         "legendgroup": "y187",
         "marker": {
          "color": "rgba(0, 0, 0, 1.000)",
          "line": {
           "color": "rgba(0, 0, 0, 1.000)",
           "width": 1
          },
          "size": 2,
          "symbol": "circle"
         },
         "mode": "markers",
         "name": "y187",
         "showlegend": true,
         "text": [
          null,
          null
         ],
         "type": "scatter3d",
         "x": [
          3.3322367545788256,
          3.3322367545788256
         ],
         "xaxis": "x1",
         "y": [
          7.093313086511039,
          7.093313086511039
         ],
         "yaxis": "y1",
         "z": [
          5.839620975866968,
          5.839620975866968
         ],
         "zmax": 0.1,
         "zmin": -0.1
        },
        {
         "colorbar": {
          "title": ""
         },
         "hoverinfo": "text",
         "legendgroup": "y188",
         "marker": {
          "color": "rgba(0, 0, 0, 1.000)",
          "line": {
           "color": "rgba(0, 0, 0, 1.000)",
           "width": 1
          },
          "size": 2,
          "symbol": "circle"
         },
         "mode": "markers",
         "name": "y188",
         "showlegend": true,
         "text": [
          null,
          null
         ],
         "type": "scatter3d",
         "x": [
          2.302800827523753,
          2.302800827523753
         ],
         "xaxis": "x1",
         "y": [
          0,
          0
         ],
         "yaxis": "y1",
         "z": [
          0.767600275841251,
          0.767600275841251
         ],
         "zmax": 0.1,
         "zmin": -0.1
        },
        {
         "colorbar": {
          "title": ""
         },
         "hoverinfo": "text",
         "legendgroup": "y189",
         "marker": {
          "color": "rgba(0, 0, 0, 1.000)",
          "line": {
           "color": "rgba(0, 0, 0, 1.000)",
           "width": 1
          },
          "size": 2,
          "symbol": "circle"
         },
         "mode": "markers",
         "name": "y189",
         "showlegend": true,
         "text": [
          null,
          null
         ],
         "type": "scatter3d",
         "x": [
          5.651854543823284,
          5.651854543823284
         ],
         "xaxis": "x1",
         "y": [
          -11.352301715018449,
          -11.352301715018449
         ],
         "yaxis": "y1",
         "z": [
          -5.684249628737871,
          -5.684249628737871
         ],
         "zmax": 0.1,
         "zmin": -0.1
        },
        {
         "colorbar": {
          "title": ""
         },
         "hoverinfo": "text",
         "legendgroup": "y190",
         "marker": {
          "color": "rgba(0, 0, 0, 1.000)",
          "line": {
           "color": "rgba(0, 0, 0, 1.000)",
           "width": 1
          },
          "size": 2,
          "symbol": "circle"
         },
         "mode": "markers",
         "name": "y190",
         "showlegend": true,
         "text": [
          null,
          null
         ],
         "type": "scatter3d",
         "x": [
          -14.979894060533653,
          -14.979894060533653
         ],
         "xaxis": "x1",
         "y": [
          -3.8774453920469796,
          -3.8774453920469796
         ],
         "yaxis": "y1",
         "z": [
          -7.578261614875871,
          -7.578261614875871
         ],
         "zmax": 0.1,
         "zmin": -0.1
        },
        {
         "colorbar": {
          "title": ""
         },
         "hoverinfo": "text",
         "legendgroup": "y191",
         "marker": {
          "color": "rgba(0, 0, 0, 1.000)",
          "line": {
           "color": "rgba(0, 0, 0, 1.000)",
           "width": 1
          },
          "size": 2,
          "symbol": "circle"
         },
         "mode": "markers",
         "name": "y191",
         "showlegend": true,
         "text": [
          null,
          null
         ],
         "type": "scatter3d",
         "x": [
          0.8418115252850411,
          0.8418115252850411
         ],
         "xaxis": "x1",
         "y": [
          -6.533494770644239,
          -6.533494770644239
         ],
         "yaxis": "y1",
         "z": [
          -4.0750593386678124,
          -4.0750593386678124
         ],
         "zmax": 0.1,
         "zmin": -0.1
        },
        {
         "colorbar": {
          "title": ""
         },
         "hoverinfo": "text",
         "legendgroup": "y192",
         "marker": {
          "color": "rgba(0, 0, 0, 1.000)",
          "line": {
           "color": "rgba(0, 0, 0, 1.000)",
           "width": 1
          },
          "size": 2,
          "symbol": "circle"
         },
         "mode": "markers",
         "name": "y192",
         "showlegend": true,
         "text": [
          null,
          null
         ],
         "type": "scatter3d",
         "x": [
          -11.283869402926914,
          -11.283869402926914
         ],
         "xaxis": "x1",
         "y": [
          -0.8722900557703008,
          -0.8722900557703008
         ],
         "yaxis": "y1",
         "z": [
          -4.342816504822505,
          -4.342816504822505
         ],
         "zmax": 0.1,
         "zmin": -0.1
        },
        {
         "colorbar": {
          "title": ""
         },
         "hoverinfo": "text",
         "legendgroup": "y193",
         "marker": {
          "color": "rgba(0, 0, 0, 1.000)",
          "line": {
           "color": "rgba(0, 0, 0, 1.000)",
           "width": 1
          },
          "size": 2,
          "symbol": "circle"
         },
         "mode": "markers",
         "name": "y193",
         "showlegend": true,
         "text": [
          null,
          null
         ],
         "type": "scatter3d",
         "x": [
          2.389883805574449,
          2.389883805574449
         ],
         "xaxis": "x1",
         "y": [
          0.1970130914399224,
          0.1970130914399224
         ],
         "yaxis": "y1",
         "z": [
          0.9279699961514314,
          0.9279699961514314
         ],
         "zmax": 0.1,
         "zmin": -0.1
        },
        {
         "colorbar": {
          "title": ""
         },
         "hoverinfo": "text",
         "legendgroup": "y194",
         "marker": {
          "color": "rgba(0, 0, 0, 1.000)",
          "line": {
           "color": "rgba(0, 0, 0, 1.000)",
           "width": 1
          },
          "size": 2,
          "symbol": "circle"
         },
         "mode": "markers",
         "name": "y194",
         "showlegend": true,
         "text": [
          null,
          null
         ],
         "type": "scatter3d",
         "x": [
          3.4369916207269218,
          3.4369916207269218
         ],
         "xaxis": "x1",
         "y": [
          -0.6817006275256343,
          -0.6817006275256343
         ],
         "yaxis": "y1",
         "z": [
          0.691196788558551,
          0.691196788558551
         ],
         "zmax": 0.1,
         "zmin": -0.1
        },
        {
         "colorbar": {
          "title": ""
         },
         "hoverinfo": "text",
         "legendgroup": "y195",
         "marker": {
          "color": "rgba(0, 0, 0, 1.000)",
          "line": {
           "color": "rgba(0, 0, 0, 1.000)",
           "width": 1
          },
          "size": 2,
          "symbol": "circle"
         },
         "mode": "markers",
         "name": "y195",
         "showlegend": true,
         "text": [
          null,
          null
         ],
         "type": "scatter3d",
         "x": [
          -5.692861258470972,
          -5.692861258470972
         ],
         "xaxis": "x1",
         "y": [
          7.286356299647961,
          7.286356299647961
         ],
         "yaxis": "y1",
         "z": [
          2.95995044694165,
          2.95995044694165
         ],
         "zmax": 0.1,
         "zmin": -0.1
        },
        {
         "colorbar": {
          "title": ""
         },
         "hoverinfo": "text",
         "legendgroup": "y196",
         "marker": {
          "color": "rgba(0, 0, 0, 1.000)",
          "line": {
           "color": "rgba(0, 0, 0, 1.000)",
           "width": 1
          },
          "size": 2,
          "symbol": "circle"
         },
         "mode": "markers",
         "name": "y196",
         "showlegend": true,
         "text": [
          null,
          null
         ],
         "type": "scatter3d",
         "x": [
          0.8427813803127362,
          0.8427813803127362
         ],
         "xaxis": "x1",
         "y": [
          -1.7995127041161383,
          -1.7995127041161383
         ],
         "yaxis": "y1",
         "z": [
          -0.9187480093065135,
          -0.9187480093065135
         ],
         "zmax": 0.1,
         "zmin": -0.1
        },
        {
         "colorbar": {
          "title": ""
         },
         "hoverinfo": "text",
         "legendgroup": "y197",
         "marker": {
          "color": "rgba(0, 0, 0, 1.000)",
          "line": {
           "color": "rgba(0, 0, 0, 1.000)",
           "width": 1
          },
          "size": 2,
          "symbol": "circle"
         },
         "mode": "markers",
         "name": "y197",
         "showlegend": true,
         "text": [
          null,
          null
         ],
         "type": "scatter3d",
         "x": [
          2.7525393114569283,
          2.7525393114569283
         ],
         "xaxis": "x1",
         "y": [
          0.13688866185216142,
          0.13688866185216142
         ],
         "yaxis": "y1",
         "z": [
          1.008772211720417,
          1.008772211720417
         ],
         "zmax": 0.1,
         "zmin": -0.1
        },
        {
         "colorbar": {
          "title": ""
         },
         "hoverinfo": "text",
         "legendgroup": "y198",
         "marker": {
          "color": "rgba(0, 0, 0, 1.000)",
          "line": {
           "color": "rgba(0, 0, 0, 1.000)",
           "width": 1
          },
          "size": 2,
          "symbol": "circle"
         },
         "mode": "markers",
         "name": "y198",
         "showlegend": true,
         "text": [
          null,
          null
         ],
         "type": "scatter3d",
         "x": [
          -3.4514607595569218,
          -3.4514607595569218
         ],
         "xaxis": "x1",
         "y": [
          -2.533746648653847,
          -2.533746648653847
         ],
         "yaxis": "y1",
         "z": [
          -2.839651352288205,
          -2.839651352288205
         ],
         "zmax": 0.1,
         "zmin": -0.1
        },
        {
         "colorbar": {
          "title": ""
         },
         "hoverinfo": "text",
         "legendgroup": "y199",
         "marker": {
          "color": "rgba(0, 0, 0, 1.000)",
          "line": {
           "color": "rgba(0, 0, 0, 1.000)",
           "width": 1
          },
          "size": 2,
          "symbol": "circle"
         },
         "mode": "markers",
         "name": "y199",
         "showlegend": true,
         "text": [
          null,
          null
         ],
         "type": "scatter3d",
         "x": [
          4.063703248926099,
          4.063703248926099
         ],
         "xaxis": "x1",
         "y": [
          -11.382912830458448,
          -11.382912830458448
         ],
         "yaxis": "y1",
         "z": [
          -6.234040803996932,
          -6.234040803996932
         ],
         "zmax": 0.1,
         "zmin": -0.1
        },
        {
         "colorbar": {
          "title": ""
         },
         "hoverinfo": "text",
         "legendgroup": "y200",
         "marker": {
          "color": "rgba(0, 0, 0, 1.000)",
          "line": {
           "color": "rgba(0, 0, 0, 1.000)",
           "width": 1
          },
          "size": 2,
          "symbol": "circle"
         },
         "mode": "markers",
         "name": "y200",
         "showlegend": true,
         "text": [
          null,
          null
         ],
         "type": "scatter3d",
         "x": [
          -9.600026792963828,
          -9.600026792963828
         ],
         "xaxis": "x1",
         "y": [
          13.651226819333024,
          13.651226819333024
         ],
         "yaxis": "y1",
         "z": [
          5.9008089485674065,
          5.9008089485674065
         ],
         "zmax": 0.1,
         "zmin": -0.1
        },
        {
         "colorbar": {
          "title": ""
         },
         "hoverinfo": "text",
         "legendgroup": "+z",
         "line": {
          "color": "rgba(0, 0, 0, 1.000)",
          "dash": "solid",
          "shape": "linear",
          "width": 2
         },
         "mode": "lines",
         "name": "+z",
         "showlegend": true,
         "text": [
          null,
          null
         ],
         "type": "scatter3d",
         "x": [
          0,
          0
         ],
         "xaxis": "x1",
         "y": [
          0,
          0
         ],
         "yaxis": "y1",
         "z": [
          0,
          20
         ],
         "zmax": 0.1,
         "zmin": -0.1
        },
        {
         "colorbar": {
          "title": ""
         },
         "hoverinfo": "text",
         "legendgroup": "-z",
         "line": {
          "color": "rgba(128, 128, 128, 1.000)",
          "dash": "solid",
          "shape": "linear",
          "width": 1
         },
         "mode": "lines",
         "name": "-z",
         "showlegend": true,
         "text": [
          null,
          null
         ],
         "type": "scatter3d",
         "x": [
          0,
          0
         ],
         "xaxis": "x1",
         "y": [
          0,
          0
         ],
         "yaxis": "y1",
         "z": [
          0,
          -20
         ],
         "zmax": 0.1,
         "zmin": -0.1
        },
        {
         "colorbar": {
          "title": ""
         },
         "hoverinfo": "text",
         "legendgroup": "+y",
         "line": {
          "color": "rgba(0, 0, 0, 1.000)",
          "dash": "solid",
          "shape": "linear",
          "width": 3
         },
         "mode": "lines",
         "name": "+y",
         "showlegend": true,
         "text": [
          null,
          null
         ],
         "type": "scatter3d",
         "x": [
          0,
          0
         ],
         "xaxis": "x1",
         "y": [
          0,
          20
         ],
         "yaxis": "y1",
         "z": [
          0,
          0
         ],
         "zmax": 0.1,
         "zmin": -0.1
        },
        {
         "colorbar": {
          "title": ""
         },
         "hoverinfo": "text",
         "legendgroup": "-y",
         "line": {
          "color": "rgba(128, 128, 128, 1.000)",
          "dash": "solid",
          "shape": "linear",
          "width": 2
         },
         "mode": "lines",
         "name": "-y",
         "showlegend": true,
         "text": [
          null,
          null
         ],
         "type": "scatter3d",
         "x": [
          0,
          0
         ],
         "xaxis": "x1",
         "y": [
          0,
          -20
         ],
         "yaxis": "y1",
         "z": [
          0,
          0
         ],
         "zmax": 0.1,
         "zmin": -0.1
        },
        {
         "colorbar": {
          "title": ""
         },
         "hoverinfo": "text",
         "legendgroup": "+x",
         "line": {
          "color": "rgba(0, 0, 0, 1.000)",
          "dash": "solid",
          "shape": "linear",
          "width": 3
         },
         "mode": "lines",
         "name": "+x",
         "showlegend": true,
         "text": [
          null,
          null
         ],
         "type": "scatter3d",
         "x": [
          0,
          20
         ],
         "xaxis": "x1",
         "y": [
          0,
          0
         ],
         "yaxis": "y1",
         "z": [
          0,
          0
         ],
         "zmax": 0.1,
         "zmin": -0.1
        },
        {
         "colorbar": {
          "title": ""
         },
         "hoverinfo": "text",
         "legendgroup": "-x",
         "line": {
          "color": "rgba(128, 128, 128, 1.000)",
          "dash": "solid",
          "shape": "linear",
          "width": 2
         },
         "mode": "lines",
         "name": "-x",
         "showlegend": true,
         "text": [
          null,
          null
         ],
         "type": "scatter3d",
         "x": [
          0,
          -20
         ],
         "xaxis": "x1",
         "y": [
          0,
          0
         ],
         "yaxis": "y1",
         "z": [
          0,
          0
         ],
         "zmax": 0.1,
         "zmin": -0.1
        }
       ],
       "layout": {
        "annotations": [
         {
          "font": {
           "color": "rgba(0, 0, 0, 1.000)",
           "family": "sans-serif",
           "size": 20
          },
          "rotation": 0,
          "showarrow": false,
          "text": "Example 3: Span{p,q,r}",
          "x": 0.5222222222222223,
          "xanchor": "center",
          "xref": "paper",
          "y": 1,
          "yanchor": "top",
          "yref": "paper"
         }
        ],
        "height": 400,
        "margin": {
         "b": 20,
         "l": 0,
         "r": 0,
         "t": 20
        },
        "paper_bgcolor": "rgba(255, 255, 255, 1.000)",
        "plot_bgcolor": "rgba(255, 255, 255, 1.000)",
        "scene": {
         "camera": {
          "eye": {
           "x": 1.12583302491977,
           "y": -1.9499999999999997,
           "z": 1.3
          }
         },
         "xaxis": {
          "anchor": "y1",
          "domain": [
           0.05100612423447069,
           0.9934383202099737
          ],
          "gridcolor": "rgba(0, 0, 0, 0.100)",
          "gridwidth": 0.5,
          "linecolor": "rgba(0, 0, 0, 1.000)",
          "mirror": false,
          "range": [
           -15.9,
           15.9
          ],
          "showgrid": true,
          "showline": true,
          "showticklabels": true,
          "tickangle": 0,
          "tickcolor": "rgb(0, 0, 0)",
          "tickfont": {
           "color": "rgba(0, 0, 0, 1.000)",
           "family": "sans-serif",
           "size": 11
          },
          "tickmode": "array",
          "ticks": "inside",
          "ticktext": [
           "-15",
           "-10",
           "-5",
           "0",
           "5",
           "10",
           "15"
          ],
          "tickvals": [
           -15,
           -10,
           -5,
           0,
           5,
           10,
           15
          ],
          "title": "",
          "titlefont": {
           "color": "rgba(0, 0, 0, 1.000)",
           "family": "sans-serif",
           "size": 15
          },
          "type": "-",
          "visible": true,
          "zeroline": false,
          "zerolinecolor": "rgba(0, 0, 0, 1.000)"
         },
         "yaxis": {
          "anchor": "x1",
          "domain": [
           0.03762029746281716,
           0.9415463692038496
          ],
          "gridcolor": "rgba(0, 0, 0, 0.100)",
          "gridwidth": 0.5,
          "linecolor": "rgba(0, 0, 0, 1.000)",
          "mirror": false,
          "range": [
           -15.9,
           15.9
          ],
          "showgrid": true,
          "showline": true,
          "showticklabels": true,
          "tickangle": 0,
          "tickcolor": "rgb(0, 0, 0)",
          "tickfont": {
           "color": "rgba(0, 0, 0, 1.000)",
           "family": "sans-serif",
           "size": 11
          },
          "tickmode": "array",
          "ticks": "inside",
          "ticktext": [
           "-15",
           "-10",
           "-5",
           "0",
           "5",
           "10",
           "15"
          ],
          "tickvals": [
           -15,
           -10,
           -5,
           0,
           5,
           10,
           15
          ],
          "title": "",
          "titlefont": {
           "color": "rgba(0, 0, 0, 1.000)",
           "family": "sans-serif",
           "size": 15
          },
          "type": "-",
          "visible": true,
          "zeroline": false,
          "zerolinecolor": "rgba(0, 0, 0, 1.000)"
         },
         "zaxis": {
          "gridcolor": "rgba(0, 0, 0, 0.100)",
          "gridwidth": 0.5,
          "linecolor": "rgba(0, 0, 0, 1.000)",
          "mirror": false,
          "range": [
           -15.9,
           15.9
          ],
          "showgrid": true,
          "showline": true,
          "showticklabels": true,
          "tickangle": 0,
          "tickcolor": "rgb(0, 0, 0)",
          "tickfont": {
           "color": "rgba(0, 0, 0, 1.000)",
           "family": "sans-serif",
           "size": 11
          },
          "tickmode": "array",
          "ticks": "inside",
          "ticktext": [
           "-15",
           "-10",
           "-5",
           "0",
           "5",
           "10",
           "15"
          ],
          "tickvals": [
           -15,
           -10,
           -5,
           0,
           5,
           10,
           15
          ],
          "title": "",
          "titlefont": {
           "color": "rgba(0, 0, 0, 1.000)",
           "family": "sans-serif",
           "size": 15
          },
          "type": "-",
          "visible": true,
          "zeroline": false,
          "zerolinecolor": "rgba(0, 0, 0, 1.000)"
         }
        },
        "showlegend": false,
        "width": 600
       }
      },
      "text/html": [
       "    <div id=\"589ddd6d-bf63-47c2-90ac-fc0bec419fd3\" style=\"width:600px;height:400px;\"></div>\n",
       "    <script>\n",
       "    PLOT = document.getElementById('589ddd6d-bf63-47c2-90ac-fc0bec419fd3');\n",
       "    Plotly.plot(PLOT, [{\"xaxis\":\"x1\",\"colorbar\":{\"title\":\"\"},\"yaxis\":\"y1\",\"text\":[null,null],\"x\":[10.081276706362072,10.081276706362072],\"showlegend\":true,\"mode\":\"markers\",\"name\":\"y1\",\"zmin\":-0.1,\"legendgroup\":\"y1\",\"z\":[1.2502069622858047,1.2502069622858047],\"marker\":{\"symbol\":\"circle\",\"color\":\"rgba(0, 0, 0, 1.000)\",\"line\":{\"color\":\"rgba(0, 0, 0, 1.000)\",\"width\":1},\"size\":2},\"zmax\":0.1,\"y\":[-3.165327909752329,-3.165327909752329],\"type\":\"scatter3d\",\"hoverinfo\":\"text\"},{\"xaxis\":\"x1\",\"colorbar\":{\"title\":\"\"},\"yaxis\":\"y1\",\"text\":[null,null],\"x\":[1.073575898615887,1.073575898615887],\"showlegend\":true,\"mode\":\"markers\",\"name\":\"y2\",\"zmin\":-0.1,\"legendgroup\":\"y2\",\"z\":[-1.9703637115607218,-1.9703637115607218],\"marker\":{\"symbol\":\"circle\",\"color\":\"rgba(0, 0, 0, 1.000)\",\"line\":{\"color\":\"rgba(0, 0, 0, 1.000)\",\"width\":1},\"size\":2},\"zmax\":0.1,\"y\":[-3.492333516649026,-3.492333516649026],\"type\":\"scatter3d\",\"hoverinfo\":\"text\"},{\"xaxis\":\"x1\",\"colorbar\":{\"title\":\"\"},\"yaxis\":\"y1\",\"text\":[null,null],\"x\":[10.591883844702352,10.591883844702352],\"showlegend\":true,\"mode\":\"markers\",\"name\":\"y3\",\"zmin\":-0.1,\"legendgroup\":\"y3\",\"z\":[2.4675334063430867,2.4675334063430867],\"marker\":{\"symbol\":\"circle\",\"color\":\"rgba(0, 0, 0, 1.000)\",\"line\":{\"color\":\"rgba(0, 0, 0, 1.000)\",\"width\":1},\"size\":2},\"zmax\":0.1,\"y\":[-1.5946418128365454,-1.5946418128365454],\"type\":\"scatter3d\",\"hoverinfo\":\"text\"},{\"xaxis\":\"x1\",\"colorbar\":{\"title\":\"\"},\"yaxis\":\"y1\",\"text\":[null,null],\"x\":[5.946433749561621,5.946433749561621],\"showlegend\":true,\"mode\":\"markers\",\"name\":\"y4\",\"zmin\":-0.1,\"legendgroup\":\"y4\",\"z\":[2.193445059082087,2.193445059082087],\"marker\":{\"symbol\":\"circle\",\"color\":\"rgba(0, 0, 0, 1.000)\",\"line\":{\"color\":\"rgba(0, 0, 0, 1.000)\",\"width\":1},\"size\":2},\"zmax\":0.1,\"y\":[0.31695071384231976,0.31695071384231976],\"type\":\"scatter3d\",\"hoverinfo\":\"text\"},{\"xaxis\":\"x1\",\"colorbar\":{\"title\":\"\"},\"yaxis\":\"y1\",\"text\":[null,null],\"x\":[1.627777251366132,1.627777251366132],\"showlegend\":true,\"mode\":\"markers\",\"name\":\"y5\",\"zmin\":-0.1,\"legendgroup\":\"y5\",\"z\":[0.542592417122044,0.542592417122044],\"marker\":{\"symbol\":\"circle\",\"color\":\"rgba(0, 0, 0, 1.000)\",\"line\":{\"color\":\"rgba(0, 0, 0, 1.000)\",\"width\":1},\"size\":2},\"zmax\":0.1,\"y\":[0.0,0.0],\"type\":\"scatter3d\",\"hoverinfo\":\"text\"},{\"xaxis\":\"x1\",\"colorbar\":{\"title\":\"\"},\"yaxis\":\"y1\",\"text\":[null,null],\"x\":[-3.028299496525788,-3.028299496525788],\"showlegend\":true,\"mode\":\"markers\",\"name\":\"y6\",\"zmin\":-0.1,\"legendgroup\":\"y6\",\"z\":[-2.355053827430091,-2.355053827430091],\"marker\":{\"symbol\":\"circle\",\"color\":\"rgba(0, 0, 0, 1.000)\",\"line\":{\"color\":\"rgba(0, 0, 0, 1.000)\",\"width\":1},\"size\":2},\"zmax\":0.1,\"y\":[-2.018430992882242,-2.018430992882242],\"type\":\"scatter3d\",\"hoverinfo\":\"text\"},{\"xaxis\":\"x1\",\"colorbar\":{\"title\":\"\"},\"yaxis\":\"y1\",\"text\":[null,null],\"x\":[3.839987854785422,3.839987854785422],\"showlegend\":true,\"mode\":\"markers\",\"name\":\"y7\",\"zmin\":-0.1,\"legendgroup\":\"y7\",\"z\":[0.5913538038306976,0.5913538038306976],\"marker\":{\"symbol\":\"circle\",\"color\":\"rgba(0, 0, 0, 1.000)\",\"line\":{\"color\":\"rgba(0, 0, 0, 1.000)\",\"width\":1},\"size\":2},\"zmax\":0.1,\"y\":[-1.0329632216466647,-1.0329632216466647],\"type\":\"scatter3d\",\"hoverinfo\":\"text\"},{\"xaxis\":\"x1\",\"colorbar\":{\"title\":\"\"},\"yaxis\":\"y1\",\"text\":[null,null],\"x\":[-2.1121505247104735,-2.1121505247104735],\"showlegend\":true,\"mode\":\"markers\",\"name\":\"y8\",\"zmin\":-0.1,\"legendgroup\":\"y8\",\"z\":[6.091240278936034,6.091240278936034],\"marker\":{\"symbol\":\"circle\",\"color\":\"rgba(0, 0, 0, 1.000)\",\"line\":{\"color\":\"rgba(0, 0, 0, 1.000)\",\"width\":1},\"size\":2},\"zmax\":0.1,\"y\":[10.192935680759287,10.192935680759287],\"type\":\"scatter3d\",\"hoverinfo\":\"text\"},{\"xaxis\":\"x1\",\"colorbar\":{\"title\":\"\"},\"yaxis\":\"y1\",\"text\":[null,null],\"x\":[-0.6089348250127218,-0.6089348250127218],\"showlegend\":true,\"mode\":\"markers\",\"name\":\"y9\",\"zmin\":-0.1,\"legendgroup\":\"y9\",\"z\":[-1.1237861717622613,-1.1237861717622613],\"marker\":{\"symbol\":\"circle\",\"color\":\"rgba(0, 0, 0, 1.000)\",\"line\":{\"color\":\"rgba(0, 0, 0, 1.000)\",\"width\":1},\"size\":2},\"zmax\":0.1,\"y\":[-1.381211845137031,-1.381211845137031],\"type\":\"scatter3d\",\"hoverinfo\":\"text\"},{\"xaxis\":\"x1\",\"colorbar\":{\"title\":\"\"},\"yaxis\":\"y1\",\"text\":[null,null],\"x\":[-4.689378720521191,-4.689378720521191],\"showlegend\":true,\"mode\":\"markers\",\"name\":\"y10\",\"zmin\":-0.1,\"legendgroup\":\"y10\",\"z\":[-1.6326230672370805,-1.6326230672370805],\"marker\":{\"symbol\":\"circle\",\"color\":\"rgba(0, 0, 0, 1.000)\",\"line\":{\"color\":\"rgba(0, 0, 0, 1.000)\",\"width\":1},\"size\":2},\"zmax\":0.1,\"y\":[-0.10424524059502538,-0.10424524059502538],\"type\":\"scatter3d\",\"hoverinfo\":\"text\"},{\"xaxis\":\"x1\",\"colorbar\":{\"title\":\"\"},\"yaxis\":\"y1\",\"text\":[null,null],\"x\":[3.1793258047540762,3.1793258047540762],\"showlegend\":true,\"mode\":\"markers\",\"name\":\"y11\",\"zmin\":-0.1,\"legendgroup\":\"y11\",\"z\":[2.5836818057288164,2.5836818057288164],\"marker\":{\"symbol\":\"circle\",\"color\":\"rgba(0, 0, 0, 1.000)\",\"line\":{\"color\":\"rgba(0, 0, 0, 1.000)\",\"width\":1},\"size\":2},\"zmax\":0.1,\"y\":[2.285859806216186,2.285859806216186],\"type\":\"scatter3d\",\"hoverinfo\":\"text\"},{\"xaxis\":\"x1\",\"colorbar\":{\"title\":\"\"},\"yaxis\":\"y1\",\"text\":[null,null],\"x\":[14.54366918991547,14.54366918991547],\"showlegend\":true,\"mode\":\"markers\",\"name\":\"y12\",\"zmin\":-0.1,\"legendgroup\":\"y12\",\"z\":[13.417800041392097,13.417800041392097],\"marker\":{\"symbol\":\"circle\",\"color\":\"rgba(0, 0, 0, 1.000)\",\"line\":{\"color\":\"rgba(0, 0, 0, 1.000)\",\"width\":1},\"size\":2},\"zmax\":0.1,\"y\":[12.85486546713041,12.85486546713041],\"type\":\"scatter3d\",\"hoverinfo\":\"text\"},{\"xaxis\":\"x1\",\"colorbar\":{\"title\":\"\"},\"yaxis\":\"y1\",\"text\":[null,null],\"x\":[-1.1440851455254721,-1.1440851455254721],\"showlegend\":true,\"mode\":\"markers\",\"name\":\"y13\",\"zmin\":-0.1,\"legendgroup\":\"y13\",\"z\":[-0.7066070711877268,-0.7066070711877268],\"marker\":{\"symbol\":\"circle\",\"color\":\"rgba(0, 0, 0, 1.000)\",\"line\":{\"color\":\"rgba(0, 0, 0, 1.000)\",\"width\":1},\"size\":2},\"zmax\":0.1,\"y\":[-0.48786803401885415,-0.48786803401885415],\"type\":\"scatter3d\",\"hoverinfo\":\"text\"},{\"xaxis\":\"x1\",\"colorbar\":{\"title\":\"\"},\"yaxis\":\"y1\",\"text\":[null,null],\"x\":[-6.46695697972384,-6.46695697972384],\"showlegend\":true,\"mode\":\"markers\",\"name\":\"y14\",\"zmin\":-0.1,\"legendgroup\":\"y14\",\"z\":[3.461930100558477,3.461930100558477],\"marker\":{\"symbol\":\"circle\",\"color\":\"rgba(0, 0, 0, 1.000)\",\"line\":{\"color\":\"rgba(0, 0, 0, 1.000)\",\"width\":1},\"size\":2},\"zmax\":0.1,\"y\":[8.426373640699635,8.426373640699635],\"type\":\"scatter3d\",\"hoverinfo\":\"text\"},{\"xaxis\":\"x1\",\"colorbar\":{\"title\":\"\"},\"yaxis\":\"y1\",\"text\":[null,null],\"x\":[12.260271189356676,12.260271189356676],\"showlegend\":true,\"mode\":\"markers\",\"name\":\"y15\",\"zmin\":-0.1,\"legendgroup\":\"y15\",\"z\":[-5.540373295155041,-5.540373295155041],\"marker\":{\"symbol\":\"circle\",\"color\":\"rgba(0, 0, 0, 1.000)\",\"line\":{\"color\":\"rgba(0, 0, 0, 1.000)\",\"width\":1},\"size\":2},\"zmax\":0.1,\"y\":[-14.4406955374109,-14.4406955374109],\"type\":\"scatter3d\",\"hoverinfo\":\"text\"},{\"xaxis\":\"x1\",\"colorbar\":{\"title\":\"\"},\"yaxis\":\"y1\",\"text\":[null,null],\"x\":[1.9838376552941375,1.9838376552941375],\"showlegend\":true,\"mode\":\"markers\",\"name\":\"y16\",\"zmin\":-0.1,\"legendgroup\":\"y16\",\"z\":[-2.943356842074375,-2.943356842074375],\"marker\":{\"symbol\":\"circle\",\"color\":\"rgba(0, 0, 0, 1.000)\",\"line\":{\"color\":\"rgba(0, 0, 0, 1.000)\",\"width\":1},\"size\":2},\"zmax\":0.1,\"y\":[-5.4069540907586315,-5.4069540907586315],\"type\":\"scatter3d\",\"hoverinfo\":\"text\"},{\"xaxis\":\"x1\",\"colorbar\":{\"title\":\"\"},\"yaxis\":\"y1\",\"text\":[null,null],\"x\":[-12.370499886490911,-12.370499886490911],\"showlegend\":true,\"mode\":\"markers\",\"name\":\"y17\",\"zmin\":-0.1,\"legendgroup\":\"y17\",\"z\":[-2.7123760875945426,-2.7123760875945426],\"marker\":{\"symbol\":\"circle\",\"color\":\"rgba(0, 0, 0, 1.000)\",\"line\":{\"color\":\"rgba(0, 0, 0, 1.000)\",\"width\":1},\"size\":2},\"zmax\":0.1,\"y\":[2.1166858118536416,2.1166858118536416],\"type\":\"scatter3d\",\"hoverinfo\":\"text\"},{\"xaxis\":\"x1\",\"colorbar\":{\"title\":\"\"},\"yaxis\":\"y1\",\"text\":[null,null],\"x\":[1.6084481795855066,1.6084481795855066],\"showlegend\":true,\"mode\":\"markers\",\"name\":\"y18\",\"zmin\":-0.1,\"legendgroup\":\"y18\",\"z\":[6.970093140361069,6.970093140361069],\"marker\":{\"symbol\":\"circle\",\"color\":\"rgba(0, 0, 0, 1.000)\",\"line\":{\"color\":\"rgba(0, 0, 0, 1.000)\",\"width\":1},\"size\":2},\"zmax\":0.1,\"y\":[9.650915620748851,9.650915620748851],\"type\":\"scatter3d\",\"hoverinfo\":\"text\"},{\"xaxis\":\"x1\",\"colorbar\":{\"title\":\"\"},\"yaxis\":\"y1\",\"text\":[null,null],\"x\":[-1.7711823651718737,-1.7711823651718737],\"showlegend\":true,\"mode\":\"markers\",\"name\":\"y19\",\"zmin\":-0.1,\"legendgroup\":\"y19\",\"z\":[-6.640347060743264,-6.640347060743264],\"marker\":{\"symbol\":\"circle\",\"color\":\"rgba(0, 0, 0, 1.000)\",\"line\":{\"color\":\"rgba(0, 0, 0, 1.000)\",\"width\":1},\"size\":2},\"zmax\":0.1,\"y\":[-9.07492940852896,-9.07492940852896],\"type\":\"scatter3d\",\"hoverinfo\":\"text\"},{\"xaxis\":\"x1\",\"colorbar\":{\"title\":\"\"},\"yaxis\":\"y1\",\"text\":[null,null],\"x\":[-0.9484100230633468,-0.9484100230633468],\"showlegend\":true,\"mode\":\"markers\",\"name\":\"y20\",\"zmin\":-0.1,\"legendgroup\":\"y20\",\"z\":[-10.279402131531043,-10.279402131531043],\"marker\":{\"symbol\":\"circle\",\"color\":\"rgba(0, 0, 0, 1.000)\",\"line\":{\"color\":\"rgba(0, 0, 0, 1.000)\",\"width\":1},\"size\":2},\"zmax\":0.1,\"y\":[-14.94489818576489,-14.94489818576489],\"type\":\"scatter3d\",\"hoverinfo\":\"text\"},{\"xaxis\":\"x1\",\"colorbar\":{\"title\":\"\"},\"yaxis\":\"y1\",\"text\":[null,null],\"x\":[-11.512957847608272,-11.512957847608272],\"showlegend\":true,\"mode\":\"markers\",\"name\":\"y21\",\"zmin\":-0.1,\"legendgroup\":\"y21\",\"z\":[-2.3595016904314887,-2.3595016904314887],\"marker\":{\"symbol\":\"circle\",\"color\":\"rgba(0, 0, 0, 1.000)\",\"line\":{\"color\":\"rgba(0, 0, 0, 1.000)\",\"width\":1},\"size\":2},\"zmax\":0.1,\"y\":[2.217226388156903,2.217226388156903],\"type\":\"scatter3d\",\"hoverinfo\":\"text\"},{\"xaxis\":\"x1\",\"colorbar\":{\"title\":\"\"},\"yaxis\":\"y1\",\"text\":[null,null],\"x\":[-4.215666360021738,-4.215666360021738],\"showlegend\":true,\"mode\":\"markers\",\"name\":\"y22\",\"zmin\":-0.1,\"legendgroup\":\"y22\",\"z\":[-1.4052221200072461,-1.4052221200072461],\"marker\":{\"symbol\":\"circle\",\"color\":\"rgba(0, 0, 0, 1.000)\",\"line\":{\"color\":\"rgba(0, 0, 0, 1.000)\",\"width\":1},\"size\":2},\"zmax\":0.1,\"y\":[-0.0,-0.0],\"type\":\"scatter3d\",\"hoverinfo\":\"text\"},{\"xaxis\":\"x1\",\"colorbar\":{\"title\":\"\"},\"yaxis\":\"y1\",\"text\":[null,null],\"x\":[-10.10716096559573,-10.10716096559573],\"showlegend\":true,\"mode\":\"markers\",\"name\":\"y23\",\"zmin\":-0.1,\"legendgroup\":\"y23\",\"z\":[-2.9237387772284618,-2.9237387772284618],\"marker\":{\"symbol\":\"circle\",\"color\":\"rgba(0, 0, 0, 1.000)\",\"line\":{\"color\":\"rgba(0, 0, 0, 1.000)\",\"width\":1},\"size\":2},\"zmax\":0.1,\"y\":[0.6679723169551721,0.6679723169551721],\"type\":\"scatter3d\",\"hoverinfo\":\"text\"},{\"xaxis\":\"x1\",\"colorbar\":{\"title\":\"\"},\"yaxis\":\"y1\",\"text\":[null,null],\"x\":[-6.682969447765853,-6.682969447765853],\"showlegend\":true,\"mode\":\"markers\",\"name\":\"y24\",\"zmin\":-0.1,\"legendgroup\":\"y24\",\"z\":[-2.2276564825886176,-2.2276564825886176],\"marker\":{\"symbol\":\"circle\",\"color\":\"rgba(0, 0, 0, 1.000)\",\"line\":{\"color\":\"rgba(0, 0, 0, 1.000)\",\"width\":1},\"size\":2},\"zmax\":0.1,\"y\":[-0.0,-0.0],\"type\":\"scatter3d\",\"hoverinfo\":\"text\"},{\"xaxis\":\"x1\",\"colorbar\":{\"title\":\"\"},\"yaxis\":\"y1\",\"text\":[null,null],\"x\":[-13.00716866720354,-13.00716866720354],\"showlegend\":true,\"mode\":\"markers\",\"name\":\"y25\",\"zmin\":-0.1,\"legendgroup\":\"y25\",\"z\":[-0.19570600292648477,-0.19570600292648477],\"marker\":{\"symbol\":\"circle\",\"color\":\"rgba(0, 0, 0, 1.000)\",\"line\":{\"color\":\"rgba(0, 0, 0, 1.000)\",\"width\":1},\"size\":2},\"zmax\":0.1,\"y\":[6.210025329212043,6.210025329212043],\"type\":\"scatter3d\",\"hoverinfo\":\"text\"},{\"xaxis\":\"x1\",\"colorbar\":{\"title\":\"\"},\"yaxis\":\"y1\",\"text\":[null,null],\"x\":[7.074727913763837,7.074727913763837],\"showlegend\":true,\"mode\":\"markers\",\"name\":\"y26\",\"zmin\":-0.1,\"legendgroup\":\"y26\",\"z\":[5.099430754088814,5.099430754088814],\"marker\":{\"symbol\":\"circle\",\"color\":\"rgba(0, 0, 0, 1.000)\",\"line\":{\"color\":\"rgba(0, 0, 0, 1.000)\",\"width\":1},\"size\":2},\"zmax\":0.1,\"y\":[4.111782174251303,4.111782174251303],\"type\":\"scatter3d\",\"hoverinfo\":\"text\"},{\"xaxis\":\"x1\",\"colorbar\":{\"title\":\"\"},\"yaxis\":\"y1\",\"text\":[null,null],\"x\":[7.570785826455304,7.570785826455304],\"showlegend\":true,\"mode\":\"markers\",\"name\":\"y27\",\"zmin\":-0.1,\"legendgroup\":\"y27\",\"z\":[2.066985374908453,2.066985374908453],\"marker\":{\"symbol\":\"circle\",\"color\":\"rgba(0, 0, 0, 1.000)\",\"line\":{\"color\":\"rgba(0, 0, 0, 1.000)\",\"width\":1},\"size\":2},\"zmax\":0.1,\"y\":[-0.6849148508649723,-0.6849148508649723],\"type\":\"scatter3d\",\"hoverinfo\":\"text\"},{\"xaxis\":\"x1\",\"colorbar\":{\"title\":\"\"},\"yaxis\":\"y1\",\"text\":[null,null],\"x\":[4.51578005797646,4.51578005797646],\"showlegend\":true,\"mode\":\"markers\",\"name\":\"y28\",\"zmin\":-0.1,\"legendgroup\":\"y28\",\"z\":[-4.51578005797646,-4.51578005797646],\"marker\":{\"symbol\":\"circle\",\"color\":\"rgba(0, 0, 0, 1.000)\",\"line\":{\"color\":\"rgba(0, 0, 0, 1.000)\",\"width\":1},\"size\":2},\"zmax\":0.1,\"y\":[-9.03156011595292,-9.03156011595292],\"type\":\"scatter3d\",\"hoverinfo\":\"text\"},{\"xaxis\":\"x1\",\"colorbar\":{\"title\":\"\"},\"yaxis\":\"y1\",\"text\":[null,null],\"x\":[-9.147433327261094,-9.147433327261094],\"showlegend\":true,\"mode\":\"markers\",\"name\":\"y29\",\"zmin\":-0.1,\"legendgroup\":\"y29\",\"z\":[-5.236282513009511,-5.236282513009511],\"marker\":{\"symbol\":\"circle\",\"color\":\"rgba(0, 0, 0, 1.000)\",\"line\":{\"color\":\"rgba(0, 0, 0, 1.000)\",\"width\":1},\"size\":2},\"zmax\":0.1,\"y\":[-3.28070710588372,-3.28070710588372],\"type\":\"scatter3d\",\"hoverinfo\":\"text\"},{\"xaxis\":\"x1\",\"colorbar\":{\"title\":\"\"},\"yaxis\":\"y1\",\"text\":[null,null],\"x\":[-5.167391534165748,-5.167391534165748],\"showlegend\":true,\"mode\":\"markers\",\"name\":\"y30\",\"zmin\":-0.1,\"legendgroup\":\"y30\",\"z\":[1.8608997070473208,1.8608997070473208],\"marker\":{\"symbol\":\"circle\",\"color\":\"rgba(0, 0, 0, 1.000)\",\"line\":{\"color\":\"rgba(0, 0, 0, 1.000)\",\"width\":1},\"size\":2},\"zmax\":0.1,\"y\":[5.375045327653855,5.375045327653855],\"type\":\"scatter3d\",\"hoverinfo\":\"text\"},{\"xaxis\":\"x1\",\"colorbar\":{\"title\":\"\"},\"yaxis\":\"y1\",\"text\":[null,null],\"x\":[-0.4526772201065725,-0.4526772201065725],\"showlegend\":true,\"mode\":\"markers\",\"name\":\"y31\",\"zmin\":-0.1,\"legendgroup\":\"y31\",\"z\":[-0.9081388700565913,-0.9081388700565913],\"marker\":{\"symbol\":\"circle\",\"color\":\"rgba(0, 0, 0, 1.000)\",\"line\":{\"color\":\"rgba(0, 0, 0, 1.000)\",\"width\":1},\"size\":2},\"zmax\":0.1,\"y\":[-1.1358696950316007,-1.1358696950316007],\"type\":\"scatter3d\",\"hoverinfo\":\"text\"},{\"xaxis\":\"x1\",\"colorbar\":{\"title\":\"\"},\"yaxis\":\"y1\",\"text\":[null,null],\"x\":[-9.228898545494886,-9.228898545494886],\"showlegend\":true,\"mode\":\"markers\",\"name\":\"y32\",\"zmin\":-0.1,\"legendgroup\":\"y32\",\"z\":[-4.3760953458509055,-4.3760953458509055],\"marker\":{\"symbol\":\"circle\",\"color\":\"rgba(0, 0, 0, 1.000)\",\"line\":{\"color\":\"rgba(0, 0, 0, 1.000)\",\"width\":1},\"size\":2},\"zmax\":0.1,\"y\":[-1.9496937460289154,-1.9496937460289154],\"type\":\"scatter3d\",\"hoverinfo\":\"text\"},{\"xaxis\":\"x1\",\"colorbar\":{\"title\":\"\"},\"yaxis\":\"y1\",\"text\":[null,null],\"x\":[-5.71205925518903,-5.71205925518903],\"showlegend\":true,\"mode\":\"markers\",\"name\":\"y33\",\"zmin\":-0.1,\"legendgroup\":\"y33\",\"z\":[5.71205925518903,5.71205925518903],\"marker\":{\"symbol\":\"circle\",\"color\":\"rgba(0, 0, 0, 1.000)\",\"line\":{\"color\":\"rgba(0, 0, 0, 1.000)\",\"width\":1},\"size\":2},\"zmax\":0.1,\"y\":[11.42411851037806,11.42411851037806],\"type\":\"scatter3d\",\"hoverinfo\":\"text\"},{\"xaxis\":\"x1\",\"colorbar\":{\"title\":\"\"},\"yaxis\":\"y1\",\"text\":[null,null],\"x\":[-4.713201591964259,-4.713201591964259],\"showlegend\":true,\"mode\":\"markers\",\"name\":\"y34\",\"zmin\":-0.1,\"legendgroup\":\"y34\",\"z\":[2.079578651604512,2.079578651604512],\"marker\":{\"symbol\":\"circle\",\"color\":\"rgba(0, 0, 0, 1.000)\",\"line\":{\"color\":\"rgba(0, 0, 0, 1.000)\",\"width\":1},\"size\":2},\"zmax\":0.1,\"y\":[5.475968773388897,5.475968773388897],\"type\":\"scatter3d\",\"hoverinfo\":\"text\"},{\"xaxis\":\"x1\",\"colorbar\":{\"title\":\"\"},\"yaxis\":\"y1\",\"text\":[null,null],\"x\":[3.5327593731785916,3.5327593731785916],\"showlegend\":true,\"mode\":\"markers\",\"name\":\"y35\",\"zmin\":-0.1,\"legendgroup\":\"y35\",\"z\":[-1.9211944953044187,-1.9211944953044187],\"marker\":{\"symbol\":\"circle\",\"color\":\"rgba(0, 0, 0, 1.000)\",\"line\":{\"color\":\"rgba(0, 0, 0, 1.000)\",\"width\":1},\"size\":2},\"zmax\":0.1,\"y\":[-4.648171429545924,-4.648171429545924],\"type\":\"scatter3d\",\"hoverinfo\":\"text\"},{\"xaxis\":\"x1\",\"colorbar\":{\"title\":\"\"},\"yaxis\":\"y1\",\"text\":[null,null],\"x\":[7.566379066611173,7.566379066611173],\"showlegend\":true,\"mode\":\"markers\",\"name\":\"y36\",\"zmin\":-0.1,\"legendgroup\":\"y36\",\"z\":[8.742639832773246,8.742639832773246],\"marker\":{\"symbol\":\"circle\",\"color\":\"rgba(0, 0, 0, 1.000)\",\"line\":{\"color\":\"rgba(0, 0, 0, 1.000)\",\"width\":1},\"size\":2},\"zmax\":0.1,\"y\":[9.330770215854283,9.330770215854283],\"type\":\"scatter3d\",\"hoverinfo\":\"text\"},{\"xaxis\":\"x1\",\"colorbar\":{\"title\":\"\"},\"yaxis\":\"y1\",\"text\":[null,null],\"x\":[-8.316926001696409,-8.316926001696409],\"showlegend\":true,\"mode\":\"markers\",\"name\":\"y37\",\"zmin\":-0.1,\"legendgroup\":\"y37\",\"z\":[-2.6019138266527495,-2.6019138266527495],\"marker\":{\"symbol\":\"circle\",\"color\":\"rgba(0, 0, 0, 1.000)\",\"line\":{\"color\":\"rgba(0, 0, 0, 1.000)\",\"width\":1},\"size\":2},\"zmax\":0.1,\"y\":[0.25559226086908104,0.25559226086908104],\"type\":\"scatter3d\",\"hoverinfo\":\"text\"},{\"xaxis\":\"x1\",\"colorbar\":{\"title\":\"\"},\"yaxis\":\"y1\",\"text\":[null,null],\"x\":[2.424399619969971,2.424399619969971],\"showlegend\":true,\"mode\":\"markers\",\"name\":\"y38\",\"zmin\":-0.1,\"legendgroup\":\"y38\",\"z\":[0.7420267740583815,0.7420267740583815],\"marker\":{\"symbol\":\"circle\",\"color\":\"rgba(0, 0, 0, 1.000)\",\"line\":{\"color\":\"rgba(0, 0, 0, 1.000)\",\"width\":1},\"size\":2},\"zmax\":0.1,\"y\":[-0.09915964889741335,-0.09915964889741335],\"type\":\"scatter3d\",\"hoverinfo\":\"text\"},{\"xaxis\":\"x1\",\"colorbar\":{\"title\":\"\"},\"yaxis\":\"y1\",\"text\":[null,null],\"x\":[-3.894490975569322,-3.894490975569322],\"showlegend\":true,\"mode\":\"markers\",\"name\":\"y39\",\"zmin\":-0.1,\"legendgroup\":\"y39\",\"z\":[2.2053412775195276,2.2053412775195276],\"marker\":{\"symbol\":\"circle\",\"color\":\"rgba(0, 0, 0, 1.000)\",\"line\":{\"color\":\"rgba(0, 0, 0, 1.000)\",\"width\":1},\"size\":2},\"zmax\":0.1,\"y\":[5.255257404063952,5.255257404063952],\"type\":\"scatter3d\",\"hoverinfo\":\"text\"},{\"xaxis\":\"x1\",\"colorbar\":{\"title\":\"\"},\"yaxis\":\"y1\",\"text\":[null,null],\"x\":[-11.889398275493217,-11.889398275493217],\"showlegend\":true,\"mode\":\"markers\",\"name\":\"y40\",\"zmin\":-0.1,\"legendgroup\":\"y40\",\"z\":[-6.893503888065692,-6.893503888065692],\"marker\":{\"symbol\":\"circle\",\"color\":\"rgba(0, 0, 0, 1.000)\",\"line\":{\"color\":\"rgba(0, 0, 0, 1.000)\",\"width\":1},\"size\":2},\"zmax\":0.1,\"y\":[-4.39555669435193,-4.39555669435193],\"type\":\"scatter3d\",\"hoverinfo\":\"text\"},{\"xaxis\":\"x1\",\"colorbar\":{\"title\":\"\"},\"yaxis\":\"y1\",\"text\":[null,null],\"x\":[0.8329314469190305,0.8329314469190305],\"showlegend\":true,\"mode\":\"markers\",\"name\":\"y41\",\"zmin\":-0.1,\"legendgroup\":\"y41\",\"z\":[-0.8329314469190305,-0.8329314469190305],\"marker\":{\"symbol\":\"circle\",\"color\":\"rgba(0, 0, 0, 1.000)\",\"line\":{\"color\":\"rgba(0, 0, 0, 1.000)\",\"width\":1},\"size\":2},\"zmax\":0.1,\"y\":[-1.665862893838061,-1.665862893838061],\"type\":\"scatter3d\",\"hoverinfo\":\"text\"},{\"xaxis\":\"x1\",\"colorbar\":{\"title\":\"\"},\"yaxis\":\"y1\",\"text\":[null,null],\"x\":[2.1870648457334303,2.1870648457334303],\"showlegend\":true,\"mode\":\"markers\",\"name\":\"y42\",\"zmin\":-0.1,\"legendgroup\":\"y42\",\"z\":[-0.3816433326129671,-0.3816433326129671],\"marker\":{\"symbol\":\"circle\",\"color\":\"rgba(0, 0, 0, 1.000)\",\"line\":{\"color\":\"rgba(0, 0, 0, 1.000)\",\"width\":1},\"size\":2},\"zmax\":0.1,\"y\":[-1.665997421786166,-1.665997421786166],\"type\":\"scatter3d\",\"hoverinfo\":\"text\"},{\"xaxis\":\"x1\",\"colorbar\":{\"title\":\"\"},\"yaxis\":\"y1\",\"text\":[null,null],\"x\":[-10.495350375739354,-10.495350375739354],\"showlegend\":true,\"mode\":\"markers\",\"name\":\"y43\",\"zmin\":-0.1,\"legendgroup\":\"y43\",\"z\":[-4.536602337254554,-4.536602337254554],\"marker\":{\"symbol\":\"circle\",\"color\":\"rgba(0, 0, 0, 1.000)\",\"line\":{\"color\":\"rgba(0, 0, 0, 1.000)\",\"width\":1},\"size\":2},\"zmax\":0.1,\"y\":[-1.5572283180121542,-1.5572283180121542],\"type\":\"scatter3d\",\"hoverinfo\":\"text\"},{\"xaxis\":\"x1\",\"colorbar\":{\"title\":\"\"},\"yaxis\":\"y1\",\"text\":[null,null],\"x\":[3.3965648809694757,3.3965648809694757],\"showlegend\":true,\"mode\":\"markers\",\"name\":\"y44\",\"zmin\":-0.1,\"legendgroup\":\"y44\",\"z\":[9.79135281368934,9.79135281368934],\"marker\":{\"symbol\":\"circle\",\"color\":\"rgba(0, 0, 0, 1.000)\",\"line\":{\"color\":\"rgba(0, 0, 0, 1.000)\",\"width\":1},\"size\":2},\"zmax\":0.1,\"y\":[12.98874678004927,12.98874678004927],\"type\":\"scatter3d\",\"hoverinfo\":\"text\"},{\"xaxis\":\"x1\",\"colorbar\":{\"title\":\"\"},\"yaxis\":\"y1\",\"text\":[null,null],\"x\":[-1.2154309398179086,-1.2154309398179086],\"showlegend\":true,\"mode\":\"markers\",\"name\":\"y45\",\"zmin\":-0.1,\"legendgroup\":\"y45\",\"z\":[-1.2052533114166495,-1.2052533114166495],\"marker\":{\"symbol\":\"circle\",\"color\":\"rgba(0, 0, 0, 1.000)\",\"line\":{\"color\":\"rgba(0, 0, 0, 1.000)\",\"width\":1},\"size\":2},\"zmax\":0.1,\"y\":[-1.20016449721602,-1.20016449721602],\"type\":\"scatter3d\",\"hoverinfo\":\"text\"},{\"xaxis\":\"x1\",\"colorbar\":{\"title\":\"\"},\"yaxis\":\"y1\",\"text\":[null,null],\"x\":[-4.640762555609408,-4.640762555609408],\"showlegend\":true,\"mode\":\"markers\",\"name\":\"y46\",\"zmin\":-0.1,\"legendgroup\":\"y46\",\"z\":[-2.919198553922726,-2.919198553922726],\"marker\":{\"symbol\":\"circle\",\"color\":\"rgba(0, 0, 0, 1.000)\",\"line\":{\"color\":\"rgba(0, 0, 0, 1.000)\",\"width\":1},\"size\":2},\"zmax\":0.1,\"y\":[-2.058416553079385,-2.058416553079385],\"type\":\"scatter3d\",\"hoverinfo\":\"text\"},{\"xaxis\":\"x1\",\"colorbar\":{\"title\":\"\"},\"yaxis\":\"y1\",\"text\":[null,null],\"x\":[-0.689609131259397,-0.689609131259397],\"showlegend\":true,\"mode\":\"markers\",\"name\":\"y47\",\"zmin\":-0.1,\"legendgroup\":\"y47\",\"z\":[4.7660918036768285,4.7660918036768285],\"marker\":{\"symbol\":\"circle\",\"color\":\"rgba(0, 0, 0, 1.000)\",\"line\":{\"color\":\"rgba(0, 0, 0, 1.000)\",\"width\":1},\"size\":2},\"zmax\":0.1,\"y\":[7.493942271144942,7.493942271144942],\"type\":\"scatter3d\",\"hoverinfo\":\"text\"},{\"xaxis\":\"x1\",\"colorbar\":{\"title\":\"\"},\"yaxis\":\"y1\",\"text\":[null,null],\"x\":[-7.781282937709562,-7.781282937709562],\"showlegend\":true,\"mode\":\"markers\",\"name\":\"y48\",\"zmin\":-0.1,\"legendgroup\":\"y48\",\"z\":[-1.72619078595682,-1.72619078595682],\"marker\":{\"symbol\":\"circle\",\"color\":\"rgba(0, 0, 0, 1.000)\",\"line\":{\"color\":\"rgba(0, 0, 0, 1.000)\",\"width\":1},\"size\":2},\"zmax\":0.1,\"y\":[1.3013552899195506,1.3013552899195506],\"type\":\"scatter3d\",\"hoverinfo\":\"text\"},{\"xaxis\":\"x1\",\"colorbar\":{\"title\":\"\"},\"yaxis\":\"y1\",\"text\":[null,null],\"x\":[6.204245023571003,6.204245023571003],\"showlegend\":true,\"mode\":\"markers\",\"name\":\"y49\",\"zmin\":-0.1,\"legendgroup\":\"y49\",\"z\":[-0.20368738631795047,-0.20368738631795047],\"marker\":{\"symbol\":\"circle\",\"color\":\"rgba(0, 0, 0, 1.000)\",\"line\":{\"color\":\"rgba(0, 0, 0, 1.000)\",\"width\":1},\"size\":2},\"zmax\":0.1,\"y\":[-3.4076535912624273,-3.4076535912624273],\"type\":\"scatter3d\",\"hoverinfo\":\"text\"},{\"xaxis\":\"x1\",\"colorbar\":{\"title\":\"\"},\"yaxis\":\"y1\",\"text\":[null,null],\"x\":[5.196626405942892,5.196626405942892],\"showlegend\":true,\"mode\":\"markers\",\"name\":\"y50\",\"zmin\":-0.1,\"legendgroup\":\"y50\",\"z\":[9.244512273748377,9.244512273748377],\"marker\":{\"symbol\":\"circle\",\"color\":\"rgba(0, 0, 0, 1.000)\",\"line\":{\"color\":\"rgba(0, 0, 0, 1.000)\",\"width\":1},\"size\":2},\"zmax\":0.1,\"y\":[11.268455207651119,11.268455207651119],\"type\":\"scatter3d\",\"hoverinfo\":\"text\"},{\"xaxis\":\"x1\",\"colorbar\":{\"title\":\"\"},\"yaxis\":\"y1\",\"text\":[null,null],\"x\":[-8.282673792044749,-8.282673792044749],\"showlegend\":true,\"mode\":\"markers\",\"name\":\"y51\",\"zmin\":-0.1,\"legendgroup\":\"y51\",\"z\":[-5.890012006853103,-5.890012006853103],\"marker\":{\"symbol\":\"circle\",\"color\":\"rgba(0, 0, 0, 1.000)\",\"line\":{\"color\":\"rgba(0, 0, 0, 1.000)\",\"width\":1},\"size\":2},\"zmax\":0.1,\"y\":[-4.693681114257282,-4.693681114257282],\"type\":\"scatter3d\",\"hoverinfo\":\"text\"},{\"xaxis\":\"x1\",\"colorbar\":{\"title\":\"\"},\"yaxis\":\"y1\",\"text\":[null,null],\"x\":[5.608689689751342,5.608689689751342],\"showlegend\":true,\"mode\":\"markers\",\"name\":\"y52\",\"zmin\":-0.1,\"legendgroup\":\"y52\",\"z\":[-4.791326224320885,-4.791326224320885],\"marker\":{\"symbol\":\"circle\",\"color\":\"rgba(0, 0, 0, 1.000)\",\"line\":{\"color\":\"rgba(0, 0, 0, 1.000)\",\"width\":1},\"size\":2},\"zmax\":0.1,\"y\":[-9.991334181356999,-9.991334181356999],\"type\":\"scatter3d\",\"hoverinfo\":\"text\"},{\"xaxis\":\"x1\",\"colorbar\":{\"title\":\"\"},\"yaxis\":\"y1\",\"text\":[null,null],\"x\":[-12.513515935562669,-12.513515935562669],\"showlegend\":true,\"mode\":\"markers\",\"name\":\"y53\",\"zmin\":-0.1,\"legendgroup\":\"y53\",\"z\":[-3.477134390791936,-3.477134390791936],\"marker\":{\"symbol\":\"circle\",\"color\":\"rgba(0, 0, 0, 1.000)\",\"line\":{\"color\":\"rgba(0, 0, 0, 1.000)\",\"width\":1},\"size\":2},\"zmax\":0.1,\"y\":[1.04105638159343,1.04105638159343],\"type\":\"scatter3d\",\"hoverinfo\":\"text\"},{\"xaxis\":\"x1\",\"colorbar\":{\"title\":\"\"},\"yaxis\":\"y1\",\"text\":[null,null],\"x\":[-12.253494857641499,-12.253494857641499],\"showlegend\":true,\"mode\":\"markers\",\"name\":\"y54\",\"zmin\":-0.1,\"legendgroup\":\"y54\",\"z\":[2.2148615496140978,2.2148615496140978],\"marker\":{\"symbol\":\"circle\",\"color\":\"rgba(0, 0, 0, 1.000)\",\"line\":{\"color\":\"rgba(0, 0, 0, 1.000)\",\"width\":1},\"size\":2},\"zmax\":0.1,\"y\":[9.449039753241896,9.449039753241896],\"type\":\"scatter3d\",\"hoverinfo\":\"text\"},{\"xaxis\":\"x1\",\"colorbar\":{\"title\":\"\"},\"yaxis\":\"y1\",\"text\":[null,null],\"x\":[4.381515353737897,4.381515353737897],\"showlegend\":true,\"mode\":\"markers\",\"name\":\"y55\",\"zmin\":-0.1,\"legendgroup\":\"y55\",\"z\":[-7.212954631231391,-7.212954631231391],\"marker\":{\"symbol\":\"circle\",\"color\":\"rgba(0, 0, 0, 1.000)\",\"line\":{\"color\":\"rgba(0, 0, 0, 1.000)\",\"width\":1},\"size\":2},\"zmax\":0.1,\"y\":[-13.010189623716034,-13.010189623716034],\"type\":\"scatter3d\",\"hoverinfo\":\"text\"},{\"xaxis\":\"x1\",\"colorbar\":{\"title\":\"\"},\"yaxis\":\"y1\",\"text\":[null,null],\"x\":[-1.6066397757151547,-1.6066397757151547],\"showlegend\":true,\"mode\":\"markers\",\"name\":\"y56\",\"zmin\":-0.1,\"legendgroup\":\"y56\",\"z\":[-1.5198538708829021,-1.5198538708829021],\"marker\":{\"symbol\":\"circle\",\"color\":\"rgba(0, 0, 0, 1.000)\",\"line\":{\"color\":\"rgba(0, 0, 0, 1.000)\",\"width\":1},\"size\":2},\"zmax\":0.1,\"y\":[-1.4764609184667759,-1.4764609184667759],\"type\":\"scatter3d\",\"hoverinfo\":\"text\"},{\"xaxis\":\"x1\",\"colorbar\":{\"title\":\"\"},\"yaxis\":\"y1\",\"text\":[null,null],\"x\":[13.939366141956352,13.939366141956352],\"showlegend\":true,\"mode\":\"markers\",\"name\":\"y57\",\"zmin\":-0.1,\"legendgroup\":\"y57\",\"z\":[13.599586562673455,13.599586562673455],\"marker\":{\"symbol\":\"circle\",\"color\":\"rgba(0, 0, 0, 1.000)\",\"line\":{\"color\":\"rgba(0, 0, 0, 1.000)\",\"width\":1},\"size\":2},\"zmax\":0.1,\"y\":[13.429696773032008,13.429696773032008],\"type\":\"scatter3d\",\"hoverinfo\":\"text\"},{\"xaxis\":\"x1\",\"colorbar\":{\"title\":\"\"},\"yaxis\":\"y1\",\"text\":[null,null],\"x\":[0.876563604011122,0.876563604011122],\"showlegend\":true,\"mode\":\"markers\",\"name\":\"y58\",\"zmin\":-0.1,\"legendgroup\":\"y58\",\"z\":[-5.196644518052975,-5.196644518052975],\"marker\":{\"symbol\":\"circle\",\"color\":\"rgba(0, 0, 0, 1.000)\",\"line\":{\"color\":\"rgba(0, 0, 0, 1.000)\",\"width\":1},\"size\":2},\"zmax\":0.1,\"y\":[-8.233248579085023,-8.233248579085023],\"type\":\"scatter3d\",\"hoverinfo\":\"text\"},{\"xaxis\":\"x1\",\"colorbar\":{\"title\":\"\"},\"yaxis\":\"y1\",\"text\":[null,null],\"x\":[12.117158320178994,12.117158320178994],\"showlegend\":true,\"mode\":\"markers\",\"name\":\"y59\",\"zmin\":-0.1,\"legendgroup\":\"y59\",\"z\":[5.3197218794601575,5.3197218794601575],\"marker\":{\"symbol\":\"circle\",\"color\":\"rgba(0, 0, 0, 1.000)\",\"line\":{\"color\":\"rgba(0, 0, 0, 1.000)\",\"width\":1},\"size\":2},\"zmax\":0.1,\"y\":[1.92100365910074,1.92100365910074],\"type\":\"scatter3d\",\"hoverinfo\":\"text\"},{\"xaxis\":\"x1\",\"colorbar\":{\"title\":\"\"},\"yaxis\":\"y1\",\"text\":[null,null],\"x\":[-5.670911527183522,-5.670911527183522],\"showlegend\":true,\"mode\":\"markers\",\"name\":\"y60\",\"zmin\":-0.1,\"legendgroup\":\"y60\",\"z\":[3.111323430334539,3.111323430334539],\"marker\":{\"symbol\":\"circle\",\"color\":\"rgba(0, 0, 0, 1.000)\",\"line\":{\"color\":\"rgba(0, 0, 0, 1.000)\",\"width\":1},\"size\":2},\"zmax\":0.1,\"y\":[7.50244090909357,7.50244090909357],\"type\":\"scatter3d\",\"hoverinfo\":\"text\"},{\"xaxis\":\"x1\",\"colorbar\":{\"title\":\"\"},\"yaxis\":\"y1\",\"text\":[null,null],\"x\":[-7.304445644025174,-7.304445644025174],\"showlegend\":true,\"mode\":\"markers\",\"name\":\"y61\",\"zmin\":-0.1,\"legendgroup\":\"y61\",\"z\":[-4.671350423870809,-4.671350423870809],\"marker\":{\"symbol\":\"circle\",\"color\":\"rgba(0, 0, 0, 1.000)\",\"line\":{\"color\":\"rgba(0, 0, 0, 1.000)\",\"width\":1},\"size\":2},\"zmax\":0.1,\"y\":[-3.3548028137936257,-3.3548028137936257],\"type\":\"scatter3d\",\"hoverinfo\":\"text\"},{\"xaxis\":\"x1\",\"colorbar\":{\"title\":\"\"},\"yaxis\":\"y1\",\"text\":[null,null],\"x\":[1.2382179142905279,1.2382179142905279],\"showlegend\":true,\"mode\":\"markers\",\"name\":\"y62\",\"zmin\":-0.1,\"legendgroup\":\"y62\",\"z\":[-2.5763782126579247,-2.5763782126579247],\"marker\":{\"symbol\":\"circle\",\"color\":\"rgba(0, 0, 0, 1.000)\",\"line\":{\"color\":\"rgba(0, 0, 0, 1.000)\",\"width\":1},\"size\":2},\"zmax\":0.1,\"y\":[-4.483676276132151,-4.483676276132151],\"type\":\"scatter3d\",\"hoverinfo\":\"text\"},{\"xaxis\":\"x1\",\"colorbar\":{\"title\":\"\"},\"yaxis\":\"y1\",\"text\":[null,null],\"x\":[-8.219967309468986,-8.219967309468986],\"showlegend\":true,\"mode\":\"markers\",\"name\":\"y63\",\"zmin\":-0.1,\"legendgroup\":\"y63\",\"z\":[5.4532378160327415,5.4532378160327415],\"marker\":{\"symbol\":\"circle\",\"color\":\"rgba(0, 0, 0, 1.000)\",\"line\":{\"color\":\"rgba(0, 0, 0, 1.000)\",\"width\":1},\"size\":2},\"zmax\":0.1,\"y\":[12.289840378783605,12.289840378783605],\"type\":\"scatter3d\",\"hoverinfo\":\"text\"},{\"xaxis\":\"x1\",\"colorbar\":{\"title\":\"\"},\"yaxis\":\"y1\",\"text\":[null,null],\"x\":[8.188377314660539,8.188377314660539],\"showlegend\":true,\"mode\":\"markers\",\"name\":\"y64\",\"zmin\":-0.1,\"legendgroup\":\"y64\",\"z\":[-2.5528174200905913,-2.5528174200905913],\"marker\":{\"symbol\":\"circle\",\"color\":\"rgba(0, 0, 0, 1.000)\",\"line\":{\"color\":\"rgba(0, 0, 0, 1.000)\",\"width\":1},\"size\":2},\"zmax\":0.1,\"y\":[-7.923414787466156,-7.923414787466156],\"type\":\"scatter3d\",\"hoverinfo\":\"text\"},{\"xaxis\":\"x1\",\"colorbar\":{\"title\":\"\"},\"yaxis\":\"y1\",\"text\":[null,null],\"x\":[6.03756244710919,6.03756244710919],\"showlegend\":true,\"mode\":\"markers\",\"name\":\"y65\",\"zmin\":-0.1,\"legendgroup\":\"y65\",\"z\":[-3.3434017351767675,-3.3434017351767675],\"marker\":{\"symbol\":\"circle\",\"color\":\"rgba(0, 0, 0, 1.000)\",\"line\":{\"color\":\"rgba(0, 0, 0, 1.000)\",\"width\":1},\"size\":2},\"zmax\":0.1,\"y\":[-8.033883826319746,-8.033883826319746],\"type\":\"scatter3d\",\"hoverinfo\":\"text\"},{\"xaxis\":\"x1\",\"colorbar\":{\"title\":\"\"},\"yaxis\":\"y1\",\"text\":[null,null],\"x\":[10.320949314978979,10.320949314978979],\"showlegend\":true,\"mode\":\"markers\",\"name\":\"y66\",\"zmin\":-0.1,\"legendgroup\":\"y66\",\"z\":[3.4403164383263265,3.4403164383263265],\"marker\":{\"symbol\":\"circle\",\"color\":\"rgba(0, 0, 0, 1.000)\",\"line\":{\"color\":\"rgba(0, 0, 0, 1.000)\",\"width\":1},\"size\":2},\"zmax\":0.1,\"y\":[0.0,0.0],\"type\":\"scatter3d\",\"hoverinfo\":\"text\"},{\"xaxis\":\"x1\",\"colorbar\":{\"title\":\"\"},\"yaxis\":\"y1\",\"text\":[null,null],\"x\":[-8.248558622193379,-8.248558622193379],\"showlegend\":true,\"mode\":\"markers\",\"name\":\"y67\",\"zmin\":-0.1,\"legendgroup\":\"y67\",\"z\":[0.3553259983694017,0.3553259983694017],\"marker\":{\"symbol\":\"circle\",\"color\":\"rgba(0, 0, 0, 1.000)\",\"line\":{\"color\":\"rgba(0, 0, 0, 1.000)\",\"width\":1},\"size\":2},\"zmax\":0.1,\"y\":[4.657268308650792,4.657268308650792],\"type\":\"scatter3d\",\"hoverinfo\":\"text\"},{\"xaxis\":\"x1\",\"colorbar\":{\"title\":\"\"},\"yaxis\":\"y1\",\"text\":[null,null],\"x\":[1.4331111841563775,1.4331111841563775],\"showlegend\":true,\"mode\":\"markers\",\"name\":\"y68\",\"zmin\":-0.1,\"legendgroup\":\"y68\",\"z\":[1.7099630263022156,1.7099630263022156],\"marker\":{\"symbol\":\"circle\",\"color\":\"rgba(0, 0, 0, 1.000)\",\"line\":{\"color\":\"rgba(0, 0, 0, 1.000)\",\"width\":1},\"size\":2},\"zmax\":0.1,\"y\":[1.8483889473751347,1.8483889473751347],\"type\":\"scatter3d\",\"hoverinfo\":\"text\"},{\"xaxis\":\"x1\",\"colorbar\":{\"title\":\"\"},\"yaxis\":\"y1\",\"text\":[null,null],\"x\":[-8.285613570181953,-8.285613570181953],\"showlegend\":true,\"mode\":\"markers\",\"name\":\"y69\",\"zmin\":-0.1,\"legendgroup\":\"y69\",\"z\":[-4.011730756724703,-4.011730756724703],\"marker\":{\"symbol\":\"circle\",\"color\":\"rgba(0, 0, 0, 1.000)\",\"line\":{\"color\":\"rgba(0, 0, 0, 1.000)\",\"width\":1},\"size\":2},\"zmax\":0.1,\"y\":[-1.874789349996079,-1.874789349996079],\"type\":\"scatter3d\",\"hoverinfo\":\"text\"},{\"xaxis\":\"x1\",\"colorbar\":{\"title\":\"\"},\"yaxis\":\"y1\",\"text\":[null,null],\"x\":[-12.649113393364557,-12.649113393364557],\"showlegend\":true,\"mode\":\"markers\",\"name\":\"y70\",\"zmin\":-0.1,\"legendgroup\":\"y70\",\"z\":[-11.892142168984323,-11.892142168984323],\"marker\":{\"symbol\":\"circle\",\"color\":\"rgba(0, 0, 0, 1.000)\",\"line\":{\"color\":\"rgba(0, 0, 0, 1.000)\",\"width\":1},\"size\":2},\"zmax\":0.1,\"y\":[-11.513656556794206,-11.513656556794206],\"type\":\"scatter3d\",\"hoverinfo\":\"text\"},{\"xaxis\":\"x1\",\"colorbar\":{\"title\":\"\"},\"yaxis\":\"y1\",\"text\":[null,null],\"x\":[-5.38347308083668,-5.38347308083668],\"showlegend\":true,\"mode\":\"markers\",\"name\":\"y71\",\"zmin\":-0.1,\"legendgroup\":\"y71\",\"z\":[4.406553468757479,4.406553468757479],\"marker\":{\"symbol\":\"circle\",\"color\":\"rgba(0, 0, 0, 1.000)\",\"line\":{\"color\":\"rgba(0, 0, 0, 1.000)\",\"width\":1},\"size\":2},\"zmax\":0.1,\"y\":[9.301566743554558,9.301566743554558],\"type\":\"scatter3d\",\"hoverinfo\":\"text\"},{\"xaxis\":\"x1\",\"colorbar\":{\"title\":\"\"},\"yaxis\":\"y1\",\"text\":[null,null],\"x\":[-0.9734173172607936,-0.9734173172607936],\"showlegend\":true,\"mode\":\"markers\",\"name\":\"y72\",\"zmin\":-0.1,\"legendgroup\":\"y72\",\"z\":[3.1356084423020882,3.1356084423020882],\"marker\":{\"symbol\":\"circle\",\"color\":\"rgba(0, 0, 0, 1.000)\",\"line\":{\"color\":\"rgba(0, 0, 0, 1.000)\",\"width\":1},\"size\":2},\"zmax\":0.1,\"y\":[5.190121322083529,5.190121322083529],\"type\":\"scatter3d\",\"hoverinfo\":\"text\"},{\"xaxis\":\"x1\",\"colorbar\":{\"title\":\"\"},\"yaxis\":\"y1\",\"text\":[null,null],\"x\":[3.8404209787912165,3.8404209787912165],\"showlegend\":true,\"mode\":\"markers\",\"name\":\"y73\",\"zmin\":-0.1,\"legendgroup\":\"y73\",\"z\":[-0.436895022910593,-0.436895022910593],\"marker\":{\"symbol\":\"circle\",\"color\":\"rgba(0, 0, 0, 1.000)\",\"line\":{\"color\":\"rgba(0, 0, 0, 1.000)\",\"width\":1},\"size\":2},\"zmax\":0.1,\"y\":[-2.575553023761498,-2.575553023761498],\"type\":\"scatter3d\",\"hoverinfo\":\"text\"},{\"xaxis\":\"x1\",\"colorbar\":{\"title\":\"\"},\"yaxis\":\"y1\",\"text\":[null,null],\"x\":[-11.552132409790634,-11.552132409790634],\"showlegend\":true,\"mode\":\"markers\",\"name\":\"y74\",\"zmin\":-0.1,\"legendgroup\":\"y74\",\"z\":[5.036276379517232,5.036276379517232],\"marker\":{\"symbol\":\"circle\",\"color\":\"rgba(0, 0, 0, 1.000)\",\"line\":{\"color\":\"rgba(0, 0, 0, 1.000)\",\"width\":1},\"size\":2},\"zmax\":0.1,\"y\":[13.330480774171164,13.330480774171164],\"type\":\"scatter3d\",\"hoverinfo\":\"text\"},{\"xaxis\":\"x1\",\"colorbar\":{\"title\":\"\"},\"yaxis\":\"y1\",\"text\":[null,null],\"x\":[-8.563341743168714,-8.563341743168714],\"showlegend\":true,\"mode\":\"markers\",\"name\":\"y75\",\"zmin\":-0.1,\"legendgroup\":\"y75\",\"z\":[1.1573291285236698,1.1573291285236698],\"marker\":{\"symbol\":\"circle\",\"color\":\"rgba(0, 0, 0, 1.000)\",\"line\":{\"color\":\"rgba(0, 0, 0, 1.000)\",\"width\":1},\"size\":2},\"zmax\":0.1,\"y\":[6.017664564369861,6.017664564369861],\"type\":\"scatter3d\",\"hoverinfo\":\"text\"},{\"xaxis\":\"x1\",\"colorbar\":{\"title\":\"\"},\"yaxis\":\"y1\",\"text\":[null,null],\"x\":[-3.07500630570751,-3.07500630570751],\"showlegend\":true,\"mode\":\"markers\",\"name\":\"y76\",\"zmin\":-0.1,\"legendgroup\":\"y76\",\"z\":[-3.1745261943546526,-3.1745261943546526],\"marker\":{\"symbol\":\"circle\",\"color\":\"rgba(0, 0, 0, 1.000)\",\"line\":{\"color\":\"rgba(0, 0, 0, 1.000)\",\"width\":1},\"size\":2},\"zmax\":0.1,\"y\":[-3.2242861386782242,-3.2242861386782242],\"type\":\"scatter3d\",\"hoverinfo\":\"text\"},{\"xaxis\":\"x1\",\"colorbar\":{\"title\":\"\"},\"yaxis\":\"y1\",\"text\":[null,null],\"x\":[-3.3958937270234837,-3.3958937270234837],\"showlegend\":true,\"mode\":\"markers\",\"name\":\"y77\",\"zmin\":-0.1,\"legendgroup\":\"y77\",\"z\":[5.305694324215045,5.305694324215045],\"marker\":{\"symbol\":\"circle\",\"color\":\"rgba(0, 0, 0, 1.000)\",\"line\":{\"color\":\"rgba(0, 0, 0, 1.000)\",\"width\":1},\"size\":2},\"zmax\":0.1,\"y\":[9.656488349834309,9.656488349834309],\"type\":\"scatter3d\",\"hoverinfo\":\"text\"},{\"xaxis\":\"x1\",\"colorbar\":{\"title\":\"\"},\"yaxis\":\"y1\",\"text\":[null,null],\"x\":[8.105277170720537,8.105277170720537],\"showlegend\":true,\"mode\":\"markers\",\"name\":\"y78\",\"zmin\":-0.1,\"legendgroup\":\"y78\",\"z\":[4.066049945288267,4.066049945288267],\"marker\":{\"symbol\":\"circle\",\"color\":\"rgba(0, 0, 0, 1.000)\",\"line\":{\"color\":\"rgba(0, 0, 0, 1.000)\",\"width\":1},\"size\":2},\"zmax\":0.1,\"y\":[2.0464363325721315,2.0464363325721315],\"type\":\"scatter3d\",\"hoverinfo\":\"text\"},{\"xaxis\":\"x1\",\"colorbar\":{\"title\":\"\"},\"yaxis\":\"y1\",\"text\":[null,null],\"x\":[-2.28606471098748,-2.28606471098748],\"showlegend\":true,\"mode\":\"markers\",\"name\":\"y79\",\"zmin\":-0.1,\"legendgroup\":\"y79\",\"z\":[3.2345684021387724,3.2345684021387724],\"marker\":{\"symbol\":\"circle\",\"color\":\"rgba(0, 0, 0, 1.000)\",\"line\":{\"color\":\"rgba(0, 0, 0, 1.000)\",\"width\":1},\"size\":2},\"zmax\":0.1,\"y\":[5.994884958701898,5.994884958701898],\"type\":\"scatter3d\",\"hoverinfo\":\"text\"},{\"xaxis\":\"x1\",\"colorbar\":{\"title\":\"\"},\"yaxis\":\"y1\",\"text\":[null,null],\"x\":[2.04758171861085,2.04758171861085],\"showlegend\":true,\"mode\":\"markers\",\"name\":\"y80\",\"zmin\":-0.1,\"legendgroup\":\"y80\",\"z\":[-2.805663247373441,-2.805663247373441],\"marker\":{\"symbol\":\"circle\",\"color\":\"rgba(0, 0, 0, 1.000)\",\"line\":{\"color\":\"rgba(0, 0, 0, 1.000)\",\"width\":1},\"size\":2},\"zmax\":0.1,\"y\":[-5.232285730365586,-5.232285730365586],\"type\":\"scatter3d\",\"hoverinfo\":\"text\"},{\"xaxis\":\"x1\",\"colorbar\":{\"title\":\"\"},\"yaxis\":\"y1\",\"text\":[null,null],\"x\":[8.50058566329238,8.50058566329238],\"showlegend\":true,\"mode\":\"markers\",\"name\":\"y81\",\"zmin\":-0.1,\"legendgroup\":\"y81\",\"z\":[-5.5531228873625444,-5.5531228873625444],\"marker\":{\"symbol\":\"circle\",\"color\":\"rgba(0, 0, 0, 1.000)\",\"line\":{\"color\":\"rgba(0, 0, 0, 1.000)\",\"width\":1},\"size\":2},\"zmax\":0.1,\"y\":[-12.579977162690007,-12.579977162690007],\"type\":\"scatter3d\",\"hoverinfo\":\"text\"},{\"xaxis\":\"x1\",\"colorbar\":{\"title\":\"\"},\"yaxis\":\"y1\",\"text\":[null,null],\"x\":[0.5723654406304686,0.5723654406304686],\"showlegend\":true,\"mode\":\"markers\",\"name\":\"y82\",\"zmin\":-0.1,\"legendgroup\":\"y82\",\"z\":[6.583683119075035,6.583683119075035],\"marker\":{\"symbol\":\"circle\",\"color\":\"rgba(0, 0, 0, 1.000)\",\"line\":{\"color\":\"rgba(0, 0, 0, 1.000)\",\"width\":1},\"size\":2},\"zmax\":0.1,\"y\":[9.589341958297318,9.589341958297318],\"type\":\"scatter3d\",\"hoverinfo\":\"text\"},{\"xaxis\":\"x1\",\"colorbar\":{\"title\":\"\"},\"yaxis\":\"y1\",\"text\":[null,null],\"x\":[-2.179897532231343,-2.179897532231343],\"showlegend\":true,\"mode\":\"markers\",\"name\":\"y83\",\"zmin\":-0.1,\"legendgroup\":\"y83\",\"z\":[5.647214304571561,5.647214304571561],\"marker\":{\"symbol\":\"circle\",\"color\":\"rgba(0, 0, 0, 1.000)\",\"line\":{\"color\":\"rgba(0, 0, 0, 1.000)\",\"width\":1},\"size\":2},\"zmax\":0.1,\"y\":[9.560770222973012,9.560770222973012],\"type\":\"scatter3d\",\"hoverinfo\":\"text\"},{\"xaxis\":\"x1\",\"colorbar\":{\"title\":\"\"},\"yaxis\":\"y1\",\"text\":[null,null],\"x\":[-4.058103905602024,-4.058103905602024],\"showlegend\":true,\"mode\":\"markers\",\"name\":\"y84\",\"zmin\":-0.1,\"legendgroup\":\"y84\",\"z\":[-1.1821030476457748,-1.1821030476457748],\"marker\":{\"symbol\":\"circle\",\"color\":\"rgba(0, 0, 0, 1.000)\",\"line\":{\"color\":\"rgba(0, 0, 0, 1.000)\",\"width\":1},\"size\":2},\"zmax\":0.1,\"y\":[0.25589738133234974,0.25589738133234974],\"type\":\"scatter3d\",\"hoverinfo\":\"text\"},{\"xaxis\":\"x1\",\"colorbar\":{\"title\":\"\"},\"yaxis\":\"y1\",\"text\":[null,null],\"x\":[-1.5527669931750763,-1.5527669931750763],\"showlegend\":true,\"mode\":\"markers\",\"name\":\"y85\",\"zmin\":-0.1,\"legendgroup\":\"y85\",\"z\":[-0.5175889977250254,-0.5175889977250254],\"marker\":{\"symbol\":\"circle\",\"color\":\"rgba(0, 0, 0, 1.000)\",\"line\":{\"color\":\"rgba(0, 0, 0, 1.000)\",\"width\":1},\"size\":2},\"zmax\":0.1,\"y\":[-0.0,-0.0],\"type\":\"scatter3d\",\"hoverinfo\":\"text\"},{\"xaxis\":\"x1\",\"colorbar\":{\"title\":\"\"},\"yaxis\":\"y1\",\"text\":[null,null],\"x\":[-4.113442887368228,-4.113442887368228],\"showlegend\":true,\"mode\":\"markers\",\"name\":\"y86\",\"zmin\":-0.1,\"legendgroup\":\"y86\",\"z\":[7.718748978668479,7.718748978668479],\"marker\":{\"symbol\":\"circle\",\"color\":\"rgba(0, 0, 0, 1.000)\",\"line\":{\"color\":\"rgba(0, 0, 0, 1.000)\",\"width\":1},\"size\":2},\"zmax\":0.1,\"y\":[13.634844911686834,13.634844911686834],\"type\":\"scatter3d\",\"hoverinfo\":\"text\"},{\"xaxis\":\"x1\",\"colorbar\":{\"title\":\"\"},\"yaxis\":\"y1\",\"text\":[null,null],\"x\":[5.745636443600074,5.745636443600074],\"showlegend\":true,\"mode\":\"markers\",\"name\":\"y87\",\"zmin\":-0.1,\"legendgroup\":\"y87\",\"z\":[-5.229175216553909,-5.229175216553909],\"marker\":{\"symbol\":\"circle\",\"color\":\"rgba(0, 0, 0, 1.000)\",\"line\":{\"color\":\"rgba(0, 0, 0, 1.000)\",\"width\":1},\"size\":2},\"zmax\":0.1,\"y\":[-10.7165810466309,-10.7165810466309],\"type\":\"scatter3d\",\"hoverinfo\":\"text\"},{\"xaxis\":\"x1\",\"colorbar\":{\"title\":\"\"},\"yaxis\":\"y1\",\"text\":[null,null],\"x\":[-1.590816696560387,-1.590816696560387],\"showlegend\":true,\"mode\":\"markers\",\"name\":\"y88\",\"zmin\":-0.1,\"legendgroup\":\"y88\",\"z\":[-1.9729791111501753,-1.9729791111501753],\"marker\":{\"symbol\":\"circle\",\"color\":\"rgba(0, 0, 0, 1.000)\",\"line\":{\"color\":\"rgba(0, 0, 0, 1.000)\",\"width\":1},\"size\":2},\"zmax\":0.1,\"y\":[-2.1640603184450695,-2.1640603184450695],\"type\":\"scatter3d\",\"hoverinfo\":\"text\"},{\"xaxis\":\"x1\",\"colorbar\":{\"title\":\"\"},\"yaxis\":\"y1\",\"text\":[null,null],\"x\":[13.168358932905583,13.168358932905583],\"showlegend\":true,\"mode\":\"markers\",\"name\":\"y89\",\"zmin\":-0.1,\"legendgroup\":\"y89\",\"z\":[-2.517664848922718,-2.517664848922718],\"marker\":{\"symbol\":\"circle\",\"color\":\"rgba(0, 0, 0, 1.000)\",\"line\":{\"color\":\"rgba(0, 0, 0, 1.000)\",\"width\":1},\"size\":2},\"zmax\":0.1,\"y\":[-10.360676739836869,-10.360676739836869],\"type\":\"scatter3d\",\"hoverinfo\":\"text\"},{\"xaxis\":\"x1\",\"colorbar\":{\"title\":\"\"},\"yaxis\":\"y1\",\"text\":[null,null],\"x\":[-6.022376240053175,-6.022376240053175],\"showlegend\":true,\"mode\":\"markers\",\"name\":\"y90\",\"zmin\":-0.1,\"legendgroup\":\"y90\",\"z\":[1.2557903100839867,1.2557903100839867],\"marker\":{\"symbol\":\"circle\",\"color\":\"rgba(0, 0, 0, 1.000)\",\"line\":{\"color\":\"rgba(0, 0, 0, 1.000)\",\"width\":1},\"size\":2},\"zmax\":0.1,\"y\":[4.894873585152568,4.894873585152568],\"type\":\"scatter3d\",\"hoverinfo\":\"text\"},{\"xaxis\":\"x1\",\"colorbar\":{\"title\":\"\"},\"yaxis\":\"y1\",\"text\":[null,null],\"x\":[7.3426101261642565,7.3426101261642565],\"showlegend\":true,\"mode\":\"markers\",\"name\":\"y91\",\"zmin\":-0.1,\"legendgroup\":\"y91\",\"z\":[-7.3426101261642565,-7.3426101261642565],\"marker\":{\"symbol\":\"circle\",\"color\":\"rgba(0, 0, 0, 1.000)\",\"line\":{\"color\":\"rgba(0, 0, 0, 1.000)\",\"width\":1},\"size\":2},\"zmax\":0.1,\"y\":[-14.685220252328513,-14.685220252328513],\"type\":\"scatter3d\",\"hoverinfo\":\"text\"},{\"xaxis\":\"x1\",\"colorbar\":{\"title\":\"\"},\"yaxis\":\"y1\",\"text\":[null,null],\"x\":[-2.0743146957815863,-2.0743146957815863],\"showlegend\":true,\"mode\":\"markers\",\"name\":\"y92\",\"zmin\":-0.1,\"legendgroup\":\"y92\",\"z\":[0.3096736169746883,0.3096736169746883],\"marker\":{\"symbol\":\"circle\",\"color\":\"rgba(0, 0, 0, 1.000)\",\"line\":{\"color\":\"rgba(0, 0, 0, 1.000)\",\"width\":1},\"size\":2},\"zmax\":0.1,\"y\":[1.5016677733528256,1.5016677733528256],\"type\":\"scatter3d\",\"hoverinfo\":\"text\"},{\"xaxis\":\"x1\",\"colorbar\":{\"title\":\"\"},\"yaxis\":\"y1\",\"text\":[null,null],\"x\":[11.425609523634314,11.425609523634314],\"showlegend\":true,\"mode\":\"markers\",\"name\":\"y93\",\"zmin\":-0.1,\"legendgroup\":\"y93\",\"z\":[3.5927746797456512,3.5927746797456512],\"marker\":{\"symbol\":\"circle\",\"color\":\"rgba(0, 0, 0, 1.000)\",\"line\":{\"color\":\"rgba(0, 0, 0, 1.000)\",\"width\":1},\"size\":2},\"zmax\":0.1,\"y\":[-0.3236427421986807,-0.3236427421986807],\"type\":\"scatter3d\",\"hoverinfo\":\"text\"},{\"xaxis\":\"x1\",\"colorbar\":{\"title\":\"\"},\"yaxis\":\"y1\",\"text\":[null,null],\"x\":[5.045796962320041,5.045796962320041],\"showlegend\":true,\"mode\":\"markers\",\"name\":\"y94\",\"zmin\":-0.1,\"legendgroup\":\"y94\",\"z\":[1.6637608584046057,1.6637608584046057],\"marker\":{\"symbol\":\"circle\",\"color\":\"rgba(0, 0, 0, 1.000)\",\"line\":{\"color\":\"rgba(0, 0, 0, 1.000)\",\"width\":1},\"size\":2},\"zmax\":0.1,\"y\":[-0.027257193553111847,-0.027257193553111847],\"type\":\"scatter3d\",\"hoverinfo\":\"text\"},{\"xaxis\":\"x1\",\"colorbar\":{\"title\":\"\"},\"yaxis\":\"y1\",\"text\":[null,null],\"x\":[2.5674442820315253,2.5674442820315253],\"showlegend\":true,\"mode\":\"markers\",\"name\":\"y95\",\"zmin\":-0.1,\"legendgroup\":\"y95\",\"z\":[-0.5324822181125315,-0.5324822181125315],\"marker\":{\"symbol\":\"circle\",\"color\":\"rgba(0, 0, 0, 1.000)\",\"line\":{\"color\":\"rgba(0, 0, 0, 1.000)\",\"width\":1},\"size\":2},\"zmax\":0.1,\"y\":[-2.08244546818456,-2.08244546818456],\"type\":\"scatter3d\",\"hoverinfo\":\"text\"},{\"xaxis\":\"x1\",\"colorbar\":{\"title\":\"\"},\"yaxis\":\"y1\",\"text\":[null,null],\"x\":[-13.857019493626646,-13.857019493626646],\"showlegend\":true,\"mode\":\"markers\",\"name\":\"y96\",\"zmin\":-0.1,\"legendgroup\":\"y96\",\"z\":[-1.4556692043295723,-1.4556692043295723],\"marker\":{\"symbol\":\"circle\",\"color\":\"rgba(0, 0, 0, 1.000)\",\"line\":{\"color\":\"rgba(0, 0, 0, 1.000)\",\"width\":1},\"size\":2},\"zmax\":0.1,\"y\":[4.745005940318965,4.745005940318965],\"type\":\"scatter3d\",\"hoverinfo\":\"text\"},{\"xaxis\":\"x1\",\"colorbar\":{\"title\":\"\"},\"yaxis\":\"y1\",\"text\":[null,null],\"x\":[11.020601766706465,11.020601766706465],\"showlegend\":true,\"mode\":\"markers\",\"name\":\"y97\",\"zmin\":-0.1,\"legendgroup\":\"y97\",\"z\":[1.9678825198955092,1.9678825198955092],\"marker\":{\"symbol\":\"circle\",\"color\":\"rgba(0, 0, 0, 1.000)\",\"line\":{\"color\":\"rgba(0, 0, 0, 1.000)\",\"width\":1},\"size\":2},\"zmax\":0.1,\"y\":[-2.5584771035099685,-2.5584771035099685],\"type\":\"scatter3d\",\"hoverinfo\":\"text\"},{\"xaxis\":\"x1\",\"colorbar\":{\"title\":\"\"},\"yaxis\":\"y1\",\"text\":[null,null],\"x\":[-10.18981358271659,-10.18981358271659],\"showlegend\":true,\"mode\":\"markers\",\"name\":\"y98\",\"zmin\":-0.1,\"legendgroup\":\"y98\",\"z\":[-2.6819922168267105,-2.6819922168267105],\"marker\":{\"symbol\":\"circle\",\"color\":\"rgba(0, 0, 0, 1.000)\",\"line\":{\"color\":\"rgba(0, 0, 0, 1.000)\",\"width\":1},\"size\":2},\"zmax\":0.1,\"y\":[1.07191846611823,1.07191846611823],\"type\":\"scatter3d\",\"hoverinfo\":\"text\"},{\"xaxis\":\"x1\",\"colorbar\":{\"title\":\"\"},\"yaxis\":\"y1\",\"text\":[null,null],\"x\":[12.46385962214979,12.46385962214979],\"showlegend\":true,\"mode\":\"markers\",\"name\":\"y99\",\"zmin\":-0.1,\"legendgroup\":\"y99\",\"z\":[9.171910188593792,9.171910188593792],\"marker\":{\"symbol\":\"circle\",\"color\":\"rgba(0, 0, 0, 1.000)\",\"line\":{\"color\":\"rgba(0, 0, 0, 1.000)\",\"width\":1},\"size\":2},\"zmax\":0.1,\"y\":[7.525935471815792,7.525935471815792],\"type\":\"scatter3d\",\"hoverinfo\":\"text\"},{\"xaxis\":\"x1\",\"colorbar\":{\"title\":\"\"},\"yaxis\":\"y1\",\"text\":[null,null],\"x\":[7.54503888525203,7.54503888525203],\"showlegend\":true,\"mode\":\"markers\",\"name\":\"y100\",\"zmin\":-0.1,\"legendgroup\":\"y100\",\"z\":[1.4123222760631395,1.4123222760631395],\"marker\":{\"symbol\":\"circle\",\"color\":\"rgba(0, 0, 0, 1.000)\",\"line\":{\"color\":\"rgba(0, 0, 0, 1.000)\",\"width\":1},\"size\":2},\"zmax\":0.1,\"y\":[-1.6540360285313058,-1.6540360285313058],\"type\":\"scatter3d\",\"hoverinfo\":\"text\"},{\"xaxis\":\"x1\",\"colorbar\":{\"title\":\"\"},\"yaxis\":\"y1\",\"text\":[null,null],\"x\":[-4.69680756644372,-4.69680756644372],\"showlegend\":true,\"mode\":\"markers\",\"name\":\"y101\",\"zmin\":-0.1,\"legendgroup\":\"y101\",\"z\":[2.952169343322961,2.952169343322961],\"marker\":{\"symbol\":\"circle\",\"color\":\"rgba(0, 0, 0, 1.000)\",\"line\":{\"color\":\"rgba(0, 0, 0, 1.000)\",\"width\":1},\"size\":2},\"zmax\":0.1,\"y\":[6.776657798206302,6.776657798206302],\"type\":\"scatter3d\",\"hoverinfo\":\"text\"},{\"xaxis\":\"x1\",\"colorbar\":{\"title\":\"\"},\"yaxis\":\"y1\",\"text\":[null,null],\"x\":[-5.191986662968777,-5.191986662968777],\"showlegend\":true,\"mode\":\"markers\",\"name\":\"y102\",\"zmin\":-0.1,\"legendgroup\":\"y102\",\"z\":[0.45188059041706863,0.45188059041706863],\"marker\":{\"symbol\":\"circle\",\"color\":\"rgba(0, 0, 0, 1.000)\",\"line\":{\"color\":\"rgba(0, 0, 0, 1.000)\",\"width\":1},\"size\":2},\"zmax\":0.1,\"y\":[3.273814217109991,3.273814217109991],\"type\":\"scatter3d\",\"hoverinfo\":\"text\"},{\"xaxis\":\"x1\",\"colorbar\":{\"title\":\"\"},\"yaxis\":\"y1\",\"text\":[null,null],\"x\":[-4.521399095957999,-4.521399095957999],\"showlegend\":true,\"mode\":\"markers\",\"name\":\"y103\",\"zmin\":-0.1,\"legendgroup\":\"y103\",\"z\":[2.366388555478128,2.366388555478128],\"marker\":{\"symbol\":\"circle\",\"color\":\"rgba(0, 0, 0, 1.000)\",\"line\":{\"color\":\"rgba(0, 0, 0, 1.000)\",\"width\":1},\"size\":2},\"zmax\":0.1,\"y\":[5.810282381196192,5.810282381196192],\"type\":\"scatter3d\",\"hoverinfo\":\"text\"},{\"xaxis\":\"x1\",\"colorbar\":{\"title\":\"\"},\"yaxis\":\"y1\",\"text\":[null,null],\"x\":[-1.7592681644667119,-1.7592681644667119],\"showlegend\":true,\"mode\":\"markers\",\"name\":\"y104\",\"zmin\":-0.1,\"legendgroup\":\"y104\",\"z\":[8.883540258665658,8.883540258665658],\"marker\":{\"symbol\":\"circle\",\"color\":\"rgba(0, 0, 0, 1.000)\",\"line\":{\"color\":\"rgba(0, 0, 0, 1.000)\",\"width\":1},\"size\":2},\"zmax\":0.1,\"y\":[14.204944470231844,14.204944470231844],\"type\":\"scatter3d\",\"hoverinfo\":\"text\"},{\"xaxis\":\"x1\",\"colorbar\":{\"title\":\"\"},\"yaxis\":\"y1\",\"text\":[null,null],\"x\":[10.559894936918436,10.559894936918436],\"showlegend\":true,\"mode\":\"markers\",\"name\":\"y105\",\"zmin\":-0.1,\"legendgroup\":\"y105\",\"z\":[3.6657833168459,3.6657833168459],\"marker\":{\"symbol\":\"circle\",\"color\":\"rgba(0, 0, 0, 1.000)\",\"line\":{\"color\":\"rgba(0, 0, 0, 1.000)\",\"width\":1},\"size\":2},\"zmax\":0.1,\"y\":[0.21872750680963193,0.21872750680963193],\"type\":\"scatter3d\",\"hoverinfo\":\"text\"},{\"xaxis\":\"x1\",\"colorbar\":{\"title\":\"\"},\"yaxis\":\"y1\",\"text\":[null,null],\"x\":[14.036683864572762,14.036683864572762],\"showlegend\":true,\"mode\":\"markers\",\"name\":\"y106\",\"zmin\":-0.1,\"legendgroup\":\"y106\",\"z\":[7.333767839093619,7.333767839093619],\"marker\":{\"symbol\":\"circle\",\"color\":\"rgba(0, 0, 0, 1.000)\",\"line\":{\"color\":\"rgba(0, 0, 0, 1.000)\",\"width\":1},\"size\":2},\"zmax\":0.1,\"y\":[3.9823098263540464,3.9823098263540464],\"type\":\"scatter3d\",\"hoverinfo\":\"text\"},{\"xaxis\":\"x1\",\"colorbar\":{\"title\":\"\"},\"yaxis\":\"y1\",\"text\":[null,null],\"x\":[-0.13752579098360052,-0.13752579098360052],\"showlegend\":true,\"mode\":\"markers\",\"name\":\"y107\",\"zmin\":-0.1,\"legendgroup\":\"y107\",\"z\":[-3.5530907961454137,-3.5530907961454137],\"marker\":{\"symbol\":\"circle\",\"color\":\"rgba(0, 0, 0, 1.000)\",\"line\":{\"color\":\"rgba(0, 0, 0, 1.000)\",\"width\":1},\"size\":2},\"zmax\":0.1,\"y\":[-5.26087329872632,-5.26087329872632],\"type\":\"scatter3d\",\"hoverinfo\":\"text\"},{\"xaxis\":\"x1\",\"colorbar\":{\"title\":\"\"},\"yaxis\":\"y1\",\"text\":[null,null],\"x\":[-4.951423019880108,-4.951423019880108],\"showlegend\":true,\"mode\":\"markers\",\"name\":\"y108\",\"zmin\":-0.1,\"legendgroup\":\"y108\",\"z\":[5.214975074282341,5.214975074282341],\"marker\":{\"symbol\":\"circle\",\"color\":\"rgba(0, 0, 0, 1.000)\",\"line\":{\"color\":\"rgba(0, 0, 0, 1.000)\",\"width\":1},\"size\":2},\"zmax\":0.1,\"y\":[10.298174121363566,10.298174121363566],\"type\":\"scatter3d\",\"hoverinfo\":\"text\"},{\"xaxis\":\"x1\",\"colorbar\":{\"title\":\"\"},\"yaxis\":\"y1\",\"text\":[null,null],\"x\":[13.203491713244748,13.203491713244748],\"showlegend\":true,\"mode\":\"markers\",\"name\":\"y109\",\"zmin\":-0.1,\"legendgroup\":\"y109\",\"z\":[4.598279553627411,4.598279553627411],\"marker\":{\"symbol\":\"circle\",\"color\":\"rgba(0, 0, 0, 1.000)\",\"line\":{\"color\":\"rgba(0, 0, 0, 1.000)\",\"width\":1},\"size\":2},\"zmax\":0.1,\"y\":[0.2956734738187432,0.2956734738187432],\"type\":\"scatter3d\",\"hoverinfo\":\"text\"},{\"xaxis\":\"x1\",\"colorbar\":{\"title\":\"\"},\"yaxis\":\"y1\",\"text\":[null,null],\"x\":[12.278136043421572,12.278136043421572],\"showlegend\":true,\"mode\":\"markers\",\"name\":\"y110\",\"zmin\":-0.1,\"legendgroup\":\"y110\",\"z\":[1.5789236223033036,1.5789236223033036],\"marker\":{\"symbol\":\"circle\",\"color\":\"rgba(0, 0, 0, 1.000)\",\"line\":{\"color\":\"rgba(0, 0, 0, 1.000)\",\"width\":1},\"size\":2},\"zmax\":0.1,\"y\":[-3.7706825882558306,-3.7706825882558306],\"type\":\"scatter3d\",\"hoverinfo\":\"text\"},{\"xaxis\":\"x1\",\"colorbar\":{\"title\":\"\"},\"yaxis\":\"y1\",\"text\":[null,null],\"x\":[-6.897000423087772,-6.897000423087772],\"showlegend\":true,\"mode\":\"markers\",\"name\":\"y111\",\"zmin\":-0.1,\"legendgroup\":\"y111\",\"z\":[-5.943132049097787,-5.943132049097787],\"marker\":{\"symbol\":\"circle\",\"color\":\"rgba(0, 0, 0, 1.000)\",\"line\":{\"color\":\"rgba(0, 0, 0, 1.000)\",\"width\":1},\"size\":2},\"zmax\":0.1,\"y\":[-5.466197862102794,-5.466197862102794],\"type\":\"scatter3d\",\"hoverinfo\":\"text\"},{\"xaxis\":\"x1\",\"colorbar\":{\"title\":\"\"},\"yaxis\":\"y1\",\"text\":[null,null],\"x\":[-1.5566387384285467,-1.5566387384285467],\"showlegend\":true,\"mode\":\"markers\",\"name\":\"y112\",\"zmin\":-0.1,\"legendgroup\":\"y112\",\"z\":[3.4387607651709176,3.4387607651709176],\"marker\":{\"symbol\":\"circle\",\"color\":\"rgba(0, 0, 0, 1.000)\",\"line\":{\"color\":\"rgba(0, 0, 0, 1.000)\",\"width\":1},\"size\":2},\"zmax\":0.1,\"y\":[5.93646051697065,5.93646051697065],\"type\":\"scatter3d\",\"hoverinfo\":\"text\"},{\"xaxis\":\"x1\",\"colorbar\":{\"title\":\"\"},\"yaxis\":\"y1\",\"text\":[null,null],\"x\":[1.7135798155010082,1.7135798155010082],\"showlegend\":true,\"mode\":\"markers\",\"name\":\"y113\",\"zmin\":-0.1,\"legendgroup\":\"y113\",\"z\":[-1.8307001413381379,-1.8307001413381379],\"marker\":{\"symbol\":\"circle\",\"color\":\"rgba(0, 0, 0, 1.000)\",\"line\":{\"color\":\"rgba(0, 0, 0, 1.000)\",\"width\":1},\"size\":2},\"zmax\":0.1,\"y\":[-3.602840119757711,-3.602840119757711],\"type\":\"scatter3d\",\"hoverinfo\":\"text\"},{\"xaxis\":\"x1\",\"colorbar\":{\"title\":\"\"},\"yaxis\":\"y1\",\"text\":[null,null],\"x\":[4.320839766668993,4.320839766668993],\"showlegend\":true,\"mode\":\"markers\",\"name\":\"y114\",\"zmin\":-0.1,\"legendgroup\":\"y114\",\"z\":[3.244389469693428,3.244389469693428],\"marker\":{\"symbol\":\"circle\",\"color\":\"rgba(0, 0, 0, 1.000)\",\"line\":{\"color\":\"rgba(0, 0, 0, 1.000)\",\"width\":1},\"size\":2},\"zmax\":0.1,\"y\":[2.7061643212056463,2.7061643212056463],\"type\":\"scatter3d\",\"hoverinfo\":\"text\"},{\"xaxis\":\"x1\",\"colorbar\":{\"title\":\"\"},\"yaxis\":\"y1\",\"text\":[null,null],\"x\":[0.5606782651511271,0.5606782651511271],\"showlegend\":true,\"mode\":\"markers\",\"name\":\"y115\",\"zmin\":-0.1,\"legendgroup\":\"y115\",\"z\":[-9.453412611185053,-9.453412611185053],\"marker\":{\"symbol\":\"circle\",\"color\":\"rgba(0, 0, 0, 1.000)\",\"line\":{\"color\":\"rgba(0, 0, 0, 1.000)\",\"width\":1},\"size\":2},\"zmax\":0.1,\"y\":[-14.460458049353143,-14.460458049353143],\"type\":\"scatter3d\",\"hoverinfo\":\"text\"},{\"xaxis\":\"x1\",\"colorbar\":{\"title\":\"\"},\"yaxis\":\"y1\",\"text\":[null,null],\"x\":[-6.202779285280468,-6.202779285280468],\"showlegend\":true,\"mode\":\"markers\",\"name\":\"y116\",\"zmin\":-0.1,\"legendgroup\":\"y116\",\"z\":[0.29773371441272256,0.29773371441272256],\"marker\":{\"symbol\":\"circle\",\"color\":\"rgba(0, 0, 0, 1.000)\",\"line\":{\"color\":\"rgba(0, 0, 0, 1.000)\",\"width\":1},\"size\":2},\"zmax\":0.1,\"y\":[3.547990214259318,3.547990214259318],\"type\":\"scatter3d\",\"hoverinfo\":\"text\"},{\"xaxis\":\"x1\",\"colorbar\":{\"title\":\"\"},\"yaxis\":\"y1\",\"text\":[null,null],\"x\":[5.813068798370967,5.813068798370967],\"showlegend\":true,\"mode\":\"markers\",\"name\":\"y117\",\"zmin\":-0.1,\"legendgroup\":\"y117\",\"z\":[-3.8188330619181636,-3.8188330619181636],\"marker\":{\"symbol\":\"circle\",\"color\":\"rgba(0, 0, 0, 1.000)\",\"line\":{\"color\":\"rgba(0, 0, 0, 1.000)\",\"width\":1},\"size\":2},\"zmax\":0.1,\"y\":[-8.63478399206273,-8.63478399206273],\"type\":\"scatter3d\",\"hoverinfo\":\"text\"},{\"xaxis\":\"x1\",\"colorbar\":{\"title\":\"\"},\"yaxis\":\"y1\",\"text\":[null,null],\"x\":[0.5725535126359116,0.5725535126359116],\"showlegend\":true,\"mode\":\"markers\",\"name\":\"y118\",\"zmin\":-0.1,\"legendgroup\":\"y118\",\"z\":[4.220993562815137,4.220993562815137],\"marker\":{\"symbol\":\"circle\",\"color\":\"rgba(0, 0, 0, 1.000)\",\"line\":{\"color\":\"rgba(0, 0, 0, 1.000)\",\"width\":1},\"size\":2},\"zmax\":0.1,\"y\":[6.045213587904749,6.045213587904749],\"type\":\"scatter3d\",\"hoverinfo\":\"text\"},{\"xaxis\":\"x1\",\"colorbar\":{\"title\":\"\"},\"yaxis\":\"y1\",\"text\":[null,null],\"x\":[-5.586856602680184,-5.586856602680184],\"showlegend\":true,\"mode\":\"markers\",\"name\":\"y119\",\"zmin\":-0.1,\"legendgroup\":\"y119\",\"z\":[-3.402968456968191,-3.402968456968191],\"marker\":{\"symbol\":\"circle\",\"color\":\"rgba(0, 0, 0, 1.000)\",\"line\":{\"color\":\"rgba(0, 0, 0, 1.000)\",\"width\":1},\"size\":2},\"zmax\":0.1,\"y\":[-2.3110243841121942,-2.3110243841121942],\"type\":\"scatter3d\",\"hoverinfo\":\"text\"},{\"xaxis\":\"x1\",\"colorbar\":{\"title\":\"\"},\"yaxis\":\"y1\",\"text\":[null,null],\"x\":[13.256168707299468,13.256168707299468],\"showlegend\":true,\"mode\":\"markers\",\"name\":\"y120\",\"zmin\":-0.1,\"legendgroup\":\"y120\",\"z\":[10.662815710131737,10.662815710131737],\"marker\":{\"symbol\":\"circle\",\"color\":\"rgba(0, 0, 0, 1.000)\",\"line\":{\"color\":\"rgba(0, 0, 0, 1.000)\",\"width\":1},\"size\":2},\"zmax\":0.1,\"y\":[9.366139211547871,9.366139211547871],\"type\":\"scatter3d\",\"hoverinfo\":\"text\"},{\"xaxis\":\"x1\",\"colorbar\":{\"title\":\"\"},\"yaxis\":\"y1\",\"text\":[null,null],\"x\":[-4.178526351766937,-4.178526351766937],\"showlegend\":true,\"mode\":\"markers\",\"name\":\"y121\",\"zmin\":-0.1,\"legendgroup\":\"y121\",\"z\":[-3.1024617838529807,-3.1024617838529807],\"marker\":{\"symbol\":\"circle\",\"color\":\"rgba(0, 0, 0, 1.000)\",\"line\":{\"color\":\"rgba(0, 0, 0, 1.000)\",\"width\":1},\"size\":2},\"zmax\":0.1,\"y\":[-2.564429499896002,-2.564429499896002],\"type\":\"scatter3d\",\"hoverinfo\":\"text\"},{\"xaxis\":\"x1\",\"colorbar\":{\"title\":\"\"},\"yaxis\":\"y1\",\"text\":[null,null],\"x\":[3.8687902758305004,3.8687902758305004],\"showlegend\":true,\"mode\":\"markers\",\"name\":\"y122\",\"zmin\":-0.1,\"legendgroup\":\"y122\",\"z\":[-3.8687902758305004,-3.8687902758305004],\"marker\":{\"symbol\":\"circle\",\"color\":\"rgba(0, 0, 0, 1.000)\",\"line\":{\"color\":\"rgba(0, 0, 0, 1.000)\",\"width\":1},\"size\":2},\"zmax\":0.1,\"y\":[-7.737580551661001,-7.737580551661001],\"type\":\"scatter3d\",\"hoverinfo\":\"text\"},{\"xaxis\":\"x1\",\"colorbar\":{\"title\":\"\"},\"yaxis\":\"y1\",\"text\":[null,null],\"x\":[-14.329795017162962,-14.329795017162962],\"showlegend\":true,\"mode\":\"markers\",\"name\":\"y123\",\"zmin\":-0.1,\"legendgroup\":\"y123\",\"z\":[-5.90141711439841,-5.90141711439841],\"marker\":{\"symbol\":\"circle\",\"color\":\"rgba(0, 0, 0, 1.000)\",\"line\":{\"color\":\"rgba(0, 0, 0, 1.000)\",\"width\":1},\"size\":2},\"zmax\":0.1,\"y\":[-1.6872281630161345,-1.6872281630161345],\"type\":\"scatter3d\",\"hoverinfo\":\"text\"},{\"xaxis\":\"x1\",\"colorbar\":{\"title\":\"\"},\"yaxis\":\"y1\",\"text\":[null,null],\"x\":[7.050740326206756,7.050740326206756],\"showlegend\":true,\"mode\":\"markers\",\"name\":\"y124\",\"zmin\":-0.1,\"legendgroup\":\"y124\",\"z\":[-6.422997541564583,-6.422997541564583],\"marker\":{\"symbol\":\"circle\",\"color\":\"rgba(0, 0, 0, 1.000)\",\"line\":{\"color\":\"rgba(0, 0, 0, 1.000)\",\"width\":1},\"size\":2},\"zmax\":0.1,\"y\":[-13.159866475450253,-13.159866475450253],\"type\":\"scatter3d\",\"hoverinfo\":\"text\"},{\"xaxis\":\"x1\",\"colorbar\":{\"title\":\"\"},\"yaxis\":\"y1\",\"text\":[null,null],\"x\":[8.12116264325236,8.12116264325236],\"showlegend\":true,\"mode\":\"markers\",\"name\":\"y125\",\"zmin\":-0.1,\"legendgroup\":\"y125\",\"z\":[3.3490681638791755,3.3490681638791755],\"marker\":{\"symbol\":\"circle\",\"color\":\"rgba(0, 0, 0, 1.000)\",\"line\":{\"color\":\"rgba(0, 0, 0, 1.000)\",\"width\":1},\"size\":2},\"zmax\":0.1,\"y\":[0.9630209241925831,0.9630209241925831],\"type\":\"scatter3d\",\"hoverinfo\":\"text\"},{\"xaxis\":\"x1\",\"colorbar\":{\"title\":\"\"},\"yaxis\":\"y1\",\"text\":[null,null],\"x\":[5.3719804337163914,5.3719804337163914],\"showlegend\":true,\"mode\":\"markers\",\"name\":\"y126\",\"zmin\":-0.1,\"legendgroup\":\"y126\",\"z\":[2.0853075954273153,2.0853075954273153],\"marker\":{\"symbol\":\"circle\",\"color\":\"rgba(0, 0, 0, 1.000)\",\"line\":{\"color\":\"rgba(0, 0, 0, 1.000)\",\"width\":1},\"size\":2},\"zmax\":0.1,\"y\":[0.44197117628277693,0.44197117628277693],\"type\":\"scatter3d\",\"hoverinfo\":\"text\"},{\"xaxis\":\"x1\",\"colorbar\":{\"title\":\"\"},\"yaxis\":\"y1\",\"text\":[null,null],\"x\":[1.4887251251721678,1.4887251251721678],\"showlegend\":true,\"mode\":\"markers\",\"name\":\"y127\",\"zmin\":-0.1,\"legendgroup\":\"y127\",\"z\":[2.6257334223326123,2.6257334223326123],\"marker\":{\"symbol\":\"circle\",\"color\":\"rgba(0, 0, 0, 1.000)\",\"line\":{\"color\":\"rgba(0, 0, 0, 1.000)\",\"width\":1},\"size\":2},\"zmax\":0.1,\"y\":[3.1942375709128346,3.1942375709128346],\"type\":\"scatter3d\",\"hoverinfo\":\"text\"},{\"xaxis\":\"x1\",\"colorbar\":{\"title\":\"\"},\"yaxis\":\"y1\",\"text\":[null,null],\"x\":[0.429000051414973,0.429000051414973],\"showlegend\":true,\"mode\":\"markers\",\"name\":\"y128\",\"zmin\":-0.1,\"legendgroup\":\"y128\",\"z\":[-0.7503223956889746,-0.7503223956889746],\"marker\":{\"symbol\":\"circle\",\"color\":\"rgba(0, 0, 0, 1.000)\",\"line\":{\"color\":\"rgba(0, 0, 0, 1.000)\",\"width\":1},\"size\":2},\"zmax\":0.1,\"y\":[-1.3399836192409484,-1.3399836192409484],\"type\":\"scatter3d\",\"hoverinfo\":\"text\"},{\"xaxis\":\"x1\",\"colorbar\":{\"title\":\"\"},\"yaxis\":\"y1\",\"text\":[null,null],\"x\":[2.776235640256572,2.776235640256572],\"showlegend\":true,\"mode\":\"markers\",\"name\":\"y129\",\"zmin\":-0.1,\"legendgroup\":\"y129\",\"z\":[-2.776235640256572,-2.776235640256572],\"marker\":{\"symbol\":\"circle\",\"color\":\"rgba(0, 0, 0, 1.000)\",\"line\":{\"color\":\"rgba(0, 0, 0, 1.000)\",\"width\":1},\"size\":2},\"zmax\":0.1,\"y\":[-5.552471280513144,-5.552471280513144],\"type\":\"scatter3d\",\"hoverinfo\":\"text\"},{\"xaxis\":\"x1\",\"colorbar\":{\"title\":\"\"},\"yaxis\":\"y1\",\"text\":[null,null],\"x\":[-8.229040403894581,-8.229040403894581],\"showlegend\":true,\"mode\":\"markers\",\"name\":\"y130\",\"zmin\":-0.1,\"legendgroup\":\"y130\",\"z\":[-2.6440356387013515,-2.6440356387013515],\"marker\":{\"symbol\":\"circle\",\"color\":\"rgba(0, 0, 0, 1.000)\",\"line\":{\"color\":\"rgba(0, 0, 0, 1.000)\",\"width\":1},\"size\":2},\"zmax\":0.1,\"y\":[0.1484667438952636,0.1484667438952636],\"type\":\"scatter3d\",\"hoverinfo\":\"text\"},{\"xaxis\":\"x1\",\"colorbar\":{\"title\":\"\"},\"yaxis\":\"y1\",\"text\":[null,null],\"x\":[1.2141486090234879,1.2141486090234879],\"showlegend\":true,\"mode\":\"markers\",\"name\":\"y131\",\"zmin\":-0.1,\"legendgroup\":\"y131\",\"z\":[-2.9687657878958498,-2.9687657878958498],\"marker\":{\"symbol\":\"circle\",\"color\":\"rgba(0, 0, 0, 1.000)\",\"line\":{\"color\":\"rgba(0, 0, 0, 1.000)\",\"width\":1},\"size\":2},\"zmax\":0.1,\"y\":[-5.060222986355519,-5.060222986355519],\"type\":\"scatter3d\",\"hoverinfo\":\"text\"},{\"xaxis\":\"x1\",\"colorbar\":{\"title\":\"\"},\"yaxis\":\"y1\",\"text\":[null,null],\"x\":[14.161583906818375,14.161583906818375],\"showlegend\":true,\"mode\":\"markers\",\"name\":\"y132\",\"zmin\":-0.1,\"legendgroup\":\"y132\",\"z\":[-2.2013297413112136,-2.2013297413112136],\"marker\":{\"symbol\":\"circle\",\"color\":\"rgba(0, 0, 0, 1.000)\",\"line\":{\"color\":\"rgba(0, 0, 0, 1.000)\",\"width\":1},\"size\":2},\"zmax\":0.1,\"y\":[-10.382786565376009,-10.382786565376009],\"type\":\"scatter3d\",\"hoverinfo\":\"text\"},{\"xaxis\":\"x1\",\"colorbar\":{\"title\":\"\"},\"yaxis\":\"y1\",\"text\":[null,null],\"x\":[-13.998399512976155,-13.998399512976155],\"showlegend\":true,\"mode\":\"markers\",\"name\":\"y133\",\"zmin\":-0.1,\"legendgroup\":\"y133\",\"z\":[-3.7101955726323883,-3.7101955726323883],\"marker\":{\"symbol\":\"circle\",\"color\":\"rgba(0, 0, 0, 1.000)\",\"line\":{\"color\":\"rgba(0, 0, 0, 1.000)\",\"width\":1},\"size\":2},\"zmax\":0.1,\"y\":[1.433906397539495,1.433906397539495],\"type\":\"scatter3d\",\"hoverinfo\":\"text\"},{\"xaxis\":\"x1\",\"colorbar\":{\"title\":\"\"},\"yaxis\":\"y1\",\"text\":[null,null],\"x\":[6.363948285192395,6.363948285192395],\"showlegend\":true,\"mode\":\"markers\",\"name\":\"y134\",\"zmin\":-0.1,\"legendgroup\":\"y134\",\"z\":[0.6814444845681764,0.6814444845681764],\"marker\":{\"symbol\":\"circle\",\"color\":\"rgba(0, 0, 0, 1.000)\",\"line\":{\"color\":\"rgba(0, 0, 0, 1.000)\",\"width\":1},\"size\":2},\"zmax\":0.1,\"y\":[-2.159807415743933,-2.159807415743933],\"type\":\"scatter3d\",\"hoverinfo\":\"text\"},{\"xaxis\":\"x1\",\"colorbar\":{\"title\":\"\"},\"yaxis\":\"y1\",\"text\":[null,null],\"x\":[-8.537983965892577,-8.537983965892577],\"showlegend\":true,\"mode\":\"markers\",\"name\":\"y135\",\"zmin\":-0.1,\"legendgroup\":\"y135\",\"z\":[6.2724705273879415,6.2724705273879415],\"marker\":{\"symbol\":\"circle\",\"color\":\"rgba(0, 0, 0, 1.000)\",\"line\":{\"color\":\"rgba(0, 0, 0, 1.000)\",\"width\":1},\"size\":2},\"zmax\":0.1,\"y\":[13.677697774028202,13.677697774028202],\"type\":\"scatter3d\",\"hoverinfo\":\"text\"},{\"xaxis\":\"x1\",\"colorbar\":{\"title\":\"\"},\"yaxis\":\"y1\",\"text\":[null,null],\"x\":[-0.29228853750461425,-0.29228853750461425],\"showlegend\":true,\"mode\":\"markers\",\"name\":\"y136\",\"zmin\":-0.1,\"legendgroup\":\"y136\",\"z\":[3.529131932813975,3.529131932813975],\"marker\":{\"symbol\":\"circle\",\"color\":\"rgba(0, 0, 0, 1.000)\",\"line\":{\"color\":\"rgba(0, 0, 0, 1.000)\",\"width\":1},\"size\":2},\"zmax\":0.1,\"y\":[5.43984216797327,5.43984216797327],\"type\":\"scatter3d\",\"hoverinfo\":\"text\"},{\"xaxis\":\"x1\",\"colorbar\":{\"title\":\"\"},\"yaxis\":\"y1\",\"text\":[null,null],\"x\":[0.7450052533738774,0.7450052533738774],\"showlegend\":true,\"mode\":\"markers\",\"name\":\"y137\",\"zmin\":-0.1,\"legendgroup\":\"y137\",\"z\":[6.886896672949893,6.886896672949893],\"marker\":{\"symbol\":\"circle\",\"color\":\"rgba(0, 0, 0, 1.000)\",\"line\":{\"color\":\"rgba(0, 0, 0, 1.000)\",\"width\":1},\"size\":2},\"zmax\":0.1,\"y\":[9.957842382737901,9.957842382737901],\"type\":\"scatter3d\",\"hoverinfo\":\"text\"},{\"xaxis\":\"x1\",\"colorbar\":{\"title\":\"\"},\"yaxis\":\"y1\",\"text\":[null,null],\"x\":[3.651617533013939,3.651617533013939],\"showlegend\":true,\"mode\":\"markers\",\"name\":\"y138\",\"zmin\":-0.1,\"legendgroup\":\"y138\",\"z\":[1.9960735224429071,1.9960735224429071],\"marker\":{\"symbol\":\"circle\",\"color\":\"rgba(0, 0, 0, 1.000)\",\"line\":{\"color\":\"rgba(0, 0, 0, 1.000)\",\"width\":1},\"size\":2},\"zmax\":0.1,\"y\":[1.1683015171573912,1.1683015171573912],\"type\":\"scatter3d\",\"hoverinfo\":\"text\"},{\"xaxis\":\"x1\",\"colorbar\":{\"title\":\"\"},\"yaxis\":\"y1\",\"text\":[null,null],\"x\":[-2.018347238536542,-2.018347238536542],\"showlegend\":true,\"mode\":\"markers\",\"name\":\"y139\",\"zmin\":-0.1,\"legendgroup\":\"y139\",\"z\":[2.018347238536542,2.018347238536542],\"marker\":{\"symbol\":\"circle\",\"color\":\"rgba(0, 0, 0, 1.000)\",\"line\":{\"color\":\"rgba(0, 0, 0, 1.000)\",\"width\":1},\"size\":2},\"zmax\":0.1,\"y\":[4.036694477073084,4.036694477073084],\"type\":\"scatter3d\",\"hoverinfo\":\"text\"},{\"xaxis\":\"x1\",\"colorbar\":{\"title\":\"\"},\"yaxis\":\"y1\",\"text\":[null,null],\"x\":[-5.685231068036399,-5.685231068036399],\"showlegend\":true,\"mode\":\"markers\",\"name\":\"y140\",\"zmin\":-0.1,\"legendgroup\":\"y140\",\"z\":[-0.1801633970372254,-0.1801633970372254],\"marker\":{\"symbol\":\"circle\",\"color\":\"rgba(0, 0, 0, 1.000)\",\"line\":{\"color\":\"rgba(0, 0, 0, 1.000)\",\"width\":1},\"size\":2},\"zmax\":0.1,\"y\":[2.5723704384623614,2.5723704384623614],\"type\":\"scatter3d\",\"hoverinfo\":\"text\"},{\"xaxis\":\"x1\",\"colorbar\":{\"title\":\"\"},\"yaxis\":\"y1\",\"text\":[null,null],\"x\":[-6.920668317125629,-6.920668317125629],\"showlegend\":true,\"mode\":\"markers\",\"name\":\"y141\",\"zmin\":-0.1,\"legendgroup\":\"y141\",\"z\":[-8.873915847843833,-8.873915847843833],\"marker\":{\"symbol\":\"circle\",\"color\":\"rgba(0, 0, 0, 1.000)\",\"line\":{\"color\":\"rgba(0, 0, 0, 1.000)\",\"width\":1},\"size\":2},\"zmax\":0.1,\"y\":[-9.850539613202935,-9.850539613202935],\"type\":\"scatter3d\",\"hoverinfo\":\"text\"},{\"xaxis\":\"x1\",\"colorbar\":{\"title\":\"\"},\"yaxis\":\"y1\",\"text\":[null,null],\"x\":[0.5246589355781093,0.5246589355781093],\"showlegend\":true,\"mode\":\"markers\",\"name\":\"y142\",\"zmin\":-0.1,\"legendgroup\":\"y142\",\"z\":[-0.5246589355781093,-0.5246589355781093],\"marker\":{\"symbol\":\"circle\",\"color\":\"rgba(0, 0, 0, 1.000)\",\"line\":{\"color\":\"rgba(0, 0, 0, 1.000)\",\"width\":1},\"size\":2},\"zmax\":0.1,\"y\":[-1.0493178711562186,-1.0493178711562186],\"type\":\"scatter3d\",\"hoverinfo\":\"text\"},{\"xaxis\":\"x1\",\"colorbar\":{\"title\":\"\"},\"yaxis\":\"y1\",\"text\":[null,null],\"x\":[-0.849311803522391,-0.849311803522391],\"showlegend\":true,\"mode\":\"markers\",\"name\":\"y143\",\"zmin\":-0.1,\"legendgroup\":\"y143\",\"z\":[2.63216130644349,2.63216130644349],\"marker\":{\"symbol\":\"circle\",\"color\":\"rgba(0, 0, 0, 1.000)\",\"line\":{\"color\":\"rgba(0, 0, 0, 1.000)\",\"width\":1},\"size\":2},\"zmax\":0.1,\"y\":[4.372897861426431,4.372897861426431],\"type\":\"scatter3d\",\"hoverinfo\":\"text\"},{\"xaxis\":\"x1\",\"colorbar\":{\"title\":\"\"},\"yaxis\":\"y1\",\"text\":[null,null],\"x\":[-5.700875305660368,-5.700875305660368],\"showlegend\":true,\"mode\":\"markers\",\"name\":\"y144\",\"zmin\":-0.1,\"legendgroup\":\"y144\",\"z\":[-7.048634597379099,-7.048634597379099],\"marker\":{\"symbol\":\"circle\",\"color\":\"rgba(0, 0, 0, 1.000)\",\"line\":{\"color\":\"rgba(0, 0, 0, 1.000)\",\"width\":1},\"size\":2},\"zmax\":0.1,\"y\":[-7.7225142432384635,-7.7225142432384635],\"type\":\"scatter3d\",\"hoverinfo\":\"text\"},{\"xaxis\":\"x1\",\"colorbar\":{\"title\":\"\"},\"yaxis\":\"y1\",\"text\":[null,null],\"x\":[4.127747866546005,4.127747866546005],\"showlegend\":true,\"mode\":\"markers\",\"name\":\"y145\",\"zmin\":-0.1,\"legendgroup\":\"y145\",\"z\":[-7.422630370919865,-7.422630370919865],\"marker\":{\"symbol\":\"circle\",\"color\":\"rgba(0, 0, 0, 1.000)\",\"line\":{\"color\":\"rgba(0, 0, 0, 1.000)\",\"width\":1},\"size\":2},\"zmax\":0.1,\"y\":[-13.197819489652801,-13.197819489652801],\"type\":\"scatter3d\",\"hoverinfo\":\"text\"},{\"xaxis\":\"x1\",\"colorbar\":{\"title\":\"\"},\"yaxis\":\"y1\",\"text\":[null,null],\"x\":[1.4438329006765775,1.4438329006765775],\"showlegend\":true,\"mode\":\"markers\",\"name\":\"y146\",\"zmin\":-0.1,\"legendgroup\":\"y146\",\"z\":[-3.6085870100717825,-3.6085870100717825],\"marker\":{\"symbol\":\"circle\",\"color\":\"rgba(0, 0, 0, 1.000)\",\"line\":{\"color\":\"rgba(0, 0, 0, 1.000)\",\"width\":1},\"size\":2},\"zmax\":0.1,\"y\":[-6.134796965445963,-6.134796965445963],\"type\":\"scatter3d\",\"hoverinfo\":\"text\"},{\"xaxis\":\"x1\",\"colorbar\":{\"title\":\"\"},\"yaxis\":\"y1\",\"text\":[null,null],\"x\":[-0.18905564672095743,-0.18905564672095743],\"showlegend\":true,\"mode\":\"markers\",\"name\":\"y147\",\"zmin\":-0.1,\"legendgroup\":\"y147\",\"z\":[-9.440355965960448,-9.440355965960448],\"marker\":{\"symbol\":\"circle\",\"color\":\"rgba(0, 0, 0, 1.000)\",\"line\":{\"color\":\"rgba(0, 0, 0, 1.000)\",\"width\":1},\"size\":2},\"zmax\":0.1,\"y\":[-14.066006125580193,-14.066006125580193],\"type\":\"scatter3d\",\"hoverinfo\":\"text\"},{\"xaxis\":\"x1\",\"colorbar\":{\"title\":\"\"},\"yaxis\":\"y1\",\"text\":[null,null],\"x\":[-4.873735888974093,-4.873735888974093],\"showlegend\":true,\"mode\":\"markers\",\"name\":\"y148\",\"zmin\":-0.1,\"legendgroup\":\"y148\",\"z\":[1.550433236493876,1.550433236493876],\"marker\":{\"symbol\":\"circle\",\"color\":\"rgba(0, 0, 0, 1.000)\",\"line\":{\"color\":\"rgba(0, 0, 0, 1.000)\",\"width\":1},\"size\":2},\"zmax\":0.1,\"y\":[4.762517799227861,4.762517799227861],\"type\":\"scatter3d\",\"hoverinfo\":\"text\"},{\"xaxis\":\"x1\",\"colorbar\":{\"title\":\"\"},\"yaxis\":\"y1\",\"text\":[null,null],\"x\":[-3.3153579745846837,-3.3153579745846837],\"showlegend\":true,\"mode\":\"markers\",\"name\":\"y149\",\"zmin\":-0.1,\"legendgroup\":\"y149\",\"z\":[-2.6882868633227783,-2.6882868633227783],\"marker\":{\"symbol\":\"circle\",\"color\":\"rgba(0, 0, 0, 1.000)\",\"line\":{\"color\":\"rgba(0, 0, 0, 1.000)\",\"width\":1},\"size\":2},\"zmax\":0.1,\"y\":[-2.374751307691826,-2.374751307691826],\"type\":\"scatter3d\",\"hoverinfo\":\"text\"},{\"xaxis\":\"x1\",\"colorbar\":{\"title\":\"\"},\"yaxis\":\"y1\",\"text\":[null,null],\"x\":[-2.636289833047966,-2.636289833047966],\"showlegend\":true,\"mode\":\"markers\",\"name\":\"y150\",\"zmin\":-0.1,\"legendgroup\":\"y150\",\"z\":[-2.289056632150271,-2.289056632150271],\"marker\":{\"symbol\":\"circle\",\"color\":\"rgba(0, 0, 0, 1.000)\",\"line\":{\"color\":\"rgba(0, 0, 0, 1.000)\",\"width\":1},\"size\":2},\"zmax\":0.1,\"y\":[-2.115440031701424,-2.115440031701424],\"type\":\"scatter3d\",\"hoverinfo\":\"text\"},{\"xaxis\":\"x1\",\"colorbar\":{\"title\":\"\"},\"yaxis\":\"y1\",\"text\":[null,null],\"x\":[-2.817370074124292,-2.817370074124292],\"showlegend\":true,\"mode\":\"markers\",\"name\":\"y151\",\"zmin\":-0.1,\"legendgroup\":\"y151\",\"z\":[8.421768666851932,8.421768666851932],\"marker\":{\"symbol\":\"circle\",\"color\":\"rgba(0, 0, 0, 1.000)\",\"line\":{\"color\":\"rgba(0, 0, 0, 1.000)\",\"width\":1},\"size\":2},\"zmax\":0.1,\"y\":[14.041338037340045,14.041338037340045],\"type\":\"scatter3d\",\"hoverinfo\":\"text\"},{\"xaxis\":\"x1\",\"colorbar\":{\"title\":\"\"},\"yaxis\":\"y1\",\"text\":[null,null],\"x\":[-9.695604156051385,-9.695604156051385],\"showlegend\":true,\"mode\":\"markers\",\"name\":\"y152\",\"zmin\":-0.1,\"legendgroup\":\"y152\",\"z\":[0.6650247433386705,0.6650247433386705],\"marker\":{\"symbol\":\"circle\",\"color\":\"rgba(0, 0, 0, 1.000)\",\"line\":{\"color\":\"rgba(0, 0, 0, 1.000)\",\"width\":1},\"size\":2},\"zmax\":0.1,\"y\":[5.845339193033698,5.845339193033698],\"type\":\"scatter3d\",\"hoverinfo\":\"text\"},{\"xaxis\":\"x1\",\"colorbar\":{\"title\":\"\"},\"yaxis\":\"y1\",\"text\":[null,null],\"x\":[4.922079776050718,4.922079776050718],\"showlegend\":true,\"mode\":\"markers\",\"name\":\"y153\",\"zmin\":-0.1,\"legendgroup\":\"y153\",\"z\":[-4.97164239920946,-4.97164239920946],\"marker\":{\"symbol\":\"circle\",\"color\":\"rgba(0, 0, 0, 1.000)\",\"line\":{\"color\":\"rgba(0, 0, 0, 1.000)\",\"width\":1},\"size\":2},\"zmax\":0.1,\"y\":[-9.91850348683955,-9.91850348683955],\"type\":\"scatter3d\",\"hoverinfo\":\"text\"},{\"xaxis\":\"x1\",\"colorbar\":{\"title\":\"\"},\"yaxis\":\"y1\",\"text\":[null,null],\"x\":[-11.209009999845954,-11.209009999845954],\"showlegend\":true,\"mode\":\"markers\",\"name\":\"y154\",\"zmin\":-0.1,\"legendgroup\":\"y154\",\"z\":[4.741598949634097,4.741598949634097],\"marker\":{\"symbol\":\"circle\",\"color\":\"rgba(0, 0, 0, 1.000)\",\"line\":{\"color\":\"rgba(0, 0, 0, 1.000)\",\"width\":1},\"size\":2},\"zmax\":0.1,\"y\":[12.716903424374122,12.716903424374122],\"type\":\"scatter3d\",\"hoverinfo\":\"text\"},{\"xaxis\":\"x1\",\"colorbar\":{\"title\":\"\"},\"yaxis\":\"y1\",\"text\":[null,null],\"x\":[13.06080346445346,13.06080346445346],\"showlegend\":true,\"mode\":\"markers\",\"name\":\"y155\",\"zmin\":-0.1,\"legendgroup\":\"y155\",\"z\":[3.314172127012026,3.314172127012026],\"marker\":{\"symbol\":\"circle\",\"color\":\"rgba(0, 0, 0, 1.000)\",\"line\":{\"color\":\"rgba(0, 0, 0, 1.000)\",\"width\":1},\"size\":2},\"zmax\":0.1,\"y\":[-1.559143541708691,-1.559143541708691],\"type\":\"scatter3d\",\"hoverinfo\":\"text\"},{\"xaxis\":\"x1\",\"colorbar\":{\"title\":\"\"},\"yaxis\":\"y1\",\"text\":[null,null],\"x\":[5.039849030066221,5.039849030066221],\"showlegend\":true,\"mode\":\"markers\",\"name\":\"y156\",\"zmin\":-0.1,\"legendgroup\":\"y156\",\"z\":[0.9628264910099806,0.9628264910099806],\"marker\":{\"symbol\":\"circle\",\"color\":\"rgba(0, 0, 0, 1.000)\",\"line\":{\"color\":\"rgba(0, 0, 0, 1.000)\",\"width\":1},\"size\":2},\"zmax\":0.1,\"y\":[-1.0756847785181392,-1.0756847785181392],\"type\":\"scatter3d\",\"hoverinfo\":\"text\"},{\"xaxis\":\"x1\",\"colorbar\":{\"title\":\"\"},\"yaxis\":\"y1\",\"text\":[null,null],\"x\":[-4.227434491203539,-4.227434491203539],\"showlegend\":true,\"mode\":\"markers\",\"name\":\"y157\",\"zmin\":-0.1,\"legendgroup\":\"y157\",\"z\":[-8.514177219362853,-8.514177219362853],\"marker\":{\"symbol\":\"circle\",\"color\":\"rgba(0, 0, 0, 1.000)\",\"line\":{\"color\":\"rgba(0, 0, 0, 1.000)\",\"width\":1},\"size\":2},\"zmax\":0.1,\"y\":[-10.657548583442512,-10.657548583442512],\"type\":\"scatter3d\",\"hoverinfo\":\"text\"},{\"xaxis\":\"x1\",\"colorbar\":{\"title\":\"\"},\"yaxis\":\"y1\",\"text\":[null,null],\"x\":[-5.146219225940956,-5.146219225940956],\"showlegend\":true,\"mode\":\"markers\",\"name\":\"y158\",\"zmin\":-0.1,\"legendgroup\":\"y158\",\"z\":[0.2758588087818923,0.2758588087818923],\"marker\":{\"symbol\":\"circle\",\"color\":\"rgba(0, 0, 0, 1.000)\",\"line\":{\"color\":\"rgba(0, 0, 0, 1.000)\",\"width\":1},\"size\":2},\"zmax\":0.1,\"y\":[2.9868978261433163,2.9868978261433163],\"type\":\"scatter3d\",\"hoverinfo\":\"text\"},{\"xaxis\":\"x1\",\"colorbar\":{\"title\":\"\"},\"yaxis\":\"y1\",\"text\":[null,null],\"x\":[10.292362719895584,10.292362719895584],\"showlegend\":true,\"mode\":\"markers\",\"name\":\"y159\",\"zmin\":-0.1,\"legendgroup\":\"y159\",\"z\":[3.0631255679782137,3.0631255679782137],\"marker\":{\"symbol\":\"circle\",\"color\":\"rgba(0, 0, 0, 1.000)\",\"line\":{\"color\":\"rgba(0, 0, 0, 1.000)\",\"width\":1},\"size\":2},\"zmax\":0.1,\"y\":[-0.5514930079804712,-0.5514930079804712],\"type\":\"scatter3d\",\"hoverinfo\":\"text\"},{\"xaxis\":\"x1\",\"colorbar\":{\"title\":\"\"},\"yaxis\":\"y1\",\"text\":[null,null],\"x\":[2.3171510361816727,2.3171510361816727],\"showlegend\":true,\"mode\":\"markers\",\"name\":\"y160\",\"zmin\":-0.1,\"legendgroup\":\"y160\",\"z\":[0.712549209823804,0.712549209823804],\"marker\":{\"symbol\":\"circle\",\"color\":\"rgba(0, 0, 0, 1.000)\",\"line\":{\"color\":\"rgba(0, 0, 0, 1.000)\",\"width\":1},\"size\":2},\"zmax\":0.1,\"y\":[-0.08975170335513027,-0.08975170335513027],\"type\":\"scatter3d\",\"hoverinfo\":\"text\"},{\"xaxis\":\"x1\",\"colorbar\":{\"title\":\"\"},\"yaxis\":\"y1\",\"text\":[null,null],\"x\":[-4.405948896056342,-4.405948896056342],\"showlegend\":true,\"mode\":\"markers\",\"name\":\"y161\",\"zmin\":-0.1,\"legendgroup\":\"y161\",\"z\":[5.854413310488866,5.854413310488866],\"marker\":{\"symbol\":\"circle\",\"color\":\"rgba(0, 0, 0, 1.000)\",\"line\":{\"color\":\"rgba(0, 0, 0, 1.000)\",\"width\":1},\"size\":2},\"zmax\":0.1,\"y\":[10.98459441376147,10.98459441376147],\"type\":\"scatter3d\",\"hoverinfo\":\"text\"},{\"xaxis\":\"x1\",\"colorbar\":{\"title\":\"\"},\"yaxis\":\"y1\",\"text\":[null,null],\"x\":[-1.1202752234183588,-1.1202752234183588],\"showlegend\":true,\"mode\":\"markers\",\"name\":\"y162\",\"zmin\":-0.1,\"legendgroup\":\"y162\",\"z\":[-5.949352465765383,-5.949352465765383],\"marker\":{\"symbol\":\"circle\",\"color\":\"rgba(0, 0, 0, 1.000)\",\"line\":{\"color\":\"rgba(0, 0, 0, 1.000)\",\"width\":1},\"size\":2},\"zmax\":0.1,\"y\":[-8.363891086938896,-8.363891086938896],\"type\":\"scatter3d\",\"hoverinfo\":\"text\"},{\"xaxis\":\"x1\",\"colorbar\":{\"title\":\"\"},\"yaxis\":\"y1\",\"text\":[null,null],\"x\":[10.954462895819464,10.954462895819464],\"showlegend\":true,\"mode\":\"markers\",\"name\":\"y163\",\"zmin\":-0.1,\"legendgroup\":\"y163\",\"z\":[4.088499665683814,4.088499665683814],\"marker\":{\"symbol\":\"circle\",\"color\":\"rgba(0, 0, 0, 1.000)\",\"line\":{\"color\":\"rgba(0, 0, 0, 1.000)\",\"width\":1},\"size\":2},\"zmax\":0.1,\"y\":[0.6555180506159899,0.6555180506159899],\"type\":\"scatter3d\",\"hoverinfo\":\"text\"},{\"xaxis\":\"x1\",\"colorbar\":{\"title\":\"\"},\"yaxis\":\"y1\",\"text\":[null,null],\"x\":[0.23023431172054876,0.23023431172054876],\"showlegend\":true,\"mode\":\"markers\",\"name\":\"y164\",\"zmin\":-0.1,\"legendgroup\":\"y164\",\"z\":[-0.23023431172054876,-0.23023431172054876],\"marker\":{\"symbol\":\"circle\",\"color\":\"rgba(0, 0, 0, 1.000)\",\"line\":{\"color\":\"rgba(0, 0, 0, 1.000)\",\"width\":1},\"size\":2},\"zmax\":0.1,\"y\":[-0.4604686234410975,-0.4604686234410975],\"type\":\"scatter3d\",\"hoverinfo\":\"text\"},{\"xaxis\":\"x1\",\"colorbar\":{\"title\":\"\"},\"yaxis\":\"y1\",\"text\":[null,null],\"x\":[-11.719683889678928,-11.719683889678928],\"showlegend\":true,\"mode\":\"markers\",\"name\":\"y165\",\"zmin\":-0.1,\"legendgroup\":\"y165\",\"z\":[-4.560080937511506,-4.560080937511506],\"marker\":{\"symbol\":\"circle\",\"color\":\"rgba(0, 0, 0, 1.000)\",\"line\":{\"color\":\"rgba(0, 0, 0, 1.000)\",\"width\":1},\"size\":2},\"zmax\":0.1,\"y\":[-0.9802794614277941,-0.9802794614277941],\"type\":\"scatter3d\",\"hoverinfo\":\"text\"},{\"xaxis\":\"x1\",\"colorbar\":{\"title\":\"\"},\"yaxis\":\"y1\",\"text\":[null,null],\"x\":[-9.377164944702342,-9.377164944702342],\"showlegend\":true,\"mode\":\"markers\",\"name\":\"y166\",\"zmin\":-0.1,\"legendgroup\":\"y166\",\"z\":[-10.14562621929694,-10.14562621929694],\"marker\":{\"symbol\":\"circle\",\"color\":\"rgba(0, 0, 0, 1.000)\",\"line\":{\"color\":\"rgba(0, 0, 0, 1.000)\",\"width\":1},\"size\":2},\"zmax\":0.1,\"y\":[-10.52985685659424,-10.52985685659424],\"type\":\"scatter3d\",\"hoverinfo\":\"text\"},{\"xaxis\":\"x1\",\"colorbar\":{\"title\":\"\"},\"yaxis\":\"y1\",\"text\":[null,null],\"x\":[9.752191057632647,9.752191057632647],\"showlegend\":true,\"mode\":\"markers\",\"name\":\"y167\",\"zmin\":-0.1,\"legendgroup\":\"y167\",\"z\":[1.2758554459851896,1.2758554459851896],\"marker\":{\"symbol\":\"circle\",\"color\":\"rgba(0, 0, 0, 1.000)\",\"line\":{\"color\":\"rgba(0, 0, 0, 1.000)\",\"width\":1},\"size\":2},\"zmax\":0.1,\"y\":[-2.9623123598385392,-2.9623123598385392],\"type\":\"scatter3d\",\"hoverinfo\":\"text\"},{\"xaxis\":\"x1\",\"colorbar\":{\"title\":\"\"},\"yaxis\":\"y1\",\"text\":[null,null],\"x\":[0.0,0.0],\"showlegend\":true,\"mode\":\"markers\",\"name\":\"y168\",\"zmin\":-0.1,\"legendgroup\":\"y168\",\"z\":[0.0,0.0],\"marker\":{\"symbol\":\"circle\",\"color\":\"rgba(0, 0, 0, 1.000)\",\"line\":{\"color\":\"rgba(0, 0, 0, 1.000)\",\"width\":1},\"size\":2},\"zmax\":0.1,\"y\":[0.0,0.0],\"type\":\"scatter3d\",\"hoverinfo\":\"text\"},{\"xaxis\":\"x1\",\"colorbar\":{\"title\":\"\"},\"yaxis\":\"y1\",\"text\":[null,null],\"x\":[8.874821457758436,8.874821457758436],\"showlegend\":true,\"mode\":\"markers\",\"name\":\"y169\",\"zmin\":-0.1,\"legendgroup\":\"y169\",\"z\":[-5.446820444216649,-5.446820444216649],\"marker\":{\"symbol\":\"circle\",\"color\":\"rgba(0, 0, 0, 1.000)\",\"line\":{\"color\":\"rgba(0, 0, 0, 1.000)\",\"width\":1},\"size\":2},\"zmax\":0.1,\"y\":[-12.607641395204192,-12.607641395204192],\"type\":\"scatter3d\",\"hoverinfo\":\"text\"},{\"xaxis\":\"x1\",\"colorbar\":{\"title\":\"\"},\"yaxis\":\"y1\",\"text\":[null,null],\"x\":[-1.3244742745179214,-1.3244742745179214],\"showlegend\":true,\"mode\":\"markers\",\"name\":\"y170\",\"zmin\":-0.1,\"legendgroup\":\"y170\",\"z\":[-2.8442540791628694,-2.8442540791628694],\"marker\":{\"symbol\":\"circle\",\"color\":\"rgba(0, 0, 0, 1.000)\",\"line\":{\"color\":\"rgba(0, 0, 0, 1.000)\",\"width\":1},\"size\":2},\"zmax\":0.1,\"y\":[-3.6041439814853438,-3.6041439814853438],\"type\":\"scatter3d\",\"hoverinfo\":\"text\"},{\"xaxis\":\"x1\",\"colorbar\":{\"title\":\"\"},\"yaxis\":\"y1\",\"text\":[null,null],\"x\":[-8.331496173661,-8.331496173661],\"showlegend\":true,\"mode\":\"markers\",\"name\":\"y171\",\"zmin\":-0.1,\"legendgroup\":\"y171\",\"z\":[-3.0202453045006044,-3.0202453045006044],\"marker\":{\"symbol\":\"circle\",\"color\":\"rgba(0, 0, 0, 1.000)\",\"line\":{\"color\":\"rgba(0, 0, 0, 1.000)\",\"width\":1},\"size\":2},\"zmax\":0.1,\"y\":[-0.3646198699204062,-0.3646198699204062],\"type\":\"scatter3d\",\"hoverinfo\":\"text\"},{\"xaxis\":\"x1\",\"colorbar\":{\"title\":\"\"},\"yaxis\":\"y1\",\"text\":[null,null],\"x\":[10.041470067315906,10.041470067315906],\"showlegend\":true,\"mode\":\"markers\",\"name\":\"y172\",\"zmin\":-0.1,\"legendgroup\":\"y172\",\"z\":[-1.8559146973737848,-1.8559146973737848],\"marker\":{\"symbol\":\"circle\",\"color\":\"rgba(0, 0, 0, 1.000)\",\"line\":{\"color\":\"rgba(0, 0, 0, 1.000)\",\"width\":1},\"size\":2},\"zmax\":0.1,\"y\":[-7.804607079718631,-7.804607079718631],\"type\":\"scatter3d\",\"hoverinfo\":\"text\"},{\"xaxis\":\"x1\",\"colorbar\":{\"title\":\"\"},\"yaxis\":\"y1\",\"text\":[null,null],\"x\":[13.392582044101495,13.392582044101495],\"showlegend\":true,\"mode\":\"markers\",\"name\":\"y173\",\"zmin\":-0.1,\"legendgroup\":\"y173\",\"z\":[2.528546180439832,2.528546180439832],\"marker\":{\"symbol\":\"circle\",\"color\":\"rgba(0, 0, 0, 1.000)\",\"line\":{\"color\":\"rgba(0, 0, 0, 1.000)\",\"width\":1},\"size\":2},\"zmax\":0.1,\"y\":[-2.9034717513909998,-2.9034717513909998],\"type\":\"scatter3d\",\"hoverinfo\":\"text\"},{\"xaxis\":\"x1\",\"colorbar\":{\"title\":\"\"},\"yaxis\":\"y1\",\"text\":[null,null],\"x\":[-11.991996036859213,-11.991996036859213],\"showlegend\":true,\"mode\":\"markers\",\"name\":\"y174\",\"zmin\":-0.1,\"legendgroup\":\"y174\",\"z\":[-3.8723025906192463,-3.8723025906192463],\"marker\":{\"symbol\":\"circle\",\"color\":\"rgba(0, 0, 0, 1.000)\",\"line\":{\"color\":\"rgba(0, 0, 0, 1.000)\",\"width\":1},\"size\":2},\"zmax\":0.1,\"y\":[0.18754413250073787,0.18754413250073787],\"type\":\"scatter3d\",\"hoverinfo\":\"text\"},{\"xaxis\":\"x1\",\"colorbar\":{\"title\":\"\"},\"yaxis\":\"y1\",\"text\":[null,null],\"x\":[0.3782792206136296,0.3782792206136296],\"showlegend\":true,\"mode\":\"markers\",\"name\":\"y175\",\"zmin\":-0.1,\"legendgroup\":\"y175\",\"z\":[-0.010868880665922731,-0.010868880665922731],\"marker\":{\"symbol\":\"circle\",\"color\":\"rgba(0, 0, 0, 1.000)\",\"line\":{\"color\":\"rgba(0, 0, 0, 1.000)\",\"width\":1},\"size\":2},\"zmax\":0.1,\"y\":[-0.2054429313056989,-0.2054429313056989],\"type\":\"scatter3d\",\"hoverinfo\":\"text\"},{\"xaxis\":\"x1\",\"colorbar\":{\"title\":\"\"},\"yaxis\":\"y1\",\"text\":[null,null],\"x\":[14.456591720203257,14.456591720203257],\"showlegend\":true,\"mode\":\"markers\",\"name\":\"y176\",\"zmin\":-0.1,\"legendgroup\":\"y176\",\"z\":[3.8256100603156264,3.8256100603156264],\"marker\":{\"symbol\":\"circle\",\"color\":\"rgba(0, 0, 0, 1.000)\",\"line\":{\"color\":\"rgba(0, 0, 0, 1.000)\",\"width\":1},\"size\":2},\"zmax\":0.1,\"y\":[-1.4898807696281882,-1.4898807696281882],\"type\":\"scatter3d\",\"hoverinfo\":\"text\"},{\"xaxis\":\"x1\",\"colorbar\":{\"title\":\"\"},\"yaxis\":\"y1\",\"text\":[null,null],\"x\":[-1.0115778404896092,-1.0115778404896092],\"showlegend\":true,\"mode\":\"markers\",\"name\":\"y177\",\"zmin\":-0.1,\"legendgroup\":\"y177\",\"z\":[-0.8751736227920894,-0.8751736227920894],\"marker\":{\"symbol\":\"circle\",\"color\":\"rgba(0, 0, 0, 1.000)\",\"line\":{\"color\":\"rgba(0, 0, 0, 1.000)\",\"width\":1},\"size\":2},\"zmax\":0.1,\"y\":[-0.8069715139433296,-0.8069715139433296],\"type\":\"scatter3d\",\"hoverinfo\":\"text\"},{\"xaxis\":\"x1\",\"colorbar\":{\"title\":\"\"},\"yaxis\":\"y1\",\"text\":[null,null],\"x\":[-0.8275281742427243,-0.8275281742427243],\"showlegend\":true,\"mode\":\"markers\",\"name\":\"y178\",\"zmin\":-0.1,\"legendgroup\":\"y178\",\"z\":[-2.4946328111989757,-2.4946328111989757],\"marker\":{\"symbol\":\"circle\",\"color\":\"rgba(0, 0, 0, 1.000)\",\"line\":{\"color\":\"rgba(0, 0, 0, 1.000)\",\"width\":1},\"size\":2},\"zmax\":0.1,\"y\":[-3.3281851296771015,-3.3281851296771015],\"type\":\"scatter3d\",\"hoverinfo\":\"text\"},{\"xaxis\":\"x1\",\"colorbar\":{\"title\":\"\"},\"yaxis\":\"y1\",\"text\":[null,null],\"x\":[5.9173984613118975,5.9173984613118975],\"showlegend\":true,\"mode\":\"markers\",\"name\":\"y179\",\"zmin\":-0.1,\"legendgroup\":\"y179\",\"z\":[1.2055814957862232,1.2055814957862232],\"marker\":{\"symbol\":\"circle\",\"color\":\"rgba(0, 0, 0, 1.000)\",\"line\":{\"color\":\"rgba(0, 0, 0, 1.000)\",\"width\":1},\"size\":2},\"zmax\":0.1,\"y\":[-1.150326986976614,-1.150326986976614],\"type\":\"scatter3d\",\"hoverinfo\":\"text\"},{\"xaxis\":\"x1\",\"colorbar\":{\"title\":\"\"},\"yaxis\":\"y1\",\"text\":[null,null],\"x\":[-9.395707005681764,-9.395707005681764],\"showlegend\":true,\"mode\":\"markers\",\"name\":\"y180\",\"zmin\":-0.1,\"legendgroup\":\"y180\",\"z\":[-3.1319023352272546,-3.1319023352272546],\"marker\":{\"symbol\":\"circle\",\"color\":\"rgba(0, 0, 0, 1.000)\",\"line\":{\"color\":\"rgba(0, 0, 0, 1.000)\",\"width\":1},\"size\":2},\"zmax\":0.1,\"y\":[-0.0,-0.0],\"type\":\"scatter3d\",\"hoverinfo\":\"text\"},{\"xaxis\":\"x1\",\"colorbar\":{\"title\":\"\"},\"yaxis\":\"y1\",\"text\":[null,null],\"x\":[-9.782320825761792,-9.782320825761792],\"showlegend\":true,\"mode\":\"markers\",\"name\":\"y181\",\"zmin\":-0.1,\"legendgroup\":\"y181\",\"z\":[0.31103946118757086,0.31103946118757086],\"marker\":{\"symbol\":\"circle\",\"color\":\"rgba(0, 0, 0, 1.000)\",\"line\":{\"color\":\"rgba(0, 0, 0, 1.000)\",\"width\":1},\"size\":2},\"zmax\":0.1,\"y\":[5.357719604662252,5.357719604662252],\"type\":\"scatter3d\",\"hoverinfo\":\"text\"},{\"xaxis\":\"x1\",\"colorbar\":{\"title\":\"\"},\"yaxis\":\"y1\",\"text\":[null,null],\"x\":[1.5072506209054142,1.5072506209054142],\"showlegend\":true,\"mode\":\"markers\",\"name\":\"y182\",\"zmin\":-0.1,\"legendgroup\":\"y182\",\"z\":[-5.276680625119203,-5.276680625119203],\"marker\":{\"symbol\":\"circle\",\"color\":\"rgba(0, 0, 0, 1.000)\",\"line\":{\"color\":\"rgba(0, 0, 0, 1.000)\",\"width\":1},\"size\":2},\"zmax\":0.1,\"y\":[-8.668646248131513,-8.668646248131513],\"type\":\"scatter3d\",\"hoverinfo\":\"text\"},{\"xaxis\":\"x1\",\"colorbar\":{\"title\":\"\"},\"yaxis\":\"y1\",\"text\":[null,null],\"x\":[-9.548550269538506,-9.548550269538506],\"showlegend\":true,\"mode\":\"markers\",\"name\":\"y183\",\"zmin\":-0.1,\"legendgroup\":\"y183\",\"z\":[-3.4233194806291234,-3.4233194806291234],\"marker\":{\"symbol\":\"circle\",\"color\":\"rgba(0, 0, 0, 1.000)\",\"line\":{\"color\":\"rgba(0, 0, 0, 1.000)\",\"width\":1},\"size\":2},\"zmax\":0.1,\"y\":[-0.36070408617443217,-0.36070408617443217],\"type\":\"scatter3d\",\"hoverinfo\":\"text\"},{\"xaxis\":\"x1\",\"colorbar\":{\"title\":\"\"},\"yaxis\":\"y1\",\"text\":[null,null],\"x\":[-2.905568112463266,-2.905568112463266],\"showlegend\":true,\"mode\":\"markers\",\"name\":\"y184\",\"zmin\":-0.1,\"legendgroup\":\"y184\",\"z\":[3.0542449458823295,3.0542449458823295],\"marker\":{\"symbol\":\"circle\",\"color\":\"rgba(0, 0, 0, 1.000)\",\"line\":{\"color\":\"rgba(0, 0, 0, 1.000)\",\"width\":1},\"size\":2},\"zmax\":0.1,\"y\":[6.034151475055127,6.034151475055127],\"type\":\"scatter3d\",\"hoverinfo\":\"text\"},{\"xaxis\":\"x1\",\"colorbar\":{\"title\":\"\"},\"yaxis\":\"y1\",\"text\":[null,null],\"x\":[-0.1782424587336111,-0.1782424587336111],\"showlegend\":true,\"mode\":\"markers\",\"name\":\"y185\",\"zmin\":-0.1,\"legendgroup\":\"y185\",\"z\":[-3.3207995013239,-3.3207995013239],\"marker\":{\"symbol\":\"circle\",\"color\":\"rgba(0, 0, 0, 1.000)\",\"line\":{\"color\":\"rgba(0, 0, 0, 1.000)\",\"width\":1},\"size\":2},\"zmax\":0.1,\"y\":[-4.892078022619044,-4.892078022619044],\"type\":\"scatter3d\",\"hoverinfo\":\"text\"},{\"xaxis\":\"x1\",\"colorbar\":{\"title\":\"\"},\"yaxis\":\"y1\",\"text\":[null,null],\"x\":[-5.061028672627363,-5.061028672627363],\"showlegend\":true,\"mode\":\"markers\",\"name\":\"y186\",\"zmin\":-0.1,\"legendgroup\":\"y186\",\"z\":[-4.184153062446192,-4.184153062446192],\"marker\":{\"symbol\":\"circle\",\"color\":\"rgba(0, 0, 0, 1.000)\",\"line\":{\"color\":\"rgba(0, 0, 0, 1.000)\",\"width\":1},\"size\":2},\"zmax\":0.1,\"y\":[-3.745715257355606,-3.745715257355606],\"type\":\"scatter3d\",\"hoverinfo\":\"text\"},{\"xaxis\":\"x1\",\"colorbar\":{\"title\":\"\"},\"yaxis\":\"y1\",\"text\":[null,null],\"x\":[3.3322367545788256,3.3322367545788256],\"showlegend\":true,\"mode\":\"markers\",\"name\":\"y187\",\"zmin\":-0.1,\"legendgroup\":\"y187\",\"z\":[5.839620975866968,5.839620975866968],\"marker\":{\"symbol\":\"circle\",\"color\":\"rgba(0, 0, 0, 1.000)\",\"line\":{\"color\":\"rgba(0, 0, 0, 1.000)\",\"width\":1},\"size\":2},\"zmax\":0.1,\"y\":[7.093313086511039,7.093313086511039],\"type\":\"scatter3d\",\"hoverinfo\":\"text\"},{\"xaxis\":\"x1\",\"colorbar\":{\"title\":\"\"},\"yaxis\":\"y1\",\"text\":[null,null],\"x\":[2.302800827523753,2.302800827523753],\"showlegend\":true,\"mode\":\"markers\",\"name\":\"y188\",\"zmin\":-0.1,\"legendgroup\":\"y188\",\"z\":[0.767600275841251,0.767600275841251],\"marker\":{\"symbol\":\"circle\",\"color\":\"rgba(0, 0, 0, 1.000)\",\"line\":{\"color\":\"rgba(0, 0, 0, 1.000)\",\"width\":1},\"size\":2},\"zmax\":0.1,\"y\":[0.0,0.0],\"type\":\"scatter3d\",\"hoverinfo\":\"text\"},{\"xaxis\":\"x1\",\"colorbar\":{\"title\":\"\"},\"yaxis\":\"y1\",\"text\":[null,null],\"x\":[5.651854543823284,5.651854543823284],\"showlegend\":true,\"mode\":\"markers\",\"name\":\"y189\",\"zmin\":-0.1,\"legendgroup\":\"y189\",\"z\":[-5.684249628737871,-5.684249628737871],\"marker\":{\"symbol\":\"circle\",\"color\":\"rgba(0, 0, 0, 1.000)\",\"line\":{\"color\":\"rgba(0, 0, 0, 1.000)\",\"width\":1},\"size\":2},\"zmax\":0.1,\"y\":[-11.352301715018449,-11.352301715018449],\"type\":\"scatter3d\",\"hoverinfo\":\"text\"},{\"xaxis\":\"x1\",\"colorbar\":{\"title\":\"\"},\"yaxis\":\"y1\",\"text\":[null,null],\"x\":[-14.979894060533653,-14.979894060533653],\"showlegend\":true,\"mode\":\"markers\",\"name\":\"y190\",\"zmin\":-0.1,\"legendgroup\":\"y190\",\"z\":[-7.578261614875871,-7.578261614875871],\"marker\":{\"symbol\":\"circle\",\"color\":\"rgba(0, 0, 0, 1.000)\",\"line\":{\"color\":\"rgba(0, 0, 0, 1.000)\",\"width\":1},\"size\":2},\"zmax\":0.1,\"y\":[-3.8774453920469796,-3.8774453920469796],\"type\":\"scatter3d\",\"hoverinfo\":\"text\"},{\"xaxis\":\"x1\",\"colorbar\":{\"title\":\"\"},\"yaxis\":\"y1\",\"text\":[null,null],\"x\":[0.8418115252850411,0.8418115252850411],\"showlegend\":true,\"mode\":\"markers\",\"name\":\"y191\",\"zmin\":-0.1,\"legendgroup\":\"y191\",\"z\":[-4.0750593386678124,-4.0750593386678124],\"marker\":{\"symbol\":\"circle\",\"color\":\"rgba(0, 0, 0, 1.000)\",\"line\":{\"color\":\"rgba(0, 0, 0, 1.000)\",\"width\":1},\"size\":2},\"zmax\":0.1,\"y\":[-6.533494770644239,-6.533494770644239],\"type\":\"scatter3d\",\"hoverinfo\":\"text\"},{\"xaxis\":\"x1\",\"colorbar\":{\"title\":\"\"},\"yaxis\":\"y1\",\"text\":[null,null],\"x\":[-11.283869402926914,-11.283869402926914],\"showlegend\":true,\"mode\":\"markers\",\"name\":\"y192\",\"zmin\":-0.1,\"legendgroup\":\"y192\",\"z\":[-4.342816504822505,-4.342816504822505],\"marker\":{\"symbol\":\"circle\",\"color\":\"rgba(0, 0, 0, 1.000)\",\"line\":{\"color\":\"rgba(0, 0, 0, 1.000)\",\"width\":1},\"size\":2},\"zmax\":0.1,\"y\":[-0.8722900557703008,-0.8722900557703008],\"type\":\"scatter3d\",\"hoverinfo\":\"text\"},{\"xaxis\":\"x1\",\"colorbar\":{\"title\":\"\"},\"yaxis\":\"y1\",\"text\":[null,null],\"x\":[2.389883805574449,2.389883805574449],\"showlegend\":true,\"mode\":\"markers\",\"name\":\"y193\",\"zmin\":-0.1,\"legendgroup\":\"y193\",\"z\":[0.9279699961514314,0.9279699961514314],\"marker\":{\"symbol\":\"circle\",\"color\":\"rgba(0, 0, 0, 1.000)\",\"line\":{\"color\":\"rgba(0, 0, 0, 1.000)\",\"width\":1},\"size\":2},\"zmax\":0.1,\"y\":[0.1970130914399224,0.1970130914399224],\"type\":\"scatter3d\",\"hoverinfo\":\"text\"},{\"xaxis\":\"x1\",\"colorbar\":{\"title\":\"\"},\"yaxis\":\"y1\",\"text\":[null,null],\"x\":[3.4369916207269218,3.4369916207269218],\"showlegend\":true,\"mode\":\"markers\",\"name\":\"y194\",\"zmin\":-0.1,\"legendgroup\":\"y194\",\"z\":[0.691196788558551,0.691196788558551],\"marker\":{\"symbol\":\"circle\",\"color\":\"rgba(0, 0, 0, 1.000)\",\"line\":{\"color\":\"rgba(0, 0, 0, 1.000)\",\"width\":1},\"size\":2},\"zmax\":0.1,\"y\":[-0.6817006275256343,-0.6817006275256343],\"type\":\"scatter3d\",\"hoverinfo\":\"text\"},{\"xaxis\":\"x1\",\"colorbar\":{\"title\":\"\"},\"yaxis\":\"y1\",\"text\":[null,null],\"x\":[-5.692861258470972,-5.692861258470972],\"showlegend\":true,\"mode\":\"markers\",\"name\":\"y195\",\"zmin\":-0.1,\"legendgroup\":\"y195\",\"z\":[2.95995044694165,2.95995044694165],\"marker\":{\"symbol\":\"circle\",\"color\":\"rgba(0, 0, 0, 1.000)\",\"line\":{\"color\":\"rgba(0, 0, 0, 1.000)\",\"width\":1},\"size\":2},\"zmax\":0.1,\"y\":[7.286356299647961,7.286356299647961],\"type\":\"scatter3d\",\"hoverinfo\":\"text\"},{\"xaxis\":\"x1\",\"colorbar\":{\"title\":\"\"},\"yaxis\":\"y1\",\"text\":[null,null],\"x\":[0.8427813803127362,0.8427813803127362],\"showlegend\":true,\"mode\":\"markers\",\"name\":\"y196\",\"zmin\":-0.1,\"legendgroup\":\"y196\",\"z\":[-0.9187480093065135,-0.9187480093065135],\"marker\":{\"symbol\":\"circle\",\"color\":\"rgba(0, 0, 0, 1.000)\",\"line\":{\"color\":\"rgba(0, 0, 0, 1.000)\",\"width\":1},\"size\":2},\"zmax\":0.1,\"y\":[-1.7995127041161383,-1.7995127041161383],\"type\":\"scatter3d\",\"hoverinfo\":\"text\"},{\"xaxis\":\"x1\",\"colorbar\":{\"title\":\"\"},\"yaxis\":\"y1\",\"text\":[null,null],\"x\":[2.7525393114569283,2.7525393114569283],\"showlegend\":true,\"mode\":\"markers\",\"name\":\"y197\",\"zmin\":-0.1,\"legendgroup\":\"y197\",\"z\":[1.008772211720417,1.008772211720417],\"marker\":{\"symbol\":\"circle\",\"color\":\"rgba(0, 0, 0, 1.000)\",\"line\":{\"color\":\"rgba(0, 0, 0, 1.000)\",\"width\":1},\"size\":2},\"zmax\":0.1,\"y\":[0.13688866185216142,0.13688866185216142],\"type\":\"scatter3d\",\"hoverinfo\":\"text\"},{\"xaxis\":\"x1\",\"colorbar\":{\"title\":\"\"},\"yaxis\":\"y1\",\"text\":[null,null],\"x\":[-3.4514607595569218,-3.4514607595569218],\"showlegend\":true,\"mode\":\"markers\",\"name\":\"y198\",\"zmin\":-0.1,\"legendgroup\":\"y198\",\"z\":[-2.839651352288205,-2.839651352288205],\"marker\":{\"symbol\":\"circle\",\"color\":\"rgba(0, 0, 0, 1.000)\",\"line\":{\"color\":\"rgba(0, 0, 0, 1.000)\",\"width\":1},\"size\":2},\"zmax\":0.1,\"y\":[-2.533746648653847,-2.533746648653847],\"type\":\"scatter3d\",\"hoverinfo\":\"text\"},{\"xaxis\":\"x1\",\"colorbar\":{\"title\":\"\"},\"yaxis\":\"y1\",\"text\":[null,null],\"x\":[4.063703248926099,4.063703248926099],\"showlegend\":true,\"mode\":\"markers\",\"name\":\"y199\",\"zmin\":-0.1,\"legendgroup\":\"y199\",\"z\":[-6.234040803996932,-6.234040803996932],\"marker\":{\"symbol\":\"circle\",\"color\":\"rgba(0, 0, 0, 1.000)\",\"line\":{\"color\":\"rgba(0, 0, 0, 1.000)\",\"width\":1},\"size\":2},\"zmax\":0.1,\"y\":[-11.382912830458448,-11.382912830458448],\"type\":\"scatter3d\",\"hoverinfo\":\"text\"},{\"xaxis\":\"x1\",\"colorbar\":{\"title\":\"\"},\"yaxis\":\"y1\",\"text\":[null,null],\"x\":[-9.600026792963828,-9.600026792963828],\"showlegend\":true,\"mode\":\"markers\",\"name\":\"y200\",\"zmin\":-0.1,\"legendgroup\":\"y200\",\"z\":[5.9008089485674065,5.9008089485674065],\"marker\":{\"symbol\":\"circle\",\"color\":\"rgba(0, 0, 0, 1.000)\",\"line\":{\"color\":\"rgba(0, 0, 0, 1.000)\",\"width\":1},\"size\":2},\"zmax\":0.1,\"y\":[13.651226819333024,13.651226819333024],\"type\":\"scatter3d\",\"hoverinfo\":\"text\"},{\"xaxis\":\"x1\",\"colorbar\":{\"title\":\"\"},\"yaxis\":\"y1\",\"text\":[null,null],\"x\":[0,0],\"showlegend\":true,\"mode\":\"lines\",\"name\":\"+z\",\"zmin\":-0.1,\"legendgroup\":\"+z\",\"z\":[0,20],\"zmax\":0.1,\"line\":{\"color\":\"rgba(0, 0, 0, 1.000)\",\"shape\":\"linear\",\"dash\":\"solid\",\"width\":2},\"y\":[0,0],\"type\":\"scatter3d\",\"hoverinfo\":\"text\"},{\"xaxis\":\"x1\",\"colorbar\":{\"title\":\"\"},\"yaxis\":\"y1\",\"text\":[null,null],\"x\":[0,0],\"showlegend\":true,\"mode\":\"lines\",\"name\":\"-z\",\"zmin\":-0.1,\"legendgroup\":\"-z\",\"z\":[0,-20],\"zmax\":0.1,\"line\":{\"color\":\"rgba(128, 128, 128, 1.000)\",\"shape\":\"linear\",\"dash\":\"solid\",\"width\":1},\"y\":[0,0],\"type\":\"scatter3d\",\"hoverinfo\":\"text\"},{\"xaxis\":\"x1\",\"colorbar\":{\"title\":\"\"},\"yaxis\":\"y1\",\"text\":[null,null],\"x\":[0,0],\"showlegend\":true,\"mode\":\"lines\",\"name\":\"+y\",\"zmin\":-0.1,\"legendgroup\":\"+y\",\"z\":[0,0],\"zmax\":0.1,\"line\":{\"color\":\"rgba(0, 0, 0, 1.000)\",\"shape\":\"linear\",\"dash\":\"solid\",\"width\":3},\"y\":[0,20],\"type\":\"scatter3d\",\"hoverinfo\":\"text\"},{\"xaxis\":\"x1\",\"colorbar\":{\"title\":\"\"},\"yaxis\":\"y1\",\"text\":[null,null],\"x\":[0,0],\"showlegend\":true,\"mode\":\"lines\",\"name\":\"-y\",\"zmin\":-0.1,\"legendgroup\":\"-y\",\"z\":[0,0],\"zmax\":0.1,\"line\":{\"color\":\"rgba(128, 128, 128, 1.000)\",\"shape\":\"linear\",\"dash\":\"solid\",\"width\":2},\"y\":[0,-20],\"type\":\"scatter3d\",\"hoverinfo\":\"text\"},{\"xaxis\":\"x1\",\"colorbar\":{\"title\":\"\"},\"yaxis\":\"y1\",\"text\":[null,null],\"x\":[0,20],\"showlegend\":true,\"mode\":\"lines\",\"name\":\"+x\",\"zmin\":-0.1,\"legendgroup\":\"+x\",\"z\":[0,0],\"zmax\":0.1,\"line\":{\"color\":\"rgba(0, 0, 0, 1.000)\",\"shape\":\"linear\",\"dash\":\"solid\",\"width\":3},\"y\":[0,0],\"type\":\"scatter3d\",\"hoverinfo\":\"text\"},{\"xaxis\":\"x1\",\"colorbar\":{\"title\":\"\"},\"yaxis\":\"y1\",\"text\":[null,null],\"x\":[0,-20],\"showlegend\":true,\"mode\":\"lines\",\"name\":\"-x\",\"zmin\":-0.1,\"legendgroup\":\"-x\",\"z\":[0,0],\"zmax\":0.1,\"line\":{\"color\":\"rgba(128, 128, 128, 1.000)\",\"shape\":\"linear\",\"dash\":\"solid\",\"width\":2},\"y\":[0,0],\"type\":\"scatter3d\",\"hoverinfo\":\"text\"}], {\"showlegend\":false,\"paper_bgcolor\":\"rgba(255, 255, 255, 1.000)\",\"annotations\":[{\"yanchor\":\"top\",\"xanchor\":\"center\",\"rotation\":-0.0,\"y\":1.0,\"font\":{\"color\":\"rgba(0, 0, 0, 1.000)\",\"family\":\"sans-serif\",\"size\":20},\"yref\":\"paper\",\"showarrow\":false,\"text\":\"Example 3: Span{p,q,r}\",\"xref\":\"paper\",\"x\":0.5222222222222223}],\"height\":400,\"margin\":{\"l\":0,\"b\":20,\"r\":0,\"t\":20},\"plot_bgcolor\":\"rgba(255, 255, 255, 1.000)\",\"scene\":{\"camera\":{\"eye\":{\"y\":-1.9499999999999997,\"z\":1.3,\"x\":1.12583302491977}},\"xaxis\":{\"showticklabels\":true,\"gridwidth\":0.5,\"tickvals\":[-15.0,-10.0,-5.0,0.0,5.0,10.0,15.0],\"visible\":true,\"ticks\":\"inside\",\"range\":[-15.9,15.9],\"domain\":[0.05100612423447069,0.9934383202099737],\"tickmode\":\"array\",\"linecolor\":\"rgba(0, 0, 0, 1.000)\",\"showgrid\":true,\"title\":\"\",\"mirror\":false,\"tickangle\":0,\"showline\":true,\"gridcolor\":\"rgba(0, 0, 0, 0.100)\",\"titlefont\":{\"color\":\"rgba(0, 0, 0, 1.000)\",\"family\":\"sans-serif\",\"size\":15},\"tickcolor\":\"rgb(0, 0, 0)\",\"ticktext\":[\"-15\",\"-10\",\"-5\",\"0\",\"5\",\"10\",\"15\"],\"zeroline\":false,\"type\":\"-\",\"tickfont\":{\"color\":\"rgba(0, 0, 0, 1.000)\",\"family\":\"sans-serif\",\"size\":11},\"zerolinecolor\":\"rgba(0, 0, 0, 1.000)\",\"anchor\":\"y1\"},\"yaxis\":{\"showticklabels\":true,\"gridwidth\":0.5,\"tickvals\":[-15.0,-10.0,-5.0,0.0,5.0,10.0,15.0],\"visible\":true,\"ticks\":\"inside\",\"range\":[-15.9,15.9],\"domain\":[0.03762029746281716,0.9415463692038496],\"tickmode\":\"array\",\"linecolor\":\"rgba(0, 0, 0, 1.000)\",\"showgrid\":true,\"title\":\"\",\"mirror\":false,\"tickangle\":0,\"showline\":true,\"gridcolor\":\"rgba(0, 0, 0, 0.100)\",\"titlefont\":{\"color\":\"rgba(0, 0, 0, 1.000)\",\"family\":\"sans-serif\",\"size\":15},\"tickcolor\":\"rgb(0, 0, 0)\",\"ticktext\":[\"-15\",\"-10\",\"-5\",\"0\",\"5\",\"10\",\"15\"],\"zeroline\":false,\"type\":\"-\",\"tickfont\":{\"color\":\"rgba(0, 0, 0, 1.000)\",\"family\":\"sans-serif\",\"size\":11},\"zerolinecolor\":\"rgba(0, 0, 0, 1.000)\",\"anchor\":\"x1\"},\"zaxis\":{\"showticklabels\":true,\"gridwidth\":0.5,\"tickvals\":[-15.0,-10.0,-5.0,0.0,5.0,10.0,15.0],\"visible\":true,\"ticks\":\"inside\",\"range\":[-15.9,15.9],\"tickmode\":\"array\",\"linecolor\":\"rgba(0, 0, 0, 1.000)\",\"showgrid\":true,\"title\":\"\",\"mirror\":false,\"tickangle\":0,\"showline\":true,\"gridcolor\":\"rgba(0, 0, 0, 0.100)\",\"titlefont\":{\"color\":\"rgba(0, 0, 0, 1.000)\",\"family\":\"sans-serif\",\"size\":15},\"tickcolor\":\"rgb(0, 0, 0)\",\"ticktext\":[\"-15\",\"-10\",\"-5\",\"0\",\"5\",\"10\",\"15\"],\"zeroline\":false,\"type\":\"-\",\"tickfont\":{\"color\":\"rgba(0, 0, 0, 1.000)\",\"family\":\"sans-serif\",\"size\":11},\"zerolinecolor\":\"rgba(0, 0, 0, 1.000)\"}},\"width\":600});\n",
       "    </script>\n"
      ]
     },
     "metadata": {},
     "output_type": "display_data"
    }
   ],
   "source": [
    "# Example 3a: p,q,\n",
    "using Plots\n",
    "plotly()\n",
    "P=[1,-2,-1]; Q=[3,0,1];\n",
    "NumberOfPoints=200;\n",
    "\n",
    "a1=rand(-15:15)*rand(); a2=rand(-15:15)*rand();\n",
    "p=P*a1; q=Q*a2;\n",
    "\n",
    "while abs(p[1]+q[1])>15 || abs(p[2]+q[2])>15 || abs(p[3]+q[3])>15\n",
    "    a1=rand(-15:15)*rand(); a2=rand(-15:15)*rand(); \n",
    "    p=P*a1; q=Q*a2; \n",
    "end\n",
    "\n",
    "d=plot3d(title=\"Example 3b: Span{p,q}\", legend=false, lims=[-15,15])\n",
    "scatter!([p[1]+q[1], p[1]+q[1]],[p[2]+q[2],p[2]+q[2]],[p[3]+q[3],p[3]+q[3]], markercolor=\"black\", markersize=1)\n",
    "\n",
    "if NumberOfPoints>1\n",
    "    for n = 2:NumberOfPoints\n",
    "        a1=rand(-15:15)*rand(); a2=rand(-15:15)*rand(); \n",
    "        p=P*a1; q=Q*a2; \n",
    "        while abs(p[1]+q[1])>15 || abs(p[2]+q[2])>15 || abs(p[3]+q[3])>15\n",
    "            a1=rand(-15:15)*rand(); a2=rand(-15:15)*rand(); \n",
    "            p=P*a1; q=Q*a2;  \n",
    "        end\n",
    "        scatter!([p[1]+q[1], p[1]+q[1]],[p[2]+q[2],p[2]+q[2]],[p[3]+q[3],p[3]+q[3]], markercolor=\"black\", markersize=1)\n",
    "    end\n",
    "end\n",
    "\n",
    "plot3d!([0,0],[0,0],[0,20], label=\"+z\", linecolor=\"black\", linewidth=2,lims=[-15,15])\n",
    "plot3d!([0,0],[0,0],[0,-20],  label=\"-z\", linecolor=\"gray\", linewidth=1,lims=[-15,15])\n",
    "plot3d!([0,0],[0,20],[0,0],  label=\"+y\", linecolor=\"black\", linewidth=3,lims=[-15,15])\n",
    "plot3d!([0,0],[0,-20],[0,0],  label=\"-y\", linecolor=\"gray\", linewidth=2,lims=[-15,15])\n",
    "plot3d!([0,20],[0,0],[0,0],  label=\"+x\", linecolor=\"black\", linewidth=3,lims=[-15,15])\n",
    "plot3d!([0,-20],[0,0],[0,0],  label=\"-x\", linecolor=\"gray\", linewidth=2,lims=[-15,15])\n",
    "\n",
    "display(d)"
   ]
  },
  {
   "cell_type": "code",
   "execution_count": 28,
   "metadata": {},
   "outputs": [
    {
     "data": {
      "application/vnd.plotly.v1+json": {
       "data": [
        {
         "colorbar": {
          "title": ""
         },
         "hoverinfo": "text",
         "legendgroup": "-2.2385133866789366 p",
         "line": {
          "color": "rgba(255, 0, 0, 1.000)",
          "dash": "solid",
          "shape": "linear",
          "width": 4
         },
         "mode": "lines",
         "name": "-2.2385133866789366 p",
         "showlegend": true,
         "text": [
          null,
          null
         ],
         "type": "scatter3d",
         "x": [
          0,
          -2.2385133866789366
         ],
         "xaxis": "x1",
         "y": [
          0,
          4.477026773357873
         ],
         "yaxis": "y1",
         "z": [
          0,
          2.2385133866789366
         ],
         "zmax": 0.1,
         "zmin": -0.1
        },
        {
         "colorbar": {
          "title": ""
         },
         "hoverinfo": "text",
         "legendgroup": "-1.415905644097327 q",
         "line": {
          "color": "rgba(128, 0, 128, 1.000)",
          "dash": "solid",
          "shape": "linear",
          "width": 4
         },
         "mode": "lines",
         "name": "-1.415905644097327 q",
         "showlegend": true,
         "text": [
          null,
          null
         ],
         "type": "scatter3d",
         "x": [
          -2.2385133866789366,
          -6.486230318970918
         ],
         "xaxis": "x1",
         "y": [
          4.477026773357873,
          4.477026773357873
         ],
         "yaxis": "y1",
         "z": [
          2.2385133866789366,
          0.8226077425816096
         ],
         "zmax": 0.1,
         "zmin": -0.1
        },
        {
         "colorbar": {
          "title": ""
         },
         "hoverinfo": "text",
         "legendgroup": "r endpoint",
         "marker": {
          "color": "rgba(0, 0, 0, 1.000)",
          "line": {
           "color": "rgba(0, 0, 0, 1.000)",
           "width": 1
          },
          "size": 2,
          "symbol": "circle"
         },
         "mode": "markers",
         "name": "r endpoint",
         "showlegend": true,
         "text": [
          null,
          null
         ],
         "type": "scatter3d",
         "x": [
          -6.486230318970918,
          -6.486230318970918
         ],
         "xaxis": "x1",
         "y": [
          4.477026773357873,
          4.477026773357873
         ],
         "yaxis": "y1",
         "z": [
          0.8226077425816096,
          0.8226077425816096
         ],
         "zmax": 0.1,
         "zmin": -0.1
        },
        {
         "colorbar": {
          "title": ""
         },
         "hoverinfo": "text",
         "legendgroup": "+z",
         "line": {
          "color": "rgba(0, 0, 0, 1.000)",
          "dash": "solid",
          "shape": "linear",
          "width": 2
         },
         "mode": "lines",
         "name": "+z",
         "showlegend": true,
         "text": [
          null,
          null
         ],
         "type": "scatter3d",
         "x": [
          0,
          0
         ],
         "xaxis": "x1",
         "y": [
          0,
          0
         ],
         "yaxis": "y1",
         "z": [
          0,
          20
         ],
         "zmax": 0.1,
         "zmin": -0.1
        },
        {
         "colorbar": {
          "title": ""
         },
         "hoverinfo": "text",
         "legendgroup": "-z",
         "line": {
          "color": "rgba(128, 128, 128, 1.000)",
          "dash": "solid",
          "shape": "linear",
          "width": 1
         },
         "mode": "lines",
         "name": "-z",
         "showlegend": true,
         "text": [
          null,
          null
         ],
         "type": "scatter3d",
         "x": [
          0,
          0
         ],
         "xaxis": "x1",
         "y": [
          0,
          0
         ],
         "yaxis": "y1",
         "z": [
          0,
          -20
         ],
         "zmax": 0.1,
         "zmin": -0.1
        },
        {
         "colorbar": {
          "title": ""
         },
         "hoverinfo": "text",
         "legendgroup": "+y",
         "line": {
          "color": "rgba(0, 0, 0, 1.000)",
          "dash": "solid",
          "shape": "linear",
          "width": 3
         },
         "mode": "lines",
         "name": "+y",
         "showlegend": true,
         "text": [
          null,
          null
         ],
         "type": "scatter3d",
         "x": [
          0,
          0
         ],
         "xaxis": "x1",
         "y": [
          0,
          20
         ],
         "yaxis": "y1",
         "z": [
          0,
          0
         ],
         "zmax": 0.1,
         "zmin": -0.1
        },
        {
         "colorbar": {
          "title": ""
         },
         "hoverinfo": "text",
         "legendgroup": "-y",
         "line": {
          "color": "rgba(128, 128, 128, 1.000)",
          "dash": "solid",
          "shape": "linear",
          "width": 2
         },
         "mode": "lines",
         "name": "-y",
         "showlegend": true,
         "text": [
          null,
          null
         ],
         "type": "scatter3d",
         "x": [
          0,
          0
         ],
         "xaxis": "x1",
         "y": [
          0,
          -20
         ],
         "yaxis": "y1",
         "z": [
          0,
          0
         ],
         "zmax": 0.1,
         "zmin": -0.1
        },
        {
         "colorbar": {
          "title": ""
         },
         "hoverinfo": "text",
         "legendgroup": "+x",
         "line": {
          "color": "rgba(0, 0, 0, 1.000)",
          "dash": "solid",
          "shape": "linear",
          "width": 3
         },
         "mode": "lines",
         "name": "+x",
         "showlegend": true,
         "text": [
          null,
          null
         ],
         "type": "scatter3d",
         "x": [
          0,
          20
         ],
         "xaxis": "x1",
         "y": [
          0,
          0
         ],
         "yaxis": "y1",
         "z": [
          0,
          0
         ],
         "zmax": 0.1,
         "zmin": -0.1
        },
        {
         "colorbar": {
          "title": ""
         },
         "hoverinfo": "text",
         "legendgroup": "-x",
         "line": {
          "color": "rgba(128, 128, 128, 1.000)",
          "dash": "solid",
          "shape": "linear",
          "width": 2
         },
         "mode": "lines",
         "name": "-x",
         "showlegend": true,
         "text": [
          null,
          null
         ],
         "type": "scatter3d",
         "x": [
          0,
          -20
         ],
         "xaxis": "x1",
         "y": [
          0,
          0
         ],
         "yaxis": "y1",
         "z": [
          0,
          0
         ],
         "zmax": 0.1,
         "zmin": -0.1
        }
       ],
       "layout": {
        "annotations": [
         {
          "font": {
           "color": "rgba(0, 0, 0, 1.000)",
           "family": "sans-serif",
           "size": 20
          },
          "rotation": 0,
          "showarrow": false,
          "text": "Example 3b: lin. combinations of p,q",
          "x": 0.5222222222222223,
          "xanchor": "center",
          "xref": "paper",
          "y": 1,
          "yanchor": "top",
          "yref": "paper"
         }
        ],
        "height": 400,
        "legend": {
         "bgcolor": "rgba(255, 255, 255, 1.000)",
         "bordercolor": "rgba(0, 0, 0, 1.000)",
         "font": {
          "color": "rgba(0, 0, 0, 1.000)",
          "family": "sans-serif",
          "size": 11
         },
         "tracegroupgap": 0,
         "x": 1,
         "y": 1
        },
        "margin": {
         "b": 20,
         "l": 0,
         "r": 0,
         "t": 20
        },
        "paper_bgcolor": "rgba(255, 255, 255, 1.000)",
        "plot_bgcolor": "rgba(255, 255, 255, 1.000)",
        "scene": {
         "camera": {
          "eye": {
           "x": 1.12583302491977,
           "y": -1.9499999999999997,
           "z": 1.3
          }
         },
         "xaxis": {
          "anchor": "y1",
          "domain": [
           0.05100612423447069,
           0.9934383202099737
          ],
          "gridcolor": "rgba(0, 0, 0, 0.100)",
          "gridwidth": 0.5,
          "linecolor": "rgba(0, 0, 0, 1.000)",
          "mirror": false,
          "range": [
           -15.9,
           15.9
          ],
          "showgrid": true,
          "showline": true,
          "showticklabels": true,
          "tickangle": 0,
          "tickcolor": "rgb(0, 0, 0)",
          "tickfont": {
           "color": "rgba(0, 0, 0, 1.000)",
           "family": "sans-serif",
           "size": 11
          },
          "tickmode": "array",
          "ticks": "inside",
          "ticktext": [
           "-15",
           "-10",
           "-5",
           "0",
           "5",
           "10",
           "15"
          ],
          "tickvals": [
           -15,
           -10,
           -5,
           0,
           5,
           10,
           15
          ],
          "title": "",
          "titlefont": {
           "color": "rgba(0, 0, 0, 1.000)",
           "family": "sans-serif",
           "size": 15
          },
          "type": "-",
          "visible": true,
          "zeroline": false,
          "zerolinecolor": "rgba(0, 0, 0, 1.000)"
         },
         "yaxis": {
          "anchor": "x1",
          "domain": [
           0.03762029746281716,
           0.9415463692038496
          ],
          "gridcolor": "rgba(0, 0, 0, 0.100)",
          "gridwidth": 0.5,
          "linecolor": "rgba(0, 0, 0, 1.000)",
          "mirror": false,
          "range": [
           -15.9,
           15.9
          ],
          "showgrid": true,
          "showline": true,
          "showticklabels": true,
          "tickangle": 0,
          "tickcolor": "rgb(0, 0, 0)",
          "tickfont": {
           "color": "rgba(0, 0, 0, 1.000)",
           "family": "sans-serif",
           "size": 11
          },
          "tickmode": "array",
          "ticks": "inside",
          "ticktext": [
           "-15",
           "-10",
           "-5",
           "0",
           "5",
           "10",
           "15"
          ],
          "tickvals": [
           -15,
           -10,
           -5,
           0,
           5,
           10,
           15
          ],
          "title": "",
          "titlefont": {
           "color": "rgba(0, 0, 0, 1.000)",
           "family": "sans-serif",
           "size": 15
          },
          "type": "-",
          "visible": true,
          "zeroline": false,
          "zerolinecolor": "rgba(0, 0, 0, 1.000)"
         },
         "zaxis": {
          "gridcolor": "rgba(0, 0, 0, 0.100)",
          "gridwidth": 0.5,
          "linecolor": "rgba(0, 0, 0, 1.000)",
          "mirror": false,
          "range": [
           -15.9,
           15.9
          ],
          "showgrid": true,
          "showline": true,
          "showticklabels": true,
          "tickangle": 0,
          "tickcolor": "rgb(0, 0, 0)",
          "tickfont": {
           "color": "rgba(0, 0, 0, 1.000)",
           "family": "sans-serif",
           "size": 11
          },
          "tickmode": "array",
          "ticks": "inside",
          "ticktext": [
           "-15",
           "-10",
           "-5",
           "0",
           "5",
           "10",
           "15"
          ],
          "tickvals": [
           -15,
           -10,
           -5,
           0,
           5,
           10,
           15
          ],
          "title": "",
          "titlefont": {
           "color": "rgba(0, 0, 0, 1.000)",
           "family": "sans-serif",
           "size": 15
          },
          "type": "-",
          "visible": true,
          "zeroline": false,
          "zerolinecolor": "rgba(0, 0, 0, 1.000)"
         }
        },
        "showlegend": true,
        "width": 600
       }
      },
      "text/html": [
       "    <div id=\"e6060b57-6193-41e3-a326-453939407190\" style=\"width:600px;height:400px;\"></div>\n",
       "    <script>\n",
       "    PLOT = document.getElementById('e6060b57-6193-41e3-a326-453939407190');\n",
       "    Plotly.plot(PLOT, [{\"xaxis\":\"x1\",\"colorbar\":{\"title\":\"\"},\"yaxis\":\"y1\",\"text\":[null,null],\"x\":[0.0,-2.2385133866789366],\"showlegend\":true,\"mode\":\"lines\",\"name\":\"-2.2385133866789366 p\",\"zmin\":-0.1,\"legendgroup\":\"-2.2385133866789366 p\",\"z\":[0.0,2.2385133866789366],\"zmax\":0.1,\"line\":{\"color\":\"rgba(255, 0, 0, 1.000)\",\"shape\":\"linear\",\"dash\":\"solid\",\"width\":4},\"y\":[0.0,4.477026773357873],\"type\":\"scatter3d\",\"hoverinfo\":\"text\"},{\"xaxis\":\"x1\",\"colorbar\":{\"title\":\"\"},\"yaxis\":\"y1\",\"text\":[null,null],\"x\":[-2.2385133866789366,-6.486230318970918],\"showlegend\":true,\"mode\":\"lines\",\"name\":\"-1.415905644097327 q\",\"zmin\":-0.1,\"legendgroup\":\"-1.415905644097327 q\",\"z\":[2.2385133866789366,0.8226077425816096],\"zmax\":0.1,\"line\":{\"color\":\"rgba(128, 0, 128, 1.000)\",\"shape\":\"linear\",\"dash\":\"solid\",\"width\":4},\"y\":[4.477026773357873,4.477026773357873],\"type\":\"scatter3d\",\"hoverinfo\":\"text\"},{\"xaxis\":\"x1\",\"colorbar\":{\"title\":\"\"},\"yaxis\":\"y1\",\"text\":[null,null],\"x\":[-6.486230318970918,-6.486230318970918],\"showlegend\":true,\"mode\":\"markers\",\"name\":\"r endpoint\",\"zmin\":-0.1,\"legendgroup\":\"r endpoint\",\"z\":[0.8226077425816096,0.8226077425816096],\"marker\":{\"symbol\":\"circle\",\"color\":\"rgba(0, 0, 0, 1.000)\",\"line\":{\"color\":\"rgba(0, 0, 0, 1.000)\",\"width\":1},\"size\":2},\"zmax\":0.1,\"y\":[4.477026773357873,4.477026773357873],\"type\":\"scatter3d\",\"hoverinfo\":\"text\"},{\"xaxis\":\"x1\",\"colorbar\":{\"title\":\"\"},\"yaxis\":\"y1\",\"text\":[null,null],\"x\":[0,0],\"showlegend\":true,\"mode\":\"lines\",\"name\":\"+z\",\"zmin\":-0.1,\"legendgroup\":\"+z\",\"z\":[0,20],\"zmax\":0.1,\"line\":{\"color\":\"rgba(0, 0, 0, 1.000)\",\"shape\":\"linear\",\"dash\":\"solid\",\"width\":2},\"y\":[0,0],\"type\":\"scatter3d\",\"hoverinfo\":\"text\"},{\"xaxis\":\"x1\",\"colorbar\":{\"title\":\"\"},\"yaxis\":\"y1\",\"text\":[null,null],\"x\":[0,0],\"showlegend\":true,\"mode\":\"lines\",\"name\":\"-z\",\"zmin\":-0.1,\"legendgroup\":\"-z\",\"z\":[0,-20],\"zmax\":0.1,\"line\":{\"color\":\"rgba(128, 128, 128, 1.000)\",\"shape\":\"linear\",\"dash\":\"solid\",\"width\":1},\"y\":[0,0],\"type\":\"scatter3d\",\"hoverinfo\":\"text\"},{\"xaxis\":\"x1\",\"colorbar\":{\"title\":\"\"},\"yaxis\":\"y1\",\"text\":[null,null],\"x\":[0,0],\"showlegend\":true,\"mode\":\"lines\",\"name\":\"+y\",\"zmin\":-0.1,\"legendgroup\":\"+y\",\"z\":[0,0],\"zmax\":0.1,\"line\":{\"color\":\"rgba(0, 0, 0, 1.000)\",\"shape\":\"linear\",\"dash\":\"solid\",\"width\":3},\"y\":[0,20],\"type\":\"scatter3d\",\"hoverinfo\":\"text\"},{\"xaxis\":\"x1\",\"colorbar\":{\"title\":\"\"},\"yaxis\":\"y1\",\"text\":[null,null],\"x\":[0,0],\"showlegend\":true,\"mode\":\"lines\",\"name\":\"-y\",\"zmin\":-0.1,\"legendgroup\":\"-y\",\"z\":[0,0],\"zmax\":0.1,\"line\":{\"color\":\"rgba(128, 128, 128, 1.000)\",\"shape\":\"linear\",\"dash\":\"solid\",\"width\":2},\"y\":[0,-20],\"type\":\"scatter3d\",\"hoverinfo\":\"text\"},{\"xaxis\":\"x1\",\"colorbar\":{\"title\":\"\"},\"yaxis\":\"y1\",\"text\":[null,null],\"x\":[0,20],\"showlegend\":true,\"mode\":\"lines\",\"name\":\"+x\",\"zmin\":-0.1,\"legendgroup\":\"+x\",\"z\":[0,0],\"zmax\":0.1,\"line\":{\"color\":\"rgba(0, 0, 0, 1.000)\",\"shape\":\"linear\",\"dash\":\"solid\",\"width\":3},\"y\":[0,0],\"type\":\"scatter3d\",\"hoverinfo\":\"text\"},{\"xaxis\":\"x1\",\"colorbar\":{\"title\":\"\"},\"yaxis\":\"y1\",\"text\":[null,null],\"x\":[0,-20],\"showlegend\":true,\"mode\":\"lines\",\"name\":\"-x\",\"zmin\":-0.1,\"legendgroup\":\"-x\",\"z\":[0,0],\"zmax\":0.1,\"line\":{\"color\":\"rgba(128, 128, 128, 1.000)\",\"shape\":\"linear\",\"dash\":\"solid\",\"width\":2},\"y\":[0,0],\"type\":\"scatter3d\",\"hoverinfo\":\"text\"}], {\"showlegend\":true,\"paper_bgcolor\":\"rgba(255, 255, 255, 1.000)\",\"annotations\":[{\"yanchor\":\"top\",\"xanchor\":\"center\",\"rotation\":-0.0,\"y\":1.0,\"font\":{\"color\":\"rgba(0, 0, 0, 1.000)\",\"family\":\"sans-serif\",\"size\":20},\"yref\":\"paper\",\"showarrow\":false,\"text\":\"Example 3b: lin. combinations of p,q\",\"xref\":\"paper\",\"x\":0.5222222222222223}],\"height\":400,\"margin\":{\"l\":0,\"b\":20,\"r\":0,\"t\":20},\"plot_bgcolor\":\"rgba(255, 255, 255, 1.000)\",\"scene\":{\"camera\":{\"eye\":{\"y\":-1.9499999999999997,\"z\":1.3,\"x\":1.12583302491977}},\"xaxis\":{\"showticklabels\":true,\"gridwidth\":0.5,\"tickvals\":[-15.0,-10.0,-5.0,0.0,5.0,10.0,15.0],\"visible\":true,\"ticks\":\"inside\",\"range\":[-15.9,15.9],\"domain\":[0.05100612423447069,0.9934383202099737],\"tickmode\":\"array\",\"linecolor\":\"rgba(0, 0, 0, 1.000)\",\"showgrid\":true,\"title\":\"\",\"mirror\":false,\"tickangle\":0,\"showline\":true,\"gridcolor\":\"rgba(0, 0, 0, 0.100)\",\"titlefont\":{\"color\":\"rgba(0, 0, 0, 1.000)\",\"family\":\"sans-serif\",\"size\":15},\"tickcolor\":\"rgb(0, 0, 0)\",\"ticktext\":[\"-15\",\"-10\",\"-5\",\"0\",\"5\",\"10\",\"15\"],\"zeroline\":false,\"type\":\"-\",\"tickfont\":{\"color\":\"rgba(0, 0, 0, 1.000)\",\"family\":\"sans-serif\",\"size\":11},\"zerolinecolor\":\"rgba(0, 0, 0, 1.000)\",\"anchor\":\"y1\"},\"yaxis\":{\"showticklabels\":true,\"gridwidth\":0.5,\"tickvals\":[-15.0,-10.0,-5.0,0.0,5.0,10.0,15.0],\"visible\":true,\"ticks\":\"inside\",\"range\":[-15.9,15.9],\"domain\":[0.03762029746281716,0.9415463692038496],\"tickmode\":\"array\",\"linecolor\":\"rgba(0, 0, 0, 1.000)\",\"showgrid\":true,\"title\":\"\",\"mirror\":false,\"tickangle\":0,\"showline\":true,\"gridcolor\":\"rgba(0, 0, 0, 0.100)\",\"titlefont\":{\"color\":\"rgba(0, 0, 0, 1.000)\",\"family\":\"sans-serif\",\"size\":15},\"tickcolor\":\"rgb(0, 0, 0)\",\"ticktext\":[\"-15\",\"-10\",\"-5\",\"0\",\"5\",\"10\",\"15\"],\"zeroline\":false,\"type\":\"-\",\"tickfont\":{\"color\":\"rgba(0, 0, 0, 1.000)\",\"family\":\"sans-serif\",\"size\":11},\"zerolinecolor\":\"rgba(0, 0, 0, 1.000)\",\"anchor\":\"x1\"},\"zaxis\":{\"showticklabels\":true,\"gridwidth\":0.5,\"tickvals\":[-15.0,-10.0,-5.0,0.0,5.0,10.0,15.0],\"visible\":true,\"ticks\":\"inside\",\"range\":[-15.9,15.9],\"tickmode\":\"array\",\"linecolor\":\"rgba(0, 0, 0, 1.000)\",\"showgrid\":true,\"title\":\"\",\"mirror\":false,\"tickangle\":0,\"showline\":true,\"gridcolor\":\"rgba(0, 0, 0, 0.100)\",\"titlefont\":{\"color\":\"rgba(0, 0, 0, 1.000)\",\"family\":\"sans-serif\",\"size\":15},\"tickcolor\":\"rgb(0, 0, 0)\",\"ticktext\":[\"-15\",\"-10\",\"-5\",\"0\",\"5\",\"10\",\"15\"],\"zeroline\":false,\"type\":\"-\",\"tickfont\":{\"color\":\"rgba(0, 0, 0, 1.000)\",\"family\":\"sans-serif\",\"size\":11},\"zerolinecolor\":\"rgba(0, 0, 0, 1.000)\"}},\"legend\":{\"tracegroupgap\":0,\"bordercolor\":\"rgba(0, 0, 0, 1.000)\",\"bgcolor\":\"rgba(255, 255, 255, 1.000)\",\"font\":{\"color\":\"rgba(0, 0, 0, 1.000)\",\"family\":\"sans-serif\",\"size\":11},\"y\":1.0,\"x\":1.0},\"width\":600});\n",
       "    </script>\n"
      ]
     },
     "execution_count": 28,
     "metadata": {},
     "output_type": "execute_result"
    }
   ],
   "source": [
    "# Example 3b: p,q\n",
    "using Plots\n",
    "plotly()\n",
    "P=[1,-2,-1]; Q=[3,0,1];\n",
    "\n",
    "a1=rand(-15:15)*rand(); a2=rand(-15:15)*rand();\n",
    "p=P*a1; q=Q*a2; \n",
    "\n",
    "while abs(p[1]+q[1])>15 || abs(p[2]+q[2])>15 || abs(p[3]+q[3])>15\n",
    "   a1=rand(-15:15)*rand(); a2=rand(-15:15)*rand();\n",
    "    p=P*a1; q=Q*a2;\n",
    "end\n",
    "\n",
    "xp=[0,p[1]];\n",
    "yp=[0,p[2]];\n",
    "zp=[0,p[3]];\n",
    "plot3d(xp,yp,zp, title=\"Example 3b: lin. combinations of p,q\", label=\"$a1 p\", linecolor=\"red\", linewidth=4, lims=[-15,15])\n",
    "xq=[p[1],q[1]+p[1]];\n",
    "yq=[p[2],q[2]+p[2]];\n",
    "zq=[p[3],q[3]+p[3]];\n",
    "plot3d!(xq,yq,zq, label=\"$a2 q\", linewidth=4, linecolor=\"purple\")\n",
    "scatter!([p[1]+q[1], p[1]+q[1]],[p[2]+q[2],p[2]+q[2]],[p[3]+q[3],p[3]+q[3]], markercolor=\"black\", markersize=1, label=\"r endpoint\")\n",
    "\n",
    "plot3d!([0,0],[0,0],[0,20],  label=\"+z\", linecolor=\"black\", linewidth=2,lims=[-15,15])\n",
    "plot3d!([0,0],[0,0],[0,-20],  label=\"-z\", linecolor=\"gray\", linewidth=1,lims=[-15,15])\n",
    "plot3d!([0,0],[0,20],[0,0],  label=\"+y\", linecolor=\"black\", linewidth=3,lims=[-15,15])\n",
    "plot3d!([0,0],[0,-20],[0,0],  label=\"-y\", linecolor=\"gray\", linewidth=2,lims=[-15,15])\n",
    "plot3d!([0,20],[0,0],[0,0],  label=\"+x\", linecolor=\"black\", linewidth=3,lims=[-15,15])\n",
    "plot3d!([0,-20],[0,0],[0,0],  label=\"-x\", linecolor=\"gray\", linewidth=2,lims=[-15,15])"
   ]
  },
  {
   "cell_type": "code",
   "execution_count": 27,
   "metadata": {},
   "outputs": [
    {
     "data": {
      "application/vnd.plotly.v1+json": {
       "data": [
        {
         "colorbar": {
          "title": ""
         },
         "hoverinfo": "text",
         "legendgroup": "y1",
         "marker": {
          "color": "rgba(0, 0, 0, 1.000)",
          "line": {
           "color": "rgba(0, 0, 0, 1.000)",
           "width": 1
          },
          "size": 2,
          "symbol": "circle"
         },
         "mode": "markers",
         "name": "y1",
         "showlegend": true,
         "text": [
          null,
          null
         ],
         "type": "scatter3d",
         "x": [
          -0.7831146095782109,
          -0.7831146095782109
         ],
         "xaxis": "x1",
         "y": [
          1.5662292191564218,
          1.5662292191564218
         ],
         "yaxis": "y1",
         "z": [
          0.7831146095782109,
          0.7831146095782109
         ],
         "zmax": 0.1,
         "zmin": -0.1
        },
        {
         "colorbar": {
          "title": ""
         },
         "hoverinfo": "text",
         "legendgroup": "y2",
         "marker": {
          "color": "rgba(0, 0, 0, 1.000)",
          "line": {
           "color": "rgba(0, 0, 0, 1.000)",
           "width": 1
          },
          "size": 2,
          "symbol": "circle"
         },
         "mode": "markers",
         "name": "y2",
         "showlegend": true,
         "text": [
          null,
          null
         ],
         "type": "scatter3d",
         "x": [
          1.8378118828003371,
          1.8378118828003371
         ],
         "xaxis": "x1",
         "y": [
          -3.6756237656006743,
          -3.6756237656006743
         ],
         "yaxis": "y1",
         "z": [
          -1.8378118828003371,
          -1.8378118828003371
         ],
         "zmax": 0.1,
         "zmin": -0.1
        },
        {
         "colorbar": {
          "title": ""
         },
         "hoverinfo": "text",
         "legendgroup": "y3",
         "marker": {
          "color": "rgba(0, 0, 0, 1.000)",
          "line": {
           "color": "rgba(0, 0, 0, 1.000)",
           "width": 1
          },
          "size": 2,
          "symbol": "circle"
         },
         "mode": "markers",
         "name": "y3",
         "showlegend": true,
         "text": [
          null,
          null
         ],
         "type": "scatter3d",
         "x": [
          7.025287824278584,
          7.025287824278584
         ],
         "xaxis": "x1",
         "y": [
          -14.050575648557167,
          -14.050575648557167
         ],
         "yaxis": "y1",
         "z": [
          -7.025287824278584,
          -7.025287824278584
         ],
         "zmax": 0.1,
         "zmin": -0.1
        },
        {
         "colorbar": {
          "title": ""
         },
         "hoverinfo": "text",
         "legendgroup": "y4",
         "marker": {
          "color": "rgba(0, 0, 0, 1.000)",
          "line": {
           "color": "rgba(0, 0, 0, 1.000)",
           "width": 1
          },
          "size": 2,
          "symbol": "circle"
         },
         "mode": "markers",
         "name": "y4",
         "showlegend": true,
         "text": [
          null,
          null
         ],
         "type": "scatter3d",
         "x": [
          1.2637469063678761,
          1.2637469063678761
         ],
         "xaxis": "x1",
         "y": [
          -2.5274938127357522,
          -2.5274938127357522
         ],
         "yaxis": "y1",
         "z": [
          -1.2637469063678761,
          -1.2637469063678761
         ],
         "zmax": 0.1,
         "zmin": -0.1
        },
        {
         "colorbar": {
          "title": ""
         },
         "hoverinfo": "text",
         "legendgroup": "y5",
         "marker": {
          "color": "rgba(0, 0, 0, 1.000)",
          "line": {
           "color": "rgba(0, 0, 0, 1.000)",
           "width": 1
          },
          "size": 2,
          "symbol": "circle"
         },
         "mode": "markers",
         "name": "y5",
         "showlegend": true,
         "text": [
          null,
          null
         ],
         "type": "scatter3d",
         "x": [
          4.61765450693863,
          4.61765450693863
         ],
         "xaxis": "x1",
         "y": [
          -9.23530901387726,
          -9.23530901387726
         ],
         "yaxis": "y1",
         "z": [
          -4.61765450693863,
          -4.61765450693863
         ],
         "zmax": 0.1,
         "zmin": -0.1
        },
        {
         "colorbar": {
          "title": ""
         },
         "hoverinfo": "text",
         "legendgroup": "y6",
         "marker": {
          "color": "rgba(0, 0, 0, 1.000)",
          "line": {
           "color": "rgba(0, 0, 0, 1.000)",
           "width": 1
          },
          "size": 2,
          "symbol": "circle"
         },
         "mode": "markers",
         "name": "y6",
         "showlegend": true,
         "text": [
          null,
          null
         ],
         "type": "scatter3d",
         "x": [
          2.4912649992435787,
          2.4912649992435787
         ],
         "xaxis": "x1",
         "y": [
          -4.982529998487157,
          -4.982529998487157
         ],
         "yaxis": "y1",
         "z": [
          -2.4912649992435787,
          -2.4912649992435787
         ],
         "zmax": 0.1,
         "zmin": -0.1
        },
        {
         "colorbar": {
          "title": ""
         },
         "hoverinfo": "text",
         "legendgroup": "y7",
         "marker": {
          "color": "rgba(0, 0, 0, 1.000)",
          "line": {
           "color": "rgba(0, 0, 0, 1.000)",
           "width": 1
          },
          "size": 2,
          "symbol": "circle"
         },
         "mode": "markers",
         "name": "y7",
         "showlegend": true,
         "text": [
          null,
          null
         ],
         "type": "scatter3d",
         "x": [
          -2.5396030535020486,
          -2.5396030535020486
         ],
         "xaxis": "x1",
         "y": [
          5.079206107004097,
          5.079206107004097
         ],
         "yaxis": "y1",
         "z": [
          2.5396030535020486,
          2.5396030535020486
         ],
         "zmax": 0.1,
         "zmin": -0.1
        },
        {
         "colorbar": {
          "title": ""
         },
         "hoverinfo": "text",
         "legendgroup": "y8",
         "marker": {
          "color": "rgba(0, 0, 0, 1.000)",
          "line": {
           "color": "rgba(0, 0, 0, 1.000)",
           "width": 1
          },
          "size": 2,
          "symbol": "circle"
         },
         "mode": "markers",
         "name": "y8",
         "showlegend": true,
         "text": [
          null,
          null
         ],
         "type": "scatter3d",
         "x": [
          -6.594909849744976,
          -6.594909849744976
         ],
         "xaxis": "x1",
         "y": [
          13.189819699489952,
          13.189819699489952
         ],
         "yaxis": "y1",
         "z": [
          6.594909849744976,
          6.594909849744976
         ],
         "zmax": 0.1,
         "zmin": -0.1
        },
        {
         "colorbar": {
          "title": ""
         },
         "hoverinfo": "text",
         "legendgroup": "y9",
         "marker": {
          "color": "rgba(0, 0, 0, 1.000)",
          "line": {
           "color": "rgba(0, 0, 0, 1.000)",
           "width": 1
          },
          "size": 2,
          "symbol": "circle"
         },
         "mode": "markers",
         "name": "y9",
         "showlegend": true,
         "text": [
          null,
          null
         ],
         "type": "scatter3d",
         "x": [
          3.4150569468077476,
          3.4150569468077476
         ],
         "xaxis": "x1",
         "y": [
          -6.830113893615495,
          -6.830113893615495
         ],
         "yaxis": "y1",
         "z": [
          -3.4150569468077476,
          -3.4150569468077476
         ],
         "zmax": 0.1,
         "zmin": -0.1
        },
        {
         "colorbar": {
          "title": ""
         },
         "hoverinfo": "text",
         "legendgroup": "y10",
         "marker": {
          "color": "rgba(0, 0, 0, 1.000)",
          "line": {
           "color": "rgba(0, 0, 0, 1.000)",
           "width": 1
          },
          "size": 2,
          "symbol": "circle"
         },
         "mode": "markers",
         "name": "y10",
         "showlegend": true,
         "text": [
          null,
          null
         ],
         "type": "scatter3d",
         "x": [
          1.8012004034588591,
          1.8012004034588591
         ],
         "xaxis": "x1",
         "y": [
          -3.6024008069177182,
          -3.6024008069177182
         ],
         "yaxis": "y1",
         "z": [
          -1.8012004034588591,
          -1.8012004034588591
         ],
         "zmax": 0.1,
         "zmin": -0.1
        },
        {
         "colorbar": {
          "title": ""
         },
         "hoverinfo": "text",
         "legendgroup": "y11",
         "marker": {
          "color": "rgba(0, 0, 0, 1.000)",
          "line": {
           "color": "rgba(0, 0, 0, 1.000)",
           "width": 1
          },
          "size": 2,
          "symbol": "circle"
         },
         "mode": "markers",
         "name": "y11",
         "showlegend": true,
         "text": [
          null,
          null
         ],
         "type": "scatter3d",
         "x": [
          -6.536940980939578,
          -6.536940980939578
         ],
         "xaxis": "x1",
         "y": [
          13.073881961879156,
          13.073881961879156
         ],
         "yaxis": "y1",
         "z": [
          6.536940980939578,
          6.536940980939578
         ],
         "zmax": 0.1,
         "zmin": -0.1
        },
        {
         "colorbar": {
          "title": ""
         },
         "hoverinfo": "text",
         "legendgroup": "y12",
         "marker": {
          "color": "rgba(0, 0, 0, 1.000)",
          "line": {
           "color": "rgba(0, 0, 0, 1.000)",
           "width": 1
          },
          "size": 2,
          "symbol": "circle"
         },
         "mode": "markers",
         "name": "y12",
         "showlegend": true,
         "text": [
          null,
          null
         ],
         "type": "scatter3d",
         "x": [
          -6.270402237208586,
          -6.270402237208586
         ],
         "xaxis": "x1",
         "y": [
          12.540804474417172,
          12.540804474417172
         ],
         "yaxis": "y1",
         "z": [
          6.270402237208586,
          6.270402237208586
         ],
         "zmax": 0.1,
         "zmin": -0.1
        },
        {
         "colorbar": {
          "title": ""
         },
         "hoverinfo": "text",
         "legendgroup": "y13",
         "marker": {
          "color": "rgba(0, 0, 0, 1.000)",
          "line": {
           "color": "rgba(0, 0, 0, 1.000)",
           "width": 1
          },
          "size": 2,
          "symbol": "circle"
         },
         "mode": "markers",
         "name": "y13",
         "showlegend": true,
         "text": [
          null,
          null
         ],
         "type": "scatter3d",
         "x": [
          -4.715377480060798,
          -4.715377480060798
         ],
         "xaxis": "x1",
         "y": [
          9.430754960121597,
          9.430754960121597
         ],
         "yaxis": "y1",
         "z": [
          4.715377480060798,
          4.715377480060798
         ],
         "zmax": 0.1,
         "zmin": -0.1
        },
        {
         "colorbar": {
          "title": ""
         },
         "hoverinfo": "text",
         "legendgroup": "y14",
         "marker": {
          "color": "rgba(0, 0, 0, 1.000)",
          "line": {
           "color": "rgba(0, 0, 0, 1.000)",
           "width": 1
          },
          "size": 2,
          "symbol": "circle"
         },
         "mode": "markers",
         "name": "y14",
         "showlegend": true,
         "text": [
          null,
          null
         ],
         "type": "scatter3d",
         "x": [
          0.5385596610085175,
          0.5385596610085175
         ],
         "xaxis": "x1",
         "y": [
          -1.077119322017035,
          -1.077119322017035
         ],
         "yaxis": "y1",
         "z": [
          -0.5385596610085175,
          -0.5385596610085175
         ],
         "zmax": 0.1,
         "zmin": -0.1
        },
        {
         "colorbar": {
          "title": ""
         },
         "hoverinfo": "text",
         "legendgroup": "y15",
         "marker": {
          "color": "rgba(0, 0, 0, 1.000)",
          "line": {
           "color": "rgba(0, 0, 0, 1.000)",
           "width": 1
          },
          "size": 2,
          "symbol": "circle"
         },
         "mode": "markers",
         "name": "y15",
         "showlegend": true,
         "text": [
          null,
          null
         ],
         "type": "scatter3d",
         "x": [
          1.1550845581101252,
          1.1550845581101252
         ],
         "xaxis": "x1",
         "y": [
          -2.3101691162202505,
          -2.3101691162202505
         ],
         "yaxis": "y1",
         "z": [
          -1.1550845581101252,
          -1.1550845581101252
         ],
         "zmax": 0.1,
         "zmin": -0.1
        },
        {
         "colorbar": {
          "title": ""
         },
         "hoverinfo": "text",
         "legendgroup": "y16",
         "marker": {
          "color": "rgba(0, 0, 0, 1.000)",
          "line": {
           "color": "rgba(0, 0, 0, 1.000)",
           "width": 1
          },
          "size": 2,
          "symbol": "circle"
         },
         "mode": "markers",
         "name": "y16",
         "showlegend": true,
         "text": [
          null,
          null
         ],
         "type": "scatter3d",
         "x": [
          2.062085920836505,
          2.062085920836505
         ],
         "xaxis": "x1",
         "y": [
          -4.12417184167301,
          -4.12417184167301
         ],
         "yaxis": "y1",
         "z": [
          -2.062085920836505,
          -2.062085920836505
         ],
         "zmax": 0.1,
         "zmin": -0.1
        },
        {
         "colorbar": {
          "title": ""
         },
         "hoverinfo": "text",
         "legendgroup": "y17",
         "marker": {
          "color": "rgba(0, 0, 0, 1.000)",
          "line": {
           "color": "rgba(0, 0, 0, 1.000)",
           "width": 1
          },
          "size": 2,
          "symbol": "circle"
         },
         "mode": "markers",
         "name": "y17",
         "showlegend": true,
         "text": [
          null,
          null
         ],
         "type": "scatter3d",
         "x": [
          -0.4580982584138038,
          -0.4580982584138038
         ],
         "xaxis": "x1",
         "y": [
          0.9161965168276076,
          0.9161965168276076
         ],
         "yaxis": "y1",
         "z": [
          0.4580982584138038,
          0.4580982584138038
         ],
         "zmax": 0.1,
         "zmin": -0.1
        },
        {
         "colorbar": {
          "title": ""
         },
         "hoverinfo": "text",
         "legendgroup": "y18",
         "marker": {
          "color": "rgba(0, 0, 0, 1.000)",
          "line": {
           "color": "rgba(0, 0, 0, 1.000)",
           "width": 1
          },
          "size": 2,
          "symbol": "circle"
         },
         "mode": "markers",
         "name": "y18",
         "showlegend": true,
         "text": [
          null,
          null
         ],
         "type": "scatter3d",
         "x": [
          4.120795277809252,
          4.120795277809252
         ],
         "xaxis": "x1",
         "y": [
          -8.241590555618505,
          -8.241590555618505
         ],
         "yaxis": "y1",
         "z": [
          -4.120795277809252,
          -4.120795277809252
         ],
         "zmax": 0.1,
         "zmin": -0.1
        },
        {
         "colorbar": {
          "title": ""
         },
         "hoverinfo": "text",
         "legendgroup": "y19",
         "marker": {
          "color": "rgba(0, 0, 0, 1.000)",
          "line": {
           "color": "rgba(0, 0, 0, 1.000)",
           "width": 1
          },
          "size": 2,
          "symbol": "circle"
         },
         "mode": "markers",
         "name": "y19",
         "showlegend": true,
         "text": [
          null,
          null
         ],
         "type": "scatter3d",
         "x": [
          -2.510234612198622,
          -2.510234612198622
         ],
         "xaxis": "x1",
         "y": [
          5.020469224397244,
          5.020469224397244
         ],
         "yaxis": "y1",
         "z": [
          2.510234612198622,
          2.510234612198622
         ],
         "zmax": 0.1,
         "zmin": -0.1
        },
        {
         "colorbar": {
          "title": ""
         },
         "hoverinfo": "text",
         "legendgroup": "y20",
         "marker": {
          "color": "rgba(0, 0, 0, 1.000)",
          "line": {
           "color": "rgba(0, 0, 0, 1.000)",
           "width": 1
          },
          "size": 2,
          "symbol": "circle"
         },
         "mode": "markers",
         "name": "y20",
         "showlegend": true,
         "text": [
          null,
          null
         ],
         "type": "scatter3d",
         "x": [
          4.7786933389104504,
          4.7786933389104504
         ],
         "xaxis": "x1",
         "y": [
          -9.557386677820901,
          -9.557386677820901
         ],
         "yaxis": "y1",
         "z": [
          -4.7786933389104504,
          -4.7786933389104504
         ],
         "zmax": 0.1,
         "zmin": -0.1
        },
        {
         "colorbar": {
          "title": ""
         },
         "hoverinfo": "text",
         "legendgroup": "y21",
         "marker": {
          "color": "rgba(0, 0, 0, 1.000)",
          "line": {
           "color": "rgba(0, 0, 0, 1.000)",
           "width": 1
          },
          "size": 2,
          "symbol": "circle"
         },
         "mode": "markers",
         "name": "y21",
         "showlegend": true,
         "text": [
          null,
          null
         ],
         "type": "scatter3d",
         "x": [
          6.104645517213023,
          6.104645517213023
         ],
         "xaxis": "x1",
         "y": [
          -12.209291034426046,
          -12.209291034426046
         ],
         "yaxis": "y1",
         "z": [
          -6.104645517213023,
          -6.104645517213023
         ],
         "zmax": 0.1,
         "zmin": -0.1
        },
        {
         "colorbar": {
          "title": ""
         },
         "hoverinfo": "text",
         "legendgroup": "y22",
         "marker": {
          "color": "rgba(0, 0, 0, 1.000)",
          "line": {
           "color": "rgba(0, 0, 0, 1.000)",
           "width": 1
          },
          "size": 2,
          "symbol": "circle"
         },
         "mode": "markers",
         "name": "y22",
         "showlegend": true,
         "text": [
          null,
          null
         ],
         "type": "scatter3d",
         "x": [
          4.966695662992035,
          4.966695662992035
         ],
         "xaxis": "x1",
         "y": [
          -9.93339132598407,
          -9.93339132598407
         ],
         "yaxis": "y1",
         "z": [
          -4.966695662992035,
          -4.966695662992035
         ],
         "zmax": 0.1,
         "zmin": -0.1
        },
        {
         "colorbar": {
          "title": ""
         },
         "hoverinfo": "text",
         "legendgroup": "y23",
         "marker": {
          "color": "rgba(0, 0, 0, 1.000)",
          "line": {
           "color": "rgba(0, 0, 0, 1.000)",
           "width": 1
          },
          "size": 2,
          "symbol": "circle"
         },
         "mode": "markers",
         "name": "y23",
         "showlegend": true,
         "text": [
          null,
          null
         ],
         "type": "scatter3d",
         "x": [
          -3.390423782834204,
          -3.390423782834204
         ],
         "xaxis": "x1",
         "y": [
          6.780847565668408,
          6.780847565668408
         ],
         "yaxis": "y1",
         "z": [
          3.390423782834204,
          3.390423782834204
         ],
         "zmax": 0.1,
         "zmin": -0.1
        },
        {
         "colorbar": {
          "title": ""
         },
         "hoverinfo": "text",
         "legendgroup": "y24",
         "marker": {
          "color": "rgba(0, 0, 0, 1.000)",
          "line": {
           "color": "rgba(0, 0, 0, 1.000)",
           "width": 1
          },
          "size": 2,
          "symbol": "circle"
         },
         "mode": "markers",
         "name": "y24",
         "showlegend": true,
         "text": [
          null,
          null
         ],
         "type": "scatter3d",
         "x": [
          2.4439144075305776,
          2.4439144075305776
         ],
         "xaxis": "x1",
         "y": [
          -4.887828815061155,
          -4.887828815061155
         ],
         "yaxis": "y1",
         "z": [
          -2.4439144075305776,
          -2.4439144075305776
         ],
         "zmax": 0.1,
         "zmin": -0.1
        },
        {
         "colorbar": {
          "title": ""
         },
         "hoverinfo": "text",
         "legendgroup": "y25",
         "marker": {
          "color": "rgba(0, 0, 0, 1.000)",
          "line": {
           "color": "rgba(0, 0, 0, 1.000)",
           "width": 1
          },
          "size": 2,
          "symbol": "circle"
         },
         "mode": "markers",
         "name": "y25",
         "showlegend": true,
         "text": [
          null,
          null
         ],
         "type": "scatter3d",
         "x": [
          -0.6701314774478884,
          -0.6701314774478884
         ],
         "xaxis": "x1",
         "y": [
          1.3402629548957767,
          1.3402629548957767
         ],
         "yaxis": "y1",
         "z": [
          0.6701314774478884,
          0.6701314774478884
         ],
         "zmax": 0.1,
         "zmin": -0.1
        },
        {
         "colorbar": {
          "title": ""
         },
         "hoverinfo": "text",
         "legendgroup": "y26",
         "marker": {
          "color": "rgba(0, 0, 0, 1.000)",
          "line": {
           "color": "rgba(0, 0, 0, 1.000)",
           "width": 1
          },
          "size": 2,
          "symbol": "circle"
         },
         "mode": "markers",
         "name": "y26",
         "showlegend": true,
         "text": [
          null,
          null
         ],
         "type": "scatter3d",
         "x": [
          0,
          0
         ],
         "xaxis": "x1",
         "y": [
          0,
          0
         ],
         "yaxis": "y1",
         "z": [
          0,
          0
         ],
         "zmax": 0.1,
         "zmin": -0.1
        },
        {
         "colorbar": {
          "title": ""
         },
         "hoverinfo": "text",
         "legendgroup": "y27",
         "marker": {
          "color": "rgba(0, 0, 0, 1.000)",
          "line": {
           "color": "rgba(0, 0, 0, 1.000)",
           "width": 1
          },
          "size": 2,
          "symbol": "circle"
         },
         "mode": "markers",
         "name": "y27",
         "showlegend": true,
         "text": [
          null,
          null
         ],
         "type": "scatter3d",
         "x": [
          7.37917526082046,
          7.37917526082046
         ],
         "xaxis": "x1",
         "y": [
          -14.75835052164092,
          -14.75835052164092
         ],
         "yaxis": "y1",
         "z": [
          -7.37917526082046,
          -7.37917526082046
         ],
         "zmax": 0.1,
         "zmin": -0.1
        },
        {
         "colorbar": {
          "title": ""
         },
         "hoverinfo": "text",
         "legendgroup": "y28",
         "marker": {
          "color": "rgba(0, 0, 0, 1.000)",
          "line": {
           "color": "rgba(0, 0, 0, 1.000)",
           "width": 1
          },
          "size": 2,
          "symbol": "circle"
         },
         "mode": "markers",
         "name": "y28",
         "showlegend": true,
         "text": [
          null,
          null
         ],
         "type": "scatter3d",
         "x": [
          7.352454351515895,
          7.352454351515895
         ],
         "xaxis": "x1",
         "y": [
          -14.70490870303179,
          -14.70490870303179
         ],
         "yaxis": "y1",
         "z": [
          -7.352454351515895,
          -7.352454351515895
         ],
         "zmax": 0.1,
         "zmin": -0.1
        },
        {
         "colorbar": {
          "title": ""
         },
         "hoverinfo": "text",
         "legendgroup": "y29",
         "marker": {
          "color": "rgba(0, 0, 0, 1.000)",
          "line": {
           "color": "rgba(0, 0, 0, 1.000)",
           "width": 1
          },
          "size": 2,
          "symbol": "circle"
         },
         "mode": "markers",
         "name": "y29",
         "showlegend": true,
         "text": [
          null,
          null
         ],
         "type": "scatter3d",
         "x": [
          1.7821006713511016,
          1.7821006713511016
         ],
         "xaxis": "x1",
         "y": [
          -3.5642013427022032,
          -3.5642013427022032
         ],
         "yaxis": "y1",
         "z": [
          -1.7821006713511016,
          -1.7821006713511016
         ],
         "zmax": 0.1,
         "zmin": -0.1
        },
        {
         "colorbar": {
          "title": ""
         },
         "hoverinfo": "text",
         "legendgroup": "y30",
         "marker": {
          "color": "rgba(0, 0, 0, 1.000)",
          "line": {
           "color": "rgba(0, 0, 0, 1.000)",
           "width": 1
          },
          "size": 2,
          "symbol": "circle"
         },
         "mode": "markers",
         "name": "y30",
         "showlegend": true,
         "text": [
          null,
          null
         ],
         "type": "scatter3d",
         "x": [
          5.426986388283511,
          5.426986388283511
         ],
         "xaxis": "x1",
         "y": [
          -10.853972776567023,
          -10.853972776567023
         ],
         "yaxis": "y1",
         "z": [
          -5.426986388283511,
          -5.426986388283511
         ],
         "zmax": 0.1,
         "zmin": -0.1
        },
        {
         "colorbar": {
          "title": ""
         },
         "hoverinfo": "text",
         "legendgroup": "y31",
         "marker": {
          "color": "rgba(0, 0, 0, 1.000)",
          "line": {
           "color": "rgba(0, 0, 0, 1.000)",
           "width": 1
          },
          "size": 2,
          "symbol": "circle"
         },
         "mode": "markers",
         "name": "y31",
         "showlegend": true,
         "text": [
          null,
          null
         ],
         "type": "scatter3d",
         "x": [
          5.197742157265211,
          5.197742157265211
         ],
         "xaxis": "x1",
         "y": [
          -10.395484314530423,
          -10.395484314530423
         ],
         "yaxis": "y1",
         "z": [
          -5.197742157265211,
          -5.197742157265211
         ],
         "zmax": 0.1,
         "zmin": -0.1
        },
        {
         "colorbar": {
          "title": ""
         },
         "hoverinfo": "text",
         "legendgroup": "y32",
         "marker": {
          "color": "rgba(0, 0, 0, 1.000)",
          "line": {
           "color": "rgba(0, 0, 0, 1.000)",
           "width": 1
          },
          "size": 2,
          "symbol": "circle"
         },
         "mode": "markers",
         "name": "y32",
         "showlegend": true,
         "text": [
          null,
          null
         ],
         "type": "scatter3d",
         "x": [
          -7.43725357487462,
          -7.43725357487462
         ],
         "xaxis": "x1",
         "y": [
          14.87450714974924,
          14.87450714974924
         ],
         "yaxis": "y1",
         "z": [
          7.43725357487462,
          7.43725357487462
         ],
         "zmax": 0.1,
         "zmin": -0.1
        },
        {
         "colorbar": {
          "title": ""
         },
         "hoverinfo": "text",
         "legendgroup": "y33",
         "marker": {
          "color": "rgba(0, 0, 0, 1.000)",
          "line": {
           "color": "rgba(0, 0, 0, 1.000)",
           "width": 1
          },
          "size": 2,
          "symbol": "circle"
         },
         "mode": "markers",
         "name": "y33",
         "showlegend": true,
         "text": [
          null,
          null
         ],
         "type": "scatter3d",
         "x": [
          1.393356220345372,
          1.393356220345372
         ],
         "xaxis": "x1",
         "y": [
          -2.786712440690744,
          -2.786712440690744
         ],
         "yaxis": "y1",
         "z": [
          -1.393356220345372,
          -1.393356220345372
         ],
         "zmax": 0.1,
         "zmin": -0.1
        },
        {
         "colorbar": {
          "title": ""
         },
         "hoverinfo": "text",
         "legendgroup": "y34",
         "marker": {
          "color": "rgba(0, 0, 0, 1.000)",
          "line": {
           "color": "rgba(0, 0, 0, 1.000)",
           "width": 1
          },
          "size": 2,
          "symbol": "circle"
         },
         "mode": "markers",
         "name": "y34",
         "showlegend": true,
         "text": [
          null,
          null
         ],
         "type": "scatter3d",
         "x": [
          0.3418596428040539,
          0.3418596428040539
         ],
         "xaxis": "x1",
         "y": [
          -0.6837192856081078,
          -0.6837192856081078
         ],
         "yaxis": "y1",
         "z": [
          -0.3418596428040539,
          -0.3418596428040539
         ],
         "zmax": 0.1,
         "zmin": -0.1
        },
        {
         "colorbar": {
          "title": ""
         },
         "hoverinfo": "text",
         "legendgroup": "y35",
         "marker": {
          "color": "rgba(0, 0, 0, 1.000)",
          "line": {
           "color": "rgba(0, 0, 0, 1.000)",
           "width": 1
          },
          "size": 2,
          "symbol": "circle"
         },
         "mode": "markers",
         "name": "y35",
         "showlegend": true,
         "text": [
          null,
          null
         ],
         "type": "scatter3d",
         "x": [
          -2.7265155277807356,
          -2.7265155277807356
         ],
         "xaxis": "x1",
         "y": [
          5.453031055561471,
          5.453031055561471
         ],
         "yaxis": "y1",
         "z": [
          2.7265155277807356,
          2.7265155277807356
         ],
         "zmax": 0.1,
         "zmin": -0.1
        },
        {
         "colorbar": {
          "title": ""
         },
         "hoverinfo": "text",
         "legendgroup": "y36",
         "marker": {
          "color": "rgba(0, 0, 0, 1.000)",
          "line": {
           "color": "rgba(0, 0, 0, 1.000)",
           "width": 1
          },
          "size": 2,
          "symbol": "circle"
         },
         "mode": "markers",
         "name": "y36",
         "showlegend": true,
         "text": [
          null,
          null
         ],
         "type": "scatter3d",
         "x": [
          -6.514944624204133,
          -6.514944624204133
         ],
         "xaxis": "x1",
         "y": [
          13.029889248408265,
          13.029889248408265
         ],
         "yaxis": "y1",
         "z": [
          6.514944624204133,
          6.514944624204133
         ],
         "zmax": 0.1,
         "zmin": -0.1
        },
        {
         "colorbar": {
          "title": ""
         },
         "hoverinfo": "text",
         "legendgroup": "y37",
         "marker": {
          "color": "rgba(0, 0, 0, 1.000)",
          "line": {
           "color": "rgba(0, 0, 0, 1.000)",
           "width": 1
          },
          "size": 2,
          "symbol": "circle"
         },
         "mode": "markers",
         "name": "y37",
         "showlegend": true,
         "text": [
          null,
          null
         ],
         "type": "scatter3d",
         "x": [
          -7.114350144407656,
          -7.114350144407656
         ],
         "xaxis": "x1",
         "y": [
          14.228700288815311,
          14.228700288815311
         ],
         "yaxis": "y1",
         "z": [
          7.114350144407656,
          7.114350144407656
         ],
         "zmax": 0.1,
         "zmin": -0.1
        },
        {
         "colorbar": {
          "title": ""
         },
         "hoverinfo": "text",
         "legendgroup": "y38",
         "marker": {
          "color": "rgba(0, 0, 0, 1.000)",
          "line": {
           "color": "rgba(0, 0, 0, 1.000)",
           "width": 1
          },
          "size": 2,
          "symbol": "circle"
         },
         "mode": "markers",
         "name": "y38",
         "showlegend": true,
         "text": [
          null,
          null
         ],
         "type": "scatter3d",
         "x": [
          -6.697542363004661,
          -6.697542363004661
         ],
         "xaxis": "x1",
         "y": [
          13.395084726009323,
          13.395084726009323
         ],
         "yaxis": "y1",
         "z": [
          6.697542363004661,
          6.697542363004661
         ],
         "zmax": 0.1,
         "zmin": -0.1
        },
        {
         "colorbar": {
          "title": ""
         },
         "hoverinfo": "text",
         "legendgroup": "y39",
         "marker": {
          "color": "rgba(0, 0, 0, 1.000)",
          "line": {
           "color": "rgba(0, 0, 0, 1.000)",
           "width": 1
          },
          "size": 2,
          "symbol": "circle"
         },
         "mode": "markers",
         "name": "y39",
         "showlegend": true,
         "text": [
          null,
          null
         ],
         "type": "scatter3d",
         "x": [
          -6.337648661774196,
          -6.337648661774196
         ],
         "xaxis": "x1",
         "y": [
          12.675297323548392,
          12.675297323548392
         ],
         "yaxis": "y1",
         "z": [
          6.337648661774196,
          6.337648661774196
         ],
         "zmax": 0.1,
         "zmin": -0.1
        },
        {
         "colorbar": {
          "title": ""
         },
         "hoverinfo": "text",
         "legendgroup": "y40",
         "marker": {
          "color": "rgba(0, 0, 0, 1.000)",
          "line": {
           "color": "rgba(0, 0, 0, 1.000)",
           "width": 1
          },
          "size": 2,
          "symbol": "circle"
         },
         "mode": "markers",
         "name": "y40",
         "showlegend": true,
         "text": [
          null,
          null
         ],
         "type": "scatter3d",
         "x": [
          -0.7184388893006246,
          -0.7184388893006246
         ],
         "xaxis": "x1",
         "y": [
          1.4368777786012492,
          1.4368777786012492
         ],
         "yaxis": "y1",
         "z": [
          0.7184388893006246,
          0.7184388893006246
         ],
         "zmax": 0.1,
         "zmin": -0.1
        },
        {
         "colorbar": {
          "title": ""
         },
         "hoverinfo": "text",
         "legendgroup": "y41",
         "marker": {
          "color": "rgba(0, 0, 0, 1.000)",
          "line": {
           "color": "rgba(0, 0, 0, 1.000)",
           "width": 1
          },
          "size": 2,
          "symbol": "circle"
         },
         "mode": "markers",
         "name": "y41",
         "showlegend": true,
         "text": [
          null,
          null
         ],
         "type": "scatter3d",
         "x": [
          -1.16473160577033,
          -1.16473160577033
         ],
         "xaxis": "x1",
         "y": [
          2.32946321154066,
          2.32946321154066
         ],
         "yaxis": "y1",
         "z": [
          1.16473160577033,
          1.16473160577033
         ],
         "zmax": 0.1,
         "zmin": -0.1
        },
        {
         "colorbar": {
          "title": ""
         },
         "hoverinfo": "text",
         "legendgroup": "y42",
         "marker": {
          "color": "rgba(0, 0, 0, 1.000)",
          "line": {
           "color": "rgba(0, 0, 0, 1.000)",
           "width": 1
          },
          "size": 2,
          "symbol": "circle"
         },
         "mode": "markers",
         "name": "y42",
         "showlegend": true,
         "text": [
          null,
          null
         ],
         "type": "scatter3d",
         "x": [
          3.8571499046389475,
          3.8571499046389475
         ],
         "xaxis": "x1",
         "y": [
          -7.714299809277895,
          -7.714299809277895
         ],
         "yaxis": "y1",
         "z": [
          -3.8571499046389475,
          -3.8571499046389475
         ],
         "zmax": 0.1,
         "zmin": -0.1
        },
        {
         "colorbar": {
          "title": ""
         },
         "hoverinfo": "text",
         "legendgroup": "y43",
         "marker": {
          "color": "rgba(0, 0, 0, 1.000)",
          "line": {
           "color": "rgba(0, 0, 0, 1.000)",
           "width": 1
          },
          "size": 2,
          "symbol": "circle"
         },
         "mode": "markers",
         "name": "y43",
         "showlegend": true,
         "text": [
          null,
          null
         ],
         "type": "scatter3d",
         "x": [
          6.935939997468575,
          6.935939997468575
         ],
         "xaxis": "x1",
         "y": [
          -13.87187999493715,
          -13.87187999493715
         ],
         "yaxis": "y1",
         "z": [
          -6.935939997468575,
          -6.935939997468575
         ],
         "zmax": 0.1,
         "zmin": -0.1
        },
        {
         "colorbar": {
          "title": ""
         },
         "hoverinfo": "text",
         "legendgroup": "y44",
         "marker": {
          "color": "rgba(0, 0, 0, 1.000)",
          "line": {
           "color": "rgba(0, 0, 0, 1.000)",
           "width": 1
          },
          "size": 2,
          "symbol": "circle"
         },
         "mode": "markers",
         "name": "y44",
         "showlegend": true,
         "text": [
          null,
          null
         ],
         "type": "scatter3d",
         "x": [
          4.874615063072358,
          4.874615063072358
         ],
         "xaxis": "x1",
         "y": [
          -9.749230126144717,
          -9.749230126144717
         ],
         "yaxis": "y1",
         "z": [
          -4.874615063072358,
          -4.874615063072358
         ],
         "zmax": 0.1,
         "zmin": -0.1
        },
        {
         "colorbar": {
          "title": ""
         },
         "hoverinfo": "text",
         "legendgroup": "y45",
         "marker": {
          "color": "rgba(0, 0, 0, 1.000)",
          "line": {
           "color": "rgba(0, 0, 0, 1.000)",
           "width": 1
          },
          "size": 2,
          "symbol": "circle"
         },
         "mode": "markers",
         "name": "y45",
         "showlegend": true,
         "text": [
          null,
          null
         ],
         "type": "scatter3d",
         "x": [
          -1.2905250243042494,
          -1.2905250243042494
         ],
         "xaxis": "x1",
         "y": [
          2.581050048608499,
          2.581050048608499
         ],
         "yaxis": "y1",
         "z": [
          1.2905250243042494,
          1.2905250243042494
         ],
         "zmax": 0.1,
         "zmin": -0.1
        },
        {
         "colorbar": {
          "title": ""
         },
         "hoverinfo": "text",
         "legendgroup": "y46",
         "marker": {
          "color": "rgba(0, 0, 0, 1.000)",
          "line": {
           "color": "rgba(0, 0, 0, 1.000)",
           "width": 1
          },
          "size": 2,
          "symbol": "circle"
         },
         "mode": "markers",
         "name": "y46",
         "showlegend": true,
         "text": [
          null,
          null
         ],
         "type": "scatter3d",
         "x": [
          -2.4395547254135437,
          -2.4395547254135437
         ],
         "xaxis": "x1",
         "y": [
          4.879109450827087,
          4.879109450827087
         ],
         "yaxis": "y1",
         "z": [
          2.4395547254135437,
          2.4395547254135437
         ],
         "zmax": 0.1,
         "zmin": -0.1
        },
        {
         "colorbar": {
          "title": ""
         },
         "hoverinfo": "text",
         "legendgroup": "y47",
         "marker": {
          "color": "rgba(0, 0, 0, 1.000)",
          "line": {
           "color": "rgba(0, 0, 0, 1.000)",
           "width": 1
          },
          "size": 2,
          "symbol": "circle"
         },
         "mode": "markers",
         "name": "y47",
         "showlegend": true,
         "text": [
          null,
          null
         ],
         "type": "scatter3d",
         "x": [
          -3.5466414586469934,
          -3.5466414586469934
         ],
         "xaxis": "x1",
         "y": [
          7.093282917293987,
          7.093282917293987
         ],
         "yaxis": "y1",
         "z": [
          3.5466414586469934,
          3.5466414586469934
         ],
         "zmax": 0.1,
         "zmin": -0.1
        },
        {
         "colorbar": {
          "title": ""
         },
         "hoverinfo": "text",
         "legendgroup": "y48",
         "marker": {
          "color": "rgba(0, 0, 0, 1.000)",
          "line": {
           "color": "rgba(0, 0, 0, 1.000)",
           "width": 1
          },
          "size": 2,
          "symbol": "circle"
         },
         "mode": "markers",
         "name": "y48",
         "showlegend": true,
         "text": [
          null,
          null
         ],
         "type": "scatter3d",
         "x": [
          4.3835726379961155,
          4.3835726379961155
         ],
         "xaxis": "x1",
         "y": [
          -8.767145275992231,
          -8.767145275992231
         ],
         "yaxis": "y1",
         "z": [
          -4.3835726379961155,
          -4.3835726379961155
         ],
         "zmax": 0.1,
         "zmin": -0.1
        },
        {
         "colorbar": {
          "title": ""
         },
         "hoverinfo": "text",
         "legendgroup": "y49",
         "marker": {
          "color": "rgba(0, 0, 0, 1.000)",
          "line": {
           "color": "rgba(0, 0, 0, 1.000)",
           "width": 1
          },
          "size": 2,
          "symbol": "circle"
         },
         "mode": "markers",
         "name": "y49",
         "showlegend": true,
         "text": [
          null,
          null
         ],
         "type": "scatter3d",
         "x": [
          -0.2280792774666116,
          -0.2280792774666116
         ],
         "xaxis": "x1",
         "y": [
          0.4561585549332232,
          0.4561585549332232
         ],
         "yaxis": "y1",
         "z": [
          0.2280792774666116,
          0.2280792774666116
         ],
         "zmax": 0.1,
         "zmin": -0.1
        },
        {
         "colorbar": {
          "title": ""
         },
         "hoverinfo": "text",
         "legendgroup": "y50",
         "marker": {
          "color": "rgba(0, 0, 0, 1.000)",
          "line": {
           "color": "rgba(0, 0, 0, 1.000)",
           "width": 1
          },
          "size": 2,
          "symbol": "circle"
         },
         "mode": "markers",
         "name": "y50",
         "showlegend": true,
         "text": [
          null,
          null
         ],
         "type": "scatter3d",
         "x": [
          -2.290419476777979,
          -2.290419476777979
         ],
         "xaxis": "x1",
         "y": [
          4.580838953555958,
          4.580838953555958
         ],
         "yaxis": "y1",
         "z": [
          2.290419476777979,
          2.290419476777979
         ],
         "zmax": 0.1,
         "zmin": -0.1
        },
        {
         "colorbar": {
          "title": ""
         },
         "hoverinfo": "text",
         "legendgroup": "y51",
         "marker": {
          "color": "rgba(0, 0, 0, 1.000)",
          "line": {
           "color": "rgba(0, 0, 0, 1.000)",
           "width": 1
          },
          "size": 2,
          "symbol": "circle"
         },
         "mode": "markers",
         "name": "y51",
         "showlegend": true,
         "text": [
          null,
          null
         ],
         "type": "scatter3d",
         "x": [
          4.330024123842803,
          4.330024123842803
         ],
         "xaxis": "x1",
         "y": [
          -8.660048247685607,
          -8.660048247685607
         ],
         "yaxis": "y1",
         "z": [
          -4.330024123842803,
          -4.330024123842803
         ],
         "zmax": 0.1,
         "zmin": -0.1
        },
        {
         "colorbar": {
          "title": ""
         },
         "hoverinfo": "text",
         "legendgroup": "y52",
         "marker": {
          "color": "rgba(0, 0, 0, 1.000)",
          "line": {
           "color": "rgba(0, 0, 0, 1.000)",
           "width": 1
          },
          "size": 2,
          "symbol": "circle"
         },
         "mode": "markers",
         "name": "y52",
         "showlegend": true,
         "text": [
          null,
          null
         ],
         "type": "scatter3d",
         "x": [
          6.721846513289599,
          6.721846513289599
         ],
         "xaxis": "x1",
         "y": [
          -13.443693026579197,
          -13.443693026579197
         ],
         "yaxis": "y1",
         "z": [
          -6.721846513289599,
          -6.721846513289599
         ],
         "zmax": 0.1,
         "zmin": -0.1
        },
        {
         "colorbar": {
          "title": ""
         },
         "hoverinfo": "text",
         "legendgroup": "y53",
         "marker": {
          "color": "rgba(0, 0, 0, 1.000)",
          "line": {
           "color": "rgba(0, 0, 0, 1.000)",
           "width": 1
          },
          "size": 2,
          "symbol": "circle"
         },
         "mode": "markers",
         "name": "y53",
         "showlegend": true,
         "text": [
          null,
          null
         ],
         "type": "scatter3d",
         "x": [
          -6.974234762991058,
          -6.974234762991058
         ],
         "xaxis": "x1",
         "y": [
          13.948469525982116,
          13.948469525982116
         ],
         "yaxis": "y1",
         "z": [
          6.974234762991058,
          6.974234762991058
         ],
         "zmax": 0.1,
         "zmin": -0.1
        },
        {
         "colorbar": {
          "title": ""
         },
         "hoverinfo": "text",
         "legendgroup": "y54",
         "marker": {
          "color": "rgba(0, 0, 0, 1.000)",
          "line": {
           "color": "rgba(0, 0, 0, 1.000)",
           "width": 1
          },
          "size": 2,
          "symbol": "circle"
         },
         "mode": "markers",
         "name": "y54",
         "showlegend": true,
         "text": [
          null,
          null
         ],
         "type": "scatter3d",
         "x": [
          -0.7975666836422035,
          -0.7975666836422035
         ],
         "xaxis": "x1",
         "y": [
          1.595133367284407,
          1.595133367284407
         ],
         "yaxis": "y1",
         "z": [
          0.7975666836422035,
          0.7975666836422035
         ],
         "zmax": 0.1,
         "zmin": -0.1
        },
        {
         "colorbar": {
          "title": ""
         },
         "hoverinfo": "text",
         "legendgroup": "y55",
         "marker": {
          "color": "rgba(0, 0, 0, 1.000)",
          "line": {
           "color": "rgba(0, 0, 0, 1.000)",
           "width": 1
          },
          "size": 2,
          "symbol": "circle"
         },
         "mode": "markers",
         "name": "y55",
         "showlegend": true,
         "text": [
          null,
          null
         ],
         "type": "scatter3d",
         "x": [
          -1.6168178572664127,
          -1.6168178572664127
         ],
         "xaxis": "x1",
         "y": [
          3.2336357145328254,
          3.2336357145328254
         ],
         "yaxis": "y1",
         "z": [
          1.6168178572664127,
          1.6168178572664127
         ],
         "zmax": 0.1,
         "zmin": -0.1
        },
        {
         "colorbar": {
          "title": ""
         },
         "hoverinfo": "text",
         "legendgroup": "y56",
         "marker": {
          "color": "rgba(0, 0, 0, 1.000)",
          "line": {
           "color": "rgba(0, 0, 0, 1.000)",
           "width": 1
          },
          "size": 2,
          "symbol": "circle"
         },
         "mode": "markers",
         "name": "y56",
         "showlegend": true,
         "text": [
          null,
          null
         ],
         "type": "scatter3d",
         "x": [
          4.216526093789894,
          4.216526093789894
         ],
         "xaxis": "x1",
         "y": [
          -8.433052187579788,
          -8.433052187579788
         ],
         "yaxis": "y1",
         "z": [
          -4.216526093789894,
          -4.216526093789894
         ],
         "zmax": 0.1,
         "zmin": -0.1
        },
        {
         "colorbar": {
          "title": ""
         },
         "hoverinfo": "text",
         "legendgroup": "y57",
         "marker": {
          "color": "rgba(0, 0, 0, 1.000)",
          "line": {
           "color": "rgba(0, 0, 0, 1.000)",
           "width": 1
          },
          "size": 2,
          "symbol": "circle"
         },
         "mode": "markers",
         "name": "y57",
         "showlegend": true,
         "text": [
          null,
          null
         ],
         "type": "scatter3d",
         "x": [
          0.7411112041066683,
          0.7411112041066683
         ],
         "xaxis": "x1",
         "y": [
          -1.4822224082133366,
          -1.4822224082133366
         ],
         "yaxis": "y1",
         "z": [
          -0.7411112041066683,
          -0.7411112041066683
         ],
         "zmax": 0.1,
         "zmin": -0.1
        },
        {
         "colorbar": {
          "title": ""
         },
         "hoverinfo": "text",
         "legendgroup": "y58",
         "marker": {
          "color": "rgba(0, 0, 0, 1.000)",
          "line": {
           "color": "rgba(0, 0, 0, 1.000)",
           "width": 1
          },
          "size": 2,
          "symbol": "circle"
         },
         "mode": "markers",
         "name": "y58",
         "showlegend": true,
         "text": [
          null,
          null
         ],
         "type": "scatter3d",
         "x": [
          0,
          0
         ],
         "xaxis": "x1",
         "y": [
          0,
          0
         ],
         "yaxis": "y1",
         "z": [
          0,
          0
         ],
         "zmax": 0.1,
         "zmin": -0.1
        },
        {
         "colorbar": {
          "title": ""
         },
         "hoverinfo": "text",
         "legendgroup": "y59",
         "marker": {
          "color": "rgba(0, 0, 0, 1.000)",
          "line": {
           "color": "rgba(0, 0, 0, 1.000)",
           "width": 1
          },
          "size": 2,
          "symbol": "circle"
         },
         "mode": "markers",
         "name": "y59",
         "showlegend": true,
         "text": [
          null,
          null
         ],
         "type": "scatter3d",
         "x": [
          -0.7737965130420301,
          -0.7737965130420301
         ],
         "xaxis": "x1",
         "y": [
          1.5475930260840602,
          1.5475930260840602
         ],
         "yaxis": "y1",
         "z": [
          0.7737965130420301,
          0.7737965130420301
         ],
         "zmax": 0.1,
         "zmin": -0.1
        },
        {
         "colorbar": {
          "title": ""
         },
         "hoverinfo": "text",
         "legendgroup": "y60",
         "marker": {
          "color": "rgba(0, 0, 0, 1.000)",
          "line": {
           "color": "rgba(0, 0, 0, 1.000)",
           "width": 1
          },
          "size": 2,
          "symbol": "circle"
         },
         "mode": "markers",
         "name": "y60",
         "showlegend": true,
         "text": [
          null,
          null
         ],
         "type": "scatter3d",
         "x": [
          0.7200707424910324,
          0.7200707424910324
         ],
         "xaxis": "x1",
         "y": [
          -1.4401414849820648,
          -1.4401414849820648
         ],
         "yaxis": "y1",
         "z": [
          -0.7200707424910324,
          -0.7200707424910324
         ],
         "zmax": 0.1,
         "zmin": -0.1
        },
        {
         "colorbar": {
          "title": ""
         },
         "hoverinfo": "text",
         "legendgroup": "y61",
         "marker": {
          "color": "rgba(0, 0, 0, 1.000)",
          "line": {
           "color": "rgba(0, 0, 0, 1.000)",
           "width": 1
          },
          "size": 2,
          "symbol": "circle"
         },
         "mode": "markers",
         "name": "y61",
         "showlegend": true,
         "text": [
          null,
          null
         ],
         "type": "scatter3d",
         "x": [
          -3.071681874546094,
          -3.071681874546094
         ],
         "xaxis": "x1",
         "y": [
          6.143363749092188,
          6.143363749092188
         ],
         "yaxis": "y1",
         "z": [
          3.071681874546094,
          3.071681874546094
         ],
         "zmax": 0.1,
         "zmin": -0.1
        },
        {
         "colorbar": {
          "title": ""
         },
         "hoverinfo": "text",
         "legendgroup": "y62",
         "marker": {
          "color": "rgba(0, 0, 0, 1.000)",
          "line": {
           "color": "rgba(0, 0, 0, 1.000)",
           "width": 1
          },
          "size": 2,
          "symbol": "circle"
         },
         "mode": "markers",
         "name": "y62",
         "showlegend": true,
         "text": [
          null,
          null
         ],
         "type": "scatter3d",
         "x": [
          0.5063229727456573,
          0.5063229727456573
         ],
         "xaxis": "x1",
         "y": [
          -1.0126459454913146,
          -1.0126459454913146
         ],
         "yaxis": "y1",
         "z": [
          -0.5063229727456573,
          -0.5063229727456573
         ],
         "zmax": 0.1,
         "zmin": -0.1
        },
        {
         "colorbar": {
          "title": ""
         },
         "hoverinfo": "text",
         "legendgroup": "y63",
         "marker": {
          "color": "rgba(0, 0, 0, 1.000)",
          "line": {
           "color": "rgba(0, 0, 0, 1.000)",
           "width": 1
          },
          "size": 2,
          "symbol": "circle"
         },
         "mode": "markers",
         "name": "y63",
         "showlegend": true,
         "text": [
          null,
          null
         ],
         "type": "scatter3d",
         "x": [
          1.2119106892506144,
          1.2119106892506144
         ],
         "xaxis": "x1",
         "y": [
          -2.423821378501229,
          -2.423821378501229
         ],
         "yaxis": "y1",
         "z": [
          -1.2119106892506144,
          -1.2119106892506144
         ],
         "zmax": 0.1,
         "zmin": -0.1
        },
        {
         "colorbar": {
          "title": ""
         },
         "hoverinfo": "text",
         "legendgroup": "y64",
         "marker": {
          "color": "rgba(0, 0, 0, 1.000)",
          "line": {
           "color": "rgba(0, 0, 0, 1.000)",
           "width": 1
          },
          "size": 2,
          "symbol": "circle"
         },
         "mode": "markers",
         "name": "y64",
         "showlegend": true,
         "text": [
          null,
          null
         ],
         "type": "scatter3d",
         "x": [
          -6.118963264941707,
          -6.118963264941707
         ],
         "xaxis": "x1",
         "y": [
          12.237926529883413,
          12.237926529883413
         ],
         "yaxis": "y1",
         "z": [
          6.118963264941707,
          6.118963264941707
         ],
         "zmax": 0.1,
         "zmin": -0.1
        },
        {
         "colorbar": {
          "title": ""
         },
         "hoverinfo": "text",
         "legendgroup": "y65",
         "marker": {
          "color": "rgba(0, 0, 0, 1.000)",
          "line": {
           "color": "rgba(0, 0, 0, 1.000)",
           "width": 1
          },
          "size": 2,
          "symbol": "circle"
         },
         "mode": "markers",
         "name": "y65",
         "showlegend": true,
         "text": [
          null,
          null
         ],
         "type": "scatter3d",
         "x": [
          -3.75266534459307,
          -3.75266534459307
         ],
         "xaxis": "x1",
         "y": [
          7.50533068918614,
          7.50533068918614
         ],
         "yaxis": "y1",
         "z": [
          3.75266534459307,
          3.75266534459307
         ],
         "zmax": 0.1,
         "zmin": -0.1
        },
        {
         "colorbar": {
          "title": ""
         },
         "hoverinfo": "text",
         "legendgroup": "y66",
         "marker": {
          "color": "rgba(0, 0, 0, 1.000)",
          "line": {
           "color": "rgba(0, 0, 0, 1.000)",
           "width": 1
          },
          "size": 2,
          "symbol": "circle"
         },
         "mode": "markers",
         "name": "y66",
         "showlegend": true,
         "text": [
          null,
          null
         ],
         "type": "scatter3d",
         "x": [
          0.02493507280610574,
          0.02493507280610574
         ],
         "xaxis": "x1",
         "y": [
          -0.04987014561221148,
          -0.04987014561221148
         ],
         "yaxis": "y1",
         "z": [
          -0.02493507280610574,
          -0.02493507280610574
         ],
         "zmax": 0.1,
         "zmin": -0.1
        },
        {
         "colorbar": {
          "title": ""
         },
         "hoverinfo": "text",
         "legendgroup": "y67",
         "marker": {
          "color": "rgba(0, 0, 0, 1.000)",
          "line": {
           "color": "rgba(0, 0, 0, 1.000)",
           "width": 1
          },
          "size": 2,
          "symbol": "circle"
         },
         "mode": "markers",
         "name": "y67",
         "showlegend": true,
         "text": [
          null,
          null
         ],
         "type": "scatter3d",
         "x": [
          0,
          0
         ],
         "xaxis": "x1",
         "y": [
          0,
          0
         ],
         "yaxis": "y1",
         "z": [
          0,
          0
         ],
         "zmax": 0.1,
         "zmin": -0.1
        },
        {
         "colorbar": {
          "title": ""
         },
         "hoverinfo": "text",
         "legendgroup": "y68",
         "marker": {
          "color": "rgba(0, 0, 0, 1.000)",
          "line": {
           "color": "rgba(0, 0, 0, 1.000)",
           "width": 1
          },
          "size": 2,
          "symbol": "circle"
         },
         "mode": "markers",
         "name": "y68",
         "showlegend": true,
         "text": [
          null,
          null
         ],
         "type": "scatter3d",
         "x": [
          0.5127091322796273,
          0.5127091322796273
         ],
         "xaxis": "x1",
         "y": [
          -1.0254182645592547,
          -1.0254182645592547
         ],
         "yaxis": "y1",
         "z": [
          -0.5127091322796273,
          -0.5127091322796273
         ],
         "zmax": 0.1,
         "zmin": -0.1
        },
        {
         "colorbar": {
          "title": ""
         },
         "hoverinfo": "text",
         "legendgroup": "y69",
         "marker": {
          "color": "rgba(0, 0, 0, 1.000)",
          "line": {
           "color": "rgba(0, 0, 0, 1.000)",
           "width": 1
          },
          "size": 2,
          "symbol": "circle"
         },
         "mode": "markers",
         "name": "y69",
         "showlegend": true,
         "text": [
          null,
          null
         ],
         "type": "scatter3d",
         "x": [
          -2.1557209545807043,
          -2.1557209545807043
         ],
         "xaxis": "x1",
         "y": [
          4.311441909161409,
          4.311441909161409
         ],
         "yaxis": "y1",
         "z": [
          2.1557209545807043,
          2.1557209545807043
         ],
         "zmax": 0.1,
         "zmin": -0.1
        },
        {
         "colorbar": {
          "title": ""
         },
         "hoverinfo": "text",
         "legendgroup": "y70",
         "marker": {
          "color": "rgba(0, 0, 0, 1.000)",
          "line": {
           "color": "rgba(0, 0, 0, 1.000)",
           "width": 1
          },
          "size": 2,
          "symbol": "circle"
         },
         "mode": "markers",
         "name": "y70",
         "showlegend": true,
         "text": [
          null,
          null
         ],
         "type": "scatter3d",
         "x": [
          0.8996068865537952,
          0.8996068865537952
         ],
         "xaxis": "x1",
         "y": [
          -1.7992137731075903,
          -1.7992137731075903
         ],
         "yaxis": "y1",
         "z": [
          -0.8996068865537952,
          -0.8996068865537952
         ],
         "zmax": 0.1,
         "zmin": -0.1
        },
        {
         "colorbar": {
          "title": ""
         },
         "hoverinfo": "text",
         "legendgroup": "y71",
         "marker": {
          "color": "rgba(0, 0, 0, 1.000)",
          "line": {
           "color": "rgba(0, 0, 0, 1.000)",
           "width": 1
          },
          "size": 2,
          "symbol": "circle"
         },
         "mode": "markers",
         "name": "y71",
         "showlegend": true,
         "text": [
          null,
          null
         ],
         "type": "scatter3d",
         "x": [
          3.155050267767213,
          3.155050267767213
         ],
         "xaxis": "x1",
         "y": [
          -6.310100535534426,
          -6.310100535534426
         ],
         "yaxis": "y1",
         "z": [
          -3.155050267767213,
          -3.155050267767213
         ],
         "zmax": 0.1,
         "zmin": -0.1
        },
        {
         "colorbar": {
          "title": ""
         },
         "hoverinfo": "text",
         "legendgroup": "y72",
         "marker": {
          "color": "rgba(0, 0, 0, 1.000)",
          "line": {
           "color": "rgba(0, 0, 0, 1.000)",
           "width": 1
          },
          "size": 2,
          "symbol": "circle"
         },
         "mode": "markers",
         "name": "y72",
         "showlegend": true,
         "text": [
          null,
          null
         ],
         "type": "scatter3d",
         "x": [
          -0.6105153236614762,
          -0.6105153236614762
         ],
         "xaxis": "x1",
         "y": [
          1.2210306473229524,
          1.2210306473229524
         ],
         "yaxis": "y1",
         "z": [
          0.6105153236614762,
          0.6105153236614762
         ],
         "zmax": 0.1,
         "zmin": -0.1
        },
        {
         "colorbar": {
          "title": ""
         },
         "hoverinfo": "text",
         "legendgroup": "y73",
         "marker": {
          "color": "rgba(0, 0, 0, 1.000)",
          "line": {
           "color": "rgba(0, 0, 0, 1.000)",
           "width": 1
          },
          "size": 2,
          "symbol": "circle"
         },
         "mode": "markers",
         "name": "y73",
         "showlegend": true,
         "text": [
          null,
          null
         ],
         "type": "scatter3d",
         "x": [
          -1.2324273504270633,
          -1.2324273504270633
         ],
         "xaxis": "x1",
         "y": [
          2.4648547008541266,
          2.4648547008541266
         ],
         "yaxis": "y1",
         "z": [
          1.2324273504270633,
          1.2324273504270633
         ],
         "zmax": 0.1,
         "zmin": -0.1
        },
        {
         "colorbar": {
          "title": ""
         },
         "hoverinfo": "text",
         "legendgroup": "y74",
         "marker": {
          "color": "rgba(0, 0, 0, 1.000)",
          "line": {
           "color": "rgba(0, 0, 0, 1.000)",
           "width": 1
          },
          "size": 2,
          "symbol": "circle"
         },
         "mode": "markers",
         "name": "y74",
         "showlegend": true,
         "text": [
          null,
          null
         ],
         "type": "scatter3d",
         "x": [
          0.6193202848605879,
          0.6193202848605879
         ],
         "xaxis": "x1",
         "y": [
          -1.2386405697211758,
          -1.2386405697211758
         ],
         "yaxis": "y1",
         "z": [
          -0.6193202848605879,
          -0.6193202848605879
         ],
         "zmax": 0.1,
         "zmin": -0.1
        },
        {
         "colorbar": {
          "title": ""
         },
         "hoverinfo": "text",
         "legendgroup": "y75",
         "marker": {
          "color": "rgba(0, 0, 0, 1.000)",
          "line": {
           "color": "rgba(0, 0, 0, 1.000)",
           "width": 1
          },
          "size": 2,
          "symbol": "circle"
         },
         "mode": "markers",
         "name": "y75",
         "showlegend": true,
         "text": [
          null,
          null
         ],
         "type": "scatter3d",
         "x": [
          3.73538054984532,
          3.73538054984532
         ],
         "xaxis": "x1",
         "y": [
          -7.47076109969064,
          -7.47076109969064
         ],
         "yaxis": "y1",
         "z": [
          -3.73538054984532,
          -3.73538054984532
         ],
         "zmax": 0.1,
         "zmin": -0.1
        },
        {
         "colorbar": {
          "title": ""
         },
         "hoverinfo": "text",
         "legendgroup": "y76",
         "marker": {
          "color": "rgba(0, 0, 0, 1.000)",
          "line": {
           "color": "rgba(0, 0, 0, 1.000)",
           "width": 1
          },
          "size": 2,
          "symbol": "circle"
         },
         "mode": "markers",
         "name": "y76",
         "showlegend": true,
         "text": [
          null,
          null
         ],
         "type": "scatter3d",
         "x": [
          -2.55584649780851,
          -2.55584649780851
         ],
         "xaxis": "x1",
         "y": [
          5.11169299561702,
          5.11169299561702
         ],
         "yaxis": "y1",
         "z": [
          2.55584649780851,
          2.55584649780851
         ],
         "zmax": 0.1,
         "zmin": -0.1
        },
        {
         "colorbar": {
          "title": ""
         },
         "hoverinfo": "text",
         "legendgroup": "y77",
         "marker": {
          "color": "rgba(0, 0, 0, 1.000)",
          "line": {
           "color": "rgba(0, 0, 0, 1.000)",
           "width": 1
          },
          "size": 2,
          "symbol": "circle"
         },
         "mode": "markers",
         "name": "y77",
         "showlegend": true,
         "text": [
          null,
          null
         ],
         "type": "scatter3d",
         "x": [
          -6.225140922590954,
          -6.225140922590954
         ],
         "xaxis": "x1",
         "y": [
          12.450281845181909,
          12.450281845181909
         ],
         "yaxis": "y1",
         "z": [
          6.225140922590954,
          6.225140922590954
         ],
         "zmax": 0.1,
         "zmin": -0.1
        },
        {
         "colorbar": {
          "title": ""
         },
         "hoverinfo": "text",
         "legendgroup": "y78",
         "marker": {
          "color": "rgba(0, 0, 0, 1.000)",
          "line": {
           "color": "rgba(0, 0, 0, 1.000)",
           "width": 1
          },
          "size": 2,
          "symbol": "circle"
         },
         "mode": "markers",
         "name": "y78",
         "showlegend": true,
         "text": [
          null,
          null
         ],
         "type": "scatter3d",
         "x": [
          0.9428561684897219,
          0.9428561684897219
         ],
         "xaxis": "x1",
         "y": [
          -1.8857123369794437,
          -1.8857123369794437
         ],
         "yaxis": "y1",
         "z": [
          -0.9428561684897219,
          -0.9428561684897219
         ],
         "zmax": 0.1,
         "zmin": -0.1
        },
        {
         "colorbar": {
          "title": ""
         },
         "hoverinfo": "text",
         "legendgroup": "y79",
         "marker": {
          "color": "rgba(0, 0, 0, 1.000)",
          "line": {
           "color": "rgba(0, 0, 0, 1.000)",
           "width": 1
          },
          "size": 2,
          "symbol": "circle"
         },
         "mode": "markers",
         "name": "y79",
         "showlegend": true,
         "text": [
          null,
          null
         ],
         "type": "scatter3d",
         "x": [
          -7.006683660390868,
          -7.006683660390868
         ],
         "xaxis": "x1",
         "y": [
          14.013367320781736,
          14.013367320781736
         ],
         "yaxis": "y1",
         "z": [
          7.006683660390868,
          7.006683660390868
         ],
         "zmax": 0.1,
         "zmin": -0.1
        },
        {
         "colorbar": {
          "title": ""
         },
         "hoverinfo": "text",
         "legendgroup": "y80",
         "marker": {
          "color": "rgba(0, 0, 0, 1.000)",
          "line": {
           "color": "rgba(0, 0, 0, 1.000)",
           "width": 1
          },
          "size": 2,
          "symbol": "circle"
         },
         "mode": "markers",
         "name": "y80",
         "showlegend": true,
         "text": [
          null,
          null
         ],
         "type": "scatter3d",
         "x": [
          -1.9004800443283079,
          -1.9004800443283079
         ],
         "xaxis": "x1",
         "y": [
          3.8009600886566157,
          3.8009600886566157
         ],
         "yaxis": "y1",
         "z": [
          1.9004800443283079,
          1.9004800443283079
         ],
         "zmax": 0.1,
         "zmin": -0.1
        },
        {
         "colorbar": {
          "title": ""
         },
         "hoverinfo": "text",
         "legendgroup": "y81",
         "marker": {
          "color": "rgba(0, 0, 0, 1.000)",
          "line": {
           "color": "rgba(0, 0, 0, 1.000)",
           "width": 1
          },
          "size": 2,
          "symbol": "circle"
         },
         "mode": "markers",
         "name": "y81",
         "showlegend": true,
         "text": [
          null,
          null
         ],
         "type": "scatter3d",
         "x": [
          -1.8450343219595038,
          -1.8450343219595038
         ],
         "xaxis": "x1",
         "y": [
          3.6900686439190076,
          3.6900686439190076
         ],
         "yaxis": "y1",
         "z": [
          1.8450343219595038,
          1.8450343219595038
         ],
         "zmax": 0.1,
         "zmin": -0.1
        },
        {
         "colorbar": {
          "title": ""
         },
         "hoverinfo": "text",
         "legendgroup": "y82",
         "marker": {
          "color": "rgba(0, 0, 0, 1.000)",
          "line": {
           "color": "rgba(0, 0, 0, 1.000)",
           "width": 1
          },
          "size": 2,
          "symbol": "circle"
         },
         "mode": "markers",
         "name": "y82",
         "showlegend": true,
         "text": [
          null,
          null
         ],
         "type": "scatter3d",
         "x": [
          -0.41998721079566925,
          -0.41998721079566925
         ],
         "xaxis": "x1",
         "y": [
          0.8399744215913385,
          0.8399744215913385
         ],
         "yaxis": "y1",
         "z": [
          0.41998721079566925,
          0.41998721079566925
         ],
         "zmax": 0.1,
         "zmin": -0.1
        },
        {
         "colorbar": {
          "title": ""
         },
         "hoverinfo": "text",
         "legendgroup": "y83",
         "marker": {
          "color": "rgba(0, 0, 0, 1.000)",
          "line": {
           "color": "rgba(0, 0, 0, 1.000)",
           "width": 1
          },
          "size": 2,
          "symbol": "circle"
         },
         "mode": "markers",
         "name": "y83",
         "showlegend": true,
         "text": [
          null,
          null
         ],
         "type": "scatter3d",
         "x": [
          -3.387359893762702,
          -3.387359893762702
         ],
         "xaxis": "x1",
         "y": [
          6.774719787525404,
          6.774719787525404
         ],
         "yaxis": "y1",
         "z": [
          3.387359893762702,
          3.387359893762702
         ],
         "zmax": 0.1,
         "zmin": -0.1
        },
        {
         "colorbar": {
          "title": ""
         },
         "hoverinfo": "text",
         "legendgroup": "y84",
         "marker": {
          "color": "rgba(0, 0, 0, 1.000)",
          "line": {
           "color": "rgba(0, 0, 0, 1.000)",
           "width": 1
          },
          "size": 2,
          "symbol": "circle"
         },
         "mode": "markers",
         "name": "y84",
         "showlegend": true,
         "text": [
          null,
          null
         ],
         "type": "scatter3d",
         "x": [
          0.8302156000728367,
          0.8302156000728367
         ],
         "xaxis": "x1",
         "y": [
          -1.6604312001456734,
          -1.6604312001456734
         ],
         "yaxis": "y1",
         "z": [
          -0.8302156000728367,
          -0.8302156000728367
         ],
         "zmax": 0.1,
         "zmin": -0.1
        },
        {
         "colorbar": {
          "title": ""
         },
         "hoverinfo": "text",
         "legendgroup": "y85",
         "marker": {
          "color": "rgba(0, 0, 0, 1.000)",
          "line": {
           "color": "rgba(0, 0, 0, 1.000)",
           "width": 1
          },
          "size": 2,
          "symbol": "circle"
         },
         "mode": "markers",
         "name": "y85",
         "showlegend": true,
         "text": [
          null,
          null
         ],
         "type": "scatter3d",
         "x": [
          0.626032879434046,
          0.626032879434046
         ],
         "xaxis": "x1",
         "y": [
          -1.252065758868092,
          -1.252065758868092
         ],
         "yaxis": "y1",
         "z": [
          -0.626032879434046,
          -0.626032879434046
         ],
         "zmax": 0.1,
         "zmin": -0.1
        },
        {
         "colorbar": {
          "title": ""
         },
         "hoverinfo": "text",
         "legendgroup": "y86",
         "marker": {
          "color": "rgba(0, 0, 0, 1.000)",
          "line": {
           "color": "rgba(0, 0, 0, 1.000)",
           "width": 1
          },
          "size": 2,
          "symbol": "circle"
         },
         "mode": "markers",
         "name": "y86",
         "showlegend": true,
         "text": [
          null,
          null
         ],
         "type": "scatter3d",
         "x": [
          -1.9117539786399291,
          -1.9117539786399291
         ],
         "xaxis": "x1",
         "y": [
          3.8235079572798583,
          3.8235079572798583
         ],
         "yaxis": "y1",
         "z": [
          1.9117539786399291,
          1.9117539786399291
         ],
         "zmax": 0.1,
         "zmin": -0.1
        },
        {
         "colorbar": {
          "title": ""
         },
         "hoverinfo": "text",
         "legendgroup": "y87",
         "marker": {
          "color": "rgba(0, 0, 0, 1.000)",
          "line": {
           "color": "rgba(0, 0, 0, 1.000)",
           "width": 1
          },
          "size": 2,
          "symbol": "circle"
         },
         "mode": "markers",
         "name": "y87",
         "showlegend": true,
         "text": [
          null,
          null
         ],
         "type": "scatter3d",
         "x": [
          0.5357995450515041,
          0.5357995450515041
         ],
         "xaxis": "x1",
         "y": [
          -1.0715990901030081,
          -1.0715990901030081
         ],
         "yaxis": "y1",
         "z": [
          -0.5357995450515041,
          -0.5357995450515041
         ],
         "zmax": 0.1,
         "zmin": -0.1
        },
        {
         "colorbar": {
          "title": ""
         },
         "hoverinfo": "text",
         "legendgroup": "y88",
         "marker": {
          "color": "rgba(0, 0, 0, 1.000)",
          "line": {
           "color": "rgba(0, 0, 0, 1.000)",
           "width": 1
          },
          "size": 2,
          "symbol": "circle"
         },
         "mode": "markers",
         "name": "y88",
         "showlegend": true,
         "text": [
          null,
          null
         ],
         "type": "scatter3d",
         "x": [
          0,
          0
         ],
         "xaxis": "x1",
         "y": [
          0,
          0
         ],
         "yaxis": "y1",
         "z": [
          0,
          0
         ],
         "zmax": 0.1,
         "zmin": -0.1
        },
        {
         "colorbar": {
          "title": ""
         },
         "hoverinfo": "text",
         "legendgroup": "y89",
         "marker": {
          "color": "rgba(0, 0, 0, 1.000)",
          "line": {
           "color": "rgba(0, 0, 0, 1.000)",
           "width": 1
          },
          "size": 2,
          "symbol": "circle"
         },
         "mode": "markers",
         "name": "y89",
         "showlegend": true,
         "text": [
          null,
          null
         ],
         "type": "scatter3d",
         "x": [
          -6.0641587607893666,
          -6.0641587607893666
         ],
         "xaxis": "x1",
         "y": [
          12.128317521578733,
          12.128317521578733
         ],
         "yaxis": "y1",
         "z": [
          6.0641587607893666,
          6.0641587607893666
         ],
         "zmax": 0.1,
         "zmin": -0.1
        },
        {
         "colorbar": {
          "title": ""
         },
         "hoverinfo": "text",
         "legendgroup": "y90",
         "marker": {
          "color": "rgba(0, 0, 0, 1.000)",
          "line": {
           "color": "rgba(0, 0, 0, 1.000)",
           "width": 1
          },
          "size": 2,
          "symbol": "circle"
         },
         "mode": "markers",
         "name": "y90",
         "showlegend": true,
         "text": [
          null,
          null
         ],
         "type": "scatter3d",
         "x": [
          0,
          0
         ],
         "xaxis": "x1",
         "y": [
          0,
          0
         ],
         "yaxis": "y1",
         "z": [
          0,
          0
         ],
         "zmax": 0.1,
         "zmin": -0.1
        },
        {
         "colorbar": {
          "title": ""
         },
         "hoverinfo": "text",
         "legendgroup": "y91",
         "marker": {
          "color": "rgba(0, 0, 0, 1.000)",
          "line": {
           "color": "rgba(0, 0, 0, 1.000)",
           "width": 1
          },
          "size": 2,
          "symbol": "circle"
         },
         "mode": "markers",
         "name": "y91",
         "showlegend": true,
         "text": [
          null,
          null
         ],
         "type": "scatter3d",
         "x": [
          0.8543840041024486,
          0.8543840041024486
         ],
         "xaxis": "x1",
         "y": [
          -1.7087680082048973,
          -1.7087680082048973
         ],
         "yaxis": "y1",
         "z": [
          -0.8543840041024486,
          -0.8543840041024486
         ],
         "zmax": 0.1,
         "zmin": -0.1
        },
        {
         "colorbar": {
          "title": ""
         },
         "hoverinfo": "text",
         "legendgroup": "y92",
         "marker": {
          "color": "rgba(0, 0, 0, 1.000)",
          "line": {
           "color": "rgba(0, 0, 0, 1.000)",
           "width": 1
          },
          "size": 2,
          "symbol": "circle"
         },
         "mode": "markers",
         "name": "y92",
         "showlegend": true,
         "text": [
          null,
          null
         ],
         "type": "scatter3d",
         "x": [
          3.7806595502817175,
          3.7806595502817175
         ],
         "xaxis": "x1",
         "y": [
          -7.561319100563435,
          -7.561319100563435
         ],
         "yaxis": "y1",
         "z": [
          -3.7806595502817175,
          -3.7806595502817175
         ],
         "zmax": 0.1,
         "zmin": -0.1
        },
        {
         "colorbar": {
          "title": ""
         },
         "hoverinfo": "text",
         "legendgroup": "y93",
         "marker": {
          "color": "rgba(0, 0, 0, 1.000)",
          "line": {
           "color": "rgba(0, 0, 0, 1.000)",
           "width": 1
          },
          "size": 2,
          "symbol": "circle"
         },
         "mode": "markers",
         "name": "y93",
         "showlegend": true,
         "text": [
          null,
          null
         ],
         "type": "scatter3d",
         "x": [
          -2.8681995746525413,
          -2.8681995746525413
         ],
         "xaxis": "x1",
         "y": [
          5.7363991493050825,
          5.7363991493050825
         ],
         "yaxis": "y1",
         "z": [
          2.8681995746525413,
          2.8681995746525413
         ],
         "zmax": 0.1,
         "zmin": -0.1
        },
        {
         "colorbar": {
          "title": ""
         },
         "hoverinfo": "text",
         "legendgroup": "y94",
         "marker": {
          "color": "rgba(0, 0, 0, 1.000)",
          "line": {
           "color": "rgba(0, 0, 0, 1.000)",
           "width": 1
          },
          "size": 2,
          "symbol": "circle"
         },
         "mode": "markers",
         "name": "y94",
         "showlegend": true,
         "text": [
          null,
          null
         ],
         "type": "scatter3d",
         "x": [
          -0.2479806210097315,
          -0.2479806210097315
         ],
         "xaxis": "x1",
         "y": [
          0.495961242019463,
          0.495961242019463
         ],
         "yaxis": "y1",
         "z": [
          0.2479806210097315,
          0.2479806210097315
         ],
         "zmax": 0.1,
         "zmin": -0.1
        },
        {
         "colorbar": {
          "title": ""
         },
         "hoverinfo": "text",
         "legendgroup": "y95",
         "marker": {
          "color": "rgba(0, 0, 0, 1.000)",
          "line": {
           "color": "rgba(0, 0, 0, 1.000)",
           "width": 1
          },
          "size": 2,
          "symbol": "circle"
         },
         "mode": "markers",
         "name": "y95",
         "showlegend": true,
         "text": [
          null,
          null
         ],
         "type": "scatter3d",
         "x": [
          -0.6307617381342372,
          -0.6307617381342372
         ],
         "xaxis": "x1",
         "y": [
          1.2615234762684744,
          1.2615234762684744
         ],
         "yaxis": "y1",
         "z": [
          0.6307617381342372,
          0.6307617381342372
         ],
         "zmax": 0.1,
         "zmin": -0.1
        },
        {
         "colorbar": {
          "title": ""
         },
         "hoverinfo": "text",
         "legendgroup": "y96",
         "marker": {
          "color": "rgba(0, 0, 0, 1.000)",
          "line": {
           "color": "rgba(0, 0, 0, 1.000)",
           "width": 1
          },
          "size": 2,
          "symbol": "circle"
         },
         "mode": "markers",
         "name": "y96",
         "showlegend": true,
         "text": [
          null,
          null
         ],
         "type": "scatter3d",
         "x": [
          0.011219635707452102,
          0.011219635707452102
         ],
         "xaxis": "x1",
         "y": [
          -0.022439271414904205,
          -0.022439271414904205
         ],
         "yaxis": "y1",
         "z": [
          -0.011219635707452102,
          -0.011219635707452102
         ],
         "zmax": 0.1,
         "zmin": -0.1
        },
        {
         "colorbar": {
          "title": ""
         },
         "hoverinfo": "text",
         "legendgroup": "y97",
         "marker": {
          "color": "rgba(0, 0, 0, 1.000)",
          "line": {
           "color": "rgba(0, 0, 0, 1.000)",
           "width": 1
          },
          "size": 2,
          "symbol": "circle"
         },
         "mode": "markers",
         "name": "y97",
         "showlegend": true,
         "text": [
          null,
          null
         ],
         "type": "scatter3d",
         "x": [
          -1.248777769190748,
          -1.248777769190748
         ],
         "xaxis": "x1",
         "y": [
          2.497555538381496,
          2.497555538381496
         ],
         "yaxis": "y1",
         "z": [
          1.248777769190748,
          1.248777769190748
         ],
         "zmax": 0.1,
         "zmin": -0.1
        },
        {
         "colorbar": {
          "title": ""
         },
         "hoverinfo": "text",
         "legendgroup": "y98",
         "marker": {
          "color": "rgba(0, 0, 0, 1.000)",
          "line": {
           "color": "rgba(0, 0, 0, 1.000)",
           "width": 1
          },
          "size": 2,
          "symbol": "circle"
         },
         "mode": "markers",
         "name": "y98",
         "showlegend": true,
         "text": [
          null,
          null
         ],
         "type": "scatter3d",
         "x": [
          -0.9516680795310137,
          -0.9516680795310137
         ],
         "xaxis": "x1",
         "y": [
          1.9033361590620275,
          1.9033361590620275
         ],
         "yaxis": "y1",
         "z": [
          0.9516680795310137,
          0.9516680795310137
         ],
         "zmax": 0.1,
         "zmin": -0.1
        },
        {
         "colorbar": {
          "title": ""
         },
         "hoverinfo": "text",
         "legendgroup": "y99",
         "marker": {
          "color": "rgba(0, 0, 0, 1.000)",
          "line": {
           "color": "rgba(0, 0, 0, 1.000)",
           "width": 1
          },
          "size": 2,
          "symbol": "circle"
         },
         "mode": "markers",
         "name": "y99",
         "showlegend": true,
         "text": [
          null,
          null
         ],
         "type": "scatter3d",
         "x": [
          -0.611228613105832,
          -0.611228613105832
         ],
         "xaxis": "x1",
         "y": [
          1.222457226211664,
          1.222457226211664
         ],
         "yaxis": "y1",
         "z": [
          0.611228613105832,
          0.611228613105832
         ],
         "zmax": 0.1,
         "zmin": -0.1
        },
        {
         "colorbar": {
          "title": ""
         },
         "hoverinfo": "text",
         "legendgroup": "y100",
         "marker": {
          "color": "rgba(0, 0, 0, 1.000)",
          "line": {
           "color": "rgba(0, 0, 0, 1.000)",
           "width": 1
          },
          "size": 2,
          "symbol": "circle"
         },
         "mode": "markers",
         "name": "y100",
         "showlegend": true,
         "text": [
          null,
          null
         ],
         "type": "scatter3d",
         "x": [
          -2.136745750734949,
          -2.136745750734949
         ],
         "xaxis": "x1",
         "y": [
          4.273491501469898,
          4.273491501469898
         ],
         "yaxis": "y1",
         "z": [
          2.136745750734949,
          2.136745750734949
         ],
         "zmax": 0.1,
         "zmin": -0.1
        },
        {
         "colorbar": {
          "title": ""
         },
         "hoverinfo": "text",
         "legendgroup": "+z",
         "line": {
          "color": "rgba(0, 0, 0, 1.000)",
          "dash": "solid",
          "shape": "linear",
          "width": 2
         },
         "mode": "lines",
         "name": "+z",
         "showlegend": true,
         "text": [
          null,
          null
         ],
         "type": "scatter3d",
         "x": [
          0,
          0
         ],
         "xaxis": "x1",
         "y": [
          0,
          0
         ],
         "yaxis": "y1",
         "z": [
          0,
          20
         ],
         "zmax": 0.1,
         "zmin": -0.1
        },
        {
         "colorbar": {
          "title": ""
         },
         "hoverinfo": "text",
         "legendgroup": "-z",
         "line": {
          "color": "rgba(128, 128, 128, 1.000)",
          "dash": "solid",
          "shape": "linear",
          "width": 1
         },
         "mode": "lines",
         "name": "-z",
         "showlegend": true,
         "text": [
          null,
          null
         ],
         "type": "scatter3d",
         "x": [
          0,
          0
         ],
         "xaxis": "x1",
         "y": [
          0,
          0
         ],
         "yaxis": "y1",
         "z": [
          0,
          -20
         ],
         "zmax": 0.1,
         "zmin": -0.1
        },
        {
         "colorbar": {
          "title": ""
         },
         "hoverinfo": "text",
         "legendgroup": "+y",
         "line": {
          "color": "rgba(0, 0, 0, 1.000)",
          "dash": "solid",
          "shape": "linear",
          "width": 3
         },
         "mode": "lines",
         "name": "+y",
         "showlegend": true,
         "text": [
          null,
          null
         ],
         "type": "scatter3d",
         "x": [
          0,
          0
         ],
         "xaxis": "x1",
         "y": [
          0,
          20
         ],
         "yaxis": "y1",
         "z": [
          0,
          0
         ],
         "zmax": 0.1,
         "zmin": -0.1
        },
        {
         "colorbar": {
          "title": ""
         },
         "hoverinfo": "text",
         "legendgroup": "-y",
         "line": {
          "color": "rgba(128, 128, 128, 1.000)",
          "dash": "solid",
          "shape": "linear",
          "width": 2
         },
         "mode": "lines",
         "name": "-y",
         "showlegend": true,
         "text": [
          null,
          null
         ],
         "type": "scatter3d",
         "x": [
          0,
          0
         ],
         "xaxis": "x1",
         "y": [
          0,
          -20
         ],
         "yaxis": "y1",
         "z": [
          0,
          0
         ],
         "zmax": 0.1,
         "zmin": -0.1
        },
        {
         "colorbar": {
          "title": ""
         },
         "hoverinfo": "text",
         "legendgroup": "+x",
         "line": {
          "color": "rgba(0, 0, 0, 1.000)",
          "dash": "solid",
          "shape": "linear",
          "width": 3
         },
         "mode": "lines",
         "name": "+x",
         "showlegend": true,
         "text": [
          null,
          null
         ],
         "type": "scatter3d",
         "x": [
          0,
          20
         ],
         "xaxis": "x1",
         "y": [
          0,
          0
         ],
         "yaxis": "y1",
         "z": [
          0,
          0
         ],
         "zmax": 0.1,
         "zmin": -0.1
        },
        {
         "colorbar": {
          "title": ""
         },
         "hoverinfo": "text",
         "legendgroup": "-x",
         "line": {
          "color": "rgba(128, 128, 128, 1.000)",
          "dash": "solid",
          "shape": "linear",
          "width": 2
         },
         "mode": "lines",
         "name": "-x",
         "showlegend": true,
         "text": [
          null,
          null
         ],
         "type": "scatter3d",
         "x": [
          0,
          -20
         ],
         "xaxis": "x1",
         "y": [
          0,
          0
         ],
         "yaxis": "y1",
         "z": [
          0,
          0
         ],
         "zmax": 0.1,
         "zmin": -0.1
        }
       ],
       "layout": {
        "annotations": [
         {
          "font": {
           "color": "rgba(0, 0, 0, 1.000)",
           "family": "sans-serif",
           "size": 20
          },
          "rotation": 0,
          "showarrow": false,
          "text": "Example 3: Span{p}",
          "x": 0.5222222222222223,
          "xanchor": "center",
          "xref": "paper",
          "y": 1,
          "yanchor": "top",
          "yref": "paper"
         }
        ],
        "height": 400,
        "margin": {
         "b": 20,
         "l": 0,
         "r": 0,
         "t": 20
        },
        "paper_bgcolor": "rgba(255, 255, 255, 1.000)",
        "plot_bgcolor": "rgba(255, 255, 255, 1.000)",
        "scene": {
         "camera": {
          "eye": {
           "x": 1.12583302491977,
           "y": -1.9499999999999997,
           "z": 1.3
          }
         },
         "xaxis": {
          "anchor": "y1",
          "domain": [
           0.05100612423447069,
           0.9934383202099737
          ],
          "gridcolor": "rgba(0, 0, 0, 0.100)",
          "gridwidth": 0.5,
          "linecolor": "rgba(0, 0, 0, 1.000)",
          "mirror": false,
          "range": [
           -15.9,
           15.9
          ],
          "showgrid": true,
          "showline": true,
          "showticklabels": true,
          "tickangle": 0,
          "tickcolor": "rgb(0, 0, 0)",
          "tickfont": {
           "color": "rgba(0, 0, 0, 1.000)",
           "family": "sans-serif",
           "size": 11
          },
          "tickmode": "array",
          "ticks": "inside",
          "ticktext": [
           "-15",
           "-10",
           "-5",
           "0",
           "5",
           "10",
           "15"
          ],
          "tickvals": [
           -15,
           -10,
           -5,
           0,
           5,
           10,
           15
          ],
          "title": "",
          "titlefont": {
           "color": "rgba(0, 0, 0, 1.000)",
           "family": "sans-serif",
           "size": 15
          },
          "type": "-",
          "visible": true,
          "zeroline": false,
          "zerolinecolor": "rgba(0, 0, 0, 1.000)"
         },
         "yaxis": {
          "anchor": "x1",
          "domain": [
           0.03762029746281716,
           0.9415463692038496
          ],
          "gridcolor": "rgba(0, 0, 0, 0.100)",
          "gridwidth": 0.5,
          "linecolor": "rgba(0, 0, 0, 1.000)",
          "mirror": false,
          "range": [
           -15.9,
           15.9
          ],
          "showgrid": true,
          "showline": true,
          "showticklabels": true,
          "tickangle": 0,
          "tickcolor": "rgb(0, 0, 0)",
          "tickfont": {
           "color": "rgba(0, 0, 0, 1.000)",
           "family": "sans-serif",
           "size": 11
          },
          "tickmode": "array",
          "ticks": "inside",
          "ticktext": [
           "-15",
           "-10",
           "-5",
           "0",
           "5",
           "10",
           "15"
          ],
          "tickvals": [
           -15,
           -10,
           -5,
           0,
           5,
           10,
           15
          ],
          "title": "",
          "titlefont": {
           "color": "rgba(0, 0, 0, 1.000)",
           "family": "sans-serif",
           "size": 15
          },
          "type": "-",
          "visible": true,
          "zeroline": false,
          "zerolinecolor": "rgba(0, 0, 0, 1.000)"
         },
         "zaxis": {
          "gridcolor": "rgba(0, 0, 0, 0.100)",
          "gridwidth": 0.5,
          "linecolor": "rgba(0, 0, 0, 1.000)",
          "mirror": false,
          "range": [
           -15.9,
           15.9
          ],
          "showgrid": true,
          "showline": true,
          "showticklabels": true,
          "tickangle": 0,
          "tickcolor": "rgb(0, 0, 0)",
          "tickfont": {
           "color": "rgba(0, 0, 0, 1.000)",
           "family": "sans-serif",
           "size": 11
          },
          "tickmode": "array",
          "ticks": "inside",
          "ticktext": [
           "-15",
           "-10",
           "-5",
           "0",
           "5",
           "10",
           "15"
          ],
          "tickvals": [
           -15,
           -10,
           -5,
           0,
           5,
           10,
           15
          ],
          "title": "",
          "titlefont": {
           "color": "rgba(0, 0, 0, 1.000)",
           "family": "sans-serif",
           "size": 15
          },
          "type": "-",
          "visible": true,
          "zeroline": false,
          "zerolinecolor": "rgba(0, 0, 0, 1.000)"
         }
        },
        "showlegend": false,
        "width": 600
       }
      },
      "text/html": [
       "    <div id=\"5fc6d05e-99ce-43c2-a009-b65e73b90643\" style=\"width:600px;height:400px;\"></div>\n",
       "    <script>\n",
       "    PLOT = document.getElementById('5fc6d05e-99ce-43c2-a009-b65e73b90643');\n",
       "    Plotly.plot(PLOT, [{\"xaxis\":\"x1\",\"colorbar\":{\"title\":\"\"},\"yaxis\":\"y1\",\"text\":[null,null],\"x\":[-0.7831146095782109,-0.7831146095782109],\"showlegend\":true,\"mode\":\"markers\",\"name\":\"y1\",\"zmin\":-0.1,\"legendgroup\":\"y1\",\"z\":[0.7831146095782109,0.7831146095782109],\"marker\":{\"symbol\":\"circle\",\"color\":\"rgba(0, 0, 0, 1.000)\",\"line\":{\"color\":\"rgba(0, 0, 0, 1.000)\",\"width\":1},\"size\":2},\"zmax\":0.1,\"y\":[1.5662292191564218,1.5662292191564218],\"type\":\"scatter3d\",\"hoverinfo\":\"text\"},{\"xaxis\":\"x1\",\"colorbar\":{\"title\":\"\"},\"yaxis\":\"y1\",\"text\":[null,null],\"x\":[1.8378118828003371,1.8378118828003371],\"showlegend\":true,\"mode\":\"markers\",\"name\":\"y2\",\"zmin\":-0.1,\"legendgroup\":\"y2\",\"z\":[-1.8378118828003371,-1.8378118828003371],\"marker\":{\"symbol\":\"circle\",\"color\":\"rgba(0, 0, 0, 1.000)\",\"line\":{\"color\":\"rgba(0, 0, 0, 1.000)\",\"width\":1},\"size\":2},\"zmax\":0.1,\"y\":[-3.6756237656006743,-3.6756237656006743],\"type\":\"scatter3d\",\"hoverinfo\":\"text\"},{\"xaxis\":\"x1\",\"colorbar\":{\"title\":\"\"},\"yaxis\":\"y1\",\"text\":[null,null],\"x\":[7.025287824278584,7.025287824278584],\"showlegend\":true,\"mode\":\"markers\",\"name\":\"y3\",\"zmin\":-0.1,\"legendgroup\":\"y3\",\"z\":[-7.025287824278584,-7.025287824278584],\"marker\":{\"symbol\":\"circle\",\"color\":\"rgba(0, 0, 0, 1.000)\",\"line\":{\"color\":\"rgba(0, 0, 0, 1.000)\",\"width\":1},\"size\":2},\"zmax\":0.1,\"y\":[-14.050575648557167,-14.050575648557167],\"type\":\"scatter3d\",\"hoverinfo\":\"text\"},{\"xaxis\":\"x1\",\"colorbar\":{\"title\":\"\"},\"yaxis\":\"y1\",\"text\":[null,null],\"x\":[1.2637469063678761,1.2637469063678761],\"showlegend\":true,\"mode\":\"markers\",\"name\":\"y4\",\"zmin\":-0.1,\"legendgroup\":\"y4\",\"z\":[-1.2637469063678761,-1.2637469063678761],\"marker\":{\"symbol\":\"circle\",\"color\":\"rgba(0, 0, 0, 1.000)\",\"line\":{\"color\":\"rgba(0, 0, 0, 1.000)\",\"width\":1},\"size\":2},\"zmax\":0.1,\"y\":[-2.5274938127357522,-2.5274938127357522],\"type\":\"scatter3d\",\"hoverinfo\":\"text\"},{\"xaxis\":\"x1\",\"colorbar\":{\"title\":\"\"},\"yaxis\":\"y1\",\"text\":[null,null],\"x\":[4.61765450693863,4.61765450693863],\"showlegend\":true,\"mode\":\"markers\",\"name\":\"y5\",\"zmin\":-0.1,\"legendgroup\":\"y5\",\"z\":[-4.61765450693863,-4.61765450693863],\"marker\":{\"symbol\":\"circle\",\"color\":\"rgba(0, 0, 0, 1.000)\",\"line\":{\"color\":\"rgba(0, 0, 0, 1.000)\",\"width\":1},\"size\":2},\"zmax\":0.1,\"y\":[-9.23530901387726,-9.23530901387726],\"type\":\"scatter3d\",\"hoverinfo\":\"text\"},{\"xaxis\":\"x1\",\"colorbar\":{\"title\":\"\"},\"yaxis\":\"y1\",\"text\":[null,null],\"x\":[2.4912649992435787,2.4912649992435787],\"showlegend\":true,\"mode\":\"markers\",\"name\":\"y6\",\"zmin\":-0.1,\"legendgroup\":\"y6\",\"z\":[-2.4912649992435787,-2.4912649992435787],\"marker\":{\"symbol\":\"circle\",\"color\":\"rgba(0, 0, 0, 1.000)\",\"line\":{\"color\":\"rgba(0, 0, 0, 1.000)\",\"width\":1},\"size\":2},\"zmax\":0.1,\"y\":[-4.982529998487157,-4.982529998487157],\"type\":\"scatter3d\",\"hoverinfo\":\"text\"},{\"xaxis\":\"x1\",\"colorbar\":{\"title\":\"\"},\"yaxis\":\"y1\",\"text\":[null,null],\"x\":[-2.5396030535020486,-2.5396030535020486],\"showlegend\":true,\"mode\":\"markers\",\"name\":\"y7\",\"zmin\":-0.1,\"legendgroup\":\"y7\",\"z\":[2.5396030535020486,2.5396030535020486],\"marker\":{\"symbol\":\"circle\",\"color\":\"rgba(0, 0, 0, 1.000)\",\"line\":{\"color\":\"rgba(0, 0, 0, 1.000)\",\"width\":1},\"size\":2},\"zmax\":0.1,\"y\":[5.079206107004097,5.079206107004097],\"type\":\"scatter3d\",\"hoverinfo\":\"text\"},{\"xaxis\":\"x1\",\"colorbar\":{\"title\":\"\"},\"yaxis\":\"y1\",\"text\":[null,null],\"x\":[-6.594909849744976,-6.594909849744976],\"showlegend\":true,\"mode\":\"markers\",\"name\":\"y8\",\"zmin\":-0.1,\"legendgroup\":\"y8\",\"z\":[6.594909849744976,6.594909849744976],\"marker\":{\"symbol\":\"circle\",\"color\":\"rgba(0, 0, 0, 1.000)\",\"line\":{\"color\":\"rgba(0, 0, 0, 1.000)\",\"width\":1},\"size\":2},\"zmax\":0.1,\"y\":[13.189819699489952,13.189819699489952],\"type\":\"scatter3d\",\"hoverinfo\":\"text\"},{\"xaxis\":\"x1\",\"colorbar\":{\"title\":\"\"},\"yaxis\":\"y1\",\"text\":[null,null],\"x\":[3.4150569468077476,3.4150569468077476],\"showlegend\":true,\"mode\":\"markers\",\"name\":\"y9\",\"zmin\":-0.1,\"legendgroup\":\"y9\",\"z\":[-3.4150569468077476,-3.4150569468077476],\"marker\":{\"symbol\":\"circle\",\"color\":\"rgba(0, 0, 0, 1.000)\",\"line\":{\"color\":\"rgba(0, 0, 0, 1.000)\",\"width\":1},\"size\":2},\"zmax\":0.1,\"y\":[-6.830113893615495,-6.830113893615495],\"type\":\"scatter3d\",\"hoverinfo\":\"text\"},{\"xaxis\":\"x1\",\"colorbar\":{\"title\":\"\"},\"yaxis\":\"y1\",\"text\":[null,null],\"x\":[1.8012004034588591,1.8012004034588591],\"showlegend\":true,\"mode\":\"markers\",\"name\":\"y10\",\"zmin\":-0.1,\"legendgroup\":\"y10\",\"z\":[-1.8012004034588591,-1.8012004034588591],\"marker\":{\"symbol\":\"circle\",\"color\":\"rgba(0, 0, 0, 1.000)\",\"line\":{\"color\":\"rgba(0, 0, 0, 1.000)\",\"width\":1},\"size\":2},\"zmax\":0.1,\"y\":[-3.6024008069177182,-3.6024008069177182],\"type\":\"scatter3d\",\"hoverinfo\":\"text\"},{\"xaxis\":\"x1\",\"colorbar\":{\"title\":\"\"},\"yaxis\":\"y1\",\"text\":[null,null],\"x\":[-6.536940980939578,-6.536940980939578],\"showlegend\":true,\"mode\":\"markers\",\"name\":\"y11\",\"zmin\":-0.1,\"legendgroup\":\"y11\",\"z\":[6.536940980939578,6.536940980939578],\"marker\":{\"symbol\":\"circle\",\"color\":\"rgba(0, 0, 0, 1.000)\",\"line\":{\"color\":\"rgba(0, 0, 0, 1.000)\",\"width\":1},\"size\":2},\"zmax\":0.1,\"y\":[13.073881961879156,13.073881961879156],\"type\":\"scatter3d\",\"hoverinfo\":\"text\"},{\"xaxis\":\"x1\",\"colorbar\":{\"title\":\"\"},\"yaxis\":\"y1\",\"text\":[null,null],\"x\":[-6.270402237208586,-6.270402237208586],\"showlegend\":true,\"mode\":\"markers\",\"name\":\"y12\",\"zmin\":-0.1,\"legendgroup\":\"y12\",\"z\":[6.270402237208586,6.270402237208586],\"marker\":{\"symbol\":\"circle\",\"color\":\"rgba(0, 0, 0, 1.000)\",\"line\":{\"color\":\"rgba(0, 0, 0, 1.000)\",\"width\":1},\"size\":2},\"zmax\":0.1,\"y\":[12.540804474417172,12.540804474417172],\"type\":\"scatter3d\",\"hoverinfo\":\"text\"},{\"xaxis\":\"x1\",\"colorbar\":{\"title\":\"\"},\"yaxis\":\"y1\",\"text\":[null,null],\"x\":[-4.715377480060798,-4.715377480060798],\"showlegend\":true,\"mode\":\"markers\",\"name\":\"y13\",\"zmin\":-0.1,\"legendgroup\":\"y13\",\"z\":[4.715377480060798,4.715377480060798],\"marker\":{\"symbol\":\"circle\",\"color\":\"rgba(0, 0, 0, 1.000)\",\"line\":{\"color\":\"rgba(0, 0, 0, 1.000)\",\"width\":1},\"size\":2},\"zmax\":0.1,\"y\":[9.430754960121597,9.430754960121597],\"type\":\"scatter3d\",\"hoverinfo\":\"text\"},{\"xaxis\":\"x1\",\"colorbar\":{\"title\":\"\"},\"yaxis\":\"y1\",\"text\":[null,null],\"x\":[0.5385596610085175,0.5385596610085175],\"showlegend\":true,\"mode\":\"markers\",\"name\":\"y14\",\"zmin\":-0.1,\"legendgroup\":\"y14\",\"z\":[-0.5385596610085175,-0.5385596610085175],\"marker\":{\"symbol\":\"circle\",\"color\":\"rgba(0, 0, 0, 1.000)\",\"line\":{\"color\":\"rgba(0, 0, 0, 1.000)\",\"width\":1},\"size\":2},\"zmax\":0.1,\"y\":[-1.077119322017035,-1.077119322017035],\"type\":\"scatter3d\",\"hoverinfo\":\"text\"},{\"xaxis\":\"x1\",\"colorbar\":{\"title\":\"\"},\"yaxis\":\"y1\",\"text\":[null,null],\"x\":[1.1550845581101252,1.1550845581101252],\"showlegend\":true,\"mode\":\"markers\",\"name\":\"y15\",\"zmin\":-0.1,\"legendgroup\":\"y15\",\"z\":[-1.1550845581101252,-1.1550845581101252],\"marker\":{\"symbol\":\"circle\",\"color\":\"rgba(0, 0, 0, 1.000)\",\"line\":{\"color\":\"rgba(0, 0, 0, 1.000)\",\"width\":1},\"size\":2},\"zmax\":0.1,\"y\":[-2.3101691162202505,-2.3101691162202505],\"type\":\"scatter3d\",\"hoverinfo\":\"text\"},{\"xaxis\":\"x1\",\"colorbar\":{\"title\":\"\"},\"yaxis\":\"y1\",\"text\":[null,null],\"x\":[2.062085920836505,2.062085920836505],\"showlegend\":true,\"mode\":\"markers\",\"name\":\"y16\",\"zmin\":-0.1,\"legendgroup\":\"y16\",\"z\":[-2.062085920836505,-2.062085920836505],\"marker\":{\"symbol\":\"circle\",\"color\":\"rgba(0, 0, 0, 1.000)\",\"line\":{\"color\":\"rgba(0, 0, 0, 1.000)\",\"width\":1},\"size\":2},\"zmax\":0.1,\"y\":[-4.12417184167301,-4.12417184167301],\"type\":\"scatter3d\",\"hoverinfo\":\"text\"},{\"xaxis\":\"x1\",\"colorbar\":{\"title\":\"\"},\"yaxis\":\"y1\",\"text\":[null,null],\"x\":[-0.4580982584138038,-0.4580982584138038],\"showlegend\":true,\"mode\":\"markers\",\"name\":\"y17\",\"zmin\":-0.1,\"legendgroup\":\"y17\",\"z\":[0.4580982584138038,0.4580982584138038],\"marker\":{\"symbol\":\"circle\",\"color\":\"rgba(0, 0, 0, 1.000)\",\"line\":{\"color\":\"rgba(0, 0, 0, 1.000)\",\"width\":1},\"size\":2},\"zmax\":0.1,\"y\":[0.9161965168276076,0.9161965168276076],\"type\":\"scatter3d\",\"hoverinfo\":\"text\"},{\"xaxis\":\"x1\",\"colorbar\":{\"title\":\"\"},\"yaxis\":\"y1\",\"text\":[null,null],\"x\":[4.120795277809252,4.120795277809252],\"showlegend\":true,\"mode\":\"markers\",\"name\":\"y18\",\"zmin\":-0.1,\"legendgroup\":\"y18\",\"z\":[-4.120795277809252,-4.120795277809252],\"marker\":{\"symbol\":\"circle\",\"color\":\"rgba(0, 0, 0, 1.000)\",\"line\":{\"color\":\"rgba(0, 0, 0, 1.000)\",\"width\":1},\"size\":2},\"zmax\":0.1,\"y\":[-8.241590555618505,-8.241590555618505],\"type\":\"scatter3d\",\"hoverinfo\":\"text\"},{\"xaxis\":\"x1\",\"colorbar\":{\"title\":\"\"},\"yaxis\":\"y1\",\"text\":[null,null],\"x\":[-2.510234612198622,-2.510234612198622],\"showlegend\":true,\"mode\":\"markers\",\"name\":\"y19\",\"zmin\":-0.1,\"legendgroup\":\"y19\",\"z\":[2.510234612198622,2.510234612198622],\"marker\":{\"symbol\":\"circle\",\"color\":\"rgba(0, 0, 0, 1.000)\",\"line\":{\"color\":\"rgba(0, 0, 0, 1.000)\",\"width\":1},\"size\":2},\"zmax\":0.1,\"y\":[5.020469224397244,5.020469224397244],\"type\":\"scatter3d\",\"hoverinfo\":\"text\"},{\"xaxis\":\"x1\",\"colorbar\":{\"title\":\"\"},\"yaxis\":\"y1\",\"text\":[null,null],\"x\":[4.7786933389104504,4.7786933389104504],\"showlegend\":true,\"mode\":\"markers\",\"name\":\"y20\",\"zmin\":-0.1,\"legendgroup\":\"y20\",\"z\":[-4.7786933389104504,-4.7786933389104504],\"marker\":{\"symbol\":\"circle\",\"color\":\"rgba(0, 0, 0, 1.000)\",\"line\":{\"color\":\"rgba(0, 0, 0, 1.000)\",\"width\":1},\"size\":2},\"zmax\":0.1,\"y\":[-9.557386677820901,-9.557386677820901],\"type\":\"scatter3d\",\"hoverinfo\":\"text\"},{\"xaxis\":\"x1\",\"colorbar\":{\"title\":\"\"},\"yaxis\":\"y1\",\"text\":[null,null],\"x\":[6.104645517213023,6.104645517213023],\"showlegend\":true,\"mode\":\"markers\",\"name\":\"y21\",\"zmin\":-0.1,\"legendgroup\":\"y21\",\"z\":[-6.104645517213023,-6.104645517213023],\"marker\":{\"symbol\":\"circle\",\"color\":\"rgba(0, 0, 0, 1.000)\",\"line\":{\"color\":\"rgba(0, 0, 0, 1.000)\",\"width\":1},\"size\":2},\"zmax\":0.1,\"y\":[-12.209291034426046,-12.209291034426046],\"type\":\"scatter3d\",\"hoverinfo\":\"text\"},{\"xaxis\":\"x1\",\"colorbar\":{\"title\":\"\"},\"yaxis\":\"y1\",\"text\":[null,null],\"x\":[4.966695662992035,4.966695662992035],\"showlegend\":true,\"mode\":\"markers\",\"name\":\"y22\",\"zmin\":-0.1,\"legendgroup\":\"y22\",\"z\":[-4.966695662992035,-4.966695662992035],\"marker\":{\"symbol\":\"circle\",\"color\":\"rgba(0, 0, 0, 1.000)\",\"line\":{\"color\":\"rgba(0, 0, 0, 1.000)\",\"width\":1},\"size\":2},\"zmax\":0.1,\"y\":[-9.93339132598407,-9.93339132598407],\"type\":\"scatter3d\",\"hoverinfo\":\"text\"},{\"xaxis\":\"x1\",\"colorbar\":{\"title\":\"\"},\"yaxis\":\"y1\",\"text\":[null,null],\"x\":[-3.390423782834204,-3.390423782834204],\"showlegend\":true,\"mode\":\"markers\",\"name\":\"y23\",\"zmin\":-0.1,\"legendgroup\":\"y23\",\"z\":[3.390423782834204,3.390423782834204],\"marker\":{\"symbol\":\"circle\",\"color\":\"rgba(0, 0, 0, 1.000)\",\"line\":{\"color\":\"rgba(0, 0, 0, 1.000)\",\"width\":1},\"size\":2},\"zmax\":0.1,\"y\":[6.780847565668408,6.780847565668408],\"type\":\"scatter3d\",\"hoverinfo\":\"text\"},{\"xaxis\":\"x1\",\"colorbar\":{\"title\":\"\"},\"yaxis\":\"y1\",\"text\":[null,null],\"x\":[2.4439144075305776,2.4439144075305776],\"showlegend\":true,\"mode\":\"markers\",\"name\":\"y24\",\"zmin\":-0.1,\"legendgroup\":\"y24\",\"z\":[-2.4439144075305776,-2.4439144075305776],\"marker\":{\"symbol\":\"circle\",\"color\":\"rgba(0, 0, 0, 1.000)\",\"line\":{\"color\":\"rgba(0, 0, 0, 1.000)\",\"width\":1},\"size\":2},\"zmax\":0.1,\"y\":[-4.887828815061155,-4.887828815061155],\"type\":\"scatter3d\",\"hoverinfo\":\"text\"},{\"xaxis\":\"x1\",\"colorbar\":{\"title\":\"\"},\"yaxis\":\"y1\",\"text\":[null,null],\"x\":[-0.6701314774478884,-0.6701314774478884],\"showlegend\":true,\"mode\":\"markers\",\"name\":\"y25\",\"zmin\":-0.1,\"legendgroup\":\"y25\",\"z\":[0.6701314774478884,0.6701314774478884],\"marker\":{\"symbol\":\"circle\",\"color\":\"rgba(0, 0, 0, 1.000)\",\"line\":{\"color\":\"rgba(0, 0, 0, 1.000)\",\"width\":1},\"size\":2},\"zmax\":0.1,\"y\":[1.3402629548957767,1.3402629548957767],\"type\":\"scatter3d\",\"hoverinfo\":\"text\"},{\"xaxis\":\"x1\",\"colorbar\":{\"title\":\"\"},\"yaxis\":\"y1\",\"text\":[null,null],\"x\":[0.0,0.0],\"showlegend\":true,\"mode\":\"markers\",\"name\":\"y26\",\"zmin\":-0.1,\"legendgroup\":\"y26\",\"z\":[-0.0,-0.0],\"marker\":{\"symbol\":\"circle\",\"color\":\"rgba(0, 0, 0, 1.000)\",\"line\":{\"color\":\"rgba(0, 0, 0, 1.000)\",\"width\":1},\"size\":2},\"zmax\":0.1,\"y\":[-0.0,-0.0],\"type\":\"scatter3d\",\"hoverinfo\":\"text\"},{\"xaxis\":\"x1\",\"colorbar\":{\"title\":\"\"},\"yaxis\":\"y1\",\"text\":[null,null],\"x\":[7.37917526082046,7.37917526082046],\"showlegend\":true,\"mode\":\"markers\",\"name\":\"y27\",\"zmin\":-0.1,\"legendgroup\":\"y27\",\"z\":[-7.37917526082046,-7.37917526082046],\"marker\":{\"symbol\":\"circle\",\"color\":\"rgba(0, 0, 0, 1.000)\",\"line\":{\"color\":\"rgba(0, 0, 0, 1.000)\",\"width\":1},\"size\":2},\"zmax\":0.1,\"y\":[-14.75835052164092,-14.75835052164092],\"type\":\"scatter3d\",\"hoverinfo\":\"text\"},{\"xaxis\":\"x1\",\"colorbar\":{\"title\":\"\"},\"yaxis\":\"y1\",\"text\":[null,null],\"x\":[7.352454351515895,7.352454351515895],\"showlegend\":true,\"mode\":\"markers\",\"name\":\"y28\",\"zmin\":-0.1,\"legendgroup\":\"y28\",\"z\":[-7.352454351515895,-7.352454351515895],\"marker\":{\"symbol\":\"circle\",\"color\":\"rgba(0, 0, 0, 1.000)\",\"line\":{\"color\":\"rgba(0, 0, 0, 1.000)\",\"width\":1},\"size\":2},\"zmax\":0.1,\"y\":[-14.70490870303179,-14.70490870303179],\"type\":\"scatter3d\",\"hoverinfo\":\"text\"},{\"xaxis\":\"x1\",\"colorbar\":{\"title\":\"\"},\"yaxis\":\"y1\",\"text\":[null,null],\"x\":[1.7821006713511016,1.7821006713511016],\"showlegend\":true,\"mode\":\"markers\",\"name\":\"y29\",\"zmin\":-0.1,\"legendgroup\":\"y29\",\"z\":[-1.7821006713511016,-1.7821006713511016],\"marker\":{\"symbol\":\"circle\",\"color\":\"rgba(0, 0, 0, 1.000)\",\"line\":{\"color\":\"rgba(0, 0, 0, 1.000)\",\"width\":1},\"size\":2},\"zmax\":0.1,\"y\":[-3.5642013427022032,-3.5642013427022032],\"type\":\"scatter3d\",\"hoverinfo\":\"text\"},{\"xaxis\":\"x1\",\"colorbar\":{\"title\":\"\"},\"yaxis\":\"y1\",\"text\":[null,null],\"x\":[5.426986388283511,5.426986388283511],\"showlegend\":true,\"mode\":\"markers\",\"name\":\"y30\",\"zmin\":-0.1,\"legendgroup\":\"y30\",\"z\":[-5.426986388283511,-5.426986388283511],\"marker\":{\"symbol\":\"circle\",\"color\":\"rgba(0, 0, 0, 1.000)\",\"line\":{\"color\":\"rgba(0, 0, 0, 1.000)\",\"width\":1},\"size\":2},\"zmax\":0.1,\"y\":[-10.853972776567023,-10.853972776567023],\"type\":\"scatter3d\",\"hoverinfo\":\"text\"},{\"xaxis\":\"x1\",\"colorbar\":{\"title\":\"\"},\"yaxis\":\"y1\",\"text\":[null,null],\"x\":[5.197742157265211,5.197742157265211],\"showlegend\":true,\"mode\":\"markers\",\"name\":\"y31\",\"zmin\":-0.1,\"legendgroup\":\"y31\",\"z\":[-5.197742157265211,-5.197742157265211],\"marker\":{\"symbol\":\"circle\",\"color\":\"rgba(0, 0, 0, 1.000)\",\"line\":{\"color\":\"rgba(0, 0, 0, 1.000)\",\"width\":1},\"size\":2},\"zmax\":0.1,\"y\":[-10.395484314530423,-10.395484314530423],\"type\":\"scatter3d\",\"hoverinfo\":\"text\"},{\"xaxis\":\"x1\",\"colorbar\":{\"title\":\"\"},\"yaxis\":\"y1\",\"text\":[null,null],\"x\":[-7.43725357487462,-7.43725357487462],\"showlegend\":true,\"mode\":\"markers\",\"name\":\"y32\",\"zmin\":-0.1,\"legendgroup\":\"y32\",\"z\":[7.43725357487462,7.43725357487462],\"marker\":{\"symbol\":\"circle\",\"color\":\"rgba(0, 0, 0, 1.000)\",\"line\":{\"color\":\"rgba(0, 0, 0, 1.000)\",\"width\":1},\"size\":2},\"zmax\":0.1,\"y\":[14.87450714974924,14.87450714974924],\"type\":\"scatter3d\",\"hoverinfo\":\"text\"},{\"xaxis\":\"x1\",\"colorbar\":{\"title\":\"\"},\"yaxis\":\"y1\",\"text\":[null,null],\"x\":[1.393356220345372,1.393356220345372],\"showlegend\":true,\"mode\":\"markers\",\"name\":\"y33\",\"zmin\":-0.1,\"legendgroup\":\"y33\",\"z\":[-1.393356220345372,-1.393356220345372],\"marker\":{\"symbol\":\"circle\",\"color\":\"rgba(0, 0, 0, 1.000)\",\"line\":{\"color\":\"rgba(0, 0, 0, 1.000)\",\"width\":1},\"size\":2},\"zmax\":0.1,\"y\":[-2.786712440690744,-2.786712440690744],\"type\":\"scatter3d\",\"hoverinfo\":\"text\"},{\"xaxis\":\"x1\",\"colorbar\":{\"title\":\"\"},\"yaxis\":\"y1\",\"text\":[null,null],\"x\":[0.3418596428040539,0.3418596428040539],\"showlegend\":true,\"mode\":\"markers\",\"name\":\"y34\",\"zmin\":-0.1,\"legendgroup\":\"y34\",\"z\":[-0.3418596428040539,-0.3418596428040539],\"marker\":{\"symbol\":\"circle\",\"color\":\"rgba(0, 0, 0, 1.000)\",\"line\":{\"color\":\"rgba(0, 0, 0, 1.000)\",\"width\":1},\"size\":2},\"zmax\":0.1,\"y\":[-0.6837192856081078,-0.6837192856081078],\"type\":\"scatter3d\",\"hoverinfo\":\"text\"},{\"xaxis\":\"x1\",\"colorbar\":{\"title\":\"\"},\"yaxis\":\"y1\",\"text\":[null,null],\"x\":[-2.7265155277807356,-2.7265155277807356],\"showlegend\":true,\"mode\":\"markers\",\"name\":\"y35\",\"zmin\":-0.1,\"legendgroup\":\"y35\",\"z\":[2.7265155277807356,2.7265155277807356],\"marker\":{\"symbol\":\"circle\",\"color\":\"rgba(0, 0, 0, 1.000)\",\"line\":{\"color\":\"rgba(0, 0, 0, 1.000)\",\"width\":1},\"size\":2},\"zmax\":0.1,\"y\":[5.453031055561471,5.453031055561471],\"type\":\"scatter3d\",\"hoverinfo\":\"text\"},{\"xaxis\":\"x1\",\"colorbar\":{\"title\":\"\"},\"yaxis\":\"y1\",\"text\":[null,null],\"x\":[-6.514944624204133,-6.514944624204133],\"showlegend\":true,\"mode\":\"markers\",\"name\":\"y36\",\"zmin\":-0.1,\"legendgroup\":\"y36\",\"z\":[6.514944624204133,6.514944624204133],\"marker\":{\"symbol\":\"circle\",\"color\":\"rgba(0, 0, 0, 1.000)\",\"line\":{\"color\":\"rgba(0, 0, 0, 1.000)\",\"width\":1},\"size\":2},\"zmax\":0.1,\"y\":[13.029889248408265,13.029889248408265],\"type\":\"scatter3d\",\"hoverinfo\":\"text\"},{\"xaxis\":\"x1\",\"colorbar\":{\"title\":\"\"},\"yaxis\":\"y1\",\"text\":[null,null],\"x\":[-7.114350144407656,-7.114350144407656],\"showlegend\":true,\"mode\":\"markers\",\"name\":\"y37\",\"zmin\":-0.1,\"legendgroup\":\"y37\",\"z\":[7.114350144407656,7.114350144407656],\"marker\":{\"symbol\":\"circle\",\"color\":\"rgba(0, 0, 0, 1.000)\",\"line\":{\"color\":\"rgba(0, 0, 0, 1.000)\",\"width\":1},\"size\":2},\"zmax\":0.1,\"y\":[14.228700288815311,14.228700288815311],\"type\":\"scatter3d\",\"hoverinfo\":\"text\"},{\"xaxis\":\"x1\",\"colorbar\":{\"title\":\"\"},\"yaxis\":\"y1\",\"text\":[null,null],\"x\":[-6.697542363004661,-6.697542363004661],\"showlegend\":true,\"mode\":\"markers\",\"name\":\"y38\",\"zmin\":-0.1,\"legendgroup\":\"y38\",\"z\":[6.697542363004661,6.697542363004661],\"marker\":{\"symbol\":\"circle\",\"color\":\"rgba(0, 0, 0, 1.000)\",\"line\":{\"color\":\"rgba(0, 0, 0, 1.000)\",\"width\":1},\"size\":2},\"zmax\":0.1,\"y\":[13.395084726009323,13.395084726009323],\"type\":\"scatter3d\",\"hoverinfo\":\"text\"},{\"xaxis\":\"x1\",\"colorbar\":{\"title\":\"\"},\"yaxis\":\"y1\",\"text\":[null,null],\"x\":[-6.337648661774196,-6.337648661774196],\"showlegend\":true,\"mode\":\"markers\",\"name\":\"y39\",\"zmin\":-0.1,\"legendgroup\":\"y39\",\"z\":[6.337648661774196,6.337648661774196],\"marker\":{\"symbol\":\"circle\",\"color\":\"rgba(0, 0, 0, 1.000)\",\"line\":{\"color\":\"rgba(0, 0, 0, 1.000)\",\"width\":1},\"size\":2},\"zmax\":0.1,\"y\":[12.675297323548392,12.675297323548392],\"type\":\"scatter3d\",\"hoverinfo\":\"text\"},{\"xaxis\":\"x1\",\"colorbar\":{\"title\":\"\"},\"yaxis\":\"y1\",\"text\":[null,null],\"x\":[-0.7184388893006246,-0.7184388893006246],\"showlegend\":true,\"mode\":\"markers\",\"name\":\"y40\",\"zmin\":-0.1,\"legendgroup\":\"y40\",\"z\":[0.7184388893006246,0.7184388893006246],\"marker\":{\"symbol\":\"circle\",\"color\":\"rgba(0, 0, 0, 1.000)\",\"line\":{\"color\":\"rgba(0, 0, 0, 1.000)\",\"width\":1},\"size\":2},\"zmax\":0.1,\"y\":[1.4368777786012492,1.4368777786012492],\"type\":\"scatter3d\",\"hoverinfo\":\"text\"},{\"xaxis\":\"x1\",\"colorbar\":{\"title\":\"\"},\"yaxis\":\"y1\",\"text\":[null,null],\"x\":[-1.16473160577033,-1.16473160577033],\"showlegend\":true,\"mode\":\"markers\",\"name\":\"y41\",\"zmin\":-0.1,\"legendgroup\":\"y41\",\"z\":[1.16473160577033,1.16473160577033],\"marker\":{\"symbol\":\"circle\",\"color\":\"rgba(0, 0, 0, 1.000)\",\"line\":{\"color\":\"rgba(0, 0, 0, 1.000)\",\"width\":1},\"size\":2},\"zmax\":0.1,\"y\":[2.32946321154066,2.32946321154066],\"type\":\"scatter3d\",\"hoverinfo\":\"text\"},{\"xaxis\":\"x1\",\"colorbar\":{\"title\":\"\"},\"yaxis\":\"y1\",\"text\":[null,null],\"x\":[3.8571499046389475,3.8571499046389475],\"showlegend\":true,\"mode\":\"markers\",\"name\":\"y42\",\"zmin\":-0.1,\"legendgroup\":\"y42\",\"z\":[-3.8571499046389475,-3.8571499046389475],\"marker\":{\"symbol\":\"circle\",\"color\":\"rgba(0, 0, 0, 1.000)\",\"line\":{\"color\":\"rgba(0, 0, 0, 1.000)\",\"width\":1},\"size\":2},\"zmax\":0.1,\"y\":[-7.714299809277895,-7.714299809277895],\"type\":\"scatter3d\",\"hoverinfo\":\"text\"},{\"xaxis\":\"x1\",\"colorbar\":{\"title\":\"\"},\"yaxis\":\"y1\",\"text\":[null,null],\"x\":[6.935939997468575,6.935939997468575],\"showlegend\":true,\"mode\":\"markers\",\"name\":\"y43\",\"zmin\":-0.1,\"legendgroup\":\"y43\",\"z\":[-6.935939997468575,-6.935939997468575],\"marker\":{\"symbol\":\"circle\",\"color\":\"rgba(0, 0, 0, 1.000)\",\"line\":{\"color\":\"rgba(0, 0, 0, 1.000)\",\"width\":1},\"size\":2},\"zmax\":0.1,\"y\":[-13.87187999493715,-13.87187999493715],\"type\":\"scatter3d\",\"hoverinfo\":\"text\"},{\"xaxis\":\"x1\",\"colorbar\":{\"title\":\"\"},\"yaxis\":\"y1\",\"text\":[null,null],\"x\":[4.874615063072358,4.874615063072358],\"showlegend\":true,\"mode\":\"markers\",\"name\":\"y44\",\"zmin\":-0.1,\"legendgroup\":\"y44\",\"z\":[-4.874615063072358,-4.874615063072358],\"marker\":{\"symbol\":\"circle\",\"color\":\"rgba(0, 0, 0, 1.000)\",\"line\":{\"color\":\"rgba(0, 0, 0, 1.000)\",\"width\":1},\"size\":2},\"zmax\":0.1,\"y\":[-9.749230126144717,-9.749230126144717],\"type\":\"scatter3d\",\"hoverinfo\":\"text\"},{\"xaxis\":\"x1\",\"colorbar\":{\"title\":\"\"},\"yaxis\":\"y1\",\"text\":[null,null],\"x\":[-1.2905250243042494,-1.2905250243042494],\"showlegend\":true,\"mode\":\"markers\",\"name\":\"y45\",\"zmin\":-0.1,\"legendgroup\":\"y45\",\"z\":[1.2905250243042494,1.2905250243042494],\"marker\":{\"symbol\":\"circle\",\"color\":\"rgba(0, 0, 0, 1.000)\",\"line\":{\"color\":\"rgba(0, 0, 0, 1.000)\",\"width\":1},\"size\":2},\"zmax\":0.1,\"y\":[2.581050048608499,2.581050048608499],\"type\":\"scatter3d\",\"hoverinfo\":\"text\"},{\"xaxis\":\"x1\",\"colorbar\":{\"title\":\"\"},\"yaxis\":\"y1\",\"text\":[null,null],\"x\":[-2.4395547254135437,-2.4395547254135437],\"showlegend\":true,\"mode\":\"markers\",\"name\":\"y46\",\"zmin\":-0.1,\"legendgroup\":\"y46\",\"z\":[2.4395547254135437,2.4395547254135437],\"marker\":{\"symbol\":\"circle\",\"color\":\"rgba(0, 0, 0, 1.000)\",\"line\":{\"color\":\"rgba(0, 0, 0, 1.000)\",\"width\":1},\"size\":2},\"zmax\":0.1,\"y\":[4.879109450827087,4.879109450827087],\"type\":\"scatter3d\",\"hoverinfo\":\"text\"},{\"xaxis\":\"x1\",\"colorbar\":{\"title\":\"\"},\"yaxis\":\"y1\",\"text\":[null,null],\"x\":[-3.5466414586469934,-3.5466414586469934],\"showlegend\":true,\"mode\":\"markers\",\"name\":\"y47\",\"zmin\":-0.1,\"legendgroup\":\"y47\",\"z\":[3.5466414586469934,3.5466414586469934],\"marker\":{\"symbol\":\"circle\",\"color\":\"rgba(0, 0, 0, 1.000)\",\"line\":{\"color\":\"rgba(0, 0, 0, 1.000)\",\"width\":1},\"size\":2},\"zmax\":0.1,\"y\":[7.093282917293987,7.093282917293987],\"type\":\"scatter3d\",\"hoverinfo\":\"text\"},{\"xaxis\":\"x1\",\"colorbar\":{\"title\":\"\"},\"yaxis\":\"y1\",\"text\":[null,null],\"x\":[4.3835726379961155,4.3835726379961155],\"showlegend\":true,\"mode\":\"markers\",\"name\":\"y48\",\"zmin\":-0.1,\"legendgroup\":\"y48\",\"z\":[-4.3835726379961155,-4.3835726379961155],\"marker\":{\"symbol\":\"circle\",\"color\":\"rgba(0, 0, 0, 1.000)\",\"line\":{\"color\":\"rgba(0, 0, 0, 1.000)\",\"width\":1},\"size\":2},\"zmax\":0.1,\"y\":[-8.767145275992231,-8.767145275992231],\"type\":\"scatter3d\",\"hoverinfo\":\"text\"},{\"xaxis\":\"x1\",\"colorbar\":{\"title\":\"\"},\"yaxis\":\"y1\",\"text\":[null,null],\"x\":[-0.2280792774666116,-0.2280792774666116],\"showlegend\":true,\"mode\":\"markers\",\"name\":\"y49\",\"zmin\":-0.1,\"legendgroup\":\"y49\",\"z\":[0.2280792774666116,0.2280792774666116],\"marker\":{\"symbol\":\"circle\",\"color\":\"rgba(0, 0, 0, 1.000)\",\"line\":{\"color\":\"rgba(0, 0, 0, 1.000)\",\"width\":1},\"size\":2},\"zmax\":0.1,\"y\":[0.4561585549332232,0.4561585549332232],\"type\":\"scatter3d\",\"hoverinfo\":\"text\"},{\"xaxis\":\"x1\",\"colorbar\":{\"title\":\"\"},\"yaxis\":\"y1\",\"text\":[null,null],\"x\":[-2.290419476777979,-2.290419476777979],\"showlegend\":true,\"mode\":\"markers\",\"name\":\"y50\",\"zmin\":-0.1,\"legendgroup\":\"y50\",\"z\":[2.290419476777979,2.290419476777979],\"marker\":{\"symbol\":\"circle\",\"color\":\"rgba(0, 0, 0, 1.000)\",\"line\":{\"color\":\"rgba(0, 0, 0, 1.000)\",\"width\":1},\"size\":2},\"zmax\":0.1,\"y\":[4.580838953555958,4.580838953555958],\"type\":\"scatter3d\",\"hoverinfo\":\"text\"},{\"xaxis\":\"x1\",\"colorbar\":{\"title\":\"\"},\"yaxis\":\"y1\",\"text\":[null,null],\"x\":[4.330024123842803,4.330024123842803],\"showlegend\":true,\"mode\":\"markers\",\"name\":\"y51\",\"zmin\":-0.1,\"legendgroup\":\"y51\",\"z\":[-4.330024123842803,-4.330024123842803],\"marker\":{\"symbol\":\"circle\",\"color\":\"rgba(0, 0, 0, 1.000)\",\"line\":{\"color\":\"rgba(0, 0, 0, 1.000)\",\"width\":1},\"size\":2},\"zmax\":0.1,\"y\":[-8.660048247685607,-8.660048247685607],\"type\":\"scatter3d\",\"hoverinfo\":\"text\"},{\"xaxis\":\"x1\",\"colorbar\":{\"title\":\"\"},\"yaxis\":\"y1\",\"text\":[null,null],\"x\":[6.721846513289599,6.721846513289599],\"showlegend\":true,\"mode\":\"markers\",\"name\":\"y52\",\"zmin\":-0.1,\"legendgroup\":\"y52\",\"z\":[-6.721846513289599,-6.721846513289599],\"marker\":{\"symbol\":\"circle\",\"color\":\"rgba(0, 0, 0, 1.000)\",\"line\":{\"color\":\"rgba(0, 0, 0, 1.000)\",\"width\":1},\"size\":2},\"zmax\":0.1,\"y\":[-13.443693026579197,-13.443693026579197],\"type\":\"scatter3d\",\"hoverinfo\":\"text\"},{\"xaxis\":\"x1\",\"colorbar\":{\"title\":\"\"},\"yaxis\":\"y1\",\"text\":[null,null],\"x\":[-6.974234762991058,-6.974234762991058],\"showlegend\":true,\"mode\":\"markers\",\"name\":\"y53\",\"zmin\":-0.1,\"legendgroup\":\"y53\",\"z\":[6.974234762991058,6.974234762991058],\"marker\":{\"symbol\":\"circle\",\"color\":\"rgba(0, 0, 0, 1.000)\",\"line\":{\"color\":\"rgba(0, 0, 0, 1.000)\",\"width\":1},\"size\":2},\"zmax\":0.1,\"y\":[13.948469525982116,13.948469525982116],\"type\":\"scatter3d\",\"hoverinfo\":\"text\"},{\"xaxis\":\"x1\",\"colorbar\":{\"title\":\"\"},\"yaxis\":\"y1\",\"text\":[null,null],\"x\":[-0.7975666836422035,-0.7975666836422035],\"showlegend\":true,\"mode\":\"markers\",\"name\":\"y54\",\"zmin\":-0.1,\"legendgroup\":\"y54\",\"z\":[0.7975666836422035,0.7975666836422035],\"marker\":{\"symbol\":\"circle\",\"color\":\"rgba(0, 0, 0, 1.000)\",\"line\":{\"color\":\"rgba(0, 0, 0, 1.000)\",\"width\":1},\"size\":2},\"zmax\":0.1,\"y\":[1.595133367284407,1.595133367284407],\"type\":\"scatter3d\",\"hoverinfo\":\"text\"},{\"xaxis\":\"x1\",\"colorbar\":{\"title\":\"\"},\"yaxis\":\"y1\",\"text\":[null,null],\"x\":[-1.6168178572664127,-1.6168178572664127],\"showlegend\":true,\"mode\":\"markers\",\"name\":\"y55\",\"zmin\":-0.1,\"legendgroup\":\"y55\",\"z\":[1.6168178572664127,1.6168178572664127],\"marker\":{\"symbol\":\"circle\",\"color\":\"rgba(0, 0, 0, 1.000)\",\"line\":{\"color\":\"rgba(0, 0, 0, 1.000)\",\"width\":1},\"size\":2},\"zmax\":0.1,\"y\":[3.2336357145328254,3.2336357145328254],\"type\":\"scatter3d\",\"hoverinfo\":\"text\"},{\"xaxis\":\"x1\",\"colorbar\":{\"title\":\"\"},\"yaxis\":\"y1\",\"text\":[null,null],\"x\":[4.216526093789894,4.216526093789894],\"showlegend\":true,\"mode\":\"markers\",\"name\":\"y56\",\"zmin\":-0.1,\"legendgroup\":\"y56\",\"z\":[-4.216526093789894,-4.216526093789894],\"marker\":{\"symbol\":\"circle\",\"color\":\"rgba(0, 0, 0, 1.000)\",\"line\":{\"color\":\"rgba(0, 0, 0, 1.000)\",\"width\":1},\"size\":2},\"zmax\":0.1,\"y\":[-8.433052187579788,-8.433052187579788],\"type\":\"scatter3d\",\"hoverinfo\":\"text\"},{\"xaxis\":\"x1\",\"colorbar\":{\"title\":\"\"},\"yaxis\":\"y1\",\"text\":[null,null],\"x\":[0.7411112041066683,0.7411112041066683],\"showlegend\":true,\"mode\":\"markers\",\"name\":\"y57\",\"zmin\":-0.1,\"legendgroup\":\"y57\",\"z\":[-0.7411112041066683,-0.7411112041066683],\"marker\":{\"symbol\":\"circle\",\"color\":\"rgba(0, 0, 0, 1.000)\",\"line\":{\"color\":\"rgba(0, 0, 0, 1.000)\",\"width\":1},\"size\":2},\"zmax\":0.1,\"y\":[-1.4822224082133366,-1.4822224082133366],\"type\":\"scatter3d\",\"hoverinfo\":\"text\"},{\"xaxis\":\"x1\",\"colorbar\":{\"title\":\"\"},\"yaxis\":\"y1\",\"text\":[null,null],\"x\":[0.0,0.0],\"showlegend\":true,\"mode\":\"markers\",\"name\":\"y58\",\"zmin\":-0.1,\"legendgroup\":\"y58\",\"z\":[-0.0,-0.0],\"marker\":{\"symbol\":\"circle\",\"color\":\"rgba(0, 0, 0, 1.000)\",\"line\":{\"color\":\"rgba(0, 0, 0, 1.000)\",\"width\":1},\"size\":2},\"zmax\":0.1,\"y\":[-0.0,-0.0],\"type\":\"scatter3d\",\"hoverinfo\":\"text\"},{\"xaxis\":\"x1\",\"colorbar\":{\"title\":\"\"},\"yaxis\":\"y1\",\"text\":[null,null],\"x\":[-0.7737965130420301,-0.7737965130420301],\"showlegend\":true,\"mode\":\"markers\",\"name\":\"y59\",\"zmin\":-0.1,\"legendgroup\":\"y59\",\"z\":[0.7737965130420301,0.7737965130420301],\"marker\":{\"symbol\":\"circle\",\"color\":\"rgba(0, 0, 0, 1.000)\",\"line\":{\"color\":\"rgba(0, 0, 0, 1.000)\",\"width\":1},\"size\":2},\"zmax\":0.1,\"y\":[1.5475930260840602,1.5475930260840602],\"type\":\"scatter3d\",\"hoverinfo\":\"text\"},{\"xaxis\":\"x1\",\"colorbar\":{\"title\":\"\"},\"yaxis\":\"y1\",\"text\":[null,null],\"x\":[0.7200707424910324,0.7200707424910324],\"showlegend\":true,\"mode\":\"markers\",\"name\":\"y60\",\"zmin\":-0.1,\"legendgroup\":\"y60\",\"z\":[-0.7200707424910324,-0.7200707424910324],\"marker\":{\"symbol\":\"circle\",\"color\":\"rgba(0, 0, 0, 1.000)\",\"line\":{\"color\":\"rgba(0, 0, 0, 1.000)\",\"width\":1},\"size\":2},\"zmax\":0.1,\"y\":[-1.4401414849820648,-1.4401414849820648],\"type\":\"scatter3d\",\"hoverinfo\":\"text\"},{\"xaxis\":\"x1\",\"colorbar\":{\"title\":\"\"},\"yaxis\":\"y1\",\"text\":[null,null],\"x\":[-3.071681874546094,-3.071681874546094],\"showlegend\":true,\"mode\":\"markers\",\"name\":\"y61\",\"zmin\":-0.1,\"legendgroup\":\"y61\",\"z\":[3.071681874546094,3.071681874546094],\"marker\":{\"symbol\":\"circle\",\"color\":\"rgba(0, 0, 0, 1.000)\",\"line\":{\"color\":\"rgba(0, 0, 0, 1.000)\",\"width\":1},\"size\":2},\"zmax\":0.1,\"y\":[6.143363749092188,6.143363749092188],\"type\":\"scatter3d\",\"hoverinfo\":\"text\"},{\"xaxis\":\"x1\",\"colorbar\":{\"title\":\"\"},\"yaxis\":\"y1\",\"text\":[null,null],\"x\":[0.5063229727456573,0.5063229727456573],\"showlegend\":true,\"mode\":\"markers\",\"name\":\"y62\",\"zmin\":-0.1,\"legendgroup\":\"y62\",\"z\":[-0.5063229727456573,-0.5063229727456573],\"marker\":{\"symbol\":\"circle\",\"color\":\"rgba(0, 0, 0, 1.000)\",\"line\":{\"color\":\"rgba(0, 0, 0, 1.000)\",\"width\":1},\"size\":2},\"zmax\":0.1,\"y\":[-1.0126459454913146,-1.0126459454913146],\"type\":\"scatter3d\",\"hoverinfo\":\"text\"},{\"xaxis\":\"x1\",\"colorbar\":{\"title\":\"\"},\"yaxis\":\"y1\",\"text\":[null,null],\"x\":[1.2119106892506144,1.2119106892506144],\"showlegend\":true,\"mode\":\"markers\",\"name\":\"y63\",\"zmin\":-0.1,\"legendgroup\":\"y63\",\"z\":[-1.2119106892506144,-1.2119106892506144],\"marker\":{\"symbol\":\"circle\",\"color\":\"rgba(0, 0, 0, 1.000)\",\"line\":{\"color\":\"rgba(0, 0, 0, 1.000)\",\"width\":1},\"size\":2},\"zmax\":0.1,\"y\":[-2.423821378501229,-2.423821378501229],\"type\":\"scatter3d\",\"hoverinfo\":\"text\"},{\"xaxis\":\"x1\",\"colorbar\":{\"title\":\"\"},\"yaxis\":\"y1\",\"text\":[null,null],\"x\":[-6.118963264941707,-6.118963264941707],\"showlegend\":true,\"mode\":\"markers\",\"name\":\"y64\",\"zmin\":-0.1,\"legendgroup\":\"y64\",\"z\":[6.118963264941707,6.118963264941707],\"marker\":{\"symbol\":\"circle\",\"color\":\"rgba(0, 0, 0, 1.000)\",\"line\":{\"color\":\"rgba(0, 0, 0, 1.000)\",\"width\":1},\"size\":2},\"zmax\":0.1,\"y\":[12.237926529883413,12.237926529883413],\"type\":\"scatter3d\",\"hoverinfo\":\"text\"},{\"xaxis\":\"x1\",\"colorbar\":{\"title\":\"\"},\"yaxis\":\"y1\",\"text\":[null,null],\"x\":[-3.75266534459307,-3.75266534459307],\"showlegend\":true,\"mode\":\"markers\",\"name\":\"y65\",\"zmin\":-0.1,\"legendgroup\":\"y65\",\"z\":[3.75266534459307,3.75266534459307],\"marker\":{\"symbol\":\"circle\",\"color\":\"rgba(0, 0, 0, 1.000)\",\"line\":{\"color\":\"rgba(0, 0, 0, 1.000)\",\"width\":1},\"size\":2},\"zmax\":0.1,\"y\":[7.50533068918614,7.50533068918614],\"type\":\"scatter3d\",\"hoverinfo\":\"text\"},{\"xaxis\":\"x1\",\"colorbar\":{\"title\":\"\"},\"yaxis\":\"y1\",\"text\":[null,null],\"x\":[0.02493507280610574,0.02493507280610574],\"showlegend\":true,\"mode\":\"markers\",\"name\":\"y66\",\"zmin\":-0.1,\"legendgroup\":\"y66\",\"z\":[-0.02493507280610574,-0.02493507280610574],\"marker\":{\"symbol\":\"circle\",\"color\":\"rgba(0, 0, 0, 1.000)\",\"line\":{\"color\":\"rgba(0, 0, 0, 1.000)\",\"width\":1},\"size\":2},\"zmax\":0.1,\"y\":[-0.04987014561221148,-0.04987014561221148],\"type\":\"scatter3d\",\"hoverinfo\":\"text\"},{\"xaxis\":\"x1\",\"colorbar\":{\"title\":\"\"},\"yaxis\":\"y1\",\"text\":[null,null],\"x\":[0.0,0.0],\"showlegend\":true,\"mode\":\"markers\",\"name\":\"y67\",\"zmin\":-0.1,\"legendgroup\":\"y67\",\"z\":[-0.0,-0.0],\"marker\":{\"symbol\":\"circle\",\"color\":\"rgba(0, 0, 0, 1.000)\",\"line\":{\"color\":\"rgba(0, 0, 0, 1.000)\",\"width\":1},\"size\":2},\"zmax\":0.1,\"y\":[-0.0,-0.0],\"type\":\"scatter3d\",\"hoverinfo\":\"text\"},{\"xaxis\":\"x1\",\"colorbar\":{\"title\":\"\"},\"yaxis\":\"y1\",\"text\":[null,null],\"x\":[0.5127091322796273,0.5127091322796273],\"showlegend\":true,\"mode\":\"markers\",\"name\":\"y68\",\"zmin\":-0.1,\"legendgroup\":\"y68\",\"z\":[-0.5127091322796273,-0.5127091322796273],\"marker\":{\"symbol\":\"circle\",\"color\":\"rgba(0, 0, 0, 1.000)\",\"line\":{\"color\":\"rgba(0, 0, 0, 1.000)\",\"width\":1},\"size\":2},\"zmax\":0.1,\"y\":[-1.0254182645592547,-1.0254182645592547],\"type\":\"scatter3d\",\"hoverinfo\":\"text\"},{\"xaxis\":\"x1\",\"colorbar\":{\"title\":\"\"},\"yaxis\":\"y1\",\"text\":[null,null],\"x\":[-2.1557209545807043,-2.1557209545807043],\"showlegend\":true,\"mode\":\"markers\",\"name\":\"y69\",\"zmin\":-0.1,\"legendgroup\":\"y69\",\"z\":[2.1557209545807043,2.1557209545807043],\"marker\":{\"symbol\":\"circle\",\"color\":\"rgba(0, 0, 0, 1.000)\",\"line\":{\"color\":\"rgba(0, 0, 0, 1.000)\",\"width\":1},\"size\":2},\"zmax\":0.1,\"y\":[4.311441909161409,4.311441909161409],\"type\":\"scatter3d\",\"hoverinfo\":\"text\"},{\"xaxis\":\"x1\",\"colorbar\":{\"title\":\"\"},\"yaxis\":\"y1\",\"text\":[null,null],\"x\":[0.8996068865537952,0.8996068865537952],\"showlegend\":true,\"mode\":\"markers\",\"name\":\"y70\",\"zmin\":-0.1,\"legendgroup\":\"y70\",\"z\":[-0.8996068865537952,-0.8996068865537952],\"marker\":{\"symbol\":\"circle\",\"color\":\"rgba(0, 0, 0, 1.000)\",\"line\":{\"color\":\"rgba(0, 0, 0, 1.000)\",\"width\":1},\"size\":2},\"zmax\":0.1,\"y\":[-1.7992137731075903,-1.7992137731075903],\"type\":\"scatter3d\",\"hoverinfo\":\"text\"},{\"xaxis\":\"x1\",\"colorbar\":{\"title\":\"\"},\"yaxis\":\"y1\",\"text\":[null,null],\"x\":[3.155050267767213,3.155050267767213],\"showlegend\":true,\"mode\":\"markers\",\"name\":\"y71\",\"zmin\":-0.1,\"legendgroup\":\"y71\",\"z\":[-3.155050267767213,-3.155050267767213],\"marker\":{\"symbol\":\"circle\",\"color\":\"rgba(0, 0, 0, 1.000)\",\"line\":{\"color\":\"rgba(0, 0, 0, 1.000)\",\"width\":1},\"size\":2},\"zmax\":0.1,\"y\":[-6.310100535534426,-6.310100535534426],\"type\":\"scatter3d\",\"hoverinfo\":\"text\"},{\"xaxis\":\"x1\",\"colorbar\":{\"title\":\"\"},\"yaxis\":\"y1\",\"text\":[null,null],\"x\":[-0.6105153236614762,-0.6105153236614762],\"showlegend\":true,\"mode\":\"markers\",\"name\":\"y72\",\"zmin\":-0.1,\"legendgroup\":\"y72\",\"z\":[0.6105153236614762,0.6105153236614762],\"marker\":{\"symbol\":\"circle\",\"color\":\"rgba(0, 0, 0, 1.000)\",\"line\":{\"color\":\"rgba(0, 0, 0, 1.000)\",\"width\":1},\"size\":2},\"zmax\":0.1,\"y\":[1.2210306473229524,1.2210306473229524],\"type\":\"scatter3d\",\"hoverinfo\":\"text\"},{\"xaxis\":\"x1\",\"colorbar\":{\"title\":\"\"},\"yaxis\":\"y1\",\"text\":[null,null],\"x\":[-1.2324273504270633,-1.2324273504270633],\"showlegend\":true,\"mode\":\"markers\",\"name\":\"y73\",\"zmin\":-0.1,\"legendgroup\":\"y73\",\"z\":[1.2324273504270633,1.2324273504270633],\"marker\":{\"symbol\":\"circle\",\"color\":\"rgba(0, 0, 0, 1.000)\",\"line\":{\"color\":\"rgba(0, 0, 0, 1.000)\",\"width\":1},\"size\":2},\"zmax\":0.1,\"y\":[2.4648547008541266,2.4648547008541266],\"type\":\"scatter3d\",\"hoverinfo\":\"text\"},{\"xaxis\":\"x1\",\"colorbar\":{\"title\":\"\"},\"yaxis\":\"y1\",\"text\":[null,null],\"x\":[0.6193202848605879,0.6193202848605879],\"showlegend\":true,\"mode\":\"markers\",\"name\":\"y74\",\"zmin\":-0.1,\"legendgroup\":\"y74\",\"z\":[-0.6193202848605879,-0.6193202848605879],\"marker\":{\"symbol\":\"circle\",\"color\":\"rgba(0, 0, 0, 1.000)\",\"line\":{\"color\":\"rgba(0, 0, 0, 1.000)\",\"width\":1},\"size\":2},\"zmax\":0.1,\"y\":[-1.2386405697211758,-1.2386405697211758],\"type\":\"scatter3d\",\"hoverinfo\":\"text\"},{\"xaxis\":\"x1\",\"colorbar\":{\"title\":\"\"},\"yaxis\":\"y1\",\"text\":[null,null],\"x\":[3.73538054984532,3.73538054984532],\"showlegend\":true,\"mode\":\"markers\",\"name\":\"y75\",\"zmin\":-0.1,\"legendgroup\":\"y75\",\"z\":[-3.73538054984532,-3.73538054984532],\"marker\":{\"symbol\":\"circle\",\"color\":\"rgba(0, 0, 0, 1.000)\",\"line\":{\"color\":\"rgba(0, 0, 0, 1.000)\",\"width\":1},\"size\":2},\"zmax\":0.1,\"y\":[-7.47076109969064,-7.47076109969064],\"type\":\"scatter3d\",\"hoverinfo\":\"text\"},{\"xaxis\":\"x1\",\"colorbar\":{\"title\":\"\"},\"yaxis\":\"y1\",\"text\":[null,null],\"x\":[-2.55584649780851,-2.55584649780851],\"showlegend\":true,\"mode\":\"markers\",\"name\":\"y76\",\"zmin\":-0.1,\"legendgroup\":\"y76\",\"z\":[2.55584649780851,2.55584649780851],\"marker\":{\"symbol\":\"circle\",\"color\":\"rgba(0, 0, 0, 1.000)\",\"line\":{\"color\":\"rgba(0, 0, 0, 1.000)\",\"width\":1},\"size\":2},\"zmax\":0.1,\"y\":[5.11169299561702,5.11169299561702],\"type\":\"scatter3d\",\"hoverinfo\":\"text\"},{\"xaxis\":\"x1\",\"colorbar\":{\"title\":\"\"},\"yaxis\":\"y1\",\"text\":[null,null],\"x\":[-6.225140922590954,-6.225140922590954],\"showlegend\":true,\"mode\":\"markers\",\"name\":\"y77\",\"zmin\":-0.1,\"legendgroup\":\"y77\",\"z\":[6.225140922590954,6.225140922590954],\"marker\":{\"symbol\":\"circle\",\"color\":\"rgba(0, 0, 0, 1.000)\",\"line\":{\"color\":\"rgba(0, 0, 0, 1.000)\",\"width\":1},\"size\":2},\"zmax\":0.1,\"y\":[12.450281845181909,12.450281845181909],\"type\":\"scatter3d\",\"hoverinfo\":\"text\"},{\"xaxis\":\"x1\",\"colorbar\":{\"title\":\"\"},\"yaxis\":\"y1\",\"text\":[null,null],\"x\":[0.9428561684897219,0.9428561684897219],\"showlegend\":true,\"mode\":\"markers\",\"name\":\"y78\",\"zmin\":-0.1,\"legendgroup\":\"y78\",\"z\":[-0.9428561684897219,-0.9428561684897219],\"marker\":{\"symbol\":\"circle\",\"color\":\"rgba(0, 0, 0, 1.000)\",\"line\":{\"color\":\"rgba(0, 0, 0, 1.000)\",\"width\":1},\"size\":2},\"zmax\":0.1,\"y\":[-1.8857123369794437,-1.8857123369794437],\"type\":\"scatter3d\",\"hoverinfo\":\"text\"},{\"xaxis\":\"x1\",\"colorbar\":{\"title\":\"\"},\"yaxis\":\"y1\",\"text\":[null,null],\"x\":[-7.006683660390868,-7.006683660390868],\"showlegend\":true,\"mode\":\"markers\",\"name\":\"y79\",\"zmin\":-0.1,\"legendgroup\":\"y79\",\"z\":[7.006683660390868,7.006683660390868],\"marker\":{\"symbol\":\"circle\",\"color\":\"rgba(0, 0, 0, 1.000)\",\"line\":{\"color\":\"rgba(0, 0, 0, 1.000)\",\"width\":1},\"size\":2},\"zmax\":0.1,\"y\":[14.013367320781736,14.013367320781736],\"type\":\"scatter3d\",\"hoverinfo\":\"text\"},{\"xaxis\":\"x1\",\"colorbar\":{\"title\":\"\"},\"yaxis\":\"y1\",\"text\":[null,null],\"x\":[-1.9004800443283079,-1.9004800443283079],\"showlegend\":true,\"mode\":\"markers\",\"name\":\"y80\",\"zmin\":-0.1,\"legendgroup\":\"y80\",\"z\":[1.9004800443283079,1.9004800443283079],\"marker\":{\"symbol\":\"circle\",\"color\":\"rgba(0, 0, 0, 1.000)\",\"line\":{\"color\":\"rgba(0, 0, 0, 1.000)\",\"width\":1},\"size\":2},\"zmax\":0.1,\"y\":[3.8009600886566157,3.8009600886566157],\"type\":\"scatter3d\",\"hoverinfo\":\"text\"},{\"xaxis\":\"x1\",\"colorbar\":{\"title\":\"\"},\"yaxis\":\"y1\",\"text\":[null,null],\"x\":[-1.8450343219595038,-1.8450343219595038],\"showlegend\":true,\"mode\":\"markers\",\"name\":\"y81\",\"zmin\":-0.1,\"legendgroup\":\"y81\",\"z\":[1.8450343219595038,1.8450343219595038],\"marker\":{\"symbol\":\"circle\",\"color\":\"rgba(0, 0, 0, 1.000)\",\"line\":{\"color\":\"rgba(0, 0, 0, 1.000)\",\"width\":1},\"size\":2},\"zmax\":0.1,\"y\":[3.6900686439190076,3.6900686439190076],\"type\":\"scatter3d\",\"hoverinfo\":\"text\"},{\"xaxis\":\"x1\",\"colorbar\":{\"title\":\"\"},\"yaxis\":\"y1\",\"text\":[null,null],\"x\":[-0.41998721079566925,-0.41998721079566925],\"showlegend\":true,\"mode\":\"markers\",\"name\":\"y82\",\"zmin\":-0.1,\"legendgroup\":\"y82\",\"z\":[0.41998721079566925,0.41998721079566925],\"marker\":{\"symbol\":\"circle\",\"color\":\"rgba(0, 0, 0, 1.000)\",\"line\":{\"color\":\"rgba(0, 0, 0, 1.000)\",\"width\":1},\"size\":2},\"zmax\":0.1,\"y\":[0.8399744215913385,0.8399744215913385],\"type\":\"scatter3d\",\"hoverinfo\":\"text\"},{\"xaxis\":\"x1\",\"colorbar\":{\"title\":\"\"},\"yaxis\":\"y1\",\"text\":[null,null],\"x\":[-3.387359893762702,-3.387359893762702],\"showlegend\":true,\"mode\":\"markers\",\"name\":\"y83\",\"zmin\":-0.1,\"legendgroup\":\"y83\",\"z\":[3.387359893762702,3.387359893762702],\"marker\":{\"symbol\":\"circle\",\"color\":\"rgba(0, 0, 0, 1.000)\",\"line\":{\"color\":\"rgba(0, 0, 0, 1.000)\",\"width\":1},\"size\":2},\"zmax\":0.1,\"y\":[6.774719787525404,6.774719787525404],\"type\":\"scatter3d\",\"hoverinfo\":\"text\"},{\"xaxis\":\"x1\",\"colorbar\":{\"title\":\"\"},\"yaxis\":\"y1\",\"text\":[null,null],\"x\":[0.8302156000728367,0.8302156000728367],\"showlegend\":true,\"mode\":\"markers\",\"name\":\"y84\",\"zmin\":-0.1,\"legendgroup\":\"y84\",\"z\":[-0.8302156000728367,-0.8302156000728367],\"marker\":{\"symbol\":\"circle\",\"color\":\"rgba(0, 0, 0, 1.000)\",\"line\":{\"color\":\"rgba(0, 0, 0, 1.000)\",\"width\":1},\"size\":2},\"zmax\":0.1,\"y\":[-1.6604312001456734,-1.6604312001456734],\"type\":\"scatter3d\",\"hoverinfo\":\"text\"},{\"xaxis\":\"x1\",\"colorbar\":{\"title\":\"\"},\"yaxis\":\"y1\",\"text\":[null,null],\"x\":[0.626032879434046,0.626032879434046],\"showlegend\":true,\"mode\":\"markers\",\"name\":\"y85\",\"zmin\":-0.1,\"legendgroup\":\"y85\",\"z\":[-0.626032879434046,-0.626032879434046],\"marker\":{\"symbol\":\"circle\",\"color\":\"rgba(0, 0, 0, 1.000)\",\"line\":{\"color\":\"rgba(0, 0, 0, 1.000)\",\"width\":1},\"size\":2},\"zmax\":0.1,\"y\":[-1.252065758868092,-1.252065758868092],\"type\":\"scatter3d\",\"hoverinfo\":\"text\"},{\"xaxis\":\"x1\",\"colorbar\":{\"title\":\"\"},\"yaxis\":\"y1\",\"text\":[null,null],\"x\":[-1.9117539786399291,-1.9117539786399291],\"showlegend\":true,\"mode\":\"markers\",\"name\":\"y86\",\"zmin\":-0.1,\"legendgroup\":\"y86\",\"z\":[1.9117539786399291,1.9117539786399291],\"marker\":{\"symbol\":\"circle\",\"color\":\"rgba(0, 0, 0, 1.000)\",\"line\":{\"color\":\"rgba(0, 0, 0, 1.000)\",\"width\":1},\"size\":2},\"zmax\":0.1,\"y\":[3.8235079572798583,3.8235079572798583],\"type\":\"scatter3d\",\"hoverinfo\":\"text\"},{\"xaxis\":\"x1\",\"colorbar\":{\"title\":\"\"},\"yaxis\":\"y1\",\"text\":[null,null],\"x\":[0.5357995450515041,0.5357995450515041],\"showlegend\":true,\"mode\":\"markers\",\"name\":\"y87\",\"zmin\":-0.1,\"legendgroup\":\"y87\",\"z\":[-0.5357995450515041,-0.5357995450515041],\"marker\":{\"symbol\":\"circle\",\"color\":\"rgba(0, 0, 0, 1.000)\",\"line\":{\"color\":\"rgba(0, 0, 0, 1.000)\",\"width\":1},\"size\":2},\"zmax\":0.1,\"y\":[-1.0715990901030081,-1.0715990901030081],\"type\":\"scatter3d\",\"hoverinfo\":\"text\"},{\"xaxis\":\"x1\",\"colorbar\":{\"title\":\"\"},\"yaxis\":\"y1\",\"text\":[null,null],\"x\":[0.0,0.0],\"showlegend\":true,\"mode\":\"markers\",\"name\":\"y88\",\"zmin\":-0.1,\"legendgroup\":\"y88\",\"z\":[-0.0,-0.0],\"marker\":{\"symbol\":\"circle\",\"color\":\"rgba(0, 0, 0, 1.000)\",\"line\":{\"color\":\"rgba(0, 0, 0, 1.000)\",\"width\":1},\"size\":2},\"zmax\":0.1,\"y\":[-0.0,-0.0],\"type\":\"scatter3d\",\"hoverinfo\":\"text\"},{\"xaxis\":\"x1\",\"colorbar\":{\"title\":\"\"},\"yaxis\":\"y1\",\"text\":[null,null],\"x\":[-6.0641587607893666,-6.0641587607893666],\"showlegend\":true,\"mode\":\"markers\",\"name\":\"y89\",\"zmin\":-0.1,\"legendgroup\":\"y89\",\"z\":[6.0641587607893666,6.0641587607893666],\"marker\":{\"symbol\":\"circle\",\"color\":\"rgba(0, 0, 0, 1.000)\",\"line\":{\"color\":\"rgba(0, 0, 0, 1.000)\",\"width\":1},\"size\":2},\"zmax\":0.1,\"y\":[12.128317521578733,12.128317521578733],\"type\":\"scatter3d\",\"hoverinfo\":\"text\"},{\"xaxis\":\"x1\",\"colorbar\":{\"title\":\"\"},\"yaxis\":\"y1\",\"text\":[null,null],\"x\":[0.0,0.0],\"showlegend\":true,\"mode\":\"markers\",\"name\":\"y90\",\"zmin\":-0.1,\"legendgroup\":\"y90\",\"z\":[-0.0,-0.0],\"marker\":{\"symbol\":\"circle\",\"color\":\"rgba(0, 0, 0, 1.000)\",\"line\":{\"color\":\"rgba(0, 0, 0, 1.000)\",\"width\":1},\"size\":2},\"zmax\":0.1,\"y\":[-0.0,-0.0],\"type\":\"scatter3d\",\"hoverinfo\":\"text\"},{\"xaxis\":\"x1\",\"colorbar\":{\"title\":\"\"},\"yaxis\":\"y1\",\"text\":[null,null],\"x\":[0.8543840041024486,0.8543840041024486],\"showlegend\":true,\"mode\":\"markers\",\"name\":\"y91\",\"zmin\":-0.1,\"legendgroup\":\"y91\",\"z\":[-0.8543840041024486,-0.8543840041024486],\"marker\":{\"symbol\":\"circle\",\"color\":\"rgba(0, 0, 0, 1.000)\",\"line\":{\"color\":\"rgba(0, 0, 0, 1.000)\",\"width\":1},\"size\":2},\"zmax\":0.1,\"y\":[-1.7087680082048973,-1.7087680082048973],\"type\":\"scatter3d\",\"hoverinfo\":\"text\"},{\"xaxis\":\"x1\",\"colorbar\":{\"title\":\"\"},\"yaxis\":\"y1\",\"text\":[null,null],\"x\":[3.7806595502817175,3.7806595502817175],\"showlegend\":true,\"mode\":\"markers\",\"name\":\"y92\",\"zmin\":-0.1,\"legendgroup\":\"y92\",\"z\":[-3.7806595502817175,-3.7806595502817175],\"marker\":{\"symbol\":\"circle\",\"color\":\"rgba(0, 0, 0, 1.000)\",\"line\":{\"color\":\"rgba(0, 0, 0, 1.000)\",\"width\":1},\"size\":2},\"zmax\":0.1,\"y\":[-7.561319100563435,-7.561319100563435],\"type\":\"scatter3d\",\"hoverinfo\":\"text\"},{\"xaxis\":\"x1\",\"colorbar\":{\"title\":\"\"},\"yaxis\":\"y1\",\"text\":[null,null],\"x\":[-2.8681995746525413,-2.8681995746525413],\"showlegend\":true,\"mode\":\"markers\",\"name\":\"y93\",\"zmin\":-0.1,\"legendgroup\":\"y93\",\"z\":[2.8681995746525413,2.8681995746525413],\"marker\":{\"symbol\":\"circle\",\"color\":\"rgba(0, 0, 0, 1.000)\",\"line\":{\"color\":\"rgba(0, 0, 0, 1.000)\",\"width\":1},\"size\":2},\"zmax\":0.1,\"y\":[5.7363991493050825,5.7363991493050825],\"type\":\"scatter3d\",\"hoverinfo\":\"text\"},{\"xaxis\":\"x1\",\"colorbar\":{\"title\":\"\"},\"yaxis\":\"y1\",\"text\":[null,null],\"x\":[-0.2479806210097315,-0.2479806210097315],\"showlegend\":true,\"mode\":\"markers\",\"name\":\"y94\",\"zmin\":-0.1,\"legendgroup\":\"y94\",\"z\":[0.2479806210097315,0.2479806210097315],\"marker\":{\"symbol\":\"circle\",\"color\":\"rgba(0, 0, 0, 1.000)\",\"line\":{\"color\":\"rgba(0, 0, 0, 1.000)\",\"width\":1},\"size\":2},\"zmax\":0.1,\"y\":[0.495961242019463,0.495961242019463],\"type\":\"scatter3d\",\"hoverinfo\":\"text\"},{\"xaxis\":\"x1\",\"colorbar\":{\"title\":\"\"},\"yaxis\":\"y1\",\"text\":[null,null],\"x\":[-0.6307617381342372,-0.6307617381342372],\"showlegend\":true,\"mode\":\"markers\",\"name\":\"y95\",\"zmin\":-0.1,\"legendgroup\":\"y95\",\"z\":[0.6307617381342372,0.6307617381342372],\"marker\":{\"symbol\":\"circle\",\"color\":\"rgba(0, 0, 0, 1.000)\",\"line\":{\"color\":\"rgba(0, 0, 0, 1.000)\",\"width\":1},\"size\":2},\"zmax\":0.1,\"y\":[1.2615234762684744,1.2615234762684744],\"type\":\"scatter3d\",\"hoverinfo\":\"text\"},{\"xaxis\":\"x1\",\"colorbar\":{\"title\":\"\"},\"yaxis\":\"y1\",\"text\":[null,null],\"x\":[0.011219635707452102,0.011219635707452102],\"showlegend\":true,\"mode\":\"markers\",\"name\":\"y96\",\"zmin\":-0.1,\"legendgroup\":\"y96\",\"z\":[-0.011219635707452102,-0.011219635707452102],\"marker\":{\"symbol\":\"circle\",\"color\":\"rgba(0, 0, 0, 1.000)\",\"line\":{\"color\":\"rgba(0, 0, 0, 1.000)\",\"width\":1},\"size\":2},\"zmax\":0.1,\"y\":[-0.022439271414904205,-0.022439271414904205],\"type\":\"scatter3d\",\"hoverinfo\":\"text\"},{\"xaxis\":\"x1\",\"colorbar\":{\"title\":\"\"},\"yaxis\":\"y1\",\"text\":[null,null],\"x\":[-1.248777769190748,-1.248777769190748],\"showlegend\":true,\"mode\":\"markers\",\"name\":\"y97\",\"zmin\":-0.1,\"legendgroup\":\"y97\",\"z\":[1.248777769190748,1.248777769190748],\"marker\":{\"symbol\":\"circle\",\"color\":\"rgba(0, 0, 0, 1.000)\",\"line\":{\"color\":\"rgba(0, 0, 0, 1.000)\",\"width\":1},\"size\":2},\"zmax\":0.1,\"y\":[2.497555538381496,2.497555538381496],\"type\":\"scatter3d\",\"hoverinfo\":\"text\"},{\"xaxis\":\"x1\",\"colorbar\":{\"title\":\"\"},\"yaxis\":\"y1\",\"text\":[null,null],\"x\":[-0.9516680795310137,-0.9516680795310137],\"showlegend\":true,\"mode\":\"markers\",\"name\":\"y98\",\"zmin\":-0.1,\"legendgroup\":\"y98\",\"z\":[0.9516680795310137,0.9516680795310137],\"marker\":{\"symbol\":\"circle\",\"color\":\"rgba(0, 0, 0, 1.000)\",\"line\":{\"color\":\"rgba(0, 0, 0, 1.000)\",\"width\":1},\"size\":2},\"zmax\":0.1,\"y\":[1.9033361590620275,1.9033361590620275],\"type\":\"scatter3d\",\"hoverinfo\":\"text\"},{\"xaxis\":\"x1\",\"colorbar\":{\"title\":\"\"},\"yaxis\":\"y1\",\"text\":[null,null],\"x\":[-0.611228613105832,-0.611228613105832],\"showlegend\":true,\"mode\":\"markers\",\"name\":\"y99\",\"zmin\":-0.1,\"legendgroup\":\"y99\",\"z\":[0.611228613105832,0.611228613105832],\"marker\":{\"symbol\":\"circle\",\"color\":\"rgba(0, 0, 0, 1.000)\",\"line\":{\"color\":\"rgba(0, 0, 0, 1.000)\",\"width\":1},\"size\":2},\"zmax\":0.1,\"y\":[1.222457226211664,1.222457226211664],\"type\":\"scatter3d\",\"hoverinfo\":\"text\"},{\"xaxis\":\"x1\",\"colorbar\":{\"title\":\"\"},\"yaxis\":\"y1\",\"text\":[null,null],\"x\":[-2.136745750734949,-2.136745750734949],\"showlegend\":true,\"mode\":\"markers\",\"name\":\"y100\",\"zmin\":-0.1,\"legendgroup\":\"y100\",\"z\":[2.136745750734949,2.136745750734949],\"marker\":{\"symbol\":\"circle\",\"color\":\"rgba(0, 0, 0, 1.000)\",\"line\":{\"color\":\"rgba(0, 0, 0, 1.000)\",\"width\":1},\"size\":2},\"zmax\":0.1,\"y\":[4.273491501469898,4.273491501469898],\"type\":\"scatter3d\",\"hoverinfo\":\"text\"},{\"xaxis\":\"x1\",\"colorbar\":{\"title\":\"\"},\"yaxis\":\"y1\",\"text\":[null,null],\"x\":[0,0],\"showlegend\":true,\"mode\":\"lines\",\"name\":\"+z\",\"zmin\":-0.1,\"legendgroup\":\"+z\",\"z\":[0,20],\"zmax\":0.1,\"line\":{\"color\":\"rgba(0, 0, 0, 1.000)\",\"shape\":\"linear\",\"dash\":\"solid\",\"width\":2},\"y\":[0,0],\"type\":\"scatter3d\",\"hoverinfo\":\"text\"},{\"xaxis\":\"x1\",\"colorbar\":{\"title\":\"\"},\"yaxis\":\"y1\",\"text\":[null,null],\"x\":[0,0],\"showlegend\":true,\"mode\":\"lines\",\"name\":\"-z\",\"zmin\":-0.1,\"legendgroup\":\"-z\",\"z\":[0,-20],\"zmax\":0.1,\"line\":{\"color\":\"rgba(128, 128, 128, 1.000)\",\"shape\":\"linear\",\"dash\":\"solid\",\"width\":1},\"y\":[0,0],\"type\":\"scatter3d\",\"hoverinfo\":\"text\"},{\"xaxis\":\"x1\",\"colorbar\":{\"title\":\"\"},\"yaxis\":\"y1\",\"text\":[null,null],\"x\":[0,0],\"showlegend\":true,\"mode\":\"lines\",\"name\":\"+y\",\"zmin\":-0.1,\"legendgroup\":\"+y\",\"z\":[0,0],\"zmax\":0.1,\"line\":{\"color\":\"rgba(0, 0, 0, 1.000)\",\"shape\":\"linear\",\"dash\":\"solid\",\"width\":3},\"y\":[0,20],\"type\":\"scatter3d\",\"hoverinfo\":\"text\"},{\"xaxis\":\"x1\",\"colorbar\":{\"title\":\"\"},\"yaxis\":\"y1\",\"text\":[null,null],\"x\":[0,0],\"showlegend\":true,\"mode\":\"lines\",\"name\":\"-y\",\"zmin\":-0.1,\"legendgroup\":\"-y\",\"z\":[0,0],\"zmax\":0.1,\"line\":{\"color\":\"rgba(128, 128, 128, 1.000)\",\"shape\":\"linear\",\"dash\":\"solid\",\"width\":2},\"y\":[0,-20],\"type\":\"scatter3d\",\"hoverinfo\":\"text\"},{\"xaxis\":\"x1\",\"colorbar\":{\"title\":\"\"},\"yaxis\":\"y1\",\"text\":[null,null],\"x\":[0,20],\"showlegend\":true,\"mode\":\"lines\",\"name\":\"+x\",\"zmin\":-0.1,\"legendgroup\":\"+x\",\"z\":[0,0],\"zmax\":0.1,\"line\":{\"color\":\"rgba(0, 0, 0, 1.000)\",\"shape\":\"linear\",\"dash\":\"solid\",\"width\":3},\"y\":[0,0],\"type\":\"scatter3d\",\"hoverinfo\":\"text\"},{\"xaxis\":\"x1\",\"colorbar\":{\"title\":\"\"},\"yaxis\":\"y1\",\"text\":[null,null],\"x\":[0,-20],\"showlegend\":true,\"mode\":\"lines\",\"name\":\"-x\",\"zmin\":-0.1,\"legendgroup\":\"-x\",\"z\":[0,0],\"zmax\":0.1,\"line\":{\"color\":\"rgba(128, 128, 128, 1.000)\",\"shape\":\"linear\",\"dash\":\"solid\",\"width\":2},\"y\":[0,0],\"type\":\"scatter3d\",\"hoverinfo\":\"text\"}], {\"showlegend\":false,\"paper_bgcolor\":\"rgba(255, 255, 255, 1.000)\",\"annotations\":[{\"yanchor\":\"top\",\"xanchor\":\"center\",\"rotation\":-0.0,\"y\":1.0,\"font\":{\"color\":\"rgba(0, 0, 0, 1.000)\",\"family\":\"sans-serif\",\"size\":20},\"yref\":\"paper\",\"showarrow\":false,\"text\":\"Example 3: Span{p}\",\"xref\":\"paper\",\"x\":0.5222222222222223}],\"height\":400,\"margin\":{\"l\":0,\"b\":20,\"r\":0,\"t\":20},\"plot_bgcolor\":\"rgba(255, 255, 255, 1.000)\",\"scene\":{\"camera\":{\"eye\":{\"y\":-1.9499999999999997,\"z\":1.3,\"x\":1.12583302491977}},\"xaxis\":{\"showticklabels\":true,\"gridwidth\":0.5,\"tickvals\":[-15.0,-10.0,-5.0,0.0,5.0,10.0,15.0],\"visible\":true,\"ticks\":\"inside\",\"range\":[-15.9,15.9],\"domain\":[0.05100612423447069,0.9934383202099737],\"tickmode\":\"array\",\"linecolor\":\"rgba(0, 0, 0, 1.000)\",\"showgrid\":true,\"title\":\"\",\"mirror\":false,\"tickangle\":0,\"showline\":true,\"gridcolor\":\"rgba(0, 0, 0, 0.100)\",\"titlefont\":{\"color\":\"rgba(0, 0, 0, 1.000)\",\"family\":\"sans-serif\",\"size\":15},\"tickcolor\":\"rgb(0, 0, 0)\",\"ticktext\":[\"-15\",\"-10\",\"-5\",\"0\",\"5\",\"10\",\"15\"],\"zeroline\":false,\"type\":\"-\",\"tickfont\":{\"color\":\"rgba(0, 0, 0, 1.000)\",\"family\":\"sans-serif\",\"size\":11},\"zerolinecolor\":\"rgba(0, 0, 0, 1.000)\",\"anchor\":\"y1\"},\"yaxis\":{\"showticklabels\":true,\"gridwidth\":0.5,\"tickvals\":[-15.0,-10.0,-5.0,0.0,5.0,10.0,15.0],\"visible\":true,\"ticks\":\"inside\",\"range\":[-15.9,15.9],\"domain\":[0.03762029746281716,0.9415463692038496],\"tickmode\":\"array\",\"linecolor\":\"rgba(0, 0, 0, 1.000)\",\"showgrid\":true,\"title\":\"\",\"mirror\":false,\"tickangle\":0,\"showline\":true,\"gridcolor\":\"rgba(0, 0, 0, 0.100)\",\"titlefont\":{\"color\":\"rgba(0, 0, 0, 1.000)\",\"family\":\"sans-serif\",\"size\":15},\"tickcolor\":\"rgb(0, 0, 0)\",\"ticktext\":[\"-15\",\"-10\",\"-5\",\"0\",\"5\",\"10\",\"15\"],\"zeroline\":false,\"type\":\"-\",\"tickfont\":{\"color\":\"rgba(0, 0, 0, 1.000)\",\"family\":\"sans-serif\",\"size\":11},\"zerolinecolor\":\"rgba(0, 0, 0, 1.000)\",\"anchor\":\"x1\"},\"zaxis\":{\"showticklabels\":true,\"gridwidth\":0.5,\"tickvals\":[-15.0,-10.0,-5.0,0.0,5.0,10.0,15.0],\"visible\":true,\"ticks\":\"inside\",\"range\":[-15.9,15.9],\"tickmode\":\"array\",\"linecolor\":\"rgba(0, 0, 0, 1.000)\",\"showgrid\":true,\"title\":\"\",\"mirror\":false,\"tickangle\":0,\"showline\":true,\"gridcolor\":\"rgba(0, 0, 0, 0.100)\",\"titlefont\":{\"color\":\"rgba(0, 0, 0, 1.000)\",\"family\":\"sans-serif\",\"size\":15},\"tickcolor\":\"rgb(0, 0, 0)\",\"ticktext\":[\"-15\",\"-10\",\"-5\",\"0\",\"5\",\"10\",\"15\"],\"zeroline\":false,\"type\":\"-\",\"tickfont\":{\"color\":\"rgba(0, 0, 0, 1.000)\",\"family\":\"sans-serif\",\"size\":11},\"zerolinecolor\":\"rgba(0, 0, 0, 1.000)\"}},\"width\":600});\n",
       "    </script>\n"
      ]
     },
     "metadata": {},
     "output_type": "display_data"
    }
   ],
   "source": [
    "# Example 3a: p\n",
    "using Plots\n",
    "plotly()\n",
    "P=[1,-2,-1]; Q=[3,0,1];\n",
    "NumberOfPoints=100;\n",
    "\n",
    "a1=rand(-15:15)*rand();\n",
    "p=P*a1;\n",
    "\n",
    "while abs(p[1])>15 || abs(p[2])>15 || abs(p[3])>15\n",
    "    a1=rand(-15:15)*rand(); \n",
    "    p=P*a1;\n",
    "end\n",
    "\n",
    "d=plot3d(title=\"Example 3: Span{p}\", legend=false, lims=[-15,15])\n",
    "scatter!([p[1], p[1]],[p[2],p[2]],[p[3],p[3]], markercolor=\"black\", markersize=1)\n",
    "\n",
    "if NumberOfPoints>1\n",
    "    for n = 2:NumberOfPoints\n",
    "        a1=rand(-15:15)*rand();\n",
    "        p=P*a1;\n",
    "        while abs(p[1])>15 || abs(p[2])>15 || abs(p[3])>15\n",
    "            a1=rand(-15:15)*rand(); \n",
    "            p=P*a1;   \n",
    "        end\n",
    "        scatter!([p[1], p[1]],[p[2],p[2]],[p[3],p[3]], markercolor=\"black\", markersize=1)\n",
    "    end\n",
    "end\n",
    "\n",
    "plot3d!([0,0],[0,0],[0,20], label=\"+z\", linecolor=\"black\", linewidth=2,lims=[-15,15])\n",
    "plot3d!([0,0],[0,0],[0,-20],  label=\"-z\", linecolor=\"gray\", linewidth=1,lims=[-15,15])\n",
    "plot3d!([0,0],[0,20],[0,0],  label=\"+y\", linecolor=\"black\", linewidth=3,lims=[-15,15])\n",
    "plot3d!([0,0],[0,-20],[0,0],  label=\"-y\", linecolor=\"gray\", linewidth=2,lims=[-15,15])\n",
    "plot3d!([0,20],[0,0],[0,0],  label=\"+x\", linecolor=\"black\", linewidth=3,lims=[-15,15])\n",
    "plot3d!([0,-20],[0,0],[0,0],  label=\"-x\", linecolor=\"gray\", linewidth=2,lims=[-15,15])\n",
    "\n",
    "display(d)"
   ]
  },
  {
   "cell_type": "code",
   "execution_count": 25,
   "metadata": {},
   "outputs": [
    {
     "data": {
      "application/vnd.plotly.v1+json": {
       "data": [
        {
         "colorbar": {
          "title": ""
         },
         "hoverinfo": "text",
         "legendgroup": "-1 p",
         "line": {
          "color": "rgba(255, 0, 0, 1.000)",
          "dash": "solid",
          "shape": "linear",
          "width": 4
         },
         "mode": "lines",
         "name": "-1 p",
         "showlegend": true,
         "text": [
          null,
          null
         ],
         "type": "scatter3d",
         "x": [
          0,
          -1
         ],
         "xaxis": "x1",
         "y": [
          0,
          2
         ],
         "yaxis": "y1",
         "z": [
          0,
          1
         ],
         "zmax": 0.1,
         "zmin": -0.1
        },
        {
         "colorbar": {
          "title": ""
         },
         "hoverinfo": "text",
         "legendgroup": "r endpoint",
         "marker": {
          "color": "rgba(0, 0, 0, 1.000)",
          "line": {
           "color": "rgba(0, 0, 0, 1.000)",
           "width": 1
          },
          "size": 2,
          "symbol": "circle"
         },
         "mode": "markers",
         "name": "r endpoint",
         "showlegend": true,
         "text": [
          null,
          null
         ],
         "type": "scatter3d",
         "x": [
          -1,
          -1
         ],
         "xaxis": "x1",
         "y": [
          2,
          2
         ],
         "yaxis": "y1",
         "z": [
          1,
          1
         ],
         "zmax": 0.1,
         "zmin": -0.1
        },
        {
         "colorbar": {
          "title": ""
         },
         "hoverinfo": "text",
         "legendgroup": "+z",
         "line": {
          "color": "rgba(0, 0, 0, 1.000)",
          "dash": "solid",
          "shape": "linear",
          "width": 2
         },
         "mode": "lines",
         "name": "+z",
         "showlegend": true,
         "text": [
          null,
          null
         ],
         "type": "scatter3d",
         "x": [
          0,
          0
         ],
         "xaxis": "x1",
         "y": [
          0,
          0
         ],
         "yaxis": "y1",
         "z": [
          0,
          20
         ],
         "zmax": 0.1,
         "zmin": -0.1
        },
        {
         "colorbar": {
          "title": ""
         },
         "hoverinfo": "text",
         "legendgroup": "-z",
         "line": {
          "color": "rgba(128, 128, 128, 1.000)",
          "dash": "solid",
          "shape": "linear",
          "width": 1
         },
         "mode": "lines",
         "name": "-z",
         "showlegend": true,
         "text": [
          null,
          null
         ],
         "type": "scatter3d",
         "x": [
          0,
          0
         ],
         "xaxis": "x1",
         "y": [
          0,
          0
         ],
         "yaxis": "y1",
         "z": [
          0,
          -20
         ],
         "zmax": 0.1,
         "zmin": -0.1
        },
        {
         "colorbar": {
          "title": ""
         },
         "hoverinfo": "text",
         "legendgroup": "+y",
         "line": {
          "color": "rgba(0, 0, 0, 1.000)",
          "dash": "solid",
          "shape": "linear",
          "width": 3
         },
         "mode": "lines",
         "name": "+y",
         "showlegend": true,
         "text": [
          null,
          null
         ],
         "type": "scatter3d",
         "x": [
          0,
          0
         ],
         "xaxis": "x1",
         "y": [
          0,
          20
         ],
         "yaxis": "y1",
         "z": [
          0,
          0
         ],
         "zmax": 0.1,
         "zmin": -0.1
        },
        {
         "colorbar": {
          "title": ""
         },
         "hoverinfo": "text",
         "legendgroup": "-y",
         "line": {
          "color": "rgba(128, 128, 128, 1.000)",
          "dash": "solid",
          "shape": "linear",
          "width": 2
         },
         "mode": "lines",
         "name": "-y",
         "showlegend": true,
         "text": [
          null,
          null
         ],
         "type": "scatter3d",
         "x": [
          0,
          0
         ],
         "xaxis": "x1",
         "y": [
          0,
          -20
         ],
         "yaxis": "y1",
         "z": [
          0,
          0
         ],
         "zmax": 0.1,
         "zmin": -0.1
        },
        {
         "colorbar": {
          "title": ""
         },
         "hoverinfo": "text",
         "legendgroup": "+x",
         "line": {
          "color": "rgba(0, 0, 0, 1.000)",
          "dash": "solid",
          "shape": "linear",
          "width": 3
         },
         "mode": "lines",
         "name": "+x",
         "showlegend": true,
         "text": [
          null,
          null
         ],
         "type": "scatter3d",
         "x": [
          0,
          20
         ],
         "xaxis": "x1",
         "y": [
          0,
          0
         ],
         "yaxis": "y1",
         "z": [
          0,
          0
         ],
         "zmax": 0.1,
         "zmin": -0.1
        },
        {
         "colorbar": {
          "title": ""
         },
         "hoverinfo": "text",
         "legendgroup": "-x",
         "line": {
          "color": "rgba(128, 128, 128, 1.000)",
          "dash": "solid",
          "shape": "linear",
          "width": 2
         },
         "mode": "lines",
         "name": "-x",
         "showlegend": true,
         "text": [
          null,
          null
         ],
         "type": "scatter3d",
         "x": [
          0,
          -20
         ],
         "xaxis": "x1",
         "y": [
          0,
          0
         ],
         "yaxis": "y1",
         "z": [
          0,
          0
         ],
         "zmax": 0.1,
         "zmin": -0.1
        }
       ],
       "layout": {
        "annotations": [
         {
          "font": {
           "color": "rgba(0, 0, 0, 1.000)",
           "family": "sans-serif",
           "size": 20
          },
          "rotation": 0,
          "showarrow": false,
          "text": "Example 3a: lin. combinations of p",
          "x": 0.5222222222222223,
          "xanchor": "center",
          "xref": "paper",
          "y": 1,
          "yanchor": "top",
          "yref": "paper"
         }
        ],
        "height": 400,
        "legend": {
         "bgcolor": "rgba(255, 255, 255, 1.000)",
         "bordercolor": "rgba(0, 0, 0, 1.000)",
         "font": {
          "color": "rgba(0, 0, 0, 1.000)",
          "family": "sans-serif",
          "size": 11
         },
         "tracegroupgap": 0,
         "x": 1,
         "y": 1
        },
        "margin": {
         "b": 20,
         "l": 0,
         "r": 0,
         "t": 20
        },
        "paper_bgcolor": "rgba(255, 255, 255, 1.000)",
        "plot_bgcolor": "rgba(255, 255, 255, 1.000)",
        "scene": {
         "camera": {
          "eye": {
           "x": 1.12583302491977,
           "y": -1.9499999999999997,
           "z": 1.3
          }
         },
         "xaxis": {
          "anchor": "y1",
          "domain": [
           0.05100612423447069,
           0.9934383202099737
          ],
          "gridcolor": "rgba(0, 0, 0, 0.100)",
          "gridwidth": 0.5,
          "linecolor": "rgba(0, 0, 0, 1.000)",
          "mirror": false,
          "range": [
           -15.9,
           15.9
          ],
          "showgrid": true,
          "showline": true,
          "showticklabels": true,
          "tickangle": 0,
          "tickcolor": "rgb(0, 0, 0)",
          "tickfont": {
           "color": "rgba(0, 0, 0, 1.000)",
           "family": "sans-serif",
           "size": 11
          },
          "tickmode": "array",
          "ticks": "inside",
          "ticktext": [
           "-15",
           "-10",
           "-5",
           "0",
           "5",
           "10",
           "15"
          ],
          "tickvals": [
           -15,
           -10,
           -5,
           0,
           5,
           10,
           15
          ],
          "title": "",
          "titlefont": {
           "color": "rgba(0, 0, 0, 1.000)",
           "family": "sans-serif",
           "size": 15
          },
          "type": "-",
          "visible": true,
          "zeroline": false,
          "zerolinecolor": "rgba(0, 0, 0, 1.000)"
         },
         "yaxis": {
          "anchor": "x1",
          "domain": [
           0.03762029746281716,
           0.9415463692038496
          ],
          "gridcolor": "rgba(0, 0, 0, 0.100)",
          "gridwidth": 0.5,
          "linecolor": "rgba(0, 0, 0, 1.000)",
          "mirror": false,
          "range": [
           -15.9,
           15.9
          ],
          "showgrid": true,
          "showline": true,
          "showticklabels": true,
          "tickangle": 0,
          "tickcolor": "rgb(0, 0, 0)",
          "tickfont": {
           "color": "rgba(0, 0, 0, 1.000)",
           "family": "sans-serif",
           "size": 11
          },
          "tickmode": "array",
          "ticks": "inside",
          "ticktext": [
           "-15",
           "-10",
           "-5",
           "0",
           "5",
           "10",
           "15"
          ],
          "tickvals": [
           -15,
           -10,
           -5,
           0,
           5,
           10,
           15
          ],
          "title": "",
          "titlefont": {
           "color": "rgba(0, 0, 0, 1.000)",
           "family": "sans-serif",
           "size": 15
          },
          "type": "-",
          "visible": true,
          "zeroline": false,
          "zerolinecolor": "rgba(0, 0, 0, 1.000)"
         },
         "zaxis": {
          "gridcolor": "rgba(0, 0, 0, 0.100)",
          "gridwidth": 0.5,
          "linecolor": "rgba(0, 0, 0, 1.000)",
          "mirror": false,
          "range": [
           -15.9,
           15.9
          ],
          "showgrid": true,
          "showline": true,
          "showticklabels": true,
          "tickangle": 0,
          "tickcolor": "rgb(0, 0, 0)",
          "tickfont": {
           "color": "rgba(0, 0, 0, 1.000)",
           "family": "sans-serif",
           "size": 11
          },
          "tickmode": "array",
          "ticks": "inside",
          "ticktext": [
           "-15",
           "-10",
           "-5",
           "0",
           "5",
           "10",
           "15"
          ],
          "tickvals": [
           -15,
           -10,
           -5,
           0,
           5,
           10,
           15
          ],
          "title": "",
          "titlefont": {
           "color": "rgba(0, 0, 0, 1.000)",
           "family": "sans-serif",
           "size": 15
          },
          "type": "-",
          "visible": true,
          "zeroline": false,
          "zerolinecolor": "rgba(0, 0, 0, 1.000)"
         }
        },
        "showlegend": true,
        "width": 600
       }
      },
      "text/html": [
       "    <div id=\"002f9882-4948-4f22-876f-f4ca8a4bd0b2\" style=\"width:600px;height:400px;\"></div>\n",
       "    <script>\n",
       "    PLOT = document.getElementById('002f9882-4948-4f22-876f-f4ca8a4bd0b2');\n",
       "    Plotly.plot(PLOT, [{\"xaxis\":\"x1\",\"colorbar\":{\"title\":\"\"},\"yaxis\":\"y1\",\"text\":[null,null],\"x\":[0,-1],\"showlegend\":true,\"mode\":\"lines\",\"name\":\"-1 p\",\"zmin\":-0.1,\"legendgroup\":\"-1 p\",\"z\":[0,1],\"zmax\":0.1,\"line\":{\"color\":\"rgba(255, 0, 0, 1.000)\",\"shape\":\"linear\",\"dash\":\"solid\",\"width\":4},\"y\":[0,2],\"type\":\"scatter3d\",\"hoverinfo\":\"text\"},{\"xaxis\":\"x1\",\"colorbar\":{\"title\":\"\"},\"yaxis\":\"y1\",\"text\":[null,null],\"x\":[-1,-1],\"showlegend\":true,\"mode\":\"markers\",\"name\":\"r endpoint\",\"zmin\":-0.1,\"legendgroup\":\"r endpoint\",\"z\":[1,1],\"marker\":{\"symbol\":\"circle\",\"color\":\"rgba(0, 0, 0, 1.000)\",\"line\":{\"color\":\"rgba(0, 0, 0, 1.000)\",\"width\":1},\"size\":2},\"zmax\":0.1,\"y\":[2,2],\"type\":\"scatter3d\",\"hoverinfo\":\"text\"},{\"xaxis\":\"x1\",\"colorbar\":{\"title\":\"\"},\"yaxis\":\"y1\",\"text\":[null,null],\"x\":[0,0],\"showlegend\":true,\"mode\":\"lines\",\"name\":\"+z\",\"zmin\":-0.1,\"legendgroup\":\"+z\",\"z\":[0,20],\"zmax\":0.1,\"line\":{\"color\":\"rgba(0, 0, 0, 1.000)\",\"shape\":\"linear\",\"dash\":\"solid\",\"width\":2},\"y\":[0,0],\"type\":\"scatter3d\",\"hoverinfo\":\"text\"},{\"xaxis\":\"x1\",\"colorbar\":{\"title\":\"\"},\"yaxis\":\"y1\",\"text\":[null,null],\"x\":[0,0],\"showlegend\":true,\"mode\":\"lines\",\"name\":\"-z\",\"zmin\":-0.1,\"legendgroup\":\"-z\",\"z\":[0,-20],\"zmax\":0.1,\"line\":{\"color\":\"rgba(128, 128, 128, 1.000)\",\"shape\":\"linear\",\"dash\":\"solid\",\"width\":1},\"y\":[0,0],\"type\":\"scatter3d\",\"hoverinfo\":\"text\"},{\"xaxis\":\"x1\",\"colorbar\":{\"title\":\"\"},\"yaxis\":\"y1\",\"text\":[null,null],\"x\":[0,0],\"showlegend\":true,\"mode\":\"lines\",\"name\":\"+y\",\"zmin\":-0.1,\"legendgroup\":\"+y\",\"z\":[0,0],\"zmax\":0.1,\"line\":{\"color\":\"rgba(0, 0, 0, 1.000)\",\"shape\":\"linear\",\"dash\":\"solid\",\"width\":3},\"y\":[0,20],\"type\":\"scatter3d\",\"hoverinfo\":\"text\"},{\"xaxis\":\"x1\",\"colorbar\":{\"title\":\"\"},\"yaxis\":\"y1\",\"text\":[null,null],\"x\":[0,0],\"showlegend\":true,\"mode\":\"lines\",\"name\":\"-y\",\"zmin\":-0.1,\"legendgroup\":\"-y\",\"z\":[0,0],\"zmax\":0.1,\"line\":{\"color\":\"rgba(128, 128, 128, 1.000)\",\"shape\":\"linear\",\"dash\":\"solid\",\"width\":2},\"y\":[0,-20],\"type\":\"scatter3d\",\"hoverinfo\":\"text\"},{\"xaxis\":\"x1\",\"colorbar\":{\"title\":\"\"},\"yaxis\":\"y1\",\"text\":[null,null],\"x\":[0,20],\"showlegend\":true,\"mode\":\"lines\",\"name\":\"+x\",\"zmin\":-0.1,\"legendgroup\":\"+x\",\"z\":[0,0],\"zmax\":0.1,\"line\":{\"color\":\"rgba(0, 0, 0, 1.000)\",\"shape\":\"linear\",\"dash\":\"solid\",\"width\":3},\"y\":[0,0],\"type\":\"scatter3d\",\"hoverinfo\":\"text\"},{\"xaxis\":\"x1\",\"colorbar\":{\"title\":\"\"},\"yaxis\":\"y1\",\"text\":[null,null],\"x\":[0,-20],\"showlegend\":true,\"mode\":\"lines\",\"name\":\"-x\",\"zmin\":-0.1,\"legendgroup\":\"-x\",\"z\":[0,0],\"zmax\":0.1,\"line\":{\"color\":\"rgba(128, 128, 128, 1.000)\",\"shape\":\"linear\",\"dash\":\"solid\",\"width\":2},\"y\":[0,0],\"type\":\"scatter3d\",\"hoverinfo\":\"text\"}], {\"showlegend\":true,\"paper_bgcolor\":\"rgba(255, 255, 255, 1.000)\",\"annotations\":[{\"yanchor\":\"top\",\"xanchor\":\"center\",\"rotation\":-0.0,\"y\":1.0,\"font\":{\"color\":\"rgba(0, 0, 0, 1.000)\",\"family\":\"sans-serif\",\"size\":20},\"yref\":\"paper\",\"showarrow\":false,\"text\":\"Example 3a: lin. combinations of p\",\"xref\":\"paper\",\"x\":0.5222222222222223}],\"height\":400,\"margin\":{\"l\":0,\"b\":20,\"r\":0,\"t\":20},\"plot_bgcolor\":\"rgba(255, 255, 255, 1.000)\",\"scene\":{\"camera\":{\"eye\":{\"y\":-1.9499999999999997,\"z\":1.3,\"x\":1.12583302491977}},\"xaxis\":{\"showticklabels\":true,\"gridwidth\":0.5,\"tickvals\":[-15.0,-10.0,-5.0,0.0,5.0,10.0,15.0],\"visible\":true,\"ticks\":\"inside\",\"range\":[-15.9,15.9],\"domain\":[0.05100612423447069,0.9934383202099737],\"tickmode\":\"array\",\"linecolor\":\"rgba(0, 0, 0, 1.000)\",\"showgrid\":true,\"title\":\"\",\"mirror\":false,\"tickangle\":0,\"showline\":true,\"gridcolor\":\"rgba(0, 0, 0, 0.100)\",\"titlefont\":{\"color\":\"rgba(0, 0, 0, 1.000)\",\"family\":\"sans-serif\",\"size\":15},\"tickcolor\":\"rgb(0, 0, 0)\",\"ticktext\":[\"-15\",\"-10\",\"-5\",\"0\",\"5\",\"10\",\"15\"],\"zeroline\":false,\"type\":\"-\",\"tickfont\":{\"color\":\"rgba(0, 0, 0, 1.000)\",\"family\":\"sans-serif\",\"size\":11},\"zerolinecolor\":\"rgba(0, 0, 0, 1.000)\",\"anchor\":\"y1\"},\"yaxis\":{\"showticklabels\":true,\"gridwidth\":0.5,\"tickvals\":[-15.0,-10.0,-5.0,0.0,5.0,10.0,15.0],\"visible\":true,\"ticks\":\"inside\",\"range\":[-15.9,15.9],\"domain\":[0.03762029746281716,0.9415463692038496],\"tickmode\":\"array\",\"linecolor\":\"rgba(0, 0, 0, 1.000)\",\"showgrid\":true,\"title\":\"\",\"mirror\":false,\"tickangle\":0,\"showline\":true,\"gridcolor\":\"rgba(0, 0, 0, 0.100)\",\"titlefont\":{\"color\":\"rgba(0, 0, 0, 1.000)\",\"family\":\"sans-serif\",\"size\":15},\"tickcolor\":\"rgb(0, 0, 0)\",\"ticktext\":[\"-15\",\"-10\",\"-5\",\"0\",\"5\",\"10\",\"15\"],\"zeroline\":false,\"type\":\"-\",\"tickfont\":{\"color\":\"rgba(0, 0, 0, 1.000)\",\"family\":\"sans-serif\",\"size\":11},\"zerolinecolor\":\"rgba(0, 0, 0, 1.000)\",\"anchor\":\"x1\"},\"zaxis\":{\"showticklabels\":true,\"gridwidth\":0.5,\"tickvals\":[-15.0,-10.0,-5.0,0.0,5.0,10.0,15.0],\"visible\":true,\"ticks\":\"inside\",\"range\":[-15.9,15.9],\"tickmode\":\"array\",\"linecolor\":\"rgba(0, 0, 0, 1.000)\",\"showgrid\":true,\"title\":\"\",\"mirror\":false,\"tickangle\":0,\"showline\":true,\"gridcolor\":\"rgba(0, 0, 0, 0.100)\",\"titlefont\":{\"color\":\"rgba(0, 0, 0, 1.000)\",\"family\":\"sans-serif\",\"size\":15},\"tickcolor\":\"rgb(0, 0, 0)\",\"ticktext\":[\"-15\",\"-10\",\"-5\",\"0\",\"5\",\"10\",\"15\"],\"zeroline\":false,\"type\":\"-\",\"tickfont\":{\"color\":\"rgba(0, 0, 0, 1.000)\",\"family\":\"sans-serif\",\"size\":11},\"zerolinecolor\":\"rgba(0, 0, 0, 1.000)\"}},\"legend\":{\"tracegroupgap\":0,\"bordercolor\":\"rgba(0, 0, 0, 1.000)\",\"bgcolor\":\"rgba(255, 255, 255, 1.000)\",\"font\":{\"color\":\"rgba(0, 0, 0, 1.000)\",\"family\":\"sans-serif\",\"size\":11},\"y\":1.0,\"x\":1.0},\"width\":600});\n",
       "    </script>\n"
      ]
     },
     "execution_count": 25,
     "metadata": {},
     "output_type": "execute_result"
    }
   ],
   "source": [
    "# Example 3a: p\n",
    "using Plots\n",
    "plotly()\n",
    "P=[1,-2,-1]; Q=[3,0,1];\n",
    "\n",
    "a1=rand(-15:15); a2=rand(-15:15);\n",
    "p=P*a1; q=Q*a2; \n",
    "\n",
    "while abs(p[1])>15 || abs(p[2])>15 || abs(p[3])>15\n",
    "   a1=rand(-15:15); a2=rand(-15:15);\n",
    "    p=P*a1; q=Q*a2;\n",
    "end\n",
    "\n",
    "xp=[0,p[1]];\n",
    "yp=[0,p[2]];\n",
    "zp=[0,p[3]];\n",
    "plot3d(xp,yp,zp, title=\"Example 3a: lin. combinations of p\", label=\"$a1 p\", linecolor=\"red\", linewidth=4, lims=[-15,15])\n",
    "scatter!([p[1], p[1]],[p[2],p[2]],[p[3],p[3]], markercolor=\"black\", markersize=1, label=\"r endpoint\")\n",
    "\n",
    "plot3d!([0,0],[0,0],[0,20],  label=\"+z\", linecolor=\"black\", linewidth=2,lims=[-15,15])\n",
    "plot3d!([0,0],[0,0],[0,-20],  label=\"-z\", linecolor=\"gray\", linewidth=1,lims=[-15,15])\n",
    "plot3d!([0,0],[0,20],[0,0],  label=\"+y\", linecolor=\"black\", linewidth=3,lims=[-15,15])\n",
    "plot3d!([0,0],[0,-20],[0,0],  label=\"-y\", linecolor=\"gray\", linewidth=2,lims=[-15,15])\n",
    "plot3d!([0,20],[0,0],[0,0],  label=\"+x\", linecolor=\"black\", linewidth=3,lims=[-15,15])\n",
    "plot3d!([0,-20],[0,0],[0,0],  label=\"-x\", linecolor=\"gray\", linewidth=2,lims=[-15,15])"
   ]
  },
  {
   "cell_type": "code",
   "execution_count": null,
   "metadata": {},
   "outputs": [],
   "source": [
    "# Example 3: p,q,r,\n",
    "using Plots\n",
    "plotly()\n",
    "P=[1,-2,-1]; Q=[3,0,1]; R=[-2,1,1];\n",
    "\n",
    "xp=[0,p[1]];\n",
    "yp=[0,p[2]];\n",
    "zp=[0,p[3]];\n",
    "plot3d(xp,yp,zp, title=\"Example 3: p,q,r\", label='p', linecolor=\"red\", linewidth=4, lims=[-5,5])\n",
    "scatter!([p[1], p[1]],[p[2],p[2]],[p[3], p[3]], markercolor=\"red\", markersize=2, label=\"p endpoint\")\n",
    "xq=[0,q[1]];\n",
    "yq=[0,q[2]];\n",
    "zq=[0,q[3]];\n",
    "plot3d!(xq,yq,zq, label='q', linewidth=4, linecolor=\"purple\")\n",
    "scatter!([q[1],q[1]],[q[2],q[2]], [q[3],q[3]], markercolor=\"purple\", markersize=2, label=\"q endpoint\")\n",
    "xr=[0,r[1]];\n",
    "yr=[0,r[2]];\n",
    "zr=[0,r[3]];\n",
    "plot3d!(xr,yr, zr,label='r', linewidth=4, linecolor=\"blue\")\n",
    "scatter!([r[1], r[1]],[r[2],r[2]],[r[3],r[3]], markercolor=\"blue\", markersize=2, label=\"r endpoint\")\n",
    "\n",
    "plot3d!([0,0],[0,0],[0,10],  label=\"+z\", linecolor=\"black\", linewidth=2,lims=[-5,5])\n",
    "plot3d!([0,0],[0,0],[0,-10],  label=\"-z\", linecolor=\"gray\", linewidth=1,lims=[-5,5])\n",
    "plot3d!([0,0],[0,10],[0,0],  label=\"+y\", linecolor=\"black\", linewidth=3,lims=[-5,5])\n",
    "plot3d!([0,0],[0,-10],[0,0],  label=\"-y\", linecolor=\"gray\", linewidth=2,lims=[-5,5])\n",
    "plot3d!([0,10],[0,0],[0,0],  label=\"+x\", linecolor=\"black\", linewidth=3,lims=[-5,5])\n",
    "plot3d!([0,-10],[0,0],[0,0],  label=\"-x\", linecolor=\"gray\", linewidth=2,lims=[-5,5])"
   ]
  }
 ],
 "metadata": {
  "kernelspec": {
   "display_name": "Julia 1.0.3",
   "language": "julia",
   "name": "julia-1.0"
  },
  "language_info": {
   "file_extension": ".jl",
   "mimetype": "application/julia",
   "name": "julia",
   "version": "1.0.3"
  }
 },
 "nbformat": 4,
 "nbformat_minor": 2
}
